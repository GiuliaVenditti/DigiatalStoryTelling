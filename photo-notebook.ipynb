{
 "cells": [
  {
   "cell_type": "markdown",
   "metadata": {},
   "source": [
    "# Fotoreportage\n",
    "\n",
    "Che stiamo facendo?\n",
    "\n",
    "Per adesso solo prove."
   ]
  },
  {
   "cell_type": "code",
   "execution_count": null,
   "metadata": {},
   "outputs": [],
   "source": [
    "sitemap = {\"_id\":\"wordpressphoto\",\"startUrl\":[\"https://www.worldpressphoto.org/collection/photo-contest\"],\"selectors\":[{\"delay\":5000,\"id\":\"scroll\",\"multiple\":true,\"parentSelectors\":[\"_root\"],\"selector\":\"div.swiper-container\",\"type\":\"SelectorElementScroll\"},{\"delay\":0,\"id\":\"link\",\"multiple\":true,\"parentSelectors\":[\"_root\"],\"selector\":\"div:nth-of-type(n+3) a\",\"type\":\"SelectorLink\"},{\"clickElementSelector\":\"div.swiper-btn--next\",\"clickElementUniquenessType\":\"uniqueText\",\"clickType\":\"clickOnce\",\"delay\":2000,\"discardInitialElements\":\"do-not-discard\",\"id\":\"next\",\"multiple\":true,\"parentSelectors\":[\"_root\"],\"selector\":\"div.swiper-btn--next\",\"type\":\"SelectorElementClick\"},{\"delay\":0,\"id\":\"title\",\"multiple\":false,\"parentSelectors\":[\"link\"],\"regex\":\"\",\"selector\":\"h1\",\"type\":\"SelectorText\"},{\"delay\":0,\"id\":\"photographer\",\"multiple\":false,\"parentSelectors\":[\"link\"],\"regex\":\"\",\"selector\":\"h2.title--white\",\"type\":\"SelectorText\"},{\"delay\":0,\"id\":\"shoot day\",\"multiple\":false,\"parentSelectors\":[\"link\"],\"regex\":\"\",\"selector\":\".photo-details__section--general-info p:nth-of-type(1)\",\"type\":\"SelectorText\"},{\"delay\":0,\"id\":\"Publication agency/magazine\",\"multiple\":false,\"parentSelectors\":[\"link\"],\"regex\":\"\",\"selector\":\"p.photo-details\",\"type\":\"SelectorText\"},{\"delay\":0,\"id\":\"award\",\"multiple\":false,\"parentSelectors\":[\"link\"],\"regex\":\"\",\"selector\":\".photo-details__fixed-column-title h5\",\"type\":\"SelectorText\"},{\"delay\":0,\"id\":\"description\",\"multiple\":false,\"parentSelectors\":[\"link\"],\"regex\":\"\",\"selector\":\"div.photo-details__section--general-info\",\"type\":\"SelectorText\"},{\"delay\":0,\"id\":\"Shutter Speed\",\"multiple\":false,\"parentSelectors\":[\"link\"],\"regex\":\"\",\"selector\":\"div.photo-details__feature--shutter\",\"type\":\"SelectorText\"},{\"delay\":0,\"id\":\"Focal length\",\"multiple\":false,\"parentSelectors\":[\"link\"],\"regex\":\"\",\"selector\":\"div.photo-details__feature--length\",\"type\":\"SelectorText\"},{\"delay\":0,\"id\":\"F-Stop\",\"multiple\":false,\"parentSelectors\":[\"link\"],\"regex\":\"\",\"selector\":\"div.photo-details__feature--aperture\",\"type\":\"SelectorText\"},{\"delay\":0,\"id\":\"ISO\",\"multiple\":false,\"parentSelectors\":[\"link\"],\"regex\":\"\",\"selector\":\"div.photo-details__feature--iso\",\"type\":\"SelectorText\"},{\"delay\":0,\"id\":\"Camera\",\"multiple\":false,\"parentSelectors\":[\"link\"],\"regex\":\"\",\"selector\":\"div.photo-details__feature--camera\",\"type\":\"SelectorText\"}]}"
   ]
  }
 ],
 "metadata": {
  "language_info": {
   "name": "python"
  },
  "orig_nbformat": 4
 },
 "nbformat": 4,
 "nbformat_minor": 2
}
