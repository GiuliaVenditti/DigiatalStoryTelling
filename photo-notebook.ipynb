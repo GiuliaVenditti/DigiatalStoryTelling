{
 "cells": [
  {
   "cell_type": "markdown",
   "metadata": {},
   "source": [
    "# Fotoreportage\n",
    "\n",
    "Che stiamo facendo?\n",
    "\n",
    "Per adesso solo prove."
   ]
  }
 ],
 "metadata": {
  "language_info": {
   "name": "python"
  },
  "orig_nbformat": 4
 },
 "nbformat": 4,
 "nbformat_minor": 2
}
