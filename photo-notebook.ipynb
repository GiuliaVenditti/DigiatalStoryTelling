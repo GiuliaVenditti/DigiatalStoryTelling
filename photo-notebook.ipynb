{
 "cells": [
  {
   "cell_type": "markdown",
   "metadata": {},
   "source": [
    "# The Other Side of the Lenss.\n",
    "\n",
    "## Abstract\n",
    "\n",
    "\n",
    "Photojournalists are a backbone of photography, they carry out a job that can hardly be replaced because they testify to the facts, events and changes that take place around us. The issue is that they are always less famous as they diserve to be. In this study we interrogate ourself if this behaviour is throuth or not just by looking to data. \n",
    "\n",
    "We took data from World Press Photo Archive, where we took information about awarded photographs and their authors, and artsy.net, a art market place, from which we took info about photographs and photorgaphers. \n",
    "\n",
    "Missing information about photographer pubblications, awards and links are taken from wikidata api. \n"
   ]
  },
  {
   "cell_type": "code",
   "execution_count": 1,
   "metadata": {},
   "outputs": [],
   "source": [
    "sitemap = '{\"_id\":\"wordpressphoto\",\"startUrl\":[\"https://www.worldpressphoto.org/collection/photo-contest\"],\"selectors\":[{\"delay\":5000,\"id\":\"scroll\",\"multiple\":true,\"parentSelectors\":[\"_root\"],\"selector\":\"div.swiper-container\",\"type\":\"SelectorElementScroll\"},{\"delay\":0,\"id\":\"link\",\"multiple\":true,\"parentSelectors\":[\"_root\"],\"selector\":\"div:nth-of-type(n+3) a\",\"type\":\"SelectorLink\"},{\"clickElementSelector\":\"div.swiper-btn--next\",\"clickElementUniquenessType\":\"uniqueText\",\"clickType\":\"clickOnce\",\"delay\":2000,\"discardInitialElements\":\"do-not-discard\",\"id\":\"next\",\"multiple\":true,\"parentSelectors\":[\"_root\"],\"selector\":\"div.swiper-btn--next\",\"type\":\"SelectorElementClick\"},{\"delay\":0,\"id\":\"title\",\"multiple\":false,\"parentSelectors\":[\"link\"],\"regex\":\"\",\"selector\":\"h1\",\"type\":\"SelectorText\"},{\"delay\":0,\"id\":\"photographer\",\"multiple\":false,\"parentSelectors\":[\"link\"],\"regex\":\"\",\"selector\":\"h2.title--white\",\"type\":\"SelectorText\"},{\"delay\":0,\"id\":\"shoot day\",\"multiple\":false,\"parentSelectors\":[\"link\"],\"regex\":\"\",\"selector\":\".photo-details__section--general-info p:nth-of-type(1)\",\"type\":\"SelectorText\"},{\"delay\":0,\"id\":\"Publication agency/magazine\",\"multiple\":false,\"parentSelectors\":[\"link\"],\"regex\":\"\",\"selector\":\"p.photo-details\",\"type\":\"SelectorText\"},{\"delay\":0,\"id\":\"award\",\"multiple\":false,\"parentSelectors\":[\"link\"],\"regex\":\"\",\"selector\":\".photo-details__fixed-column-title h5\",\"type\":\"SelectorText\"},{\"delay\":0,\"id\":\"description\",\"multiple\":false,\"parentSelectors\":[\"link\"],\"regex\":\"\",\"selector\":\"div.photo-details__section--general-info\",\"type\":\"SelectorText\"},{\"delay\":0,\"id\":\"Shutter Speed\",\"multiple\":false,\"parentSelectors\":[\"link\"],\"regex\":\"\",\"selector\":\"div.photo-details__feature--shutter\",\"type\":\"SelectorText\"},{\"delay\":0,\"id\":\"Focal length\",\"multiple\":false,\"parentSelectors\":[\"link\"],\"regex\":\"\",\"selector\":\"div.photo-details__feature--length\",\"type\":\"SelectorText\"},{\"delay\":0,\"id\":\"F-Stop\",\"multiple\":false,\"parentSelectors\":[\"link\"],\"regex\":\"\",\"selector\":\"div.photo-details__feature--aperture\",\"type\":\"SelectorText\"},{\"delay\":0,\"id\":\"ISO\",\"multiple\":false,\"parentSelectors\":[\"link\"],\"regex\":\"\",\"selector\":\"div.photo-details__feature--iso\",\"type\":\"SelectorText\"},{\"delay\":0,\"id\":\"Camera\",\"multiple\":false,\"parentSelectors\":[\"link\"],\"regex\":\"\",\"selector\":\"div.photo-details__feature--camera\",\"type\":\"SelectorText\"}]}'"
   ]
  },
  {
   "cell_type": "code",
   "execution_count": 1,
   "metadata": {},
   "outputs": [],
   "source": [
    "#!pip install qwikidata\n",
    "import pprint\n",
    "import requests\n",
    "from qwikidata.sparql  import return_sparql_query_results\n",
    "\n",
    "pp = pprint.PrettyPrinter(indent=1)\n",
    "\n",
    "def wikidata_reconciliation(query, q_class=None):\n",
    "    print(query)\n",
    "    \"\"\" query wd apis and print in a json file the results of reconciliation \"\"\"\n",
    "    for q in query:\n",
    "        print(q)\n",
    "        API_WD = \"https://www.wikidata.org/w/api.php\"\n",
    "        params = {\n",
    "            'action': 'wbsearchentities',\n",
    "            'format': 'json',\n",
    "            'language': 'en',\n",
    "            'search': q # the query string\n",
    "        }\n",
    "        \n",
    "        # query wd API    \n",
    "        r = requests.get(API_WD, params = params).json() \n",
    "        pp.pprint(r) # the response\n",
    "        \n",
    "        # iterate over results (if there is any)\n",
    "        if 'search' in r and len(r['search']) >= 1:\n",
    "            # if specified, double check if the entity belongs to the class\n",
    "            if q_class:\n",
    "                qid= r['search'][0]['title']\n",
    "                query_string = \"\"\"ASK {wd:\"\"\"+qid+\"\"\" wdt:P31 wd:\"\"\"+q_class+\"\"\". }\"\"\"\n",
    "                \n",
    "                # query WD endpoint this time!\n",
    "                res = return_sparql_query_results(query_string) \n",
    "                print(\"\\n my string:\", query, \"\\n the query to WD endpoint:\", query_string, \"\\n the result:\",res)\n",
    "                \n",
    "                if res[\"boolean\"] == True: \n",
    "                    print( r['search'][0]['title'] , 'the class matches :)')\n",
    "                else:\n",
    "                    print( r['search'][0]['title'] , 'the class does not match :(')\n",
    "            else:\n",
    "                print( r['search'][0]['title'] , 'no class was given')\n",
    "        else:\n",
    "            print( 'no results matching the query string')"
   ]
  },
  {
   "cell_type": "code",
   "execution_count": 2,
   "metadata": {},
   "outputs": [
    {
     "name": "stdout",
     "output_type": "stream",
     "text": [
      "['Mads Nissen', 'Antonio Faccilongo']\n",
      "Mads Nissen\n",
      "{'search': [{'concepturi': 'http://www.wikidata.org/entity/Q1883500',\n",
      "             'description': 'Danish photographer',\n",
      "             'id': 'Q1883500',\n",
      "             'label': 'Mads Nissen',\n",
      "             'match': {'language': 'en',\n",
      "                       'text': 'Mads Nissen',\n",
      "                       'type': 'label'},\n",
      "             'pageid': 1813681,\n",
      "             'repository': 'wikidata',\n",
      "             'title': 'Q1883500',\n",
      "             'url': '//www.wikidata.org/wiki/Q1883500'},\n",
      "            {'concepturi': 'http://www.wikidata.org/entity/Q12325639',\n",
      "             'id': 'Q12325639',\n",
      "             'label': 'Mads Nissen Styrk',\n",
      "             'match': {'language': 'en',\n",
      "                       'text': 'Mads Nissen Styrk',\n",
      "                       'type': 'label'},\n",
      "             'pageid': 13538046,\n",
      "             'repository': 'wikidata',\n",
      "             'title': 'Q12325639',\n",
      "             'url': '//www.wikidata.org/wiki/Q12325639'}],\n",
      " 'searchinfo': {'search': 'Mads Nissen'},\n",
      " 'success': 1}\n",
      "\n",
      " my string: ['Mads Nissen', 'Antonio Faccilongo'] \n",
      " the query to WD endpoint: ASK {wd:Q1883500 wdt:P31 wd:Q5. } \n",
      " the result: {'head': {}, 'boolean': True}\n",
      "Q1883500 the class matches :)\n",
      "Antonio Faccilongo\n",
      "{'search': [{'concepturi': 'http://www.wikidata.org/entity/Q106728172',\n",
      "             'description': 'Italian photographer and filmmaker',\n",
      "             'id': 'Q106728172',\n",
      "             'label': 'Antonio Faccilongo',\n",
      "             'match': {'language': 'en',\n",
      "                       'text': 'Antonio Faccilongo',\n",
      "                       'type': 'label'},\n",
      "             'pageid': 101998239,\n",
      "             'repository': 'wikidata',\n",
      "             'title': 'Q106728172',\n",
      "             'url': '//www.wikidata.org/wiki/Q106728172'}],\n",
      " 'searchinfo': {'search': 'Antonio Faccilongo'},\n",
      " 'success': 1}\n",
      "\n",
      " my string: ['Mads Nissen', 'Antonio Faccilongo'] \n",
      " the query to WD endpoint: ASK {wd:Q106728172 wdt:P31 wd:Q5. } \n",
      " the result: {'head': {}, 'boolean': True}\n",
      "Q106728172 the class matches :)\n"
     ]
    }
   ],
   "source": [
    "fotografi = [\"Mads Nissen\", \"Antonio Faccilongo\"]\n",
    "\n",
    "wikidata_reconciliation(fotografi, \"Q5\") \n",
    "#passare lista fotografi unici"
   ]
  }
 ],
 "metadata": {
  "interpreter": {
   "hash": "aee8b7b246df8f9039afb4144a1f6fd8d2ca17a180786b69acc140d282b71a49"
  },
  "kernelspec": {
   "display_name": "Python 3.9.4 64-bit",
   "language": "python",
   "name": "python3"
  },
  "language_info": {
   "codemirror_mode": {
    "name": "ipython",
    "version": 3
   },
   "file_extension": ".py",
   "mimetype": "text/x-python",
   "name": "python",
   "nbconvert_exporter": "python",
   "pygments_lexer": "ipython3",
   "version": "3.9.0"
  },
  "orig_nbformat": 4
 },
 "nbformat": 4,
 "nbformat_minor": 2
}
