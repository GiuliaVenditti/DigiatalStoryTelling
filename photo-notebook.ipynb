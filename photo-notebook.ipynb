{
 "cells": [
  {
   "cell_type": "markdown",
   "metadata": {},
   "source": [
    "# The Other Side of the Lenss.\n",
    "\n",
    "## Abstract\n",
    "\n",
    "Photojournalists are a backbone of photography, they carry out a job that can hardly be replaced because they testify to the facts, events and changes that take place around us. The issue is that they are always less famous as they diserve to be. In this study we interrogate ourself if this behaviour is throuth or not just by looking to data. \n",
    "\n",
    "We took data from World Press Photo Archive, where we took information about awarded photographs and their authors, and artsy.net, a art market place, from which we took info about photographs and photorgaphers. \n",
    "\n",
    "Missing information about photographer pubblications, awards and links are taken from wikidata api. \n"
   ]
  },
  {
   "cell_type": "markdown",
   "metadata": {},
   "source": [
    "***Get Data***\n",
    "\n",
    "In order to take data about photographs we scrape the World Press Photo. We know that photographer has the world person in the URI, so we select any photographer's link from the World Press Photo sitemap."
   ]
  },
  {
   "cell_type": "code",
   "execution_count": null,
   "metadata": {},
   "outputs": [],
   "source": [
    "import requests\n",
    "from bs4 import BeautifulSoup\n",
    "import pprint as pp\n",
    "\n",
    "sitemap = '{\"_id\":\"wordpressphoto\",\"startUrl\":[\"https://www.worldpressphoto.org/collection/photo-contest\"],\"selectors\":[{\"id\":\"scroll\",\"parentSelectors\":[\"_root\"],\"type\":\"SelectorElementScroll\",\"selector\":\"div.swiper-container\",\"multiple\":true,\"delay\":5000},{\"id\":\"link\",\"parentSelectors\":[\"_root\"],\"type\":\"SelectorLink\",\"selector\":\"div:nth-of-type(n+3) a\",\"multiple\":true,\"delay\":0},{\"id\":\"next\",\"parentSelectors\":[\"_root\"],\"type\":\"SelectorElementClick\",\"clickElementSelector\":\"div.swiper-btn--next\",\"clickElementUniquenessType\":\"uniqueText\",\"clickType\":\"clickOnce\",\"delay\":2000,\"discardInitialElements\":\"do-not-discard\",\"multiple\":true,\"selector\":\"div.swiper-btn--next\"},{\"id\":\"title\",\"parentSelectors\":[\"link\"],\"type\":\"SelectorText\",\"selector\":\"h1\",\"multiple\":false,\"delay\":0,\"regex\":\"\"},{\"id\":\"photographer\",\"parentSelectors\":[\"link\"],\"type\":\"SelectorText\",\"selector\":\"h2.title--white\",\"multiple\":false,\"delay\":0,\"regex\":\"\"},{\"id\":\"shoot day\",\"parentSelectors\":[\"link\"],\"type\":\"SelectorText\",\"selector\":\".photo-details__section--general-info p:nth-of-type(1)\",\"multiple\":false,\"delay\":0,\"regex\":\"\"},{\"id\":\"genere\",\"parentSelectors\":[\"link\"],\"type\":\"SelectorText\",\"selector\":\"p.photo-details\",\"multiple\":false,\"delay\":0,\"regex\":\"\"},{\"id\":\"award\",\"parentSelectors\":[\"link\"],\"type\":\"SelectorText\",\"selector\":\".photo-details__fixed-column-title h5\",\"multiple\":false,\"delay\":0,\"regex\":\"\"},{\"id\":\"description\",\"parentSelectors\":[\"link\"],\"type\":\"SelectorText\",\"selector\":\"div.photo-details__section--general-info\",\"multiple\":false,\"delay\":0,\"regex\":\"\"},{\"id\":\"Shutter Speed\",\"parentSelectors\":[\"link\"],\"type\":\"SelectorText\",\"selector\":\"div.photo-details__feature--shutter\",\"multiple\":false,\"delay\":0,\"regex\":\"\"},{\"id\":\"Focal length\",\"parentSelectors\":[\"link\"],\"type\":\"SelectorText\",\"selector\":\"div.photo-details__feature--length\",\"multiple\":false,\"delay\":0,\"regex\":\"\"},{\"id\":\"F-Stop\",\"parentSelectors\":[\"link\"],\"type\":\"SelectorText\",\"selector\":\"div.photo-details__feature--aperture\",\"multiple\":false,\"delay\":0,\"regex\":\"\"},{\"id\":\"ISO\",\"parentSelectors\":[\"link\"],\"type\":\"SelectorText\",\"selector\":\"div.photo-details__feature--iso\",\"multiple\":false,\"delay\":0,\"regex\":\"\"},{\"id\":\"Camera\",\"parentSelectors\":[\"link\"],\"type\":\"SelectorText\",\"selector\":\"div.photo-details__feature--camera\",\"multiple\":false,\"delay\":0,\"regex\":\"\"}]}'\n",
    "\n",
    "url = 'https://www.worldpressphoto.org/sitemap.xml'\n",
    "\n",
    "r = requests.get(url)\n",
    "\n",
    "sp = BeautifulSoup(r.text, 'html')\n",
    "\n",
    "links = sp.find_all('loc')\n",
    "print(len(links))\n",
    "\n",
    "photographers = []\n",
    "\n",
    "for link in links:\n",
    "    if 'person' in link.text:\n",
    "        photographers.append(str(link.text))\n",
    "print(photographers)\n",
    "\n",
    "\n"
   ]
  },
  {
   "cell_type": "markdown",
   "metadata": {},
   "source": [
    "Than we storage all the information provided by all the links in CSV format."
   ]
  },
  {
   "cell_type": "code",
   "execution_count": 46,
   "metadata": {},
   "outputs": [
    {
     "name": "stdout",
     "output_type": "stream",
     "text": [
      "A New Age of Walls team\n",
      "A. Wildenberg\n",
      "Aapo Huhta\n",
      "Aaron Goodman\n",
      "Aaron Huey\n",
      "Abbas Kowsari\n",
      "Abbie Trayler-Smith\n",
      "Abby Nicolas\n",
      "Abd Doumany\n",
      "Abdellah Azizi\n"
     ]
    },
    {
     "ename": "KeyboardInterrupt",
     "evalue": "",
     "output_type": "error",
     "traceback": [
      "\u001b[0;31m---------------------------------------------------------------------------\u001b[0m",
      "\u001b[0;31mKeyboardInterrupt\u001b[0m                         Traceback (most recent call last)",
      "\u001b[1;32m/Users/giuliavenditti/Desktop/fotoreportage/photo-notebook.ipynb Cell 5'\u001b[0m in \u001b[0;36m<module>\u001b[0;34m\u001b[0m\n\u001b[1;32m      <a href='vscode-notebook-cell:/Users/giuliavenditti/Desktop/fotoreportage/photo-notebook.ipynb#ch0000008?line=1'>2</a>\u001b[0m page \u001b[39m=\u001b[39m requests\u001b[39m.\u001b[39mget(url)\n\u001b[1;32m      <a href='vscode-notebook-cell:/Users/giuliavenditti/Desktop/fotoreportage/photo-notebook.ipynb#ch0000008?line=3'>4</a>\u001b[0m soup \u001b[39m=\u001b[39m BeautifulSoup(page\u001b[39m.\u001b[39mcontent, \u001b[39m\"\u001b[39m\u001b[39mhtml.parser\u001b[39m\u001b[39m\"\u001b[39m)\n\u001b[0;32m----> <a href='vscode-notebook-cell:/Users/giuliavenditti/Desktop/fotoreportage/photo-notebook.ipynb#ch0000008?line=5'>6</a>\u001b[0m \u001b[39mfor\u001b[39;00m photographer \u001b[39min\u001b[39;00m soup\u001b[39m.\u001b[39;49mselect(\u001b[39m'\u001b[39;49m\u001b[39mdiv.text-widget h1\u001b[39;49m\u001b[39m'\u001b[39;49m):\n\u001b[1;32m      <a href='vscode-notebook-cell:/Users/giuliavenditti/Desktop/fotoreportage/photo-notebook.ipynb#ch0000008?line=6'>7</a>\u001b[0m     \u001b[39mprint\u001b[39m(photographer\u001b[39m.\u001b[39mtext)\n",
      "File \u001b[0;32m/Library/Frameworks/Python.framework/Versions/3.9/lib/python3.9/site-packages/bs4/element.py:1949\u001b[0m, in \u001b[0;36mTag.select\u001b[0;34m(self, selector, namespaces, limit, **kwargs)\u001b[0m\n\u001b[1;32m   <a href='file:///Library/Frameworks/Python.framework/Versions/3.9/lib/python3.9/site-packages/bs4/element.py?line=1943'>1944</a>\u001b[0m \u001b[39mif\u001b[39;00m soupsieve \u001b[39mis\u001b[39;00m \u001b[39mNone\u001b[39;00m:\n\u001b[1;32m   <a href='file:///Library/Frameworks/Python.framework/Versions/3.9/lib/python3.9/site-packages/bs4/element.py?line=1944'>1945</a>\u001b[0m     \u001b[39mraise\u001b[39;00m \u001b[39mNotImplementedError\u001b[39;00m(\n\u001b[1;32m   <a href='file:///Library/Frameworks/Python.framework/Versions/3.9/lib/python3.9/site-packages/bs4/element.py?line=1945'>1946</a>\u001b[0m         \u001b[39m\"\u001b[39m\u001b[39mCannot execute CSS selectors because the soupsieve package is not installed.\u001b[39m\u001b[39m\"\u001b[39m\n\u001b[1;32m   <a href='file:///Library/Frameworks/Python.framework/Versions/3.9/lib/python3.9/site-packages/bs4/element.py?line=1946'>1947</a>\u001b[0m     )\n\u001b[0;32m-> <a href='file:///Library/Frameworks/Python.framework/Versions/3.9/lib/python3.9/site-packages/bs4/element.py?line=1948'>1949</a>\u001b[0m results \u001b[39m=\u001b[39m soupsieve\u001b[39m.\u001b[39;49mselect(selector, \u001b[39mself\u001b[39;49m, namespaces, limit, \u001b[39m*\u001b[39;49m\u001b[39m*\u001b[39;49mkwargs)\n\u001b[1;32m   <a href='file:///Library/Frameworks/Python.framework/Versions/3.9/lib/python3.9/site-packages/bs4/element.py?line=1950'>1951</a>\u001b[0m \u001b[39m# We do this because it's more consistent and because\u001b[39;00m\n\u001b[1;32m   <a href='file:///Library/Frameworks/Python.framework/Versions/3.9/lib/python3.9/site-packages/bs4/element.py?line=1951'>1952</a>\u001b[0m \u001b[39m# ResultSet.__getattr__ has a helpful error message.\u001b[39;00m\n\u001b[1;32m   <a href='file:///Library/Frameworks/Python.framework/Versions/3.9/lib/python3.9/site-packages/bs4/element.py?line=1952'>1953</a>\u001b[0m \u001b[39mreturn\u001b[39;00m ResultSet(\u001b[39mNone\u001b[39;00m, results)\n",
      "File \u001b[0;32m/Library/Frameworks/Python.framework/Versions/3.9/lib/python3.9/site-packages/soupsieve/__init__.py:144\u001b[0m, in \u001b[0;36mselect\u001b[0;34m(select, tag, namespaces, limit, flags, custom, **kwargs)\u001b[0m\n\u001b[1;32m    <a href='file:///Library/Frameworks/Python.framework/Versions/3.9/lib/python3.9/site-packages/soupsieve/__init__.py?line=131'>132</a>\u001b[0m \u001b[39mdef\u001b[39;00m \u001b[39mselect\u001b[39m(\n\u001b[1;32m    <a href='file:///Library/Frameworks/Python.framework/Versions/3.9/lib/python3.9/site-packages/soupsieve/__init__.py?line=132'>133</a>\u001b[0m     select: \u001b[39mstr\u001b[39m,\n\u001b[1;32m    <a href='file:///Library/Frameworks/Python.framework/Versions/3.9/lib/python3.9/site-packages/soupsieve/__init__.py?line=133'>134</a>\u001b[0m     tag: \u001b[39m'\u001b[39m\u001b[39mbs4.Tag\u001b[39m\u001b[39m'\u001b[39m,\n\u001b[0;32m   (...)\u001b[0m\n\u001b[1;32m    <a href='file:///Library/Frameworks/Python.framework/Versions/3.9/lib/python3.9/site-packages/soupsieve/__init__.py?line=139'>140</a>\u001b[0m     \u001b[39m*\u001b[39m\u001b[39m*\u001b[39mkwargs: Any\n\u001b[1;32m    <a href='file:///Library/Frameworks/Python.framework/Versions/3.9/lib/python3.9/site-packages/soupsieve/__init__.py?line=140'>141</a>\u001b[0m ) \u001b[39m-\u001b[39m\u001b[39m>\u001b[39m List[\u001b[39m'\u001b[39m\u001b[39mbs4.Tag\u001b[39m\u001b[39m'\u001b[39m]:\n\u001b[1;32m    <a href='file:///Library/Frameworks/Python.framework/Versions/3.9/lib/python3.9/site-packages/soupsieve/__init__.py?line=141'>142</a>\u001b[0m     \u001b[39m\"\"\"Select the specified tags.\"\"\"\u001b[39;00m\n\u001b[0;32m--> <a href='file:///Library/Frameworks/Python.framework/Versions/3.9/lib/python3.9/site-packages/soupsieve/__init__.py?line=143'>144</a>\u001b[0m     \u001b[39mreturn\u001b[39;00m \u001b[39mcompile\u001b[39;49m(select, namespaces, flags, \u001b[39m*\u001b[39;49m\u001b[39m*\u001b[39;49mkwargs)\u001b[39m.\u001b[39;49mselect(tag, limit)\n",
      "File \u001b[0;32m/Library/Frameworks/Python.framework/Versions/3.9/lib/python3.9/site-packages/soupsieve/css_match.py:1563\u001b[0m, in \u001b[0;36mSoupSieve.select\u001b[0;34m(self, tag, limit)\u001b[0m\n\u001b[1;32m   <a href='file:///Library/Frameworks/Python.framework/Versions/3.9/lib/python3.9/site-packages/soupsieve/css_match.py?line=1559'>1560</a>\u001b[0m \u001b[39mdef\u001b[39;00m \u001b[39mselect\u001b[39m(\u001b[39mself\u001b[39m, tag: \u001b[39m'\u001b[39m\u001b[39mbs4.Tag\u001b[39m\u001b[39m'\u001b[39m, limit: \u001b[39mint\u001b[39m \u001b[39m=\u001b[39m \u001b[39m0\u001b[39m) \u001b[39m-\u001b[39m\u001b[39m>\u001b[39m List[\u001b[39m'\u001b[39m\u001b[39mbs4.Tag\u001b[39m\u001b[39m'\u001b[39m]:\n\u001b[1;32m   <a href='file:///Library/Frameworks/Python.framework/Versions/3.9/lib/python3.9/site-packages/soupsieve/css_match.py?line=1560'>1561</a>\u001b[0m     \u001b[39m\"\"\"Select the specified tags.\"\"\"\u001b[39;00m\n\u001b[0;32m-> <a href='file:///Library/Frameworks/Python.framework/Versions/3.9/lib/python3.9/site-packages/soupsieve/css_match.py?line=1562'>1563</a>\u001b[0m     \u001b[39mreturn\u001b[39;00m \u001b[39mlist\u001b[39;49m(\u001b[39mself\u001b[39;49m\u001b[39m.\u001b[39;49miselect(tag, limit))\n",
      "File \u001b[0;32m/Library/Frameworks/Python.framework/Versions/3.9/lib/python3.9/site-packages/soupsieve/css_match.py:1568\u001b[0m, in \u001b[0;36mSoupSieve.iselect\u001b[0;34m(self, tag, limit)\u001b[0m\n\u001b[1;32m   <a href='file:///Library/Frameworks/Python.framework/Versions/3.9/lib/python3.9/site-packages/soupsieve/css_match.py?line=1564'>1565</a>\u001b[0m \u001b[39mdef\u001b[39;00m \u001b[39miselect\u001b[39m(\u001b[39mself\u001b[39m, tag: \u001b[39m'\u001b[39m\u001b[39mbs4.Tag\u001b[39m\u001b[39m'\u001b[39m, limit: \u001b[39mint\u001b[39m \u001b[39m=\u001b[39m \u001b[39m0\u001b[39m) \u001b[39m-\u001b[39m\u001b[39m>\u001b[39m Iterator[\u001b[39m'\u001b[39m\u001b[39mbs4.Tag\u001b[39m\u001b[39m'\u001b[39m]:\n\u001b[1;32m   <a href='file:///Library/Frameworks/Python.framework/Versions/3.9/lib/python3.9/site-packages/soupsieve/css_match.py?line=1565'>1566</a>\u001b[0m     \u001b[39m\"\"\"Iterate the specified tags.\"\"\"\u001b[39;00m\n\u001b[0;32m-> <a href='file:///Library/Frameworks/Python.framework/Versions/3.9/lib/python3.9/site-packages/soupsieve/css_match.py?line=1567'>1568</a>\u001b[0m     \u001b[39mfor\u001b[39;00m el \u001b[39min\u001b[39;00m CSSMatch(\u001b[39mself\u001b[39m\u001b[39m.\u001b[39mselectors, tag, \u001b[39mself\u001b[39m\u001b[39m.\u001b[39mnamespaces, \u001b[39mself\u001b[39m\u001b[39m.\u001b[39mflags)\u001b[39m.\u001b[39mselect(limit):\n\u001b[1;32m   <a href='file:///Library/Frameworks/Python.framework/Versions/3.9/lib/python3.9/site-packages/soupsieve/css_match.py?line=1568'>1569</a>\u001b[0m         \u001b[39myield\u001b[39;00m el\n",
      "File \u001b[0;32m/Library/Frameworks/Python.framework/Versions/3.9/lib/python3.9/site-packages/soupsieve/css_match.py:1467\u001b[0m, in \u001b[0;36mCSSMatch.select\u001b[0;34m(self, limit)\u001b[0m\n\u001b[1;32m   <a href='file:///Library/Frameworks/Python.framework/Versions/3.9/lib/python3.9/site-packages/soupsieve/css_match.py?line=1462'>1463</a>\u001b[0m \u001b[39m\"\"\"Match all tags under the targeted tag.\"\"\"\u001b[39;00m\n\u001b[1;32m   <a href='file:///Library/Frameworks/Python.framework/Versions/3.9/lib/python3.9/site-packages/soupsieve/css_match.py?line=1464'>1465</a>\u001b[0m lim \u001b[39m=\u001b[39m \u001b[39mNone\u001b[39;00m \u001b[39mif\u001b[39;00m limit \u001b[39m<\u001b[39m \u001b[39m1\u001b[39m \u001b[39melse\u001b[39;00m limit\n\u001b[0;32m-> <a href='file:///Library/Frameworks/Python.framework/Versions/3.9/lib/python3.9/site-packages/soupsieve/css_match.py?line=1466'>1467</a>\u001b[0m \u001b[39mfor\u001b[39;00m child \u001b[39min\u001b[39;00m \u001b[39mself\u001b[39m\u001b[39m.\u001b[39mget_descendants(\u001b[39mself\u001b[39m\u001b[39m.\u001b[39mtag):\n\u001b[1;32m   <a href='file:///Library/Frameworks/Python.framework/Versions/3.9/lib/python3.9/site-packages/soupsieve/css_match.py?line=1467'>1468</a>\u001b[0m     \u001b[39mif\u001b[39;00m \u001b[39mself\u001b[39m\u001b[39m.\u001b[39mmatch(child):\n\u001b[1;32m   <a href='file:///Library/Frameworks/Python.framework/Versions/3.9/lib/python3.9/site-packages/soupsieve/css_match.py?line=1468'>1469</a>\u001b[0m         \u001b[39myield\u001b[39;00m child\n",
      "File \u001b[0;32m/Library/Frameworks/Python.framework/Versions/3.9/lib/python3.9/site-packages/soupsieve/css_match.py:206\u001b[0m, in \u001b[0;36m_DocumentNav.get_descendants\u001b[0;34m(self, el, tags, no_iframe)\u001b[0m\n\u001b[1;32m    <a href='file:///Library/Frameworks/Python.framework/Versions/3.9/lib/python3.9/site-packages/soupsieve/css_match.py?line=203'>204</a>\u001b[0m \u001b[39mif\u001b[39;00m \u001b[39mnot\u001b[39;00m no_iframe \u001b[39mor\u001b[39;00m \u001b[39mnot\u001b[39;00m \u001b[39mself\u001b[39m\u001b[39m.\u001b[39mis_iframe(el):\n\u001b[1;32m    <a href='file:///Library/Frameworks/Python.framework/Versions/3.9/lib/python3.9/site-packages/soupsieve/css_match.py?line=204'>205</a>\u001b[0m     next_good \u001b[39m=\u001b[39m \u001b[39mNone\u001b[39;00m\n\u001b[0;32m--> <a href='file:///Library/Frameworks/Python.framework/Versions/3.9/lib/python3.9/site-packages/soupsieve/css_match.py?line=205'>206</a>\u001b[0m     \u001b[39mfor\u001b[39;00m child \u001b[39min\u001b[39;00m el\u001b[39m.\u001b[39mdescendants:\n\u001b[1;32m    <a href='file:///Library/Frameworks/Python.framework/Versions/3.9/lib/python3.9/site-packages/soupsieve/css_match.py?line=207'>208</a>\u001b[0m         \u001b[39mif\u001b[39;00m next_good \u001b[39mis\u001b[39;00m \u001b[39mnot\u001b[39;00m \u001b[39mNone\u001b[39;00m:\n\u001b[1;32m    <a href='file:///Library/Frameworks/Python.framework/Versions/3.9/lib/python3.9/site-packages/soupsieve/css_match.py?line=208'>209</a>\u001b[0m             \u001b[39mif\u001b[39;00m child \u001b[39mis\u001b[39;00m \u001b[39mnot\u001b[39;00m next_good:\n",
      "\u001b[0;31mKeyboardInterrupt\u001b[0m: "
     ]
    }
   ],
   "source": [
    "\n",
    "for url in photographers:\n",
    "    page = requests.get(url)\n",
    "    \n",
    "    soup = BeautifulSoup(page.content, \"html.parser\")\n",
    "\n",
    "    for photographer in soup.select('div.text-widget h1'):\n",
    "        print(photographer.text)"
   ]
  },
  {
   "cell_type": "markdown",
   "metadata": {},
   "source": [
    "Than we took info from collection World Press Photo by scaping with Web Scaper. Below sitemap for collection. And we result with a csv file wordpressphoto_data.csv."
   ]
  },
  {
   "cell_type": "code",
   "execution_count": null,
   "metadata": {},
   "outputs": [],
   "source": [
    "sitemap = '{\"_id\":\"wordpressphoto\",\"startUrl\":[\"https://www.worldpressphoto.org/collection/photo-contest\"],\"selectors\":[{\"delay\":5000,\"id\":\"scroll\",\"multiple\":true,\"parentSelectors\":[\"_root\"],\"selector\":\"div.swiper-container\",\"type\":\"SelectorElementScroll\"},{\"delay\":0,\"id\":\"link\",\"multiple\":true,\"parentSelectors\":[\"_root\"],\"selector\":\"div:nth-of-type(n+3) a\",\"type\":\"SelectorLink\"},{\"clickElementSelector\":\"div.swiper-btn--next\",\"clickElementUniquenessType\":\"uniqueText\",\"clickType\":\"clickOnce\",\"delay\":2000,\"discardInitialElements\":\"do-not-discard\",\"id\":\"next\",\"multiple\":true,\"parentSelectors\":[\"_root\"],\"selector\":\"div.swiper-btn--next\",\"type\":\"SelectorElementClick\"},{\"delay\":0,\"id\":\"title\",\"multiple\":false,\"parentSelectors\":[\"link\"],\"regex\":\"\",\"selector\":\"h1\",\"type\":\"SelectorText\"},{\"delay\":0,\"id\":\"photographer\",\"multiple\":false,\"parentSelectors\":[\"link\"],\"regex\":\"\",\"selector\":\"h2.title--white\",\"type\":\"SelectorText\"},{\"delay\":0,\"id\":\"shoot day\",\"multiple\":false,\"parentSelectors\":[\"link\"],\"regex\":\"\",\"selector\":\".photo-details__section--general-info p:nth-of-type(1)\",\"type\":\"SelectorText\"},{\"delay\":0,\"id\":\"Publication agency/magazine\",\"multiple\":false,\"parentSelectors\":[\"link\"],\"regex\":\"\",\"selector\":\"p.photo-details\",\"type\":\"SelectorText\"},{\"delay\":0,\"id\":\"award\",\"multiple\":false,\"parentSelectors\":[\"link\"],\"regex\":\"\",\"selector\":\".photo-details__fixed-column-title h5\",\"type\":\"SelectorText\"},{\"delay\":0,\"id\":\"description\",\"multiple\":false,\"parentSelectors\":[\"link\"],\"regex\":\"\",\"selector\":\"div.photo-details__section--general-info\",\"type\":\"SelectorText\"},{\"delay\":0,\"id\":\"Shutter Speed\",\"multiple\":false,\"parentSelectors\":[\"link\"],\"regex\":\"\",\"selector\":\"div.photo-details__feature--shutter\",\"type\":\"SelectorText\"},{\"delay\":0,\"id\":\"Focal length\",\"multiple\":false,\"parentSelectors\":[\"link\"],\"regex\":\"\",\"selector\":\"div.photo-details__feature--length\",\"type\":\"SelectorText\"},{\"delay\":0,\"id\":\"F-Stop\",\"multiple\":false,\"parentSelectors\":[\"link\"],\"regex\":\"\",\"selector\":\"div.photo-details__feature--aperture\",\"type\":\"SelectorText\"},{\"delay\":0,\"id\":\"ISO\",\"multiple\":false,\"parentSelectors\":[\"link\"],\"regex\":\"\",\"selector\":\"div.photo-details__feature--iso\",\"type\":\"SelectorText\"},{\"delay\":0,\"id\":\"Camera\",\"multiple\":false,\"parentSelectors\":[\"link\"],\"regex\":\"\",\"selector\":\"div.photo-details__feature--camera\",\"type\":\"SelectorText\"}]}'"
   ]
  },
  {
   "cell_type": "markdown",
   "metadata": {},
   "source": [
    "Artsy.net API"
   ]
  },
  {
   "cell_type": "code",
   "execution_count": null,
   "metadata": {},
   "outputs": [],
   "source": []
  },
  {
   "cell_type": "markdown",
   "metadata": {},
   "source": [
    "Wikidata riconciliation. "
   ]
  },
  {
   "cell_type": "markdown",
   "metadata": {},
   "source": []
  },
  {
   "cell_type": "code",
   "execution_count": 1,
   "metadata": {},
   "outputs": [],
   "source": [
    "#!pip install qwikidata\n",
    "import pprint\n",
    "import requests\n",
    "from qwikidata.sparql  import return_sparql_query_results\n",
    "\n",
    "pp = pprint.PrettyPrinter(indent=1)\n",
    "\n",
    "def wikidata_reconciliation(query, q_class=None):\n",
    "    print(query)\n",
    "    \"\"\" query wd apis and print in a json file the results of reconciliation \"\"\"\n",
    "    for q in query:\n",
    "        print(q)\n",
    "        API_WD = \"https://www.wikidata.org/w/api.php\"\n",
    "        params = {\n",
    "            'action': 'wbsearchentities',\n",
    "            'format': 'json',\n",
    "            'language': 'en',\n",
    "            'search': q # the query string\n",
    "        }\n",
    "        \n",
    "        # query wd API    \n",
    "        r = requests.get(API_WD, params = params).json() \n",
    "        pp.pprint(r) # the response\n",
    "        \n",
    "        # iterate over results (if there is any)\n",
    "        if 'search' in r and len(r['search']) >= 1:\n",
    "            # if specified, double check if the entity belongs to the class\n",
    "            if q_class:\n",
    "                qid= r['search'][0]['title']\n",
    "                query_string = \"\"\"ASK {wd:\"\"\"+qid+\"\"\" wdt:P31 wd:\"\"\"+q_class+\"\"\". }\"\"\"\n",
    "                \n",
    "                # query WD endpoint this time!\n",
    "                res = return_sparql_query_results(query_string) \n",
    "                print(\"\\n my string:\", query, \"\\n the query to WD endpoint:\", query_string, \"\\n the result:\",res)\n",
    "                \n",
    "                if res[\"boolean\"] == True: \n",
    "                    print( r['search'][0]['title'] , 'the class matches :)')\n",
    "                else:\n",
    "                    print( r['search'][0]['title'] , 'the class does not match :(')\n",
    "            else:\n",
    "                print( r['search'][0]['title'] , 'no class was given')\n",
    "        else:\n",
    "            print( 'no results matching the query string')"
   ]
  },
  {
   "cell_type": "code",
   "execution_count": 2,
   "metadata": {},
   "outputs": [
    {
     "name": "stdout",
     "output_type": "stream",
     "text": [
      "['Mads Nissen', 'Antonio Faccilongo']\n",
      "Mads Nissen\n",
      "{'search': [{'concepturi': 'http://www.wikidata.org/entity/Q1883500',\n",
      "             'description': 'Danish photographer',\n",
      "             'id': 'Q1883500',\n",
      "             'label': 'Mads Nissen',\n",
      "             'match': {'language': 'en',\n",
      "                       'text': 'Mads Nissen',\n",
      "                       'type': 'label'},\n",
      "             'pageid': 1813681,\n",
      "             'repository': 'wikidata',\n",
      "             'title': 'Q1883500',\n",
      "             'url': '//www.wikidata.org/wiki/Q1883500'},\n",
      "            {'concepturi': 'http://www.wikidata.org/entity/Q12325639',\n",
      "             'id': 'Q12325639',\n",
      "             'label': 'Mads Nissen Styrk',\n",
      "             'match': {'language': 'en',\n",
      "                       'text': 'Mads Nissen Styrk',\n",
      "                       'type': 'label'},\n",
      "             'pageid': 13538046,\n",
      "             'repository': 'wikidata',\n",
      "             'title': 'Q12325639',\n",
      "             'url': '//www.wikidata.org/wiki/Q12325639'}],\n",
      " 'searchinfo': {'search': 'Mads Nissen'},\n",
      " 'success': 1}\n",
      "\n",
      " my string: ['Mads Nissen', 'Antonio Faccilongo'] \n",
      " the query to WD endpoint: ASK {wd:Q1883500 wdt:P31 wd:Q5. } \n",
      " the result: {'head': {}, 'boolean': True}\n",
      "Q1883500 the class matches :)\n",
      "Antonio Faccilongo\n",
      "{'search': [{'concepturi': 'http://www.wikidata.org/entity/Q106728172',\n",
      "             'description': 'Italian photographer and filmmaker',\n",
      "             'id': 'Q106728172',\n",
      "             'label': 'Antonio Faccilongo',\n",
      "             'match': {'language': 'en',\n",
      "                       'text': 'Antonio Faccilongo',\n",
      "                       'type': 'label'},\n",
      "             'pageid': 101998239,\n",
      "             'repository': 'wikidata',\n",
      "             'title': 'Q106728172',\n",
      "             'url': '//www.wikidata.org/wiki/Q106728172'}],\n",
      " 'searchinfo': {'search': 'Antonio Faccilongo'},\n",
      " 'success': 1}\n",
      "\n",
      " my string: ['Mads Nissen', 'Antonio Faccilongo'] \n",
      " the query to WD endpoint: ASK {wd:Q106728172 wdt:P31 wd:Q5. } \n",
      " the result: {'head': {}, 'boolean': True}\n",
      "Q106728172 the class matches :)\n"
     ]
    }
   ],
   "source": [
    "fotografi = [\"Mads Nissen\", \"Antonio Faccilongo\"]\n",
    "\n",
    "wikidata_reconciliation(fotografi, \"Q5\") \n",
    "#passare lista fotografi unici"
   ]
  }
 ],
 "metadata": {
  "interpreter": {
   "hash": "aee8b7b246df8f9039afb4144a1f6fd8d2ca17a180786b69acc140d282b71a49"
  },
  "kernelspec": {
   "display_name": "Python 3.9.4 64-bit",
   "language": "python",
   "name": "python3"
  },
  "language_info": {
   "codemirror_mode": {
    "name": "ipython",
    "version": 3
   },
   "file_extension": ".py",
   "mimetype": "text/x-python",
   "name": "python",
   "nbconvert_exporter": "python",
   "pygments_lexer": "ipython3",
   "version": "3.9.4"
  },
  "orig_nbformat": 4
 },
 "nbformat": 4,
 "nbformat_minor": 2
}
