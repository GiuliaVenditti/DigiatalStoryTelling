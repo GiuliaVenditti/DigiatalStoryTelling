{
 "cells": [
  {
   "cell_type": "markdown",
   "metadata": {},
   "source": [
    "# Abstract \n",
    "\n",
    "Digitization, as one of the key outcomes of technological growth, has led to deep changes in entertainment, and therefore in the world of cinema, as well as in many other socio-economical areas. As a result, the distribution and broadcasting strategy, that Netflix brought to the market, turned into an amazing success story in a very short period of time.\n",
    "\n",
    "Netflix's strategy is based on the idea that consumers can access the platform's entire content catalog for a monthly price. Additionally, Netflix only broadcasts its films on the web, with no theatrical or limited distribution. This approach, which is vastly different from the classic idea of ​​the Hollywood studio system, has led to advances for audiences, directors and studios in various directions. In this way, we can say that streaming services, such as Netflix, are influencing the film industry in terms of how we access movies, what material we consume and how movies are made. Their dominant position, places Internet platforms in a strong decisional position in terms of film content. In the future, this kind of authority could be key in determining what constitutes a \"well-made film\".\n",
    "\n",
    "The impact of Internet streaming services on filmmakers has been one of the most important transformations in the show business in recent years. The promise of a more open environment for filmmakers than other large studios has attracted numerous directors to the platforms, with huge ramifications in the world of cinema. Furthermore, the fact that these services have less stringent standards than cinemas makes them attractive to producers. Another important aspect concerns independent directors. Since the 1980s, when Hollywood became the hub of cinema and blockbuster films began to dominate theaters, it has been difficult for independent directors to reach large audiences. Cinemas often prefer high-budget movies as they can make a much larger profit from them. As a result, independent films have few opportunities outside of film festivals to date. However, with internet streaming services becoming a major role in the world of cinema, independent filmmakers now have the opportunity to reach a wider audience.\n",
    "\n",
    "The purpose of this notebook is to investigate, through data, how streaming platforms have changed film production. is the world of production really fairer? "
   ]
  },
  {
   "cell_type": "markdown",
   "metadata": {},
   "source": [
    "# Data gatering (Everyone)\n",
    "We start from two existing datasets:\n",
    "* [Netflix](https://www.kaggle.com/datasets/shivamb/netflix-shows): One of the most popular media and video streaming platforms. They have over 8000 movies or tv shows available on their platform, as of mid-2021, they have over 200M Subscribers globally. This tabular dataset consists of listings of all the movies and tv shows available on Netflix, along with details such as - cast, directors, ratings, release year, duration, etc.\n",
    "\n",
    "* [Amazon prime](https://www.kaggle.com/datasets/shivamb/amazon-prime-movies-and-tv-shows): Another one of the most popular media and video streaming platforms. They have close to 10000 movies or tv shows available on their platform, as of mid-2021, they have over 200M Subscribers globally. This tabular dataset consists of listings of all the movies and tv shows available on Amazon Prime, along with details such as - cast, directors, ratings, release year, duration, etc.*\n",
    "\n"
   ]
  },
  {
   "cell_type": "code",
   "execution_count": 384,
   "metadata": {},
   "outputs": [],
   "source": [
    "import pandas as pd # queried_data processing\n",
    "import pandas_profiling as pp\n",
    "import numpy as np # linear algebra"
   ]
  },
  {
   "cell_type": "code",
   "execution_count": 385,
   "metadata": {},
   "outputs": [
    {
     "name": "stdout",
     "output_type": "stream",
     "text": [
      "8807 9668\n"
     ]
    }
   ],
   "source": [
    "df_netflix = pd.read_csv('Dataset/originalDataset/netflix_titles.csv')\n",
    "df_amazon = pd.read_csv('Dataset/originalDataset/amazon_prime_titles.csv')\n",
    "print(len(df_netflix), len(df_amazon))"
   ]
  },
  {
   "cell_type": "markdown",
   "metadata": {},
   "source": [
    "# Preparing data (Giulia)\n",
    "\n",
    "The first step is to concatenate the Amazon and Netflix datasets while keeping the storage information.\n",
    "We add two columns: netflix and amazon both with a value of 1 or 0 which represent the absence or presence of the title on the platform. To keep the added date information we rename the columns to distinguish the related streaming service."
   ]
  },
  {
   "cell_type": "code",
   "execution_count": 386,
   "metadata": {},
   "outputs": [],
   "source": [
    "df_netflix.drop(columns = df_netflix.columns[0], axis = 1, inplace= True)\n",
    "df_netflix['netflix'] = 1\n",
    "df_netflix['amazon'] = 0\n",
    "df_netflix.rename(columns = {'date_added':'date_added_netflix'}, inplace = True)\n",
    "\n",
    "df_amazon.drop(columns = df_amazon.columns[0], axis = 1, inplace= True)\n",
    "df_amazon['amazon'] = 1\n",
    "df_amazon['netflix'] = 0\n",
    "df_amazon.rename(columns = {'date_added':'date_added_amazon'}, inplace = True)"
   ]
  },
  {
   "cell_type": "code",
   "execution_count": 387,
   "metadata": {},
   "outputs": [
    {
     "data": {
      "text/html": [
       "<div>\n",
       "<style scoped>\n",
       "    .dataframe tbody tr th:only-of-type {\n",
       "        vertical-align: middle;\n",
       "    }\n",
       "\n",
       "    .dataframe tbody tr th {\n",
       "        vertical-align: top;\n",
       "    }\n",
       "\n",
       "    .dataframe thead th {\n",
       "        text-align: right;\n",
       "    }\n",
       "</style>\n",
       "<table border=\"1\" class=\"dataframe\">\n",
       "  <thead>\n",
       "    <tr style=\"text-align: right;\">\n",
       "      <th></th>\n",
       "      <th>type</th>\n",
       "      <th>title</th>\n",
       "      <th>director</th>\n",
       "      <th>cast</th>\n",
       "      <th>country</th>\n",
       "      <th>date_added_netflix</th>\n",
       "      <th>release_year</th>\n",
       "      <th>rating</th>\n",
       "      <th>duration</th>\n",
       "      <th>listed_in</th>\n",
       "      <th>description</th>\n",
       "      <th>netflix</th>\n",
       "      <th>amazon</th>\n",
       "      <th>date_added_amazon</th>\n",
       "    </tr>\n",
       "  </thead>\n",
       "  <tbody>\n",
       "    <tr>\n",
       "      <th>0</th>\n",
       "      <td>Movie</td>\n",
       "      <td>Dick Johnson Is Dead</td>\n",
       "      <td>Kirsten Johnson</td>\n",
       "      <td>NaN</td>\n",
       "      <td>United States</td>\n",
       "      <td>September 25, 2021</td>\n",
       "      <td>2020</td>\n",
       "      <td>PG-13</td>\n",
       "      <td>90 min</td>\n",
       "      <td>Documentaries</td>\n",
       "      <td>As her father nears the end of his life, filmm...</td>\n",
       "      <td>1</td>\n",
       "      <td>0</td>\n",
       "      <td>NaN</td>\n",
       "    </tr>\n",
       "    <tr>\n",
       "      <th>1</th>\n",
       "      <td>TV Show</td>\n",
       "      <td>Blood &amp; Water</td>\n",
       "      <td>NaN</td>\n",
       "      <td>Ama Qamata, Khosi Ngema, Gail Mabalane, Thaban...</td>\n",
       "      <td>South Africa</td>\n",
       "      <td>September 24, 2021</td>\n",
       "      <td>2021</td>\n",
       "      <td>TV-MA</td>\n",
       "      <td>2 Seasons</td>\n",
       "      <td>International TV Shows, TV Dramas, TV Mysteries</td>\n",
       "      <td>After crossing paths at a party, a Cape Town t...</td>\n",
       "      <td>1</td>\n",
       "      <td>0</td>\n",
       "      <td>NaN</td>\n",
       "    </tr>\n",
       "    <tr>\n",
       "      <th>2</th>\n",
       "      <td>TV Show</td>\n",
       "      <td>Ganglands</td>\n",
       "      <td>Julien Leclercq</td>\n",
       "      <td>Sami Bouajila, Tracy Gotoas, Samuel Jouy, Nabi...</td>\n",
       "      <td>NaN</td>\n",
       "      <td>September 24, 2021</td>\n",
       "      <td>2021</td>\n",
       "      <td>TV-MA</td>\n",
       "      <td>1 Season</td>\n",
       "      <td>Crime TV Shows, International TV Shows, TV Act...</td>\n",
       "      <td>To protect his family from a powerful drug lor...</td>\n",
       "      <td>1</td>\n",
       "      <td>0</td>\n",
       "      <td>NaN</td>\n",
       "    </tr>\n",
       "  </tbody>\n",
       "</table>\n",
       "</div>"
      ],
      "text/plain": [
       "      type                 title         director  \\\n",
       "0    Movie  Dick Johnson Is Dead  Kirsten Johnson   \n",
       "1  TV Show         Blood & Water              NaN   \n",
       "2  TV Show             Ganglands  Julien Leclercq   \n",
       "\n",
       "                                                cast        country  \\\n",
       "0                                                NaN  United States   \n",
       "1  Ama Qamata, Khosi Ngema, Gail Mabalane, Thaban...   South Africa   \n",
       "2  Sami Bouajila, Tracy Gotoas, Samuel Jouy, Nabi...            NaN   \n",
       "\n",
       "   date_added_netflix  release_year rating   duration  \\\n",
       "0  September 25, 2021          2020  PG-13     90 min   \n",
       "1  September 24, 2021          2021  TV-MA  2 Seasons   \n",
       "2  September 24, 2021          2021  TV-MA   1 Season   \n",
       "\n",
       "                                           listed_in  \\\n",
       "0                                      Documentaries   \n",
       "1    International TV Shows, TV Dramas, TV Mysteries   \n",
       "2  Crime TV Shows, International TV Shows, TV Act...   \n",
       "\n",
       "                                         description  netflix  amazon  \\\n",
       "0  As her father nears the end of his life, filmm...        1       0   \n",
       "1  After crossing paths at a party, a Cape Town t...        1       0   \n",
       "2  To protect his family from a powerful drug lor...        1       0   \n",
       "\n",
       "  date_added_amazon  \n",
       "0               NaN  \n",
       "1               NaN  \n",
       "2               NaN  "
      ]
     },
     "execution_count": 387,
     "metadata": {},
     "output_type": "execute_result"
    }
   ],
   "source": [
    "\n",
    "dataset = pd.concat([df_netflix, df_amazon],axis=0, join=\"outer\", sort=False)\n",
    "dataset = dataset.reset_index(drop=True)\n",
    "dataset.head(3)\n"
   ]
  },
  {
   "cell_type": "markdown",
   "metadata": {},
   "source": [
    "The concatenated dataset has some errors. Shows that are both featured on Netflix and Amazon Prime are recorded twice in our dataset: the first time with netflix information only, the second time only on amazon. We decide to extract year of publication, type (film or TV show) and title name and store them in a triple. We then check the triples that the two datasets have in common and store them in a list called 'title'."
   ]
  },
  {
   "cell_type": "code",
   "execution_count": 388,
   "metadata": {},
   "outputs": [
    {
     "name": "stdout",
     "output_type": "stream",
     "text": [
      "8807 9668\n"
     ]
    }
   ],
   "source": [
    "netflix = []\n",
    "amazon = []\n",
    "\n",
    "def union(df, new):\n",
    "    for  i, x in df['title'].iteritems():\n",
    "        year = df['release_year'][i]\n",
    "        type = df['type'][i]\n",
    "        movie = x\n",
    "        new.append((year, type, movie))\n",
    "    return new\n",
    "\n",
    "union(df_netflix, netflix)\n",
    "union(df_amazon, amazon)\n",
    "\n",
    "print(len(netflix), len(amazon))"
   ]
  },
  {
   "cell_type": "code",
   "execution_count": 389,
   "metadata": {},
   "outputs": [
    {
     "data": {
      "text/plain": [
       "182"
      ]
     },
     "execution_count": 389,
     "metadata": {},
     "output_type": "execute_result"
    }
   ],
   "source": [
    "title = []\n",
    "for (y,t,m) in netflix:\n",
    "    if (y,t,m) in amazon:\n",
    "        title.append((y,t,m))\n",
    "len(title)"
   ]
  },
  {
   "cell_type": "markdown",
   "metadata": {},
   "source": [
    "Finally, we iterate over the concatenated dataset querying only the shared titles, merging Amazon and Netflix information about possession and date of addition.\n",
    "We decide to take description, country and cast information from the Netflix dataset because it was the best compiled of the two. So, at the end of this process, we drop duplicates filtered by title, director, release year and type; keeping the first entries. Then we fill null value with 'No Data'."
   ]
  },
  {
   "cell_type": "code",
   "execution_count": 390,
   "metadata": {},
   "outputs": [],
   "source": [
    "df = dataset.copy()\n",
    "df.replace(np.nan, 'null', inplace=True)\n",
    "to_drop = set()\n",
    "for i, r in df.iterrows(): \n",
    "    if (r['release_year'],r['type'],r['title']) in title:\n",
    "        df.loc[i,'netflix'] = 1\n",
    "        df.loc[i, 'amazon'] = 1\n",
    "        q = df.query('title==\"'+r['title']+'\" & type==\"'+r['type']+'\" & release_year== '+ str(r['release_year']) +'')\n",
    "\n",
    "        null_val = []      \n",
    "        for j, x in q.iterrows():\n",
    "            if x['date_added_netflix'] != 'null':\n",
    "                df.loc[i, 'date_added_netflix'] = x['date_added_netflix']\n",
    "\n",
    "            if x['date_added_amazon'] != 'null':\n",
    "                df.loc[i, 'date_added_amazon'] = x['date_added_amazon']\n",
    "\n",
    "            n = 0 \n",
    "            for i in x.values:\n",
    "                if i == 'null':\n",
    "                    n+=1\n",
    "            null_rate = n / len(x.values) * 100\n",
    "            null_val.append((j,null_rate))\n",
    "        \n",
    "        if len(null_val) >= 2:\n",
    "            row_to_keep = min(null_val, key=lambda tup: tup[1])\n",
    "            null_val.remove(row_to_keep)\n",
    "            for i, x in null_val:\n",
    "                if x != 0.0:\n",
    "                    to_drop.add(i)\n",
    "\n",
    "\n",
    "df = df.drop(to_drop)"
   ]
  },
  {
   "cell_type": "code",
   "execution_count": 317,
   "metadata": {},
   "outputs": [
    {
     "name": "stdout",
     "output_type": "stream",
     "text": [
      "type null rate: 0.01%\n",
      "title null rate: 0.01%\n",
      "director null rate: 25.64%\n",
      "cast null rate: 11.23%\n",
      "country null rate: 52.86%\n",
      "date_added_netflix null rate: 51.91%\n",
      "release_year null rate: 0.01%\n",
      "rating null rate: 1.83%\n",
      "duration null rate: 0.02%\n",
      "listed_in null rate: 0.01%\n",
      "description null rate: 0.01%\n",
      "netflix null rate: 0.01%\n",
      "amazon null rate: 0.01%\n",
      "date_added_amazon null rate: 99.16%\n"
     ]
    }
   ],
   "source": [
    "df.replace( 'null', np.nan, inplace=True)\n",
    "for i in df.columns:\n",
    "    null_rate = df[i].isna().sum() / len(df) * 100 \n",
    "    if null_rate > 0 :\n",
    "        print(\"{} null rate: {}%\".format(i,round(null_rate,2)))"
   ]
  },
  {
   "cell_type": "markdown",
   "metadata": {},
   "source": [
    "From null values score we notice that we miss some information about cast, director and countires. We don't consider the null rate of date_added_netflix column because netflix titles cover half of the dataset so, 52.86% null rate is a normal score. The colum date_added_amazon, on the contrary, has a lot of missing information that we will try to fill during data enrichment fases. "
   ]
  },
  {
   "cell_type": "code",
   "execution_count": 318,
   "metadata": {},
   "outputs": [
    {
     "data": {
      "text/html": [
       "<div>\n",
       "<style scoped>\n",
       "    .dataframe tbody tr th:only-of-type {\n",
       "        vertical-align: middle;\n",
       "    }\n",
       "\n",
       "    .dataframe tbody tr th {\n",
       "        vertical-align: top;\n",
       "    }\n",
       "\n",
       "    .dataframe thead th {\n",
       "        text-align: right;\n",
       "    }\n",
       "</style>\n",
       "<table border=\"1\" class=\"dataframe\">\n",
       "  <thead>\n",
       "    <tr style=\"text-align: right;\">\n",
       "      <th></th>\n",
       "      <th>type</th>\n",
       "      <th>title</th>\n",
       "      <th>director</th>\n",
       "      <th>cast</th>\n",
       "      <th>country</th>\n",
       "      <th>date_added_netflix</th>\n",
       "      <th>release_year</th>\n",
       "      <th>rating</th>\n",
       "      <th>duration</th>\n",
       "      <th>listed_in</th>\n",
       "      <th>description</th>\n",
       "      <th>netflix</th>\n",
       "      <th>amazon</th>\n",
       "      <th>date_added_amazon</th>\n",
       "    </tr>\n",
       "  </thead>\n",
       "  <tbody>\n",
       "    <tr>\n",
       "      <th>0</th>\n",
       "      <td>Movie</td>\n",
       "      <td>Dick Johnson Is Dead</td>\n",
       "      <td>Kirsten Johnson</td>\n",
       "      <td>No Data</td>\n",
       "      <td>United States</td>\n",
       "      <td>September 25, 2021</td>\n",
       "      <td>2020.0</td>\n",
       "      <td>PG-13</td>\n",
       "      <td>90 min</td>\n",
       "      <td>Documentaries</td>\n",
       "      <td>As her father nears the end of his life, filmm...</td>\n",
       "      <td>1.0</td>\n",
       "      <td>0.0</td>\n",
       "      <td>No Data</td>\n",
       "    </tr>\n",
       "    <tr>\n",
       "      <th>1</th>\n",
       "      <td>TV Show</td>\n",
       "      <td>Blood &amp; Water</td>\n",
       "      <td>No Data</td>\n",
       "      <td>Ama Qamata, Khosi Ngema, Gail Mabalane, Thaban...</td>\n",
       "      <td>South Africa</td>\n",
       "      <td>September 24, 2021</td>\n",
       "      <td>2021.0</td>\n",
       "      <td>TV-MA</td>\n",
       "      <td>2 Seasons</td>\n",
       "      <td>International TV Shows, TV Dramas, TV Mysteries</td>\n",
       "      <td>After crossing paths at a party, a Cape Town t...</td>\n",
       "      <td>1.0</td>\n",
       "      <td>0.0</td>\n",
       "      <td>No Data</td>\n",
       "    </tr>\n",
       "    <tr>\n",
       "      <th>2</th>\n",
       "      <td>TV Show</td>\n",
       "      <td>Ganglands</td>\n",
       "      <td>Julien Leclercq</td>\n",
       "      <td>Sami Bouajila, Tracy Gotoas, Samuel Jouy, Nabi...</td>\n",
       "      <td>No Data</td>\n",
       "      <td>September 24, 2021</td>\n",
       "      <td>2021.0</td>\n",
       "      <td>TV-MA</td>\n",
       "      <td>1 Season</td>\n",
       "      <td>Crime TV Shows, International TV Shows, TV Act...</td>\n",
       "      <td>To protect his family from a powerful drug lor...</td>\n",
       "      <td>1.0</td>\n",
       "      <td>0.0</td>\n",
       "      <td>No Data</td>\n",
       "    </tr>\n",
       "  </tbody>\n",
       "</table>\n",
       "</div>"
      ],
      "text/plain": [
       "      type                 title         director  \\\n",
       "0    Movie  Dick Johnson Is Dead  Kirsten Johnson   \n",
       "1  TV Show         Blood & Water          No Data   \n",
       "2  TV Show             Ganglands  Julien Leclercq   \n",
       "\n",
       "                                                cast        country  \\\n",
       "0                                            No Data  United States   \n",
       "1  Ama Qamata, Khosi Ngema, Gail Mabalane, Thaban...   South Africa   \n",
       "2  Sami Bouajila, Tracy Gotoas, Samuel Jouy, Nabi...        No Data   \n",
       "\n",
       "   date_added_netflix  release_year rating   duration  \\\n",
       "0  September 25, 2021        2020.0  PG-13     90 min   \n",
       "1  September 24, 2021        2021.0  TV-MA  2 Seasons   \n",
       "2  September 24, 2021        2021.0  TV-MA   1 Season   \n",
       "\n",
       "                                           listed_in  \\\n",
       "0                                      Documentaries   \n",
       "1    International TV Shows, TV Dramas, TV Mysteries   \n",
       "2  Crime TV Shows, International TV Shows, TV Act...   \n",
       "\n",
       "                                         description  netflix  amazon  \\\n",
       "0  As her father nears the end of his life, filmm...      1.0     0.0   \n",
       "1  After crossing paths at a party, a Cape Town t...      1.0     0.0   \n",
       "2  To protect his family from a powerful drug lor...      1.0     0.0   \n",
       "\n",
       "  date_added_amazon  \n",
       "0           No Data  \n",
       "1           No Data  \n",
       "2           No Data  "
      ]
     },
     "execution_count": 318,
     "metadata": {},
     "output_type": "execute_result"
    }
   ],
   "source": [
    "df['date_added_netflix'].replace(np.nan, 'No Data',inplace  = True)\n",
    "df['date_added_amazon'].replace(np.nan, 'No Data',inplace  = True)\n",
    "df['country'].replace(np.nan, 'No Data',inplace  = True)\n",
    "df['director'].replace(np.nan, 'No Data',inplace  = True)\n",
    "df['cast'].replace(np.nan, 'No Data',inplace  = True)\n",
    "df['rating'].replace(np.nan, 'No Data',inplace  = True)\n",
    "df['title'] = df['title'].replace({'\"':''}, regex=True)\n",
    "df['title'] = df['title'].replace({'\\n':' '}, regex=True)\n",
    "df = df.drop_duplicates(subset=['title','director', 'release_year', 'type'], keep='first')\n",
    "df = df.dropna()\n",
    "df = df.reset_index(drop=True)\n",
    "df.to_csv('data.csv', index=False)\n",
    "\n",
    "df.head(3)"
   ]
  },
  {
   "cell_type": "markdown",
   "metadata": {},
   "source": [
    "# Data enrichment (Camilla)\n",
    "\n",
    "Our data will be enriched using two sources:\n",
    "\n",
    "* [Wikidata](https://www.wikidata.org/wiki/Wikidata:Main_Page): wikidata is the a free and open knowledge graph containing linked information used by the famouse online encyclopedia. \n",
    "\n",
    "* [iMdB](https://www.imdb.com/): Internet Movie Database is the world's most popular and authoritative source for movie, TV shows and celebrity content, where you can find ratings and reviews by creteque and public.\n",
    "\n",
    "In order to query information, we split our dataset in Movies and TV Shows.\n",
    "Through wikidate we retrive missing information form our starting dataset about countries and directors, adding director gender data. In addition, we add interesting information for us such as the gender of the director and the distributor. Finally, we also retrive the iMdb id of the movie for future query. The results are stored in two csv file one for movie and one for tv shows.\n",
    "\n",
    "Than we query iMDb API asking for general information about titols, statring form the id retrived by wikidata. From this API we het information about contents languages, keyword, distributers, critique ratings (Rotten Tomatoes) and public reatings (iMDb reatings). The results are then stored in json format."
   ]
  },
  {
   "cell_type": "code",
   "execution_count": 319,
   "metadata": {},
   "outputs": [],
   "source": [
    "import pprint #indet json \n",
    "import requests #make http requests\n",
    "import json\n",
    "from qwikidata.sparql  import return_sparql_query_results #return sparql results\n",
    "from SPARQLWrapper import SPARQLWrapper, JSON #questo serve a vedere la struttura delle risposte\n",
    "import ssl\n",
    "from http.client import IncompleteRead\n",
    "import time\n",
    "import urllib.error\n",
    "from textblob import Word"
   ]
  },
  {
   "cell_type": "code",
   "execution_count": 320,
   "metadata": {},
   "outputs": [
    {
     "name": "stdout",
     "output_type": "stream",
     "text": [
      "13784\n"
     ]
    }
   ],
   "source": [
    "movie_title = df.query(\"type == 'Movie'\")\n",
    "print(len(movie_title))\n",
    "\n",
    "# movie_query = \"\"\"\n",
    "#             SELECT ?film_label ?director_label ?dir_gen_label ?distributor_label ?imdbID ?rottenscore\n",
    "#             WHERE\n",
    "#             {\n",
    "#             ?film wdt:P31 wd:Q11424 .\n",
    "#             ?film rdfs:label \"\"\"+'\"'+ x +'\"' +\"\"\"@en .\n",
    "#             ?film rdfs:label ?film_label .\n",
    "#             FILTER(lang(?film_label) = 'en')\n",
    "#             OPTIONAL {?film wdt:P57 ?director . \n",
    "#             ?director rdfs:label ?director_label .    \n",
    "#             FILTER(lang(?director_label) = 'en')\n",
    "#             OPTIONAL {?director wdt:P21 ?dir_gen . \n",
    "#             ?dir_gen rdfs:label ?dir_gen_label .\n",
    "#             FILTER(lang(?dir_gen_label) = 'en')}}\n",
    "#             OPTIONAL {?film wdt:P750 ?distributor . \n",
    "#             ?distributor rdfs:label ?distributor_label .\n",
    "#             FILTER(lang(?distributor_label) = 'en')}\n",
    "#             OPTIONAL {?film wdt:P345 ?imdbID.}\n",
    "#             OPTIONAL {?film wdt:P444 ?rottenscore.}\n",
    "#             }\n",
    "#             \"\"\""
   ]
  },
  {
   "cell_type": "code",
   "execution_count": 321,
   "metadata": {},
   "outputs": [
    {
     "name": "stdout",
     "output_type": "stream",
     "text": [
      "4505\n"
     ]
    }
   ],
   "source": [
    "tv_series = df.query(\"type == 'TV Show'\")\n",
    "print(len(tv_series))\n",
    "\n",
    "# tv_series_query = \"\"\"\n",
    "#             SELECT ?series_label ?director_label ?dir_gen_label ?distributor_label ?imdbID ?rottenscore\n",
    "#             WHERE\n",
    "#             {\n",
    "#             ?series wdt:P31 wd:Q5398426 .\n",
    "#             ?series rdfs:label \"\"\"+'\"'+ x +'\"' +\"\"\"@en .\n",
    "#             ?series rdfs:label ?series_label .\n",
    "#             FILTER(lang(?series_label) = 'en')\n",
    "#             OPTIONAL {?series wdt:P57 ?director . \n",
    "#             ?director rdfs:label ?director_label .    \n",
    "#             FILTER(lang(?director_label) = 'en')\n",
    "#             OPTIONAL {?director wdt:P21 ?dir_gen . \n",
    "#             ?dir_gen rdfs:label ?dir_gen_label .\n",
    "#             FILTER(lang(?dir_gen_label) = 'en')}}\n",
    "#             OPTIONAL {?series wdt:P449 ?distributor . \n",
    "#             ?distributor rdfs:label ?distributor_label .\n",
    "#             FILTER(lang(?distributor_label) = 'en')}\n",
    "#             OPTIONAL {?series wdt:P345 ?imdbID.}\n",
    "#             OPTIONAL {?series wdt:P444 ?rottenscore.}\n",
    "#             }\n",
    "#             \"\"\""
   ]
  },
  {
   "cell_type": "code",
   "execution_count": 322,
   "metadata": {},
   "outputs": [],
   "source": [
    "# def wikidata(data, query):\n",
    "\n",
    "#     title = []\n",
    "#     director = []\n",
    "#     gender = []\n",
    "#     distributor = []\n",
    "#     imdbID = []\n",
    "#     rottenscore = []\n",
    "#     not_found = []\n",
    "\n",
    "    \n",
    "#     # get the endpoint API\n",
    "#     wikidata_endpoint = \"https://query.wikidata.org/bigdata/namespace/wdq/sparql\"\n",
    "        \n",
    "\n",
    "#     for x in data():\n",
    "        \n",
    "#         try:\n",
    "#             my_SPARQL_query = query\n",
    "#             # set the endpoint \n",
    "#             sparql_wd = SPARQLWrapper(wikidata_endpoint)\n",
    "#             # set the query\n",
    "#             sparql_wd.setQuery(my_SPARQL_query)\n",
    "#             # set the returned format\n",
    "#             sparql_wd.setReturnFormat(JSON)\n",
    "#             # get the results\n",
    "            \n",
    "#             results = sparql_wd.query().convert()\n",
    "\n",
    "#             if results['results']['bindings'] == []:\n",
    "#                 not_found.append(\"\"+x+\"\")\n",
    "                \n",
    "#             else:\n",
    "#                 title.append(results['results']['bindings'][0]['film_label']['value'])\n",
    "#                 if \"director_label\" in results['results']['bindings'][0]:\n",
    "#                     director.append(results['results']['bindings'][0]['director_label']['value'])\n",
    "#                 else:\n",
    "#                     director.append(\"no_data\")\n",
    "#                 if \"dir_gen_label\" in results['results']['bindings'][0]:\n",
    "#                     gender.append(results['results']['bindings'][0]['dir_gen_label']['value'])\n",
    "#                 else:\n",
    "#                     gender.append(\"no_data\")\n",
    "#                 if \"distributor_label\" in results['results']['bindings'][0]:\n",
    "#                     distributor.append(results['results']['bindings'][0]['distributor_label']['value'])\n",
    "#                 else:\n",
    "#                     distributor.append(\"no_data\")\n",
    "#                 if \"imdbID\" in results['results']['bindings'][0]:\n",
    "#                     imdbID.append(results['results']['bindings'][0]['imdbID']['value'])\n",
    "#                 else:\n",
    "#                     imdbID.append(\"no_data\")\n",
    "#                 if \"rottenscore\" in results['results']['bindings'][0]:\n",
    "#                     rottenscore.append(results['results']['bindings'][0]['rottenscore']['value'])\n",
    "#                 else:\n",
    "#                     rottenscore.append(\"no_data\")\n",
    "                \n",
    "#         except urllib.error.HTTPError as e:\n",
    "#             time.sleep((int(e.headers[\"retry-after\"])) + 1)\n",
    "#             error_title = query.index(x)\n",
    "#             wikidata(query[error_title:])\n",
    "\n",
    "#     df = {\"id\": imdbID, \"title\": title, \"director\": director, \"director_gender\": gender, \"distributor\": distributor, \"rating score\": rottenscore}\n",
    "#     return df\n",
    "            \n",
    "# movie_wiki = wikidata(movie_title['title'], movie_query)\n",
    "# movie_wiki.to_csv('Dataset/query_results_data/wikidata_query_results/movie.csv', index = False)\n",
    "# serie_wiki = wikidata(tv_series['title'], tv_series_query)\n",
    "# serie_wiki.to_csv('Dataset/query_results_data/wikidata_query_results/TVShows.csvv', index = False)"
   ]
  },
  {
   "cell_type": "code",
   "execution_count": 323,
   "metadata": {},
   "outputs": [
    {
     "name": "stdout",
     "output_type": "stream",
     "text": [
      "6666 1969\n"
     ]
    }
   ],
   "source": [
    "movie_wiki = pd.read_csv('Dataset/query_results_data/wikidata_query_results/movie.csv')\n",
    "serie_wiki = pd.read_csv('Dataset/query_results_data/wikidata_query_results/TVShows.csv')\n",
    "\n",
    "print(len(movie_wiki), len(serie_wiki))"
   ]
  },
  {
   "cell_type": "code",
   "execution_count": 324,
   "metadata": {},
   "outputs": [],
   "source": [
    "# def imdb(data, filename):\n",
    "#     json_list = []\n",
    "#     for id in data:\n",
    "\n",
    "#         url = \"https://imdb-api.com/en/API/UserRatings/k_2xtxoo0v/\"+id+\"\"\n",
    "\n",
    "#         resp = requests.get(url)\n",
    "#         data = resp.json()\n",
    "#         json_list.append(data)\n",
    "\n",
    "#         with open(filename, 'w') as file_object:  #open the file in write mode\n",
    "#             json.dump(json_list, file_object)\n",
    "\n",
    "# imdb(movie_wiki['id'].to_list(), 'movie.json')\n",
    "# imdb(serie_wiki['id'].to_list(), 'series.json')\n"
   ]
  },
  {
   "cell_type": "code",
   "execution_count": 325,
   "metadata": {},
   "outputs": [],
   "source": [
    "f = open('Dataset/query_results_data/imdb_query_results/movie.json')\n",
    "movie_imdb = json.load(f)\n",
    "\n",
    "f = open('Dataset/query_results_data/imdb_query_results/series.json')\n",
    "serie_imdb = json.load(f)"
   ]
  },
  {
   "cell_type": "markdown",
   "metadata": {},
   "source": [
    "# Data Cleaning (Giulia)\n",
    "In order to clean data we first merge iMDb results with Wikidata results throu query_union function. Then we fill our starting dataset using the reconciiation function. At the end we replace any 'No Data', '', 'no_data' and 'None' strings with null values. We singularize duration information that were expressed with 'Serie', 'Series' and 'min' values to keep only 'Serie' and 'min' values. Then we drop brakets from 'distributor' colums since iMDb had stored the data as stinged lists, so as to get a comma-separated list of directors. Finaly we procede to controll null values rate."
   ]
  },
  {
   "cell_type": "code",
   "execution_count": 326,
   "metadata": {},
   "outputs": [],
   "source": [
    "def query_union(imdb, wiki):\n",
    "    for x in range(len(imdb)):\n",
    "        id = imdb[x]['id']\n",
    "        if id:\n",
    "            row = wiki.query('id == \"'+id+'\"')\n",
    "            index = row.index.values\n",
    "            if len(index) != 0:\n",
    "                index = row.index.values[0]\n",
    "                wiki.loc[index, 'title_imdb'] = imdb[x]['title']\n",
    "                wiki.loc[index, 'release_date'] = imdb[x]['releaseDate']\n",
    "\n",
    "                wiki.loc[index, 'directors'] = imdb[x]['directors']\n",
    "                wiki.loc[index, 'cast'] = imdb[x]['stars']\n",
    "\n",
    "                if wiki._get_value(index, 'distributor') == 'no_data':\n",
    "                    wiki.loc[index, 'distributor'] = imdb[x]['companies']\n",
    "\n",
    "                wiki.loc[index, 'countries'] = imdb[x]['countries']\n",
    "                wiki.loc[index, 'languages'] = imdb[x]['languages']\n",
    "                wiki.loc[index, 'rating'] = imdb[x]['contentRating']\n",
    "                \n",
    "                wiki.loc[index, 'imDbRating'] = imdb[x]['imDbRating']\n",
    "                wiki.loc[index, 'imDbRatingVotes'] = imdb[x]['imDbRatingVotes']\n",
    "\n",
    "                if wiki._get_value(index, 'rating score') == 'no_data':\n",
    "                    if imdb[x]['ratings']:\n",
    "                        wiki.loc[index, 'rating score'] = imdb[x]['ratings']['rottenTomatoes']\n",
    "\n",
    "                if imdb[x]['boxOffice']:\n",
    "                    wiki.loc[index, 'budget'] = imdb[x]['boxOffice']['budget']\n",
    "                    wiki.loc[index, 'cumulativeWorldwideGross'] = imdb[x]['boxOffice']['cumulativeWorldwideGross']\n",
    "\n",
    "                wiki.loc[index, 'keywords'] = imdb[x]['keywords']\n",
    "                wiki.loc[index, 'awards'] = imdb[x]['awards']\n",
    "    \n",
    "    d = wiki\n",
    "    return d\n",
    "\n",
    "movie = query_union(movie_imdb, movie_wiki)\n",
    "movie[\"release_date\"] = pd.to_datetime(movie['release_date'])\n",
    "movie['relese_year'] = movie['release_date'].dt.year\n",
    "\n",
    "serie = query_union(serie_imdb, serie_wiki)\n",
    "serie[\"release_date\"] = pd.to_datetime(serie['release_date'])\n",
    "serie['relese_year'] = serie['release_date'].dt.year"
   ]
  },
  {
   "cell_type": "code",
   "execution_count": null,
   "metadata": {},
   "outputs": [],
   "source": [
    "def reconciliation(starting_data, queried_data, type):\n",
    "    for i, r in starting_data.iterrows():\n",
    "        results = queried_data['title'].to_list()\n",
    "        if r['type'] == type:\n",
    "            if r['title'] in results:\n",
    "                index = results.index(r['title'])\n",
    "\n",
    "                starting_data.loc[i, 'imdb_id'] = queried_data._get_value(index, 'id')\n",
    "                starting_data.loc[i, 'languages'] = queried_data._get_value(index, 'languages')\n",
    "                starting_data.loc[i, 'director_gender'] = queried_data._get_value(index, 'director gender')\n",
    "\n",
    "                starting_data.loc[i, 'distributor'] = queried_data._get_value(index, 'distributor')\n",
    "                starting_data.loc[i, 'imDbRating'] = queried_data._get_value(index, 'imDbRating')\n",
    "                starting_data.loc[i, 'imDbRatingVotes'] = queried_data._get_value(index, 'imDbRatingVotes')\n",
    "                starting_data.loc[i, 'rottenTomatoes'] = queried_data._get_value(index, 'rating score')\n",
    "\n",
    "                starting_data.loc[i, 'budget'] = queried_data._get_value(index, 'budget')\n",
    "                starting_data.loc[i, 'gross'] = queried_data._get_value(index, 'cumulativeWorldwideGross')\n",
    "                starting_data.loc[i, 'keywords'] = queried_data._get_value(index, 'keywords')\n",
    "                starting_data.loc[i, 'awards'] = queried_data._get_value(index, 'awards')\n",
    "                \n",
    "                if r['director'] == 'No Data':\n",
    "                    starting_data.loc[i, 'director'] = queried_data._get_value(index, 'director')\n",
    "                elif pd.isna(r['director']):\n",
    "                    starting_data.loc[i, 'directors'] = queried_data._get_value(index, 'directors')\n",
    "\n",
    "                if r['country'] == 'No Data':\n",
    "                    starting_data.loc[i, 'country'] = queried_data._get_value(index, 'countries')\n",
    "                if r['rating'] == 'No Data':\n",
    "                    starting_data.loc[i, 'rating'] = queried_data._get_value(index, 'rating')\n",
    "                if r['cast'] == 'No Data':\n",
    "                    starting_data.loc[i, 'cast'] = queried_data._get_value(index, 'cast')\n",
    "\n",
    "                if r['date_added_netflix'] == 'No Data' and r['netflix'] == 1.0 and queried_data._get_value(index, 'relese_year') > 2006.0:\n",
    "                    starting_data.loc[i, 'date_added_netflix'] = queried_data._get_value(index, 'release_date')\n",
    "\n",
    "                if r['date_added_amazon'] == 'No Data' and r['amazon'] == 1.0 and queried_data._get_value(index, 'relese_year') > 2006.0:\n",
    "                    starting_data.loc[i, 'date_added_amazon'] = queried_data._get_value(index, 'release_date')\n",
    "\n",
    "    final_dataset = starting_data\n",
    "    return final_dataset\n",
    "\n",
    "working = reconciliation(df, movie, 'Movie')\n",
    "final = reconciliation(working, serie, 'TV Show')\n",
    "\n",
    "final.replace( 'No Data', np.nan, inplace=True)\n",
    "final.replace( 'None', np.nan, inplace=True)\n",
    "final.replace( '', np.nan, inplace=True)\n",
    "final.replace( 'no_data', np.nan, inplace=True)\n",
    "final.dropna(subset=['imdb_id'], inplace=True)\n",
    "final.reset_index(drop=True, inplace=True)\n",
    "final = final[['type', 'imdb_id', 'title', 'director','director_gender', 'cast', 'distributor', 'country', 'languages','release_year', 'rating', 'duration', 'listed_in', 'netflix', 'amazon', 'date_added_netflix', 'date_added_amazon', 'imDbRating', 'imDbRatingVotes','rottenTomatoes', 'budget', 'gross', 'description', 'keywords', 'awards']]\n",
    "final['distributor'] = final['distributor'].str.replace(r\"['()']\",\"\")\n",
    "final['duration'] = final['duration'].apply(lambda w: Word(w).singularize())\n"
   ]
  },
  {
   "cell_type": "code",
   "execution_count": 328,
   "metadata": {},
   "outputs": [
    {
     "name": "stdout",
     "output_type": "stream",
     "text": [
      "director null rate: 15.92%\n",
      "director_gender null rate: 27.59%\n",
      "cast null rate: 0.23%\n",
      "distributor null rate: 23.03%\n",
      "country null rate: 13.75%\n",
      "languages null rate: 24.06%\n",
      "rating null rate: 0.01%\n",
      "date_added_netflix null rate: 39.87%\n",
      "date_added_amazon null rate: 84.16%\n",
      "imDbRating null rate: 22.87%\n",
      "imDbRatingVotes null rate: 22.87%\n",
      "rottenTomatoes null rate: 53.32%\n",
      "budget null rate: 78.98%\n",
      "gross null rate: 68.44%\n",
      "keywords null rate: 27.62%\n",
      "awards null rate: 50.54%\n"
     ]
    }
   ],
   "source": [
    "for i in final.columns:\n",
    "    null_rate = final[i].isna().sum() / len(final) * 100 \n",
    "    if null_rate > 0 :\n",
    "        print(\"{} null rate: {}%\".format(i,round(null_rate,2)))"
   ]
  },
  {
   "cell_type": "code",
   "execution_count": 329,
   "metadata": {},
   "outputs": [],
   "source": [
    "final_dataset = final.copy()"
   ]
  },
  {
   "cell_type": "markdown",
   "metadata": {},
   "source": [
    "From the score of the null values ​​we note that the null values ​​of the director's data drop from 25.64% to 15.92%. National data also improved from a zero rate of 52.86% to 13.75%. Netflix added date reaches a score of 39.87% while amazon added date reaches 84.16%.\n",
    "The null transmission rate is almost completely filled in.\n",
    "\n",
    "Regarding the data coming from the queries, we see the gender of the director, the distributor, the languages, imDb rating, imDbRating votes and the keywords as the best compiled. In contrast, Rotten Tomatoes, budgets, gross, and awards cover less than half of the dataset, but we have decided to keep that information as it could be helpful in understanding the impact of streaming services on the film industry.\n",
    "\n",
    "At this point we analyze our data to understand the type of normalization process to be applied and if it is possible to fill in the missing information starting from the records of other columns.\n",
    "\n",
    "### Director Gender - 27% null to 18.92%  (Giulia)\n",
    "\n",
    "Director gender could be compiled starting form director records. We use the library [genderize](https://pypi.org/project/Genderize/), in order to get the gender form the director's names. This library convert any english name into its gender retriving six type of results: male, female, mostly_male, mostly_female, unknown and andy (could be use for both sex). We decide to transforme mostly_male in male, mostly_female in female, andy oneces as male and oneces ad female. As for unknown we decide to keep the information."
   ]
  },
  {
   "cell_type": "code",
   "execution_count": 330,
   "metadata": {},
   "outputs": [],
   "source": [
    "import gender_guesser.detector as gender\n",
    "d = gender.Detector()\n",
    "missing_gender = final_dataset.query('director.notnull() & director_gender.isnull()')"
   ]
  },
  {
   "cell_type": "code",
   "execution_count": 331,
   "metadata": {},
   "outputs": [],
   "source": [
    "andy = 0\n",
    "for  index, name in missing_gender['director'].iteritems(): \n",
    "    if not pd.isna(name):\n",
    "        full_names = name.split(', ')\n",
    "        genders = []\n",
    "        for i in full_names:\n",
    "            name = i.split()[0]\n",
    "            if '.' in name:\n",
    "                name = i.split()[1]\n",
    "            gender = d.get_gender(name)\n",
    "            if gender == 'mostly_male':\n",
    "                gender = 'male'\n",
    "            elif gender == 'mostly_female':\n",
    "                gender = 'female'\n",
    "            elif gender == 'andy':\n",
    "                if (andy % 2) == 0:\n",
    "                    gender = 'male'\n",
    "                else:\n",
    "                    gender = 'female'\n",
    "                andy += 1\n",
    "            genders.append(gender)\n",
    "        final_dataset.loc[index, 'director_gender'] = ', '.join(genders)"
   ]
  },
  {
   "cell_type": "markdown",
   "metadata": {},
   "source": [
    "### Languages - 22.76% null to 13.75%   (Giulia)\n",
    "\n",
    "Langauges cold be compiled form country data. We use two library: [CountryInfo](https://pypi.org/project/countryinfo/) and [Babel](https://babel.pocoo.org/en/latest/). First we get the list of country spoken languages using country info module .languages() that retrive the ist iso-alpha code. Finaly we convert it with the convet the results in languages name using .get_language_name('lang') module. During this process we had to lead with two problems: some country were not present in CountryInfo dataset, some iso-alpha code were not converted by Babel. So, we manuly compile them creating the LANG_MAPPING dictionary. "
   ]
  },
  {
   "cell_type": "code",
   "execution_count": 332,
   "metadata": {},
   "outputs": [],
   "source": [
    "from countryinfo import CountryInfo\n",
    "from babel import Locale\n",
    "missing_languages = final_dataset.query('country.notnull() & languages.isnull()')\n",
    "\n",
    "LANG_MAPPING = {\n",
    "    'Soviet Union' : 'Russian',\n",
    "    'Bahamas': 'English',\n",
    "    'Kosovo': 'Albanian, Serbian',\n",
    "    'South Africa': 'English',\n",
    "    'United Kingdom': 'English',\n",
    "    'gn': 'Guarani',\n",
    "    'nr': 'South Ndebele',\n",
    "    'st': 'Sotho',\n",
    "    'tn': 'Tswana',\n",
    "    'ts' : 'Tsonga',\n",
    "    've' : 'Venda',\n",
    "}"
   ]
  },
  {
   "cell_type": "code",
   "execution_count": 333,
   "metadata": {},
   "outputs": [],
   "source": [
    "for index, x in missing_languages['country'].iteritems():\n",
    "    if not pd.isna(x):\n",
    "        to_add = set()\n",
    "        l = x.split(', ')\n",
    "        for i in range(len(l)):\n",
    "            name = l[i].replace(',', '')\n",
    "            if name in LANG_MAPPING.keys():\n",
    "                lang = LANG_MAPPING[name]\n",
    "                to_add.add(lang)\n",
    "            else:\n",
    "                country = CountryInfo(name)\n",
    "                data = country.languages()\n",
    "                list = set()\n",
    "                for item in data:\n",
    "                    if item in LANG_MAPPING.keys():\n",
    "                        lang = LANG_MAPPING[item]\n",
    "                        list.add(lang)\n",
    "                    else:\n",
    "                        language = Locale.parse(item)\n",
    "                        language = language.get_language_name('en')\n",
    "                        list.add(language)\n",
    "                to_add.add(', '.join(list)) \n",
    "\n",
    "        final_dataset.loc[index, 'languages'] = ', '.join(to_add)"
   ]
  },
  {
   "cell_type": "markdown",
   "metadata": {},
   "source": [
    "### Keywords - 26.47% null to 0%  (Giulia)\n",
    "\n",
    "Keywords missing data could be compiled starting from titles' descriptions. To do that we use [Spacy](https://spacy.io), a natural language processing libray. We decide keep any world annotaded by this library as noun (NOUN) and pronoun (PROPN). "
   ]
  },
  {
   "cell_type": "code",
   "execution_count": 334,
   "metadata": {},
   "outputs": [],
   "source": [
    "import spacy\n",
    "keywords_to_find = final_dataset.query('keywords.isnull() and description.notnull()')\n",
    "NER = spacy.load(\"en_core_web_sm\")\n",
    "to_take = ['NOUN', 'PROPN']\n",
    "keywords = []\n",
    "for index, x in keywords_to_find['description'].iteritems():\n",
    "    parsed = NER(x)\n",
    "    tokens = []\n",
    "    for token in parsed:\n",
    "        if token.pos_ in to_take:\n",
    "            if token.text not in tokens:\n",
    "                tokens.append(token.text)\n",
    "    keys = ','.join(tokens)\n",
    "    final_dataset.loc[index, 'keywords']  = keys"
   ]
  },
  {
   "cell_type": "markdown",
   "metadata": {},
   "source": [
    "### Rating - normalization   (Camilla)\n",
    "We normalize rating information groupping the various categories in six macro category: kids all, older kids 7+, teens 13+, young adults 16+, adults 18+ and unreated."
   ]
  },
  {
   "cell_type": "code",
   "execution_count": 335,
   "metadata": {},
   "outputs": [],
   "source": [
    "for index, rating in final_dataset['rating'].iteritems():\n",
    "    if not pd.isna(rating):\n",
    "        if rating == 'ALL'or rating == 'TV-G'or rating == 'TV-Y'or rating == 'G':\n",
    "            final_dataset.loc[index, 'rating']  = 'Kids All'\n",
    "        elif rating == '7+'or rating == 'PG'or rating == 'TV-PG'or rating == 'TV-Y7'or rating == 'TV-Y7-FV' :\n",
    "            final_dataset.loc[index, 'rating']  = 'Older Kids 7+'\n",
    "        elif rating == '13+'or rating == 'PG-13' :\n",
    "            final_dataset.loc[index, 'rating']  = 'Teens 13+'\n",
    "        elif rating == '16'or rating == '16+'or rating == 'AGES_16_'or rating == 'TV-14':\n",
    "            final_dataset.loc[index, 'rating']  = 'Young Adults 16+'\n",
    "        elif rating == '18+'or rating == 'AGES_18_'or rating == 'TV-MA'or rating == 'NC-17' or rating == 'R':\n",
    "            final_dataset.loc[index, 'rating']  = 'Adults 18+'\n",
    "        elif rating == 'NR'or rating == 'UNRATED'or rating == 'UR'or rating == 'NOT_RATE' or rating == 'TV-NR':\n",
    "            final_dataset.loc[index, 'rating']  = 'Unrated'"
   ]
  },
  {
   "cell_type": "markdown",
   "metadata": {},
   "source": [
    "### Listed in - normalization   (Giulia)\n",
    "\n",
    "Amazon and Ntflix use to list titles into genre macro categories. They use different names, sometimes differienciating contents genre if it deals with TV Shows of Movies. In order to normalize the titles' genre informaton we first singularize them, than we convert the results using GEN_MAPPING dictionary. "
   ]
  },
  {
   "cell_type": "code",
   "execution_count": 336,
   "metadata": {},
   "outputs": [],
   "source": [
    "GEN_MAPPING = {\n",
    "    'Lgbtq movie': 'Lgbtq',\n",
    "    'Suspense':'Thriller',\n",
    "     'Sports movie':'Sport',\n",
    "     'Anime feature':'Anime',\n",
    "     'Anime series':'Anime',\n",
    "    'International movie':'International',\n",
    "    'International tv show':'International',\n",
    "     'Science fiction': 'Sci-fi & fantasy',\n",
    "      'Tv sci-fi & fantasy':'Sci-fi & fantasy',\n",
    "    'Fantasy':'Sci-fi & fantasy',\n",
    "     'Tv drama' : 'Drama',\n",
    "    'Horror movie':'Horror',\n",
    "    'Tv horror' :'Horror',\n",
    "    'Adventure':'Action & adventure',\n",
    "    'Action':'Action & adventure',\n",
    "    'Tv action & adventure':'Action & adventure',\n",
    "    'Romantic movie':'Romance',\n",
    "    'Faith and spirituality':'Faith & spirituality',\n",
    "     'Arthouse': 'Art',\n",
    "       'And culture': 'Art',\n",
    "    'Movie':'Classic & cult',\n",
    "    'Special interest':'Independent', \n",
    "    'Kid':'Children & family',\n",
    "     'Young adult audience':'Teen',\n",
    "     'Teen tv show':'Teen',\n",
    "     'Children & family movie':'Children & family',\n",
    "     \"Kid's tv\":'Children & family',\n",
    "     \"Kids' tv\":'Children & family',\n",
    "     'Stand-up comedy': 'Stand-up comedy & talk show',\n",
    "     'Tv thriller':'Thriller',\n",
    "     'Tv comedy': 'Commedy',\n",
    "     'Comedy':'Commedy',\n",
    "     'Classic movie': 'Classic & cult',\n",
    "     'Classic & cult tv': 'Classic & cult',\n",
    "     'Cult movie': 'Classic & cult',\n",
    "     'Docuseries':'Documentary',\n",
    "     'Romantic tv show':'Romance',\n",
    "     'Crime tv show':'Crime & mystery',\n",
    "     'Tv mystery':'Crime & mystery',\n",
    "     'Tv show': 'Reality',\n",
    "     'Reality tv': 'Reality',\n",
    "     'Science & nature tv': 'Science & nature',\n",
    "     'Indipendent movie':'Indipendent',\n",
    "     'Music videos and concert':'Music & musical',\n",
    "     'Spanish-language tv show': 'International',\n",
    "     'Korean tv show': 'International',\n",
    "     'British tv show': 'International',\n",
    "     'Independent movie':'Independent'\n",
    "\n",
    "    }"
   ]
  },
  {
   "cell_type": "code",
   "execution_count": 337,
   "metadata": {},
   "outputs": [],
   "source": [
    "df = pd.DataFrame()\n",
    "\n",
    "df['genre'] = final_dataset['listed_in'].apply(lambda x :  x.replace(' ,',',').replace(', ',',').split(',')) \n",
    "for index, i in df['genre'].iteritems(): \n",
    "    for n in range(len(i)):\n",
    "        w = i[n]\n",
    "        w = Word(w).singularize().capitalize()\n",
    "        if w in GEN_MAPPING.keys():       \n",
    "            w = GEN_MAPPING[w]\n",
    "        i = i[:n]+[w]+i[n+1:]\n",
    "    final_dataset.loc[index, 'listed_in'] = ', '.join(i)\n"
   ]
  },
  {
   "cell_type": "markdown",
   "metadata": {},
   "source": [
    "### Distributor - normalization  (Giulia)\n",
    "\n",
    "We notce that in iMDb distributor data, Amazon was recoded using different names, refering to which corporate are of the company was responsable of the title distribution. Bcause we wanna keep only commulative informations we convert any of those string in Amazon Prime."
   ]
  },
  {
   "cell_type": "code",
   "execution_count": 338,
   "metadata": {},
   "outputs": [],
   "source": [
    "final_dataset['distributor'].replace(  np.nan, 'no_data', inplace=True)"
   ]
  },
  {
   "cell_type": "code",
   "execution_count": 339,
   "metadata": {},
   "outputs": [],
   "source": [
    "df = pd.DataFrame()\n",
    "Types = set()\n",
    "df['distr'] = final_dataset['distributor'].apply(lambda x :  x.replace(' ,',',').replace(', ',',').split(',')) \n",
    "for index, i in df['distr'].iteritems(): \n",
    "    for n in range(len(i)):\n",
    "        w = i[n]\n",
    "        if 'Amazon' in w or 'amazon' in w:\n",
    "            w = 'Amazon Prime'\n",
    "        i = i[:n]+[w]+i[n+1:]\n",
    "    final_dataset.loc[index, 'distributor'] = ', '.join(i)"
   ]
  },
  {
   "cell_type": "markdown",
   "metadata": {},
   "source": [
    "### Rotten Tomatoes and iMDb Ratings - normalization  (Camilla)\n",
    "Rotten Tomatoes data was sometimes expressed as a percentage, sometimes in fractional form. They are also of type string and not numeric. We therefore decided to convert them into percentages of type float. iMDb Ratings were expressed as float form value 0 to 10. In order to prepare data for analysis, we diced to conver also IMDb Ratings in percentages. "
   ]
  },
  {
   "cell_type": "code",
   "execution_count": 340,
   "metadata": {},
   "outputs": [],
   "source": [
    "for  index, vote in final_dataset['rottenTomatoes'].iteritems():\n",
    "    if not pd.isna(vote) and type(vote) != float:\n",
    "        l = (vote.split())\n",
    "        if len(l) > 1:\n",
    "            l.remove('of')\n",
    "            val = float(l[0])*100//float(l[1])\n",
    "        if '%' in vote:\n",
    "            val = float(vote.replace('%', ''))\n",
    "        elif '/' in vote:\n",
    "            l = vote.split('/')\n",
    "            val = float(l[0]) * 100 // float(l[1])\n",
    "        else:\n",
    "            val = float(l[0])\n",
    "            \n",
    "        final_dataset.loc[index, 'rottenTomatoes'] = val\n",
    "\n",
    "for  index, imbdvote in final['imDbRating'].iteritems():\n",
    "    if pd.notnull(imbdvote):\n",
    "        val = float(imbdvote)*10\n",
    "        final_dataset.loc[index, 'imDbRating'] = val"
   ]
  },
  {
   "cell_type": "markdown",
   "metadata": {},
   "source": [
    "### Awards - normalization  (Giulia)\n",
    "\n",
    "Awards were expressed as strings contening on the fist half known award competition name (such as Oscars), information on the status of the award (if the title was nominated or it actully win the award) and the total numder of prize or nominations. On the second half is recorded total ammount of nomination and win prize recived by the title form any kind of competitions or contest. We split those data into five columns: special_award_name, special_award_tot, special_award_stat, award_win_tot and award_nomination_tot."
   ]
  },
  {
   "cell_type": "code",
   "execution_count": 341,
   "metadata": {},
   "outputs": [],
   "source": [
    "for  index, x in final_dataset['awards'].iteritems():\n",
    "    if not pd.isna(x) and x != '':\n",
    "        list = x.split(\", \")\n",
    "        \n",
    "        k = list[0]\n",
    "\n",
    "        special = k.split('|')\n",
    "\n",
    "        nameA =[]\n",
    "        tot = []\n",
    "        stat= []\n",
    "        for item in special:     \n",
    "            l = item.split()\n",
    "            \n",
    "            if 'for' in l:\n",
    "                l.remove('for')\n",
    "\n",
    "            if 'Top' not in l and len(l) > 1:\n",
    "                stat.append(l[0])\n",
    "                tot.append(l[1])\n",
    "                name = ' '.join(l[2:])\n",
    "                name = name.removesuffix('s')\n",
    "                nameA.append(name)\n",
    "                \n",
    "            elif 'Top' in l and len(l) > 1:\n",
    "                tot.append('1')\n",
    "                name = ' '.join(l[:3])\n",
    "                nameA.append(name)\n",
    "                stat.append('nn')\n",
    "                \n",
    "            else:\n",
    "                if l[0] != 'Nominated' and l[0] != 'Won':\n",
    "                    nameA.append(l[0])\n",
    "                    tot.append('1')\n",
    "                    stat.append('nn')\n",
    "                    \n",
    "        final_dataset.loc[index, 'special_award_name']  = ', '.join(nameA)\n",
    "        final_dataset.loc[index, 'special_award_tot']  = ', '.join(tot)\n",
    "        final_dataset.loc[index, 'special_award_stat']  = ', '.join(stat)\n",
    "\n",
    "        w = list[1].split('&')\n",
    "        win_tot = []\n",
    "        nomination_tot = []\n",
    "        \n",
    "        for n in range(len(w)):\n",
    "            if 'win' in  w[n]  and 'nominations' not in w[n]:\n",
    "                nom = w[n].split()\n",
    "                win_tot.append(int(nom[0]))\n",
    "            if 'nomination' in w[n] and 'win' not in w[n]:\n",
    "                win = w[n].split()\n",
    "                nomination_tot.append(int(win[0]))\n",
    "        \n",
    "        if nomination_tot != []:\n",
    "            final_dataset.loc[index, 'award_nomination_tot']  = nomination_tot[0]\n",
    "        else :\n",
    "            final_dataset.loc[index, 'award_nomination_tot']  = np.nan\n",
    "\n",
    "        if win_tot != []:\n",
    "            final_dataset.loc[index, 'award_win_tot']  = win_tot[0]\n",
    "        else :\n",
    "            final_dataset.loc[index, 'award_win_tot']  = np.nan\n",
    " \n",
    "    else:\n",
    "        final_dataset.loc[index, 'special_award_name']  = np.nan        \n",
    "        final_dataset.loc[index, 'special_award_tot']  = np.nan        \n",
    "        final_dataset.loc[index, 'special_award_stat']  = np.nan        \n",
    "        final_dataset.loc[index, 'award_win_tot']  = np.nan        \n",
    "        final_dataset.loc[index, 'award_nomination_tot']  = np.nan\n",
    "        "
   ]
  },
  {
   "cell_type": "markdown",
   "metadata": {},
   "source": [
    "### Budget and Gross - normalization  (Giulia)\n",
    "\n",
    "Budget data were expressed in different currencys. We decide to normalize them in euro using CurrencyConverter library. Here we had to deal with some issues. Budgets were recorded as strings, so we had first to separete the numers from the currency symbol. Than using CURRENCY_MAPPING dictionay we convert currency symbols in its ISO code used as paramenter for the convertion that was made using .convert(tot, currency) method. Not all the ISO currency codes were present on CurrencyConverter so we add CURRENCY_EXRATE dictionary to perform the convertion manualy.\n",
    "\n",
    "To normalize gross data we followed the same procedure, beside the fact that all records were expressed in american dollars because it refere to world wide tiltes' gross. So we are not resorting to dictionaries, but we convert the ammount using .convert(tot, 'USD') method"
   ]
  },
  {
   "cell_type": "code",
   "execution_count": 342,
   "metadata": {},
   "outputs": [],
   "source": [
    "import re\n",
    "from currency_converter import CurrencyConverter\n",
    "c = CurrencyConverter()\n",
    "\n",
    "CURRENCY_MAPPING = {\n",
    "    '$' : 'USD',\n",
    "    'A$': 'AUD',\n",
    "    'CA$': 'CAD',\n",
    "    'CN¥': 'CNY',\n",
    "    'HK$': 'HKD',\n",
    "    'MX$': 'MXN',\n",
    "    'NT$': 'TWD',\n",
    "    'RUR': 'RUB',\n",
    "    '£' : 'GBP',\n",
    "    '₩' : 'KRW',\n",
    "    '₪' : 'ILS',\n",
    "    '€' : 'EUR',\n",
    "    '₹' : 'INR',\n",
    "}\n",
    "\n",
    "CURRENCY_EXRATE = {\n",
    "    'ARS' : 0.0070, \n",
    "    'EGP' : 0.052, \n",
    "    'MVR' : 0.065, \n",
    "    'NGN' : 0.0023, \n",
    "    'PKR' : 0.0043, \n",
    "    'TWD' : 0.032,\n",
    "}"
   ]
  },
  {
   "cell_type": "code",
   "execution_count": 343,
   "metadata": {},
   "outputs": [],
   "source": [
    "# Budget normalization\n",
    "for index, x in final_dataset['budget'].iteritems():\n",
    "    if not pd.isna(x):\n",
    "        x = x.split()\n",
    "        if '(estimated)' in x:\n",
    "            x.remove('(estimated)')\n",
    "        if len(x) == 1:\n",
    "            val = x[0].split(',')\n",
    "            val = ''.join(val)\n",
    "            currency = [s for s in re.findall(r\"[^0-9.]\", val)]\n",
    "            currency = ''.join(currency)\n",
    "            tot = val.strip(currency)\n",
    "        elif len(x) != 0:\n",
    "            tot = x[1].split(',')\n",
    "            tot = ''.join(tot)\n",
    "            currency = x[0]\n",
    "\n",
    "        if currency in CURRENCY_MAPPING.keys():\n",
    "            currency = CURRENCY_MAPPING[currency]\n",
    "\n",
    "        if currency in c.currencies:\n",
    "            ammount = int(c.convert(tot, currency))\n",
    "        else:\n",
    "            ex_Rate = CURRENCY_EXRATE[currency]\n",
    "            ammount = int(int(tot) // ex_Rate)\n",
    "\n",
    "        final_dataset.loc[index, 'budget']  = ammount \n",
    "    else:\n",
    "        final_dataset.loc[index, 'budget']  = np.nan\n",
    "\n",
    "# Gross normalization\n",
    "for index, x in final_dataset['gross'].iteritems():\n",
    "    if not pd.isna(x):\n",
    "        x = x.split(',')\n",
    "        x = ''.join(x)\n",
    "        x = [int(s) for s in re.findall(r'\\b\\d+\\b', x)]\n",
    "        ammount = int(c.convert(x[0], 'USD'))\n",
    "        final_dataset.loc[index, 'gross']  =  ammount\n",
    "    else:\n",
    "        final_dataset.loc[index, 'gross']  = np.nan"
   ]
  },
  {
   "cell_type": "markdown",
   "metadata": {},
   "source": [
    "### Final Dataset\n",
    "\n",
    "Finaly we conert any 'no_data' string, added during the clining phases to deal all the procedures, in nan values and we save the dinal dataset in csv format."
   ]
  },
  {
   "cell_type": "code",
   "execution_count": 344,
   "metadata": {},
   "outputs": [],
   "source": [
    "final_dataset.replace( np.nan, 'no_data', inplace=True)\n",
    "final_dataset.to_csv('final_dataset.csv', index= False)"
   ]
  },
  {
   "cell_type": "markdown",
   "metadata": {},
   "source": [
    "# Data analysis and visualization (Giulia)\n",
    "\n",
    "Starting from our data and our research question: how streaming platforms have changed film production; we decided to divide the analysis into 3 steps:\n",
    "\n",
    "1. What kind of content is present on Streaming Platforms? \n",
    "2. How streaming services treats their content? \n",
    "3. How streaming service influence cinema industry?\n",
    "\n",
    "To deal with visualization and analysis we use [matplotlib](https://matplotlib.org), [plotly](https://go.plotly.com/website) and [sklearn](https://scikit-learn.org/stable/) library."
   ]
  },
  {
   "cell_type": "code",
   "execution_count": 345,
   "metadata": {},
   "outputs": [],
   "source": [
    "import tkinter\n",
    "import matplotlib\n",
    "import matplotlib.colors\n",
    "import matplotlib.pyplot as plt\n",
    "import plotly.express as px\n",
    "import plotly.graph_objects as go\n",
    "import seaborn as sns\n",
    "from sklearn.preprocessing import MultiLabelBinarizer \n",
    "\n",
    "data = pd.read_csv('final_dataset.csv')\n",
    "colors = ['#0f79af','#5287c1','#7b95d0','#a0a3de','#c2b2ea','#e2c1f5','#ffd2ff','#ffb5ea','#ff96cc','#ff76a7','#ff547c','#f9314c','#e50914']\n",
    "two_colors =['#ff547c', '#a0a3de']\n",
    "margin={'t':10,'l':10,'b':10,'r':10}\n",
    "margin_title = {'t':50,'l':10,'b':10,'r':10}"
   ]
  },
  {
   "cell_type": "markdown",
   "metadata": {},
   "source": [
    "# What kind of content is present on Streaming Platforms?\n",
    "To represent contents we use data about type of item (if in Tv Shows or Movie), country of provenance, and languages spoken. Then to have a deeper insight we look to directors gender and rating, to from who the content is made and for whom.\n",
    "\n",
    "### Tv Series/Movie distribution sunburst\n",
    "We plot in a sunbarst the distribution of content typology in our dataset (Movie, TV Show) and the consequent subdivision between Amazon and Netflix.\n",
    "\n",
    "**Conclusion:** Netflix is more represented in our dataset than Movies. Surprisingly there are more films than TV series in both platforms"
   ]
  },
  {
   "cell_type": "code",
   "execution_count": null,
   "metadata": {},
   "outputs": [],
   "source": [
    "x= data.groupby(['type'])[['amazon', 'netflix']].sum()\n",
    "y=len(data)\n",
    "r=((x*100/y)).round(2)\n",
    "ratio = pd.DataFrame(r)\n",
    "ratio\n",
    "df = ratio.stack().reset_index()\n",
    "df.columns = ['type','distr','val']\n",
    "df['distr'] = df['distr'].apply(lambda x: x.capitalize())\n",
    "fig = px.sunburst(df, path=['distr', 'type'], values='val',color='distr', hover_name=\"type\", color_discrete_map={'Netflix':'#ff547c', 'Amazon':'#a0a3de'})\n",
    "\n",
    "fig.update_traces(marker=dict(line=dict(color='#212529', width=2)), textfont=dict(family=\"Arial, san serif\",size=16,color=\"white\"),hoverlabel=dict(font_size=14,font_family=\"Arial, san serif\",font_color=\"white\"),)\n",
    "fig.update_traces(hovertemplate=('<br>%{customdata[0]} presence is: %{value}%<br>'))\n",
    "fig.update_layout(paper_bgcolor=\"#212529\", plot_bgcolor ='rgba(0, 0, 0, 0)', hoverlabel_bordercolor='#212529',margin=margin, yaxis_gridcolor ='rgba(225, 225, 225, .5)', font_color=\"white\", font_family=\"Arial, san serif\", font_size=15)\n",
    "fig.write_html('visualization/one.html')\n",
    "fig.show()"
   ]
  },
  {
   "cell_type": "markdown",
   "metadata": {},
   "source": [
    "### Country analysis\n",
    "We plot in a bar chart the 10 countries more represented in our dataset\n",
    "\n",
    "**Conclusion:** here we can notice that half of the content come from USA, the second most represented country is Idia followed by UK. The huge presence of American content could be related to the fact that both company are from USA."
   ]
  },
  {
   "cell_type": "code",
   "execution_count": 347,
   "metadata": {},
   "outputs": [
    {
     "data": {
      "application/vnd.plotly.v1+json": {
       "config": {
        "plotlyServerURL": "https://plot.ly"
       },
       "data": [
        {
         "hoverlabel": {
          "font": {
           "color": "white",
           "family": "Arial, san serif",
           "size": 14
          }
         },
         "hovertemplate": "<br>%{x} presence is: %{value}%<br><extra></extra>",
         "marker": {
          "color": [
           "#f9314c",
           "#ff547c",
           "#ff76a7",
           "#ff96cc",
           "#ffb5ea",
           "#ffd2ff",
           "#e2c1f5",
           "#c2b2ea",
           "#a0a3de",
           "#7b95d0",
           "#5287c1",
           "#0f79af"
          ],
          "line": {
           "color": "#212529",
           "width": 2
          }
         },
         "type": "bar",
         "x": [
          "USA",
          "India",
          "UK",
          "Canada",
          "France",
          "Germany",
          "Spain",
          "Australia",
          "S. Korea",
          "China"
         ],
         "y": [
          41,
          12.98,
          8.61,
          4.9,
          3.91,
          2.49,
          1.95,
          1.79,
          1.66,
          1.57
         ]
        }
       ],
       "layout": {
        "font": {
         "color": "white",
         "family": "Arial, san serif",
         "size": 15
        },
        "hoverlabel": {
         "bordercolor": "#212529"
        },
        "margin": {
         "b": 10,
         "l": 10,
         "r": 10,
         "t": 10
        },
        "paper_bgcolor": "#212529",
        "plot_bgcolor": "rgba(0, 0, 0, 0)",
        "template": {
         "data": {
          "bar": [
           {
            "error_x": {
             "color": "#2a3f5f"
            },
            "error_y": {
             "color": "#2a3f5f"
            },
            "marker": {
             "line": {
              "color": "#E5ECF6",
              "width": 0.5
             },
             "pattern": {
              "fillmode": "overlay",
              "size": 10,
              "solidity": 0.2
             }
            },
            "type": "bar"
           }
          ],
          "barpolar": [
           {
            "marker": {
             "line": {
              "color": "#E5ECF6",
              "width": 0.5
             },
             "pattern": {
              "fillmode": "overlay",
              "size": 10,
              "solidity": 0.2
             }
            },
            "type": "barpolar"
           }
          ],
          "carpet": [
           {
            "aaxis": {
             "endlinecolor": "#2a3f5f",
             "gridcolor": "white",
             "linecolor": "white",
             "minorgridcolor": "white",
             "startlinecolor": "#2a3f5f"
            },
            "baxis": {
             "endlinecolor": "#2a3f5f",
             "gridcolor": "white",
             "linecolor": "white",
             "minorgridcolor": "white",
             "startlinecolor": "#2a3f5f"
            },
            "type": "carpet"
           }
          ],
          "choropleth": [
           {
            "colorbar": {
             "outlinewidth": 0,
             "ticks": ""
            },
            "type": "choropleth"
           }
          ],
          "contour": [
           {
            "colorbar": {
             "outlinewidth": 0,
             "ticks": ""
            },
            "colorscale": [
             [
              0,
              "#0d0887"
             ],
             [
              0.1111111111111111,
              "#46039f"
             ],
             [
              0.2222222222222222,
              "#7201a8"
             ],
             [
              0.3333333333333333,
              "#9c179e"
             ],
             [
              0.4444444444444444,
              "#bd3786"
             ],
             [
              0.5555555555555556,
              "#d8576b"
             ],
             [
              0.6666666666666666,
              "#ed7953"
             ],
             [
              0.7777777777777778,
              "#fb9f3a"
             ],
             [
              0.8888888888888888,
              "#fdca26"
             ],
             [
              1,
              "#f0f921"
             ]
            ],
            "type": "contour"
           }
          ],
          "contourcarpet": [
           {
            "colorbar": {
             "outlinewidth": 0,
             "ticks": ""
            },
            "type": "contourcarpet"
           }
          ],
          "heatmap": [
           {
            "colorbar": {
             "outlinewidth": 0,
             "ticks": ""
            },
            "colorscale": [
             [
              0,
              "#0d0887"
             ],
             [
              0.1111111111111111,
              "#46039f"
             ],
             [
              0.2222222222222222,
              "#7201a8"
             ],
             [
              0.3333333333333333,
              "#9c179e"
             ],
             [
              0.4444444444444444,
              "#bd3786"
             ],
             [
              0.5555555555555556,
              "#d8576b"
             ],
             [
              0.6666666666666666,
              "#ed7953"
             ],
             [
              0.7777777777777778,
              "#fb9f3a"
             ],
             [
              0.8888888888888888,
              "#fdca26"
             ],
             [
              1,
              "#f0f921"
             ]
            ],
            "type": "heatmap"
           }
          ],
          "heatmapgl": [
           {
            "colorbar": {
             "outlinewidth": 0,
             "ticks": ""
            },
            "colorscale": [
             [
              0,
              "#0d0887"
             ],
             [
              0.1111111111111111,
              "#46039f"
             ],
             [
              0.2222222222222222,
              "#7201a8"
             ],
             [
              0.3333333333333333,
              "#9c179e"
             ],
             [
              0.4444444444444444,
              "#bd3786"
             ],
             [
              0.5555555555555556,
              "#d8576b"
             ],
             [
              0.6666666666666666,
              "#ed7953"
             ],
             [
              0.7777777777777778,
              "#fb9f3a"
             ],
             [
              0.8888888888888888,
              "#fdca26"
             ],
             [
              1,
              "#f0f921"
             ]
            ],
            "type": "heatmapgl"
           }
          ],
          "histogram": [
           {
            "marker": {
             "pattern": {
              "fillmode": "overlay",
              "size": 10,
              "solidity": 0.2
             }
            },
            "type": "histogram"
           }
          ],
          "histogram2d": [
           {
            "colorbar": {
             "outlinewidth": 0,
             "ticks": ""
            },
            "colorscale": [
             [
              0,
              "#0d0887"
             ],
             [
              0.1111111111111111,
              "#46039f"
             ],
             [
              0.2222222222222222,
              "#7201a8"
             ],
             [
              0.3333333333333333,
              "#9c179e"
             ],
             [
              0.4444444444444444,
              "#bd3786"
             ],
             [
              0.5555555555555556,
              "#d8576b"
             ],
             [
              0.6666666666666666,
              "#ed7953"
             ],
             [
              0.7777777777777778,
              "#fb9f3a"
             ],
             [
              0.8888888888888888,
              "#fdca26"
             ],
             [
              1,
              "#f0f921"
             ]
            ],
            "type": "histogram2d"
           }
          ],
          "histogram2dcontour": [
           {
            "colorbar": {
             "outlinewidth": 0,
             "ticks": ""
            },
            "colorscale": [
             [
              0,
              "#0d0887"
             ],
             [
              0.1111111111111111,
              "#46039f"
             ],
             [
              0.2222222222222222,
              "#7201a8"
             ],
             [
              0.3333333333333333,
              "#9c179e"
             ],
             [
              0.4444444444444444,
              "#bd3786"
             ],
             [
              0.5555555555555556,
              "#d8576b"
             ],
             [
              0.6666666666666666,
              "#ed7953"
             ],
             [
              0.7777777777777778,
              "#fb9f3a"
             ],
             [
              0.8888888888888888,
              "#fdca26"
             ],
             [
              1,
              "#f0f921"
             ]
            ],
            "type": "histogram2dcontour"
           }
          ],
          "mesh3d": [
           {
            "colorbar": {
             "outlinewidth": 0,
             "ticks": ""
            },
            "type": "mesh3d"
           }
          ],
          "parcoords": [
           {
            "line": {
             "colorbar": {
              "outlinewidth": 0,
              "ticks": ""
             }
            },
            "type": "parcoords"
           }
          ],
          "pie": [
           {
            "automargin": true,
            "type": "pie"
           }
          ],
          "scatter": [
           {
            "marker": {
             "colorbar": {
              "outlinewidth": 0,
              "ticks": ""
             }
            },
            "type": "scatter"
           }
          ],
          "scatter3d": [
           {
            "line": {
             "colorbar": {
              "outlinewidth": 0,
              "ticks": ""
             }
            },
            "marker": {
             "colorbar": {
              "outlinewidth": 0,
              "ticks": ""
             }
            },
            "type": "scatter3d"
           }
          ],
          "scattercarpet": [
           {
            "marker": {
             "colorbar": {
              "outlinewidth": 0,
              "ticks": ""
             }
            },
            "type": "scattercarpet"
           }
          ],
          "scattergeo": [
           {
            "marker": {
             "colorbar": {
              "outlinewidth": 0,
              "ticks": ""
             }
            },
            "type": "scattergeo"
           }
          ],
          "scattergl": [
           {
            "marker": {
             "colorbar": {
              "outlinewidth": 0,
              "ticks": ""
             }
            },
            "type": "scattergl"
           }
          ],
          "scattermapbox": [
           {
            "marker": {
             "colorbar": {
              "outlinewidth": 0,
              "ticks": ""
             }
            },
            "type": "scattermapbox"
           }
          ],
          "scatterpolar": [
           {
            "marker": {
             "colorbar": {
              "outlinewidth": 0,
              "ticks": ""
             }
            },
            "type": "scatterpolar"
           }
          ],
          "scatterpolargl": [
           {
            "marker": {
             "colorbar": {
              "outlinewidth": 0,
              "ticks": ""
             }
            },
            "type": "scatterpolargl"
           }
          ],
          "scatterternary": [
           {
            "marker": {
             "colorbar": {
              "outlinewidth": 0,
              "ticks": ""
             }
            },
            "type": "scatterternary"
           }
          ],
          "surface": [
           {
            "colorbar": {
             "outlinewidth": 0,
             "ticks": ""
            },
            "colorscale": [
             [
              0,
              "#0d0887"
             ],
             [
              0.1111111111111111,
              "#46039f"
             ],
             [
              0.2222222222222222,
              "#7201a8"
             ],
             [
              0.3333333333333333,
              "#9c179e"
             ],
             [
              0.4444444444444444,
              "#bd3786"
             ],
             [
              0.5555555555555556,
              "#d8576b"
             ],
             [
              0.6666666666666666,
              "#ed7953"
             ],
             [
              0.7777777777777778,
              "#fb9f3a"
             ],
             [
              0.8888888888888888,
              "#fdca26"
             ],
             [
              1,
              "#f0f921"
             ]
            ],
            "type": "surface"
           }
          ],
          "table": [
           {
            "cells": {
             "fill": {
              "color": "#EBF0F8"
             },
             "line": {
              "color": "white"
             }
            },
            "header": {
             "fill": {
              "color": "#C8D4E3"
             },
             "line": {
              "color": "white"
             }
            },
            "type": "table"
           }
          ]
         },
         "layout": {
          "annotationdefaults": {
           "arrowcolor": "#2a3f5f",
           "arrowhead": 0,
           "arrowwidth": 1
          },
          "autotypenumbers": "strict",
          "coloraxis": {
           "colorbar": {
            "outlinewidth": 0,
            "ticks": ""
           }
          },
          "colorscale": {
           "diverging": [
            [
             0,
             "#8e0152"
            ],
            [
             0.1,
             "#c51b7d"
            ],
            [
             0.2,
             "#de77ae"
            ],
            [
             0.3,
             "#f1b6da"
            ],
            [
             0.4,
             "#fde0ef"
            ],
            [
             0.5,
             "#f7f7f7"
            ],
            [
             0.6,
             "#e6f5d0"
            ],
            [
             0.7,
             "#b8e186"
            ],
            [
             0.8,
             "#7fbc41"
            ],
            [
             0.9,
             "#4d9221"
            ],
            [
             1,
             "#276419"
            ]
           ],
           "sequential": [
            [
             0,
             "#0d0887"
            ],
            [
             0.1111111111111111,
             "#46039f"
            ],
            [
             0.2222222222222222,
             "#7201a8"
            ],
            [
             0.3333333333333333,
             "#9c179e"
            ],
            [
             0.4444444444444444,
             "#bd3786"
            ],
            [
             0.5555555555555556,
             "#d8576b"
            ],
            [
             0.6666666666666666,
             "#ed7953"
            ],
            [
             0.7777777777777778,
             "#fb9f3a"
            ],
            [
             0.8888888888888888,
             "#fdca26"
            ],
            [
             1,
             "#f0f921"
            ]
           ],
           "sequentialminus": [
            [
             0,
             "#0d0887"
            ],
            [
             0.1111111111111111,
             "#46039f"
            ],
            [
             0.2222222222222222,
             "#7201a8"
            ],
            [
             0.3333333333333333,
             "#9c179e"
            ],
            [
             0.4444444444444444,
             "#bd3786"
            ],
            [
             0.5555555555555556,
             "#d8576b"
            ],
            [
             0.6666666666666666,
             "#ed7953"
            ],
            [
             0.7777777777777778,
             "#fb9f3a"
            ],
            [
             0.8888888888888888,
             "#fdca26"
            ],
            [
             1,
             "#f0f921"
            ]
           ]
          },
          "colorway": [
           "#636efa",
           "#EF553B",
           "#00cc96",
           "#ab63fa",
           "#FFA15A",
           "#19d3f3",
           "#FF6692",
           "#B6E880",
           "#FF97FF",
           "#FECB52"
          ],
          "font": {
           "color": "#2a3f5f"
          },
          "geo": {
           "bgcolor": "white",
           "lakecolor": "white",
           "landcolor": "#E5ECF6",
           "showlakes": true,
           "showland": true,
           "subunitcolor": "white"
          },
          "hoverlabel": {
           "align": "left"
          },
          "hovermode": "closest",
          "mapbox": {
           "style": "light"
          },
          "paper_bgcolor": "white",
          "plot_bgcolor": "#E5ECF6",
          "polar": {
           "angularaxis": {
            "gridcolor": "white",
            "linecolor": "white",
            "ticks": ""
           },
           "bgcolor": "#E5ECF6",
           "radialaxis": {
            "gridcolor": "white",
            "linecolor": "white",
            "ticks": ""
           }
          },
          "scene": {
           "xaxis": {
            "backgroundcolor": "#E5ECF6",
            "gridcolor": "white",
            "gridwidth": 2,
            "linecolor": "white",
            "showbackground": true,
            "ticks": "",
            "zerolinecolor": "white"
           },
           "yaxis": {
            "backgroundcolor": "#E5ECF6",
            "gridcolor": "white",
            "gridwidth": 2,
            "linecolor": "white",
            "showbackground": true,
            "ticks": "",
            "zerolinecolor": "white"
           },
           "zaxis": {
            "backgroundcolor": "#E5ECF6",
            "gridcolor": "white",
            "gridwidth": 2,
            "linecolor": "white",
            "showbackground": true,
            "ticks": "",
            "zerolinecolor": "white"
           }
          },
          "shapedefaults": {
           "line": {
            "color": "#2a3f5f"
           }
          },
          "ternary": {
           "aaxis": {
            "gridcolor": "white",
            "linecolor": "white",
            "ticks": ""
           },
           "baxis": {
            "gridcolor": "white",
            "linecolor": "white",
            "ticks": ""
           },
           "bgcolor": "#E5ECF6",
           "caxis": {
            "gridcolor": "white",
            "linecolor": "white",
            "ticks": ""
           }
          },
          "title": {
           "x": 0.05
          },
          "xaxis": {
           "automargin": true,
           "gridcolor": "white",
           "linecolor": "white",
           "ticks": "",
           "title": {
            "standoff": 15
           },
           "zerolinecolor": "white",
           "zerolinewidth": 2
          },
          "yaxis": {
           "automargin": true,
           "gridcolor": "white",
           "linecolor": "white",
           "ticks": "",
           "title": {
            "standoff": 15
           },
           "zerolinecolor": "white",
           "zerolinewidth": 2
          }
         }
        },
        "xaxis": {
         "color": "white"
        },
        "yaxis": {
         "color": "white",
         "gridcolor": "rgba(225, 225, 225, .5)"
        }
       }
      }
     },
     "metadata": {},
     "output_type": "display_data"
    }
   ],
   "source": [
    "df = data.copy()\n",
    "df['country'].replace('no_data', np.nan, inplace  = True)\n",
    "df.dropna(inplace=True)\n",
    "country = []\n",
    "for i, x in df['country'].iteritems():\n",
    "    l = x.split(', ')\n",
    "    for c in l:\n",
    "        country.append(c)\n",
    "df = pd.DataFrame()\n",
    "df['country'] = country\n",
    "df['count'] = 1\n",
    "df['country'].replace('United States', 'USA', inplace=True)\n",
    "df['country'].replace('United Kingdom', 'UK',inplace=True)\n",
    "df['country'].replace('South Korea', 'S. Korea',inplace=True)\n",
    "x = df.groupby('country')['count'].sum().sort_values(ascending=False)[0:10]\n",
    "y=len(df)\n",
    "r=((x*100/y)).round(2)\n",
    "df = pd.DataFrame(r)\n",
    "fig = go.Figure(data=[go.Bar(x=df.index, y=df['count'].to_list())])\n",
    "fig.update_traces(marker_color=colors[::-1][1:], marker_line_color='#212529',\n",
    "                  marker_line_width=2)\n",
    "\n",
    "fig.update_traces(marker=dict(line=dict(color='#212529', width=2)), hoverlabel=dict(font_size=14,font_family=\"Arial, san serif\",font_color=\"white\"))\n",
    "fig.update_traces(hovertemplate=('<br>%{x} presence is: %{value}%<br><extra></extra>'))\n",
    "fig.update_layout(paper_bgcolor=\"#212529\", plot_bgcolor ='rgba(0, 0, 0, 0)', hoverlabel_bordercolor='#212529',margin=margin, yaxis_gridcolor ='rgba(225, 225, 225, .5)', font_color=\"white\", font_family=\"Arial, san serif\", font_size=15)\n",
    "\n",
    "fig.update_yaxes(color=\"white\")\n",
    "fig.update_xaxes(color=\"white\")\n",
    "fig.write_html('visualization/two.html')\n",
    "fig.show()"
   ]
  },
  {
   "cell_type": "markdown",
   "metadata": {},
   "source": [
    "### Languages analysis\n",
    "\n",
    "We plot in a bar chart the 10 languages most represented on our streaming services (amazon, netflix).\n",
    "\n",
    "**Conclusion:** as we aspected from countries results, English is the most spoken language on streaming service. Most of the asian films tend to use English languages to be international and placed in this kind of world wide services, even if Hindi is having a good representation in respect to the others. European languages as well have a good rapresentation."
   ]
  },
  {
   "cell_type": "code",
   "execution_count": 348,
   "metadata": {},
   "outputs": [
    {
     "data": {
      "application/vnd.plotly.v1+json": {
       "config": {
        "plotlyServerURL": "https://plot.ly"
       },
       "data": [
        {
         "hoverlabel": {
          "font": {
           "color": "white",
           "family": "Arial, san serif",
           "size": 14
          }
         },
         "hovertemplate": "<br>%{x} presence is: %{value}%<br><extra></extra>",
         "marker": {
          "color": [
           "#f9314c",
           "#ff547c",
           "#ff76a7",
           "#ff96cc",
           "#ffb5ea",
           "#ffd2ff",
           "#e2c1f5",
           "#c2b2ea",
           "#a0a3de",
           "#7b95d0",
           "#5287c1",
           "#0f79af"
          ],
          "line": {
           "color": "#212529",
           "width": 2
          }
         },
         "type": "bar",
         "x": [
          "English",
          "Hindi",
          "Spanish",
          "French",
          "German",
          "Tamil",
          "Mandarin",
          "Arabic",
          "Italian",
          "Korean"
         ],
         "y": [
          51.48,
          7.81,
          5.61,
          5.08,
          2.66,
          2.14,
          1.68,
          1.67,
          1.61,
          1.59
         ]
        }
       ],
       "layout": {
        "font": {
         "color": "white",
         "family": "Arial, san serif",
         "size": 15
        },
        "hoverlabel": {
         "bordercolor": "#212529"
        },
        "margin": {
         "b": 10,
         "l": 10,
         "r": 10,
         "t": 10
        },
        "paper_bgcolor": "#212529",
        "plot_bgcolor": "rgba(0, 0, 0, 0)",
        "template": {
         "data": {
          "bar": [
           {
            "error_x": {
             "color": "#2a3f5f"
            },
            "error_y": {
             "color": "#2a3f5f"
            },
            "marker": {
             "line": {
              "color": "#E5ECF6",
              "width": 0.5
             },
             "pattern": {
              "fillmode": "overlay",
              "size": 10,
              "solidity": 0.2
             }
            },
            "type": "bar"
           }
          ],
          "barpolar": [
           {
            "marker": {
             "line": {
              "color": "#E5ECF6",
              "width": 0.5
             },
             "pattern": {
              "fillmode": "overlay",
              "size": 10,
              "solidity": 0.2
             }
            },
            "type": "barpolar"
           }
          ],
          "carpet": [
           {
            "aaxis": {
             "endlinecolor": "#2a3f5f",
             "gridcolor": "white",
             "linecolor": "white",
             "minorgridcolor": "white",
             "startlinecolor": "#2a3f5f"
            },
            "baxis": {
             "endlinecolor": "#2a3f5f",
             "gridcolor": "white",
             "linecolor": "white",
             "minorgridcolor": "white",
             "startlinecolor": "#2a3f5f"
            },
            "type": "carpet"
           }
          ],
          "choropleth": [
           {
            "colorbar": {
             "outlinewidth": 0,
             "ticks": ""
            },
            "type": "choropleth"
           }
          ],
          "contour": [
           {
            "colorbar": {
             "outlinewidth": 0,
             "ticks": ""
            },
            "colorscale": [
             [
              0,
              "#0d0887"
             ],
             [
              0.1111111111111111,
              "#46039f"
             ],
             [
              0.2222222222222222,
              "#7201a8"
             ],
             [
              0.3333333333333333,
              "#9c179e"
             ],
             [
              0.4444444444444444,
              "#bd3786"
             ],
             [
              0.5555555555555556,
              "#d8576b"
             ],
             [
              0.6666666666666666,
              "#ed7953"
             ],
             [
              0.7777777777777778,
              "#fb9f3a"
             ],
             [
              0.8888888888888888,
              "#fdca26"
             ],
             [
              1,
              "#f0f921"
             ]
            ],
            "type": "contour"
           }
          ],
          "contourcarpet": [
           {
            "colorbar": {
             "outlinewidth": 0,
             "ticks": ""
            },
            "type": "contourcarpet"
           }
          ],
          "heatmap": [
           {
            "colorbar": {
             "outlinewidth": 0,
             "ticks": ""
            },
            "colorscale": [
             [
              0,
              "#0d0887"
             ],
             [
              0.1111111111111111,
              "#46039f"
             ],
             [
              0.2222222222222222,
              "#7201a8"
             ],
             [
              0.3333333333333333,
              "#9c179e"
             ],
             [
              0.4444444444444444,
              "#bd3786"
             ],
             [
              0.5555555555555556,
              "#d8576b"
             ],
             [
              0.6666666666666666,
              "#ed7953"
             ],
             [
              0.7777777777777778,
              "#fb9f3a"
             ],
             [
              0.8888888888888888,
              "#fdca26"
             ],
             [
              1,
              "#f0f921"
             ]
            ],
            "type": "heatmap"
           }
          ],
          "heatmapgl": [
           {
            "colorbar": {
             "outlinewidth": 0,
             "ticks": ""
            },
            "colorscale": [
             [
              0,
              "#0d0887"
             ],
             [
              0.1111111111111111,
              "#46039f"
             ],
             [
              0.2222222222222222,
              "#7201a8"
             ],
             [
              0.3333333333333333,
              "#9c179e"
             ],
             [
              0.4444444444444444,
              "#bd3786"
             ],
             [
              0.5555555555555556,
              "#d8576b"
             ],
             [
              0.6666666666666666,
              "#ed7953"
             ],
             [
              0.7777777777777778,
              "#fb9f3a"
             ],
             [
              0.8888888888888888,
              "#fdca26"
             ],
             [
              1,
              "#f0f921"
             ]
            ],
            "type": "heatmapgl"
           }
          ],
          "histogram": [
           {
            "marker": {
             "pattern": {
              "fillmode": "overlay",
              "size": 10,
              "solidity": 0.2
             }
            },
            "type": "histogram"
           }
          ],
          "histogram2d": [
           {
            "colorbar": {
             "outlinewidth": 0,
             "ticks": ""
            },
            "colorscale": [
             [
              0,
              "#0d0887"
             ],
             [
              0.1111111111111111,
              "#46039f"
             ],
             [
              0.2222222222222222,
              "#7201a8"
             ],
             [
              0.3333333333333333,
              "#9c179e"
             ],
             [
              0.4444444444444444,
              "#bd3786"
             ],
             [
              0.5555555555555556,
              "#d8576b"
             ],
             [
              0.6666666666666666,
              "#ed7953"
             ],
             [
              0.7777777777777778,
              "#fb9f3a"
             ],
             [
              0.8888888888888888,
              "#fdca26"
             ],
             [
              1,
              "#f0f921"
             ]
            ],
            "type": "histogram2d"
           }
          ],
          "histogram2dcontour": [
           {
            "colorbar": {
             "outlinewidth": 0,
             "ticks": ""
            },
            "colorscale": [
             [
              0,
              "#0d0887"
             ],
             [
              0.1111111111111111,
              "#46039f"
             ],
             [
              0.2222222222222222,
              "#7201a8"
             ],
             [
              0.3333333333333333,
              "#9c179e"
             ],
             [
              0.4444444444444444,
              "#bd3786"
             ],
             [
              0.5555555555555556,
              "#d8576b"
             ],
             [
              0.6666666666666666,
              "#ed7953"
             ],
             [
              0.7777777777777778,
              "#fb9f3a"
             ],
             [
              0.8888888888888888,
              "#fdca26"
             ],
             [
              1,
              "#f0f921"
             ]
            ],
            "type": "histogram2dcontour"
           }
          ],
          "mesh3d": [
           {
            "colorbar": {
             "outlinewidth": 0,
             "ticks": ""
            },
            "type": "mesh3d"
           }
          ],
          "parcoords": [
           {
            "line": {
             "colorbar": {
              "outlinewidth": 0,
              "ticks": ""
             }
            },
            "type": "parcoords"
           }
          ],
          "pie": [
           {
            "automargin": true,
            "type": "pie"
           }
          ],
          "scatter": [
           {
            "marker": {
             "colorbar": {
              "outlinewidth": 0,
              "ticks": ""
             }
            },
            "type": "scatter"
           }
          ],
          "scatter3d": [
           {
            "line": {
             "colorbar": {
              "outlinewidth": 0,
              "ticks": ""
             }
            },
            "marker": {
             "colorbar": {
              "outlinewidth": 0,
              "ticks": ""
             }
            },
            "type": "scatter3d"
           }
          ],
          "scattercarpet": [
           {
            "marker": {
             "colorbar": {
              "outlinewidth": 0,
              "ticks": ""
             }
            },
            "type": "scattercarpet"
           }
          ],
          "scattergeo": [
           {
            "marker": {
             "colorbar": {
              "outlinewidth": 0,
              "ticks": ""
             }
            },
            "type": "scattergeo"
           }
          ],
          "scattergl": [
           {
            "marker": {
             "colorbar": {
              "outlinewidth": 0,
              "ticks": ""
             }
            },
            "type": "scattergl"
           }
          ],
          "scattermapbox": [
           {
            "marker": {
             "colorbar": {
              "outlinewidth": 0,
              "ticks": ""
             }
            },
            "type": "scattermapbox"
           }
          ],
          "scatterpolar": [
           {
            "marker": {
             "colorbar": {
              "outlinewidth": 0,
              "ticks": ""
             }
            },
            "type": "scatterpolar"
           }
          ],
          "scatterpolargl": [
           {
            "marker": {
             "colorbar": {
              "outlinewidth": 0,
              "ticks": ""
             }
            },
            "type": "scatterpolargl"
           }
          ],
          "scatterternary": [
           {
            "marker": {
             "colorbar": {
              "outlinewidth": 0,
              "ticks": ""
             }
            },
            "type": "scatterternary"
           }
          ],
          "surface": [
           {
            "colorbar": {
             "outlinewidth": 0,
             "ticks": ""
            },
            "colorscale": [
             [
              0,
              "#0d0887"
             ],
             [
              0.1111111111111111,
              "#46039f"
             ],
             [
              0.2222222222222222,
              "#7201a8"
             ],
             [
              0.3333333333333333,
              "#9c179e"
             ],
             [
              0.4444444444444444,
              "#bd3786"
             ],
             [
              0.5555555555555556,
              "#d8576b"
             ],
             [
              0.6666666666666666,
              "#ed7953"
             ],
             [
              0.7777777777777778,
              "#fb9f3a"
             ],
             [
              0.8888888888888888,
              "#fdca26"
             ],
             [
              1,
              "#f0f921"
             ]
            ],
            "type": "surface"
           }
          ],
          "table": [
           {
            "cells": {
             "fill": {
              "color": "#EBF0F8"
             },
             "line": {
              "color": "white"
             }
            },
            "header": {
             "fill": {
              "color": "#C8D4E3"
             },
             "line": {
              "color": "white"
             }
            },
            "type": "table"
           }
          ]
         },
         "layout": {
          "annotationdefaults": {
           "arrowcolor": "#2a3f5f",
           "arrowhead": 0,
           "arrowwidth": 1
          },
          "autotypenumbers": "strict",
          "coloraxis": {
           "colorbar": {
            "outlinewidth": 0,
            "ticks": ""
           }
          },
          "colorscale": {
           "diverging": [
            [
             0,
             "#8e0152"
            ],
            [
             0.1,
             "#c51b7d"
            ],
            [
             0.2,
             "#de77ae"
            ],
            [
             0.3,
             "#f1b6da"
            ],
            [
             0.4,
             "#fde0ef"
            ],
            [
             0.5,
             "#f7f7f7"
            ],
            [
             0.6,
             "#e6f5d0"
            ],
            [
             0.7,
             "#b8e186"
            ],
            [
             0.8,
             "#7fbc41"
            ],
            [
             0.9,
             "#4d9221"
            ],
            [
             1,
             "#276419"
            ]
           ],
           "sequential": [
            [
             0,
             "#0d0887"
            ],
            [
             0.1111111111111111,
             "#46039f"
            ],
            [
             0.2222222222222222,
             "#7201a8"
            ],
            [
             0.3333333333333333,
             "#9c179e"
            ],
            [
             0.4444444444444444,
             "#bd3786"
            ],
            [
             0.5555555555555556,
             "#d8576b"
            ],
            [
             0.6666666666666666,
             "#ed7953"
            ],
            [
             0.7777777777777778,
             "#fb9f3a"
            ],
            [
             0.8888888888888888,
             "#fdca26"
            ],
            [
             1,
             "#f0f921"
            ]
           ],
           "sequentialminus": [
            [
             0,
             "#0d0887"
            ],
            [
             0.1111111111111111,
             "#46039f"
            ],
            [
             0.2222222222222222,
             "#7201a8"
            ],
            [
             0.3333333333333333,
             "#9c179e"
            ],
            [
             0.4444444444444444,
             "#bd3786"
            ],
            [
             0.5555555555555556,
             "#d8576b"
            ],
            [
             0.6666666666666666,
             "#ed7953"
            ],
            [
             0.7777777777777778,
             "#fb9f3a"
            ],
            [
             0.8888888888888888,
             "#fdca26"
            ],
            [
             1,
             "#f0f921"
            ]
           ]
          },
          "colorway": [
           "#636efa",
           "#EF553B",
           "#00cc96",
           "#ab63fa",
           "#FFA15A",
           "#19d3f3",
           "#FF6692",
           "#B6E880",
           "#FF97FF",
           "#FECB52"
          ],
          "font": {
           "color": "#2a3f5f"
          },
          "geo": {
           "bgcolor": "white",
           "lakecolor": "white",
           "landcolor": "#E5ECF6",
           "showlakes": true,
           "showland": true,
           "subunitcolor": "white"
          },
          "hoverlabel": {
           "align": "left"
          },
          "hovermode": "closest",
          "mapbox": {
           "style": "light"
          },
          "paper_bgcolor": "white",
          "plot_bgcolor": "#E5ECF6",
          "polar": {
           "angularaxis": {
            "gridcolor": "white",
            "linecolor": "white",
            "ticks": ""
           },
           "bgcolor": "#E5ECF6",
           "radialaxis": {
            "gridcolor": "white",
            "linecolor": "white",
            "ticks": ""
           }
          },
          "scene": {
           "xaxis": {
            "backgroundcolor": "#E5ECF6",
            "gridcolor": "white",
            "gridwidth": 2,
            "linecolor": "white",
            "showbackground": true,
            "ticks": "",
            "zerolinecolor": "white"
           },
           "yaxis": {
            "backgroundcolor": "#E5ECF6",
            "gridcolor": "white",
            "gridwidth": 2,
            "linecolor": "white",
            "showbackground": true,
            "ticks": "",
            "zerolinecolor": "white"
           },
           "zaxis": {
            "backgroundcolor": "#E5ECF6",
            "gridcolor": "white",
            "gridwidth": 2,
            "linecolor": "white",
            "showbackground": true,
            "ticks": "",
            "zerolinecolor": "white"
           }
          },
          "shapedefaults": {
           "line": {
            "color": "#2a3f5f"
           }
          },
          "ternary": {
           "aaxis": {
            "gridcolor": "white",
            "linecolor": "white",
            "ticks": ""
           },
           "baxis": {
            "gridcolor": "white",
            "linecolor": "white",
            "ticks": ""
           },
           "bgcolor": "#E5ECF6",
           "caxis": {
            "gridcolor": "white",
            "linecolor": "white",
            "ticks": ""
           }
          },
          "title": {
           "x": 0.05
          },
          "xaxis": {
           "automargin": true,
           "gridcolor": "white",
           "linecolor": "white",
           "ticks": "",
           "title": {
            "standoff": 15
           },
           "zerolinecolor": "white",
           "zerolinewidth": 2
          },
          "yaxis": {
           "automargin": true,
           "gridcolor": "white",
           "linecolor": "white",
           "ticks": "",
           "title": {
            "standoff": 15
           },
           "zerolinecolor": "white",
           "zerolinewidth": 2
          }
         }
        },
        "xaxis": {
         "color": "white"
        },
        "yaxis": {
         "color": "white",
         "gridcolor": "rgba(225, 225, 225, .5)"
        }
       }
      }
     },
     "metadata": {},
     "output_type": "display_data"
    }
   ],
   "source": [
    "df = data.copy()\n",
    "df['languages'].replace('no_data', np.nan, inplace  = True)\n",
    "df.dropna(inplace=True)\n",
    "languages = []\n",
    "for i, x in df['languages'].iteritems():\n",
    "    l = x.split(', ')\n",
    "    for lang in l:\n",
    "        languages.append(lang)\n",
    "df = pd.DataFrame()\n",
    "df['languages'] = languages\n",
    "df['count'] = 1\n",
    "x = df.groupby('languages')['count'].sum().sort_values(ascending=False)[0:10]\n",
    "y=len(df)\n",
    "r=((x*100/y)).round(2)\n",
    "df = pd.DataFrame(r)\n",
    "fig = go.Figure(data=[go.Bar(x=df.index, y=df['count'].to_list())])\n",
    "fig.update_traces(marker_color=colors[::-1][1:], marker_line_color='#212529',\n",
    "                  marker_line_width=2)\n",
    "\n",
    "fig.update_traces(marker=dict(line=dict(color='#212529', width=2)), hoverlabel=dict(font_size=14,font_family=\"Arial, san serif\",font_color=\"white\"))\n",
    "\n",
    "fig.update_traces(hovertemplate=('<br>%{x} presence is: %{value}%<br><extra></extra>'))\n",
    "\n",
    "fig.update_layout(paper_bgcolor=\"#212529\", plot_bgcolor ='rgba(0, 0, 0, 0)', hoverlabel_bordercolor='#212529',margin=margin, yaxis_gridcolor ='rgba(225, 225, 225, .5)', font_color=\"white\", font_family=\"Arial, san serif\", font_size=15)\n",
    "\n",
    "fig.update_yaxes(color=\"white\")\n",
    "fig.update_xaxes(color=\"white\")\n",
    "fig.write_html('visualization/three.html')\n",
    "fig.show()"
   ]
  },
  {
   "cell_type": "markdown",
   "metadata": {},
   "source": [
    "## Rating analysis\n",
    "\n",
    "We plot in a bar chart ratings present on our dataset divided for type (Movie and TV Show).\n",
    "\n",
    "**Conclusion:** Here we can notice that most of the contents are made for Adults. Another interesting insights is the fact that movie present more teen than young adoults rating and TV Shows tent to be rated more as Young Adults than Teen."
   ]
  },
  {
   "cell_type": "code",
   "execution_count": 349,
   "metadata": {},
   "outputs": [
    {
     "data": {
      "application/vnd.plotly.v1+json": {
       "config": {
        "plotlyServerURL": "https://plot.ly"
       },
       "data": [
        {
         "base": 0,
         "hoverlabel": {
          "font": {
           "color": "white",
           "family": "Arial, san serif",
           "size": 14
          }
         },
         "hovertemplate": "<br>Total %{x}: %{y}<br><extra></extra>",
         "marker": {
          "color": "#ff547c",
          "line": {
           "color": "#212529",
           "width": 2
          }
         },
         "name": "Movie",
         "type": "bar",
         "x": [
          "Adults 18+",
          "Young Adults 16+",
          "Teens 13+",
          "Older Kids 7+",
          "Kids All",
          "Unrated"
         ],
         "y": [
          2895,
          1230,
          1344,
          645,
          266,
          102
         ]
        },
        {
         "hoverlabel": {
          "font": {
           "color": "white",
           "family": "Arial, san serif",
           "size": 14
          }
         },
         "hovertemplate": "<br>Total %{x}: %{y}<br><extra></extra>",
         "marker": {
          "color": "#a0a3de",
          "line": {
           "color": "#212529",
           "width": 2
          }
         },
         "name": "TV Shows",
         "type": "bar",
         "x": [
          "Adults 18+",
          "Young Adults 16+",
          "Teens 13+",
          "Older Kids 7+",
          "Kids All",
          "Unrated"
         ],
         "y": [
          759,
          494,
          64,
          309,
          184,
          18
         ]
        }
       ],
       "layout": {
        "font": {
         "color": "white",
         "family": "Arial, san serif",
         "size": 15
        },
        "hoverlabel": {
         "bordercolor": "#212529"
        },
        "margin": {
         "b": 10,
         "l": 10,
         "r": 10,
         "t": 10
        },
        "paper_bgcolor": "#212529",
        "plot_bgcolor": "rgba(0, 0, 0, 0)",
        "template": {
         "data": {
          "bar": [
           {
            "error_x": {
             "color": "#2a3f5f"
            },
            "error_y": {
             "color": "#2a3f5f"
            },
            "marker": {
             "line": {
              "color": "#E5ECF6",
              "width": 0.5
             },
             "pattern": {
              "fillmode": "overlay",
              "size": 10,
              "solidity": 0.2
             }
            },
            "type": "bar"
           }
          ],
          "barpolar": [
           {
            "marker": {
             "line": {
              "color": "#E5ECF6",
              "width": 0.5
             },
             "pattern": {
              "fillmode": "overlay",
              "size": 10,
              "solidity": 0.2
             }
            },
            "type": "barpolar"
           }
          ],
          "carpet": [
           {
            "aaxis": {
             "endlinecolor": "#2a3f5f",
             "gridcolor": "white",
             "linecolor": "white",
             "minorgridcolor": "white",
             "startlinecolor": "#2a3f5f"
            },
            "baxis": {
             "endlinecolor": "#2a3f5f",
             "gridcolor": "white",
             "linecolor": "white",
             "minorgridcolor": "white",
             "startlinecolor": "#2a3f5f"
            },
            "type": "carpet"
           }
          ],
          "choropleth": [
           {
            "colorbar": {
             "outlinewidth": 0,
             "ticks": ""
            },
            "type": "choropleth"
           }
          ],
          "contour": [
           {
            "colorbar": {
             "outlinewidth": 0,
             "ticks": ""
            },
            "colorscale": [
             [
              0,
              "#0d0887"
             ],
             [
              0.1111111111111111,
              "#46039f"
             ],
             [
              0.2222222222222222,
              "#7201a8"
             ],
             [
              0.3333333333333333,
              "#9c179e"
             ],
             [
              0.4444444444444444,
              "#bd3786"
             ],
             [
              0.5555555555555556,
              "#d8576b"
             ],
             [
              0.6666666666666666,
              "#ed7953"
             ],
             [
              0.7777777777777778,
              "#fb9f3a"
             ],
             [
              0.8888888888888888,
              "#fdca26"
             ],
             [
              1,
              "#f0f921"
             ]
            ],
            "type": "contour"
           }
          ],
          "contourcarpet": [
           {
            "colorbar": {
             "outlinewidth": 0,
             "ticks": ""
            },
            "type": "contourcarpet"
           }
          ],
          "heatmap": [
           {
            "colorbar": {
             "outlinewidth": 0,
             "ticks": ""
            },
            "colorscale": [
             [
              0,
              "#0d0887"
             ],
             [
              0.1111111111111111,
              "#46039f"
             ],
             [
              0.2222222222222222,
              "#7201a8"
             ],
             [
              0.3333333333333333,
              "#9c179e"
             ],
             [
              0.4444444444444444,
              "#bd3786"
             ],
             [
              0.5555555555555556,
              "#d8576b"
             ],
             [
              0.6666666666666666,
              "#ed7953"
             ],
             [
              0.7777777777777778,
              "#fb9f3a"
             ],
             [
              0.8888888888888888,
              "#fdca26"
             ],
             [
              1,
              "#f0f921"
             ]
            ],
            "type": "heatmap"
           }
          ],
          "heatmapgl": [
           {
            "colorbar": {
             "outlinewidth": 0,
             "ticks": ""
            },
            "colorscale": [
             [
              0,
              "#0d0887"
             ],
             [
              0.1111111111111111,
              "#46039f"
             ],
             [
              0.2222222222222222,
              "#7201a8"
             ],
             [
              0.3333333333333333,
              "#9c179e"
             ],
             [
              0.4444444444444444,
              "#bd3786"
             ],
             [
              0.5555555555555556,
              "#d8576b"
             ],
             [
              0.6666666666666666,
              "#ed7953"
             ],
             [
              0.7777777777777778,
              "#fb9f3a"
             ],
             [
              0.8888888888888888,
              "#fdca26"
             ],
             [
              1,
              "#f0f921"
             ]
            ],
            "type": "heatmapgl"
           }
          ],
          "histogram": [
           {
            "marker": {
             "pattern": {
              "fillmode": "overlay",
              "size": 10,
              "solidity": 0.2
             }
            },
            "type": "histogram"
           }
          ],
          "histogram2d": [
           {
            "colorbar": {
             "outlinewidth": 0,
             "ticks": ""
            },
            "colorscale": [
             [
              0,
              "#0d0887"
             ],
             [
              0.1111111111111111,
              "#46039f"
             ],
             [
              0.2222222222222222,
              "#7201a8"
             ],
             [
              0.3333333333333333,
              "#9c179e"
             ],
             [
              0.4444444444444444,
              "#bd3786"
             ],
             [
              0.5555555555555556,
              "#d8576b"
             ],
             [
              0.6666666666666666,
              "#ed7953"
             ],
             [
              0.7777777777777778,
              "#fb9f3a"
             ],
             [
              0.8888888888888888,
              "#fdca26"
             ],
             [
              1,
              "#f0f921"
             ]
            ],
            "type": "histogram2d"
           }
          ],
          "histogram2dcontour": [
           {
            "colorbar": {
             "outlinewidth": 0,
             "ticks": ""
            },
            "colorscale": [
             [
              0,
              "#0d0887"
             ],
             [
              0.1111111111111111,
              "#46039f"
             ],
             [
              0.2222222222222222,
              "#7201a8"
             ],
             [
              0.3333333333333333,
              "#9c179e"
             ],
             [
              0.4444444444444444,
              "#bd3786"
             ],
             [
              0.5555555555555556,
              "#d8576b"
             ],
             [
              0.6666666666666666,
              "#ed7953"
             ],
             [
              0.7777777777777778,
              "#fb9f3a"
             ],
             [
              0.8888888888888888,
              "#fdca26"
             ],
             [
              1,
              "#f0f921"
             ]
            ],
            "type": "histogram2dcontour"
           }
          ],
          "mesh3d": [
           {
            "colorbar": {
             "outlinewidth": 0,
             "ticks": ""
            },
            "type": "mesh3d"
           }
          ],
          "parcoords": [
           {
            "line": {
             "colorbar": {
              "outlinewidth": 0,
              "ticks": ""
             }
            },
            "type": "parcoords"
           }
          ],
          "pie": [
           {
            "automargin": true,
            "type": "pie"
           }
          ],
          "scatter": [
           {
            "marker": {
             "colorbar": {
              "outlinewidth": 0,
              "ticks": ""
             }
            },
            "type": "scatter"
           }
          ],
          "scatter3d": [
           {
            "line": {
             "colorbar": {
              "outlinewidth": 0,
              "ticks": ""
             }
            },
            "marker": {
             "colorbar": {
              "outlinewidth": 0,
              "ticks": ""
             }
            },
            "type": "scatter3d"
           }
          ],
          "scattercarpet": [
           {
            "marker": {
             "colorbar": {
              "outlinewidth": 0,
              "ticks": ""
             }
            },
            "type": "scattercarpet"
           }
          ],
          "scattergeo": [
           {
            "marker": {
             "colorbar": {
              "outlinewidth": 0,
              "ticks": ""
             }
            },
            "type": "scattergeo"
           }
          ],
          "scattergl": [
           {
            "marker": {
             "colorbar": {
              "outlinewidth": 0,
              "ticks": ""
             }
            },
            "type": "scattergl"
           }
          ],
          "scattermapbox": [
           {
            "marker": {
             "colorbar": {
              "outlinewidth": 0,
              "ticks": ""
             }
            },
            "type": "scattermapbox"
           }
          ],
          "scatterpolar": [
           {
            "marker": {
             "colorbar": {
              "outlinewidth": 0,
              "ticks": ""
             }
            },
            "type": "scatterpolar"
           }
          ],
          "scatterpolargl": [
           {
            "marker": {
             "colorbar": {
              "outlinewidth": 0,
              "ticks": ""
             }
            },
            "type": "scatterpolargl"
           }
          ],
          "scatterternary": [
           {
            "marker": {
             "colorbar": {
              "outlinewidth": 0,
              "ticks": ""
             }
            },
            "type": "scatterternary"
           }
          ],
          "surface": [
           {
            "colorbar": {
             "outlinewidth": 0,
             "ticks": ""
            },
            "colorscale": [
             [
              0,
              "#0d0887"
             ],
             [
              0.1111111111111111,
              "#46039f"
             ],
             [
              0.2222222222222222,
              "#7201a8"
             ],
             [
              0.3333333333333333,
              "#9c179e"
             ],
             [
              0.4444444444444444,
              "#bd3786"
             ],
             [
              0.5555555555555556,
              "#d8576b"
             ],
             [
              0.6666666666666666,
              "#ed7953"
             ],
             [
              0.7777777777777778,
              "#fb9f3a"
             ],
             [
              0.8888888888888888,
              "#fdca26"
             ],
             [
              1,
              "#f0f921"
             ]
            ],
            "type": "surface"
           }
          ],
          "table": [
           {
            "cells": {
             "fill": {
              "color": "#EBF0F8"
             },
             "line": {
              "color": "white"
             }
            },
            "header": {
             "fill": {
              "color": "#C8D4E3"
             },
             "line": {
              "color": "white"
             }
            },
            "type": "table"
           }
          ]
         },
         "layout": {
          "annotationdefaults": {
           "arrowcolor": "#2a3f5f",
           "arrowhead": 0,
           "arrowwidth": 1
          },
          "autotypenumbers": "strict",
          "coloraxis": {
           "colorbar": {
            "outlinewidth": 0,
            "ticks": ""
           }
          },
          "colorscale": {
           "diverging": [
            [
             0,
             "#8e0152"
            ],
            [
             0.1,
             "#c51b7d"
            ],
            [
             0.2,
             "#de77ae"
            ],
            [
             0.3,
             "#f1b6da"
            ],
            [
             0.4,
             "#fde0ef"
            ],
            [
             0.5,
             "#f7f7f7"
            ],
            [
             0.6,
             "#e6f5d0"
            ],
            [
             0.7,
             "#b8e186"
            ],
            [
             0.8,
             "#7fbc41"
            ],
            [
             0.9,
             "#4d9221"
            ],
            [
             1,
             "#276419"
            ]
           ],
           "sequential": [
            [
             0,
             "#0d0887"
            ],
            [
             0.1111111111111111,
             "#46039f"
            ],
            [
             0.2222222222222222,
             "#7201a8"
            ],
            [
             0.3333333333333333,
             "#9c179e"
            ],
            [
             0.4444444444444444,
             "#bd3786"
            ],
            [
             0.5555555555555556,
             "#d8576b"
            ],
            [
             0.6666666666666666,
             "#ed7953"
            ],
            [
             0.7777777777777778,
             "#fb9f3a"
            ],
            [
             0.8888888888888888,
             "#fdca26"
            ],
            [
             1,
             "#f0f921"
            ]
           ],
           "sequentialminus": [
            [
             0,
             "#0d0887"
            ],
            [
             0.1111111111111111,
             "#46039f"
            ],
            [
             0.2222222222222222,
             "#7201a8"
            ],
            [
             0.3333333333333333,
             "#9c179e"
            ],
            [
             0.4444444444444444,
             "#bd3786"
            ],
            [
             0.5555555555555556,
             "#d8576b"
            ],
            [
             0.6666666666666666,
             "#ed7953"
            ],
            [
             0.7777777777777778,
             "#fb9f3a"
            ],
            [
             0.8888888888888888,
             "#fdca26"
            ],
            [
             1,
             "#f0f921"
            ]
           ]
          },
          "colorway": [
           "#636efa",
           "#EF553B",
           "#00cc96",
           "#ab63fa",
           "#FFA15A",
           "#19d3f3",
           "#FF6692",
           "#B6E880",
           "#FF97FF",
           "#FECB52"
          ],
          "font": {
           "color": "#2a3f5f"
          },
          "geo": {
           "bgcolor": "white",
           "lakecolor": "white",
           "landcolor": "#E5ECF6",
           "showlakes": true,
           "showland": true,
           "subunitcolor": "white"
          },
          "hoverlabel": {
           "align": "left"
          },
          "hovermode": "closest",
          "mapbox": {
           "style": "light"
          },
          "paper_bgcolor": "white",
          "plot_bgcolor": "#E5ECF6",
          "polar": {
           "angularaxis": {
            "gridcolor": "white",
            "linecolor": "white",
            "ticks": ""
           },
           "bgcolor": "#E5ECF6",
           "radialaxis": {
            "gridcolor": "white",
            "linecolor": "white",
            "ticks": ""
           }
          },
          "scene": {
           "xaxis": {
            "backgroundcolor": "#E5ECF6",
            "gridcolor": "white",
            "gridwidth": 2,
            "linecolor": "white",
            "showbackground": true,
            "ticks": "",
            "zerolinecolor": "white"
           },
           "yaxis": {
            "backgroundcolor": "#E5ECF6",
            "gridcolor": "white",
            "gridwidth": 2,
            "linecolor": "white",
            "showbackground": true,
            "ticks": "",
            "zerolinecolor": "white"
           },
           "zaxis": {
            "backgroundcolor": "#E5ECF6",
            "gridcolor": "white",
            "gridwidth": 2,
            "linecolor": "white",
            "showbackground": true,
            "ticks": "",
            "zerolinecolor": "white"
           }
          },
          "shapedefaults": {
           "line": {
            "color": "#2a3f5f"
           }
          },
          "ternary": {
           "aaxis": {
            "gridcolor": "white",
            "linecolor": "white",
            "ticks": ""
           },
           "baxis": {
            "gridcolor": "white",
            "linecolor": "white",
            "ticks": ""
           },
           "bgcolor": "#E5ECF6",
           "caxis": {
            "gridcolor": "white",
            "linecolor": "white",
            "ticks": ""
           }
          },
          "title": {
           "x": 0.05
          },
          "xaxis": {
           "automargin": true,
           "gridcolor": "white",
           "linecolor": "white",
           "ticks": "",
           "title": {
            "standoff": 15
           },
           "zerolinecolor": "white",
           "zerolinewidth": 2
          },
          "yaxis": {
           "automargin": true,
           "gridcolor": "white",
           "linecolor": "white",
           "ticks": "",
           "title": {
            "standoff": 15
           },
           "zerolinecolor": "white",
           "zerolinewidth": 2
          }
         }
        },
        "xaxis": {
         "color": "white"
        },
        "yaxis": {
         "color": "white",
         "gridcolor": "rgba(225, 225, 225, .5)"
        }
       }
      }
     },
     "metadata": {},
     "output_type": "display_data"
    }
   ],
   "source": [
    "df = data.copy()\n",
    "df['rating'].replace('no_data', np.nan, inplace  = True)\n",
    "df.dropna(inplace=True)\n",
    "df['count'] = 1\n",
    "order = pd.DataFrame(df.groupby('rating')['count'].sum().sort_values(ascending=False).reset_index())\n",
    "rating_order = order['rating'].to_list()\n",
    "mf = df.groupby('type')['rating'].value_counts().unstack().sort_index().fillna(0).astype(int)[rating_order]\n",
    "fig = go.Figure()\n",
    "fig.add_trace(go.Bar(x=mf.columns, y=mf.loc['Movie'],\n",
    "                base=0,\n",
    "                marker_color='#ff547c',\n",
    "                name='Movie'))\n",
    "fig.add_trace(go.Bar(x=mf.columns,  y= mf.loc['TV Show'],\n",
    "                marker_color='#a0a3de',\n",
    "                name='TV Shows'\n",
    "                ))\n",
    "\n",
    "fig.update_traces(marker=dict(line=dict(color='#212529', width=2)), hoverlabel=dict(font_size=14,font_family=\"Arial, san serif\",font_color=\"white\") )\n",
    "fig.update_traces(hovertemplate=('<br>Total %{x}: %{y}<br><extra></extra>'))\n",
    "fig.update_layout(paper_bgcolor=\"#212529\", plot_bgcolor ='rgba(0, 0, 0, 0)', hoverlabel_bordercolor='#212529',margin=margin, yaxis_gridcolor ='rgba(225, 225, 225, .5)', font_color=\"white\", font_family=\"Arial, san serif\", font_size=15)\n",
    "\n",
    "fig.update_yaxes(color=\"white\")\n",
    "fig.update_xaxes(color=\"white\")\n",
    "fig.write_html('visualization/four.html')\n",
    "fig.show()"
   ]
  },
  {
   "cell_type": "markdown",
   "metadata": {},
   "source": [
    "### Director gender analysis\n",
    "\n",
    "We plot a pie chart to understand gender distribution in our dataset. Then, in order to better get the evolution during time of gender inclusion we plot a filled area chart.\n",
    "\n",
    "**Conclusion:** From the two plot we notice that male directors are still the majority. Interestingly, after 2014 (the year of the real boom of streaming services), female directors have seen an increase. But, in the same year the male directors also had an exponential growth. Are we really achieving a gender balance in the world of cinema, or are we simply producing more content in less time?"
   ]
  },
  {
   "cell_type": "code",
   "execution_count": 350,
   "metadata": {},
   "outputs": [
    {
     "data": {
      "application/vnd.plotly.v1+json": {
       "config": {
        "plotlyServerURL": "https://plot.ly"
       },
       "data": [
        {
         "domain": {
          "x": [
           0,
           1
          ],
          "y": [
           0,
           1
          ]
         },
         "hoverlabel": {
          "font": {
           "color": "white",
           "family": "Arial, san serif",
           "size": 14
          }
         },
         "hovertemplate": "<br>Total %{label} directors are %{value}<br><extra></extra>",
         "labels": [
          "male",
          "female",
          "unknown",
          "transgender female",
          "non-binary"
         ],
         "legendgroup": "",
         "marker": {
          "colors": [
           "#ff547c",
           "#ff76a7",
           "#ff96cc",
           "#ffb5ea",
           "#ffd2ff",
           "#e2c1f5",
           "#c2b2ea",
           "#a0a3de",
           "#7b95d0",
           "#5287c1",
           "#0f79af"
          ],
          "line": {
           "color": "#212529",
           "width": 2
          }
         },
         "name": "",
         "showlegend": true,
         "textfont": {
          "color": "white",
          "family": "Arial, san serif",
          "size": 15
         },
         "textinfo": "percent+label",
         "textposition": "inside",
         "type": "pie",
         "values": [
          5975,
          886,
          256,
          4,
          2
         ]
        }
       ],
       "layout": {
        "font": {
         "color": "white",
         "family": "Arial, san serif",
         "size": 15
        },
        "hoverlabel": {
         "bordercolor": "#212529"
        },
        "legend": {
         "tracegroupgap": 0
        },
        "margin": {
         "b": 10,
         "l": 10,
         "r": 10,
         "t": 10
        },
        "paper_bgcolor": "#212529",
        "plot_bgcolor": "rgba(0, 0, 0, 0)",
        "template": {
         "data": {
          "bar": [
           {
            "error_x": {
             "color": "#2a3f5f"
            },
            "error_y": {
             "color": "#2a3f5f"
            },
            "marker": {
             "line": {
              "color": "#E5ECF6",
              "width": 0.5
             },
             "pattern": {
              "fillmode": "overlay",
              "size": 10,
              "solidity": 0.2
             }
            },
            "type": "bar"
           }
          ],
          "barpolar": [
           {
            "marker": {
             "line": {
              "color": "#E5ECF6",
              "width": 0.5
             },
             "pattern": {
              "fillmode": "overlay",
              "size": 10,
              "solidity": 0.2
             }
            },
            "type": "barpolar"
           }
          ],
          "carpet": [
           {
            "aaxis": {
             "endlinecolor": "#2a3f5f",
             "gridcolor": "white",
             "linecolor": "white",
             "minorgridcolor": "white",
             "startlinecolor": "#2a3f5f"
            },
            "baxis": {
             "endlinecolor": "#2a3f5f",
             "gridcolor": "white",
             "linecolor": "white",
             "minorgridcolor": "white",
             "startlinecolor": "#2a3f5f"
            },
            "type": "carpet"
           }
          ],
          "choropleth": [
           {
            "colorbar": {
             "outlinewidth": 0,
             "ticks": ""
            },
            "type": "choropleth"
           }
          ],
          "contour": [
           {
            "colorbar": {
             "outlinewidth": 0,
             "ticks": ""
            },
            "colorscale": [
             [
              0,
              "#0d0887"
             ],
             [
              0.1111111111111111,
              "#46039f"
             ],
             [
              0.2222222222222222,
              "#7201a8"
             ],
             [
              0.3333333333333333,
              "#9c179e"
             ],
             [
              0.4444444444444444,
              "#bd3786"
             ],
             [
              0.5555555555555556,
              "#d8576b"
             ],
             [
              0.6666666666666666,
              "#ed7953"
             ],
             [
              0.7777777777777778,
              "#fb9f3a"
             ],
             [
              0.8888888888888888,
              "#fdca26"
             ],
             [
              1,
              "#f0f921"
             ]
            ],
            "type": "contour"
           }
          ],
          "contourcarpet": [
           {
            "colorbar": {
             "outlinewidth": 0,
             "ticks": ""
            },
            "type": "contourcarpet"
           }
          ],
          "heatmap": [
           {
            "colorbar": {
             "outlinewidth": 0,
             "ticks": ""
            },
            "colorscale": [
             [
              0,
              "#0d0887"
             ],
             [
              0.1111111111111111,
              "#46039f"
             ],
             [
              0.2222222222222222,
              "#7201a8"
             ],
             [
              0.3333333333333333,
              "#9c179e"
             ],
             [
              0.4444444444444444,
              "#bd3786"
             ],
             [
              0.5555555555555556,
              "#d8576b"
             ],
             [
              0.6666666666666666,
              "#ed7953"
             ],
             [
              0.7777777777777778,
              "#fb9f3a"
             ],
             [
              0.8888888888888888,
              "#fdca26"
             ],
             [
              1,
              "#f0f921"
             ]
            ],
            "type": "heatmap"
           }
          ],
          "heatmapgl": [
           {
            "colorbar": {
             "outlinewidth": 0,
             "ticks": ""
            },
            "colorscale": [
             [
              0,
              "#0d0887"
             ],
             [
              0.1111111111111111,
              "#46039f"
             ],
             [
              0.2222222222222222,
              "#7201a8"
             ],
             [
              0.3333333333333333,
              "#9c179e"
             ],
             [
              0.4444444444444444,
              "#bd3786"
             ],
             [
              0.5555555555555556,
              "#d8576b"
             ],
             [
              0.6666666666666666,
              "#ed7953"
             ],
             [
              0.7777777777777778,
              "#fb9f3a"
             ],
             [
              0.8888888888888888,
              "#fdca26"
             ],
             [
              1,
              "#f0f921"
             ]
            ],
            "type": "heatmapgl"
           }
          ],
          "histogram": [
           {
            "marker": {
             "pattern": {
              "fillmode": "overlay",
              "size": 10,
              "solidity": 0.2
             }
            },
            "type": "histogram"
           }
          ],
          "histogram2d": [
           {
            "colorbar": {
             "outlinewidth": 0,
             "ticks": ""
            },
            "colorscale": [
             [
              0,
              "#0d0887"
             ],
             [
              0.1111111111111111,
              "#46039f"
             ],
             [
              0.2222222222222222,
              "#7201a8"
             ],
             [
              0.3333333333333333,
              "#9c179e"
             ],
             [
              0.4444444444444444,
              "#bd3786"
             ],
             [
              0.5555555555555556,
              "#d8576b"
             ],
             [
              0.6666666666666666,
              "#ed7953"
             ],
             [
              0.7777777777777778,
              "#fb9f3a"
             ],
             [
              0.8888888888888888,
              "#fdca26"
             ],
             [
              1,
              "#f0f921"
             ]
            ],
            "type": "histogram2d"
           }
          ],
          "histogram2dcontour": [
           {
            "colorbar": {
             "outlinewidth": 0,
             "ticks": ""
            },
            "colorscale": [
             [
              0,
              "#0d0887"
             ],
             [
              0.1111111111111111,
              "#46039f"
             ],
             [
              0.2222222222222222,
              "#7201a8"
             ],
             [
              0.3333333333333333,
              "#9c179e"
             ],
             [
              0.4444444444444444,
              "#bd3786"
             ],
             [
              0.5555555555555556,
              "#d8576b"
             ],
             [
              0.6666666666666666,
              "#ed7953"
             ],
             [
              0.7777777777777778,
              "#fb9f3a"
             ],
             [
              0.8888888888888888,
              "#fdca26"
             ],
             [
              1,
              "#f0f921"
             ]
            ],
            "type": "histogram2dcontour"
           }
          ],
          "mesh3d": [
           {
            "colorbar": {
             "outlinewidth": 0,
             "ticks": ""
            },
            "type": "mesh3d"
           }
          ],
          "parcoords": [
           {
            "line": {
             "colorbar": {
              "outlinewidth": 0,
              "ticks": ""
             }
            },
            "type": "parcoords"
           }
          ],
          "pie": [
           {
            "automargin": true,
            "type": "pie"
           }
          ],
          "scatter": [
           {
            "marker": {
             "colorbar": {
              "outlinewidth": 0,
              "ticks": ""
             }
            },
            "type": "scatter"
           }
          ],
          "scatter3d": [
           {
            "line": {
             "colorbar": {
              "outlinewidth": 0,
              "ticks": ""
             }
            },
            "marker": {
             "colorbar": {
              "outlinewidth": 0,
              "ticks": ""
             }
            },
            "type": "scatter3d"
           }
          ],
          "scattercarpet": [
           {
            "marker": {
             "colorbar": {
              "outlinewidth": 0,
              "ticks": ""
             }
            },
            "type": "scattercarpet"
           }
          ],
          "scattergeo": [
           {
            "marker": {
             "colorbar": {
              "outlinewidth": 0,
              "ticks": ""
             }
            },
            "type": "scattergeo"
           }
          ],
          "scattergl": [
           {
            "marker": {
             "colorbar": {
              "outlinewidth": 0,
              "ticks": ""
             }
            },
            "type": "scattergl"
           }
          ],
          "scattermapbox": [
           {
            "marker": {
             "colorbar": {
              "outlinewidth": 0,
              "ticks": ""
             }
            },
            "type": "scattermapbox"
           }
          ],
          "scatterpolar": [
           {
            "marker": {
             "colorbar": {
              "outlinewidth": 0,
              "ticks": ""
             }
            },
            "type": "scatterpolar"
           }
          ],
          "scatterpolargl": [
           {
            "marker": {
             "colorbar": {
              "outlinewidth": 0,
              "ticks": ""
             }
            },
            "type": "scatterpolargl"
           }
          ],
          "scatterternary": [
           {
            "marker": {
             "colorbar": {
              "outlinewidth": 0,
              "ticks": ""
             }
            },
            "type": "scatterternary"
           }
          ],
          "surface": [
           {
            "colorbar": {
             "outlinewidth": 0,
             "ticks": ""
            },
            "colorscale": [
             [
              0,
              "#0d0887"
             ],
             [
              0.1111111111111111,
              "#46039f"
             ],
             [
              0.2222222222222222,
              "#7201a8"
             ],
             [
              0.3333333333333333,
              "#9c179e"
             ],
             [
              0.4444444444444444,
              "#bd3786"
             ],
             [
              0.5555555555555556,
              "#d8576b"
             ],
             [
              0.6666666666666666,
              "#ed7953"
             ],
             [
              0.7777777777777778,
              "#fb9f3a"
             ],
             [
              0.8888888888888888,
              "#fdca26"
             ],
             [
              1,
              "#f0f921"
             ]
            ],
            "type": "surface"
           }
          ],
          "table": [
           {
            "cells": {
             "fill": {
              "color": "#EBF0F8"
             },
             "line": {
              "color": "white"
             }
            },
            "header": {
             "fill": {
              "color": "#C8D4E3"
             },
             "line": {
              "color": "white"
             }
            },
            "type": "table"
           }
          ]
         },
         "layout": {
          "annotationdefaults": {
           "arrowcolor": "#2a3f5f",
           "arrowhead": 0,
           "arrowwidth": 1
          },
          "autotypenumbers": "strict",
          "coloraxis": {
           "colorbar": {
            "outlinewidth": 0,
            "ticks": ""
           }
          },
          "colorscale": {
           "diverging": [
            [
             0,
             "#8e0152"
            ],
            [
             0.1,
             "#c51b7d"
            ],
            [
             0.2,
             "#de77ae"
            ],
            [
             0.3,
             "#f1b6da"
            ],
            [
             0.4,
             "#fde0ef"
            ],
            [
             0.5,
             "#f7f7f7"
            ],
            [
             0.6,
             "#e6f5d0"
            ],
            [
             0.7,
             "#b8e186"
            ],
            [
             0.8,
             "#7fbc41"
            ],
            [
             0.9,
             "#4d9221"
            ],
            [
             1,
             "#276419"
            ]
           ],
           "sequential": [
            [
             0,
             "#0d0887"
            ],
            [
             0.1111111111111111,
             "#46039f"
            ],
            [
             0.2222222222222222,
             "#7201a8"
            ],
            [
             0.3333333333333333,
             "#9c179e"
            ],
            [
             0.4444444444444444,
             "#bd3786"
            ],
            [
             0.5555555555555556,
             "#d8576b"
            ],
            [
             0.6666666666666666,
             "#ed7953"
            ],
            [
             0.7777777777777778,
             "#fb9f3a"
            ],
            [
             0.8888888888888888,
             "#fdca26"
            ],
            [
             1,
             "#f0f921"
            ]
           ],
           "sequentialminus": [
            [
             0,
             "#0d0887"
            ],
            [
             0.1111111111111111,
             "#46039f"
            ],
            [
             0.2222222222222222,
             "#7201a8"
            ],
            [
             0.3333333333333333,
             "#9c179e"
            ],
            [
             0.4444444444444444,
             "#bd3786"
            ],
            [
             0.5555555555555556,
             "#d8576b"
            ],
            [
             0.6666666666666666,
             "#ed7953"
            ],
            [
             0.7777777777777778,
             "#fb9f3a"
            ],
            [
             0.8888888888888888,
             "#fdca26"
            ],
            [
             1,
             "#f0f921"
            ]
           ]
          },
          "colorway": [
           "#636efa",
           "#EF553B",
           "#00cc96",
           "#ab63fa",
           "#FFA15A",
           "#19d3f3",
           "#FF6692",
           "#B6E880",
           "#FF97FF",
           "#FECB52"
          ],
          "font": {
           "color": "#2a3f5f"
          },
          "geo": {
           "bgcolor": "white",
           "lakecolor": "white",
           "landcolor": "#E5ECF6",
           "showlakes": true,
           "showland": true,
           "subunitcolor": "white"
          },
          "hoverlabel": {
           "align": "left"
          },
          "hovermode": "closest",
          "mapbox": {
           "style": "light"
          },
          "paper_bgcolor": "white",
          "plot_bgcolor": "#E5ECF6",
          "polar": {
           "angularaxis": {
            "gridcolor": "white",
            "linecolor": "white",
            "ticks": ""
           },
           "bgcolor": "#E5ECF6",
           "radialaxis": {
            "gridcolor": "white",
            "linecolor": "white",
            "ticks": ""
           }
          },
          "scene": {
           "xaxis": {
            "backgroundcolor": "#E5ECF6",
            "gridcolor": "white",
            "gridwidth": 2,
            "linecolor": "white",
            "showbackground": true,
            "ticks": "",
            "zerolinecolor": "white"
           },
           "yaxis": {
            "backgroundcolor": "#E5ECF6",
            "gridcolor": "white",
            "gridwidth": 2,
            "linecolor": "white",
            "showbackground": true,
            "ticks": "",
            "zerolinecolor": "white"
           },
           "zaxis": {
            "backgroundcolor": "#E5ECF6",
            "gridcolor": "white",
            "gridwidth": 2,
            "linecolor": "white",
            "showbackground": true,
            "ticks": "",
            "zerolinecolor": "white"
           }
          },
          "shapedefaults": {
           "line": {
            "color": "#2a3f5f"
           }
          },
          "ternary": {
           "aaxis": {
            "gridcolor": "white",
            "linecolor": "white",
            "ticks": ""
           },
           "baxis": {
            "gridcolor": "white",
            "linecolor": "white",
            "ticks": ""
           },
           "bgcolor": "#E5ECF6",
           "caxis": {
            "gridcolor": "white",
            "linecolor": "white",
            "ticks": ""
           }
          },
          "title": {
           "x": 0.05
          },
          "xaxis": {
           "automargin": true,
           "gridcolor": "white",
           "linecolor": "white",
           "ticks": "",
           "title": {
            "standoff": 15
           },
           "zerolinecolor": "white",
           "zerolinewidth": 2
          },
          "yaxis": {
           "automargin": true,
           "gridcolor": "white",
           "linecolor": "white",
           "ticks": "",
           "title": {
            "standoff": 15
           },
           "zerolinecolor": "white",
           "zerolinewidth": 2
          }
         }
        },
        "yaxis": {
         "gridcolor": "rgba(225, 225, 225, .5)"
        }
       }
      }
     },
     "metadata": {},
     "output_type": "display_data"
    },
    {
     "data": {
      "application/vnd.plotly.v1+json": {
       "config": {
        "plotlyServerURL": "https://plot.ly"
       },
       "data": [
        {
         "customdata": [
          [
           "non-binary"
          ],
          [
           "non-binary"
          ]
         ],
         "hoverlabel": {
          "font": {
           "color": "white",
           "family": "Arial, san serif",
           "size": 14
          }
         },
         "hovertemplate": "<br>In %{x}, %{y} films by %{customdata[0]} directors were recorded<br><extra></extra>",
         "legendgroup": "non-binary",
         "line": {
          "color": "#f9314c",
          "shape": "spline"
         },
         "marker": {
          "line": {
           "width": 2
          },
          "symbol": "circle"
         },
         "mode": "lines",
         "name": "non-binary",
         "orientation": "v",
         "showlegend": true,
         "stackgroup": "1",
         "textfont": {
          "color": "#212529",
          "family": "Arial, san serif",
          "size": 16
         },
         "type": "scatter",
         "x": [
          2019,
          2013
         ],
         "xaxis": "x",
         "y": [
          1,
          1
         ],
         "yaxis": "y"
        },
        {
         "customdata": [
          [
           "transgender female"
          ],
          [
           "transgender female"
          ],
          [
           "transgender female"
          ]
         ],
         "hoverlabel": {
          "font": {
           "color": "white",
           "family": "Arial, san serif",
           "size": 14
          }
         },
         "hovertemplate": "<br>In %{x}, %{y} films by %{customdata[0]} directors were recorded<br><extra></extra>",
         "legendgroup": "transgender female",
         "line": {
          "color": "#ff547c",
          "shape": "spline"
         },
         "marker": {
          "line": {
           "width": 2
          },
          "symbol": "circle"
         },
         "mode": "lines",
         "name": "transgender female",
         "orientation": "v",
         "showlegend": true,
         "stackgroup": "1",
         "textfont": {
          "color": "#212529",
          "family": "Arial, san serif",
          "size": 16
         },
         "type": "scatter",
         "x": [
          2019,
          2012,
          2009
         ],
         "xaxis": "x",
         "y": [
          2,
          1,
          1
         ],
         "yaxis": "y"
        },
        {
         "customdata": [
          [
           "unknown"
          ],
          [
           "unknown"
          ],
          [
           "unknown"
          ],
          [
           "unknown"
          ],
          [
           "unknown"
          ],
          [
           "unknown"
          ],
          [
           "unknown"
          ],
          [
           "unknown"
          ],
          [
           "unknown"
          ],
          [
           "unknown"
          ],
          [
           "unknown"
          ],
          [
           "unknown"
          ],
          [
           "unknown"
          ],
          [
           "unknown"
          ]
         ],
         "hoverlabel": {
          "font": {
           "color": "white",
           "family": "Arial, san serif",
           "size": 14
          }
         },
         "hovertemplate": "<br>In %{x}, %{y} films by %{customdata[0]} directors were recorded<br><extra></extra>",
         "legendgroup": "unknown",
         "line": {
          "color": "#ff76a7",
          "shape": "spline"
         },
         "marker": {
          "line": {
           "width": 2
          },
          "symbol": "circle"
         },
         "mode": "lines",
         "name": "unknown",
         "orientation": "v",
         "showlegend": true,
         "stackgroup": "1",
         "textfont": {
          "color": "#212529",
          "family": "Arial, san serif",
          "size": 16
         },
         "type": "scatter",
         "x": [
          2021,
          2020,
          2019,
          2018,
          2017,
          2016,
          2015,
          2014,
          2013,
          2012,
          2011,
          2010,
          2009,
          2008
         ],
         "xaxis": "x",
         "y": [
          28,
          39,
          31,
          30,
          39,
          22,
          13,
          10,
          5,
          4,
          5,
          3,
          1,
          1
         ],
         "yaxis": "y"
        },
        {
         "customdata": [
          [
           "female"
          ],
          [
           "female"
          ],
          [
           "female"
          ],
          [
           "female"
          ],
          [
           "female"
          ],
          [
           "female"
          ],
          [
           "female"
          ],
          [
           "female"
          ],
          [
           "female"
          ],
          [
           "female"
          ],
          [
           "female"
          ],
          [
           "female"
          ],
          [
           "female"
          ],
          [
           "female"
          ]
         ],
         "hoverlabel": {
          "font": {
           "color": "white",
           "family": "Arial, san serif",
           "size": 14
          }
         },
         "hovertemplate": "<br>In %{x}, %{y} films by %{customdata[0]} directors were recorded<br><extra></extra>",
         "legendgroup": "female",
         "line": {
          "color": "#ff96cc",
          "shape": "spline"
         },
         "marker": {
          "line": {
           "width": 2
          },
          "symbol": "circle"
         },
         "mode": "lines",
         "name": "female",
         "orientation": "v",
         "showlegend": true,
         "stackgroup": "1",
         "textfont": {
          "color": "#212529",
          "family": "Arial, san serif",
          "size": 16
         },
         "type": "scatter",
         "x": [
          2021,
          2020,
          2019,
          2018,
          2017,
          2016,
          2015,
          2014,
          2013,
          2012,
          2011,
          2010,
          2009,
          2008
         ],
         "xaxis": "x",
         "y": [
          80,
          96,
          83,
          110,
          102,
          85,
          59,
          31,
          25,
          17,
          17,
          22,
          15,
          13
         ],
         "yaxis": "y"
        },
        {
         "customdata": [
          [
           "male"
          ],
          [
           "male"
          ],
          [
           "male"
          ],
          [
           "male"
          ],
          [
           "male"
          ],
          [
           "male"
          ],
          [
           "male"
          ],
          [
           "male"
          ],
          [
           "male"
          ],
          [
           "male"
          ],
          [
           "male"
          ],
          [
           "male"
          ],
          [
           "male"
          ],
          [
           "male"
          ]
         ],
         "hoverlabel": {
          "font": {
           "color": "white",
           "family": "Arial, san serif",
           "size": 14
          }
         },
         "hovertemplate": "<br>In %{x}, %{y} films by %{customdata[0]} directors were recorded<br><extra></extra>",
         "legendgroup": "male",
         "line": {
          "color": "#ffb5ea",
          "shape": "spline"
         },
         "marker": {
          "line": {
           "width": 2
          },
          "symbol": "circle"
         },
         "mode": "lines",
         "name": "male",
         "orientation": "v",
         "showlegend": true,
         "stackgroup": "1",
         "textfont": {
          "color": "#212529",
          "family": "Arial, san serif",
          "size": 16
         },
         "type": "scatter",
         "x": [
          2021,
          2020,
          2019,
          2018,
          2017,
          2016,
          2015,
          2014,
          2013,
          2012,
          2011,
          2010,
          2009,
          2008
         ],
         "xaxis": "x",
         "y": [
          337,
          444,
          489,
          491,
          508,
          491,
          307,
          260,
          196,
          164,
          141,
          131,
          120,
          131
         ],
         "yaxis": "y"
        }
       ],
       "layout": {
        "font": {
         "color": "white",
         "family": "Arial, san serif",
         "size": 15
        },
        "hoverlabel": {
         "bordercolor": "#212529"
        },
        "legend": {
         "title": {
          "text": "Director gender"
         },
         "tracegroupgap": 0
        },
        "margin": {
         "b": 10,
         "l": 10,
         "r": 10,
         "t": 10
        },
        "paper_bgcolor": "#212529",
        "plot_bgcolor": "rgba(0, 0, 0, 0)",
        "template": {
         "data": {
          "bar": [
           {
            "error_x": {
             "color": "#2a3f5f"
            },
            "error_y": {
             "color": "#2a3f5f"
            },
            "marker": {
             "line": {
              "color": "#E5ECF6",
              "width": 0.5
             },
             "pattern": {
              "fillmode": "overlay",
              "size": 10,
              "solidity": 0.2
             }
            },
            "type": "bar"
           }
          ],
          "barpolar": [
           {
            "marker": {
             "line": {
              "color": "#E5ECF6",
              "width": 0.5
             },
             "pattern": {
              "fillmode": "overlay",
              "size": 10,
              "solidity": 0.2
             }
            },
            "type": "barpolar"
           }
          ],
          "carpet": [
           {
            "aaxis": {
             "endlinecolor": "#2a3f5f",
             "gridcolor": "white",
             "linecolor": "white",
             "minorgridcolor": "white",
             "startlinecolor": "#2a3f5f"
            },
            "baxis": {
             "endlinecolor": "#2a3f5f",
             "gridcolor": "white",
             "linecolor": "white",
             "minorgridcolor": "white",
             "startlinecolor": "#2a3f5f"
            },
            "type": "carpet"
           }
          ],
          "choropleth": [
           {
            "colorbar": {
             "outlinewidth": 0,
             "ticks": ""
            },
            "type": "choropleth"
           }
          ],
          "contour": [
           {
            "colorbar": {
             "outlinewidth": 0,
             "ticks": ""
            },
            "colorscale": [
             [
              0,
              "#0d0887"
             ],
             [
              0.1111111111111111,
              "#46039f"
             ],
             [
              0.2222222222222222,
              "#7201a8"
             ],
             [
              0.3333333333333333,
              "#9c179e"
             ],
             [
              0.4444444444444444,
              "#bd3786"
             ],
             [
              0.5555555555555556,
              "#d8576b"
             ],
             [
              0.6666666666666666,
              "#ed7953"
             ],
             [
              0.7777777777777778,
              "#fb9f3a"
             ],
             [
              0.8888888888888888,
              "#fdca26"
             ],
             [
              1,
              "#f0f921"
             ]
            ],
            "type": "contour"
           }
          ],
          "contourcarpet": [
           {
            "colorbar": {
             "outlinewidth": 0,
             "ticks": ""
            },
            "type": "contourcarpet"
           }
          ],
          "heatmap": [
           {
            "colorbar": {
             "outlinewidth": 0,
             "ticks": ""
            },
            "colorscale": [
             [
              0,
              "#0d0887"
             ],
             [
              0.1111111111111111,
              "#46039f"
             ],
             [
              0.2222222222222222,
              "#7201a8"
             ],
             [
              0.3333333333333333,
              "#9c179e"
             ],
             [
              0.4444444444444444,
              "#bd3786"
             ],
             [
              0.5555555555555556,
              "#d8576b"
             ],
             [
              0.6666666666666666,
              "#ed7953"
             ],
             [
              0.7777777777777778,
              "#fb9f3a"
             ],
             [
              0.8888888888888888,
              "#fdca26"
             ],
             [
              1,
              "#f0f921"
             ]
            ],
            "type": "heatmap"
           }
          ],
          "heatmapgl": [
           {
            "colorbar": {
             "outlinewidth": 0,
             "ticks": ""
            },
            "colorscale": [
             [
              0,
              "#0d0887"
             ],
             [
              0.1111111111111111,
              "#46039f"
             ],
             [
              0.2222222222222222,
              "#7201a8"
             ],
             [
              0.3333333333333333,
              "#9c179e"
             ],
             [
              0.4444444444444444,
              "#bd3786"
             ],
             [
              0.5555555555555556,
              "#d8576b"
             ],
             [
              0.6666666666666666,
              "#ed7953"
             ],
             [
              0.7777777777777778,
              "#fb9f3a"
             ],
             [
              0.8888888888888888,
              "#fdca26"
             ],
             [
              1,
              "#f0f921"
             ]
            ],
            "type": "heatmapgl"
           }
          ],
          "histogram": [
           {
            "marker": {
             "pattern": {
              "fillmode": "overlay",
              "size": 10,
              "solidity": 0.2
             }
            },
            "type": "histogram"
           }
          ],
          "histogram2d": [
           {
            "colorbar": {
             "outlinewidth": 0,
             "ticks": ""
            },
            "colorscale": [
             [
              0,
              "#0d0887"
             ],
             [
              0.1111111111111111,
              "#46039f"
             ],
             [
              0.2222222222222222,
              "#7201a8"
             ],
             [
              0.3333333333333333,
              "#9c179e"
             ],
             [
              0.4444444444444444,
              "#bd3786"
             ],
             [
              0.5555555555555556,
              "#d8576b"
             ],
             [
              0.6666666666666666,
              "#ed7953"
             ],
             [
              0.7777777777777778,
              "#fb9f3a"
             ],
             [
              0.8888888888888888,
              "#fdca26"
             ],
             [
              1,
              "#f0f921"
             ]
            ],
            "type": "histogram2d"
           }
          ],
          "histogram2dcontour": [
           {
            "colorbar": {
             "outlinewidth": 0,
             "ticks": ""
            },
            "colorscale": [
             [
              0,
              "#0d0887"
             ],
             [
              0.1111111111111111,
              "#46039f"
             ],
             [
              0.2222222222222222,
              "#7201a8"
             ],
             [
              0.3333333333333333,
              "#9c179e"
             ],
             [
              0.4444444444444444,
              "#bd3786"
             ],
             [
              0.5555555555555556,
              "#d8576b"
             ],
             [
              0.6666666666666666,
              "#ed7953"
             ],
             [
              0.7777777777777778,
              "#fb9f3a"
             ],
             [
              0.8888888888888888,
              "#fdca26"
             ],
             [
              1,
              "#f0f921"
             ]
            ],
            "type": "histogram2dcontour"
           }
          ],
          "mesh3d": [
           {
            "colorbar": {
             "outlinewidth": 0,
             "ticks": ""
            },
            "type": "mesh3d"
           }
          ],
          "parcoords": [
           {
            "line": {
             "colorbar": {
              "outlinewidth": 0,
              "ticks": ""
             }
            },
            "type": "parcoords"
           }
          ],
          "pie": [
           {
            "automargin": true,
            "type": "pie"
           }
          ],
          "scatter": [
           {
            "marker": {
             "colorbar": {
              "outlinewidth": 0,
              "ticks": ""
             }
            },
            "type": "scatter"
           }
          ],
          "scatter3d": [
           {
            "line": {
             "colorbar": {
              "outlinewidth": 0,
              "ticks": ""
             }
            },
            "marker": {
             "colorbar": {
              "outlinewidth": 0,
              "ticks": ""
             }
            },
            "type": "scatter3d"
           }
          ],
          "scattercarpet": [
           {
            "marker": {
             "colorbar": {
              "outlinewidth": 0,
              "ticks": ""
             }
            },
            "type": "scattercarpet"
           }
          ],
          "scattergeo": [
           {
            "marker": {
             "colorbar": {
              "outlinewidth": 0,
              "ticks": ""
             }
            },
            "type": "scattergeo"
           }
          ],
          "scattergl": [
           {
            "marker": {
             "colorbar": {
              "outlinewidth": 0,
              "ticks": ""
             }
            },
            "type": "scattergl"
           }
          ],
          "scattermapbox": [
           {
            "marker": {
             "colorbar": {
              "outlinewidth": 0,
              "ticks": ""
             }
            },
            "type": "scattermapbox"
           }
          ],
          "scatterpolar": [
           {
            "marker": {
             "colorbar": {
              "outlinewidth": 0,
              "ticks": ""
             }
            },
            "type": "scatterpolar"
           }
          ],
          "scatterpolargl": [
           {
            "marker": {
             "colorbar": {
              "outlinewidth": 0,
              "ticks": ""
             }
            },
            "type": "scatterpolargl"
           }
          ],
          "scatterternary": [
           {
            "marker": {
             "colorbar": {
              "outlinewidth": 0,
              "ticks": ""
             }
            },
            "type": "scatterternary"
           }
          ],
          "surface": [
           {
            "colorbar": {
             "outlinewidth": 0,
             "ticks": ""
            },
            "colorscale": [
             [
              0,
              "#0d0887"
             ],
             [
              0.1111111111111111,
              "#46039f"
             ],
             [
              0.2222222222222222,
              "#7201a8"
             ],
             [
              0.3333333333333333,
              "#9c179e"
             ],
             [
              0.4444444444444444,
              "#bd3786"
             ],
             [
              0.5555555555555556,
              "#d8576b"
             ],
             [
              0.6666666666666666,
              "#ed7953"
             ],
             [
              0.7777777777777778,
              "#fb9f3a"
             ],
             [
              0.8888888888888888,
              "#fdca26"
             ],
             [
              1,
              "#f0f921"
             ]
            ],
            "type": "surface"
           }
          ],
          "table": [
           {
            "cells": {
             "fill": {
              "color": "#EBF0F8"
             },
             "line": {
              "color": "white"
             }
            },
            "header": {
             "fill": {
              "color": "#C8D4E3"
             },
             "line": {
              "color": "white"
             }
            },
            "type": "table"
           }
          ]
         },
         "layout": {
          "annotationdefaults": {
           "arrowcolor": "#2a3f5f",
           "arrowhead": 0,
           "arrowwidth": 1
          },
          "autotypenumbers": "strict",
          "coloraxis": {
           "colorbar": {
            "outlinewidth": 0,
            "ticks": ""
           }
          },
          "colorscale": {
           "diverging": [
            [
             0,
             "#8e0152"
            ],
            [
             0.1,
             "#c51b7d"
            ],
            [
             0.2,
             "#de77ae"
            ],
            [
             0.3,
             "#f1b6da"
            ],
            [
             0.4,
             "#fde0ef"
            ],
            [
             0.5,
             "#f7f7f7"
            ],
            [
             0.6,
             "#e6f5d0"
            ],
            [
             0.7,
             "#b8e186"
            ],
            [
             0.8,
             "#7fbc41"
            ],
            [
             0.9,
             "#4d9221"
            ],
            [
             1,
             "#276419"
            ]
           ],
           "sequential": [
            [
             0,
             "#0d0887"
            ],
            [
             0.1111111111111111,
             "#46039f"
            ],
            [
             0.2222222222222222,
             "#7201a8"
            ],
            [
             0.3333333333333333,
             "#9c179e"
            ],
            [
             0.4444444444444444,
             "#bd3786"
            ],
            [
             0.5555555555555556,
             "#d8576b"
            ],
            [
             0.6666666666666666,
             "#ed7953"
            ],
            [
             0.7777777777777778,
             "#fb9f3a"
            ],
            [
             0.8888888888888888,
             "#fdca26"
            ],
            [
             1,
             "#f0f921"
            ]
           ],
           "sequentialminus": [
            [
             0,
             "#0d0887"
            ],
            [
             0.1111111111111111,
             "#46039f"
            ],
            [
             0.2222222222222222,
             "#7201a8"
            ],
            [
             0.3333333333333333,
             "#9c179e"
            ],
            [
             0.4444444444444444,
             "#bd3786"
            ],
            [
             0.5555555555555556,
             "#d8576b"
            ],
            [
             0.6666666666666666,
             "#ed7953"
            ],
            [
             0.7777777777777778,
             "#fb9f3a"
            ],
            [
             0.8888888888888888,
             "#fdca26"
            ],
            [
             1,
             "#f0f921"
            ]
           ]
          },
          "colorway": [
           "#636efa",
           "#EF553B",
           "#00cc96",
           "#ab63fa",
           "#FFA15A",
           "#19d3f3",
           "#FF6692",
           "#B6E880",
           "#FF97FF",
           "#FECB52"
          ],
          "font": {
           "color": "#2a3f5f"
          },
          "geo": {
           "bgcolor": "white",
           "lakecolor": "white",
           "landcolor": "#E5ECF6",
           "showlakes": true,
           "showland": true,
           "subunitcolor": "white"
          },
          "hoverlabel": {
           "align": "left"
          },
          "hovermode": "closest",
          "mapbox": {
           "style": "light"
          },
          "paper_bgcolor": "white",
          "plot_bgcolor": "#E5ECF6",
          "polar": {
           "angularaxis": {
            "gridcolor": "white",
            "linecolor": "white",
            "ticks": ""
           },
           "bgcolor": "#E5ECF6",
           "radialaxis": {
            "gridcolor": "white",
            "linecolor": "white",
            "ticks": ""
           }
          },
          "scene": {
           "xaxis": {
            "backgroundcolor": "#E5ECF6",
            "gridcolor": "white",
            "gridwidth": 2,
            "linecolor": "white",
            "showbackground": true,
            "ticks": "",
            "zerolinecolor": "white"
           },
           "yaxis": {
            "backgroundcolor": "#E5ECF6",
            "gridcolor": "white",
            "gridwidth": 2,
            "linecolor": "white",
            "showbackground": true,
            "ticks": "",
            "zerolinecolor": "white"
           },
           "zaxis": {
            "backgroundcolor": "#E5ECF6",
            "gridcolor": "white",
            "gridwidth": 2,
            "linecolor": "white",
            "showbackground": true,
            "ticks": "",
            "zerolinecolor": "white"
           }
          },
          "shapedefaults": {
           "line": {
            "color": "#2a3f5f"
           }
          },
          "ternary": {
           "aaxis": {
            "gridcolor": "white",
            "linecolor": "white",
            "ticks": ""
           },
           "baxis": {
            "gridcolor": "white",
            "linecolor": "white",
            "ticks": ""
           },
           "bgcolor": "#E5ECF6",
           "caxis": {
            "gridcolor": "white",
            "linecolor": "white",
            "ticks": ""
           }
          },
          "title": {
           "x": 0.05
          },
          "xaxis": {
           "automargin": true,
           "gridcolor": "white",
           "linecolor": "white",
           "ticks": "",
           "title": {
            "standoff": 15
           },
           "zerolinecolor": "white",
           "zerolinewidth": 2
          },
          "yaxis": {
           "automargin": true,
           "gridcolor": "white",
           "linecolor": "white",
           "ticks": "",
           "title": {
            "standoff": 15
           },
           "zerolinecolor": "white",
           "zerolinewidth": 2
          }
         }
        },
        "xaxis": {
         "anchor": "y",
         "domain": [
          0,
          1
         ],
         "showgrid": false,
         "title": {
          "text": "Movie release year"
         }
        },
        "yaxis": {
         "anchor": "x",
         "domain": [
          0,
          1
         ],
         "gridcolor": "rgba(225, 225, 225, .5)",
         "title": {
          "text": "Director amount"
         }
        }
       }
      }
     },
     "metadata": {},
     "output_type": "display_data"
    }
   ],
   "source": [
    "df = data.copy()\n",
    "df['director_gender'].replace('no_data', np.nan, inplace  = True)\n",
    "df = df.dropna(subset=['director_gender'])\n",
    "gender = []\n",
    "release_year = []\n",
    "for i, x in df['director_gender'].iteritems():\n",
    "    x = x.split(', ')\n",
    "    for gen in x:\n",
    "        gender.append(gen)\n",
    "        year = df._get_value(i, 'release_year')\n",
    "        release_year.append(year)\n",
    "df = pd.DataFrame()\n",
    "df['release_year'] = release_year\n",
    "df['gender'] = gender\n",
    "df['count'] = 1\n",
    "df1 = pd.DataFrame(df.groupby('gender')['count'].sum().sort_values(ascending=False).reset_index())\n",
    "gender_order = df1['gender'].to_list()\n",
    "fig = px.pie(df1, values='count', names='gender')\n",
    "\n",
    "fig.update_traces(textposition='inside', textinfo='percent+label', marker=dict(colors=colors[::-1][2:], line=dict(color='#212529', width=2)), textfont=dict(family=\"Arial, san serif\",size=15,color=\"white\"),hoverlabel=dict(font_size=14,font_family=\"Arial, san serif\", font_color='white'))\n",
    "\n",
    "fig.update_traces(hovertemplate=('<br>Total %{label} directors are %{value}<br><extra></extra>'))\n",
    "fig.update_layout(paper_bgcolor=\"#212529\", plot_bgcolor ='rgba(0, 0, 0, 0)', hoverlabel_bordercolor='#212529',margin=margin, yaxis_gridcolor ='rgba(225, 225, 225, .5)', font_color=\"white\", font_family=\"Arial, san serif\", font_size=15)\n",
    "fig.write_html('visualization/five.html')\n",
    "fig.show()\n",
    "\n",
    "df2 = df[['release_year', 'gender']].groupby('gender')['release_year'].value_counts().unstack().loc[gender_order]\n",
    "df2 = df2.stack().reset_index()\n",
    "df2.columns = ['gender','year','val']\n",
    "df2 = df2[(df2.year >= 2008)&(df2.year < 2022)]\n",
    "df2 = df2[::-1]\n",
    "df2\n",
    "fig = px.area(df2, x=\"year\", y=\"val\", color=\"gender\", line_shape='spline', color_discrete_sequence= colors[::-1][1:], labels={'gender':'Director gender', 'val':'Director amount', 'year': 'Movie release year'}, custom_data=['gender'])\n",
    "\n",
    "fig.update_traces( marker=dict(line=dict(width=2)),textfont=dict(family=\"Arial, san serif\",size=16,color=\"#212529\"),hoverlabel=dict(font_size=14,font_family=\"Arial, san serif\", font_color='white'))\n",
    "\n",
    "fig.update_traces(hovertemplate=('<br>In %{x}, %{y} films by %{customdata[0]} directors were recorded<br><extra></extra>'))\n",
    "fig.update_layout(paper_bgcolor=\"#212529\", plot_bgcolor ='rgba(0, 0, 0, 0)', hoverlabel_bordercolor='#212529',margin=margin, yaxis_gridcolor ='rgba(225, 225, 225, .5)', font_color=\"white\", font_family=\"Arial, san serif\", font_size=15, xaxis_showgrid=False)\n",
    "fig.write_html('visualization/six.html')\n",
    "fig.show()"
   ]
  },
  {
   "cell_type": "markdown",
   "metadata": {},
   "source": [
    "# How streaming services treats their content? \n",
    "To undertand how streaming services deal with their contents we first analyse how they add contents on the platforms. We start from an hystory overview to then get deep on month addition habiths. Then we explore which genre they add during the year and if there is some trand for each month. Because genre is associated by the streaming platform we analyse how Amazon and Netflix register their content looking to genre co-occurrence. Finaly we investigate how old are movies and which national film culture is more represented by the two company. \n",
    "\n",
    "### Year added\n",
    "We plot two line chart one for Netflix and one for Amazon to investigate movement by year in content type and quantity addition. \n",
    "\n",
    "**Conclusions:** Netflix and Amazon act in different ways in matter of content addition. If on one heand Netflix appear to have an increase of contents addition after 2014, on the other heand, Amazon seems to be more constant but it show less offer. Both the streaming services have a down trand after 2020, probably due to Covid-19 pandemic.\n",
    "Both servicies peak global content amount was in 2019. It appears that Netflix has focused more attention on increasing Movie content that TV Shows. Movies have increased much more dramatically than TV shows. Amazon on the contrary always hade more attention to Movie than Tv Shows but in 2021 there is an invertion of the trand. During this year Amazon incrase tv shows content more than the movie ones."
   ]
  },
  {
   "cell_type": "code",
   "execution_count": 351,
   "metadata": {},
   "outputs": [
    {
     "data": {
      "application/vnd.plotly.v1+json": {
       "config": {
        "plotlyServerURL": "https://plot.ly"
       },
       "data": [
        {
         "customdata": [
          "TV Show",
          "TV Show",
          "TV Show",
          "TV Show",
          "TV Show",
          "TV Show",
          "TV Show",
          "TV Show",
          "TV Show",
          "TV Show"
         ],
         "hoverinfo": "x+y",
         "hoverlabel": {
          "font": {
           "color": "white",
           "family": "Arial, san serif",
           "size": 14
          }
         },
         "hovertemplate": "<br>In %{x}, %{y} %{customdata} were added on Netflix<br><extra></extra>",
         "line": {
          "color": "#ff547c",
          "width": 2
         },
         "marker": {
          "line": {
           "width": 2
          }
         },
         "mode": "lines",
         "name": "TV Show",
         "stackgroup": "one",
         "textfont": {
          "color": "#212529",
          "family": "Arial, san serif",
          "size": 16
         },
         "type": "scatter",
         "x": [
          2012,
          2013,
          2014,
          2015,
          2016,
          2017,
          2018,
          2019,
          2020,
          2021
         ],
         "y": [
          1,
          7,
          5,
          14,
          90,
          142,
          199,
          290,
          340,
          271
         ]
        },
        {
         "customdata": [
          "Movie",
          "Movie",
          "Movie",
          "Movie",
          "Movie",
          "Movie",
          "Movie",
          "Movie",
          "Movie",
          "Movie",
          "Movie",
          "Movie",
          "Movie",
          "Movie"
         ],
         "hoverinfo": "x+y",
         "hoverlabel": {
          "font": {
           "color": "white",
           "family": "Arial, san serif",
           "size": 14
          }
         },
         "hovertemplate": "<br>In %{x}, %{y} %{customdata} were added on Netflix<br><extra></extra>",
         "line": {
          "color": "#a0a3de",
          "width": 2
         },
         "marker": {
          "line": {
           "width": 2
          }
         },
         "mode": "lines",
         "name": "Movie",
         "stackgroup": "one",
         "textfont": {
          "color": "#212529",
          "family": "Arial, san serif",
          "size": 16
         },
         "type": "scatter",
         "x": [
          2008,
          2009,
          2010,
          2011,
          2012,
          2013,
          2014,
          2015,
          2016,
          2017,
          2018,
          2019,
          2020,
          2021
         ],
         "y": [
          1,
          1,
          1,
          1,
          1,
          3,
          8,
          32,
          124,
          487,
          754,
          840,
          771,
          615
         ]
        }
       ],
       "layout": {
        "font": {
         "color": "white",
         "family": "Arial, san serif",
         "size": 15
        },
        "hoverlabel": {
         "bordercolor": "#212529"
        },
        "margin": {
         "b": 10,
         "l": 10,
         "r": 10,
         "t": 10
        },
        "paper_bgcolor": "#212529",
        "plot_bgcolor": "rgba(0, 0, 0, 0)",
        "template": {
         "data": {
          "bar": [
           {
            "error_x": {
             "color": "#2a3f5f"
            },
            "error_y": {
             "color": "#2a3f5f"
            },
            "marker": {
             "line": {
              "color": "#E5ECF6",
              "width": 0.5
             },
             "pattern": {
              "fillmode": "overlay",
              "size": 10,
              "solidity": 0.2
             }
            },
            "type": "bar"
           }
          ],
          "barpolar": [
           {
            "marker": {
             "line": {
              "color": "#E5ECF6",
              "width": 0.5
             },
             "pattern": {
              "fillmode": "overlay",
              "size": 10,
              "solidity": 0.2
             }
            },
            "type": "barpolar"
           }
          ],
          "carpet": [
           {
            "aaxis": {
             "endlinecolor": "#2a3f5f",
             "gridcolor": "white",
             "linecolor": "white",
             "minorgridcolor": "white",
             "startlinecolor": "#2a3f5f"
            },
            "baxis": {
             "endlinecolor": "#2a3f5f",
             "gridcolor": "white",
             "linecolor": "white",
             "minorgridcolor": "white",
             "startlinecolor": "#2a3f5f"
            },
            "type": "carpet"
           }
          ],
          "choropleth": [
           {
            "colorbar": {
             "outlinewidth": 0,
             "ticks": ""
            },
            "type": "choropleth"
           }
          ],
          "contour": [
           {
            "colorbar": {
             "outlinewidth": 0,
             "ticks": ""
            },
            "colorscale": [
             [
              0,
              "#0d0887"
             ],
             [
              0.1111111111111111,
              "#46039f"
             ],
             [
              0.2222222222222222,
              "#7201a8"
             ],
             [
              0.3333333333333333,
              "#9c179e"
             ],
             [
              0.4444444444444444,
              "#bd3786"
             ],
             [
              0.5555555555555556,
              "#d8576b"
             ],
             [
              0.6666666666666666,
              "#ed7953"
             ],
             [
              0.7777777777777778,
              "#fb9f3a"
             ],
             [
              0.8888888888888888,
              "#fdca26"
             ],
             [
              1,
              "#f0f921"
             ]
            ],
            "type": "contour"
           }
          ],
          "contourcarpet": [
           {
            "colorbar": {
             "outlinewidth": 0,
             "ticks": ""
            },
            "type": "contourcarpet"
           }
          ],
          "heatmap": [
           {
            "colorbar": {
             "outlinewidth": 0,
             "ticks": ""
            },
            "colorscale": [
             [
              0,
              "#0d0887"
             ],
             [
              0.1111111111111111,
              "#46039f"
             ],
             [
              0.2222222222222222,
              "#7201a8"
             ],
             [
              0.3333333333333333,
              "#9c179e"
             ],
             [
              0.4444444444444444,
              "#bd3786"
             ],
             [
              0.5555555555555556,
              "#d8576b"
             ],
             [
              0.6666666666666666,
              "#ed7953"
             ],
             [
              0.7777777777777778,
              "#fb9f3a"
             ],
             [
              0.8888888888888888,
              "#fdca26"
             ],
             [
              1,
              "#f0f921"
             ]
            ],
            "type": "heatmap"
           }
          ],
          "heatmapgl": [
           {
            "colorbar": {
             "outlinewidth": 0,
             "ticks": ""
            },
            "colorscale": [
             [
              0,
              "#0d0887"
             ],
             [
              0.1111111111111111,
              "#46039f"
             ],
             [
              0.2222222222222222,
              "#7201a8"
             ],
             [
              0.3333333333333333,
              "#9c179e"
             ],
             [
              0.4444444444444444,
              "#bd3786"
             ],
             [
              0.5555555555555556,
              "#d8576b"
             ],
             [
              0.6666666666666666,
              "#ed7953"
             ],
             [
              0.7777777777777778,
              "#fb9f3a"
             ],
             [
              0.8888888888888888,
              "#fdca26"
             ],
             [
              1,
              "#f0f921"
             ]
            ],
            "type": "heatmapgl"
           }
          ],
          "histogram": [
           {
            "marker": {
             "pattern": {
              "fillmode": "overlay",
              "size": 10,
              "solidity": 0.2
             }
            },
            "type": "histogram"
           }
          ],
          "histogram2d": [
           {
            "colorbar": {
             "outlinewidth": 0,
             "ticks": ""
            },
            "colorscale": [
             [
              0,
              "#0d0887"
             ],
             [
              0.1111111111111111,
              "#46039f"
             ],
             [
              0.2222222222222222,
              "#7201a8"
             ],
             [
              0.3333333333333333,
              "#9c179e"
             ],
             [
              0.4444444444444444,
              "#bd3786"
             ],
             [
              0.5555555555555556,
              "#d8576b"
             ],
             [
              0.6666666666666666,
              "#ed7953"
             ],
             [
              0.7777777777777778,
              "#fb9f3a"
             ],
             [
              0.8888888888888888,
              "#fdca26"
             ],
             [
              1,
              "#f0f921"
             ]
            ],
            "type": "histogram2d"
           }
          ],
          "histogram2dcontour": [
           {
            "colorbar": {
             "outlinewidth": 0,
             "ticks": ""
            },
            "colorscale": [
             [
              0,
              "#0d0887"
             ],
             [
              0.1111111111111111,
              "#46039f"
             ],
             [
              0.2222222222222222,
              "#7201a8"
             ],
             [
              0.3333333333333333,
              "#9c179e"
             ],
             [
              0.4444444444444444,
              "#bd3786"
             ],
             [
              0.5555555555555556,
              "#d8576b"
             ],
             [
              0.6666666666666666,
              "#ed7953"
             ],
             [
              0.7777777777777778,
              "#fb9f3a"
             ],
             [
              0.8888888888888888,
              "#fdca26"
             ],
             [
              1,
              "#f0f921"
             ]
            ],
            "type": "histogram2dcontour"
           }
          ],
          "mesh3d": [
           {
            "colorbar": {
             "outlinewidth": 0,
             "ticks": ""
            },
            "type": "mesh3d"
           }
          ],
          "parcoords": [
           {
            "line": {
             "colorbar": {
              "outlinewidth": 0,
              "ticks": ""
             }
            },
            "type": "parcoords"
           }
          ],
          "pie": [
           {
            "automargin": true,
            "type": "pie"
           }
          ],
          "scatter": [
           {
            "marker": {
             "colorbar": {
              "outlinewidth": 0,
              "ticks": ""
             }
            },
            "type": "scatter"
           }
          ],
          "scatter3d": [
           {
            "line": {
             "colorbar": {
              "outlinewidth": 0,
              "ticks": ""
             }
            },
            "marker": {
             "colorbar": {
              "outlinewidth": 0,
              "ticks": ""
             }
            },
            "type": "scatter3d"
           }
          ],
          "scattercarpet": [
           {
            "marker": {
             "colorbar": {
              "outlinewidth": 0,
              "ticks": ""
             }
            },
            "type": "scattercarpet"
           }
          ],
          "scattergeo": [
           {
            "marker": {
             "colorbar": {
              "outlinewidth": 0,
              "ticks": ""
             }
            },
            "type": "scattergeo"
           }
          ],
          "scattergl": [
           {
            "marker": {
             "colorbar": {
              "outlinewidth": 0,
              "ticks": ""
             }
            },
            "type": "scattergl"
           }
          ],
          "scattermapbox": [
           {
            "marker": {
             "colorbar": {
              "outlinewidth": 0,
              "ticks": ""
             }
            },
            "type": "scattermapbox"
           }
          ],
          "scatterpolar": [
           {
            "marker": {
             "colorbar": {
              "outlinewidth": 0,
              "ticks": ""
             }
            },
            "type": "scatterpolar"
           }
          ],
          "scatterpolargl": [
           {
            "marker": {
             "colorbar": {
              "outlinewidth": 0,
              "ticks": ""
             }
            },
            "type": "scatterpolargl"
           }
          ],
          "scatterternary": [
           {
            "marker": {
             "colorbar": {
              "outlinewidth": 0,
              "ticks": ""
             }
            },
            "type": "scatterternary"
           }
          ],
          "surface": [
           {
            "colorbar": {
             "outlinewidth": 0,
             "ticks": ""
            },
            "colorscale": [
             [
              0,
              "#0d0887"
             ],
             [
              0.1111111111111111,
              "#46039f"
             ],
             [
              0.2222222222222222,
              "#7201a8"
             ],
             [
              0.3333333333333333,
              "#9c179e"
             ],
             [
              0.4444444444444444,
              "#bd3786"
             ],
             [
              0.5555555555555556,
              "#d8576b"
             ],
             [
              0.6666666666666666,
              "#ed7953"
             ],
             [
              0.7777777777777778,
              "#fb9f3a"
             ],
             [
              0.8888888888888888,
              "#fdca26"
             ],
             [
              1,
              "#f0f921"
             ]
            ],
            "type": "surface"
           }
          ],
          "table": [
           {
            "cells": {
             "fill": {
              "color": "#EBF0F8"
             },
             "line": {
              "color": "white"
             }
            },
            "header": {
             "fill": {
              "color": "#C8D4E3"
             },
             "line": {
              "color": "white"
             }
            },
            "type": "table"
           }
          ]
         },
         "layout": {
          "annotationdefaults": {
           "arrowcolor": "#2a3f5f",
           "arrowhead": 0,
           "arrowwidth": 1
          },
          "autotypenumbers": "strict",
          "coloraxis": {
           "colorbar": {
            "outlinewidth": 0,
            "ticks": ""
           }
          },
          "colorscale": {
           "diverging": [
            [
             0,
             "#8e0152"
            ],
            [
             0.1,
             "#c51b7d"
            ],
            [
             0.2,
             "#de77ae"
            ],
            [
             0.3,
             "#f1b6da"
            ],
            [
             0.4,
             "#fde0ef"
            ],
            [
             0.5,
             "#f7f7f7"
            ],
            [
             0.6,
             "#e6f5d0"
            ],
            [
             0.7,
             "#b8e186"
            ],
            [
             0.8,
             "#7fbc41"
            ],
            [
             0.9,
             "#4d9221"
            ],
            [
             1,
             "#276419"
            ]
           ],
           "sequential": [
            [
             0,
             "#0d0887"
            ],
            [
             0.1111111111111111,
             "#46039f"
            ],
            [
             0.2222222222222222,
             "#7201a8"
            ],
            [
             0.3333333333333333,
             "#9c179e"
            ],
            [
             0.4444444444444444,
             "#bd3786"
            ],
            [
             0.5555555555555556,
             "#d8576b"
            ],
            [
             0.6666666666666666,
             "#ed7953"
            ],
            [
             0.7777777777777778,
             "#fb9f3a"
            ],
            [
             0.8888888888888888,
             "#fdca26"
            ],
            [
             1,
             "#f0f921"
            ]
           ],
           "sequentialminus": [
            [
             0,
             "#0d0887"
            ],
            [
             0.1111111111111111,
             "#46039f"
            ],
            [
             0.2222222222222222,
             "#7201a8"
            ],
            [
             0.3333333333333333,
             "#9c179e"
            ],
            [
             0.4444444444444444,
             "#bd3786"
            ],
            [
             0.5555555555555556,
             "#d8576b"
            ],
            [
             0.6666666666666666,
             "#ed7953"
            ],
            [
             0.7777777777777778,
             "#fb9f3a"
            ],
            [
             0.8888888888888888,
             "#fdca26"
            ],
            [
             1,
             "#f0f921"
            ]
           ]
          },
          "colorway": [
           "#636efa",
           "#EF553B",
           "#00cc96",
           "#ab63fa",
           "#FFA15A",
           "#19d3f3",
           "#FF6692",
           "#B6E880",
           "#FF97FF",
           "#FECB52"
          ],
          "font": {
           "color": "#2a3f5f"
          },
          "geo": {
           "bgcolor": "white",
           "lakecolor": "white",
           "landcolor": "#E5ECF6",
           "showlakes": true,
           "showland": true,
           "subunitcolor": "white"
          },
          "hoverlabel": {
           "align": "left"
          },
          "hovermode": "closest",
          "mapbox": {
           "style": "light"
          },
          "paper_bgcolor": "white",
          "plot_bgcolor": "#E5ECF6",
          "polar": {
           "angularaxis": {
            "gridcolor": "white",
            "linecolor": "white",
            "ticks": ""
           },
           "bgcolor": "#E5ECF6",
           "radialaxis": {
            "gridcolor": "white",
            "linecolor": "white",
            "ticks": ""
           }
          },
          "scene": {
           "xaxis": {
            "backgroundcolor": "#E5ECF6",
            "gridcolor": "white",
            "gridwidth": 2,
            "linecolor": "white",
            "showbackground": true,
            "ticks": "",
            "zerolinecolor": "white"
           },
           "yaxis": {
            "backgroundcolor": "#E5ECF6",
            "gridcolor": "white",
            "gridwidth": 2,
            "linecolor": "white",
            "showbackground": true,
            "ticks": "",
            "zerolinecolor": "white"
           },
           "zaxis": {
            "backgroundcolor": "#E5ECF6",
            "gridcolor": "white",
            "gridwidth": 2,
            "linecolor": "white",
            "showbackground": true,
            "ticks": "",
            "zerolinecolor": "white"
           }
          },
          "shapedefaults": {
           "line": {
            "color": "#2a3f5f"
           }
          },
          "ternary": {
           "aaxis": {
            "gridcolor": "white",
            "linecolor": "white",
            "ticks": ""
           },
           "baxis": {
            "gridcolor": "white",
            "linecolor": "white",
            "ticks": ""
           },
           "bgcolor": "#E5ECF6",
           "caxis": {
            "gridcolor": "white",
            "linecolor": "white",
            "ticks": ""
           }
          },
          "title": {
           "x": 0.05
          },
          "xaxis": {
           "automargin": true,
           "gridcolor": "white",
           "linecolor": "white",
           "ticks": "",
           "title": {
            "standoff": 15
           },
           "zerolinecolor": "white",
           "zerolinewidth": 2
          },
          "yaxis": {
           "automargin": true,
           "gridcolor": "white",
           "linecolor": "white",
           "ticks": "",
           "title": {
            "standoff": 15
           },
           "zerolinecolor": "white",
           "zerolinewidth": 2
          }
         }
        },
        "xaxis": {
         "showgrid": false
        },
        "yaxis": {
         "gridcolor": "rgba(225, 225, 225, .5)",
         "range": [
          0,
          1300
         ]
        }
       }
      }
     },
     "metadata": {},
     "output_type": "display_data"
    },
    {
     "data": {
      "application/vnd.plotly.v1+json": {
       "config": {
        "plotlyServerURL": "https://plot.ly"
       },
       "data": [
        {
         "customdata": [
          "TV Show",
          "TV Show",
          "TV Show",
          "TV Show",
          "TV Show",
          "TV Show",
          "TV Show",
          "TV Show",
          "TV Show",
          "TV Show",
          "TV Show",
          "TV Show",
          "TV Show",
          "TV Show",
          "TV Show",
          "TV Show"
         ],
         "hoverinfo": "x+y",
         "hoverlabel": {
          "font": {
           "color": "white",
           "family": "Arial, san serif",
           "size": 14
          }
         },
         "hovertemplate": "<br>In %{x}, %{y} %{customdata} were added on Amazon<br><extra></extra>",
         "line": {
          "color": "#ff547c",
          "width": 2
         },
         "marker": {
          "line": {
           "width": 2
          }
         },
         "mode": "lines",
         "name": "TV Show",
         "stackgroup": "one",
         "textfont": {
          "color": "#212529",
          "family": "Arial, san serif",
          "size": 16
         },
         "type": "scatter",
         "x": [
          2007,
          2008,
          2009,
          2010,
          2011,
          2012,
          2013,
          2014,
          2015,
          2016,
          2017,
          2018,
          2019,
          2020,
          2021,
          2022
         ],
         "y": [
          8,
          13,
          21,
          15,
          20,
          29,
          21,
          38,
          28,
          24,
          14,
          20,
          16,
          20,
          58,
          2
         ]
        },
        {
         "customdata": [
          "Movie",
          "Movie",
          "Movie",
          "Movie",
          "Movie",
          "Movie",
          "Movie",
          "Movie",
          "Movie",
          "Movie",
          "Movie",
          "Movie",
          "Movie",
          "Movie",
          "Movie",
          "Movie"
         ],
         "hoverinfo": "x+y",
         "hoverlabel": {
          "font": {
           "color": "white",
           "family": "Arial, san serif",
           "size": 14
          }
         },
         "hovertemplate": "<br>In %{x}, %{y} %{customdata} were added on Amazon<br><extra></extra>",
         "line": {
          "color": "#a0a3de",
          "width": 2
         },
         "marker": {
          "line": {
           "width": 2
          }
         },
         "mode": "lines",
         "name": "Movie",
         "stackgroup": "one",
         "textfont": {
          "color": "#212529",
          "family": "Arial, san serif",
          "size": 16
         },
         "type": "scatter",
         "x": [
          2007,
          2008,
          2009,
          2010,
          2011,
          2012,
          2013,
          2014,
          2015,
          2016,
          2017,
          2018,
          2019,
          2020,
          2021,
          2022
         ],
         "y": [
          33,
          55,
          31,
          33,
          42,
          45,
          54,
          81,
          65,
          110,
          90,
          97,
          123,
          68,
          42,
          1
         ]
        }
       ],
       "layout": {
        "font": {
         "color": "white",
         "family": "Arial, san serif",
         "size": 15
        },
        "hoverlabel": {
         "bordercolor": "#212529"
        },
        "margin": {
         "b": 10,
         "l": 10,
         "r": 10,
         "t": 10
        },
        "paper_bgcolor": "#212529",
        "plot_bgcolor": "rgba(0, 0, 0, 0)",
        "template": {
         "data": {
          "bar": [
           {
            "error_x": {
             "color": "#2a3f5f"
            },
            "error_y": {
             "color": "#2a3f5f"
            },
            "marker": {
             "line": {
              "color": "#E5ECF6",
              "width": 0.5
             },
             "pattern": {
              "fillmode": "overlay",
              "size": 10,
              "solidity": 0.2
             }
            },
            "type": "bar"
           }
          ],
          "barpolar": [
           {
            "marker": {
             "line": {
              "color": "#E5ECF6",
              "width": 0.5
             },
             "pattern": {
              "fillmode": "overlay",
              "size": 10,
              "solidity": 0.2
             }
            },
            "type": "barpolar"
           }
          ],
          "carpet": [
           {
            "aaxis": {
             "endlinecolor": "#2a3f5f",
             "gridcolor": "white",
             "linecolor": "white",
             "minorgridcolor": "white",
             "startlinecolor": "#2a3f5f"
            },
            "baxis": {
             "endlinecolor": "#2a3f5f",
             "gridcolor": "white",
             "linecolor": "white",
             "minorgridcolor": "white",
             "startlinecolor": "#2a3f5f"
            },
            "type": "carpet"
           }
          ],
          "choropleth": [
           {
            "colorbar": {
             "outlinewidth": 0,
             "ticks": ""
            },
            "type": "choropleth"
           }
          ],
          "contour": [
           {
            "colorbar": {
             "outlinewidth": 0,
             "ticks": ""
            },
            "colorscale": [
             [
              0,
              "#0d0887"
             ],
             [
              0.1111111111111111,
              "#46039f"
             ],
             [
              0.2222222222222222,
              "#7201a8"
             ],
             [
              0.3333333333333333,
              "#9c179e"
             ],
             [
              0.4444444444444444,
              "#bd3786"
             ],
             [
              0.5555555555555556,
              "#d8576b"
             ],
             [
              0.6666666666666666,
              "#ed7953"
             ],
             [
              0.7777777777777778,
              "#fb9f3a"
             ],
             [
              0.8888888888888888,
              "#fdca26"
             ],
             [
              1,
              "#f0f921"
             ]
            ],
            "type": "contour"
           }
          ],
          "contourcarpet": [
           {
            "colorbar": {
             "outlinewidth": 0,
             "ticks": ""
            },
            "type": "contourcarpet"
           }
          ],
          "heatmap": [
           {
            "colorbar": {
             "outlinewidth": 0,
             "ticks": ""
            },
            "colorscale": [
             [
              0,
              "#0d0887"
             ],
             [
              0.1111111111111111,
              "#46039f"
             ],
             [
              0.2222222222222222,
              "#7201a8"
             ],
             [
              0.3333333333333333,
              "#9c179e"
             ],
             [
              0.4444444444444444,
              "#bd3786"
             ],
             [
              0.5555555555555556,
              "#d8576b"
             ],
             [
              0.6666666666666666,
              "#ed7953"
             ],
             [
              0.7777777777777778,
              "#fb9f3a"
             ],
             [
              0.8888888888888888,
              "#fdca26"
             ],
             [
              1,
              "#f0f921"
             ]
            ],
            "type": "heatmap"
           }
          ],
          "heatmapgl": [
           {
            "colorbar": {
             "outlinewidth": 0,
             "ticks": ""
            },
            "colorscale": [
             [
              0,
              "#0d0887"
             ],
             [
              0.1111111111111111,
              "#46039f"
             ],
             [
              0.2222222222222222,
              "#7201a8"
             ],
             [
              0.3333333333333333,
              "#9c179e"
             ],
             [
              0.4444444444444444,
              "#bd3786"
             ],
             [
              0.5555555555555556,
              "#d8576b"
             ],
             [
              0.6666666666666666,
              "#ed7953"
             ],
             [
              0.7777777777777778,
              "#fb9f3a"
             ],
             [
              0.8888888888888888,
              "#fdca26"
             ],
             [
              1,
              "#f0f921"
             ]
            ],
            "type": "heatmapgl"
           }
          ],
          "histogram": [
           {
            "marker": {
             "pattern": {
              "fillmode": "overlay",
              "size": 10,
              "solidity": 0.2
             }
            },
            "type": "histogram"
           }
          ],
          "histogram2d": [
           {
            "colorbar": {
             "outlinewidth": 0,
             "ticks": ""
            },
            "colorscale": [
             [
              0,
              "#0d0887"
             ],
             [
              0.1111111111111111,
              "#46039f"
             ],
             [
              0.2222222222222222,
              "#7201a8"
             ],
             [
              0.3333333333333333,
              "#9c179e"
             ],
             [
              0.4444444444444444,
              "#bd3786"
             ],
             [
              0.5555555555555556,
              "#d8576b"
             ],
             [
              0.6666666666666666,
              "#ed7953"
             ],
             [
              0.7777777777777778,
              "#fb9f3a"
             ],
             [
              0.8888888888888888,
              "#fdca26"
             ],
             [
              1,
              "#f0f921"
             ]
            ],
            "type": "histogram2d"
           }
          ],
          "histogram2dcontour": [
           {
            "colorbar": {
             "outlinewidth": 0,
             "ticks": ""
            },
            "colorscale": [
             [
              0,
              "#0d0887"
             ],
             [
              0.1111111111111111,
              "#46039f"
             ],
             [
              0.2222222222222222,
              "#7201a8"
             ],
             [
              0.3333333333333333,
              "#9c179e"
             ],
             [
              0.4444444444444444,
              "#bd3786"
             ],
             [
              0.5555555555555556,
              "#d8576b"
             ],
             [
              0.6666666666666666,
              "#ed7953"
             ],
             [
              0.7777777777777778,
              "#fb9f3a"
             ],
             [
              0.8888888888888888,
              "#fdca26"
             ],
             [
              1,
              "#f0f921"
             ]
            ],
            "type": "histogram2dcontour"
           }
          ],
          "mesh3d": [
           {
            "colorbar": {
             "outlinewidth": 0,
             "ticks": ""
            },
            "type": "mesh3d"
           }
          ],
          "parcoords": [
           {
            "line": {
             "colorbar": {
              "outlinewidth": 0,
              "ticks": ""
             }
            },
            "type": "parcoords"
           }
          ],
          "pie": [
           {
            "automargin": true,
            "type": "pie"
           }
          ],
          "scatter": [
           {
            "marker": {
             "colorbar": {
              "outlinewidth": 0,
              "ticks": ""
             }
            },
            "type": "scatter"
           }
          ],
          "scatter3d": [
           {
            "line": {
             "colorbar": {
              "outlinewidth": 0,
              "ticks": ""
             }
            },
            "marker": {
             "colorbar": {
              "outlinewidth": 0,
              "ticks": ""
             }
            },
            "type": "scatter3d"
           }
          ],
          "scattercarpet": [
           {
            "marker": {
             "colorbar": {
              "outlinewidth": 0,
              "ticks": ""
             }
            },
            "type": "scattercarpet"
           }
          ],
          "scattergeo": [
           {
            "marker": {
             "colorbar": {
              "outlinewidth": 0,
              "ticks": ""
             }
            },
            "type": "scattergeo"
           }
          ],
          "scattergl": [
           {
            "marker": {
             "colorbar": {
              "outlinewidth": 0,
              "ticks": ""
             }
            },
            "type": "scattergl"
           }
          ],
          "scattermapbox": [
           {
            "marker": {
             "colorbar": {
              "outlinewidth": 0,
              "ticks": ""
             }
            },
            "type": "scattermapbox"
           }
          ],
          "scatterpolar": [
           {
            "marker": {
             "colorbar": {
              "outlinewidth": 0,
              "ticks": ""
             }
            },
            "type": "scatterpolar"
           }
          ],
          "scatterpolargl": [
           {
            "marker": {
             "colorbar": {
              "outlinewidth": 0,
              "ticks": ""
             }
            },
            "type": "scatterpolargl"
           }
          ],
          "scatterternary": [
           {
            "marker": {
             "colorbar": {
              "outlinewidth": 0,
              "ticks": ""
             }
            },
            "type": "scatterternary"
           }
          ],
          "surface": [
           {
            "colorbar": {
             "outlinewidth": 0,
             "ticks": ""
            },
            "colorscale": [
             [
              0,
              "#0d0887"
             ],
             [
              0.1111111111111111,
              "#46039f"
             ],
             [
              0.2222222222222222,
              "#7201a8"
             ],
             [
              0.3333333333333333,
              "#9c179e"
             ],
             [
              0.4444444444444444,
              "#bd3786"
             ],
             [
              0.5555555555555556,
              "#d8576b"
             ],
             [
              0.6666666666666666,
              "#ed7953"
             ],
             [
              0.7777777777777778,
              "#fb9f3a"
             ],
             [
              0.8888888888888888,
              "#fdca26"
             ],
             [
              1,
              "#f0f921"
             ]
            ],
            "type": "surface"
           }
          ],
          "table": [
           {
            "cells": {
             "fill": {
              "color": "#EBF0F8"
             },
             "line": {
              "color": "white"
             }
            },
            "header": {
             "fill": {
              "color": "#C8D4E3"
             },
             "line": {
              "color": "white"
             }
            },
            "type": "table"
           }
          ]
         },
         "layout": {
          "annotationdefaults": {
           "arrowcolor": "#2a3f5f",
           "arrowhead": 0,
           "arrowwidth": 1
          },
          "autotypenumbers": "strict",
          "coloraxis": {
           "colorbar": {
            "outlinewidth": 0,
            "ticks": ""
           }
          },
          "colorscale": {
           "diverging": [
            [
             0,
             "#8e0152"
            ],
            [
             0.1,
             "#c51b7d"
            ],
            [
             0.2,
             "#de77ae"
            ],
            [
             0.3,
             "#f1b6da"
            ],
            [
             0.4,
             "#fde0ef"
            ],
            [
             0.5,
             "#f7f7f7"
            ],
            [
             0.6,
             "#e6f5d0"
            ],
            [
             0.7,
             "#b8e186"
            ],
            [
             0.8,
             "#7fbc41"
            ],
            [
             0.9,
             "#4d9221"
            ],
            [
             1,
             "#276419"
            ]
           ],
           "sequential": [
            [
             0,
             "#0d0887"
            ],
            [
             0.1111111111111111,
             "#46039f"
            ],
            [
             0.2222222222222222,
             "#7201a8"
            ],
            [
             0.3333333333333333,
             "#9c179e"
            ],
            [
             0.4444444444444444,
             "#bd3786"
            ],
            [
             0.5555555555555556,
             "#d8576b"
            ],
            [
             0.6666666666666666,
             "#ed7953"
            ],
            [
             0.7777777777777778,
             "#fb9f3a"
            ],
            [
             0.8888888888888888,
             "#fdca26"
            ],
            [
             1,
             "#f0f921"
            ]
           ],
           "sequentialminus": [
            [
             0,
             "#0d0887"
            ],
            [
             0.1111111111111111,
             "#46039f"
            ],
            [
             0.2222222222222222,
             "#7201a8"
            ],
            [
             0.3333333333333333,
             "#9c179e"
            ],
            [
             0.4444444444444444,
             "#bd3786"
            ],
            [
             0.5555555555555556,
             "#d8576b"
            ],
            [
             0.6666666666666666,
             "#ed7953"
            ],
            [
             0.7777777777777778,
             "#fb9f3a"
            ],
            [
             0.8888888888888888,
             "#fdca26"
            ],
            [
             1,
             "#f0f921"
            ]
           ]
          },
          "colorway": [
           "#636efa",
           "#EF553B",
           "#00cc96",
           "#ab63fa",
           "#FFA15A",
           "#19d3f3",
           "#FF6692",
           "#B6E880",
           "#FF97FF",
           "#FECB52"
          ],
          "font": {
           "color": "#2a3f5f"
          },
          "geo": {
           "bgcolor": "white",
           "lakecolor": "white",
           "landcolor": "#E5ECF6",
           "showlakes": true,
           "showland": true,
           "subunitcolor": "white"
          },
          "hoverlabel": {
           "align": "left"
          },
          "hovermode": "closest",
          "mapbox": {
           "style": "light"
          },
          "paper_bgcolor": "white",
          "plot_bgcolor": "#E5ECF6",
          "polar": {
           "angularaxis": {
            "gridcolor": "white",
            "linecolor": "white",
            "ticks": ""
           },
           "bgcolor": "#E5ECF6",
           "radialaxis": {
            "gridcolor": "white",
            "linecolor": "white",
            "ticks": ""
           }
          },
          "scene": {
           "xaxis": {
            "backgroundcolor": "#E5ECF6",
            "gridcolor": "white",
            "gridwidth": 2,
            "linecolor": "white",
            "showbackground": true,
            "ticks": "",
            "zerolinecolor": "white"
           },
           "yaxis": {
            "backgroundcolor": "#E5ECF6",
            "gridcolor": "white",
            "gridwidth": 2,
            "linecolor": "white",
            "showbackground": true,
            "ticks": "",
            "zerolinecolor": "white"
           },
           "zaxis": {
            "backgroundcolor": "#E5ECF6",
            "gridcolor": "white",
            "gridwidth": 2,
            "linecolor": "white",
            "showbackground": true,
            "ticks": "",
            "zerolinecolor": "white"
           }
          },
          "shapedefaults": {
           "line": {
            "color": "#2a3f5f"
           }
          },
          "ternary": {
           "aaxis": {
            "gridcolor": "white",
            "linecolor": "white",
            "ticks": ""
           },
           "baxis": {
            "gridcolor": "white",
            "linecolor": "white",
            "ticks": ""
           },
           "bgcolor": "#E5ECF6",
           "caxis": {
            "gridcolor": "white",
            "linecolor": "white",
            "ticks": ""
           }
          },
          "title": {
           "x": 0.05
          },
          "xaxis": {
           "automargin": true,
           "gridcolor": "white",
           "linecolor": "white",
           "ticks": "",
           "title": {
            "standoff": 15
           },
           "zerolinecolor": "white",
           "zerolinewidth": 2
          },
          "yaxis": {
           "automargin": true,
           "gridcolor": "white",
           "linecolor": "white",
           "ticks": "",
           "title": {
            "standoff": 15
           },
           "zerolinecolor": "white",
           "zerolinewidth": 2
          }
         }
        },
        "xaxis": {
         "showgrid": false
        },
        "yaxis": {
         "gridcolor": "rgba(225, 225, 225, .5)",
         "range": [
          0,
          300
         ]
        }
       }
      }
     },
     "metadata": {},
     "output_type": "display_data"
    }
   ],
   "source": [
    "dfn = data.copy()\n",
    "dfn['date_added_netflix'].replace('no_data', np.nan, inplace  = True)\n",
    "dfn = dfn.dropna()\n",
    "dfn['date_added_netflix'] = pd.to_datetime(dfn['date_added_netflix'])\n",
    "dfn['year_added'] = dfn['date_added_netflix'].dt.year\n",
    "dfn['count'] = 1\n",
    "\n",
    "dfa = data.copy()\n",
    "dfa['date_added_amazon'].replace('no_data', np.nan, inplace  = True)\n",
    "dfa = dfa.dropna()\n",
    "dfa['date_added_amazon'] = pd.to_datetime(dfa['date_added_amazon'])\n",
    "dfa['year_added'] = dfa['date_added_amazon'].dt.year\n",
    "dfa['count'] = 1\n",
    "\n",
    "def year_added(df, file, prov, range):\n",
    "    fig = go.Figure(layout_yaxis_range=range)\n",
    "    for i, r in enumerate(df['type'].value_counts().index[::-1]):\n",
    "        mtv_rel = pd.DataFrame(df[df['type']==r]['year_added'].value_counts().sort_index())\n",
    "        fig.add_trace(go.Scatter(\n",
    "            x=mtv_rel.index, y=mtv_rel['year_added'],\n",
    "            hoverinfo='x+y',\n",
    "            mode='lines',\n",
    "            line=dict(width=2, color=two_colors[i]),\n",
    "            # line_shape='spline', \n",
    "            name = r,\n",
    "            stackgroup='one'\n",
    "        ))\n",
    "\n",
    "        for fig_scatter_data in fig.data:\n",
    "            fig_scatter_data['customdata'] = [fig_scatter_data['name']] * len(fig_scatter_data['x'])\n",
    "\n",
    "    fig.update_traces( marker=dict(line=dict(width=2)),textfont=dict(family=\"Arial, san serif\",size=16,color=\"#212529\"),hoverlabel=dict(font_size=14,font_family=\"Arial, san serif\", font_color='white'))\n",
    "\n",
    "    fig.update_traces(hovertemplate=('<br>In %{x}, %{y} %{customdata} were added on ' +prov+'<br><extra></extra>'))\n",
    "\n",
    "    fig.update_layout(paper_bgcolor=\"#212529\", plot_bgcolor ='rgba(0, 0, 0, 0)', hoverlabel_bordercolor='#212529',margin=margin, yaxis_gridcolor ='rgba(225, 225, 225, .5)', font_color=\"white\", font_family=\"Arial, san serif\", font_size=15, xaxis_showgrid=False)\n",
    "    \n",
    "    fig.write_html('visualization/'+ file)\n",
    "    fig.show()\n",
    "\n",
    "year_added(dfn, 'seven.html', 'Netflix', [0,1300])\n",
    "year_added(dfa, 'eight.html', 'Amazon', [0,300])"
   ]
  },
  {
   "cell_type": "markdown",
   "metadata": {},
   "source": [
    "### Month added \n",
    "\n",
    "We plot two line chart one for Netflix and one for Amazon to investigate movement by month in content type and quantity addition. \n",
    "\n",
    "**Conclusions:** Interensting is to notice that Amazon and Netflix seems to be complementary in month addition. If Netflix is publishing mosly at the beginning and at the end of the year, Amazon concentrate more in the middle - in particular on the moth of June. "
   ]
  },
  {
   "cell_type": "code",
   "execution_count": 352,
   "metadata": {},
   "outputs": [
    {
     "data": {
      "application/vnd.plotly.v1+json": {
       "config": {
        "plotlyServerURL": "https://plot.ly"
       },
       "data": [
        {
         "customdata": [
          "TV Show",
          "TV Show",
          "TV Show",
          "TV Show",
          "TV Show",
          "TV Show",
          "TV Show",
          "TV Show",
          "TV Show",
          "TV Show",
          "TV Show",
          "TV Show"
         ],
         "hoverinfo": "x+y",
         "hoverlabel": {
          "font": {
           "color": "white",
           "family": "Arial, san serif",
           "size": 14
          }
         },
         "hovertemplate": "<br>On %{x}, %{y} %{customdata} were added on Netflix<br><extra></extra>",
         "line": {
          "color": "#ff547c",
          "width": 2
         },
         "marker": {
          "line": {
           "width": 2
          }
         },
         "mode": "lines",
         "name": "TV Show",
         "stackgroup": "one",
         "textfont": {
          "color": "#212529",
          "family": "Arial, san serif",
          "size": 16
         },
         "type": "scatter",
         "x": [
          "January",
          "February",
          "March",
          "April",
          "May",
          "June",
          "July",
          "August",
          "September",
          "October",
          "November",
          "December"
         ],
         "y": [
          104,
          93,
          112,
          101,
          105,
          118,
          132,
          120,
          136,
          104,
          107,
          127
         ]
        },
        {
         "customdata": [
          "Movie",
          "Movie",
          "Movie",
          "Movie",
          "Movie",
          "Movie",
          "Movie",
          "Movie",
          "Movie",
          "Movie",
          "Movie",
          "Movie"
         ],
         "hoverinfo": "x+y",
         "hoverlabel": {
          "font": {
           "color": "white",
           "family": "Arial, san serif",
           "size": 14
          }
         },
         "hovertemplate": "<br>On %{x}, %{y} %{customdata} were added on Netflix<br><extra></extra>",
         "line": {
          "color": "#a0a3de",
          "width": 2
         },
         "marker": {
          "line": {
           "width": 2
          }
         },
         "mode": "lines",
         "name": "Movie",
         "stackgroup": "one",
         "textfont": {
          "color": "#212529",
          "family": "Arial, san serif",
          "size": 16
         },
         "type": "scatter",
         "x": [
          "January",
          "February",
          "March",
          "April",
          "May",
          "June",
          "July",
          "August",
          "September",
          "October",
          "November",
          "December"
         ],
         "y": [
          454,
          314,
          415,
          423,
          347,
          398,
          465,
          440,
          437,
          421,
          423,
          461
         ]
        }
       ],
       "layout": {
        "font": {
         "color": "white",
         "family": "Arial, san serif",
         "size": 15
        },
        "hoverlabel": {
         "bordercolor": "#212529"
        },
        "margin": {
         "b": 10,
         "l": 10,
         "r": 10,
         "t": 10
        },
        "paper_bgcolor": "#212529",
        "plot_bgcolor": "rgba(0, 0, 0, 0)",
        "template": {
         "data": {
          "bar": [
           {
            "error_x": {
             "color": "#2a3f5f"
            },
            "error_y": {
             "color": "#2a3f5f"
            },
            "marker": {
             "line": {
              "color": "#E5ECF6",
              "width": 0.5
             },
             "pattern": {
              "fillmode": "overlay",
              "size": 10,
              "solidity": 0.2
             }
            },
            "type": "bar"
           }
          ],
          "barpolar": [
           {
            "marker": {
             "line": {
              "color": "#E5ECF6",
              "width": 0.5
             },
             "pattern": {
              "fillmode": "overlay",
              "size": 10,
              "solidity": 0.2
             }
            },
            "type": "barpolar"
           }
          ],
          "carpet": [
           {
            "aaxis": {
             "endlinecolor": "#2a3f5f",
             "gridcolor": "white",
             "linecolor": "white",
             "minorgridcolor": "white",
             "startlinecolor": "#2a3f5f"
            },
            "baxis": {
             "endlinecolor": "#2a3f5f",
             "gridcolor": "white",
             "linecolor": "white",
             "minorgridcolor": "white",
             "startlinecolor": "#2a3f5f"
            },
            "type": "carpet"
           }
          ],
          "choropleth": [
           {
            "colorbar": {
             "outlinewidth": 0,
             "ticks": ""
            },
            "type": "choropleth"
           }
          ],
          "contour": [
           {
            "colorbar": {
             "outlinewidth": 0,
             "ticks": ""
            },
            "colorscale": [
             [
              0,
              "#0d0887"
             ],
             [
              0.1111111111111111,
              "#46039f"
             ],
             [
              0.2222222222222222,
              "#7201a8"
             ],
             [
              0.3333333333333333,
              "#9c179e"
             ],
             [
              0.4444444444444444,
              "#bd3786"
             ],
             [
              0.5555555555555556,
              "#d8576b"
             ],
             [
              0.6666666666666666,
              "#ed7953"
             ],
             [
              0.7777777777777778,
              "#fb9f3a"
             ],
             [
              0.8888888888888888,
              "#fdca26"
             ],
             [
              1,
              "#f0f921"
             ]
            ],
            "type": "contour"
           }
          ],
          "contourcarpet": [
           {
            "colorbar": {
             "outlinewidth": 0,
             "ticks": ""
            },
            "type": "contourcarpet"
           }
          ],
          "heatmap": [
           {
            "colorbar": {
             "outlinewidth": 0,
             "ticks": ""
            },
            "colorscale": [
             [
              0,
              "#0d0887"
             ],
             [
              0.1111111111111111,
              "#46039f"
             ],
             [
              0.2222222222222222,
              "#7201a8"
             ],
             [
              0.3333333333333333,
              "#9c179e"
             ],
             [
              0.4444444444444444,
              "#bd3786"
             ],
             [
              0.5555555555555556,
              "#d8576b"
             ],
             [
              0.6666666666666666,
              "#ed7953"
             ],
             [
              0.7777777777777778,
              "#fb9f3a"
             ],
             [
              0.8888888888888888,
              "#fdca26"
             ],
             [
              1,
              "#f0f921"
             ]
            ],
            "type": "heatmap"
           }
          ],
          "heatmapgl": [
           {
            "colorbar": {
             "outlinewidth": 0,
             "ticks": ""
            },
            "colorscale": [
             [
              0,
              "#0d0887"
             ],
             [
              0.1111111111111111,
              "#46039f"
             ],
             [
              0.2222222222222222,
              "#7201a8"
             ],
             [
              0.3333333333333333,
              "#9c179e"
             ],
             [
              0.4444444444444444,
              "#bd3786"
             ],
             [
              0.5555555555555556,
              "#d8576b"
             ],
             [
              0.6666666666666666,
              "#ed7953"
             ],
             [
              0.7777777777777778,
              "#fb9f3a"
             ],
             [
              0.8888888888888888,
              "#fdca26"
             ],
             [
              1,
              "#f0f921"
             ]
            ],
            "type": "heatmapgl"
           }
          ],
          "histogram": [
           {
            "marker": {
             "pattern": {
              "fillmode": "overlay",
              "size": 10,
              "solidity": 0.2
             }
            },
            "type": "histogram"
           }
          ],
          "histogram2d": [
           {
            "colorbar": {
             "outlinewidth": 0,
             "ticks": ""
            },
            "colorscale": [
             [
              0,
              "#0d0887"
             ],
             [
              0.1111111111111111,
              "#46039f"
             ],
             [
              0.2222222222222222,
              "#7201a8"
             ],
             [
              0.3333333333333333,
              "#9c179e"
             ],
             [
              0.4444444444444444,
              "#bd3786"
             ],
             [
              0.5555555555555556,
              "#d8576b"
             ],
             [
              0.6666666666666666,
              "#ed7953"
             ],
             [
              0.7777777777777778,
              "#fb9f3a"
             ],
             [
              0.8888888888888888,
              "#fdca26"
             ],
             [
              1,
              "#f0f921"
             ]
            ],
            "type": "histogram2d"
           }
          ],
          "histogram2dcontour": [
           {
            "colorbar": {
             "outlinewidth": 0,
             "ticks": ""
            },
            "colorscale": [
             [
              0,
              "#0d0887"
             ],
             [
              0.1111111111111111,
              "#46039f"
             ],
             [
              0.2222222222222222,
              "#7201a8"
             ],
             [
              0.3333333333333333,
              "#9c179e"
             ],
             [
              0.4444444444444444,
              "#bd3786"
             ],
             [
              0.5555555555555556,
              "#d8576b"
             ],
             [
              0.6666666666666666,
              "#ed7953"
             ],
             [
              0.7777777777777778,
              "#fb9f3a"
             ],
             [
              0.8888888888888888,
              "#fdca26"
             ],
             [
              1,
              "#f0f921"
             ]
            ],
            "type": "histogram2dcontour"
           }
          ],
          "mesh3d": [
           {
            "colorbar": {
             "outlinewidth": 0,
             "ticks": ""
            },
            "type": "mesh3d"
           }
          ],
          "parcoords": [
           {
            "line": {
             "colorbar": {
              "outlinewidth": 0,
              "ticks": ""
             }
            },
            "type": "parcoords"
           }
          ],
          "pie": [
           {
            "automargin": true,
            "type": "pie"
           }
          ],
          "scatter": [
           {
            "marker": {
             "colorbar": {
              "outlinewidth": 0,
              "ticks": ""
             }
            },
            "type": "scatter"
           }
          ],
          "scatter3d": [
           {
            "line": {
             "colorbar": {
              "outlinewidth": 0,
              "ticks": ""
             }
            },
            "marker": {
             "colorbar": {
              "outlinewidth": 0,
              "ticks": ""
             }
            },
            "type": "scatter3d"
           }
          ],
          "scattercarpet": [
           {
            "marker": {
             "colorbar": {
              "outlinewidth": 0,
              "ticks": ""
             }
            },
            "type": "scattercarpet"
           }
          ],
          "scattergeo": [
           {
            "marker": {
             "colorbar": {
              "outlinewidth": 0,
              "ticks": ""
             }
            },
            "type": "scattergeo"
           }
          ],
          "scattergl": [
           {
            "marker": {
             "colorbar": {
              "outlinewidth": 0,
              "ticks": ""
             }
            },
            "type": "scattergl"
           }
          ],
          "scattermapbox": [
           {
            "marker": {
             "colorbar": {
              "outlinewidth": 0,
              "ticks": ""
             }
            },
            "type": "scattermapbox"
           }
          ],
          "scatterpolar": [
           {
            "marker": {
             "colorbar": {
              "outlinewidth": 0,
              "ticks": ""
             }
            },
            "type": "scatterpolar"
           }
          ],
          "scatterpolargl": [
           {
            "marker": {
             "colorbar": {
              "outlinewidth": 0,
              "ticks": ""
             }
            },
            "type": "scatterpolargl"
           }
          ],
          "scatterternary": [
           {
            "marker": {
             "colorbar": {
              "outlinewidth": 0,
              "ticks": ""
             }
            },
            "type": "scatterternary"
           }
          ],
          "surface": [
           {
            "colorbar": {
             "outlinewidth": 0,
             "ticks": ""
            },
            "colorscale": [
             [
              0,
              "#0d0887"
             ],
             [
              0.1111111111111111,
              "#46039f"
             ],
             [
              0.2222222222222222,
              "#7201a8"
             ],
             [
              0.3333333333333333,
              "#9c179e"
             ],
             [
              0.4444444444444444,
              "#bd3786"
             ],
             [
              0.5555555555555556,
              "#d8576b"
             ],
             [
              0.6666666666666666,
              "#ed7953"
             ],
             [
              0.7777777777777778,
              "#fb9f3a"
             ],
             [
              0.8888888888888888,
              "#fdca26"
             ],
             [
              1,
              "#f0f921"
             ]
            ],
            "type": "surface"
           }
          ],
          "table": [
           {
            "cells": {
             "fill": {
              "color": "#EBF0F8"
             },
             "line": {
              "color": "white"
             }
            },
            "header": {
             "fill": {
              "color": "#C8D4E3"
             },
             "line": {
              "color": "white"
             }
            },
            "type": "table"
           }
          ]
         },
         "layout": {
          "annotationdefaults": {
           "arrowcolor": "#2a3f5f",
           "arrowhead": 0,
           "arrowwidth": 1
          },
          "autotypenumbers": "strict",
          "coloraxis": {
           "colorbar": {
            "outlinewidth": 0,
            "ticks": ""
           }
          },
          "colorscale": {
           "diverging": [
            [
             0,
             "#8e0152"
            ],
            [
             0.1,
             "#c51b7d"
            ],
            [
             0.2,
             "#de77ae"
            ],
            [
             0.3,
             "#f1b6da"
            ],
            [
             0.4,
             "#fde0ef"
            ],
            [
             0.5,
             "#f7f7f7"
            ],
            [
             0.6,
             "#e6f5d0"
            ],
            [
             0.7,
             "#b8e186"
            ],
            [
             0.8,
             "#7fbc41"
            ],
            [
             0.9,
             "#4d9221"
            ],
            [
             1,
             "#276419"
            ]
           ],
           "sequential": [
            [
             0,
             "#0d0887"
            ],
            [
             0.1111111111111111,
             "#46039f"
            ],
            [
             0.2222222222222222,
             "#7201a8"
            ],
            [
             0.3333333333333333,
             "#9c179e"
            ],
            [
             0.4444444444444444,
             "#bd3786"
            ],
            [
             0.5555555555555556,
             "#d8576b"
            ],
            [
             0.6666666666666666,
             "#ed7953"
            ],
            [
             0.7777777777777778,
             "#fb9f3a"
            ],
            [
             0.8888888888888888,
             "#fdca26"
            ],
            [
             1,
             "#f0f921"
            ]
           ],
           "sequentialminus": [
            [
             0,
             "#0d0887"
            ],
            [
             0.1111111111111111,
             "#46039f"
            ],
            [
             0.2222222222222222,
             "#7201a8"
            ],
            [
             0.3333333333333333,
             "#9c179e"
            ],
            [
             0.4444444444444444,
             "#bd3786"
            ],
            [
             0.5555555555555556,
             "#d8576b"
            ],
            [
             0.6666666666666666,
             "#ed7953"
            ],
            [
             0.7777777777777778,
             "#fb9f3a"
            ],
            [
             0.8888888888888888,
             "#fdca26"
            ],
            [
             1,
             "#f0f921"
            ]
           ]
          },
          "colorway": [
           "#636efa",
           "#EF553B",
           "#00cc96",
           "#ab63fa",
           "#FFA15A",
           "#19d3f3",
           "#FF6692",
           "#B6E880",
           "#FF97FF",
           "#FECB52"
          ],
          "font": {
           "color": "#2a3f5f"
          },
          "geo": {
           "bgcolor": "white",
           "lakecolor": "white",
           "landcolor": "#E5ECF6",
           "showlakes": true,
           "showland": true,
           "subunitcolor": "white"
          },
          "hoverlabel": {
           "align": "left"
          },
          "hovermode": "closest",
          "mapbox": {
           "style": "light"
          },
          "paper_bgcolor": "white",
          "plot_bgcolor": "#E5ECF6",
          "polar": {
           "angularaxis": {
            "gridcolor": "white",
            "linecolor": "white",
            "ticks": ""
           },
           "bgcolor": "#E5ECF6",
           "radialaxis": {
            "gridcolor": "white",
            "linecolor": "white",
            "ticks": ""
           }
          },
          "scene": {
           "xaxis": {
            "backgroundcolor": "#E5ECF6",
            "gridcolor": "white",
            "gridwidth": 2,
            "linecolor": "white",
            "showbackground": true,
            "ticks": "",
            "zerolinecolor": "white"
           },
           "yaxis": {
            "backgroundcolor": "#E5ECF6",
            "gridcolor": "white",
            "gridwidth": 2,
            "linecolor": "white",
            "showbackground": true,
            "ticks": "",
            "zerolinecolor": "white"
           },
           "zaxis": {
            "backgroundcolor": "#E5ECF6",
            "gridcolor": "white",
            "gridwidth": 2,
            "linecolor": "white",
            "showbackground": true,
            "ticks": "",
            "zerolinecolor": "white"
           }
          },
          "shapedefaults": {
           "line": {
            "color": "#2a3f5f"
           }
          },
          "ternary": {
           "aaxis": {
            "gridcolor": "white",
            "linecolor": "white",
            "ticks": ""
           },
           "baxis": {
            "gridcolor": "white",
            "linecolor": "white",
            "ticks": ""
           },
           "bgcolor": "#E5ECF6",
           "caxis": {
            "gridcolor": "white",
            "linecolor": "white",
            "ticks": ""
           }
          },
          "title": {
           "x": 0.05
          },
          "xaxis": {
           "automargin": true,
           "gridcolor": "white",
           "linecolor": "white",
           "ticks": "",
           "title": {
            "standoff": 15
           },
           "zerolinecolor": "white",
           "zerolinewidth": 2
          },
          "yaxis": {
           "automargin": true,
           "gridcolor": "white",
           "linecolor": "white",
           "ticks": "",
           "title": {
            "standoff": 15
           },
           "zerolinecolor": "white",
           "zerolinewidth": 2
          }
         }
        },
        "xaxis": {
         "showgrid": false
        },
        "yaxis": {
         "gridcolor": "rgba(225, 225, 225, .5)",
         "range": [
          0,
          700
         ]
        }
       }
      }
     },
     "metadata": {},
     "output_type": "display_data"
    },
    {
     "data": {
      "application/vnd.plotly.v1+json": {
       "config": {
        "plotlyServerURL": "https://plot.ly"
       },
       "data": [
        {
         "customdata": [
          "TV Show",
          "TV Show",
          "TV Show",
          "TV Show",
          "TV Show",
          "TV Show",
          "TV Show",
          "TV Show",
          "TV Show",
          "TV Show",
          "TV Show",
          "TV Show"
         ],
         "hoverinfo": "x+y",
         "hoverlabel": {
          "font": {
           "color": "white",
           "family": "Arial, san serif",
           "size": 14
          }
         },
         "hovertemplate": "<br>On %{x}, %{y} %{customdata} were added on Amazon<br><extra></extra>",
         "line": {
          "color": "#ff547c",
          "width": 2
         },
         "marker": {
          "line": {
           "width": 2
          }
         },
         "mode": "lines",
         "name": "TV Show",
         "stackgroup": "one",
         "textfont": {
          "color": "#212529",
          "family": "Arial, san serif",
          "size": 16
         },
         "type": "scatter",
         "x": [
          "January",
          "February",
          "March",
          "April",
          "May",
          "June",
          "July",
          "August",
          "September",
          "October",
          "November",
          "December"
         ],
         "y": [
          32,
          25,
          32,
          22,
          27,
          47,
          24,
          29,
          27,
          33,
          35,
          14
         ]
        },
        {
         "customdata": [
          "Movie",
          "Movie",
          "Movie",
          "Movie",
          "Movie",
          "Movie",
          "Movie",
          "Movie",
          "Movie",
          "Movie",
          "Movie",
          "Movie"
         ],
         "hoverinfo": "x+y",
         "hoverlabel": {
          "font": {
           "color": "white",
           "family": "Arial, san serif",
           "size": 14
          }
         },
         "hovertemplate": "<br>On %{x}, %{y} %{customdata} were added on Amazon<br><extra></extra>",
         "line": {
          "color": "#a0a3de",
          "width": 2
         },
         "marker": {
          "line": {
           "width": 2
          }
         },
         "mode": "lines",
         "name": "Movie",
         "stackgroup": "one",
         "textfont": {
          "color": "#212529",
          "family": "Arial, san serif",
          "size": 16
         },
         "type": "scatter",
         "x": [
          "January",
          "February",
          "March",
          "April",
          "May",
          "June",
          "July",
          "August",
          "September",
          "October",
          "November",
          "December"
         ],
         "y": [
          104,
          102,
          107,
          86,
          110,
          123,
          110,
          122,
          138,
          125,
          101,
          89
         ]
        }
       ],
       "layout": {
        "font": {
         "color": "white",
         "family": "Arial, san serif",
         "size": 15
        },
        "hoverlabel": {
         "bordercolor": "#212529"
        },
        "margin": {
         "b": 10,
         "l": 10,
         "r": 10,
         "t": 10
        },
        "paper_bgcolor": "#212529",
        "plot_bgcolor": "rgba(0, 0, 0, 0)",
        "template": {
         "data": {
          "bar": [
           {
            "error_x": {
             "color": "#2a3f5f"
            },
            "error_y": {
             "color": "#2a3f5f"
            },
            "marker": {
             "line": {
              "color": "#E5ECF6",
              "width": 0.5
             },
             "pattern": {
              "fillmode": "overlay",
              "size": 10,
              "solidity": 0.2
             }
            },
            "type": "bar"
           }
          ],
          "barpolar": [
           {
            "marker": {
             "line": {
              "color": "#E5ECF6",
              "width": 0.5
             },
             "pattern": {
              "fillmode": "overlay",
              "size": 10,
              "solidity": 0.2
             }
            },
            "type": "barpolar"
           }
          ],
          "carpet": [
           {
            "aaxis": {
             "endlinecolor": "#2a3f5f",
             "gridcolor": "white",
             "linecolor": "white",
             "minorgridcolor": "white",
             "startlinecolor": "#2a3f5f"
            },
            "baxis": {
             "endlinecolor": "#2a3f5f",
             "gridcolor": "white",
             "linecolor": "white",
             "minorgridcolor": "white",
             "startlinecolor": "#2a3f5f"
            },
            "type": "carpet"
           }
          ],
          "choropleth": [
           {
            "colorbar": {
             "outlinewidth": 0,
             "ticks": ""
            },
            "type": "choropleth"
           }
          ],
          "contour": [
           {
            "colorbar": {
             "outlinewidth": 0,
             "ticks": ""
            },
            "colorscale": [
             [
              0,
              "#0d0887"
             ],
             [
              0.1111111111111111,
              "#46039f"
             ],
             [
              0.2222222222222222,
              "#7201a8"
             ],
             [
              0.3333333333333333,
              "#9c179e"
             ],
             [
              0.4444444444444444,
              "#bd3786"
             ],
             [
              0.5555555555555556,
              "#d8576b"
             ],
             [
              0.6666666666666666,
              "#ed7953"
             ],
             [
              0.7777777777777778,
              "#fb9f3a"
             ],
             [
              0.8888888888888888,
              "#fdca26"
             ],
             [
              1,
              "#f0f921"
             ]
            ],
            "type": "contour"
           }
          ],
          "contourcarpet": [
           {
            "colorbar": {
             "outlinewidth": 0,
             "ticks": ""
            },
            "type": "contourcarpet"
           }
          ],
          "heatmap": [
           {
            "colorbar": {
             "outlinewidth": 0,
             "ticks": ""
            },
            "colorscale": [
             [
              0,
              "#0d0887"
             ],
             [
              0.1111111111111111,
              "#46039f"
             ],
             [
              0.2222222222222222,
              "#7201a8"
             ],
             [
              0.3333333333333333,
              "#9c179e"
             ],
             [
              0.4444444444444444,
              "#bd3786"
             ],
             [
              0.5555555555555556,
              "#d8576b"
             ],
             [
              0.6666666666666666,
              "#ed7953"
             ],
             [
              0.7777777777777778,
              "#fb9f3a"
             ],
             [
              0.8888888888888888,
              "#fdca26"
             ],
             [
              1,
              "#f0f921"
             ]
            ],
            "type": "heatmap"
           }
          ],
          "heatmapgl": [
           {
            "colorbar": {
             "outlinewidth": 0,
             "ticks": ""
            },
            "colorscale": [
             [
              0,
              "#0d0887"
             ],
             [
              0.1111111111111111,
              "#46039f"
             ],
             [
              0.2222222222222222,
              "#7201a8"
             ],
             [
              0.3333333333333333,
              "#9c179e"
             ],
             [
              0.4444444444444444,
              "#bd3786"
             ],
             [
              0.5555555555555556,
              "#d8576b"
             ],
             [
              0.6666666666666666,
              "#ed7953"
             ],
             [
              0.7777777777777778,
              "#fb9f3a"
             ],
             [
              0.8888888888888888,
              "#fdca26"
             ],
             [
              1,
              "#f0f921"
             ]
            ],
            "type": "heatmapgl"
           }
          ],
          "histogram": [
           {
            "marker": {
             "pattern": {
              "fillmode": "overlay",
              "size": 10,
              "solidity": 0.2
             }
            },
            "type": "histogram"
           }
          ],
          "histogram2d": [
           {
            "colorbar": {
             "outlinewidth": 0,
             "ticks": ""
            },
            "colorscale": [
             [
              0,
              "#0d0887"
             ],
             [
              0.1111111111111111,
              "#46039f"
             ],
             [
              0.2222222222222222,
              "#7201a8"
             ],
             [
              0.3333333333333333,
              "#9c179e"
             ],
             [
              0.4444444444444444,
              "#bd3786"
             ],
             [
              0.5555555555555556,
              "#d8576b"
             ],
             [
              0.6666666666666666,
              "#ed7953"
             ],
             [
              0.7777777777777778,
              "#fb9f3a"
             ],
             [
              0.8888888888888888,
              "#fdca26"
             ],
             [
              1,
              "#f0f921"
             ]
            ],
            "type": "histogram2d"
           }
          ],
          "histogram2dcontour": [
           {
            "colorbar": {
             "outlinewidth": 0,
             "ticks": ""
            },
            "colorscale": [
             [
              0,
              "#0d0887"
             ],
             [
              0.1111111111111111,
              "#46039f"
             ],
             [
              0.2222222222222222,
              "#7201a8"
             ],
             [
              0.3333333333333333,
              "#9c179e"
             ],
             [
              0.4444444444444444,
              "#bd3786"
             ],
             [
              0.5555555555555556,
              "#d8576b"
             ],
             [
              0.6666666666666666,
              "#ed7953"
             ],
             [
              0.7777777777777778,
              "#fb9f3a"
             ],
             [
              0.8888888888888888,
              "#fdca26"
             ],
             [
              1,
              "#f0f921"
             ]
            ],
            "type": "histogram2dcontour"
           }
          ],
          "mesh3d": [
           {
            "colorbar": {
             "outlinewidth": 0,
             "ticks": ""
            },
            "type": "mesh3d"
           }
          ],
          "parcoords": [
           {
            "line": {
             "colorbar": {
              "outlinewidth": 0,
              "ticks": ""
             }
            },
            "type": "parcoords"
           }
          ],
          "pie": [
           {
            "automargin": true,
            "type": "pie"
           }
          ],
          "scatter": [
           {
            "marker": {
             "colorbar": {
              "outlinewidth": 0,
              "ticks": ""
             }
            },
            "type": "scatter"
           }
          ],
          "scatter3d": [
           {
            "line": {
             "colorbar": {
              "outlinewidth": 0,
              "ticks": ""
             }
            },
            "marker": {
             "colorbar": {
              "outlinewidth": 0,
              "ticks": ""
             }
            },
            "type": "scatter3d"
           }
          ],
          "scattercarpet": [
           {
            "marker": {
             "colorbar": {
              "outlinewidth": 0,
              "ticks": ""
             }
            },
            "type": "scattercarpet"
           }
          ],
          "scattergeo": [
           {
            "marker": {
             "colorbar": {
              "outlinewidth": 0,
              "ticks": ""
             }
            },
            "type": "scattergeo"
           }
          ],
          "scattergl": [
           {
            "marker": {
             "colorbar": {
              "outlinewidth": 0,
              "ticks": ""
             }
            },
            "type": "scattergl"
           }
          ],
          "scattermapbox": [
           {
            "marker": {
             "colorbar": {
              "outlinewidth": 0,
              "ticks": ""
             }
            },
            "type": "scattermapbox"
           }
          ],
          "scatterpolar": [
           {
            "marker": {
             "colorbar": {
              "outlinewidth": 0,
              "ticks": ""
             }
            },
            "type": "scatterpolar"
           }
          ],
          "scatterpolargl": [
           {
            "marker": {
             "colorbar": {
              "outlinewidth": 0,
              "ticks": ""
             }
            },
            "type": "scatterpolargl"
           }
          ],
          "scatterternary": [
           {
            "marker": {
             "colorbar": {
              "outlinewidth": 0,
              "ticks": ""
             }
            },
            "type": "scatterternary"
           }
          ],
          "surface": [
           {
            "colorbar": {
             "outlinewidth": 0,
             "ticks": ""
            },
            "colorscale": [
             [
              0,
              "#0d0887"
             ],
             [
              0.1111111111111111,
              "#46039f"
             ],
             [
              0.2222222222222222,
              "#7201a8"
             ],
             [
              0.3333333333333333,
              "#9c179e"
             ],
             [
              0.4444444444444444,
              "#bd3786"
             ],
             [
              0.5555555555555556,
              "#d8576b"
             ],
             [
              0.6666666666666666,
              "#ed7953"
             ],
             [
              0.7777777777777778,
              "#fb9f3a"
             ],
             [
              0.8888888888888888,
              "#fdca26"
             ],
             [
              1,
              "#f0f921"
             ]
            ],
            "type": "surface"
           }
          ],
          "table": [
           {
            "cells": {
             "fill": {
              "color": "#EBF0F8"
             },
             "line": {
              "color": "white"
             }
            },
            "header": {
             "fill": {
              "color": "#C8D4E3"
             },
             "line": {
              "color": "white"
             }
            },
            "type": "table"
           }
          ]
         },
         "layout": {
          "annotationdefaults": {
           "arrowcolor": "#2a3f5f",
           "arrowhead": 0,
           "arrowwidth": 1
          },
          "autotypenumbers": "strict",
          "coloraxis": {
           "colorbar": {
            "outlinewidth": 0,
            "ticks": ""
           }
          },
          "colorscale": {
           "diverging": [
            [
             0,
             "#8e0152"
            ],
            [
             0.1,
             "#c51b7d"
            ],
            [
             0.2,
             "#de77ae"
            ],
            [
             0.3,
             "#f1b6da"
            ],
            [
             0.4,
             "#fde0ef"
            ],
            [
             0.5,
             "#f7f7f7"
            ],
            [
             0.6,
             "#e6f5d0"
            ],
            [
             0.7,
             "#b8e186"
            ],
            [
             0.8,
             "#7fbc41"
            ],
            [
             0.9,
             "#4d9221"
            ],
            [
             1,
             "#276419"
            ]
           ],
           "sequential": [
            [
             0,
             "#0d0887"
            ],
            [
             0.1111111111111111,
             "#46039f"
            ],
            [
             0.2222222222222222,
             "#7201a8"
            ],
            [
             0.3333333333333333,
             "#9c179e"
            ],
            [
             0.4444444444444444,
             "#bd3786"
            ],
            [
             0.5555555555555556,
             "#d8576b"
            ],
            [
             0.6666666666666666,
             "#ed7953"
            ],
            [
             0.7777777777777778,
             "#fb9f3a"
            ],
            [
             0.8888888888888888,
             "#fdca26"
            ],
            [
             1,
             "#f0f921"
            ]
           ],
           "sequentialminus": [
            [
             0,
             "#0d0887"
            ],
            [
             0.1111111111111111,
             "#46039f"
            ],
            [
             0.2222222222222222,
             "#7201a8"
            ],
            [
             0.3333333333333333,
             "#9c179e"
            ],
            [
             0.4444444444444444,
             "#bd3786"
            ],
            [
             0.5555555555555556,
             "#d8576b"
            ],
            [
             0.6666666666666666,
             "#ed7953"
            ],
            [
             0.7777777777777778,
             "#fb9f3a"
            ],
            [
             0.8888888888888888,
             "#fdca26"
            ],
            [
             1,
             "#f0f921"
            ]
           ]
          },
          "colorway": [
           "#636efa",
           "#EF553B",
           "#00cc96",
           "#ab63fa",
           "#FFA15A",
           "#19d3f3",
           "#FF6692",
           "#B6E880",
           "#FF97FF",
           "#FECB52"
          ],
          "font": {
           "color": "#2a3f5f"
          },
          "geo": {
           "bgcolor": "white",
           "lakecolor": "white",
           "landcolor": "#E5ECF6",
           "showlakes": true,
           "showland": true,
           "subunitcolor": "white"
          },
          "hoverlabel": {
           "align": "left"
          },
          "hovermode": "closest",
          "mapbox": {
           "style": "light"
          },
          "paper_bgcolor": "white",
          "plot_bgcolor": "#E5ECF6",
          "polar": {
           "angularaxis": {
            "gridcolor": "white",
            "linecolor": "white",
            "ticks": ""
           },
           "bgcolor": "#E5ECF6",
           "radialaxis": {
            "gridcolor": "white",
            "linecolor": "white",
            "ticks": ""
           }
          },
          "scene": {
           "xaxis": {
            "backgroundcolor": "#E5ECF6",
            "gridcolor": "white",
            "gridwidth": 2,
            "linecolor": "white",
            "showbackground": true,
            "ticks": "",
            "zerolinecolor": "white"
           },
           "yaxis": {
            "backgroundcolor": "#E5ECF6",
            "gridcolor": "white",
            "gridwidth": 2,
            "linecolor": "white",
            "showbackground": true,
            "ticks": "",
            "zerolinecolor": "white"
           },
           "zaxis": {
            "backgroundcolor": "#E5ECF6",
            "gridcolor": "white",
            "gridwidth": 2,
            "linecolor": "white",
            "showbackground": true,
            "ticks": "",
            "zerolinecolor": "white"
           }
          },
          "shapedefaults": {
           "line": {
            "color": "#2a3f5f"
           }
          },
          "ternary": {
           "aaxis": {
            "gridcolor": "white",
            "linecolor": "white",
            "ticks": ""
           },
           "baxis": {
            "gridcolor": "white",
            "linecolor": "white",
            "ticks": ""
           },
           "bgcolor": "#E5ECF6",
           "caxis": {
            "gridcolor": "white",
            "linecolor": "white",
            "ticks": ""
           }
          },
          "title": {
           "x": 0.05
          },
          "xaxis": {
           "automargin": true,
           "gridcolor": "white",
           "linecolor": "white",
           "ticks": "",
           "title": {
            "standoff": 15
           },
           "zerolinecolor": "white",
           "zerolinewidth": 2
          },
          "yaxis": {
           "automargin": true,
           "gridcolor": "white",
           "linecolor": "white",
           "ticks": "",
           "title": {
            "standoff": 15
           },
           "zerolinecolor": "white",
           "zerolinewidth": 2
          }
         }
        },
        "xaxis": {
         "showgrid": false
        },
        "yaxis": {
         "gridcolor": "rgba(225, 225, 225, .5)",
         "range": [
          0,
          200
         ]
        }
       }
      }
     },
     "metadata": {},
     "output_type": "display_data"
    }
   ],
   "source": [
    "month_order = ['January',\n",
    " 'February',\n",
    " 'March',\n",
    " 'April',\n",
    " 'May',\n",
    " 'June',\n",
    " 'July',\n",
    " 'August',\n",
    " 'September',\n",
    " 'October',\n",
    " 'November',\n",
    " 'December']\n",
    "\n",
    "dfn = data.copy()\n",
    "dfn['date_added_netflix'].replace('no_data', np.nan, inplace  = True)\n",
    "dfn = dfn.dropna()\n",
    "dfn['date_added_netflix'] = pd.to_datetime(dfn['date_added_netflix'])\n",
    "dfn['month_added_netflix']=dfn['date_added_netflix'].dt.month\n",
    "dfn['month_added_netflix']=dfn['date_added_netflix'].dt.month_name()\n",
    "dfn['month_name_added'] = pd.Categorical(dfn['month_added_netflix'], categories=month_order, ordered=True)\n",
    "\n",
    "dfa = data.copy()\n",
    "dfa['date_added_amazon'].replace('no_data', np.nan, inplace  = True)\n",
    "dfa = dfa.dropna()\n",
    "dfa['date_added_amazon'] = pd.to_datetime(dfa['date_added_amazon'])\n",
    "dfa['month_added_amazon']=dfa['date_added_amazon'].dt.month\n",
    "dfa['month_added_amazon']=dfa['date_added_amazon'].dt.month_name()\n",
    "dfa['month_name_added'] = pd.Categorical(dfa['month_added_amazon'], categories=month_order, ordered=True)\n",
    "def month_added(df, file, prov, range):\n",
    "    data_sub = df.groupby('type')['month_name_added'].value_counts().unstack().fillna(0).loc[['TV Show','Movie']].cumsum(axis=0).T\n",
    "    fig = go.Figure(layout_yaxis_range=range)\n",
    "    for i, r in enumerate(df['type'].value_counts().index[::-1]):\n",
    "        mtv_rel = pd.DataFrame(data_sub[r])\n",
    "        fig.add_trace(go.Scatter(\n",
    "            x=mtv_rel.index, y=mtv_rel[r],\n",
    "            hoverinfo='x+y',\n",
    "            mode='lines',\n",
    "            line=dict(width=2, color=two_colors[i]),\n",
    "            # line_shape='spline', \n",
    "            name = r,\n",
    "            stackgroup='one' # define stack group\n",
    "        ))\n",
    "\n",
    "        for fig_scatter_data in fig.data:\n",
    "            fig_scatter_data['customdata'] = [fig_scatter_data['name']] * len(fig_scatter_data['x'])\n",
    "\n",
    "    fig.update_traces( marker=dict(line=dict(width=2)),textfont=dict(family=\"Arial, san serif\",size=16,color=\"#212529\"),hoverlabel=dict(font_size=14,font_family=\"Arial, san serif\", font_color='white'))\n",
    "\n",
    "    fig.update_traces(hovertemplate=('<br>On %{x}, %{y} %{customdata} were added on ' +prov+'<br><extra></extra>'))\n",
    "\n",
    "    fig.update_layout(paper_bgcolor=\"#212529\", plot_bgcolor ='rgba(0, 0, 0, 0)', hoverlabel_bordercolor='#212529',margin=margin, yaxis_gridcolor ='rgba(225, 225, 225, .5)', font_color=\"white\", font_family=\"Arial, san serif\", font_size=15, xaxis_showgrid=False)\n",
    "    fig.write_html('visualization/'+ file)\n",
    "    fig.show()\n",
    "month_added(dfn, 'nine.html', 'Netflix', [0,700])\n",
    "month_added(dfa, 'ten.html', 'Amazon', [0, 200])"
   ]
  },
  {
   "cell_type": "markdown",
   "metadata": {},
   "source": [
    "### Content genre addition over month\n",
    "\n",
    "We plot two histogram to understand if there is a differenciation in terms of content's genres month addition between the two streaming serivicies. \n",
    "\n",
    "**Conclusion:** both the servicies have a dominance of Drammatic and Commedian contents. Netflix have a huge ammount of international movies, in respect to Amazon, that appear to add less of them but constantly by month. (se hai tempo scrivi) "
   ]
  },
  {
   "cell_type": "code",
   "execution_count": 353,
   "metadata": {},
   "outputs": [
    {
     "data": {
      "application/vnd.plotly.v1+json": {
       "config": {
        "plotlyServerURL": "https://plot.ly"
       },
       "data": [
        {
         "alignmentgroup": "True",
         "bingroup": "x",
         "customdata": [
          "genre"
         ],
         "histfunc": "sum",
         "hoverlabel": {
          "font": {
           "color": "white",
           "family": "Arial, san serif",
           "size": 14
          }
         },
         "hovertemplate": "Genre=Action & adventure<br>month=%{x}<br>sum of contents=%{y}<extra></extra>",
         "legendgroup": "Action & adventure",
         "marker": {
          "color": "#0f79af",
          "pattern": {
           "shape": ""
          }
         },
         "name": "Action & adventure",
         "offsetgroup": "Action & adventure",
         "orientation": "v",
         "showlegend": true,
         "textfont": {
          "color": "#212529",
          "family": "Arial, san serif",
          "size": 16
         },
         "type": "histogram",
         "x": [
          "April",
          "August",
          "December",
          "February",
          "January",
          "July",
          "June",
          "March",
          "May",
          "November",
          "October",
          "September"
         ],
         "xaxis": "x",
         "y": [
          57,
          67,
          59,
          37,
          70,
          86,
          51,
          49,
          49,
          71,
          64,
          69
         ],
         "yaxis": "y"
        },
        {
         "alignmentgroup": "True",
         "bingroup": "x",
         "customdata": [
          "genre"
         ],
         "histfunc": "sum",
         "hoverlabel": {
          "font": {
           "color": "white",
           "family": "Arial, san serif",
           "size": 14
          }
         },
         "hovertemplate": "Genre=Anime<br>month=%{x}<br>sum of contents=%{y}<extra></extra>",
         "legendgroup": "Anime",
         "marker": {
          "color": "#5287c1",
          "pattern": {
           "shape": ""
          }
         },
         "name": "Anime",
         "offsetgroup": "Anime",
         "orientation": "v",
         "showlegend": true,
         "textfont": {
          "color": "#212529",
          "family": "Arial, san serif",
          "size": 16
         },
         "type": "histogram",
         "x": [
          "April",
          "August",
          "December",
          "July",
          "June",
          "May",
          "October",
          "September"
         ],
         "xaxis": "x",
         "y": [
          3,
          2,
          2,
          1,
          2,
          1,
          5,
          1
         ],
         "yaxis": "y"
        },
        {
         "alignmentgroup": "True",
         "bingroup": "x",
         "customdata": [
          "genre"
         ],
         "histfunc": "sum",
         "hoverlabel": {
          "font": {
           "color": "white",
           "family": "Arial, san serif",
           "size": 14
          }
         },
         "hovertemplate": "Genre=Children & family<br>month=%{x}<br>sum of contents=%{y}<extra></extra>",
         "legendgroup": "Children & family",
         "marker": {
          "color": "#7b95d0",
          "pattern": {
           "shape": ""
          }
         },
         "name": "Children & family",
         "offsetgroup": "Children & family",
         "orientation": "v",
         "showlegend": true,
         "textfont": {
          "color": "#212529",
          "family": "Arial, san serif",
          "size": 16
         },
         "type": "histogram",
         "x": [
          "April",
          "August",
          "December",
          "February",
          "January",
          "July",
          "June",
          "March",
          "May",
          "November",
          "October",
          "September"
         ],
         "xaxis": "x",
         "y": [
          28,
          34,
          31,
          22,
          58,
          45,
          18,
          34,
          31,
          43,
          36,
          35
         ],
         "yaxis": "y"
        },
        {
         "alignmentgroup": "True",
         "bingroup": "x",
         "customdata": [
          "genre"
         ],
         "histfunc": "sum",
         "hoverlabel": {
          "font": {
           "color": "white",
           "family": "Arial, san serif",
           "size": 14
          }
         },
         "hovertemplate": "Genre=Classic & cult<br>month=%{x}<br>sum of contents=%{y}<extra></extra>",
         "legendgroup": "Classic & cult",
         "marker": {
          "color": "#a0a3de",
          "pattern": {
           "shape": ""
          }
         },
         "name": "Classic & cult",
         "offsetgroup": "Classic & cult",
         "orientation": "v",
         "showlegend": true,
         "textfont": {
          "color": "#212529",
          "family": "Arial, san serif",
          "size": 16
         },
         "type": "histogram",
         "x": [
          "April",
          "August",
          "December",
          "February",
          "January",
          "July",
          "June",
          "March",
          "May",
          "November",
          "October",
          "September"
         ],
         "xaxis": "x",
         "y": [
          6,
          13,
          19,
          1,
          28,
          13,
          16,
          12,
          4,
          33,
          10,
          15
         ],
         "yaxis": "y"
        },
        {
         "alignmentgroup": "True",
         "bingroup": "x",
         "customdata": [
          "genre"
         ],
         "histfunc": "sum",
         "hoverlabel": {
          "font": {
           "color": "white",
           "family": "Arial, san serif",
           "size": 14
          }
         },
         "hovertemplate": "Genre=Commedy<br>month=%{x}<br>sum of contents=%{y}<extra></extra>",
         "legendgroup": "Commedy",
         "marker": {
          "color": "#c2b2ea",
          "pattern": {
           "shape": ""
          }
         },
         "name": "Commedy",
         "offsetgroup": "Commedy",
         "orientation": "v",
         "showlegend": true,
         "textfont": {
          "color": "#212529",
          "family": "Arial, san serif",
          "size": 16
         },
         "type": "histogram",
         "x": [
          "April",
          "August",
          "December",
          "February",
          "January",
          "July",
          "June",
          "March",
          "May",
          "November",
          "October",
          "September"
         ],
         "xaxis": "x",
         "y": [
          142,
          128,
          142,
          73,
          129,
          125,
          93,
          97,
          95,
          130,
          118,
          127
         ],
         "yaxis": "y"
        },
        {
         "alignmentgroup": "True",
         "bingroup": "x",
         "customdata": [
          "genre"
         ],
         "histfunc": "sum",
         "hoverlabel": {
          "font": {
           "color": "white",
           "family": "Arial, san serif",
           "size": 14
          }
         },
         "hovertemplate": "Genre=Crime & mystery<br>month=%{x}<br>sum of contents=%{y}<extra></extra>",
         "legendgroup": "Crime & mystery",
         "marker": {
          "color": "#e2c1f5",
          "pattern": {
           "shape": ""
          }
         },
         "name": "Crime & mystery",
         "offsetgroup": "Crime & mystery",
         "orientation": "v",
         "showlegend": true,
         "textfont": {
          "color": "#212529",
          "family": "Arial, san serif",
          "size": 16
         },
         "type": "histogram",
         "x": [
          "April",
          "August",
          "December",
          "February",
          "January",
          "July",
          "June",
          "March",
          "May",
          "November",
          "October",
          "September"
         ],
         "xaxis": "x",
         "y": [
          27,
          34,
          34,
          31,
          16,
          32,
          40,
          35,
          29,
          23,
          24,
          46
         ],
         "yaxis": "y"
        },
        {
         "alignmentgroup": "True",
         "bingroup": "x",
         "customdata": [
          "genre"
         ],
         "histfunc": "sum",
         "hoverlabel": {
          "font": {
           "color": "white",
           "family": "Arial, san serif",
           "size": 14
          }
         },
         "hovertemplate": "Genre=Documentary<br>month=%{x}<br>sum of contents=%{y}<extra></extra>",
         "legendgroup": "Documentary",
         "marker": {
          "color": "#ffd2ff",
          "pattern": {
           "shape": ""
          }
         },
         "name": "Documentary",
         "offsetgroup": "Documentary",
         "orientation": "v",
         "showlegend": true,
         "textfont": {
          "color": "#212529",
          "family": "Arial, san serif",
          "size": 16
         },
         "type": "histogram",
         "x": [
          "April",
          "August",
          "December",
          "February",
          "January",
          "July",
          "June",
          "March",
          "May",
          "November",
          "October",
          "September"
         ],
         "xaxis": "x",
         "y": [
          30,
          37,
          38,
          36,
          37,
          26,
          33,
          54,
          34,
          31,
          35,
          51
         ],
         "yaxis": "y"
        },
        {
         "alignmentgroup": "True",
         "bingroup": "x",
         "customdata": [
          "genre"
         ],
         "histfunc": "sum",
         "hoverlabel": {
          "font": {
           "color": "white",
           "family": "Arial, san serif",
           "size": 14
          }
         },
         "hovertemplate": "Genre=Drama<br>month=%{x}<br>sum of contents=%{y}<extra></extra>",
         "legendgroup": "Drama",
         "marker": {
          "color": "#ffb5ea",
          "pattern": {
           "shape": ""
          }
         },
         "name": "Drama",
         "offsetgroup": "Drama",
         "orientation": "v",
         "showlegend": true,
         "textfont": {
          "color": "#212529",
          "family": "Arial, san serif",
          "size": 16
         },
         "type": "histogram",
         "x": [
          "April",
          "August",
          "December",
          "February",
          "January",
          "July",
          "June",
          "March",
          "May",
          "November",
          "October",
          "September"
         ],
         "xaxis": "x",
         "y": [
          198,
          183,
          210,
          162,
          191,
          227,
          207,
          203,
          154,
          178,
          178,
          186
         ],
         "yaxis": "y"
        },
        {
         "alignmentgroup": "True",
         "bingroup": "x",
         "customdata": [
          "genre"
         ],
         "histfunc": "sum",
         "hoverlabel": {
          "font": {
           "color": "white",
           "family": "Arial, san serif",
           "size": 14
          }
         },
         "hovertemplate": "Genre=Faith & spirituality<br>month=%{x}<br>sum of contents=%{y}<extra></extra>",
         "legendgroup": "Faith & spirituality",
         "marker": {
          "color": "#ff96cc",
          "pattern": {
           "shape": ""
          }
         },
         "name": "Faith & spirituality",
         "offsetgroup": "Faith & spirituality",
         "orientation": "v",
         "showlegend": true,
         "textfont": {
          "color": "#212529",
          "family": "Arial, san serif",
          "size": 16
         },
         "type": "histogram",
         "x": [
          "April",
          "August",
          "December",
          "February",
          "January",
          "July",
          "June",
          "March",
          "May",
          "November",
          "October",
          "September"
         ],
         "xaxis": "x",
         "y": [
          4,
          2,
          5,
          3,
          5,
          3,
          4,
          5,
          2,
          2,
          2,
          1
         ],
         "yaxis": "y"
        },
        {
         "alignmentgroup": "True",
         "bingroup": "x",
         "customdata": [
          "genre"
         ],
         "histfunc": "sum",
         "hoverlabel": {
          "font": {
           "color": "white",
           "family": "Arial, san serif",
           "size": 14
          }
         },
         "hovertemplate": "Genre=Horror<br>month=%{x}<br>sum of contents=%{y}<extra></extra>",
         "legendgroup": "Horror",
         "marker": {
          "color": "#ff76a7",
          "pattern": {
           "shape": ""
          }
         },
         "name": "Horror",
         "offsetgroup": "Horror",
         "orientation": "v",
         "showlegend": true,
         "textfont": {
          "color": "#212529",
          "family": "Arial, san serif",
          "size": 16
         },
         "type": "histogram",
         "x": [
          "April",
          "August",
          "December",
          "February",
          "January",
          "July",
          "June",
          "March",
          "May",
          "November",
          "October",
          "September"
         ],
         "xaxis": "x",
         "y": [
          28,
          27,
          25,
          19,
          46,
          26,
          33,
          20,
          19,
          22,
          35,
          31
         ],
         "yaxis": "y"
        },
        {
         "alignmentgroup": "True",
         "bingroup": "x",
         "customdata": [
          "genre"
         ],
         "histfunc": "sum",
         "hoverlabel": {
          "font": {
           "color": "white",
           "family": "Arial, san serif",
           "size": 14
          }
         },
         "hovertemplate": "Genre=Independent<br>month=%{x}<br>sum of contents=%{y}<extra></extra>",
         "legendgroup": "Independent",
         "marker": {
          "color": "#ff547c",
          "pattern": {
           "shape": ""
          }
         },
         "name": "Independent",
         "offsetgroup": "Independent",
         "orientation": "v",
         "showlegend": true,
         "textfont": {
          "color": "#212529",
          "family": "Arial, san serif",
          "size": 16
         },
         "type": "histogram",
         "x": [
          "April",
          "August",
          "December",
          "February",
          "January",
          "July",
          "June",
          "March",
          "May",
          "November",
          "October",
          "September"
         ],
         "xaxis": "x",
         "y": [
          50,
          44,
          54,
          49,
          62,
          58,
          64,
          53,
          42,
          38,
          32,
          41
         ],
         "yaxis": "y"
        },
        {
         "alignmentgroup": "True",
         "bingroup": "x",
         "customdata": [
          "genre"
         ],
         "histfunc": "sum",
         "hoverlabel": {
          "font": {
           "color": "white",
           "family": "Arial, san serif",
           "size": 14
          }
         },
         "hovertemplate": "Genre=International<br>month=%{x}<br>sum of contents=%{y}<extra></extra>",
         "legendgroup": "International",
         "marker": {
          "color": "#f9314c",
          "pattern": {
           "shape": ""
          }
         },
         "name": "International",
         "offsetgroup": "International",
         "orientation": "v",
         "showlegend": true,
         "textfont": {
          "color": "#212529",
          "family": "Arial, san serif",
          "size": 16
         },
         "type": "histogram",
         "x": [
          "April",
          "August",
          "December",
          "February",
          "January",
          "July",
          "June",
          "March",
          "May",
          "November",
          "October",
          "September"
         ],
         "xaxis": "x",
         "y": [
          235,
          237,
          258,
          171,
          172,
          242,
          219,
          237,
          182,
          196,
          232,
          214
         ],
         "yaxis": "y"
        },
        {
         "alignmentgroup": "True",
         "bingroup": "x",
         "customdata": [
          "genre"
         ],
         "histfunc": "sum",
         "hoverlabel": {
          "font": {
           "color": "white",
           "family": "Arial, san serif",
           "size": 14
          }
         },
         "hovertemplate": "Genre=Lgbtq<br>month=%{x}<br>sum of contents=%{y}<extra></extra>",
         "legendgroup": "Lgbtq",
         "marker": {
          "color": "#e50914",
          "pattern": {
           "shape": ""
          }
         },
         "name": "Lgbtq",
         "offsetgroup": "Lgbtq",
         "orientation": "v",
         "showlegend": true,
         "textfont": {
          "color": "#212529",
          "family": "Arial, san serif",
          "size": 16
         },
         "type": "histogram",
         "x": [
          "April",
          "August",
          "December",
          "February",
          "January",
          "July",
          "June",
          "March",
          "May",
          "November",
          "October",
          "September"
         ],
         "xaxis": "x",
         "y": [
          3,
          8,
          7,
          9,
          5,
          7,
          8,
          2,
          5,
          9,
          2,
          3
         ],
         "yaxis": "y"
        },
        {
         "alignmentgroup": "True",
         "bingroup": "x",
         "customdata": [
          "genre"
         ],
         "histfunc": "sum",
         "hoverlabel": {
          "font": {
           "color": "white",
           "family": "Arial, san serif",
           "size": 14
          }
         },
         "hovertemplate": "Genre=Music & musical<br>month=%{x}<br>sum of contents=%{y}<extra></extra>",
         "legendgroup": "Music & musical",
         "marker": {
          "color": "#0f79af",
          "pattern": {
           "shape": ""
          }
         },
         "name": "Music & musical",
         "offsetgroup": "Music & musical",
         "orientation": "v",
         "showlegend": true,
         "textfont": {
          "color": "#212529",
          "family": "Arial, san serif",
          "size": 16
         },
         "type": "histogram",
         "x": [
          "April",
          "August",
          "December",
          "February",
          "January",
          "July",
          "June",
          "March",
          "May",
          "November",
          "October",
          "September"
         ],
         "xaxis": "x",
         "y": [
          14,
          23,
          12,
          6,
          18,
          9,
          14,
          30,
          9,
          18,
          27,
          20
         ],
         "yaxis": "y"
        },
        {
         "alignmentgroup": "True",
         "bingroup": "x",
         "customdata": [
          "genre"
         ],
         "histfunc": "sum",
         "hoverlabel": {
          "font": {
           "color": "white",
           "family": "Arial, san serif",
           "size": 14
          }
         },
         "hovertemplate": "Genre=Reality<br>month=%{x}<br>sum of contents=%{y}<extra></extra>",
         "legendgroup": "Reality",
         "marker": {
          "color": "#5287c1",
          "pattern": {
           "shape": ""
          }
         },
         "name": "Reality",
         "offsetgroup": "Reality",
         "orientation": "v",
         "showlegend": true,
         "textfont": {
          "color": "#212529",
          "family": "Arial, san serif",
          "size": 16
         },
         "type": "histogram",
         "x": [
          "April",
          "August",
          "December",
          "February",
          "January",
          "July",
          "June",
          "March",
          "May",
          "November",
          "October",
          "September"
         ],
         "xaxis": "x",
         "y": [
          10,
          17,
          17,
          7,
          12,
          12,
          17,
          6,
          9,
          21,
          8,
          12
         ],
         "yaxis": "y"
        },
        {
         "alignmentgroup": "True",
         "bingroup": "x",
         "customdata": [
          "genre"
         ],
         "histfunc": "sum",
         "hoverlabel": {
          "font": {
           "color": "white",
           "family": "Arial, san serif",
           "size": 14
          }
         },
         "hovertemplate": "Genre=Romance<br>month=%{x}<br>sum of contents=%{y}<extra></extra>",
         "legendgroup": "Romance",
         "marker": {
          "color": "#7b95d0",
          "pattern": {
           "shape": ""
          }
         },
         "name": "Romance",
         "offsetgroup": "Romance",
         "orientation": "v",
         "showlegend": true,
         "textfont": {
          "color": "#212529",
          "family": "Arial, san serif",
          "size": 16
         },
         "type": "histogram",
         "x": [
          "April",
          "August",
          "December",
          "February",
          "January",
          "July",
          "June",
          "March",
          "May",
          "November",
          "October",
          "September"
         ],
         "xaxis": "x",
         "y": [
          57,
          49,
          68,
          38,
          38,
          66,
          50,
          50,
          40,
          38,
          61,
          49
         ],
         "yaxis": "y"
        },
        {
         "alignmentgroup": "True",
         "bingroup": "x",
         "customdata": [
          "genre"
         ],
         "histfunc": "sum",
         "hoverlabel": {
          "font": {
           "color": "white",
           "family": "Arial, san serif",
           "size": 14
          }
         },
         "hovertemplate": "Genre=Sci-fi & fantasy<br>month=%{x}<br>sum of contents=%{y}<extra></extra>",
         "legendgroup": "Sci-fi & fantasy",
         "marker": {
          "color": "#a0a3de",
          "pattern": {
           "shape": ""
          }
         },
         "name": "Sci-fi & fantasy",
         "offsetgroup": "Sci-fi & fantasy",
         "orientation": "v",
         "showlegend": true,
         "textfont": {
          "color": "#212529",
          "family": "Arial, san serif",
          "size": 16
         },
         "type": "histogram",
         "x": [
          "April",
          "August",
          "December",
          "February",
          "January",
          "July",
          "June",
          "March",
          "May",
          "November",
          "October",
          "September"
         ],
         "xaxis": "x",
         "y": [
          24,
          22,
          16,
          10,
          32,
          30,
          19,
          12,
          15,
          20,
          17,
          22
         ],
         "yaxis": "y"
        },
        {
         "alignmentgroup": "True",
         "bingroup": "x",
         "customdata": [
          "genre"
         ],
         "histfunc": "sum",
         "hoverlabel": {
          "font": {
           "color": "white",
           "family": "Arial, san serif",
           "size": 14
          }
         },
         "hovertemplate": "Genre=Science & nature<br>month=%{x}<br>sum of contents=%{y}<extra></extra>",
         "legendgroup": "Science & nature",
         "marker": {
          "color": "#c2b2ea",
          "pattern": {
           "shape": ""
          }
         },
         "name": "Science & nature",
         "offsetgroup": "Science & nature",
         "orientation": "v",
         "showlegend": true,
         "textfont": {
          "color": "#212529",
          "family": "Arial, san serif",
          "size": 16
         },
         "type": "histogram",
         "x": [
          "April",
          "August",
          "December",
          "February",
          "January",
          "July",
          "June",
          "March",
          "May",
          "October",
          "September"
         ],
         "xaxis": "x",
         "y": [
          4,
          6,
          4,
          3,
          3,
          2,
          6,
          10,
          1,
          1,
          5
         ],
         "yaxis": "y"
        },
        {
         "alignmentgroup": "True",
         "bingroup": "x",
         "customdata": [
          "genre"
         ],
         "histfunc": "sum",
         "hoverlabel": {
          "font": {
           "color": "white",
           "family": "Arial, san serif",
           "size": 14
          }
         },
         "hovertemplate": "Genre=Sport<br>month=%{x}<br>sum of contents=%{y}<extra></extra>",
         "legendgroup": "Sport",
         "marker": {
          "color": "#e2c1f5",
          "pattern": {
           "shape": ""
          }
         },
         "name": "Sport",
         "offsetgroup": "Sport",
         "orientation": "v",
         "showlegend": true,
         "textfont": {
          "color": "#212529",
          "family": "Arial, san serif",
          "size": 16
         },
         "type": "histogram",
         "x": [
          "April",
          "August",
          "December",
          "February",
          "January",
          "July",
          "June",
          "March",
          "May",
          "November",
          "October",
          "September"
         ],
         "xaxis": "x",
         "y": [
          10,
          11,
          13,
          5,
          12,
          5,
          10,
          16,
          10,
          8,
          12,
          8
         ],
         "yaxis": "y"
        },
        {
         "alignmentgroup": "True",
         "bingroup": "x",
         "customdata": [
          "genre"
         ],
         "histfunc": "sum",
         "hoverlabel": {
          "font": {
           "color": "white",
           "family": "Arial, san serif",
           "size": 14
          }
         },
         "hovertemplate": "Genre=Stand-up comedy & talk show<br>month=%{x}<br>sum of contents=%{y}<extra></extra>",
         "legendgroup": "Stand-up comedy & talk show",
         "marker": {
          "color": "#ffd2ff",
          "pattern": {
           "shape": ""
          }
         },
         "name": "Stand-up comedy & talk show",
         "offsetgroup": "Stand-up comedy & talk show",
         "orientation": "v",
         "showlegend": true,
         "textfont": {
          "color": "#212529",
          "family": "Arial, san serif",
          "size": 16
         },
         "type": "histogram",
         "x": [
          "April",
          "August",
          "December",
          "February",
          "January",
          "July",
          "June",
          "March",
          "May",
          "November",
          "October",
          "September"
         ],
         "xaxis": "x",
         "y": [
          8,
          13,
          11,
          8,
          9,
          11,
          7,
          11,
          12,
          14,
          9,
          7
         ],
         "yaxis": "y"
        },
        {
         "alignmentgroup": "True",
         "bingroup": "x",
         "customdata": [
          "genre"
         ],
         "histfunc": "sum",
         "hoverlabel": {
          "font": {
           "color": "white",
           "family": "Arial, san serif",
           "size": 14
          }
         },
         "hovertemplate": "Genre=Teen<br>month=%{x}<br>sum of contents=%{y}<extra></extra>",
         "legendgroup": "Teen",
         "marker": {
          "color": "#ffb5ea",
          "pattern": {
           "shape": ""
          }
         },
         "name": "Teen",
         "offsetgroup": "Teen",
         "orientation": "v",
         "showlegend": true,
         "textfont": {
          "color": "#212529",
          "family": "Arial, san serif",
          "size": 16
         },
         "type": "histogram",
         "x": [
          "April",
          "August",
          "December",
          "February",
          "January",
          "July",
          "June",
          "March",
          "May",
          "November",
          "October",
          "September"
         ],
         "xaxis": "x",
         "y": [
          4,
          5,
          5,
          2,
          2,
          5,
          3,
          2,
          1,
          5,
          7,
          3
         ],
         "yaxis": "y"
        },
        {
         "alignmentgroup": "True",
         "bingroup": "x",
         "customdata": [
          "genre"
         ],
         "histfunc": "sum",
         "hoverlabel": {
          "font": {
           "color": "white",
           "family": "Arial, san serif",
           "size": 14
          }
         },
         "hovertemplate": "Genre=Thriller<br>month=%{x}<br>sum of contents=%{y}<extra></extra>",
         "legendgroup": "Thriller",
         "marker": {
          "color": "#ff96cc",
          "pattern": {
           "shape": ""
          }
         },
         "name": "Thriller",
         "offsetgroup": "Thriller",
         "orientation": "v",
         "showlegend": true,
         "textfont": {
          "color": "#212529",
          "family": "Arial, san serif",
          "size": 16
         },
         "type": "histogram",
         "x": [
          "April",
          "August",
          "December",
          "February",
          "January",
          "July",
          "June",
          "March",
          "May",
          "November",
          "October",
          "September"
         ],
         "xaxis": "x",
         "y": [
          40,
          41,
          48,
          35,
          46,
          51,
          45,
          30,
          40,
          34,
          43,
          51
         ],
         "yaxis": "y"
        }
       ],
       "layout": {
        "barmode": "relative",
        "font": {
         "color": "white",
         "family": "Arial, san serif",
         "size": 15
        },
        "hoverlabel": {
         "bordercolor": "#212529"
        },
        "legend": {
         "title": {
          "text": "Genre"
         },
         "tracegroupgap": 0
        },
        "margin": {
         "b": 10,
         "l": 10,
         "r": 10,
         "t": 10
        },
        "paper_bgcolor": "#212529",
        "plot_bgcolor": "rgba(0, 0, 0, 0)",
        "template": {
         "data": {
          "bar": [
           {
            "error_x": {
             "color": "#2a3f5f"
            },
            "error_y": {
             "color": "#2a3f5f"
            },
            "marker": {
             "line": {
              "color": "#E5ECF6",
              "width": 0.5
             },
             "pattern": {
              "fillmode": "overlay",
              "size": 10,
              "solidity": 0.2
             }
            },
            "type": "bar"
           }
          ],
          "barpolar": [
           {
            "marker": {
             "line": {
              "color": "#E5ECF6",
              "width": 0.5
             },
             "pattern": {
              "fillmode": "overlay",
              "size": 10,
              "solidity": 0.2
             }
            },
            "type": "barpolar"
           }
          ],
          "carpet": [
           {
            "aaxis": {
             "endlinecolor": "#2a3f5f",
             "gridcolor": "white",
             "linecolor": "white",
             "minorgridcolor": "white",
             "startlinecolor": "#2a3f5f"
            },
            "baxis": {
             "endlinecolor": "#2a3f5f",
             "gridcolor": "white",
             "linecolor": "white",
             "minorgridcolor": "white",
             "startlinecolor": "#2a3f5f"
            },
            "type": "carpet"
           }
          ],
          "choropleth": [
           {
            "colorbar": {
             "outlinewidth": 0,
             "ticks": ""
            },
            "type": "choropleth"
           }
          ],
          "contour": [
           {
            "colorbar": {
             "outlinewidth": 0,
             "ticks": ""
            },
            "colorscale": [
             [
              0,
              "#0d0887"
             ],
             [
              0.1111111111111111,
              "#46039f"
             ],
             [
              0.2222222222222222,
              "#7201a8"
             ],
             [
              0.3333333333333333,
              "#9c179e"
             ],
             [
              0.4444444444444444,
              "#bd3786"
             ],
             [
              0.5555555555555556,
              "#d8576b"
             ],
             [
              0.6666666666666666,
              "#ed7953"
             ],
             [
              0.7777777777777778,
              "#fb9f3a"
             ],
             [
              0.8888888888888888,
              "#fdca26"
             ],
             [
              1,
              "#f0f921"
             ]
            ],
            "type": "contour"
           }
          ],
          "contourcarpet": [
           {
            "colorbar": {
             "outlinewidth": 0,
             "ticks": ""
            },
            "type": "contourcarpet"
           }
          ],
          "heatmap": [
           {
            "colorbar": {
             "outlinewidth": 0,
             "ticks": ""
            },
            "colorscale": [
             [
              0,
              "#0d0887"
             ],
             [
              0.1111111111111111,
              "#46039f"
             ],
             [
              0.2222222222222222,
              "#7201a8"
             ],
             [
              0.3333333333333333,
              "#9c179e"
             ],
             [
              0.4444444444444444,
              "#bd3786"
             ],
             [
              0.5555555555555556,
              "#d8576b"
             ],
             [
              0.6666666666666666,
              "#ed7953"
             ],
             [
              0.7777777777777778,
              "#fb9f3a"
             ],
             [
              0.8888888888888888,
              "#fdca26"
             ],
             [
              1,
              "#f0f921"
             ]
            ],
            "type": "heatmap"
           }
          ],
          "heatmapgl": [
           {
            "colorbar": {
             "outlinewidth": 0,
             "ticks": ""
            },
            "colorscale": [
             [
              0,
              "#0d0887"
             ],
             [
              0.1111111111111111,
              "#46039f"
             ],
             [
              0.2222222222222222,
              "#7201a8"
             ],
             [
              0.3333333333333333,
              "#9c179e"
             ],
             [
              0.4444444444444444,
              "#bd3786"
             ],
             [
              0.5555555555555556,
              "#d8576b"
             ],
             [
              0.6666666666666666,
              "#ed7953"
             ],
             [
              0.7777777777777778,
              "#fb9f3a"
             ],
             [
              0.8888888888888888,
              "#fdca26"
             ],
             [
              1,
              "#f0f921"
             ]
            ],
            "type": "heatmapgl"
           }
          ],
          "histogram": [
           {
            "marker": {
             "pattern": {
              "fillmode": "overlay",
              "size": 10,
              "solidity": 0.2
             }
            },
            "type": "histogram"
           }
          ],
          "histogram2d": [
           {
            "colorbar": {
             "outlinewidth": 0,
             "ticks": ""
            },
            "colorscale": [
             [
              0,
              "#0d0887"
             ],
             [
              0.1111111111111111,
              "#46039f"
             ],
             [
              0.2222222222222222,
              "#7201a8"
             ],
             [
              0.3333333333333333,
              "#9c179e"
             ],
             [
              0.4444444444444444,
              "#bd3786"
             ],
             [
              0.5555555555555556,
              "#d8576b"
             ],
             [
              0.6666666666666666,
              "#ed7953"
             ],
             [
              0.7777777777777778,
              "#fb9f3a"
             ],
             [
              0.8888888888888888,
              "#fdca26"
             ],
             [
              1,
              "#f0f921"
             ]
            ],
            "type": "histogram2d"
           }
          ],
          "histogram2dcontour": [
           {
            "colorbar": {
             "outlinewidth": 0,
             "ticks": ""
            },
            "colorscale": [
             [
              0,
              "#0d0887"
             ],
             [
              0.1111111111111111,
              "#46039f"
             ],
             [
              0.2222222222222222,
              "#7201a8"
             ],
             [
              0.3333333333333333,
              "#9c179e"
             ],
             [
              0.4444444444444444,
              "#bd3786"
             ],
             [
              0.5555555555555556,
              "#d8576b"
             ],
             [
              0.6666666666666666,
              "#ed7953"
             ],
             [
              0.7777777777777778,
              "#fb9f3a"
             ],
             [
              0.8888888888888888,
              "#fdca26"
             ],
             [
              1,
              "#f0f921"
             ]
            ],
            "type": "histogram2dcontour"
           }
          ],
          "mesh3d": [
           {
            "colorbar": {
             "outlinewidth": 0,
             "ticks": ""
            },
            "type": "mesh3d"
           }
          ],
          "parcoords": [
           {
            "line": {
             "colorbar": {
              "outlinewidth": 0,
              "ticks": ""
             }
            },
            "type": "parcoords"
           }
          ],
          "pie": [
           {
            "automargin": true,
            "type": "pie"
           }
          ],
          "scatter": [
           {
            "marker": {
             "colorbar": {
              "outlinewidth": 0,
              "ticks": ""
             }
            },
            "type": "scatter"
           }
          ],
          "scatter3d": [
           {
            "line": {
             "colorbar": {
              "outlinewidth": 0,
              "ticks": ""
             }
            },
            "marker": {
             "colorbar": {
              "outlinewidth": 0,
              "ticks": ""
             }
            },
            "type": "scatter3d"
           }
          ],
          "scattercarpet": [
           {
            "marker": {
             "colorbar": {
              "outlinewidth": 0,
              "ticks": ""
             }
            },
            "type": "scattercarpet"
           }
          ],
          "scattergeo": [
           {
            "marker": {
             "colorbar": {
              "outlinewidth": 0,
              "ticks": ""
             }
            },
            "type": "scattergeo"
           }
          ],
          "scattergl": [
           {
            "marker": {
             "colorbar": {
              "outlinewidth": 0,
              "ticks": ""
             }
            },
            "type": "scattergl"
           }
          ],
          "scattermapbox": [
           {
            "marker": {
             "colorbar": {
              "outlinewidth": 0,
              "ticks": ""
             }
            },
            "type": "scattermapbox"
           }
          ],
          "scatterpolar": [
           {
            "marker": {
             "colorbar": {
              "outlinewidth": 0,
              "ticks": ""
             }
            },
            "type": "scatterpolar"
           }
          ],
          "scatterpolargl": [
           {
            "marker": {
             "colorbar": {
              "outlinewidth": 0,
              "ticks": ""
             }
            },
            "type": "scatterpolargl"
           }
          ],
          "scatterternary": [
           {
            "marker": {
             "colorbar": {
              "outlinewidth": 0,
              "ticks": ""
             }
            },
            "type": "scatterternary"
           }
          ],
          "surface": [
           {
            "colorbar": {
             "outlinewidth": 0,
             "ticks": ""
            },
            "colorscale": [
             [
              0,
              "#0d0887"
             ],
             [
              0.1111111111111111,
              "#46039f"
             ],
             [
              0.2222222222222222,
              "#7201a8"
             ],
             [
              0.3333333333333333,
              "#9c179e"
             ],
             [
              0.4444444444444444,
              "#bd3786"
             ],
             [
              0.5555555555555556,
              "#d8576b"
             ],
             [
              0.6666666666666666,
              "#ed7953"
             ],
             [
              0.7777777777777778,
              "#fb9f3a"
             ],
             [
              0.8888888888888888,
              "#fdca26"
             ],
             [
              1,
              "#f0f921"
             ]
            ],
            "type": "surface"
           }
          ],
          "table": [
           {
            "cells": {
             "fill": {
              "color": "#EBF0F8"
             },
             "line": {
              "color": "white"
             }
            },
            "header": {
             "fill": {
              "color": "#C8D4E3"
             },
             "line": {
              "color": "white"
             }
            },
            "type": "table"
           }
          ]
         },
         "layout": {
          "annotationdefaults": {
           "arrowcolor": "#2a3f5f",
           "arrowhead": 0,
           "arrowwidth": 1
          },
          "autotypenumbers": "strict",
          "coloraxis": {
           "colorbar": {
            "outlinewidth": 0,
            "ticks": ""
           }
          },
          "colorscale": {
           "diverging": [
            [
             0,
             "#8e0152"
            ],
            [
             0.1,
             "#c51b7d"
            ],
            [
             0.2,
             "#de77ae"
            ],
            [
             0.3,
             "#f1b6da"
            ],
            [
             0.4,
             "#fde0ef"
            ],
            [
             0.5,
             "#f7f7f7"
            ],
            [
             0.6,
             "#e6f5d0"
            ],
            [
             0.7,
             "#b8e186"
            ],
            [
             0.8,
             "#7fbc41"
            ],
            [
             0.9,
             "#4d9221"
            ],
            [
             1,
             "#276419"
            ]
           ],
           "sequential": [
            [
             0,
             "#0d0887"
            ],
            [
             0.1111111111111111,
             "#46039f"
            ],
            [
             0.2222222222222222,
             "#7201a8"
            ],
            [
             0.3333333333333333,
             "#9c179e"
            ],
            [
             0.4444444444444444,
             "#bd3786"
            ],
            [
             0.5555555555555556,
             "#d8576b"
            ],
            [
             0.6666666666666666,
             "#ed7953"
            ],
            [
             0.7777777777777778,
             "#fb9f3a"
            ],
            [
             0.8888888888888888,
             "#fdca26"
            ],
            [
             1,
             "#f0f921"
            ]
           ],
           "sequentialminus": [
            [
             0,
             "#0d0887"
            ],
            [
             0.1111111111111111,
             "#46039f"
            ],
            [
             0.2222222222222222,
             "#7201a8"
            ],
            [
             0.3333333333333333,
             "#9c179e"
            ],
            [
             0.4444444444444444,
             "#bd3786"
            ],
            [
             0.5555555555555556,
             "#d8576b"
            ],
            [
             0.6666666666666666,
             "#ed7953"
            ],
            [
             0.7777777777777778,
             "#fb9f3a"
            ],
            [
             0.8888888888888888,
             "#fdca26"
            ],
            [
             1,
             "#f0f921"
            ]
           ]
          },
          "colorway": [
           "#636efa",
           "#EF553B",
           "#00cc96",
           "#ab63fa",
           "#FFA15A",
           "#19d3f3",
           "#FF6692",
           "#B6E880",
           "#FF97FF",
           "#FECB52"
          ],
          "font": {
           "color": "#2a3f5f"
          },
          "geo": {
           "bgcolor": "white",
           "lakecolor": "white",
           "landcolor": "#E5ECF6",
           "showlakes": true,
           "showland": true,
           "subunitcolor": "white"
          },
          "hoverlabel": {
           "align": "left"
          },
          "hovermode": "closest",
          "mapbox": {
           "style": "light"
          },
          "paper_bgcolor": "white",
          "plot_bgcolor": "#E5ECF6",
          "polar": {
           "angularaxis": {
            "gridcolor": "white",
            "linecolor": "white",
            "ticks": ""
           },
           "bgcolor": "#E5ECF6",
           "radialaxis": {
            "gridcolor": "white",
            "linecolor": "white",
            "ticks": ""
           }
          },
          "scene": {
           "xaxis": {
            "backgroundcolor": "#E5ECF6",
            "gridcolor": "white",
            "gridwidth": 2,
            "linecolor": "white",
            "showbackground": true,
            "ticks": "",
            "zerolinecolor": "white"
           },
           "yaxis": {
            "backgroundcolor": "#E5ECF6",
            "gridcolor": "white",
            "gridwidth": 2,
            "linecolor": "white",
            "showbackground": true,
            "ticks": "",
            "zerolinecolor": "white"
           },
           "zaxis": {
            "backgroundcolor": "#E5ECF6",
            "gridcolor": "white",
            "gridwidth": 2,
            "linecolor": "white",
            "showbackground": true,
            "ticks": "",
            "zerolinecolor": "white"
           }
          },
          "shapedefaults": {
           "line": {
            "color": "#2a3f5f"
           }
          },
          "ternary": {
           "aaxis": {
            "gridcolor": "white",
            "linecolor": "white",
            "ticks": ""
           },
           "baxis": {
            "gridcolor": "white",
            "linecolor": "white",
            "ticks": ""
           },
           "bgcolor": "#E5ECF6",
           "caxis": {
            "gridcolor": "white",
            "linecolor": "white",
            "ticks": ""
           }
          },
          "title": {
           "x": 0.05
          },
          "xaxis": {
           "automargin": true,
           "gridcolor": "white",
           "linecolor": "white",
           "ticks": "",
           "title": {
            "standoff": 15
           },
           "zerolinecolor": "white",
           "zerolinewidth": 2
          },
          "yaxis": {
           "automargin": true,
           "gridcolor": "white",
           "linecolor": "white",
           "ticks": "",
           "title": {
            "standoff": 15
           },
           "zerolinecolor": "white",
           "zerolinewidth": 2
          }
         }
        },
        "xaxis": {
         "anchor": "y",
         "categoryarray": [
          "January",
          "February",
          "March",
          "April",
          "May",
          "June",
          "July",
          "August",
          "September",
          "October",
          "November",
          "December"
         ],
         "categoryorder": "array",
         "domain": [
          0,
          1
         ],
         "showgrid": false,
         "title": {
          "text": "month"
         },
         "visible": false
        },
        "yaxis": {
         "anchor": "x",
         "domain": [
          0,
          1
         ],
         "gridcolor": "rgba(225, 225, 225, .5)",
         "title": {
          "text": "sum of contents"
         }
        }
       }
      }
     },
     "metadata": {},
     "output_type": "display_data"
    },
    {
     "data": {
      "application/vnd.plotly.v1+json": {
       "config": {
        "plotlyServerURL": "https://plot.ly"
       },
       "data": [
        {
         "alignmentgroup": "True",
         "bingroup": "x",
         "customdata": [
          "genre"
         ],
         "histfunc": "sum",
         "hoverlabel": {
          "font": {
           "color": "white",
           "family": "Arial, san serif",
           "size": 14
          }
         },
         "hovertemplate": "Genre=Action & adventure<br>month=%{x}<br>sum of contents=%{y}<extra></extra>",
         "legendgroup": "Action & adventure",
         "marker": {
          "color": "#0f79af",
          "pattern": {
           "shape": ""
          }
         },
         "name": "Action & adventure",
         "offsetgroup": "Action & adventure",
         "orientation": "v",
         "showlegend": true,
         "textfont": {
          "color": "#212529",
          "family": "Arial, san serif",
          "size": 16
         },
         "type": "histogram",
         "x": [
          "April",
          "August",
          "December",
          "February",
          "January",
          "July",
          "June",
          "March",
          "May",
          "November",
          "October",
          "September"
         ],
         "xaxis": "x",
         "y": [
          20,
          34,
          28,
          15,
          21,
          25,
          26,
          29,
          27,
          20,
          26,
          35
         ],
         "yaxis": "y"
        },
        {
         "alignmentgroup": "True",
         "bingroup": "x",
         "customdata": [
          "genre"
         ],
         "histfunc": "sum",
         "hoverlabel": {
          "font": {
           "color": "white",
           "family": "Arial, san serif",
           "size": 14
          }
         },
         "hovertemplate": "Genre=Animation<br>month=%{x}<br>sum of contents=%{y}<extra></extra>",
         "legendgroup": "Animation",
         "marker": {
          "color": "#5287c1",
          "pattern": {
           "shape": ""
          }
         },
         "name": "Animation",
         "offsetgroup": "Animation",
         "orientation": "v",
         "showlegend": true,
         "textfont": {
          "color": "#212529",
          "family": "Arial, san serif",
          "size": 16
         },
         "type": "histogram",
         "x": [
          "April",
          "February",
          "January",
          "July",
          "June",
          "March",
          "May",
          "November",
          "October",
          "September"
         ],
         "xaxis": "x",
         "y": [
          3,
          1,
          4,
          2,
          6,
          2,
          2,
          3,
          3,
          5
         ],
         "yaxis": "y"
        },
        {
         "alignmentgroup": "True",
         "bingroup": "x",
         "customdata": [
          "genre"
         ],
         "histfunc": "sum",
         "hoverlabel": {
          "font": {
           "color": "white",
           "family": "Arial, san serif",
           "size": 14
          }
         },
         "hovertemplate": "Genre=Anime<br>month=%{x}<br>sum of contents=%{y}<extra></extra>",
         "legendgroup": "Anime",
         "marker": {
          "color": "#7b95d0",
          "pattern": {
           "shape": ""
          }
         },
         "name": "Anime",
         "offsetgroup": "Anime",
         "orientation": "v",
         "showlegend": true,
         "textfont": {
          "color": "#212529",
          "family": "Arial, san serif",
          "size": 16
         },
         "type": "histogram",
         "x": [
          "February",
          "October"
         ],
         "xaxis": "x",
         "y": [
          1,
          2
         ],
         "yaxis": "y"
        },
        {
         "alignmentgroup": "True",
         "bingroup": "x",
         "customdata": [
          "genre"
         ],
         "histfunc": "sum",
         "hoverlabel": {
          "font": {
           "color": "white",
           "family": "Arial, san serif",
           "size": 14
          }
         },
         "hovertemplate": "Genre=Art<br>month=%{x}<br>sum of contents=%{y}<extra></extra>",
         "legendgroup": "Art",
         "marker": {
          "color": "#a0a3de",
          "pattern": {
           "shape": ""
          }
         },
         "name": "Art",
         "offsetgroup": "Art",
         "orientation": "v",
         "showlegend": true,
         "textfont": {
          "color": "#212529",
          "family": "Arial, san serif",
          "size": 16
         },
         "type": "histogram",
         "x": [
          "April",
          "August",
          "December",
          "February",
          "January",
          "July",
          "June",
          "March",
          "May",
          "October",
          "September"
         ],
         "xaxis": "x",
         "y": [
          2,
          8,
          5,
          7,
          3,
          8,
          4,
          7,
          2,
          4,
          6
         ],
         "yaxis": "y"
        },
        {
         "alignmentgroup": "True",
         "bingroup": "x",
         "customdata": [
          "genre"
         ],
         "histfunc": "sum",
         "hoverlabel": {
          "font": {
           "color": "white",
           "family": "Arial, san serif",
           "size": 14
          }
         },
         "hovertemplate": "Genre=Children & family<br>month=%{x}<br>sum of contents=%{y}<extra></extra>",
         "legendgroup": "Children & family",
         "marker": {
          "color": "#c2b2ea",
          "pattern": {
           "shape": ""
          }
         },
         "name": "Children & family",
         "offsetgroup": "Children & family",
         "orientation": "v",
         "showlegend": true,
         "textfont": {
          "color": "#212529",
          "family": "Arial, san serif",
          "size": 16
         },
         "type": "histogram",
         "x": [
          "April",
          "August",
          "December",
          "February",
          "January",
          "July",
          "June",
          "March",
          "May",
          "November",
          "October",
          "September"
         ],
         "xaxis": "x",
         "y": [
          10,
          4,
          2,
          4,
          4,
          5,
          9,
          5,
          6,
          6,
          6,
          4
         ],
         "yaxis": "y"
        },
        {
         "alignmentgroup": "True",
         "bingroup": "x",
         "customdata": [
          "genre"
         ],
         "histfunc": "sum",
         "hoverlabel": {
          "font": {
           "color": "white",
           "family": "Arial, san serif",
           "size": 14
          }
         },
         "hovertemplate": "Genre=Commedy<br>month=%{x}<br>sum of contents=%{y}<extra></extra>",
         "legendgroup": "Commedy",
         "marker": {
          "color": "#e2c1f5",
          "pattern": {
           "shape": ""
          }
         },
         "name": "Commedy",
         "offsetgroup": "Commedy",
         "orientation": "v",
         "showlegend": true,
         "textfont": {
          "color": "#212529",
          "family": "Arial, san serif",
          "size": 16
         },
         "type": "histogram",
         "x": [
          "April",
          "August",
          "December",
          "February",
          "January",
          "July",
          "June",
          "March",
          "May",
          "November",
          "October",
          "September"
         ],
         "xaxis": "x",
         "y": [
          18,
          27,
          25,
          28,
          31,
          37,
          28,
          24,
          27,
          23,
          18,
          48
         ],
         "yaxis": "y"
        },
        {
         "alignmentgroup": "True",
         "bingroup": "x",
         "customdata": [
          "genre"
         ],
         "histfunc": "sum",
         "hoverlabel": {
          "font": {
           "color": "white",
           "family": "Arial, san serif",
           "size": 14
          }
         },
         "hovertemplate": "Genre=Crime & mystery<br>month=%{x}<br>sum of contents=%{y}<extra></extra>",
         "legendgroup": "Crime & mystery",
         "marker": {
          "color": "#ffd2ff",
          "pattern": {
           "shape": ""
          }
         },
         "name": "Crime & mystery",
         "offsetgroup": "Crime & mystery",
         "orientation": "v",
         "showlegend": true,
         "textfont": {
          "color": "#212529",
          "family": "Arial, san serif",
          "size": 16
         },
         "type": "histogram",
         "x": [
          "June",
          "October"
         ],
         "xaxis": "x",
         "y": [
          1,
          2
         ],
         "yaxis": "y"
        },
        {
         "alignmentgroup": "True",
         "bingroup": "x",
         "customdata": [
          "genre"
         ],
         "histfunc": "sum",
         "hoverlabel": {
          "font": {
           "color": "white",
           "family": "Arial, san serif",
           "size": 14
          }
         },
         "hovertemplate": "Genre=Documentary<br>month=%{x}<br>sum of contents=%{y}<extra></extra>",
         "legendgroup": "Documentary",
         "marker": {
          "color": "#ffb5ea",
          "pattern": {
           "shape": ""
          }
         },
         "name": "Documentary",
         "offsetgroup": "Documentary",
         "orientation": "v",
         "showlegend": true,
         "textfont": {
          "color": "#212529",
          "family": "Arial, san serif",
          "size": 16
         },
         "type": "histogram",
         "x": [
          "April",
          "August",
          "December",
          "February",
          "January",
          "July",
          "June",
          "March",
          "May",
          "November",
          "October",
          "September"
         ],
         "xaxis": "x",
         "y": [
          3,
          5,
          4,
          8,
          8,
          10,
          8,
          11,
          10,
          12,
          14,
          9
         ],
         "yaxis": "y"
        },
        {
         "alignmentgroup": "True",
         "bingroup": "x",
         "customdata": [
          "genre"
         ],
         "histfunc": "sum",
         "hoverlabel": {
          "font": {
           "color": "white",
           "family": "Arial, san serif",
           "size": 14
          }
         },
         "hovertemplate": "Genre=Drama<br>month=%{x}<br>sum of contents=%{y}<extra></extra>",
         "legendgroup": "Drama",
         "marker": {
          "color": "#ff96cc",
          "pattern": {
           "shape": ""
          }
         },
         "name": "Drama",
         "offsetgroup": "Drama",
         "orientation": "v",
         "showlegend": true,
         "textfont": {
          "color": "#212529",
          "family": "Arial, san serif",
          "size": 16
         },
         "type": "histogram",
         "x": [
          "April",
          "August",
          "December",
          "February",
          "January",
          "July",
          "June",
          "March",
          "May",
          "November",
          "October",
          "September"
         ],
         "xaxis": "x",
         "y": [
          40,
          65,
          46,
          52,
          49,
          48,
          60,
          53,
          62,
          46,
          63,
          62
         ],
         "yaxis": "y"
        },
        {
         "alignmentgroup": "True",
         "bingroup": "x",
         "customdata": [
          "genre"
         ],
         "histfunc": "sum",
         "hoverlabel": {
          "font": {
           "color": "white",
           "family": "Arial, san serif",
           "size": 14
          }
         },
         "hovertemplate": "Genre=Entertainment<br>month=%{x}<br>sum of contents=%{y}<extra></extra>",
         "legendgroup": "Entertainment",
         "marker": {
          "color": "#ff76a7",
          "pattern": {
           "shape": ""
          }
         },
         "name": "Entertainment",
         "offsetgroup": "Entertainment",
         "orientation": "v",
         "showlegend": true,
         "textfont": {
          "color": "#212529",
          "family": "Arial, san serif",
          "size": 16
         },
         "type": "histogram",
         "x": [
          "August",
          "December",
          "February",
          "January",
          "July",
          "June",
          "March",
          "May",
          "October",
          "September"
         ],
         "xaxis": "x",
         "y": [
          4,
          1,
          3,
          1,
          4,
          1,
          3,
          1,
          2,
          2
         ],
         "yaxis": "y"
        },
        {
         "alignmentgroup": "True",
         "bingroup": "x",
         "customdata": [
          "genre"
         ],
         "histfunc": "sum",
         "hoverlabel": {
          "font": {
           "color": "white",
           "family": "Arial, san serif",
           "size": 14
          }
         },
         "hovertemplate": "Genre=Faith & spirituality<br>month=%{x}<br>sum of contents=%{y}<extra></extra>",
         "legendgroup": "Faith & spirituality",
         "marker": {
          "color": "#ff547c",
          "pattern": {
           "shape": ""
          }
         },
         "name": "Faith & spirituality",
         "offsetgroup": "Faith & spirituality",
         "orientation": "v",
         "showlegend": true,
         "textfont": {
          "color": "#212529",
          "family": "Arial, san serif",
          "size": 16
         },
         "type": "histogram",
         "x": [
          "April",
          "August",
          "June",
          "November",
          "October",
          "September"
         ],
         "xaxis": "x",
         "y": [
          1,
          1,
          1,
          1,
          4,
          3
         ],
         "yaxis": "y"
        },
        {
         "alignmentgroup": "True",
         "bingroup": "x",
         "customdata": [
          "genre"
         ],
         "histfunc": "sum",
         "hoverlabel": {
          "font": {
           "color": "white",
           "family": "Arial, san serif",
           "size": 14
          }
         },
         "hovertemplate": "Genre=Historical<br>month=%{x}<br>sum of contents=%{y}<extra></extra>",
         "legendgroup": "Historical",
         "marker": {
          "color": "#f9314c",
          "pattern": {
           "shape": ""
          }
         },
         "name": "Historical",
         "offsetgroup": "Historical",
         "orientation": "v",
         "showlegend": true,
         "textfont": {
          "color": "#212529",
          "family": "Arial, san serif",
          "size": 16
         },
         "type": "histogram",
         "x": [
          "April",
          "December",
          "February",
          "January",
          "July",
          "June",
          "March",
          "October",
          "September"
         ],
         "xaxis": "x",
         "y": [
          1,
          2,
          1,
          3,
          3,
          2,
          2,
          2,
          1
         ],
         "yaxis": "y"
        },
        {
         "alignmentgroup": "True",
         "bingroup": "x",
         "customdata": [
          "genre"
         ],
         "histfunc": "sum",
         "hoverlabel": {
          "font": {
           "color": "white",
           "family": "Arial, san serif",
           "size": 14
          }
         },
         "hovertemplate": "Genre=Horror<br>month=%{x}<br>sum of contents=%{y}<extra></extra>",
         "legendgroup": "Horror",
         "marker": {
          "color": "#e50914",
          "pattern": {
           "shape": ""
          }
         },
         "name": "Horror",
         "offsetgroup": "Horror",
         "orientation": "v",
         "showlegend": true,
         "textfont": {
          "color": "#212529",
          "family": "Arial, san serif",
          "size": 16
         },
         "type": "histogram",
         "x": [
          "April",
          "August",
          "December",
          "February",
          "January",
          "July",
          "June",
          "March",
          "May",
          "November",
          "October",
          "September"
         ],
         "xaxis": "x",
         "y": [
          7,
          12,
          6,
          8,
          6,
          9,
          9,
          8,
          12,
          8,
          20,
          9
         ],
         "yaxis": "y"
        },
        {
         "alignmentgroup": "True",
         "bingroup": "x",
         "customdata": [
          "genre"
         ],
         "histfunc": "sum",
         "hoverlabel": {
          "font": {
           "color": "white",
           "family": "Arial, san serif",
           "size": 14
          }
         },
         "hovertemplate": "Genre=Independent<br>month=%{x}<br>sum of contents=%{y}<extra></extra>",
         "legendgroup": "Independent",
         "marker": {
          "color": "#0f79af",
          "pattern": {
           "shape": ""
          }
         },
         "name": "Independent",
         "offsetgroup": "Independent",
         "orientation": "v",
         "showlegend": true,
         "textfont": {
          "color": "#212529",
          "family": "Arial, san serif",
          "size": 16
         },
         "type": "histogram",
         "x": [
          "April",
          "August",
          "December",
          "February",
          "January",
          "July",
          "June",
          "March",
          "May",
          "November",
          "October",
          "September"
         ],
         "xaxis": "x",
         "y": [
          3,
          10,
          4,
          6,
          2,
          5,
          3,
          6,
          8,
          4,
          4,
          6
         ],
         "yaxis": "y"
        },
        {
         "alignmentgroup": "True",
         "bingroup": "x",
         "customdata": [
          "genre"
         ],
         "histfunc": "sum",
         "hoverlabel": {
          "font": {
           "color": "white",
           "family": "Arial, san serif",
           "size": 14
          }
         },
         "hovertemplate": "Genre=International<br>month=%{x}<br>sum of contents=%{y}<extra></extra>",
         "legendgroup": "International",
         "marker": {
          "color": "#5287c1",
          "pattern": {
           "shape": ""
          }
         },
         "name": "International",
         "offsetgroup": "International",
         "orientation": "v",
         "showlegend": true,
         "textfont": {
          "color": "#212529",
          "family": "Arial, san serif",
          "size": 16
         },
         "type": "histogram",
         "x": [
          "April",
          "August",
          "December",
          "February",
          "January",
          "July",
          "June",
          "March",
          "May",
          "November",
          "October",
          "September"
         ],
         "xaxis": "x",
         "y": [
          12,
          13,
          14,
          9,
          10,
          13,
          13,
          9,
          16,
          12,
          12,
          11
         ],
         "yaxis": "y"
        },
        {
         "alignmentgroup": "True",
         "bingroup": "x",
         "customdata": [
          "genre"
         ],
         "histfunc": "sum",
         "hoverlabel": {
          "font": {
           "color": "white",
           "family": "Arial, san serif",
           "size": 14
          }
         },
         "hovertemplate": "Genre=Lgbtq<br>month=%{x}<br>sum of contents=%{y}<extra></extra>",
         "legendgroup": "Lgbtq",
         "marker": {
          "color": "#7b95d0",
          "pattern": {
           "shape": ""
          }
         },
         "name": "Lgbtq",
         "offsetgroup": "Lgbtq",
         "orientation": "v",
         "showlegend": true,
         "textfont": {
          "color": "#212529",
          "family": "Arial, san serif",
          "size": 16
         },
         "type": "histogram",
         "x": [
          "August",
          "December",
          "February",
          "January",
          "July",
          "June",
          "May",
          "November",
          "September"
         ],
         "xaxis": "x",
         "y": [
          1,
          1,
          3,
          1,
          1,
          4,
          3,
          1,
          3
         ],
         "yaxis": "y"
        },
        {
         "alignmentgroup": "True",
         "bingroup": "x",
         "customdata": [
          "genre"
         ],
         "histfunc": "sum",
         "hoverlabel": {
          "font": {
           "color": "white",
           "family": "Arial, san serif",
           "size": 14
          }
         },
         "hovertemplate": "Genre=Military and war<br>month=%{x}<br>sum of contents=%{y}<extra></extra>",
         "legendgroup": "Military and war",
         "marker": {
          "color": "#a0a3de",
          "pattern": {
           "shape": ""
          }
         },
         "name": "Military and war",
         "offsetgroup": "Military and war",
         "orientation": "v",
         "showlegend": true,
         "textfont": {
          "color": "#212529",
          "family": "Arial, san serif",
          "size": 16
         },
         "type": "histogram",
         "x": [
          "December",
          "January",
          "June",
          "March",
          "May",
          "November",
          "October"
         ],
         "xaxis": "x",
         "y": [
          1,
          1,
          1,
          1,
          1,
          2,
          1
         ],
         "yaxis": "y"
        },
        {
         "alignmentgroup": "True",
         "bingroup": "x",
         "customdata": [
          "genre"
         ],
         "histfunc": "sum",
         "hoverlabel": {
          "font": {
           "color": "white",
           "family": "Arial, san serif",
           "size": 14
          }
         },
         "hovertemplate": "Genre=Music & musical<br>month=%{x}<br>sum of contents=%{y}<extra></extra>",
         "legendgroup": "Music & musical",
         "marker": {
          "color": "#c2b2ea",
          "pattern": {
           "shape": ""
          }
         },
         "name": "Music & musical",
         "offsetgroup": "Music & musical",
         "orientation": "v",
         "showlegend": true,
         "textfont": {
          "color": "#212529",
          "family": "Arial, san serif",
          "size": 16
         },
         "type": "histogram",
         "x": [
          "August",
          "July",
          "March",
          "May",
          "September"
         ],
         "xaxis": "x",
         "y": [
          1,
          1,
          1,
          1,
          1
         ],
         "yaxis": "y"
        },
        {
         "alignmentgroup": "True",
         "bingroup": "x",
         "customdata": [
          "genre"
         ],
         "histfunc": "sum",
         "hoverlabel": {
          "font": {
           "color": "white",
           "family": "Arial, san serif",
           "size": 14
          }
         },
         "hovertemplate": "Genre=Reality<br>month=%{x}<br>sum of contents=%{y}<extra></extra>",
         "legendgroup": "Reality",
         "marker": {
          "color": "#e2c1f5",
          "pattern": {
           "shape": ""
          }
         },
         "name": "Reality",
         "offsetgroup": "Reality",
         "orientation": "v",
         "showlegend": true,
         "textfont": {
          "color": "#212529",
          "family": "Arial, san serif",
          "size": 16
         },
         "type": "histogram",
         "x": [
          "April",
          "August",
          "December",
          "February",
          "January",
          "July",
          "June",
          "March",
          "May",
          "November",
          "October",
          "September"
         ],
         "xaxis": "x",
         "y": [
          1,
          3,
          3,
          1,
          5,
          4,
          8,
          4,
          5,
          4,
          5,
          4
         ],
         "yaxis": "y"
        },
        {
         "alignmentgroup": "True",
         "bingroup": "x",
         "customdata": [
          "genre"
         ],
         "histfunc": "sum",
         "hoverlabel": {
          "font": {
           "color": "white",
           "family": "Arial, san serif",
           "size": 14
          }
         },
         "hovertemplate": "Genre=Romance<br>month=%{x}<br>sum of contents=%{y}<extra></extra>",
         "legendgroup": "Romance",
         "marker": {
          "color": "#ffd2ff",
          "pattern": {
           "shape": ""
          }
         },
         "name": "Romance",
         "offsetgroup": "Romance",
         "orientation": "v",
         "showlegend": true,
         "textfont": {
          "color": "#212529",
          "family": "Arial, san serif",
          "size": 16
         },
         "type": "histogram",
         "x": [
          "April",
          "August",
          "December",
          "February",
          "January",
          "July",
          "June",
          "March",
          "May",
          "November",
          "October",
          "September"
         ],
         "xaxis": "x",
         "y": [
          9,
          7,
          14,
          15,
          8,
          10,
          8,
          9,
          7,
          10,
          9,
          10
         ],
         "yaxis": "y"
        },
        {
         "alignmentgroup": "True",
         "bingroup": "x",
         "customdata": [
          "genre"
         ],
         "histfunc": "sum",
         "hoverlabel": {
          "font": {
           "color": "white",
           "family": "Arial, san serif",
           "size": 14
          }
         },
         "hovertemplate": "Genre=Sci-fi & fantasy<br>month=%{x}<br>sum of contents=%{y}<extra></extra>",
         "legendgroup": "Sci-fi & fantasy",
         "marker": {
          "color": "#ffb5ea",
          "pattern": {
           "shape": ""
          }
         },
         "name": "Sci-fi & fantasy",
         "offsetgroup": "Sci-fi & fantasy",
         "orientation": "v",
         "showlegend": true,
         "textfont": {
          "color": "#212529",
          "family": "Arial, san serif",
          "size": 16
         },
         "type": "histogram",
         "x": [
          "April",
          "August",
          "December",
          "February",
          "January",
          "July",
          "June",
          "March",
          "May",
          "November",
          "October",
          "September"
         ],
         "xaxis": "x",
         "y": [
          7,
          9,
          4,
          4,
          5,
          7,
          7,
          9,
          3,
          9,
          9,
          6
         ],
         "yaxis": "y"
        },
        {
         "alignmentgroup": "True",
         "bingroup": "x",
         "customdata": [
          "genre"
         ],
         "histfunc": "sum",
         "hoverlabel": {
          "font": {
           "color": "white",
           "family": "Arial, san serif",
           "size": 14
          }
         },
         "hovertemplate": "Genre=Sport<br>month=%{x}<br>sum of contents=%{y}<extra></extra>",
         "legendgroup": "Sport",
         "marker": {
          "color": "#ff96cc",
          "pattern": {
           "shape": ""
          }
         },
         "name": "Sport",
         "offsetgroup": "Sport",
         "orientation": "v",
         "showlegend": true,
         "textfont": {
          "color": "#212529",
          "family": "Arial, san serif",
          "size": 16
         },
         "type": "histogram",
         "x": [
          "August",
          "July",
          "June",
          "March",
          "May",
          "November",
          "October",
          "September"
         ],
         "xaxis": "x",
         "y": [
          2,
          5,
          2,
          1,
          3,
          2,
          6,
          3
         ],
         "yaxis": "y"
        },
        {
         "alignmentgroup": "True",
         "bingroup": "x",
         "customdata": [
          "genre"
         ],
         "histfunc": "sum",
         "hoverlabel": {
          "font": {
           "color": "white",
           "family": "Arial, san serif",
           "size": 14
          }
         },
         "hovertemplate": "Genre=Stand-up comedy & talk show<br>month=%{x}<br>sum of contents=%{y}<extra></extra>",
         "legendgroup": "Stand-up comedy & talk show",
         "marker": {
          "color": "#ff76a7",
          "pattern": {
           "shape": ""
          }
         },
         "name": "Stand-up comedy & talk show",
         "offsetgroup": "Stand-up comedy & talk show",
         "orientation": "v",
         "showlegend": true,
         "textfont": {
          "color": "#212529",
          "family": "Arial, san serif",
          "size": 16
         },
         "type": "histogram",
         "x": [
          "January",
          "September"
         ],
         "xaxis": "x",
         "y": [
          1,
          2
         ],
         "yaxis": "y"
        },
        {
         "alignmentgroup": "True",
         "bingroup": "x",
         "customdata": [
          "genre"
         ],
         "histfunc": "sum",
         "hoverlabel": {
          "font": {
           "color": "white",
           "family": "Arial, san serif",
           "size": 14
          }
         },
         "hovertemplate": "Genre=Teen<br>month=%{x}<br>sum of contents=%{y}<extra></extra>",
         "legendgroup": "Teen",
         "marker": {
          "color": "#ff547c",
          "pattern": {
           "shape": ""
          }
         },
         "name": "Teen",
         "offsetgroup": "Teen",
         "orientation": "v",
         "showlegend": true,
         "textfont": {
          "color": "#212529",
          "family": "Arial, san serif",
          "size": 16
         },
         "type": "histogram",
         "x": [
          "April",
          "December",
          "February",
          "January",
          "July",
          "June",
          "March",
          "May",
          "October",
          "September"
         ],
         "xaxis": "x",
         "y": [
          1,
          2,
          4,
          1,
          1,
          3,
          3,
          2,
          4,
          1
         ],
         "yaxis": "y"
        },
        {
         "alignmentgroup": "True",
         "bingroup": "x",
         "customdata": [
          "genre"
         ],
         "histfunc": "sum",
         "hoverlabel": {
          "font": {
           "color": "white",
           "family": "Arial, san serif",
           "size": 14
          }
         },
         "hovertemplate": "Genre=Thriller<br>month=%{x}<br>sum of contents=%{y}<extra></extra>",
         "legendgroup": "Thriller",
         "marker": {
          "color": "#f9314c",
          "pattern": {
           "shape": ""
          }
         },
         "name": "Thriller",
         "offsetgroup": "Thriller",
         "orientation": "v",
         "showlegend": true,
         "textfont": {
          "color": "#212529",
          "family": "Arial, san serif",
          "size": 16
         },
         "type": "histogram",
         "x": [
          "April",
          "August",
          "December",
          "February",
          "January",
          "July",
          "June",
          "March",
          "May",
          "November",
          "October",
          "September"
         ],
         "xaxis": "x",
         "y": [
          24,
          32,
          21,
          19,
          19,
          16,
          26,
          20,
          25,
          16,
          18,
          31
         ],
         "yaxis": "y"
        },
        {
         "alignmentgroup": "True",
         "bingroup": "x",
         "customdata": [
          "genre"
         ],
         "histfunc": "sum",
         "hoverlabel": {
          "font": {
           "color": "white",
           "family": "Arial, san serif",
           "size": 14
          }
         },
         "hovertemplate": "Genre=Unscripted<br>month=%{x}<br>sum of contents=%{y}<extra></extra>",
         "legendgroup": "Unscripted",
         "marker": {
          "color": "#e50914",
          "pattern": {
           "shape": ""
          }
         },
         "name": "Unscripted",
         "offsetgroup": "Unscripted",
         "orientation": "v",
         "showlegend": true,
         "textfont": {
          "color": "#212529",
          "family": "Arial, san serif",
          "size": 16
         },
         "type": "histogram",
         "x": [
          "April",
          "August",
          "December",
          "February",
          "January",
          "July",
          "June",
          "March",
          "May",
          "November",
          "October",
          "September"
         ],
         "xaxis": "x",
         "y": [
          2,
          5,
          1,
          3,
          5,
          4,
          5,
          3,
          3,
          4,
          1,
          1
         ],
         "yaxis": "y"
        },
        {
         "alignmentgroup": "True",
         "bingroup": "x",
         "customdata": [
          "genre"
         ],
         "histfunc": "sum",
         "hoverlabel": {
          "font": {
           "color": "white",
           "family": "Arial, san serif",
           "size": 14
          }
         },
         "hovertemplate": "Genre=Western<br>month=%{x}<br>sum of contents=%{y}<extra></extra>",
         "legendgroup": "Western",
         "marker": {
          "color": "#0f79af",
          "pattern": {
           "shape": ""
          }
         },
         "name": "Western",
         "offsetgroup": "Western",
         "orientation": "v",
         "showlegend": true,
         "textfont": {
          "color": "#212529",
          "family": "Arial, san serif",
          "size": 16
         },
         "type": "histogram",
         "x": [
          "April",
          "December",
          "February",
          "June",
          "May",
          "November",
          "September"
         ],
         "xaxis": "x",
         "y": [
          1,
          1,
          1,
          1,
          2,
          1,
          3
         ],
         "yaxis": "y"
        }
       ],
       "layout": {
        "barmode": "relative",
        "font": {
         "color": "white",
         "family": "Arial, san serif",
         "size": 15
        },
        "hoverlabel": {
         "bordercolor": "#212529"
        },
        "legend": {
         "title": {
          "text": "Genre"
         },
         "tracegroupgap": 0
        },
        "margin": {
         "b": 10,
         "l": 10,
         "r": 10,
         "t": 10
        },
        "paper_bgcolor": "#212529",
        "plot_bgcolor": "rgba(0, 0, 0, 0)",
        "template": {
         "data": {
          "bar": [
           {
            "error_x": {
             "color": "#2a3f5f"
            },
            "error_y": {
             "color": "#2a3f5f"
            },
            "marker": {
             "line": {
              "color": "#E5ECF6",
              "width": 0.5
             },
             "pattern": {
              "fillmode": "overlay",
              "size": 10,
              "solidity": 0.2
             }
            },
            "type": "bar"
           }
          ],
          "barpolar": [
           {
            "marker": {
             "line": {
              "color": "#E5ECF6",
              "width": 0.5
             },
             "pattern": {
              "fillmode": "overlay",
              "size": 10,
              "solidity": 0.2
             }
            },
            "type": "barpolar"
           }
          ],
          "carpet": [
           {
            "aaxis": {
             "endlinecolor": "#2a3f5f",
             "gridcolor": "white",
             "linecolor": "white",
             "minorgridcolor": "white",
             "startlinecolor": "#2a3f5f"
            },
            "baxis": {
             "endlinecolor": "#2a3f5f",
             "gridcolor": "white",
             "linecolor": "white",
             "minorgridcolor": "white",
             "startlinecolor": "#2a3f5f"
            },
            "type": "carpet"
           }
          ],
          "choropleth": [
           {
            "colorbar": {
             "outlinewidth": 0,
             "ticks": ""
            },
            "type": "choropleth"
           }
          ],
          "contour": [
           {
            "colorbar": {
             "outlinewidth": 0,
             "ticks": ""
            },
            "colorscale": [
             [
              0,
              "#0d0887"
             ],
             [
              0.1111111111111111,
              "#46039f"
             ],
             [
              0.2222222222222222,
              "#7201a8"
             ],
             [
              0.3333333333333333,
              "#9c179e"
             ],
             [
              0.4444444444444444,
              "#bd3786"
             ],
             [
              0.5555555555555556,
              "#d8576b"
             ],
             [
              0.6666666666666666,
              "#ed7953"
             ],
             [
              0.7777777777777778,
              "#fb9f3a"
             ],
             [
              0.8888888888888888,
              "#fdca26"
             ],
             [
              1,
              "#f0f921"
             ]
            ],
            "type": "contour"
           }
          ],
          "contourcarpet": [
           {
            "colorbar": {
             "outlinewidth": 0,
             "ticks": ""
            },
            "type": "contourcarpet"
           }
          ],
          "heatmap": [
           {
            "colorbar": {
             "outlinewidth": 0,
             "ticks": ""
            },
            "colorscale": [
             [
              0,
              "#0d0887"
             ],
             [
              0.1111111111111111,
              "#46039f"
             ],
             [
              0.2222222222222222,
              "#7201a8"
             ],
             [
              0.3333333333333333,
              "#9c179e"
             ],
             [
              0.4444444444444444,
              "#bd3786"
             ],
             [
              0.5555555555555556,
              "#d8576b"
             ],
             [
              0.6666666666666666,
              "#ed7953"
             ],
             [
              0.7777777777777778,
              "#fb9f3a"
             ],
             [
              0.8888888888888888,
              "#fdca26"
             ],
             [
              1,
              "#f0f921"
             ]
            ],
            "type": "heatmap"
           }
          ],
          "heatmapgl": [
           {
            "colorbar": {
             "outlinewidth": 0,
             "ticks": ""
            },
            "colorscale": [
             [
              0,
              "#0d0887"
             ],
             [
              0.1111111111111111,
              "#46039f"
             ],
             [
              0.2222222222222222,
              "#7201a8"
             ],
             [
              0.3333333333333333,
              "#9c179e"
             ],
             [
              0.4444444444444444,
              "#bd3786"
             ],
             [
              0.5555555555555556,
              "#d8576b"
             ],
             [
              0.6666666666666666,
              "#ed7953"
             ],
             [
              0.7777777777777778,
              "#fb9f3a"
             ],
             [
              0.8888888888888888,
              "#fdca26"
             ],
             [
              1,
              "#f0f921"
             ]
            ],
            "type": "heatmapgl"
           }
          ],
          "histogram": [
           {
            "marker": {
             "pattern": {
              "fillmode": "overlay",
              "size": 10,
              "solidity": 0.2
             }
            },
            "type": "histogram"
           }
          ],
          "histogram2d": [
           {
            "colorbar": {
             "outlinewidth": 0,
             "ticks": ""
            },
            "colorscale": [
             [
              0,
              "#0d0887"
             ],
             [
              0.1111111111111111,
              "#46039f"
             ],
             [
              0.2222222222222222,
              "#7201a8"
             ],
             [
              0.3333333333333333,
              "#9c179e"
             ],
             [
              0.4444444444444444,
              "#bd3786"
             ],
             [
              0.5555555555555556,
              "#d8576b"
             ],
             [
              0.6666666666666666,
              "#ed7953"
             ],
             [
              0.7777777777777778,
              "#fb9f3a"
             ],
             [
              0.8888888888888888,
              "#fdca26"
             ],
             [
              1,
              "#f0f921"
             ]
            ],
            "type": "histogram2d"
           }
          ],
          "histogram2dcontour": [
           {
            "colorbar": {
             "outlinewidth": 0,
             "ticks": ""
            },
            "colorscale": [
             [
              0,
              "#0d0887"
             ],
             [
              0.1111111111111111,
              "#46039f"
             ],
             [
              0.2222222222222222,
              "#7201a8"
             ],
             [
              0.3333333333333333,
              "#9c179e"
             ],
             [
              0.4444444444444444,
              "#bd3786"
             ],
             [
              0.5555555555555556,
              "#d8576b"
             ],
             [
              0.6666666666666666,
              "#ed7953"
             ],
             [
              0.7777777777777778,
              "#fb9f3a"
             ],
             [
              0.8888888888888888,
              "#fdca26"
             ],
             [
              1,
              "#f0f921"
             ]
            ],
            "type": "histogram2dcontour"
           }
          ],
          "mesh3d": [
           {
            "colorbar": {
             "outlinewidth": 0,
             "ticks": ""
            },
            "type": "mesh3d"
           }
          ],
          "parcoords": [
           {
            "line": {
             "colorbar": {
              "outlinewidth": 0,
              "ticks": ""
             }
            },
            "type": "parcoords"
           }
          ],
          "pie": [
           {
            "automargin": true,
            "type": "pie"
           }
          ],
          "scatter": [
           {
            "marker": {
             "colorbar": {
              "outlinewidth": 0,
              "ticks": ""
             }
            },
            "type": "scatter"
           }
          ],
          "scatter3d": [
           {
            "line": {
             "colorbar": {
              "outlinewidth": 0,
              "ticks": ""
             }
            },
            "marker": {
             "colorbar": {
              "outlinewidth": 0,
              "ticks": ""
             }
            },
            "type": "scatter3d"
           }
          ],
          "scattercarpet": [
           {
            "marker": {
             "colorbar": {
              "outlinewidth": 0,
              "ticks": ""
             }
            },
            "type": "scattercarpet"
           }
          ],
          "scattergeo": [
           {
            "marker": {
             "colorbar": {
              "outlinewidth": 0,
              "ticks": ""
             }
            },
            "type": "scattergeo"
           }
          ],
          "scattergl": [
           {
            "marker": {
             "colorbar": {
              "outlinewidth": 0,
              "ticks": ""
             }
            },
            "type": "scattergl"
           }
          ],
          "scattermapbox": [
           {
            "marker": {
             "colorbar": {
              "outlinewidth": 0,
              "ticks": ""
             }
            },
            "type": "scattermapbox"
           }
          ],
          "scatterpolar": [
           {
            "marker": {
             "colorbar": {
              "outlinewidth": 0,
              "ticks": ""
             }
            },
            "type": "scatterpolar"
           }
          ],
          "scatterpolargl": [
           {
            "marker": {
             "colorbar": {
              "outlinewidth": 0,
              "ticks": ""
             }
            },
            "type": "scatterpolargl"
           }
          ],
          "scatterternary": [
           {
            "marker": {
             "colorbar": {
              "outlinewidth": 0,
              "ticks": ""
             }
            },
            "type": "scatterternary"
           }
          ],
          "surface": [
           {
            "colorbar": {
             "outlinewidth": 0,
             "ticks": ""
            },
            "colorscale": [
             [
              0,
              "#0d0887"
             ],
             [
              0.1111111111111111,
              "#46039f"
             ],
             [
              0.2222222222222222,
              "#7201a8"
             ],
             [
              0.3333333333333333,
              "#9c179e"
             ],
             [
              0.4444444444444444,
              "#bd3786"
             ],
             [
              0.5555555555555556,
              "#d8576b"
             ],
             [
              0.6666666666666666,
              "#ed7953"
             ],
             [
              0.7777777777777778,
              "#fb9f3a"
             ],
             [
              0.8888888888888888,
              "#fdca26"
             ],
             [
              1,
              "#f0f921"
             ]
            ],
            "type": "surface"
           }
          ],
          "table": [
           {
            "cells": {
             "fill": {
              "color": "#EBF0F8"
             },
             "line": {
              "color": "white"
             }
            },
            "header": {
             "fill": {
              "color": "#C8D4E3"
             },
             "line": {
              "color": "white"
             }
            },
            "type": "table"
           }
          ]
         },
         "layout": {
          "annotationdefaults": {
           "arrowcolor": "#2a3f5f",
           "arrowhead": 0,
           "arrowwidth": 1
          },
          "autotypenumbers": "strict",
          "coloraxis": {
           "colorbar": {
            "outlinewidth": 0,
            "ticks": ""
           }
          },
          "colorscale": {
           "diverging": [
            [
             0,
             "#8e0152"
            ],
            [
             0.1,
             "#c51b7d"
            ],
            [
             0.2,
             "#de77ae"
            ],
            [
             0.3,
             "#f1b6da"
            ],
            [
             0.4,
             "#fde0ef"
            ],
            [
             0.5,
             "#f7f7f7"
            ],
            [
             0.6,
             "#e6f5d0"
            ],
            [
             0.7,
             "#b8e186"
            ],
            [
             0.8,
             "#7fbc41"
            ],
            [
             0.9,
             "#4d9221"
            ],
            [
             1,
             "#276419"
            ]
           ],
           "sequential": [
            [
             0,
             "#0d0887"
            ],
            [
             0.1111111111111111,
             "#46039f"
            ],
            [
             0.2222222222222222,
             "#7201a8"
            ],
            [
             0.3333333333333333,
             "#9c179e"
            ],
            [
             0.4444444444444444,
             "#bd3786"
            ],
            [
             0.5555555555555556,
             "#d8576b"
            ],
            [
             0.6666666666666666,
             "#ed7953"
            ],
            [
             0.7777777777777778,
             "#fb9f3a"
            ],
            [
             0.8888888888888888,
             "#fdca26"
            ],
            [
             1,
             "#f0f921"
            ]
           ],
           "sequentialminus": [
            [
             0,
             "#0d0887"
            ],
            [
             0.1111111111111111,
             "#46039f"
            ],
            [
             0.2222222222222222,
             "#7201a8"
            ],
            [
             0.3333333333333333,
             "#9c179e"
            ],
            [
             0.4444444444444444,
             "#bd3786"
            ],
            [
             0.5555555555555556,
             "#d8576b"
            ],
            [
             0.6666666666666666,
             "#ed7953"
            ],
            [
             0.7777777777777778,
             "#fb9f3a"
            ],
            [
             0.8888888888888888,
             "#fdca26"
            ],
            [
             1,
             "#f0f921"
            ]
           ]
          },
          "colorway": [
           "#636efa",
           "#EF553B",
           "#00cc96",
           "#ab63fa",
           "#FFA15A",
           "#19d3f3",
           "#FF6692",
           "#B6E880",
           "#FF97FF",
           "#FECB52"
          ],
          "font": {
           "color": "#2a3f5f"
          },
          "geo": {
           "bgcolor": "white",
           "lakecolor": "white",
           "landcolor": "#E5ECF6",
           "showlakes": true,
           "showland": true,
           "subunitcolor": "white"
          },
          "hoverlabel": {
           "align": "left"
          },
          "hovermode": "closest",
          "mapbox": {
           "style": "light"
          },
          "paper_bgcolor": "white",
          "plot_bgcolor": "#E5ECF6",
          "polar": {
           "angularaxis": {
            "gridcolor": "white",
            "linecolor": "white",
            "ticks": ""
           },
           "bgcolor": "#E5ECF6",
           "radialaxis": {
            "gridcolor": "white",
            "linecolor": "white",
            "ticks": ""
           }
          },
          "scene": {
           "xaxis": {
            "backgroundcolor": "#E5ECF6",
            "gridcolor": "white",
            "gridwidth": 2,
            "linecolor": "white",
            "showbackground": true,
            "ticks": "",
            "zerolinecolor": "white"
           },
           "yaxis": {
            "backgroundcolor": "#E5ECF6",
            "gridcolor": "white",
            "gridwidth": 2,
            "linecolor": "white",
            "showbackground": true,
            "ticks": "",
            "zerolinecolor": "white"
           },
           "zaxis": {
            "backgroundcolor": "#E5ECF6",
            "gridcolor": "white",
            "gridwidth": 2,
            "linecolor": "white",
            "showbackground": true,
            "ticks": "",
            "zerolinecolor": "white"
           }
          },
          "shapedefaults": {
           "line": {
            "color": "#2a3f5f"
           }
          },
          "ternary": {
           "aaxis": {
            "gridcolor": "white",
            "linecolor": "white",
            "ticks": ""
           },
           "baxis": {
            "gridcolor": "white",
            "linecolor": "white",
            "ticks": ""
           },
           "bgcolor": "#E5ECF6",
           "caxis": {
            "gridcolor": "white",
            "linecolor": "white",
            "ticks": ""
           }
          },
          "title": {
           "x": 0.05
          },
          "xaxis": {
           "automargin": true,
           "gridcolor": "white",
           "linecolor": "white",
           "ticks": "",
           "title": {
            "standoff": 15
           },
           "zerolinecolor": "white",
           "zerolinewidth": 2
          },
          "yaxis": {
           "automargin": true,
           "gridcolor": "white",
           "linecolor": "white",
           "ticks": "",
           "title": {
            "standoff": 15
           },
           "zerolinecolor": "white",
           "zerolinewidth": 2
          }
         }
        },
        "xaxis": {
         "anchor": "y",
         "categoryarray": [
          "January",
          "February",
          "March",
          "April",
          "May",
          "June",
          "July",
          "August",
          "September",
          "October",
          "November",
          "December"
         ],
         "categoryorder": "array",
         "domain": [
          0,
          1
         ],
         "showgrid": false,
         "title": {
          "text": "month"
         },
         "visible": false
        },
        "yaxis": {
         "anchor": "x",
         "domain": [
          0,
          1
         ],
         "gridcolor": "rgba(225, 225, 225, .5)",
         "title": {
          "text": "sum of contents"
         }
        }
       }
      }
     },
     "metadata": {},
     "output_type": "display_data"
    }
   ],
   "source": [
    "month_order = ['January',\n",
    " 'February',\n",
    " 'March',\n",
    " 'April',\n",
    " 'May',\n",
    " 'June',\n",
    " 'July',\n",
    " 'August',\n",
    " 'September',\n",
    " 'October',\n",
    " 'November',\n",
    " 'December']\n",
    "\n",
    "dfn = data.copy()\n",
    "dfn['date_added_netflix'].replace('no_data', np.nan, inplace  = True)\n",
    "dfn = dfn.dropna()\n",
    "dfn['date_added_netflix'] = pd.to_datetime(dfn['date_added_netflix'])\n",
    "dfn['month_added_netflix']=dfn['date_added_netflix'].dt.month\n",
    "dfn['month_added_netflix']=dfn['date_added_netflix'].dt.month_name()\n",
    "dfn['month_name_added'] = pd.Categorical(dfn['month_added_netflix'], categories=month_order, ordered=True)\n",
    "dfn['genre'] = dfn['listed_in'].apply(lambda x :  x.replace(' ,',',').replace(', ',',').split(',')) \n",
    "\n",
    "dfa = data.copy()\n",
    "dfa['date_added_amazon'].replace('no_data', np.nan, inplace  = True)\n",
    "dfa = dfa.dropna()\n",
    "dfa['date_added_amazon'] = pd.to_datetime(dfa['date_added_amazon'])\n",
    "dfa['month_added_amazon']=dfa['date_added_amazon'].dt.month\n",
    "dfa['month_added_amazon']=dfa['date_added_amazon'].dt.month_name()\n",
    "dfa['month_name_added'] = pd.Categorical(dfa['month_added_amazon'], categories=month_order, ordered=True)\n",
    "dfa['genre'] = dfa['listed_in'].apply(lambda x :  x.replace(' ,',',').replace(', ',',').split(',')) \n",
    "def genre_month(df, file, prov):\n",
    "    d = pd.DataFrame()\n",
    "    j = 0\n",
    "    for i, x in df['genre'].iteritems():\n",
    "        for gen in x:\n",
    "            d.loc[j, 'genre'] = gen\n",
    "            mh = df._get_value(i, 'month_name_added')\n",
    "            d.loc[j, 'month'] = mh\n",
    "            d.loc[j, 'count'] = 1\n",
    "            j+=1\n",
    "    d = d[['month', 'genre']].groupby('genre')['month'].value_counts().unstack()\n",
    "    d = d.stack().reset_index()\n",
    "    d.columns = ['genre','month','count']\n",
    "\n",
    "    customdata = np.stack(d['genre'])\n",
    "\n",
    "    fig = px.histogram(d, x=\"month\", y=\"count\", color='genre', color_discrete_sequence=colors, category_orders=dict(month=month_order), labels={'genre':'Genre', 'count':'contents'})\n",
    "\n",
    "    fig.update_traces( textfont=dict(family=\"Arial, san serif\",size=16,color=\"#212529\"),hoverlabel=dict(font_size=14,font_family=\"Arial, san serif\", font_color='white'))\n",
    "\n",
    "    fig.update_traces(customdata=['genre'], selector=dict(type='histogram'))\n",
    "\n",
    "    fig.update_layout(paper_bgcolor=\"#212529\", xaxis_visible=False, plot_bgcolor ='rgba(0, 0, 0, 0)', hoverlabel_bordercolor='#212529',margin=margin, yaxis_gridcolor ='rgba(225, 225, 225, .5)', font_color=\"white\", font_family=\"Arial, san serif\", font_size=15, xaxis_showgrid=False)\n",
    "\n",
    "    fig.write_html('visualization/'+ file)\n",
    "    fig.show()\n",
    "\n",
    "genre_month(dfn, 'eleven.html', 'Netflix')\n",
    "genre_month(dfa, 'twelve.html', 'Amazon')"
   ]
  },
  {
   "cell_type": "markdown",
   "metadata": {},
   "source": [
    "### Genre correlation\n",
    "\n",
    "In order to understand how genres combine together for type and streaming services we built a heatmap.\n",
    "\n",
    "**Conclusion:** It is interesting to notice that for Netflix Independant Movies tend to be Dramas, while Indipendent contents tend to be Documentary in Amazon. In Netflix Documentary is associated with Science and Nature.\n",
    "In Amazon Lgbtq movies tend to listed in Arts and rearly Horror are also Drama, same for Thriller and Classic movies.\n",
    "Different when we talk about tv shows in Amazon where Thriller is mostly associated with Horror.\n",
    "Amazon tend to relate Entertainment and Arts contents of both type together.    \n",
    "Another observation is that Internatinal Movies are rarely in the Children's genre for Netflix, while Amazon destremute more omogenly international contents. "
   ]
  },
  {
   "cell_type": "code",
   "execution_count": null,
   "metadata": {},
   "outputs": [],
   "source": [
    "df = data.copy()\n",
    "df['listed_in'].replace('no_data', np.nan, inplace  = True)\n",
    "df = df.dropna(subset=['listed_in'])\n",
    "df_tv = df[df[\"type\"] == \"TV Show\"]\n",
    "df_movies = df[df[\"type\"] == \"Movie\"]\n",
    "\n",
    "df_amazon = df.query(\"amazon == 1.0\")\n",
    "df_tv_a = df_amazon[df_amazon[\"type\"] == \"TV Show\"]\n",
    "df_movies_a = df_amazon[df_amazon[\"type\"] == \"Movie\"]\n",
    "\n",
    "df_netflix = df.query(\"netflix == 1.0\")\n",
    "df_tv_n = df_netflix[df_netflix[\"type\"] == \"TV Show\"]\n",
    "df_movies_n = df_netflix[df_netflix[\"type\"] == \"Movie\"]\n",
    "def genre_heatmap(df, file, prov):\n",
    "    df['genre'] = df['listed_in'].apply(lambda x :  x.replace(' ,',',').replace(', ',',').split(',')) \n",
    "    test = df['genre']\n",
    "    mlb = MultiLabelBinarizer()\n",
    "    res = pd.DataFrame(mlb.fit_transform(test), columns=mlb.classes_, index=test.index)\n",
    "    corr = res.corr()\n",
    "    mask = np.zeros_like(corr, dtype = bool) \n",
    "    mask[np.triu_indices_from(mask)] = True\n",
    "    corr1 = corr.mask(mask)\n",
    "    X = corr1.columns.values\n",
    "    corr = corr1.values.tolist()\n",
    "    N = len(corr)\n",
    "    hovertext = [[f'corr({X[i]}, {X[j]})= {corr[i][j]:.2f}' if i>j else '' for j in range(N)] for i in range(N)]\n",
    "    title = prov + ' genres' \n",
    "    heat = go.Heatmap(z=corr,\n",
    "                  x=X,\n",
    "                  y=X,\n",
    "                  xgap=1, ygap=1,\n",
    "                  colorscale=colors,\n",
    "                  colorbar_thickness=20,\n",
    "                  colorbar_ticklen=3,\n",
    "                  hovertext =hovertext,\n",
    "                  hoverinfo='text'\n",
    "                   )  \n",
    "    layout = go.Layout(\n",
    "                title_text=title, title_x=0.5,\n",
    "                   autosize=False,\n",
    "                    width=600,\n",
    "                    height=600,\n",
    "                   xaxis_showgrid=False,\n",
    "                   yaxis_showgrid=False,\n",
    "                   yaxis_autorange='reversed')\n",
    "    fig=go.Figure(data=[heat], layout=layout)\n",
    "\n",
    "    fig.update_traces( textfont=dict(family=\"Arial, san serif\",size=16,color=\"#212529\"),hoverlabel=dict(font_size=14,font_family=\"Arial, san serif\", font_color='white'))\n",
    "\n",
    "    fig.update_layout(paper_bgcolor=\"#212529\", plot_bgcolor = 'rgba(0, 0, 0, 0)', hoverlabel_bordercolor='#212529',xaxis_title=\"Contents divided by genre on \"+ prov, margin=margin_title,\n",
    "    yaxis_title=\"Contents amount\",\n",
    "    font=dict(\n",
    "        family=\"Arial, san serif\",\n",
    "        size=12,\n",
    "        color=\"white\"\n",
    "    ) ) \n",
    "    fig.write_html('visualization/'+ file)     \n",
    "    fig.show() \n",
    "\n",
    "genre_heatmap(df, 'therteen.html', 'Full dataset')\n",
    "genre_heatmap(df_tv, 'fourteen.html', 'Full tv shows')\n",
    "genre_heatmap(df_movies, 'fifteen.html', 'Full movies')\n",
    "\n",
    "genre_heatmap(df_amazon, 'sixteen.html', 'Full Amazon')\n",
    "genre_heatmap(df_tv_a, 'seventeen.html', 'Amazon tv shows')\n",
    "genre_heatmap(df_movies_a, 'eighteen.html', 'Amazon movies')\n",
    "\n",
    "genre_heatmap(df_netflix, 'nineteen.html', 'Full Netflix')\n",
    "genre_heatmap(df_tv_n, 'twenty.html', 'Netflix tv shows')\n",
    "genre_heatmap(df_movies_n, 'twentyone.html', 'Netflix movies')"
   ]
  },
  {
   "cell_type": "markdown",
   "metadata": {},
   "source": [
    "### Cinema culture representation\n",
    "\n",
    "To understand how old are movie present in sreaming services, and which country cinema culture is more represented in our dataset we plot one scatter plot for Amazon and one from Netflix.\n",
    "\n",
    "**Conclusion:** The average gap between when content is released, and when it is then added varies by country. In Spain and Nigeria, Netflix appears to be dominated by newer movies whereas Hong Kong & India have an older average movie. Amazon on the contrary has Newer Chinese movies and old France movies. The span between the year of addeition and movie resease year is very close.\n",
    "The gap for TV shows seems more regular than for movies. This is likely due to subsequent series being released year-on-year. Spain seems to have the newest content overall on Netflix while India tv shows are the newest on Amazon."
   ]
  },
  {
   "cell_type": "code",
   "execution_count": null,
   "metadata": {},
   "outputs": [],
   "source": [
    "df = data.copy()\n",
    "df['country'].replace('no_data', np.nan, inplace  = True)\n",
    "df = df.dropna()\n",
    "df['first_country'] = df['country'].apply(lambda x: x.split(\",\")[0])\n",
    "df['first_country'].replace('United States', 'USA', inplace=True)\n",
    "df['first_country'].replace('United Kingdom', 'UK',inplace=True)\n",
    "df['first_country'].replace('South Korea', 'S. Korea',inplace=True)\n",
    "df['count'] = 1\n",
    "\n",
    "dfn = df.copy()\n",
    "dfn['date_added_netflix'].replace('no_data', np.nan, inplace  = True)\n",
    "dfn = dfn.dropna()\n",
    "dfn['date_added_netflix'] = pd.to_datetime(dfn['date_added_netflix'])\n",
    "dfn['year_added'] = dfn['date_added_netflix'].dt.year\n",
    "df_movies_n = dfn[dfn[\"type\"] == \"Movie\"]\n",
    "df_series_n = dfn[dfn[\"type\"] == \"TV Show\"]\n",
    "\n",
    "dfa = df.copy()\n",
    "dfa['date_added_amazon'].replace('no_data', np.nan, inplace  = True)\n",
    "dfa = dfa.dropna()\n",
    "dfa['date_added_amazon'] = pd.to_datetime(dfa['date_added_amazon'])\n",
    "dfa['year_added'] = dfa['date_added_amazon'].dt.year\n",
    "df_movies_a = dfa[dfa[\"type\"] == \"Movie\"]\n",
    "df_series_a = dfa[dfa[\"type\"] == \"TV Show\"]\n",
    "\n",
    "def scatter_repr(data, file, prov):\n",
    "    df = data.groupby('first_country')[['first_country','count']].sum().sort_values(by='count',ascending=False).reset_index()[:10]\n",
    "    df = df['first_country']\n",
    "    df_loli = data.loc[data['first_country'].isin(df)]\n",
    "    loli = df_loli.groupby('first_country')['release_year','year_added'].mean().round()\n",
    "    ordered_df = loli.sort_values(by='release_year')\n",
    "    my_range=[0,len(loli.index)+1]\n",
    "    min = ordered_df['release_year'].to_list()[0]-3\n",
    "    label_pos = [2022] * len(ordered_df+1)\n",
    "    title = 'Average '+ prov + ' oldness'\n",
    "    fig = go.Figure()\n",
    "\n",
    "    fig.add_trace(go.Scatter(\n",
    "            x=ordered_df['release_year'].to_list(),\n",
    "            y=[i for i in range(1, 11)],\n",
    "            marker=dict(color=\"#ff547c\", size=12),\n",
    "            mode=\"markers\",\n",
    "            name=\"Release year\",\n",
    "    ))\n",
    "\n",
    "    fig.add_trace(go.Scatter(\n",
    "            x=ordered_df['year_added'].to_list(),\n",
    "            y=[i for i in range(1, 11)],\n",
    "            marker=dict(color=\"#a0a3de\", size=12),\n",
    "            mode=\"markers\",\n",
    "            name=\"Added year\",\n",
    "    ))\n",
    "\n",
    "    fig.update_layout(title_text=title, title_x=0.5,\n",
    "        yaxis_range=my_range, xaxis_range=[min,2025],\n",
    "        xaxis_showgrid=False,\n",
    "        yaxis_showgrid=False,\n",
    "        yaxis_showticklabels=False,\n",
    "        paper_bgcolor=\"#212529\", plot_bgcolor = 'rgba(0, 0, 0, 0)', hoverlabel_bordercolor='#212529',\n",
    "        margin=margin_title,\n",
    "        font=dict(\n",
    "            family=\"Arial, san serif\",\n",
    "            size=12,\n",
    "            color=\"white\"\n",
    "        ) \n",
    "    )\n",
    "\n",
    "    fig.update_traces(marker=dict(line=dict(width=2)),textfont=dict(family=\"Arial, san serif\",size=16,color=\"#212529\"),hoverlabel=dict(font_size=14,font_family=\"Arial, san serif\", font_color='white'))\n",
    "\n",
    "    y_pos = 1\n",
    "    for i, x in ordered_df.iterrows():\n",
    "\n",
    "        fig.add_shape(type='line',\n",
    "                        x0=ordered_df['release_year'][i],\n",
    "                        y0=y_pos,\n",
    "                        x1=ordered_df['year_added'][i],\n",
    "                        y1=y_pos,\n",
    "                        line=dict(color='white'),\n",
    "                        xref='x',\n",
    "                        yref='y',\n",
    "                        layer='below'\n",
    "        )\n",
    "        y_pos += 1\n",
    "    \n",
    "    fig.add_trace(go.Scatter(\n",
    "        x= label_pos,\n",
    "        y= [i for i in range(1, 11)],\n",
    "        text= ordered_df.index.values.tolist(),\n",
    "        mode=\"text\",\n",
    "        hoverinfo='skip',\n",
    "        showlegend=False,\n",
    "        textposition=\"top right\",\n",
    "            textfont=dict(\n",
    "                family=\"Arial, sans serif\",\n",
    "                size=12,\n",
    "                color=\"white\"\n",
    "            )\n",
    "    ))\n",
    "\n",
    "    fig.write_html('visualization/'+ file) \n",
    "    fig.show()\n",
    "    \n",
    "scatter_repr(df_movies_n,'twentytwo.html', 'Netflix movies')\n",
    "scatter_repr(df_series_n, 'twentythree.html', 'Netflix series')\n",
    "scatter_repr(df_movies_a, 'twentyfour.html', 'Amazon movies')\n",
    "scatter_repr(df_series_a, 'twentyfive.html', 'Amazon series')"
   ]
  },
  {
   "cell_type": "markdown",
   "metadata": {},
   "source": [
    "# How streaming service influence cinema industry?\n",
    "\n",
    "To understand how the streaming service affects the film industry, we need to consider several factors including distribution, whether it is theirs or that they rent content from other distributors; the type of title they distribute and whether it has ever nominated in or won an award, finaly the opinion of critics and the public.\n",
    "\n",
    "### Distributor presence over time on streaming services\n",
    "To understand how streaming services affect the film industry, let's look at the amount of content owned by distributors since 2008, the year in which many streaming services were born; to 2021. So, let's draw a histogram that has the quantity of titles on y and the year of release on y.\n",
    "\n",
    "**Conclusion:** On streaming platforms, most movies are distributed by the platform itself or by other streaming services such as Hulu. Dominant in the chart is Netflix followed by Amazon. Among the traditional theatrical distributor only Warner Bros seems to be competitive."
   ]
  },
  {
   "cell_type": "code",
   "execution_count": 356,
   "metadata": {},
   "outputs": [
    {
     "data": {
      "application/vnd.plotly.v1+json": {
       "config": {
        "plotlyServerURL": "https://plot.ly"
       },
       "data": [
        {
         "alignmentgroup": "True",
         "bingroup": "x",
         "histfunc": "sum",
         "hoverlabel": {
          "font": {
           "color": "white",
           "family": "Arial, san serif",
           "size": 14
          }
         },
         "hovertemplate": "distributor=Netflix<br>year=%{x}<br>sum of val=%{y}<extra></extra>",
         "legendgroup": "Netflix",
         "marker": {
          "color": "#0f79af",
          "line": {
           "width": 2
          },
          "pattern": {
           "shape": ""
          }
         },
         "name": "Netflix",
         "offsetgroup": "Netflix",
         "orientation": "v",
         "showlegend": true,
         "textfont": {
          "color": "#212529",
          "family": "Arial, san serif",
          "size": 16
         },
         "type": "histogram",
         "x": [
          2020,
          2018,
          2019,
          2016,
          2017,
          2021,
          2015,
          2014,
          2010,
          2013,
          2008,
          2012,
          2009,
          2011
         ],
         "xaxis": "x",
         "y": [
          309,
          263,
          231,
          229,
          227,
          184,
          131,
          91,
          57,
          55,
          55,
          54,
          50,
          49
         ],
         "yaxis": "y"
        },
        {
         "alignmentgroup": "True",
         "bingroup": "x",
         "histfunc": "sum",
         "hoverlabel": {
          "font": {
           "color": "white",
           "family": "Arial, san serif",
           "size": 14
          }
         },
         "hovertemplate": "distributor=Amazon Prime<br>year=%{x}<br>sum of val=%{y}<extra></extra>",
         "legendgroup": "Amazon Prime",
         "marker": {
          "color": "#5287c1",
          "line": {
           "width": 2
          },
          "pattern": {
           "shape": ""
          }
         },
         "name": "Amazon Prime",
         "offsetgroup": "Amazon Prime",
         "orientation": "v",
         "showlegend": true,
         "textfont": {
          "color": "#212529",
          "family": "Arial, san serif",
          "size": 16
         },
         "type": "histogram",
         "x": [
          2021,
          2020,
          2019,
          2018,
          2017,
          2016
         ],
         "xaxis": "x",
         "y": [
          25,
          24,
          17,
          16,
          13,
          7
         ],
         "yaxis": "y"
        },
        {
         "alignmentgroup": "True",
         "bingroup": "x",
         "histfunc": "sum",
         "hoverlabel": {
          "font": {
           "color": "white",
           "family": "Arial, san serif",
           "size": 14
          }
         },
         "hovertemplate": "distributor=Hulu<br>year=%{x}<br>sum of val=%{y}<extra></extra>",
         "legendgroup": "Hulu",
         "marker": {
          "color": "#7b95d0",
          "line": {
           "width": 2
          },
          "pattern": {
           "shape": ""
          }
         },
         "name": "Hulu",
         "offsetgroup": "Hulu",
         "orientation": "v",
         "showlegend": true,
         "textfont": {
          "color": "#212529",
          "family": "Arial, san serif",
          "size": 16
         },
         "type": "histogram",
         "x": [
          2017,
          2018,
          2015,
          2016,
          2014
         ],
         "xaxis": "x",
         "y": [
          11,
          8,
          6,
          6,
          6
         ],
         "yaxis": "y"
        },
        {
         "alignmentgroup": "True",
         "bingroup": "x",
         "histfunc": "sum",
         "hoverlabel": {
          "font": {
           "color": "white",
           "family": "Arial, san serif",
           "size": 14
          }
         },
         "hovertemplate": "distributor=Warner Bros.<br>year=%{x}<br>sum of val=%{y}<extra></extra>",
         "legendgroup": "Warner Bros.",
         "marker": {
          "color": "#a0a3de",
          "line": {
           "width": 2
          },
          "pattern": {
           "shape": ""
          }
         },
         "name": "Warner Bros.",
         "offsetgroup": "Warner Bros.",
         "orientation": "v",
         "showlegend": true,
         "textfont": {
          "color": "#212529",
          "family": "Arial, san serif",
          "size": 16
         },
         "type": "histogram",
         "x": [
          2021,
          2018
         ],
         "xaxis": "x",
         "y": [
          10,
          9
         ],
         "yaxis": "y"
        },
        {
         "alignmentgroup": "True",
         "bingroup": "x",
         "histfunc": "sum",
         "hoverlabel": {
          "font": {
           "color": "white",
           "family": "Arial, san serif",
           "size": 14
          }
         },
         "hovertemplate": "distributor=A24<br>year=%{x}<br>sum of val=%{y}<extra></extra>",
         "legendgroup": "A24",
         "marker": {
          "color": "#c2b2ea",
          "line": {
           "width": 2
          },
          "pattern": {
           "shape": ""
          }
         },
         "name": "A24",
         "offsetgroup": "A24",
         "orientation": "v",
         "showlegend": true,
         "textfont": {
          "color": "#212529",
          "family": "Arial, san serif",
          "size": 16
         },
         "type": "histogram",
         "x": [
          2015
         ],
         "xaxis": "x",
         "y": [
          9
         ],
         "yaxis": "y"
        },
        {
         "alignmentgroup": "True",
         "bingroup": "x",
         "histfunc": "sum",
         "hoverlabel": {
          "font": {
           "color": "white",
           "family": "Arial, san serif",
           "size": 14
          }
         },
         "hovertemplate": "distributor=BBC One<br>year=%{x}<br>sum of val=%{y}<extra></extra>",
         "legendgroup": "BBC One",
         "marker": {
          "color": "#e2c1f5",
          "line": {
           "width": 2
          },
          "pattern": {
           "shape": ""
          }
         },
         "name": "BBC One",
         "offsetgroup": "BBC One",
         "orientation": "v",
         "showlegend": true,
         "textfont": {
          "color": "#212529",
          "family": "Arial, san serif",
          "size": 16
         },
         "type": "histogram",
         "x": [
          2016
         ],
         "xaxis": "x",
         "y": [
          8
         ],
         "yaxis": "y"
        },
        {
         "alignmentgroup": "True",
         "bingroup": "x",
         "histfunc": "sum",
         "hoverlabel": {
          "font": {
           "color": "white",
           "family": "Arial, san serif",
           "size": 14
          }
         },
         "hovertemplate": "distributor=Star Cinema<br>year=%{x}<br>sum of val=%{y}<extra></extra>",
         "legendgroup": "Star Cinema",
         "marker": {
          "color": "#ffd2ff",
          "line": {
           "width": 2
          },
          "pattern": {
           "shape": ""
          }
         },
         "name": "Star Cinema",
         "offsetgroup": "Star Cinema",
         "orientation": "v",
         "showlegend": true,
         "textfont": {
          "color": "#212529",
          "family": "Arial, san serif",
          "size": 16
         },
         "type": "histogram",
         "x": [
          2015,
          2016
         ],
         "xaxis": "x",
         "y": [
          8,
          7
         ],
         "yaxis": "y"
        },
        {
         "alignmentgroup": "True",
         "bingroup": "x",
         "histfunc": "sum",
         "hoverlabel": {
          "font": {
           "color": "white",
           "family": "Arial, san serif",
           "size": 14
          }
         },
         "hovertemplate": "distributor=UTV Motion Pictures<br>year=%{x}<br>sum of val=%{y}<extra></extra>",
         "legendgroup": "UTV Motion Pictures",
         "marker": {
          "color": "#ffb5ea",
          "line": {
           "width": 2
          },
          "pattern": {
           "shape": ""
          }
         },
         "name": "UTV Motion Pictures",
         "offsetgroup": "UTV Motion Pictures",
         "orientation": "v",
         "showlegend": true,
         "textfont": {
          "color": "#212529",
          "family": "Arial, san serif",
          "size": 16
         },
         "type": "histogram",
         "x": [
          2012,
          2008,
          2014
         ],
         "xaxis": "x",
         "y": [
          8,
          6,
          5
         ],
         "yaxis": "y"
        },
        {
         "alignmentgroup": "True",
         "bingroup": "x",
         "histfunc": "sum",
         "hoverlabel": {
          "font": {
           "color": "white",
           "family": "Arial, san serif",
           "size": 14
          }
         },
         "hovertemplate": "distributor=Vudu<br>year=%{x}<br>sum of val=%{y}<extra></extra>",
         "legendgroup": "Vudu",
         "marker": {
          "color": "#ff96cc",
          "line": {
           "width": 2
          },
          "pattern": {
           "shape": ""
          }
         },
         "name": "Vudu",
         "offsetgroup": "Vudu",
         "orientation": "v",
         "showlegend": true,
         "textfont": {
          "color": "#212529",
          "family": "Arial, san serif",
          "size": 16
         },
         "type": "histogram",
         "x": [
          2016
         ],
         "xaxis": "x",
         "y": [
          8
         ],
         "yaxis": "y"
        },
        {
         "alignmentgroup": "True",
         "bingroup": "x",
         "histfunc": "sum",
         "hoverlabel": {
          "font": {
           "color": "white",
           "family": "Arial, san serif",
           "size": 14
          }
         },
         "hovertemplate": "distributor=Channel 4<br>year=%{x}<br>sum of val=%{y}<extra></extra>",
         "legendgroup": "Channel 4",
         "marker": {
          "color": "#ff76a7",
          "line": {
           "width": 2
          },
          "pattern": {
           "shape": ""
          }
         },
         "name": "Channel 4",
         "offsetgroup": "Channel 4",
         "orientation": "v",
         "showlegend": true,
         "textfont": {
          "color": "#212529",
          "family": "Arial, san serif",
          "size": 16
         },
         "type": "histogram",
         "x": [
          2019
         ],
         "xaxis": "x",
         "y": [
          7
         ],
         "yaxis": "y"
        },
        {
         "alignmentgroup": "True",
         "bingroup": "x",
         "histfunc": "sum",
         "hoverlabel": {
          "font": {
           "color": "white",
           "family": "Arial, san serif",
           "size": 14
          }
         },
         "hovertemplate": "distributor=Paramount Pictures<br>year=%{x}<br>sum of val=%{y}<extra></extra>",
         "legendgroup": "Paramount Pictures",
         "marker": {
          "color": "#ff547c",
          "line": {
           "width": 2
          },
          "pattern": {
           "shape": ""
          }
         },
         "name": "Paramount Pictures",
         "offsetgroup": "Paramount Pictures",
         "orientation": "v",
         "showlegend": true,
         "textfont": {
          "color": "#212529",
          "family": "Arial, san serif",
          "size": 16
         },
         "type": "histogram",
         "x": [
          2021,
          2017,
          2011
         ],
         "xaxis": "x",
         "y": [
          7,
          6,
          6
         ],
         "yaxis": "y"
        },
        {
         "alignmentgroup": "True",
         "bingroup": "x",
         "histfunc": "sum",
         "hoverlabel": {
          "font": {
           "color": "white",
           "family": "Arial, san serif",
           "size": 14
          }
         },
         "hovertemplate": "distributor=Universal Pictures<br>year=%{x}<br>sum of val=%{y}<extra></extra>",
         "legendgroup": "Universal Pictures",
         "marker": {
          "color": "#f9314c",
          "line": {
           "width": 2
          },
          "pattern": {
           "shape": ""
          }
         },
         "name": "Universal Pictures",
         "offsetgroup": "Universal Pictures",
         "orientation": "v",
         "showlegend": true,
         "textfont": {
          "color": "#212529",
          "family": "Arial, san serif",
          "size": 16
         },
         "type": "histogram",
         "x": [
          2018,
          2013,
          2017
         ],
         "xaxis": "x",
         "y": [
          7,
          6,
          6
         ],
         "yaxis": "y"
        },
        {
         "alignmentgroup": "True",
         "bingroup": "x",
         "histfunc": "sum",
         "hoverlabel": {
          "font": {
           "color": "white",
           "family": "Arial, san serif",
           "size": 14
          }
         },
         "hovertemplate": "distributor=InterCom<br>year=%{x}<br>sum of val=%{y}<extra></extra>",
         "legendgroup": "InterCom",
         "marker": {
          "color": "#e50914",
          "line": {
           "width": 2
          },
          "pattern": {
           "shape": ""
          }
         },
         "name": "InterCom",
         "offsetgroup": "InterCom",
         "orientation": "v",
         "showlegend": true,
         "textfont": {
          "color": "#212529",
          "family": "Arial, san serif",
          "size": 16
         },
         "type": "histogram",
         "x": [
          2009,
          2010
         ],
         "xaxis": "x",
         "y": [
          7,
          6
         ],
         "yaxis": "y"
        },
        {
         "alignmentgroup": "True",
         "bingroup": "x",
         "histfunc": "sum",
         "hoverlabel": {
          "font": {
           "color": "white",
           "family": "Arial, san serif",
           "size": 14
          }
         },
         "hovertemplate": "distributor=IFC Films<br>year=%{x}<br>sum of val=%{y}<extra></extra>",
         "legendgroup": "IFC Films",
         "marker": {
          "color": "#0f79af",
          "line": {
           "width": 2
          },
          "pattern": {
           "shape": ""
          }
         },
         "name": "IFC Films",
         "offsetgroup": "IFC Films",
         "orientation": "v",
         "showlegend": true,
         "textfont": {
          "color": "#212529",
          "family": "Arial, san serif",
          "size": 16
         },
         "type": "histogram",
         "x": [
          2018
         ],
         "xaxis": "x",
         "y": [
          6
         ],
         "yaxis": "y"
        },
        {
         "alignmentgroup": "True",
         "bingroup": "x",
         "histfunc": "sum",
         "hoverlabel": {
          "font": {
           "color": "white",
           "family": "Arial, san serif",
           "size": 14
          }
         },
         "hovertemplate": "distributor=American Broadcasting Company<br>year=%{x}<br>sum of val=%{y}<extra></extra>",
         "legendgroup": "American Broadcasting Company",
         "marker": {
          "color": "#5287c1",
          "line": {
           "width": 2
          },
          "pattern": {
           "shape": ""
          }
         },
         "name": "American Broadcasting Company",
         "offsetgroup": "American Broadcasting Company",
         "orientation": "v",
         "showlegend": true,
         "textfont": {
          "color": "#212529",
          "family": "Arial, san serif",
          "size": 16
         },
         "type": "histogram",
         "x": [
          2018
         ],
         "xaxis": "x",
         "y": [
          6
         ],
         "yaxis": "y"
        },
        {
         "alignmentgroup": "True",
         "bingroup": "x",
         "histfunc": "sum",
         "hoverlabel": {
          "font": {
           "color": "white",
           "family": "Arial, san serif",
           "size": 14
          }
         },
         "hovertemplate": "distributor=CBS<br>year=%{x}<br>sum of val=%{y}<extra></extra>",
         "legendgroup": "CBS",
         "marker": {
          "color": "#7b95d0",
          "line": {
           "width": 2
          },
          "pattern": {
           "shape": ""
          }
         },
         "name": "CBS",
         "offsetgroup": "CBS",
         "orientation": "v",
         "showlegend": true,
         "textfont": {
          "color": "#212529",
          "family": "Arial, san serif",
          "size": 16
         },
         "type": "histogram",
         "x": [
          2019
         ],
         "xaxis": "x",
         "y": [
          6
         ],
         "yaxis": "y"
        },
        {
         "alignmentgroup": "True",
         "bingroup": "x",
         "histfunc": "sum",
         "hoverlabel": {
          "font": {
           "color": "white",
           "family": "Arial, san serif",
           "size": 14
          }
         },
         "hovertemplate": "distributor=Lionsgate<br>year=%{x}<br>sum of val=%{y}<extra></extra>",
         "legendgroup": "Lionsgate",
         "marker": {
          "color": "#a0a3de",
          "line": {
           "width": 2
          },
          "pattern": {
           "shape": ""
          }
         },
         "name": "Lionsgate",
         "offsetgroup": "Lionsgate",
         "orientation": "v",
         "showlegend": true,
         "textfont": {
          "color": "#212529",
          "family": "Arial, san serif",
          "size": 16
         },
         "type": "histogram",
         "x": [
          2010
         ],
         "xaxis": "x",
         "y": [
          6
         ],
         "yaxis": "y"
        },
        {
         "alignmentgroup": "True",
         "bingroup": "x",
         "histfunc": "sum",
         "hoverlabel": {
          "font": {
           "color": "white",
           "family": "Arial, san serif",
           "size": 14
          }
         },
         "hovertemplate": "distributor=NBC<br>year=%{x}<br>sum of val=%{y}<extra></extra>",
         "legendgroup": "NBC",
         "marker": {
          "color": "#c2b2ea",
          "line": {
           "width": 2
          },
          "pattern": {
           "shape": ""
          }
         },
         "name": "NBC",
         "offsetgroup": "NBC",
         "orientation": "v",
         "showlegend": true,
         "textfont": {
          "color": "#212529",
          "family": "Arial, san serif",
          "size": 16
         },
         "type": "histogram",
         "x": [
          2018
         ],
         "xaxis": "x",
         "y": [
          6
         ],
         "yaxis": "y"
        },
        {
         "alignmentgroup": "True",
         "bingroup": "x",
         "histfunc": "sum",
         "hoverlabel": {
          "font": {
           "color": "white",
           "family": "Arial, san serif",
           "size": 14
          }
         },
         "hovertemplate": "distributor=ADS Service<br>year=%{x}<br>sum of val=%{y}<extra></extra>",
         "legendgroup": "ADS Service",
         "marker": {
          "color": "#e2c1f5",
          "line": {
           "width": 2
          },
          "pattern": {
           "shape": ""
          }
         },
         "name": "ADS Service",
         "offsetgroup": "ADS Service",
         "orientation": "v",
         "showlegend": true,
         "textfont": {
          "color": "#212529",
          "family": "Arial, san serif",
          "size": 16
         },
         "type": "histogram",
         "x": [
          2019
         ],
         "xaxis": "x",
         "y": [
          6
         ],
         "yaxis": "y"
        }
       ],
       "layout": {
        "barmode": "relative",
        "font": {
         "color": "white",
         "family": "Arial, san serif",
         "size": 15
        },
        "hoverlabel": {
         "bordercolor": "#212529"
        },
        "legend": {
         "title": {
          "text": "Distributors"
         },
         "tracegroupgap": 0
        },
        "margin": {
         "b": 10,
         "l": 10,
         "r": 10,
         "t": 10
        },
        "paper_bgcolor": "#212529",
        "plot_bgcolor": "rgba(0, 0, 0, 0)",
        "template": {
         "data": {
          "bar": [
           {
            "error_x": {
             "color": "#2a3f5f"
            },
            "error_y": {
             "color": "#2a3f5f"
            },
            "marker": {
             "line": {
              "color": "#E5ECF6",
              "width": 0.5
             },
             "pattern": {
              "fillmode": "overlay",
              "size": 10,
              "solidity": 0.2
             }
            },
            "type": "bar"
           }
          ],
          "barpolar": [
           {
            "marker": {
             "line": {
              "color": "#E5ECF6",
              "width": 0.5
             },
             "pattern": {
              "fillmode": "overlay",
              "size": 10,
              "solidity": 0.2
             }
            },
            "type": "barpolar"
           }
          ],
          "carpet": [
           {
            "aaxis": {
             "endlinecolor": "#2a3f5f",
             "gridcolor": "white",
             "linecolor": "white",
             "minorgridcolor": "white",
             "startlinecolor": "#2a3f5f"
            },
            "baxis": {
             "endlinecolor": "#2a3f5f",
             "gridcolor": "white",
             "linecolor": "white",
             "minorgridcolor": "white",
             "startlinecolor": "#2a3f5f"
            },
            "type": "carpet"
           }
          ],
          "choropleth": [
           {
            "colorbar": {
             "outlinewidth": 0,
             "ticks": ""
            },
            "type": "choropleth"
           }
          ],
          "contour": [
           {
            "colorbar": {
             "outlinewidth": 0,
             "ticks": ""
            },
            "colorscale": [
             [
              0,
              "#0d0887"
             ],
             [
              0.1111111111111111,
              "#46039f"
             ],
             [
              0.2222222222222222,
              "#7201a8"
             ],
             [
              0.3333333333333333,
              "#9c179e"
             ],
             [
              0.4444444444444444,
              "#bd3786"
             ],
             [
              0.5555555555555556,
              "#d8576b"
             ],
             [
              0.6666666666666666,
              "#ed7953"
             ],
             [
              0.7777777777777778,
              "#fb9f3a"
             ],
             [
              0.8888888888888888,
              "#fdca26"
             ],
             [
              1,
              "#f0f921"
             ]
            ],
            "type": "contour"
           }
          ],
          "contourcarpet": [
           {
            "colorbar": {
             "outlinewidth": 0,
             "ticks": ""
            },
            "type": "contourcarpet"
           }
          ],
          "heatmap": [
           {
            "colorbar": {
             "outlinewidth": 0,
             "ticks": ""
            },
            "colorscale": [
             [
              0,
              "#0d0887"
             ],
             [
              0.1111111111111111,
              "#46039f"
             ],
             [
              0.2222222222222222,
              "#7201a8"
             ],
             [
              0.3333333333333333,
              "#9c179e"
             ],
             [
              0.4444444444444444,
              "#bd3786"
             ],
             [
              0.5555555555555556,
              "#d8576b"
             ],
             [
              0.6666666666666666,
              "#ed7953"
             ],
             [
              0.7777777777777778,
              "#fb9f3a"
             ],
             [
              0.8888888888888888,
              "#fdca26"
             ],
             [
              1,
              "#f0f921"
             ]
            ],
            "type": "heatmap"
           }
          ],
          "heatmapgl": [
           {
            "colorbar": {
             "outlinewidth": 0,
             "ticks": ""
            },
            "colorscale": [
             [
              0,
              "#0d0887"
             ],
             [
              0.1111111111111111,
              "#46039f"
             ],
             [
              0.2222222222222222,
              "#7201a8"
             ],
             [
              0.3333333333333333,
              "#9c179e"
             ],
             [
              0.4444444444444444,
              "#bd3786"
             ],
             [
              0.5555555555555556,
              "#d8576b"
             ],
             [
              0.6666666666666666,
              "#ed7953"
             ],
             [
              0.7777777777777778,
              "#fb9f3a"
             ],
             [
              0.8888888888888888,
              "#fdca26"
             ],
             [
              1,
              "#f0f921"
             ]
            ],
            "type": "heatmapgl"
           }
          ],
          "histogram": [
           {
            "marker": {
             "pattern": {
              "fillmode": "overlay",
              "size": 10,
              "solidity": 0.2
             }
            },
            "type": "histogram"
           }
          ],
          "histogram2d": [
           {
            "colorbar": {
             "outlinewidth": 0,
             "ticks": ""
            },
            "colorscale": [
             [
              0,
              "#0d0887"
             ],
             [
              0.1111111111111111,
              "#46039f"
             ],
             [
              0.2222222222222222,
              "#7201a8"
             ],
             [
              0.3333333333333333,
              "#9c179e"
             ],
             [
              0.4444444444444444,
              "#bd3786"
             ],
             [
              0.5555555555555556,
              "#d8576b"
             ],
             [
              0.6666666666666666,
              "#ed7953"
             ],
             [
              0.7777777777777778,
              "#fb9f3a"
             ],
             [
              0.8888888888888888,
              "#fdca26"
             ],
             [
              1,
              "#f0f921"
             ]
            ],
            "type": "histogram2d"
           }
          ],
          "histogram2dcontour": [
           {
            "colorbar": {
             "outlinewidth": 0,
             "ticks": ""
            },
            "colorscale": [
             [
              0,
              "#0d0887"
             ],
             [
              0.1111111111111111,
              "#46039f"
             ],
             [
              0.2222222222222222,
              "#7201a8"
             ],
             [
              0.3333333333333333,
              "#9c179e"
             ],
             [
              0.4444444444444444,
              "#bd3786"
             ],
             [
              0.5555555555555556,
              "#d8576b"
             ],
             [
              0.6666666666666666,
              "#ed7953"
             ],
             [
              0.7777777777777778,
              "#fb9f3a"
             ],
             [
              0.8888888888888888,
              "#fdca26"
             ],
             [
              1,
              "#f0f921"
             ]
            ],
            "type": "histogram2dcontour"
           }
          ],
          "mesh3d": [
           {
            "colorbar": {
             "outlinewidth": 0,
             "ticks": ""
            },
            "type": "mesh3d"
           }
          ],
          "parcoords": [
           {
            "line": {
             "colorbar": {
              "outlinewidth": 0,
              "ticks": ""
             }
            },
            "type": "parcoords"
           }
          ],
          "pie": [
           {
            "automargin": true,
            "type": "pie"
           }
          ],
          "scatter": [
           {
            "marker": {
             "colorbar": {
              "outlinewidth": 0,
              "ticks": ""
             }
            },
            "type": "scatter"
           }
          ],
          "scatter3d": [
           {
            "line": {
             "colorbar": {
              "outlinewidth": 0,
              "ticks": ""
             }
            },
            "marker": {
             "colorbar": {
              "outlinewidth": 0,
              "ticks": ""
             }
            },
            "type": "scatter3d"
           }
          ],
          "scattercarpet": [
           {
            "marker": {
             "colorbar": {
              "outlinewidth": 0,
              "ticks": ""
             }
            },
            "type": "scattercarpet"
           }
          ],
          "scattergeo": [
           {
            "marker": {
             "colorbar": {
              "outlinewidth": 0,
              "ticks": ""
             }
            },
            "type": "scattergeo"
           }
          ],
          "scattergl": [
           {
            "marker": {
             "colorbar": {
              "outlinewidth": 0,
              "ticks": ""
             }
            },
            "type": "scattergl"
           }
          ],
          "scattermapbox": [
           {
            "marker": {
             "colorbar": {
              "outlinewidth": 0,
              "ticks": ""
             }
            },
            "type": "scattermapbox"
           }
          ],
          "scatterpolar": [
           {
            "marker": {
             "colorbar": {
              "outlinewidth": 0,
              "ticks": ""
             }
            },
            "type": "scatterpolar"
           }
          ],
          "scatterpolargl": [
           {
            "marker": {
             "colorbar": {
              "outlinewidth": 0,
              "ticks": ""
             }
            },
            "type": "scatterpolargl"
           }
          ],
          "scatterternary": [
           {
            "marker": {
             "colorbar": {
              "outlinewidth": 0,
              "ticks": ""
             }
            },
            "type": "scatterternary"
           }
          ],
          "surface": [
           {
            "colorbar": {
             "outlinewidth": 0,
             "ticks": ""
            },
            "colorscale": [
             [
              0,
              "#0d0887"
             ],
             [
              0.1111111111111111,
              "#46039f"
             ],
             [
              0.2222222222222222,
              "#7201a8"
             ],
             [
              0.3333333333333333,
              "#9c179e"
             ],
             [
              0.4444444444444444,
              "#bd3786"
             ],
             [
              0.5555555555555556,
              "#d8576b"
             ],
             [
              0.6666666666666666,
              "#ed7953"
             ],
             [
              0.7777777777777778,
              "#fb9f3a"
             ],
             [
              0.8888888888888888,
              "#fdca26"
             ],
             [
              1,
              "#f0f921"
             ]
            ],
            "type": "surface"
           }
          ],
          "table": [
           {
            "cells": {
             "fill": {
              "color": "#EBF0F8"
             },
             "line": {
              "color": "white"
             }
            },
            "header": {
             "fill": {
              "color": "#C8D4E3"
             },
             "line": {
              "color": "white"
             }
            },
            "type": "table"
           }
          ]
         },
         "layout": {
          "annotationdefaults": {
           "arrowcolor": "#2a3f5f",
           "arrowhead": 0,
           "arrowwidth": 1
          },
          "autotypenumbers": "strict",
          "coloraxis": {
           "colorbar": {
            "outlinewidth": 0,
            "ticks": ""
           }
          },
          "colorscale": {
           "diverging": [
            [
             0,
             "#8e0152"
            ],
            [
             0.1,
             "#c51b7d"
            ],
            [
             0.2,
             "#de77ae"
            ],
            [
             0.3,
             "#f1b6da"
            ],
            [
             0.4,
             "#fde0ef"
            ],
            [
             0.5,
             "#f7f7f7"
            ],
            [
             0.6,
             "#e6f5d0"
            ],
            [
             0.7,
             "#b8e186"
            ],
            [
             0.8,
             "#7fbc41"
            ],
            [
             0.9,
             "#4d9221"
            ],
            [
             1,
             "#276419"
            ]
           ],
           "sequential": [
            [
             0,
             "#0d0887"
            ],
            [
             0.1111111111111111,
             "#46039f"
            ],
            [
             0.2222222222222222,
             "#7201a8"
            ],
            [
             0.3333333333333333,
             "#9c179e"
            ],
            [
             0.4444444444444444,
             "#bd3786"
            ],
            [
             0.5555555555555556,
             "#d8576b"
            ],
            [
             0.6666666666666666,
             "#ed7953"
            ],
            [
             0.7777777777777778,
             "#fb9f3a"
            ],
            [
             0.8888888888888888,
             "#fdca26"
            ],
            [
             1,
             "#f0f921"
            ]
           ],
           "sequentialminus": [
            [
             0,
             "#0d0887"
            ],
            [
             0.1111111111111111,
             "#46039f"
            ],
            [
             0.2222222222222222,
             "#7201a8"
            ],
            [
             0.3333333333333333,
             "#9c179e"
            ],
            [
             0.4444444444444444,
             "#bd3786"
            ],
            [
             0.5555555555555556,
             "#d8576b"
            ],
            [
             0.6666666666666666,
             "#ed7953"
            ],
            [
             0.7777777777777778,
             "#fb9f3a"
            ],
            [
             0.8888888888888888,
             "#fdca26"
            ],
            [
             1,
             "#f0f921"
            ]
           ]
          },
          "colorway": [
           "#636efa",
           "#EF553B",
           "#00cc96",
           "#ab63fa",
           "#FFA15A",
           "#19d3f3",
           "#FF6692",
           "#B6E880",
           "#FF97FF",
           "#FECB52"
          ],
          "font": {
           "color": "#2a3f5f"
          },
          "geo": {
           "bgcolor": "white",
           "lakecolor": "white",
           "landcolor": "#E5ECF6",
           "showlakes": true,
           "showland": true,
           "subunitcolor": "white"
          },
          "hoverlabel": {
           "align": "left"
          },
          "hovermode": "closest",
          "mapbox": {
           "style": "light"
          },
          "paper_bgcolor": "white",
          "plot_bgcolor": "#E5ECF6",
          "polar": {
           "angularaxis": {
            "gridcolor": "white",
            "linecolor": "white",
            "ticks": ""
           },
           "bgcolor": "#E5ECF6",
           "radialaxis": {
            "gridcolor": "white",
            "linecolor": "white",
            "ticks": ""
           }
          },
          "scene": {
           "xaxis": {
            "backgroundcolor": "#E5ECF6",
            "gridcolor": "white",
            "gridwidth": 2,
            "linecolor": "white",
            "showbackground": true,
            "ticks": "",
            "zerolinecolor": "white"
           },
           "yaxis": {
            "backgroundcolor": "#E5ECF6",
            "gridcolor": "white",
            "gridwidth": 2,
            "linecolor": "white",
            "showbackground": true,
            "ticks": "",
            "zerolinecolor": "white"
           },
           "zaxis": {
            "backgroundcolor": "#E5ECF6",
            "gridcolor": "white",
            "gridwidth": 2,
            "linecolor": "white",
            "showbackground": true,
            "ticks": "",
            "zerolinecolor": "white"
           }
          },
          "shapedefaults": {
           "line": {
            "color": "#2a3f5f"
           }
          },
          "ternary": {
           "aaxis": {
            "gridcolor": "white",
            "linecolor": "white",
            "ticks": ""
           },
           "baxis": {
            "gridcolor": "white",
            "linecolor": "white",
            "ticks": ""
           },
           "bgcolor": "#E5ECF6",
           "caxis": {
            "gridcolor": "white",
            "linecolor": "white",
            "ticks": ""
           }
          },
          "title": {
           "x": 0.05
          },
          "xaxis": {
           "automargin": true,
           "gridcolor": "white",
           "linecolor": "white",
           "ticks": "",
           "title": {
            "standoff": 15
           },
           "zerolinecolor": "white",
           "zerolinewidth": 2
          },
          "yaxis": {
           "automargin": true,
           "gridcolor": "white",
           "linecolor": "white",
           "ticks": "",
           "title": {
            "standoff": 15
           },
           "zerolinecolor": "white",
           "zerolinewidth": 2
          }
         }
        },
        "xaxis": {
         "anchor": "y",
         "domain": [
          0,
          1
         ],
         "showgrid": false,
         "title": {
          "text": "year"
         }
        },
        "yaxis": {
         "anchor": "x",
         "domain": [
          0,
          1
         ],
         "gridcolor": "rgba(225, 225, 225, .5)",
         "title": {
          "text": "Contents amount own by distributor"
         }
        }
       }
      }
     },
     "metadata": {},
     "output_type": "display_data"
    }
   ],
   "source": [
    "df = data.copy()\n",
    "df['distributor'].replace('no_data', np.nan, inplace  = True)\n",
    "df = df.dropna()\n",
    "df['distr'] = df['distributor'].apply(lambda x :  x.replace(' ,',',').replace(', ',',').split(',')) \n",
    "\n",
    "df_new = pd.DataFrame()\n",
    "j = 0\n",
    "for index, i in df['distr'].iteritems(): \n",
    "    for n in range(len(i)):\n",
    "        w = i[n]\n",
    "        df_new.loc[j, 'distributor'] = w\n",
    "        df_new.loc[j, 'release_year'] = df._get_value(index, 'release_year')\n",
    "        j += 1\n",
    "df = df_new[['release_year', 'distributor']].groupby('distributor')['release_year'].value_counts().unstack()\n",
    "df = df.stack().reset_index()\n",
    "df.columns = ['distributor','year','val']\n",
    "df = df[(df.year >= 2008)&(df.year < 2022)]\n",
    "df = df.sort_values(by='val', ascending=False)[:50]\n",
    "fig = px.histogram(df, x=\"year\", y=\"val\", color='distributor', color_discrete_sequence=colors)\n",
    "\n",
    "fig.update_traces( marker=dict(line=dict(width=2)),textfont=dict(family=\"Arial, san serif\",size=16,color=\"#212529\"),hoverlabel=dict(font_size=14,font_family=\"Arial, san serif\", font_color='white'))\n",
    "\n",
    "fig.update_layout(\n",
    "    yaxis_title=\"Contents amount own by distributor\",\n",
    "    legend_title=\"Distributors\",\n",
    "    margin=margin, yaxis_gridcolor ='rgba(225, 225, 225, .5)',  xaxis_showgrid=False,\n",
    "        paper_bgcolor=\"#212529\", plot_bgcolor = 'rgba(0, 0, 0, 0)', hoverlabel_bordercolor='#212529',\n",
    "        font=dict(\n",
    "            family=\"Arial, san serif\",\n",
    "            size=15,\n",
    "            color=\"white\"\n",
    "        ) \n",
    "    )\n",
    "fig.write_html('visualization/twentysix.html') \n",
    "fig.show()"
   ]
  },
  {
   "cell_type": "markdown",
   "metadata": {},
   "source": [
    "### Distributor and genere correlation \n",
    "\n",
    "So let's investigate what genre are the movies that streaming services own the distribution. To do this we use a heat map.\n",
    "\n",
    "**Conclusion:** Amazon tends to distribute more Drama alongside the United Artist Corporation. Netflix has a lack of content for children and families, but in general it has a wider gender distribution."
   ]
  },
  {
   "cell_type": "code",
   "execution_count": 357,
   "metadata": {},
   "outputs": [
    {
     "data": {
      "application/vnd.plotly.v1+json": {
       "config": {
        "plotlyServerURL": "https://plot.ly"
       },
       "data": [
        {
         "coloraxis": "coloraxis",
         "hoverlabel": {
          "font": {
           "color": "white",
           "family": "Arial, san serif",
           "size": 14
          }
         },
         "hovertemplate": "genre: %{x}<br>distr: %{y}<br>color: %{z}<extra></extra>",
         "name": "0",
         "textfont": {
          "color": "white",
          "family": "Arial, san serif",
          "size": 16
         },
         "type": "heatmap",
         "x": [
          "Action & adventure",
          "Children & family",
          "Commedy",
          "Documentary",
          "Drama",
          "Horror",
          "Independent",
          "International",
          "Romance",
          "Thriller"
         ],
         "xaxis": "x",
         "y": [
          "Amazon Prime",
          "BBC One",
          "Columbia Pictures",
          "InterCom",
          "Netflix",
          "Paramount Pictures",
          "UTV Motion Pictures",
          "United Artists Corporation",
          "Universal Pictures",
          "Warner Bros."
         ],
         "yaxis": "y",
         "z": [
          [
           0.08,
           0.08,
           0.23,
           0.04,
           0.36,
           0.05,
           0.01,
           0.05,
           0.03,
           0.08
          ],
          [
           0.06,
           0.01,
           0.08,
           0.08,
           0.31,
           0.02,
           0.01,
           0.35,
           0.03,
           0.03
          ],
          [
           0.19,
           0.04,
           0.25,
           0,
           0.25,
           0.03,
           0.02,
           0.03,
           0.1,
           0.08
          ],
          [
           0.26,
           0.06,
           0.18,
           0.01,
           0.22,
           0.09,
           0,
           0.01,
           0.04,
           0.12
          ],
          [
           0.1,
           0.04,
           0.15,
           0.06,
           0.23,
           0.05,
           0.05,
           0.2,
           0.05,
           0.07
          ],
          [
           0.18,
           0.06,
           0.22,
           0.01,
           0.26,
           0.05,
           0.02,
           0.04,
           0.06,
           0.1
          ],
          [
           0.09,
           0,
           0.17,
           0,
           0.25,
           0.01,
           0,
           0.37,
           0.05,
           0.06
          ],
          [
           0.12,
           0.03,
           0.18,
           0,
           0.38,
           0.07,
           0.01,
           0,
           0.11,
           0.11
          ],
          [
           0.13,
           0.05,
           0.18,
           0.02,
           0.28,
           0.07,
           0.03,
           0.08,
           0.05,
           0.12
          ],
          [
           0.18,
           0.03,
           0.16,
           0.01,
           0.26,
           0.06,
           0.03,
           0.1,
           0.05,
           0.11
          ]
         ]
        }
       ],
       "layout": {
        "coloraxis": {
         "colorscale": [
          [
           0,
           "#0f79af"
          ],
          [
           0.08333333333333333,
           "#5287c1"
          ],
          [
           0.16666666666666666,
           "#7b95d0"
          ],
          [
           0.25,
           "#a0a3de"
          ],
          [
           0.3333333333333333,
           "#c2b2ea"
          ],
          [
           0.4166666666666667,
           "#e2c1f5"
          ],
          [
           0.5,
           "#ffd2ff"
          ],
          [
           0.5833333333333334,
           "#ffb5ea"
          ],
          [
           0.6666666666666666,
           "#ff96cc"
          ],
          [
           0.75,
           "#ff76a7"
          ],
          [
           0.8333333333333334,
           "#ff547c"
          ],
          [
           0.9166666666666666,
           "#f9314c"
          ],
          [
           1,
           "#e50914"
          ]
         ]
        },
        "font": {
         "color": "white",
         "family": "Arial, san serif",
         "size": 12
        },
        "hoverlabel": {
         "bordercolor": "#212529"
        },
        "margin": {
         "b": 10,
         "l": 10,
         "r": 10,
         "t": 10
        },
        "paper_bgcolor": "#212529",
        "plot_bgcolor": "rgba(0, 0, 0, 0)",
        "template": {
         "data": {
          "bar": [
           {
            "error_x": {
             "color": "#2a3f5f"
            },
            "error_y": {
             "color": "#2a3f5f"
            },
            "marker": {
             "line": {
              "color": "#E5ECF6",
              "width": 0.5
             },
             "pattern": {
              "fillmode": "overlay",
              "size": 10,
              "solidity": 0.2
             }
            },
            "type": "bar"
           }
          ],
          "barpolar": [
           {
            "marker": {
             "line": {
              "color": "#E5ECF6",
              "width": 0.5
             },
             "pattern": {
              "fillmode": "overlay",
              "size": 10,
              "solidity": 0.2
             }
            },
            "type": "barpolar"
           }
          ],
          "carpet": [
           {
            "aaxis": {
             "endlinecolor": "#2a3f5f",
             "gridcolor": "white",
             "linecolor": "white",
             "minorgridcolor": "white",
             "startlinecolor": "#2a3f5f"
            },
            "baxis": {
             "endlinecolor": "#2a3f5f",
             "gridcolor": "white",
             "linecolor": "white",
             "minorgridcolor": "white",
             "startlinecolor": "#2a3f5f"
            },
            "type": "carpet"
           }
          ],
          "choropleth": [
           {
            "colorbar": {
             "outlinewidth": 0,
             "ticks": ""
            },
            "type": "choropleth"
           }
          ],
          "contour": [
           {
            "colorbar": {
             "outlinewidth": 0,
             "ticks": ""
            },
            "colorscale": [
             [
              0,
              "#0d0887"
             ],
             [
              0.1111111111111111,
              "#46039f"
             ],
             [
              0.2222222222222222,
              "#7201a8"
             ],
             [
              0.3333333333333333,
              "#9c179e"
             ],
             [
              0.4444444444444444,
              "#bd3786"
             ],
             [
              0.5555555555555556,
              "#d8576b"
             ],
             [
              0.6666666666666666,
              "#ed7953"
             ],
             [
              0.7777777777777778,
              "#fb9f3a"
             ],
             [
              0.8888888888888888,
              "#fdca26"
             ],
             [
              1,
              "#f0f921"
             ]
            ],
            "type": "contour"
           }
          ],
          "contourcarpet": [
           {
            "colorbar": {
             "outlinewidth": 0,
             "ticks": ""
            },
            "type": "contourcarpet"
           }
          ],
          "heatmap": [
           {
            "colorbar": {
             "outlinewidth": 0,
             "ticks": ""
            },
            "colorscale": [
             [
              0,
              "#0d0887"
             ],
             [
              0.1111111111111111,
              "#46039f"
             ],
             [
              0.2222222222222222,
              "#7201a8"
             ],
             [
              0.3333333333333333,
              "#9c179e"
             ],
             [
              0.4444444444444444,
              "#bd3786"
             ],
             [
              0.5555555555555556,
              "#d8576b"
             ],
             [
              0.6666666666666666,
              "#ed7953"
             ],
             [
              0.7777777777777778,
              "#fb9f3a"
             ],
             [
              0.8888888888888888,
              "#fdca26"
             ],
             [
              1,
              "#f0f921"
             ]
            ],
            "type": "heatmap"
           }
          ],
          "heatmapgl": [
           {
            "colorbar": {
             "outlinewidth": 0,
             "ticks": ""
            },
            "colorscale": [
             [
              0,
              "#0d0887"
             ],
             [
              0.1111111111111111,
              "#46039f"
             ],
             [
              0.2222222222222222,
              "#7201a8"
             ],
             [
              0.3333333333333333,
              "#9c179e"
             ],
             [
              0.4444444444444444,
              "#bd3786"
             ],
             [
              0.5555555555555556,
              "#d8576b"
             ],
             [
              0.6666666666666666,
              "#ed7953"
             ],
             [
              0.7777777777777778,
              "#fb9f3a"
             ],
             [
              0.8888888888888888,
              "#fdca26"
             ],
             [
              1,
              "#f0f921"
             ]
            ],
            "type": "heatmapgl"
           }
          ],
          "histogram": [
           {
            "marker": {
             "pattern": {
              "fillmode": "overlay",
              "size": 10,
              "solidity": 0.2
             }
            },
            "type": "histogram"
           }
          ],
          "histogram2d": [
           {
            "colorbar": {
             "outlinewidth": 0,
             "ticks": ""
            },
            "colorscale": [
             [
              0,
              "#0d0887"
             ],
             [
              0.1111111111111111,
              "#46039f"
             ],
             [
              0.2222222222222222,
              "#7201a8"
             ],
             [
              0.3333333333333333,
              "#9c179e"
             ],
             [
              0.4444444444444444,
              "#bd3786"
             ],
             [
              0.5555555555555556,
              "#d8576b"
             ],
             [
              0.6666666666666666,
              "#ed7953"
             ],
             [
              0.7777777777777778,
              "#fb9f3a"
             ],
             [
              0.8888888888888888,
              "#fdca26"
             ],
             [
              1,
              "#f0f921"
             ]
            ],
            "type": "histogram2d"
           }
          ],
          "histogram2dcontour": [
           {
            "colorbar": {
             "outlinewidth": 0,
             "ticks": ""
            },
            "colorscale": [
             [
              0,
              "#0d0887"
             ],
             [
              0.1111111111111111,
              "#46039f"
             ],
             [
              0.2222222222222222,
              "#7201a8"
             ],
             [
              0.3333333333333333,
              "#9c179e"
             ],
             [
              0.4444444444444444,
              "#bd3786"
             ],
             [
              0.5555555555555556,
              "#d8576b"
             ],
             [
              0.6666666666666666,
              "#ed7953"
             ],
             [
              0.7777777777777778,
              "#fb9f3a"
             ],
             [
              0.8888888888888888,
              "#fdca26"
             ],
             [
              1,
              "#f0f921"
             ]
            ],
            "type": "histogram2dcontour"
           }
          ],
          "mesh3d": [
           {
            "colorbar": {
             "outlinewidth": 0,
             "ticks": ""
            },
            "type": "mesh3d"
           }
          ],
          "parcoords": [
           {
            "line": {
             "colorbar": {
              "outlinewidth": 0,
              "ticks": ""
             }
            },
            "type": "parcoords"
           }
          ],
          "pie": [
           {
            "automargin": true,
            "type": "pie"
           }
          ],
          "scatter": [
           {
            "marker": {
             "colorbar": {
              "outlinewidth": 0,
              "ticks": ""
             }
            },
            "type": "scatter"
           }
          ],
          "scatter3d": [
           {
            "line": {
             "colorbar": {
              "outlinewidth": 0,
              "ticks": ""
             }
            },
            "marker": {
             "colorbar": {
              "outlinewidth": 0,
              "ticks": ""
             }
            },
            "type": "scatter3d"
           }
          ],
          "scattercarpet": [
           {
            "marker": {
             "colorbar": {
              "outlinewidth": 0,
              "ticks": ""
             }
            },
            "type": "scattercarpet"
           }
          ],
          "scattergeo": [
           {
            "marker": {
             "colorbar": {
              "outlinewidth": 0,
              "ticks": ""
             }
            },
            "type": "scattergeo"
           }
          ],
          "scattergl": [
           {
            "marker": {
             "colorbar": {
              "outlinewidth": 0,
              "ticks": ""
             }
            },
            "type": "scattergl"
           }
          ],
          "scattermapbox": [
           {
            "marker": {
             "colorbar": {
              "outlinewidth": 0,
              "ticks": ""
             }
            },
            "type": "scattermapbox"
           }
          ],
          "scatterpolar": [
           {
            "marker": {
             "colorbar": {
              "outlinewidth": 0,
              "ticks": ""
             }
            },
            "type": "scatterpolar"
           }
          ],
          "scatterpolargl": [
           {
            "marker": {
             "colorbar": {
              "outlinewidth": 0,
              "ticks": ""
             }
            },
            "type": "scatterpolargl"
           }
          ],
          "scatterternary": [
           {
            "marker": {
             "colorbar": {
              "outlinewidth": 0,
              "ticks": ""
             }
            },
            "type": "scatterternary"
           }
          ],
          "surface": [
           {
            "colorbar": {
             "outlinewidth": 0,
             "ticks": ""
            },
            "colorscale": [
             [
              0,
              "#0d0887"
             ],
             [
              0.1111111111111111,
              "#46039f"
             ],
             [
              0.2222222222222222,
              "#7201a8"
             ],
             [
              0.3333333333333333,
              "#9c179e"
             ],
             [
              0.4444444444444444,
              "#bd3786"
             ],
             [
              0.5555555555555556,
              "#d8576b"
             ],
             [
              0.6666666666666666,
              "#ed7953"
             ],
             [
              0.7777777777777778,
              "#fb9f3a"
             ],
             [
              0.8888888888888888,
              "#fdca26"
             ],
             [
              1,
              "#f0f921"
             ]
            ],
            "type": "surface"
           }
          ],
          "table": [
           {
            "cells": {
             "fill": {
              "color": "#EBF0F8"
             },
             "line": {
              "color": "white"
             }
            },
            "header": {
             "fill": {
              "color": "#C8D4E3"
             },
             "line": {
              "color": "white"
             }
            },
            "type": "table"
           }
          ]
         },
         "layout": {
          "annotationdefaults": {
           "arrowcolor": "#2a3f5f",
           "arrowhead": 0,
           "arrowwidth": 1
          },
          "autotypenumbers": "strict",
          "coloraxis": {
           "colorbar": {
            "outlinewidth": 0,
            "ticks": ""
           }
          },
          "colorscale": {
           "diverging": [
            [
             0,
             "#8e0152"
            ],
            [
             0.1,
             "#c51b7d"
            ],
            [
             0.2,
             "#de77ae"
            ],
            [
             0.3,
             "#f1b6da"
            ],
            [
             0.4,
             "#fde0ef"
            ],
            [
             0.5,
             "#f7f7f7"
            ],
            [
             0.6,
             "#e6f5d0"
            ],
            [
             0.7,
             "#b8e186"
            ],
            [
             0.8,
             "#7fbc41"
            ],
            [
             0.9,
             "#4d9221"
            ],
            [
             1,
             "#276419"
            ]
           ],
           "sequential": [
            [
             0,
             "#0d0887"
            ],
            [
             0.1111111111111111,
             "#46039f"
            ],
            [
             0.2222222222222222,
             "#7201a8"
            ],
            [
             0.3333333333333333,
             "#9c179e"
            ],
            [
             0.4444444444444444,
             "#bd3786"
            ],
            [
             0.5555555555555556,
             "#d8576b"
            ],
            [
             0.6666666666666666,
             "#ed7953"
            ],
            [
             0.7777777777777778,
             "#fb9f3a"
            ],
            [
             0.8888888888888888,
             "#fdca26"
            ],
            [
             1,
             "#f0f921"
            ]
           ],
           "sequentialminus": [
            [
             0,
             "#0d0887"
            ],
            [
             0.1111111111111111,
             "#46039f"
            ],
            [
             0.2222222222222222,
             "#7201a8"
            ],
            [
             0.3333333333333333,
             "#9c179e"
            ],
            [
             0.4444444444444444,
             "#bd3786"
            ],
            [
             0.5555555555555556,
             "#d8576b"
            ],
            [
             0.6666666666666666,
             "#ed7953"
            ],
            [
             0.7777777777777778,
             "#fb9f3a"
            ],
            [
             0.8888888888888888,
             "#fdca26"
            ],
            [
             1,
             "#f0f921"
            ]
           ]
          },
          "colorway": [
           "#636efa",
           "#EF553B",
           "#00cc96",
           "#ab63fa",
           "#FFA15A",
           "#19d3f3",
           "#FF6692",
           "#B6E880",
           "#FF97FF",
           "#FECB52"
          ],
          "font": {
           "color": "#2a3f5f"
          },
          "geo": {
           "bgcolor": "white",
           "lakecolor": "white",
           "landcolor": "#E5ECF6",
           "showlakes": true,
           "showland": true,
           "subunitcolor": "white"
          },
          "hoverlabel": {
           "align": "left"
          },
          "hovermode": "closest",
          "mapbox": {
           "style": "light"
          },
          "paper_bgcolor": "white",
          "plot_bgcolor": "#E5ECF6",
          "polar": {
           "angularaxis": {
            "gridcolor": "white",
            "linecolor": "white",
            "ticks": ""
           },
           "bgcolor": "#E5ECF6",
           "radialaxis": {
            "gridcolor": "white",
            "linecolor": "white",
            "ticks": ""
           }
          },
          "scene": {
           "xaxis": {
            "backgroundcolor": "#E5ECF6",
            "gridcolor": "white",
            "gridwidth": 2,
            "linecolor": "white",
            "showbackground": true,
            "ticks": "",
            "zerolinecolor": "white"
           },
           "yaxis": {
            "backgroundcolor": "#E5ECF6",
            "gridcolor": "white",
            "gridwidth": 2,
            "linecolor": "white",
            "showbackground": true,
            "ticks": "",
            "zerolinecolor": "white"
           },
           "zaxis": {
            "backgroundcolor": "#E5ECF6",
            "gridcolor": "white",
            "gridwidth": 2,
            "linecolor": "white",
            "showbackground": true,
            "ticks": "",
            "zerolinecolor": "white"
           }
          },
          "shapedefaults": {
           "line": {
            "color": "#2a3f5f"
           }
          },
          "ternary": {
           "aaxis": {
            "gridcolor": "white",
            "linecolor": "white",
            "ticks": ""
           },
           "baxis": {
            "gridcolor": "white",
            "linecolor": "white",
            "ticks": ""
           },
           "bgcolor": "#E5ECF6",
           "caxis": {
            "gridcolor": "white",
            "linecolor": "white",
            "ticks": ""
           }
          },
          "title": {
           "x": 0.05
          },
          "xaxis": {
           "automargin": true,
           "gridcolor": "white",
           "linecolor": "white",
           "ticks": "",
           "title": {
            "standoff": 15
           },
           "zerolinecolor": "white",
           "zerolinewidth": 2
          },
          "yaxis": {
           "automargin": true,
           "gridcolor": "white",
           "linecolor": "white",
           "ticks": "",
           "title": {
            "standoff": 15
           },
           "zerolinecolor": "white",
           "zerolinewidth": 2
          }
         }
        },
        "xaxis": {
         "anchor": "y",
         "domain": [
          0,
          1
         ],
         "title": {
          "text": "Genre"
         }
        },
        "yaxis": {
         "anchor": "x",
         "autorange": "reversed",
         "domain": [
          0,
          1
         ],
         "title": {
          "text": "Distributors"
         }
        }
       }
      }
     },
     "metadata": {},
     "output_type": "display_data"
    }
   ],
   "source": [
    "df = data.copy()\n",
    "df['listed_in'].replace('no_data', np.nan, inplace  = True)\n",
    "df['distributor'].replace('no_data', np.nan, inplace  = True)\n",
    "df = df.query('listed_in.notnull() & distributor.notnull()')\n",
    "df['distr'] = df['distributor'].apply(lambda x :  x.replace(' ,',',').replace(', ',',').split(',')) \n",
    "df['genre'] = df['listed_in'].apply(lambda x :  x.replace(' ,',',').replace(', ',',').split(',')) \n",
    "genre = []\n",
    "distr = []\n",
    "year = []\n",
    "for i, x in df['genre'].iteritems():\n",
    "    for n in range(len(x)):\n",
    "        k = df._get_value(i, 'distr')\n",
    "        for num in range(len(k)):\n",
    "            genre.append(x[n])\n",
    "            distr.append(k[num])\n",
    "            \n",
    "df = pd.DataFrame()\n",
    "df['distr'] = distr\n",
    "df['genre'] = genre\n",
    "df['count'] = 1\n",
    "\n",
    "g = df.groupby('genre')[['genre','count']].sum().sort_values(by='count',ascending=False).reset_index()[:10]\n",
    "g = g['genre']\n",
    "\n",
    "d = df.groupby('distr')[['distr','count']].sum().sort_values(by='count',ascending=False).reset_index()[:10]\n",
    "d = d['distr']\n",
    "\n",
    "df_heatmap = df.loc[df['genre'].isin(g) & df['distr'].isin(d)]\n",
    "df_heatmap = pd.crosstab(df_heatmap['distr'],df_heatmap['genre'],normalize = \"index\")\n",
    "for x in df_heatmap.columns.to_list():\n",
    "    df_heatmap[x] = pd.Series([round(val, 2) for val in df_heatmap[x]], index = df_heatmap.index)\n",
    "fig = px.imshow(df_heatmap, color_continuous_scale=colors, aspect=\"auto\")\n",
    "\n",
    "fig.update_traces( textfont=dict(family=\"Arial, san serif\",size=16,color=\"white\"),hoverlabel=dict(font_size=14,font_family=\"Arial, san serif\", font_color='white'))\n",
    "\n",
    "fig.update_layout(paper_bgcolor=\"#212529\", plot_bgcolor = 'rgba(0, 0, 0, 0)', hoverlabel_bordercolor='#212529', margin=margin,\n",
    "yaxis_title=\"Distributors\",\n",
    "xaxis_title=\"Genre\",\n",
    "font=dict(\n",
    "    family=\"Arial, san serif\",\n",
    "    size=12,\n",
    "    color=\"white\"\n",
    ") ) \n",
    "fig.write_html('visualization/twentyseven.html') \n",
    "fig.show()"
   ]
  },
  {
   "cell_type": "markdown",
   "metadata": {},
   "source": [
    "### Award analisys\n",
    "\n",
    "Until 2019, content not released in theaters could not participate in many major competitions, including the Oscars.\n",
    "To understand the correlation of distributor and prize we use a heat map. Then, we draw a histogram showing the award and nomination ammount divided by distributors.\n",
    "\n",
    "**Conclusion:** \n",
    "Of the movies on streaming platforms, Netflix and Amazon appear to have won the most generic awards, but they don't score as high in the most popular awards. Content on the platform is more likely to win a Primetime Emmy among well-known awards. There are few films that have won Oscars, most of which have been distributed by Warner Bros and Paramount Pictures. Proportionately, the films distributed by the platforms do not tend to be nominated for awards, the most acclaimed coming from the TV broadcasters. We will probably have to wait a few years to see any substantial changes."
   ]
  },
  {
   "cell_type": "code",
   "execution_count": 365,
   "metadata": {},
   "outputs": [
    {
     "data": {
      "application/vnd.plotly.v1+json": {
       "config": {
        "plotlyServerURL": "https://plot.ly"
       },
       "data": [
        {
         "coloraxis": "coloraxis",
         "hoverlabel": {
          "font": {
           "color": "white",
           "family": "Arial, san serif",
           "size": 14
          }
         },
         "hovertemplate": "award: %{x}<br>distr: %{y}<br>color: %{z}<extra></extra>",
         "name": "0",
         "textfont": {
          "color": "white",
          "family": "Arial, san serif",
          "size": 16
         },
         "type": "heatmap",
         "x": [
          "Awards",
          "BAFTA Award",
          "Oscar",
          "Primetime Emmy",
          "Top rated TV",
          "Top rated movie"
         ],
         "xaxis": "x",
         "y": [
          "AMC",
          "Amazon Prime",
          "BBC One",
          "CBS",
          "ITV",
          "InterCom",
          "NBC",
          "Netflix",
          "Paramount Pictures",
          "Warner Bros."
         ],
         "yaxis": "y",
         "z": [
          [
           0.02,
           0,
           0,
           0.5,
           0.48,
           0
          ],
          [
           0.44,
           0.04,
           0.03,
           0.31,
           0.17,
           0
          ],
          [
           0.19,
           0.26,
           0,
           0.34,
           0.21,
           0
          ],
          [
           0.12,
           0,
           0,
           0.88,
           0,
           0
          ],
          [
           0.11,
           0.16,
           0,
           0.32,
           0.4,
           0
          ],
          [
           0.36,
           0,
           0.42,
           0,
           0,
           0.22
          ],
          [
           0.05,
           0,
           0,
           0.72,
           0.23,
           0
          ],
          [
           0.66,
           0.02,
           0.09,
           0.16,
           0.04,
           0.02
          ],
          [
           0.49,
           0.02,
           0.38,
           0,
           0,
           0.11
          ],
          [
           0.46,
           0,
           0.37,
           0,
           0,
           0.17
          ]
         ]
        }
       ],
       "layout": {
        "coloraxis": {
         "colorscale": [
          [
           0,
           "#0f79af"
          ],
          [
           0.08333333333333333,
           "#5287c1"
          ],
          [
           0.16666666666666666,
           "#7b95d0"
          ],
          [
           0.25,
           "#a0a3de"
          ],
          [
           0.3333333333333333,
           "#c2b2ea"
          ],
          [
           0.4166666666666667,
           "#e2c1f5"
          ],
          [
           0.5,
           "#ffd2ff"
          ],
          [
           0.5833333333333334,
           "#ffb5ea"
          ],
          [
           0.6666666666666666,
           "#ff96cc"
          ],
          [
           0.75,
           "#ff76a7"
          ],
          [
           0.8333333333333334,
           "#ff547c"
          ],
          [
           0.9166666666666666,
           "#f9314c"
          ],
          [
           1,
           "#e50914"
          ]
         ]
        },
        "font": {
         "color": "white",
         "family": "Arial, san serif",
         "size": 12
        },
        "hoverlabel": {
         "bordercolor": "#212529"
        },
        "margin": {
         "b": 10,
         "l": 10,
         "r": 10,
         "t": 10
        },
        "paper_bgcolor": "#212529",
        "plot_bgcolor": "rgba(0, 0, 0, 0)",
        "template": {
         "data": {
          "bar": [
           {
            "error_x": {
             "color": "#2a3f5f"
            },
            "error_y": {
             "color": "#2a3f5f"
            },
            "marker": {
             "line": {
              "color": "#E5ECF6",
              "width": 0.5
             },
             "pattern": {
              "fillmode": "overlay",
              "size": 10,
              "solidity": 0.2
             }
            },
            "type": "bar"
           }
          ],
          "barpolar": [
           {
            "marker": {
             "line": {
              "color": "#E5ECF6",
              "width": 0.5
             },
             "pattern": {
              "fillmode": "overlay",
              "size": 10,
              "solidity": 0.2
             }
            },
            "type": "barpolar"
           }
          ],
          "carpet": [
           {
            "aaxis": {
             "endlinecolor": "#2a3f5f",
             "gridcolor": "white",
             "linecolor": "white",
             "minorgridcolor": "white",
             "startlinecolor": "#2a3f5f"
            },
            "baxis": {
             "endlinecolor": "#2a3f5f",
             "gridcolor": "white",
             "linecolor": "white",
             "minorgridcolor": "white",
             "startlinecolor": "#2a3f5f"
            },
            "type": "carpet"
           }
          ],
          "choropleth": [
           {
            "colorbar": {
             "outlinewidth": 0,
             "ticks": ""
            },
            "type": "choropleth"
           }
          ],
          "contour": [
           {
            "colorbar": {
             "outlinewidth": 0,
             "ticks": ""
            },
            "colorscale": [
             [
              0,
              "#0d0887"
             ],
             [
              0.1111111111111111,
              "#46039f"
             ],
             [
              0.2222222222222222,
              "#7201a8"
             ],
             [
              0.3333333333333333,
              "#9c179e"
             ],
             [
              0.4444444444444444,
              "#bd3786"
             ],
             [
              0.5555555555555556,
              "#d8576b"
             ],
             [
              0.6666666666666666,
              "#ed7953"
             ],
             [
              0.7777777777777778,
              "#fb9f3a"
             ],
             [
              0.8888888888888888,
              "#fdca26"
             ],
             [
              1,
              "#f0f921"
             ]
            ],
            "type": "contour"
           }
          ],
          "contourcarpet": [
           {
            "colorbar": {
             "outlinewidth": 0,
             "ticks": ""
            },
            "type": "contourcarpet"
           }
          ],
          "heatmap": [
           {
            "colorbar": {
             "outlinewidth": 0,
             "ticks": ""
            },
            "colorscale": [
             [
              0,
              "#0d0887"
             ],
             [
              0.1111111111111111,
              "#46039f"
             ],
             [
              0.2222222222222222,
              "#7201a8"
             ],
             [
              0.3333333333333333,
              "#9c179e"
             ],
             [
              0.4444444444444444,
              "#bd3786"
             ],
             [
              0.5555555555555556,
              "#d8576b"
             ],
             [
              0.6666666666666666,
              "#ed7953"
             ],
             [
              0.7777777777777778,
              "#fb9f3a"
             ],
             [
              0.8888888888888888,
              "#fdca26"
             ],
             [
              1,
              "#f0f921"
             ]
            ],
            "type": "heatmap"
           }
          ],
          "heatmapgl": [
           {
            "colorbar": {
             "outlinewidth": 0,
             "ticks": ""
            },
            "colorscale": [
             [
              0,
              "#0d0887"
             ],
             [
              0.1111111111111111,
              "#46039f"
             ],
             [
              0.2222222222222222,
              "#7201a8"
             ],
             [
              0.3333333333333333,
              "#9c179e"
             ],
             [
              0.4444444444444444,
              "#bd3786"
             ],
             [
              0.5555555555555556,
              "#d8576b"
             ],
             [
              0.6666666666666666,
              "#ed7953"
             ],
             [
              0.7777777777777778,
              "#fb9f3a"
             ],
             [
              0.8888888888888888,
              "#fdca26"
             ],
             [
              1,
              "#f0f921"
             ]
            ],
            "type": "heatmapgl"
           }
          ],
          "histogram": [
           {
            "marker": {
             "pattern": {
              "fillmode": "overlay",
              "size": 10,
              "solidity": 0.2
             }
            },
            "type": "histogram"
           }
          ],
          "histogram2d": [
           {
            "colorbar": {
             "outlinewidth": 0,
             "ticks": ""
            },
            "colorscale": [
             [
              0,
              "#0d0887"
             ],
             [
              0.1111111111111111,
              "#46039f"
             ],
             [
              0.2222222222222222,
              "#7201a8"
             ],
             [
              0.3333333333333333,
              "#9c179e"
             ],
             [
              0.4444444444444444,
              "#bd3786"
             ],
             [
              0.5555555555555556,
              "#d8576b"
             ],
             [
              0.6666666666666666,
              "#ed7953"
             ],
             [
              0.7777777777777778,
              "#fb9f3a"
             ],
             [
              0.8888888888888888,
              "#fdca26"
             ],
             [
              1,
              "#f0f921"
             ]
            ],
            "type": "histogram2d"
           }
          ],
          "histogram2dcontour": [
           {
            "colorbar": {
             "outlinewidth": 0,
             "ticks": ""
            },
            "colorscale": [
             [
              0,
              "#0d0887"
             ],
             [
              0.1111111111111111,
              "#46039f"
             ],
             [
              0.2222222222222222,
              "#7201a8"
             ],
             [
              0.3333333333333333,
              "#9c179e"
             ],
             [
              0.4444444444444444,
              "#bd3786"
             ],
             [
              0.5555555555555556,
              "#d8576b"
             ],
             [
              0.6666666666666666,
              "#ed7953"
             ],
             [
              0.7777777777777778,
              "#fb9f3a"
             ],
             [
              0.8888888888888888,
              "#fdca26"
             ],
             [
              1,
              "#f0f921"
             ]
            ],
            "type": "histogram2dcontour"
           }
          ],
          "mesh3d": [
           {
            "colorbar": {
             "outlinewidth": 0,
             "ticks": ""
            },
            "type": "mesh3d"
           }
          ],
          "parcoords": [
           {
            "line": {
             "colorbar": {
              "outlinewidth": 0,
              "ticks": ""
             }
            },
            "type": "parcoords"
           }
          ],
          "pie": [
           {
            "automargin": true,
            "type": "pie"
           }
          ],
          "scatter": [
           {
            "marker": {
             "colorbar": {
              "outlinewidth": 0,
              "ticks": ""
             }
            },
            "type": "scatter"
           }
          ],
          "scatter3d": [
           {
            "line": {
             "colorbar": {
              "outlinewidth": 0,
              "ticks": ""
             }
            },
            "marker": {
             "colorbar": {
              "outlinewidth": 0,
              "ticks": ""
             }
            },
            "type": "scatter3d"
           }
          ],
          "scattercarpet": [
           {
            "marker": {
             "colorbar": {
              "outlinewidth": 0,
              "ticks": ""
             }
            },
            "type": "scattercarpet"
           }
          ],
          "scattergeo": [
           {
            "marker": {
             "colorbar": {
              "outlinewidth": 0,
              "ticks": ""
             }
            },
            "type": "scattergeo"
           }
          ],
          "scattergl": [
           {
            "marker": {
             "colorbar": {
              "outlinewidth": 0,
              "ticks": ""
             }
            },
            "type": "scattergl"
           }
          ],
          "scattermapbox": [
           {
            "marker": {
             "colorbar": {
              "outlinewidth": 0,
              "ticks": ""
             }
            },
            "type": "scattermapbox"
           }
          ],
          "scatterpolar": [
           {
            "marker": {
             "colorbar": {
              "outlinewidth": 0,
              "ticks": ""
             }
            },
            "type": "scatterpolar"
           }
          ],
          "scatterpolargl": [
           {
            "marker": {
             "colorbar": {
              "outlinewidth": 0,
              "ticks": ""
             }
            },
            "type": "scatterpolargl"
           }
          ],
          "scatterternary": [
           {
            "marker": {
             "colorbar": {
              "outlinewidth": 0,
              "ticks": ""
             }
            },
            "type": "scatterternary"
           }
          ],
          "surface": [
           {
            "colorbar": {
             "outlinewidth": 0,
             "ticks": ""
            },
            "colorscale": [
             [
              0,
              "#0d0887"
             ],
             [
              0.1111111111111111,
              "#46039f"
             ],
             [
              0.2222222222222222,
              "#7201a8"
             ],
             [
              0.3333333333333333,
              "#9c179e"
             ],
             [
              0.4444444444444444,
              "#bd3786"
             ],
             [
              0.5555555555555556,
              "#d8576b"
             ],
             [
              0.6666666666666666,
              "#ed7953"
             ],
             [
              0.7777777777777778,
              "#fb9f3a"
             ],
             [
              0.8888888888888888,
              "#fdca26"
             ],
             [
              1,
              "#f0f921"
             ]
            ],
            "type": "surface"
           }
          ],
          "table": [
           {
            "cells": {
             "fill": {
              "color": "#EBF0F8"
             },
             "line": {
              "color": "white"
             }
            },
            "header": {
             "fill": {
              "color": "#C8D4E3"
             },
             "line": {
              "color": "white"
             }
            },
            "type": "table"
           }
          ]
         },
         "layout": {
          "annotationdefaults": {
           "arrowcolor": "#2a3f5f",
           "arrowhead": 0,
           "arrowwidth": 1
          },
          "autotypenumbers": "strict",
          "coloraxis": {
           "colorbar": {
            "outlinewidth": 0,
            "ticks": ""
           }
          },
          "colorscale": {
           "diverging": [
            [
             0,
             "#8e0152"
            ],
            [
             0.1,
             "#c51b7d"
            ],
            [
             0.2,
             "#de77ae"
            ],
            [
             0.3,
             "#f1b6da"
            ],
            [
             0.4,
             "#fde0ef"
            ],
            [
             0.5,
             "#f7f7f7"
            ],
            [
             0.6,
             "#e6f5d0"
            ],
            [
             0.7,
             "#b8e186"
            ],
            [
             0.8,
             "#7fbc41"
            ],
            [
             0.9,
             "#4d9221"
            ],
            [
             1,
             "#276419"
            ]
           ],
           "sequential": [
            [
             0,
             "#0d0887"
            ],
            [
             0.1111111111111111,
             "#46039f"
            ],
            [
             0.2222222222222222,
             "#7201a8"
            ],
            [
             0.3333333333333333,
             "#9c179e"
            ],
            [
             0.4444444444444444,
             "#bd3786"
            ],
            [
             0.5555555555555556,
             "#d8576b"
            ],
            [
             0.6666666666666666,
             "#ed7953"
            ],
            [
             0.7777777777777778,
             "#fb9f3a"
            ],
            [
             0.8888888888888888,
             "#fdca26"
            ],
            [
             1,
             "#f0f921"
            ]
           ],
           "sequentialminus": [
            [
             0,
             "#0d0887"
            ],
            [
             0.1111111111111111,
             "#46039f"
            ],
            [
             0.2222222222222222,
             "#7201a8"
            ],
            [
             0.3333333333333333,
             "#9c179e"
            ],
            [
             0.4444444444444444,
             "#bd3786"
            ],
            [
             0.5555555555555556,
             "#d8576b"
            ],
            [
             0.6666666666666666,
             "#ed7953"
            ],
            [
             0.7777777777777778,
             "#fb9f3a"
            ],
            [
             0.8888888888888888,
             "#fdca26"
            ],
            [
             1,
             "#f0f921"
            ]
           ]
          },
          "colorway": [
           "#636efa",
           "#EF553B",
           "#00cc96",
           "#ab63fa",
           "#FFA15A",
           "#19d3f3",
           "#FF6692",
           "#B6E880",
           "#FF97FF",
           "#FECB52"
          ],
          "font": {
           "color": "#2a3f5f"
          },
          "geo": {
           "bgcolor": "white",
           "lakecolor": "white",
           "landcolor": "#E5ECF6",
           "showlakes": true,
           "showland": true,
           "subunitcolor": "white"
          },
          "hoverlabel": {
           "align": "left"
          },
          "hovermode": "closest",
          "mapbox": {
           "style": "light"
          },
          "paper_bgcolor": "white",
          "plot_bgcolor": "#E5ECF6",
          "polar": {
           "angularaxis": {
            "gridcolor": "white",
            "linecolor": "white",
            "ticks": ""
           },
           "bgcolor": "#E5ECF6",
           "radialaxis": {
            "gridcolor": "white",
            "linecolor": "white",
            "ticks": ""
           }
          },
          "scene": {
           "xaxis": {
            "backgroundcolor": "#E5ECF6",
            "gridcolor": "white",
            "gridwidth": 2,
            "linecolor": "white",
            "showbackground": true,
            "ticks": "",
            "zerolinecolor": "white"
           },
           "yaxis": {
            "backgroundcolor": "#E5ECF6",
            "gridcolor": "white",
            "gridwidth": 2,
            "linecolor": "white",
            "showbackground": true,
            "ticks": "",
            "zerolinecolor": "white"
           },
           "zaxis": {
            "backgroundcolor": "#E5ECF6",
            "gridcolor": "white",
            "gridwidth": 2,
            "linecolor": "white",
            "showbackground": true,
            "ticks": "",
            "zerolinecolor": "white"
           }
          },
          "shapedefaults": {
           "line": {
            "color": "#2a3f5f"
           }
          },
          "ternary": {
           "aaxis": {
            "gridcolor": "white",
            "linecolor": "white",
            "ticks": ""
           },
           "baxis": {
            "gridcolor": "white",
            "linecolor": "white",
            "ticks": ""
           },
           "bgcolor": "#E5ECF6",
           "caxis": {
            "gridcolor": "white",
            "linecolor": "white",
            "ticks": ""
           }
          },
          "title": {
           "x": 0.05
          },
          "xaxis": {
           "automargin": true,
           "gridcolor": "white",
           "linecolor": "white",
           "ticks": "",
           "title": {
            "standoff": 15
           },
           "zerolinecolor": "white",
           "zerolinewidth": 2
          },
          "yaxis": {
           "automargin": true,
           "gridcolor": "white",
           "linecolor": "white",
           "ticks": "",
           "title": {
            "standoff": 15
           },
           "zerolinecolor": "white",
           "zerolinewidth": 2
          }
         }
        },
        "xaxis": {
         "anchor": "y",
         "domain": [
          0,
          1
         ],
         "title": {
          "text": "Awards"
         }
        },
        "yaxis": {
         "anchor": "x",
         "autorange": "reversed",
         "domain": [
          0,
          1
         ],
         "title": {
          "text": "Distributors"
         }
        }
       }
      }
     },
     "metadata": {},
     "output_type": "display_data"
    }
   ],
   "source": [
    "df = data.copy()\n",
    "df['special_award_tot'].replace('no_data', np.nan, inplace  = True)\n",
    "df['special_award_name'].replace('no_data', np.nan, inplace  = True)\n",
    "df['distributor'].replace('no_data', np.nan, inplace  = True)\n",
    "df = df.query('special_award_name.notnull() & distributor.notnull()')\n",
    "df[['special_award_name', 'special_award_tot', 'distributor']]\n",
    "\n",
    "df['distr'] = df['distributor'].apply(lambda x :  x.replace(' ,',',').replace(', ',',').split(',')) \n",
    "df['special'] = df['special_award_name'].apply(lambda x :  x.replace(' ,',',').replace(', ',',').split(',')) \n",
    "df['tot'] = df['special_award_tot'].apply(lambda x :  x.replace(' ,',',').replace(', ',',').split(',')) \n",
    "spe = []\n",
    "distr = []\n",
    "for i, x in df['distr'].iteritems():\n",
    "    for n in range(len(x)):\n",
    "        k = df._get_value(i, 'special')\n",
    "        for num in range(len(k)):\n",
    "            t = df._get_value(i, 'tot')\n",
    "            for tot in t:\n",
    "                for u in range(int(tot)):\n",
    "                    spe.append(k[num])\n",
    "                    distr.append(x[n])\n",
    "\n",
    "df = pd.DataFrame()\n",
    "df['distr'] = distr\n",
    "df['award'] = spe\n",
    "df['count'] = 1\n",
    "\n",
    "s = df.groupby('award')[['award','count']].sum().sort_values(by='count',ascending=False).reset_index()[:10]\n",
    "s = s['award']\n",
    "\n",
    "d = df.groupby('distr')[['distr','count']].sum().sort_values(by='count',ascending=False).reset_index()[:10]\n",
    "d = d['distr']\n",
    "d\n",
    "\n",
    "df_heatmap = df.loc[df['award'].isin(s) & df['distr'].isin(d)]\n",
    "df_heatmap = pd.crosstab(df_heatmap['distr'],df_heatmap['award'],normalize = \"index\")\n",
    "for x in df_heatmap.columns.to_list():\n",
    "    df_heatmap[x] = pd.Series([round(val, 2) for val in df_heatmap[x]], index = df_heatmap.index)\n",
    "fig = px.imshow(df_heatmap, color_continuous_scale=colors, aspect=\"auto\")\n",
    "\n",
    "fig.update_traces( textfont=dict(family=\"Arial, san serif\",size=16,color=\"white\"),hoverlabel=dict(font_size=14,font_family=\"Arial, san serif\", font_color='white'))\n",
    "\n",
    "fig.update_layout(paper_bgcolor=\"#212529\", plot_bgcolor = 'rgba(0, 0, 0, 0)', hoverlabel_bordercolor='#212529', margin=margin,\n",
    "yaxis_title=\"Distributors\",\n",
    "xaxis_title=\"Awards\",\n",
    "font=dict(\n",
    "    family=\"Arial, san serif\",\n",
    "    size=12,\n",
    "    color=\"white\"\n",
    ") ) \n",
    "fig.write_html('visualization/twentyeight.html') \n",
    "fig.show()"
   ]
  },
  {
   "cell_type": "code",
   "execution_count": null,
   "metadata": {},
   "outputs": [],
   "source": [
    "df = data.copy()\n",
    "df = df[['distributor', 'award_nomination_tot', 'award_win_tot' ]]\n",
    "df.replace('no_data', np.nan, inplace  = True)\n",
    "df.dropna(inplace=True)\n",
    "\n",
    "df['distr'] = df['distributor'].apply(lambda x :  x.replace(' ,',',').replace(', ',',').split(',')) \n",
    "\n",
    "df_new = pd.DataFrame()\n",
    "j = 0 \n",
    "for index, i in df['distr'].iteritems(): \n",
    "    for n in range(len(i)):\n",
    "        w = i[n]\n",
    "        df_new.loc[j, 'distributor'] = w\n",
    "        df_new.loc[j, 'count'] = 1\n",
    "        df_new.loc[j, 'award_nomination_tot'] = float(df._get_value(index, 'award_nomination_tot'))\n",
    "        df_new.loc[j, 'award_win_tot'] = float(df._get_value(index, 'award_win_tot'))\n",
    "        j += 1\n",
    "\n",
    "order = pd.DataFrame(df_new.groupby('distributor')['count', 'award_nomination_tot', 'award_win_tot'].sum().sort_values(by='count', ascending=False).reset_index())[:10]\n",
    "\n",
    "distr = []\n",
    "val_name = []\n",
    "val = []\n",
    "for i, x in order.iterrows():\n",
    "    total = x['count']\n",
    "    if x['award_nomination_tot'] > 0:\n",
    "        distr.append(x['distributor'])\n",
    "        val_name.append('Award nomination')\n",
    "        val.append(int(x['award_nomination_tot']/total))\n",
    "    if x['award_win_tot'] > 0:\n",
    "        distr.append(x['distributor'])\n",
    "        val_name.append('Award win')\n",
    "        val.append(int(x['award_win_tot']/total))\n",
    "df = pd.DataFrame()\n",
    "df['distr'] = distr\n",
    "df['val_name'] = val_name\n",
    "df['val'] = val\n",
    "\n",
    "\n",
    "fig = px.histogram(df, x=\"distr\", y=\"val\", color='val_name', barmode='group', color_discrete_sequence=two_colors)\n",
    "\n",
    "fig.update_traces( textfont=dict(family=\"Arial, san serif\",size=16,color=\"#212529\"),hoverlabel=dict(font_size=14,font_family=\"Arial, san serif\", font_color='white'))\n",
    "\n",
    "# fig.update_traces(hovertemplate=('<br>Total %{x}: %{customdata[0]}<br><extra></extra>'))\n",
    "\n",
    "fig.update_layout(\n",
    "    margin=margin,\n",
    "    yaxis_title=\"Percentage\",\n",
    "    xaxis_title=\"Distributer\",\n",
    "    legend_title=\"Awards type\", yaxis_gridcolor ='rgba(225, 225, 225, .5)',\n",
    "        paper_bgcolor=\"#212529\", plot_bgcolor = 'rgba(0, 0, 0, 0)', hoverlabel_bordercolor='#212529',\n",
    "        font=dict(\n",
    "            family=\"Arial, san serif\",\n",
    "            size=15,\n",
    "            color=\"white\"\n",
    "        ) \n",
    "    )\n",
    "fig.write_html('visualization/twentynine.html') \n",
    "fig.show()"
   ]
  },
  {
   "cell_type": "markdown",
   "metadata": {},
   "source": [
    "### Critique v.s Popular opinion\n",
    "Finally we focus on the audience. Streaming services link how people watch movies. Let's compare 1) iMDb audience figures, great for gathering general public opinon, with 2) Rotten Tomatoes, a platform that takes care of simplifying the opinions of critics. In this way we believe can get an idea, if the films on streaming platforms are more appreciated by the public/critics, and we are able to explore the evolution of the trend over time. Finally, to give more context to our data, we build a scatter chart where the points are the titles positioned on the year of release, sorted by public opinion but forgotten by critical opinion.\n",
    "\n",
    "**Conlusion:** Older content has higher Rotten Tomatoes than iMDB Reating. It is interesting that in 1960 there was a dramatic drop in Rotten Tomatoes, but public opinion seems almost unchanged. Exploring the scatterplot we note that the result is caused by an outlier: G.I Blues, one of the worst Rotten Tomatoes scored films (has score 0), but at the same time rated with 68 points by the audienc, that may fancy the Pop icon Elvis Preslei, the protagonist of the film. Similarly, the trend of Rotten Tomatoes decreases compared to iMDb reating in 1995 and 2014, years of the internet explosion; and then it normalizes in 2008, the year in which streaming services appeared."
   ]
  },
  {
   "cell_type": "code",
   "execution_count": null,
   "metadata": {},
   "outputs": [],
   "source": [
    "df = data.copy()\n",
    "df = df[['release_year', 'rottenTomatoes', 'imDbRating']]\n",
    "df.replace('no_data', np.nan, inplace  = True)\n",
    "df.dropna(inplace=True)\n",
    "\n",
    "year = []\n",
    "val_name = []\n",
    "val = []\n",
    "for i, x in df.iterrows():\n",
    "    if x['rottenTomatoes']:\n",
    "        year.append(x['release_year'])\n",
    "        val_name.append('Rotten Tomatoes')\n",
    "        val.append(float(x['rottenTomatoes']))\n",
    "    if x['imDbRating']:\n",
    "        year.append(x['release_year'])\n",
    "        val_name.append('iMDb Rating')\n",
    "        val.append(float(x['imDbRating']))\n",
    "df = pd.DataFrame()\n",
    "df['year'] = year\n",
    "df['val_name'] = val_name\n",
    "df['score'] = val\n",
    "\n",
    "rotten = df.query('val_name == \"Rotten Tomatoes\"')\n",
    "rotten = rotten.groupby('year').mean()\n",
    "rotten['value'] = 'Rotten Tomatoes'\n",
    "\n",
    "rotten.groupby('year')['score'].mean()\n",
    "imdb = df.query('val_name == \"iMDb Rating\"')\n",
    "imdb = imdb.groupby('year').mean()\n",
    "imdb['value'] = 'iMDb Rating'\n",
    "\n",
    "df = pd.concat([rotten, imdb])\n",
    "fig = px.line(df, x=df.index, y='score', color='value', color_discrete_sequence=two_colors)\n",
    "\n",
    "fig.update_traces(marker=dict(line=dict(color='#212529', width=2)), hoverlabel=dict(font_size=14,font_family=\"Arial, san serif\",font_color=\"white\") )\n",
    "\n",
    "fig.update_layout(\n",
    "    margin=margin,\n",
    "    yaxis_title=\"Average by year\",\n",
    "    legend_title=\"Critiques\", yaxis_gridcolor ='rgba(225, 225, 225, .5)',xaxis_showgrid=False, paper_bgcolor=\"#212529\", plot_bgcolor = 'rgba(0, 0, 0, 0)', hoverlabel_bordercolor='#212529', xaxis_title=None,\n",
    "    font=dict(\n",
    "            family=\"Arial, san serif\",\n",
    "            size=15,\n",
    "            color=\"white\"\n",
    "        ) \n",
    "    )\n",
    "fig.write_html('visualization/thirty.html') \n",
    "fig.show()"
   ]
  },
  {
   "cell_type": "code",
   "execution_count": null,
   "metadata": {},
   "outputs": [],
   "source": [
    "df = data.copy()\n",
    "df = df[['title','release_year', 'rottenTomatoes', 'imDbRating', 'amazon', 'netflix']]\n",
    "df.replace('no_data', np.nan, inplace  = True)\n",
    "df.dropna(inplace=True)\n",
    "df = df.astype({'rottenTomatoes':'float','imDbRating':'float'})\n",
    "title = []\n",
    "release_year = []\n",
    "rottenTomatoe = []\n",
    "imdb = []\n",
    "distr = []\n",
    "for i, x in df.iterrows():\n",
    "    if x['amazon'] == 1.0:\n",
    "        title.append(x['title'])\n",
    "        release_year.append(x['release_year'])\n",
    "        rottenTomatoe.append(x['rottenTomatoes'])\n",
    "        imdb.append(x['imDbRating'])\n",
    "        distr.append('Amazon')\n",
    "    if x['netflix'] == 1.0:\n",
    "        title.append(x['title'])\n",
    "        release_year.append(x['release_year'])\n",
    "        rottenTomatoe.append(x['rottenTomatoes'])\n",
    "        imdb.append(x['imDbRating'])\n",
    "        distr.append('Netflix')\n",
    "\n",
    "df = pd.DataFrame()\n",
    "df['title'] = title\n",
    "df['release_year'] = release_year\n",
    "df['rottenTomatoes'] = rottenTomatoe\n",
    "df['imDbRating'] = imdb\n",
    "df['distributer'] = distr\n",
    "fig = px.scatter(df, x='release_year', y='imDbRating', color='rottenTomatoes', hover_name=\"title\", hover_data=['distributer'], color_continuous_scale=colors)\n",
    "fig.update_traces( marker=dict(line=dict(width=2)),textfont=dict(family=\"Arial, san serif\",size=16,color=\"#212529\"),hoverlabel=dict(font_size=14,font_family=\"Arial, san serif\", font_color='white'))\n",
    "\n",
    "fig.update_layout(\n",
    "    margin=margin, xaxis_showgrid=False,\n",
    "    yaxis_title=\"iMDb Reating\", yaxis_gridcolor ='rgba(225, 225, 225, .5)',hoverlabel_bordercolor='#212529',\n",
    "        paper_bgcolor=\"#212529\", plot_bgcolor = 'rgba(0, 0, 0, 0)',\n",
    "        xaxis_title=None,\n",
    "        font=dict(\n",
    "            family=\"Arial, san serif\",\n",
    "            size=15,\n",
    "            color=\"white\"\n",
    "        ) \n",
    "    )\n",
    "fig.layout.coloraxis.colorbar.title = \"Rotten Tomatoes\"\n",
    "fig.write_html('visualization/thirtyone.html') \n",
    "fig.show()"
   ]
  }
 ],
 "metadata": {
  "kernelspec": {
   "display_name": "Python 3.10.6 64-bit",
   "language": "python",
   "name": "python3"
  },
  "language_info": {
   "codemirror_mode": {
    "name": "ipython",
    "version": 3
   },
   "file_extension": ".py",
   "mimetype": "text/x-python",
   "name": "python",
   "nbconvert_exporter": "python",
   "pygments_lexer": "ipython3",
   "version": "3.10.6"
  },
  "orig_nbformat": 4,
  "vscode": {
   "interpreter": {
    "hash": "fcc890248a61aa29917ad25ed6e1da082ea64a10a858752e23cc8a781085928b"
   }
  }
 },
 "nbformat": 4,
 "nbformat_minor": 2
}
