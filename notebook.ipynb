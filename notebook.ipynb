{
 "cells": [
  {
   "cell_type": "markdown",
   "metadata": {},
   "source": [
    "# Abstract \n",
    "\n",
    "Digitization, as one of the key outcomes of technological growth, has led to deep changes in entertainment, the world of cinema, and many other socio-economical areas. As a result, the distribution and broadcasting strategy, that Netflix brought to the market, turned into an amazing success story in a very short lapse of time.\n",
    "\n",
    "Netflix's strategy is based on the idea that consumers can access the platform's entire content catalogue for a monthly price. Additionally, Netflix only broadcasts its films on the web, with no theatrical or limited distribution. This approach, which is vastly different from the classic idea of the Hollywood studio system, has led to advances for audiences, directors and studios in various directions. In this way, we can say that streaming services, such as Netflix, are influencing the film industry in terms of how we access movies, what material we consume and how movies are made. Their dominant position places Internet platforms in a strong decisional position in terms of film content. In the future, this kind of authority could be key in determining what constitutes a \"well-made film\".\n",
    "\n",
    "The impact of Internet streaming services on filmmakers has been one of the most important transformations in the show business in recent years. The promise of a more open environment for filmmakers than other large studios has attracted numerous directors to the platforms, with huge ramifications in the world of cinema. Furthermore, these services have less stringent standards than cinemas, making them attractive to producers. Another important aspect concerns independent directors. Since the 1980s, when Hollywood became the hub of cinema and blockbuster films began to dominate theatres, it has been difficult for independent directors to reach large audiences. Cinemas often prefer high-budget movies as they can profit much more from them. As a result, independent movies have had few opportunities outside of film festivals to date. However, as internet technologies advance, streaming services are becoming major actors in the world of cinema, and independent filmmakers are now facing the opportunity to reach a wider audience.\n",
    "\n",
    "The purpose of our research is to investigate, through data, how streaming platforms have changed movies production. Has the world of production really become fairer?"
   ]
  },
  {
   "cell_type": "markdown",
   "metadata": {},
   "source": [
    "# Data gatering (Everyone)\n",
    "We start from two existing datasets:\n",
    "* [Netflix](https://www.kaggle.com/datasets/shivamb/netflix-shows):it is one of the most popular media and video streaming platforms. They have over 8000 movies or tv shows available on their platform, as of mid-2021, they have over 200M Subscribers globally. This tabular dataset consists of listings of all the movies and tv shows available on Netflix, along with details such as - cast, directors, ratings, release year, duration, etc.\n",
    "\n",
    "* [Amazon prime](https://www.kaggle.com/datasets/shivamb/amazon-prime-movies-and-tv-shows): it is one of the most popular media and video streaming platforms. They have close to 10000 movies or tv shows available on their platform, as of mid-2021, they have over 200M Subscribers globally. This tabular dataset consists of listings of all the movies and tv shows available on Amazon Prime, along with details such as - cast, directors, ratings, release year, duration, etc.*\n",
    "\n"
   ]
  },
  {
   "cell_type": "code",
   "execution_count": 2,
   "metadata": {},
   "outputs": [],
   "source": [
    "import pandas as pd # queried_data processing\n",
    "import pandas_profiling as pp\n",
    "import numpy as np # linear algebra"
   ]
  },
  {
   "cell_type": "code",
   "execution_count": 66,
   "metadata": {},
   "outputs": [
    {
     "name": "stdout",
     "output_type": "stream",
     "text": [
      "8807 9668\n"
     ]
    }
   ],
   "source": [
    "df_netflix = pd.read_csv('Dataset/originalDataset/netflix_titles.csv')\n",
    "df_amazon = pd.read_csv('Dataset/originalDataset/amazon_prime_titles.csv')\n",
    "print(len(df_netflix), len(df_amazon))"
   ]
  },
  {
   "cell_type": "markdown",
   "metadata": {},
   "source": [
    "# Preparing data (Giulia)\n",
    "\n",
    "The first step is to concatenate the Amazon and Netflix datasets while keeping the storage information. We add two columns: netflix and amazon both with a value of 1 or 0 which represent the absence or presence of the title on the platform. To keep the added date information we rename the columns to distinguish the related streaming service, respectively in date_added_netflix and date_added_amazon."
   ]
  },
  {
   "cell_type": "code",
   "execution_count": 67,
   "metadata": {},
   "outputs": [],
   "source": [
    "df_netflix.drop(columns = df_netflix.columns[0], axis = 1, inplace= True)\n",
    "df_netflix['netflix'] = 1\n",
    "df_netflix['amazon'] = 0\n",
    "df_netflix.rename(columns = {'date_added':'date_added_netflix'}, inplace = True)\n",
    "\n",
    "df_amazon.drop(columns = df_amazon.columns[0], axis = 1, inplace= True)\n",
    "df_amazon['amazon'] = 1\n",
    "df_amazon['netflix'] = 0\n",
    "df_amazon.rename(columns = {'date_added':'date_added_amazon'}, inplace = True)"
   ]
  },
  {
   "cell_type": "code",
   "execution_count": 68,
   "metadata": {},
   "outputs": [
    {
     "data": {
      "text/html": [
       "<div>\n",
       "<style scoped>\n",
       "    .dataframe tbody tr th:only-of-type {\n",
       "        vertical-align: middle;\n",
       "    }\n",
       "\n",
       "    .dataframe tbody tr th {\n",
       "        vertical-align: top;\n",
       "    }\n",
       "\n",
       "    .dataframe thead th {\n",
       "        text-align: right;\n",
       "    }\n",
       "</style>\n",
       "<table border=\"1\" class=\"dataframe\">\n",
       "  <thead>\n",
       "    <tr style=\"text-align: right;\">\n",
       "      <th></th>\n",
       "      <th>type</th>\n",
       "      <th>title</th>\n",
       "      <th>director</th>\n",
       "      <th>cast</th>\n",
       "      <th>country</th>\n",
       "      <th>date_added_netflix</th>\n",
       "      <th>release_year</th>\n",
       "      <th>rating</th>\n",
       "      <th>duration</th>\n",
       "      <th>listed_in</th>\n",
       "      <th>description</th>\n",
       "      <th>netflix</th>\n",
       "      <th>amazon</th>\n",
       "      <th>date_added_amazon</th>\n",
       "    </tr>\n",
       "  </thead>\n",
       "  <tbody>\n",
       "    <tr>\n",
       "      <th>0</th>\n",
       "      <td>Movie</td>\n",
       "      <td>Dick Johnson Is Dead</td>\n",
       "      <td>Kirsten Johnson</td>\n",
       "      <td>NaN</td>\n",
       "      <td>United States</td>\n",
       "      <td>September 25, 2021</td>\n",
       "      <td>2020</td>\n",
       "      <td>PG-13</td>\n",
       "      <td>90 min</td>\n",
       "      <td>Documentaries</td>\n",
       "      <td>As her father nears the end of his life, filmm...</td>\n",
       "      <td>1</td>\n",
       "      <td>0</td>\n",
       "      <td>NaN</td>\n",
       "    </tr>\n",
       "    <tr>\n",
       "      <th>1</th>\n",
       "      <td>TV Show</td>\n",
       "      <td>Blood &amp; Water</td>\n",
       "      <td>NaN</td>\n",
       "      <td>Ama Qamata, Khosi Ngema, Gail Mabalane, Thaban...</td>\n",
       "      <td>South Africa</td>\n",
       "      <td>September 24, 2021</td>\n",
       "      <td>2021</td>\n",
       "      <td>TV-MA</td>\n",
       "      <td>2 Seasons</td>\n",
       "      <td>International TV Shows, TV Dramas, TV Mysteries</td>\n",
       "      <td>After crossing paths at a party, a Cape Town t...</td>\n",
       "      <td>1</td>\n",
       "      <td>0</td>\n",
       "      <td>NaN</td>\n",
       "    </tr>\n",
       "    <tr>\n",
       "      <th>2</th>\n",
       "      <td>TV Show</td>\n",
       "      <td>Ganglands</td>\n",
       "      <td>Julien Leclercq</td>\n",
       "      <td>Sami Bouajila, Tracy Gotoas, Samuel Jouy, Nabi...</td>\n",
       "      <td>NaN</td>\n",
       "      <td>September 24, 2021</td>\n",
       "      <td>2021</td>\n",
       "      <td>TV-MA</td>\n",
       "      <td>1 Season</td>\n",
       "      <td>Crime TV Shows, International TV Shows, TV Act...</td>\n",
       "      <td>To protect his family from a powerful drug lor...</td>\n",
       "      <td>1</td>\n",
       "      <td>0</td>\n",
       "      <td>NaN</td>\n",
       "    </tr>\n",
       "  </tbody>\n",
       "</table>\n",
       "</div>"
      ],
      "text/plain": [
       "      type                 title         director  \\\n",
       "0    Movie  Dick Johnson Is Dead  Kirsten Johnson   \n",
       "1  TV Show         Blood & Water              NaN   \n",
       "2  TV Show             Ganglands  Julien Leclercq   \n",
       "\n",
       "                                                cast        country  \\\n",
       "0                                                NaN  United States   \n",
       "1  Ama Qamata, Khosi Ngema, Gail Mabalane, Thaban...   South Africa   \n",
       "2  Sami Bouajila, Tracy Gotoas, Samuel Jouy, Nabi...            NaN   \n",
       "\n",
       "   date_added_netflix  release_year rating   duration  \\\n",
       "0  September 25, 2021          2020  PG-13     90 min   \n",
       "1  September 24, 2021          2021  TV-MA  2 Seasons   \n",
       "2  September 24, 2021          2021  TV-MA   1 Season   \n",
       "\n",
       "                                           listed_in  \\\n",
       "0                                      Documentaries   \n",
       "1    International TV Shows, TV Dramas, TV Mysteries   \n",
       "2  Crime TV Shows, International TV Shows, TV Act...   \n",
       "\n",
       "                                         description  netflix  amazon  \\\n",
       "0  As her father nears the end of his life, filmm...        1       0   \n",
       "1  After crossing paths at a party, a Cape Town t...        1       0   \n",
       "2  To protect his family from a powerful drug lor...        1       0   \n",
       "\n",
       "  date_added_amazon  \n",
       "0               NaN  \n",
       "1               NaN  \n",
       "2               NaN  "
      ]
     },
     "execution_count": 68,
     "metadata": {},
     "output_type": "execute_result"
    }
   ],
   "source": [
    "\n",
    "dataset = pd.concat([df_netflix, df_amazon],axis=0, join=\"outer\", sort=False)\n",
    "dataset = dataset.reset_index(drop=True)\n",
    "dataset.head(3)\n"
   ]
  },
  {
   "cell_type": "markdown",
   "metadata": {},
   "source": [
    "The concatenated dataset has some errors. Shows that are both featured on Netflix and Amazon Prime are recorded twice in our dataset: the first time with netflix information only, the second time only on amazon. We decide to extract year of publication, type (film or TV show) and title name and store them in a triple. We then check the triples that the two datasets have in common and store them in a list called 'title'."
   ]
  },
  {
   "cell_type": "code",
   "execution_count": 69,
   "metadata": {},
   "outputs": [
    {
     "name": "stdout",
     "output_type": "stream",
     "text": [
      "8807 9668\n"
     ]
    }
   ],
   "source": [
    "netflix = []\n",
    "amazon = []\n",
    "\n",
    "def union(df, new):\n",
    "    for  i, x in df['title'].iteritems():\n",
    "        year = df['release_year'][i]\n",
    "        type = df['type'][i]\n",
    "        movie = x\n",
    "        new.append((year, type, movie))\n",
    "    return new\n",
    "\n",
    "union(df_netflix, netflix)\n",
    "union(df_amazon, amazon)\n",
    "\n",
    "print(len(netflix), len(amazon))"
   ]
  },
  {
   "cell_type": "code",
   "execution_count": 70,
   "metadata": {},
   "outputs": [
    {
     "data": {
      "text/plain": [
       "182"
      ]
     },
     "execution_count": 70,
     "metadata": {},
     "output_type": "execute_result"
    }
   ],
   "source": [
    "title = []\n",
    "for (y,t,m) in netflix:\n",
    "    if (y,t,m) in amazon:\n",
    "        title.append((y,t,m))\n",
    "len(title)"
   ]
  },
  {
   "cell_type": "markdown",
   "metadata": {},
   "source": [
    "Finally, we iterate over the concatenated dataset querying only the shared titles, merging Amazon and Netflix information about possession and date of addition.\n",
    "We decide to take description, country and cast information from the Netflix dataset because it was the best compiled of the two. So, at the end of this process, we drop duplicates filtered by title, director, release year and type; keeping the first entries. Then we fill null value with 'No Data'."
   ]
  },
  {
   "cell_type": "code",
   "execution_count": 71,
   "metadata": {},
   "outputs": [],
   "source": [
    "df = dataset.copy()\n",
    "df.replace(np.nan, 'null', inplace=True)\n",
    "to_drop = set()\n",
    "for i, r in df.iterrows(): \n",
    "    if (r['release_year'],r['type'],r['title']) in title:\n",
    "        df.loc[i,'netflix'] = 1\n",
    "        df.loc[i, 'amazon'] = 1\n",
    "        q = df.query('title==\"'+r['title']+'\" & type==\"'+r['type']+'\" & release_year== '+ str(r['release_year']) +'')\n",
    "\n",
    "        null_val = []      \n",
    "        for j, x in q.iterrows():\n",
    "            if x['date_added_netflix'] != 'null':\n",
    "                df.loc[i, 'date_added_netflix'] = x['date_added_netflix']\n",
    "\n",
    "            if x['date_added_amazon'] != 'null':\n",
    "                df.loc[i, 'date_added_amazon'] = x['date_added_amazon']\n",
    "\n",
    "            n = 0 \n",
    "            for i in x.values:\n",
    "                if i == 'null':\n",
    "                    n+=1\n",
    "            null_rate = n / len(x.values) * 100\n",
    "            null_val.append((j,null_rate))\n",
    "        \n",
    "        if len(null_val) >= 2:\n",
    "            row_to_keep = min(null_val, key=lambda tup: tup[1])\n",
    "            null_val.remove(row_to_keep)\n",
    "            for i, x in null_val:\n",
    "                if x != 0.0:\n",
    "                    to_drop.add(i)\n",
    "\n",
    "\n",
    "df = df.drop(to_drop)"
   ]
  },
  {
   "cell_type": "code",
   "execution_count": 72,
   "metadata": {},
   "outputs": [
    {
     "name": "stdout",
     "output_type": "stream",
     "text": [
      "type null rate: 0.01%\n",
      "title null rate: 0.01%\n",
      "director null rate: 25.64%\n",
      "cast null rate: 11.23%\n",
      "country null rate: 52.86%\n",
      "date_added_netflix null rate: 51.91%\n",
      "release_year null rate: 0.01%\n",
      "rating null rate: 1.83%\n",
      "duration null rate: 0.02%\n",
      "listed_in null rate: 0.01%\n",
      "description null rate: 0.01%\n",
      "netflix null rate: 0.01%\n",
      "amazon null rate: 0.01%\n",
      "date_added_amazon null rate: 99.16%\n"
     ]
    }
   ],
   "source": [
    "df.replace( 'null', np.nan, inplace=True)\n",
    "for i in df.columns:\n",
    "    null_rate = df[i].isna().sum() / len(df) * 100 \n",
    "    if null_rate > 0 :\n",
    "        print(\"{} null rate: {}%\".format(i,round(null_rate,2)))"
   ]
  },
  {
   "cell_type": "markdown",
   "metadata": {},
   "source": [
    "From null values score we notice that we miss some information about cast, director and countires. We don't consider the null rate of date_added_netflix column because netflix titles cover half of the dataset so, 52.86% null rate is a normal score. The colum date_added_amazon, on the contrary, has a lot of missing information that we will try to fill during data enrichment fases. "
   ]
  },
  {
   "cell_type": "code",
   "execution_count": 73,
   "metadata": {},
   "outputs": [
    {
     "data": {
      "text/html": [
       "<div>\n",
       "<style scoped>\n",
       "    .dataframe tbody tr th:only-of-type {\n",
       "        vertical-align: middle;\n",
       "    }\n",
       "\n",
       "    .dataframe tbody tr th {\n",
       "        vertical-align: top;\n",
       "    }\n",
       "\n",
       "    .dataframe thead th {\n",
       "        text-align: right;\n",
       "    }\n",
       "</style>\n",
       "<table border=\"1\" class=\"dataframe\">\n",
       "  <thead>\n",
       "    <tr style=\"text-align: right;\">\n",
       "      <th></th>\n",
       "      <th>type</th>\n",
       "      <th>title</th>\n",
       "      <th>director</th>\n",
       "      <th>cast</th>\n",
       "      <th>country</th>\n",
       "      <th>date_added_netflix</th>\n",
       "      <th>release_year</th>\n",
       "      <th>rating</th>\n",
       "      <th>duration</th>\n",
       "      <th>listed_in</th>\n",
       "      <th>description</th>\n",
       "      <th>netflix</th>\n",
       "      <th>amazon</th>\n",
       "      <th>date_added_amazon</th>\n",
       "    </tr>\n",
       "  </thead>\n",
       "  <tbody>\n",
       "    <tr>\n",
       "      <th>0</th>\n",
       "      <td>Movie</td>\n",
       "      <td>Dick Johnson Is Dead</td>\n",
       "      <td>Kirsten Johnson</td>\n",
       "      <td>No Data</td>\n",
       "      <td>United States</td>\n",
       "      <td>September 25, 2021</td>\n",
       "      <td>2020.0</td>\n",
       "      <td>PG-13</td>\n",
       "      <td>90 min</td>\n",
       "      <td>Documentaries</td>\n",
       "      <td>As her father nears the end of his life, filmm...</td>\n",
       "      <td>1.0</td>\n",
       "      <td>0.0</td>\n",
       "      <td>No Data</td>\n",
       "    </tr>\n",
       "    <tr>\n",
       "      <th>1</th>\n",
       "      <td>TV Show</td>\n",
       "      <td>Blood &amp; Water</td>\n",
       "      <td>No Data</td>\n",
       "      <td>Ama Qamata, Khosi Ngema, Gail Mabalane, Thaban...</td>\n",
       "      <td>South Africa</td>\n",
       "      <td>September 24, 2021</td>\n",
       "      <td>2021.0</td>\n",
       "      <td>TV-MA</td>\n",
       "      <td>2 Seasons</td>\n",
       "      <td>International TV Shows, TV Dramas, TV Mysteries</td>\n",
       "      <td>After crossing paths at a party, a Cape Town t...</td>\n",
       "      <td>1.0</td>\n",
       "      <td>0.0</td>\n",
       "      <td>No Data</td>\n",
       "    </tr>\n",
       "    <tr>\n",
       "      <th>2</th>\n",
       "      <td>TV Show</td>\n",
       "      <td>Ganglands</td>\n",
       "      <td>Julien Leclercq</td>\n",
       "      <td>Sami Bouajila, Tracy Gotoas, Samuel Jouy, Nabi...</td>\n",
       "      <td>No Data</td>\n",
       "      <td>September 24, 2021</td>\n",
       "      <td>2021.0</td>\n",
       "      <td>TV-MA</td>\n",
       "      <td>1 Season</td>\n",
       "      <td>Crime TV Shows, International TV Shows, TV Act...</td>\n",
       "      <td>To protect his family from a powerful drug lor...</td>\n",
       "      <td>1.0</td>\n",
       "      <td>0.0</td>\n",
       "      <td>No Data</td>\n",
       "    </tr>\n",
       "  </tbody>\n",
       "</table>\n",
       "</div>"
      ],
      "text/plain": [
       "      type                 title         director  \\\n",
       "0    Movie  Dick Johnson Is Dead  Kirsten Johnson   \n",
       "1  TV Show         Blood & Water          No Data   \n",
       "2  TV Show             Ganglands  Julien Leclercq   \n",
       "\n",
       "                                                cast        country  \\\n",
       "0                                            No Data  United States   \n",
       "1  Ama Qamata, Khosi Ngema, Gail Mabalane, Thaban...   South Africa   \n",
       "2  Sami Bouajila, Tracy Gotoas, Samuel Jouy, Nabi...        No Data   \n",
       "\n",
       "   date_added_netflix  release_year rating   duration  \\\n",
       "0  September 25, 2021        2020.0  PG-13     90 min   \n",
       "1  September 24, 2021        2021.0  TV-MA  2 Seasons   \n",
       "2  September 24, 2021        2021.0  TV-MA   1 Season   \n",
       "\n",
       "                                           listed_in  \\\n",
       "0                                      Documentaries   \n",
       "1    International TV Shows, TV Dramas, TV Mysteries   \n",
       "2  Crime TV Shows, International TV Shows, TV Act...   \n",
       "\n",
       "                                         description  netflix  amazon  \\\n",
       "0  As her father nears the end of his life, filmm...      1.0     0.0   \n",
       "1  After crossing paths at a party, a Cape Town t...      1.0     0.0   \n",
       "2  To protect his family from a powerful drug lor...      1.0     0.0   \n",
       "\n",
       "  date_added_amazon  \n",
       "0           No Data  \n",
       "1           No Data  \n",
       "2           No Data  "
      ]
     },
     "execution_count": 73,
     "metadata": {},
     "output_type": "execute_result"
    }
   ],
   "source": [
    "df['date_added_netflix'].replace(np.nan, 'No Data',inplace  = True)\n",
    "df['date_added_amazon'].replace(np.nan, 'No Data',inplace  = True)\n",
    "df['country'].replace(np.nan, 'No Data',inplace  = True)\n",
    "df['director'].replace(np.nan, 'No Data',inplace  = True)\n",
    "df['cast'].replace(np.nan, 'No Data',inplace  = True)\n",
    "df['rating'].replace(np.nan, 'No Data',inplace  = True)\n",
    "df['title'] = df['title'].replace({'\"':''}, regex=True)\n",
    "df['title'] = df['title'].replace({'\\n':' '}, regex=True)\n",
    "df = df.drop_duplicates(subset=['title','director', 'release_year', 'type'], keep='first')\n",
    "df = df.dropna()\n",
    "df = df.reset_index(drop=True)\n",
    "df.to_csv('data.csv', index=False)\n",
    "\n",
    "df.head(3)"
   ]
  },
  {
   "cell_type": "markdown",
   "metadata": {},
   "source": [
    "# Data enrichment (Camilla)\n",
    "\n",
    "Our data will be enriched using two sources:\n",
    "\n",
    "* [Wikidata](https://www.wikidata.org/wiki/Wikidata:Main_Page):  is a free and open knowledge graph, containing linked information used by the famous online Wikipedia. \n",
    "\n",
    "* [iMdB](https://www.imdb.com/):  the Internet Movie Database is the world's most popular and authoritative source for movies, TV shows and celebrity content, where you can find ratings and reviews by critique and the public.\n",
    "\n",
    "In order to query information, we split our dataset into Movies and TV Shows. Through Wikidata we retrieve missing information from our starting dataset about countries and directors, adding director gender data. In addition, we add interesting information for us such as the gender of the director and the distributor. Finally, we also retrieve the IMDb id of the movie for future queries. The results are stored in two CSV files: one for movies and the other for TV shows.\n",
    "\n",
    "Then we query IMDb's API asking for general information about titles, starting from the id retrieved from Wikidata. From this API we get information about contents languages, keywords, distributors, critique ratings (Rotten Tomatoes) and public ratings (IMDb ratings). The results are then stored in JSON format."
   ]
  },
  {
   "cell_type": "code",
   "execution_count": 3,
   "metadata": {},
   "outputs": [],
   "source": [
    "import pprint #indet json \n",
    "import requests #make http requests\n",
    "import json\n",
    "from qwikidata.sparql  import return_sparql_query_results #return sparql results\n",
    "from SPARQLWrapper import SPARQLWrapper, JSON #questo serve a vedere la struttura delle risposte\n",
    "import ssl\n",
    "from http.client import IncompleteRead\n",
    "import time\n",
    "import urllib.error\n",
    "from textblob import Word"
   ]
  },
  {
   "cell_type": "code",
   "execution_count": 75,
   "metadata": {},
   "outputs": [
    {
     "name": "stdout",
     "output_type": "stream",
     "text": [
      "13784\n"
     ]
    }
   ],
   "source": [
    "movie_title = df.query(\"type == 'Movie'\")\n",
    "print(len(movie_title))\n",
    "\n",
    "# movie_query = \"\"\"\n",
    "#             SELECT ?film_label ?director_label ?dir_gen_label ?distributor_label ?imdbID ?rottenscore\n",
    "#             WHERE\n",
    "#             {\n",
    "#             ?film wdt:P31 wd:Q11424 .\n",
    "#             ?film rdfs:label \"\"\"+'\"'+ x +'\"' +\"\"\"@en .\n",
    "#             ?film rdfs:label ?film_label .\n",
    "#             FILTER(lang(?film_label) = 'en')\n",
    "#             OPTIONAL {?film wdt:P57 ?director . \n",
    "#             ?director rdfs:label ?director_label .    \n",
    "#             FILTER(lang(?director_label) = 'en')\n",
    "#             OPTIONAL {?director wdt:P21 ?dir_gen . \n",
    "#             ?dir_gen rdfs:label ?dir_gen_label .\n",
    "#             FILTER(lang(?dir_gen_label) = 'en')}}\n",
    "#             OPTIONAL {?film wdt:P750 ?distributor . \n",
    "#             ?distributor rdfs:label ?distributor_label .\n",
    "#             FILTER(lang(?distributor_label) = 'en')}\n",
    "#             OPTIONAL {?film wdt:P345 ?imdbID.}\n",
    "#             OPTIONAL {?film wdt:P444 ?rottenscore.}\n",
    "#             }\n",
    "#             \"\"\""
   ]
  },
  {
   "cell_type": "code",
   "execution_count": 76,
   "metadata": {},
   "outputs": [
    {
     "name": "stdout",
     "output_type": "stream",
     "text": [
      "4505\n"
     ]
    }
   ],
   "source": [
    "tv_series = df.query(\"type == 'TV Show'\")\n",
    "print(len(tv_series))\n",
    "\n",
    "# tv_series_query = \"\"\"\n",
    "#             SELECT ?series_label ?director_label ?dir_gen_label ?distributor_label ?imdbID ?rottenscore\n",
    "#             WHERE\n",
    "#             {\n",
    "#             ?series wdt:P31 wd:Q5398426 .\n",
    "#             ?series rdfs:label \"\"\"+'\"'+ x +'\"' +\"\"\"@en .\n",
    "#             ?series rdfs:label ?series_label .\n",
    "#             FILTER(lang(?series_label) = 'en')\n",
    "#             OPTIONAL {?series wdt:P57 ?director . \n",
    "#             ?director rdfs:label ?director_label .    \n",
    "#             FILTER(lang(?director_label) = 'en')\n",
    "#             OPTIONAL {?director wdt:P21 ?dir_gen . \n",
    "#             ?dir_gen rdfs:label ?dir_gen_label .\n",
    "#             FILTER(lang(?dir_gen_label) = 'en')}}\n",
    "#             OPTIONAL {?series wdt:P449 ?distributor . \n",
    "#             ?distributor rdfs:label ?distributor_label .\n",
    "#             FILTER(lang(?distributor_label) = 'en')}\n",
    "#             OPTIONAL {?series wdt:P345 ?imdbID.}\n",
    "#             OPTIONAL {?series wdt:P444 ?rottenscore.}\n",
    "#             }\n",
    "#             \"\"\""
   ]
  },
  {
   "cell_type": "code",
   "execution_count": 77,
   "metadata": {},
   "outputs": [],
   "source": [
    "# def wikidata(data, query):\n",
    "\n",
    "#     title = []\n",
    "#     director = []\n",
    "#     gender = []\n",
    "#     distributor = []\n",
    "#     imdbID = []\n",
    "#     rottenscore = []\n",
    "#     not_found = []\n",
    "\n",
    "    \n",
    "#     # get the endpoint API\n",
    "#     wikidata_endpoint = \"https://query.wikidata.org/bigdata/namespace/wdq/sparql\"\n",
    "        \n",
    "\n",
    "#     for x in data():\n",
    "        \n",
    "#         try:\n",
    "#             my_SPARQL_query = query\n",
    "#             # set the endpoint \n",
    "#             sparql_wd = SPARQLWrapper(wikidata_endpoint)\n",
    "#             # set the query\n",
    "#             sparql_wd.setQuery(my_SPARQL_query)\n",
    "#             # set the returned format\n",
    "#             sparql_wd.setReturnFormat(JSON)\n",
    "#             # get the results\n",
    "            \n",
    "#             results = sparql_wd.query().convert()\n",
    "\n",
    "#             if results['results']['bindings'] == []:\n",
    "#                 not_found.append(\"\"+x+\"\")\n",
    "                \n",
    "#             else:\n",
    "#                 title.append(results['results']['bindings'][0]['film_label']['value'])\n",
    "#                 if \"director_label\" in results['results']['bindings'][0]:\n",
    "#                     director.append(results['results']['bindings'][0]['director_label']['value'])\n",
    "#                 else:\n",
    "#                     director.append(\"no_data\")\n",
    "#                 if \"dir_gen_label\" in results['results']['bindings'][0]:\n",
    "#                     gender.append(results['results']['bindings'][0]['dir_gen_label']['value'])\n",
    "#                 else:\n",
    "#                     gender.append(\"no_data\")\n",
    "#                 if \"distributor_label\" in results['results']['bindings'][0]:\n",
    "#                     distributor.append(results['results']['bindings'][0]['distributor_label']['value'])\n",
    "#                 else:\n",
    "#                     distributor.append(\"no_data\")\n",
    "#                 if \"imdbID\" in results['results']['bindings'][0]:\n",
    "#                     imdbID.append(results['results']['bindings'][0]['imdbID']['value'])\n",
    "#                 else:\n",
    "#                     imdbID.append(\"no_data\")\n",
    "#                 if \"rottenscore\" in results['results']['bindings'][0]:\n",
    "#                     rottenscore.append(results['results']['bindings'][0]['rottenscore']['value'])\n",
    "#                 else:\n",
    "#                     rottenscore.append(\"no_data\")\n",
    "                \n",
    "#         except urllib.error.HTTPError as e:\n",
    "#             time.sleep((int(e.headers[\"retry-after\"])) + 1)\n",
    "#             error_title = query.index(x)\n",
    "#             wikidata(query[error_title:])\n",
    "\n",
    "#     df = {\"id\": imdbID, \"title\": title, \"director\": director, \"director_gender\": gender, \"distributor\": distributor, \"rating score\": rottenscore}\n",
    "#     return df\n",
    "            \n",
    "# movie_wiki = wikidata(movie_title['title'], movie_query)\n",
    "# movie_wiki.to_csv('Dataset/query_results_data/wikidata_query_results/movie.csv', index = False)\n",
    "# serie_wiki = wikidata(tv_series['title'], tv_series_query)\n",
    "# serie_wiki.to_csv('Dataset/query_results_data/wikidata_query_results/TVShows.csvv', index = False)"
   ]
  },
  {
   "cell_type": "code",
   "execution_count": 78,
   "metadata": {},
   "outputs": [
    {
     "name": "stdout",
     "output_type": "stream",
     "text": [
      "6666 1969\n"
     ]
    }
   ],
   "source": [
    "movie_wiki = pd.read_csv('Dataset/query_results_data/wikidata_query_results/movie.csv')\n",
    "serie_wiki = pd.read_csv('Dataset/query_results_data/wikidata_query_results/TVShows.csv')\n",
    "\n",
    "print(len(movie_wiki), len(serie_wiki))"
   ]
  },
  {
   "cell_type": "code",
   "execution_count": 79,
   "metadata": {},
   "outputs": [],
   "source": [
    "# def imdb(data, filename):\n",
    "#     json_list = []\n",
    "#     for id in data:\n",
    "\n",
    "#         url = \"https://imdb-api.com/en/API/UserRatings/k_2xtxoo0v/\"+id+\"\"\n",
    "\n",
    "#         resp = requests.get(url)\n",
    "#         data = resp.json()\n",
    "#         json_list.append(data)\n",
    "\n",
    "#         with open(filename, 'w') as file_object:  #open the file in write mode\n",
    "#             json.dump(json_list, file_object)\n",
    "\n",
    "# imdb(movie_wiki['id'].to_list(), 'movie.json')\n",
    "# imdb(serie_wiki['id'].to_list(), 'series.json')\n"
   ]
  },
  {
   "cell_type": "code",
   "execution_count": 80,
   "metadata": {},
   "outputs": [],
   "source": [
    "f = open('Dataset/query_results_data/imdb_query_results/movie.json')\n",
    "movie_imdb = json.load(f)\n",
    "\n",
    "f = open('Dataset/query_results_data/imdb_query_results/series.json')\n",
    "serie_imdb = json.load(f)"
   ]
  },
  {
   "cell_type": "markdown",
   "metadata": {},
   "source": [
    "# Data Cleaning (Giulia)\n",
    "In order to clean the data, we first merge IMDb results with Wikidata results through the function query_union(). Then we fill our starting dataset using the function reconciliation(). Then, we replace any 'No Data', '', 'no_data' and 'None' strings with null values. We normalize to singular duration information that was expressed with 'Serie', 'Series' and 'min' values to keep only 'Serie' and 'min' values. Then we drop brackets from 'distributor' columns since IMDb had stored the data as stringified lists, so as to get a comma-separated list of directors. Finally we proceed to control the rate of the null value occurring."
   ]
  },
  {
   "cell_type": "code",
   "execution_count": 81,
   "metadata": {},
   "outputs": [],
   "source": [
    "def query_union(imdb, wiki):\n",
    "    for x in range(len(imdb)):\n",
    "        id = imdb[x]['id']\n",
    "        if id:\n",
    "            row = wiki.query('id == \"'+id+'\"')\n",
    "            index = row.index.values\n",
    "            if len(index) != 0:\n",
    "                index = row.index.values[0]\n",
    "                wiki.loc[index, 'title_imdb'] = imdb[x]['title']\n",
    "                wiki.loc[index, 'release_date'] = imdb[x]['releaseDate']\n",
    "\n",
    "                wiki.loc[index, 'directors'] = imdb[x]['directors']\n",
    "                wiki.loc[index, 'cast'] = imdb[x]['stars']\n",
    "\n",
    "                if wiki._get_value(index, 'distributor') == 'no_data':\n",
    "                    wiki.loc[index, 'distributor'] = imdb[x]['companies']\n",
    "\n",
    "                wiki.loc[index, 'countries'] = imdb[x]['countries']\n",
    "                wiki.loc[index, 'languages'] = imdb[x]['languages']\n",
    "                wiki.loc[index, 'rating'] = imdb[x]['contentRating']\n",
    "                \n",
    "                wiki.loc[index, 'imDbRating'] = imdb[x]['imDbRating']\n",
    "                wiki.loc[index, 'imDbRatingVotes'] = imdb[x]['imDbRatingVotes']\n",
    "\n",
    "                if wiki._get_value(index, 'rating score') == 'no_data':\n",
    "                    if imdb[x]['ratings']:\n",
    "                        wiki.loc[index, 'rating score'] = imdb[x]['ratings']['rottenTomatoes']\n",
    "\n",
    "                if imdb[x]['boxOffice']:\n",
    "                    wiki.loc[index, 'budget'] = imdb[x]['boxOffice']['budget']\n",
    "                    wiki.loc[index, 'cumulativeWorldwideGross'] = imdb[x]['boxOffice']['cumulativeWorldwideGross']\n",
    "\n",
    "                wiki.loc[index, 'keywords'] = imdb[x]['keywords']\n",
    "                wiki.loc[index, 'awards'] = imdb[x]['awards']\n",
    "    \n",
    "    d = wiki\n",
    "    return d\n",
    "\n",
    "movie = query_union(movie_imdb, movie_wiki)\n",
    "movie[\"release_date\"] = pd.to_datetime(movie['release_date'])\n",
    "movie['relese_year'] = movie['release_date'].dt.year\n",
    "\n",
    "serie = query_union(serie_imdb, serie_wiki)\n",
    "serie[\"release_date\"] = pd.to_datetime(serie['release_date'])\n",
    "serie['relese_year'] = serie['release_date'].dt.year"
   ]
  },
  {
   "cell_type": "code",
   "execution_count": null,
   "metadata": {},
   "outputs": [],
   "source": [
    "def reconciliation(starting_data, queried_data, type):\n",
    "    for i, r in starting_data.iterrows():\n",
    "        results = queried_data['title'].to_list()\n",
    "        if r['type'] == type:\n",
    "            if r['title'] in results:\n",
    "                index = results.index(r['title'])\n",
    "\n",
    "                starting_data.loc[i, 'imdb_id'] = queried_data._get_value(index, 'id')\n",
    "                starting_data.loc[i, 'languages'] = queried_data._get_value(index, 'languages')\n",
    "                starting_data.loc[i, 'director_gender'] = queried_data._get_value(index, 'director gender')\n",
    "\n",
    "                starting_data.loc[i, 'distributor'] = queried_data._get_value(index, 'distributor')\n",
    "                starting_data.loc[i, 'imDbRating'] = queried_data._get_value(index, 'imDbRating')\n",
    "                starting_data.loc[i, 'imDbRatingVotes'] = queried_data._get_value(index, 'imDbRatingVotes')\n",
    "                starting_data.loc[i, 'rottenTomatoes'] = queried_data._get_value(index, 'rating score')\n",
    "\n",
    "                starting_data.loc[i, 'budget'] = queried_data._get_value(index, 'budget')\n",
    "                starting_data.loc[i, 'gross'] = queried_data._get_value(index, 'cumulativeWorldwideGross')\n",
    "                starting_data.loc[i, 'keywords'] = queried_data._get_value(index, 'keywords')\n",
    "                starting_data.loc[i, 'awards'] = queried_data._get_value(index, 'awards')\n",
    "                \n",
    "                if r['director'] == 'No Data':\n",
    "                    starting_data.loc[i, 'director'] = queried_data._get_value(index, 'director')\n",
    "                elif pd.isna(r['director']):\n",
    "                    starting_data.loc[i, 'directors'] = queried_data._get_value(index, 'directors')\n",
    "\n",
    "                if r['country'] == 'No Data':\n",
    "                    starting_data.loc[i, 'country'] = queried_data._get_value(index, 'countries')\n",
    "                if r['rating'] == 'No Data':\n",
    "                    starting_data.loc[i, 'rating'] = queried_data._get_value(index, 'rating')\n",
    "                if r['cast'] == 'No Data':\n",
    "                    starting_data.loc[i, 'cast'] = queried_data._get_value(index, 'cast')\n",
    "\n",
    "                if r['date_added_netflix'] == 'No Data' and r['netflix'] == 1.0 and queried_data._get_value(index, 'relese_year') > 2006.0:\n",
    "                    starting_data.loc[i, 'date_added_netflix'] = queried_data._get_value(index, 'release_date')\n",
    "\n",
    "                if r['date_added_amazon'] == 'No Data' and r['amazon'] == 1.0 and queried_data._get_value(index, 'relese_year') > 2006.0:\n",
    "                    starting_data.loc[i, 'date_added_amazon'] = queried_data._get_value(index, 'release_date')\n",
    "\n",
    "    final_dataset = starting_data\n",
    "    return final_dataset\n",
    "\n",
    "working = reconciliation(df, movie, 'Movie')\n",
    "final = reconciliation(working, serie, 'TV Show')\n",
    "\n",
    "final.replace( 'No Data', np.nan, inplace=True)\n",
    "final.replace( 'None', np.nan, inplace=True)\n",
    "final.replace( '', np.nan, inplace=True)\n",
    "final.replace( 'no_data', np.nan, inplace=True)\n",
    "final.dropna(subset=['imdb_id'], inplace=True)\n",
    "final.reset_index(drop=True, inplace=True)\n",
    "final = final[['type', 'imdb_id', 'title', 'director','director_gender', 'cast', 'distributor', 'country', 'languages','release_year', 'rating', 'duration', 'listed_in', 'netflix', 'amazon', 'date_added_netflix', 'date_added_amazon', 'imDbRating', 'imDbRatingVotes','rottenTomatoes', 'budget', 'gross', 'description', 'keywords', 'awards']]\n",
    "final['distributor'] = final['distributor'].str.replace(r\"['()']\",\"\")\n",
    "final['duration'] = final['duration'].apply(lambda w: Word(w).singularize())\n"
   ]
  },
  {
   "cell_type": "code",
   "execution_count": 83,
   "metadata": {},
   "outputs": [
    {
     "name": "stdout",
     "output_type": "stream",
     "text": [
      "director null rate: 15.92%\n",
      "director_gender null rate: 27.59%\n",
      "cast null rate: 0.23%\n",
      "distributor null rate: 23.03%\n",
      "country null rate: 13.75%\n",
      "languages null rate: 24.06%\n",
      "rating null rate: 0.01%\n",
      "date_added_netflix null rate: 39.87%\n",
      "date_added_amazon null rate: 84.16%\n",
      "imDbRating null rate: 22.87%\n",
      "imDbRatingVotes null rate: 22.87%\n",
      "rottenTomatoes null rate: 53.32%\n",
      "budget null rate: 78.98%\n",
      "gross null rate: 68.44%\n",
      "keywords null rate: 27.62%\n",
      "awards null rate: 50.54%\n"
     ]
    }
   ],
   "source": [
    "for i in final.columns:\n",
    "    null_rate = final[i].isna().sum() / len(final) * 100 \n",
    "    if null_rate > 0 :\n",
    "        print(\"{} null rate: {}%\".format(i,round(null_rate,2)))"
   ]
  },
  {
   "cell_type": "code",
   "execution_count": 84,
   "metadata": {},
   "outputs": [],
   "source": [
    "final_dataset = final.copy()"
   ]
  },
  {
   "cell_type": "markdown",
   "metadata": {},
   "source": [
    "From the score of the null values ​​we note that the null values ​​of the director's data drop from 25.64% to 15.92%. National data also improved from a zero rate of 52.86% to 13.75%. Netflix added date reaches a score of 39.87% while amazon added date reaches 84.16%.\n",
    "The null transmission rate is almost completely filled in.\n",
    "\n",
    "Regarding the data coming from the queries, we see the gender of the director, the distributor, the languages, imDb rating, imDbRating votes and the keywords as the best compiled. In contrast, Rotten Tomatoes, budgets, gross, and awards cover less than half of the dataset, but we have decided to keep that information as it could be helpful in understanding the impact of streaming services on the film industry.\n",
    "\n",
    "At this point we analyze our data to understand the type of normalization process to be applied and if it is possible to fill in the missing information starting from the records of other columns.\n",
    "\n",
    "### Director Gender - 27% null to 18.92%  (Giulia)\n",
    "\n",
    "Director gender could be compiled starting from director records. We use the library [gender-guesser](https://pypi.org/project/gender-guesser/), in order to get the gender from the director's names. This library converts any English name into its gender retrieving six types of results: male, female, mostly_male, mostly_female, unknown and andy  (be used for both genders). We decide to transform mostly_male into male, mostly_female into female, andy is split half  into female and half into male. As for unknowns, we decide to keep them as attention-worth information."
   ]
  },
  {
   "cell_type": "code",
   "execution_count": 85,
   "metadata": {},
   "outputs": [],
   "source": [
    "import gender_guesser.detector as gender\n",
    "d = gender.Detector()\n",
    "missing_gender = final_dataset.query('director.notnull() & director_gender.isnull()')"
   ]
  },
  {
   "cell_type": "code",
   "execution_count": 86,
   "metadata": {},
   "outputs": [],
   "source": [
    "andy = 0\n",
    "for  index, name in missing_gender['director'].iteritems(): \n",
    "    if not pd.isna(name):\n",
    "        full_names = name.split(', ')\n",
    "        genders = []\n",
    "        for i in full_names:\n",
    "            name = i.split()[0]\n",
    "            if '.' in name:\n",
    "                name = i.split()[1]\n",
    "            gender = d.get_gender(name)\n",
    "            if gender == 'mostly_male':\n",
    "                gender = 'male'\n",
    "            elif gender == 'mostly_female':\n",
    "                gender = 'female'\n",
    "            elif gender == 'andy':\n",
    "                if (andy % 2) == 0:\n",
    "                    gender = 'male'\n",
    "                else:\n",
    "                    gender = 'female'\n",
    "                andy += 1\n",
    "            genders.append(gender)\n",
    "        final_dataset.loc[index, 'director_gender'] = ', '.join(genders)"
   ]
  },
  {
   "cell_type": "markdown",
   "metadata": {},
   "source": [
    "### Languages - 22.76% null to 13.75%   (Giulia)\n",
    "\n",
    "Langauges cold be compiled form country data. We use two library: [CountryInfo](https://pypi.org/project/countryinfo/) and [Babel](https://babel.pocoo.org/en/latest/). First we get the list of spoken languages in each country, using CountryInfo's module .languages() that retrieves its iso-alpha code. Finally, we convert it with the results in languages name using .get_language_name('lang') module. During this process we must deal with two problems: some countries are not present in the CountryInfo dataset, and some iso-alpha codes are not converted by Babel. To overcome them, we manually compile the dataset creating the LANG_MAPPING dictionary. "
   ]
  },
  {
   "cell_type": "code",
   "execution_count": 87,
   "metadata": {},
   "outputs": [],
   "source": [
    "from countryinfo import CountryInfo\n",
    "from babel import Locale\n",
    "missing_languages = final_dataset.query('country.notnull() & languages.isnull()')\n",
    "\n",
    "LANG_MAPPING = {\n",
    "    'Soviet Union' : 'Russian',\n",
    "    'Bahamas': 'English',\n",
    "    'Kosovo': 'Albanian, Serbian',\n",
    "    'South Africa': 'English',\n",
    "    'United Kingdom': 'English',\n",
    "    'gn': 'Guarani',\n",
    "    'nr': 'South Ndebele',\n",
    "    'st': 'Sotho',\n",
    "    'tn': 'Tswana',\n",
    "    'ts' : 'Tsonga',\n",
    "    've' : 'Venda',\n",
    "}"
   ]
  },
  {
   "cell_type": "code",
   "execution_count": 88,
   "metadata": {},
   "outputs": [],
   "source": [
    "for index, x in missing_languages['country'].iteritems():\n",
    "    if not pd.isna(x):\n",
    "        to_add = set()\n",
    "        l = x.split(', ')\n",
    "        for i in range(len(l)):\n",
    "            name = l[i].replace(',', '')\n",
    "            if name in LANG_MAPPING.keys():\n",
    "                lang = LANG_MAPPING[name]\n",
    "                to_add.add(lang)\n",
    "            else:\n",
    "                country = CountryInfo(name)\n",
    "                data = country.languages()\n",
    "                list = set()\n",
    "                for item in data:\n",
    "                    if item in LANG_MAPPING.keys():\n",
    "                        lang = LANG_MAPPING[item]\n",
    "                        list.add(lang)\n",
    "                    else:\n",
    "                        language = Locale.parse(item)\n",
    "                        language = language.get_language_name('en')\n",
    "                        list.add(language)\n",
    "                to_add.add(', '.join(list)) \n",
    "\n",
    "        final_dataset.loc[index, 'languages'] = ', '.join(to_add)"
   ]
  },
  {
   "cell_type": "markdown",
   "metadata": {},
   "source": [
    "### Keywords - 26.47% null to 0%  (Giulia)\n",
    "\n",
    "Keywords missing data could be compiled starting from titles' descriptions. To do that we use [Spacy](https://spacy.io), a natural language processing library. We decide to keep any world annotated by this library as a noun (NOUN) and pronoun (PROPN).\n"
   ]
  },
  {
   "cell_type": "code",
   "execution_count": 89,
   "metadata": {},
   "outputs": [],
   "source": [
    "import spacy\n",
    "keywords_to_find = final_dataset.query('keywords.isnull() and description.notnull()')\n",
    "NER = spacy.load(\"en_core_web_sm\")\n",
    "to_take = ['NOUN', 'PROPN']\n",
    "keywords = []\n",
    "for index, x in keywords_to_find['description'].iteritems():\n",
    "    parsed = NER(x)\n",
    "    tokens = []\n",
    "    for token in parsed:\n",
    "        if token.pos_ in to_take:\n",
    "            if token.text not in tokens:\n",
    "                tokens.append(token.text)\n",
    "    keys = ','.join(tokens)\n",
    "    final_dataset.loc[index, 'keywords']  = keys"
   ]
  },
  {
   "cell_type": "markdown",
   "metadata": {},
   "source": [
    "### Rating - normalization   (Camilla)\n",
    "We normalize rating information grouping the various categories into six macro categories: kids all, older kids 7+, teens 13+, young adults 16+, adults 18+ and unrated."
   ]
  },
  {
   "cell_type": "code",
   "execution_count": 90,
   "metadata": {},
   "outputs": [],
   "source": [
    "for index, rating in final_dataset['rating'].iteritems():\n",
    "    if not pd.isna(rating):\n",
    "        if rating == 'ALL'or rating == 'TV-G'or rating == 'TV-Y'or rating == 'G':\n",
    "            final_dataset.loc[index, 'rating']  = 'Kids All'\n",
    "        elif rating == '7+'or rating == 'PG'or rating == 'TV-PG'or rating == 'TV-Y7'or rating == 'TV-Y7-FV' :\n",
    "            final_dataset.loc[index, 'rating']  = 'Older Kids 7+'\n",
    "        elif rating == '13+'or rating == 'PG-13' :\n",
    "            final_dataset.loc[index, 'rating']  = 'Teens 13+'\n",
    "        elif rating == '16'or rating == '16+'or rating == 'AGES_16_'or rating == 'TV-14':\n",
    "            final_dataset.loc[index, 'rating']  = 'Young Adults 16+'\n",
    "        elif rating == '18+'or rating == 'AGES_18_'or rating == 'TV-MA'or rating == 'NC-17' or rating == 'R':\n",
    "            final_dataset.loc[index, 'rating']  = 'Adults 18+'\n",
    "        elif rating == 'NR'or rating == 'UNRATED'or rating == 'UR'or rating == 'NOT_RATE' or rating == 'TV-NR':\n",
    "            final_dataset.loc[index, 'rating']  = 'Unrated'"
   ]
  },
  {
   "cell_type": "markdown",
   "metadata": {},
   "source": [
    "### Listed in - normalization   (Giulia)\n",
    "\n",
    "Amazon and Netflix use to list titles into genre macro categories. They use different names, sometimes differentiating contents genre if it deals with TV Shows or Movies. In order to normalize the titles' genre information we first normalize them to the singular form, and then we convert the results using the GEN_MAPPING dictionary."
   ]
  },
  {
   "cell_type": "code",
   "execution_count": 91,
   "metadata": {},
   "outputs": [],
   "source": [
    "GEN_MAPPING = {\n",
    "    'Lgbtq movie': 'Lgbtq',\n",
    "    'Suspense':'Thriller',\n",
    "     'Sports movie':'Sport',\n",
    "     'Anime feature':'Anime',\n",
    "     'Anime series':'Anime',\n",
    "    'International movie':'International',\n",
    "    'International tv show':'International',\n",
    "     'Science fiction': 'Sci-fi & fantasy',\n",
    "      'Tv sci-fi & fantasy':'Sci-fi & fantasy',\n",
    "    'Fantasy':'Sci-fi & fantasy',\n",
    "     'Tv drama' : 'Drama',\n",
    "    'Horror movie':'Horror',\n",
    "    'Tv horror' :'Horror',\n",
    "    'Adventure':'Action & adventure',\n",
    "    'Action':'Action & adventure',\n",
    "    'Tv action & adventure':'Action & adventure',\n",
    "    'Romantic movie':'Romance',\n",
    "    'Faith and spirituality':'Faith & spirituality',\n",
    "     'Arthouse': 'Art',\n",
    "       'And culture': 'Art',\n",
    "    'Movie':'Classic & cult',\n",
    "    'Special interest':'Independent', \n",
    "    'Kid':'Children & family',\n",
    "     'Young adult audience':'Teen',\n",
    "     'Teen tv show':'Teen',\n",
    "     'Children & family movie':'Children & family',\n",
    "     \"Kid's tv\":'Children & family',\n",
    "     \"Kids' tv\":'Children & family',\n",
    "     'Stand-up comedy': 'Stand-up comedy & talk show',\n",
    "     'Tv thriller':'Thriller',\n",
    "     'Tv comedy': 'Commedy',\n",
    "     'Comedy':'Commedy',\n",
    "     'Classic movie': 'Classic & cult',\n",
    "     'Classic & cult tv': 'Classic & cult',\n",
    "     'Cult movie': 'Classic & cult',\n",
    "     'Docuseries':'Documentary',\n",
    "     'Romantic tv show':'Romance',\n",
    "     'Crime tv show':'Crime & mystery',\n",
    "     'Tv mystery':'Crime & mystery',\n",
    "     'Tv show': 'Reality',\n",
    "     'Reality tv': 'Reality',\n",
    "     'Science & nature tv': 'Science & nature',\n",
    "     'Indipendent movie':'Indipendent',\n",
    "     'Music videos and concert':'Music & musical',\n",
    "     'Spanish-language tv show': 'International',\n",
    "     'Korean tv show': 'International',\n",
    "     'British tv show': 'International',\n",
    "     'Independent movie':'Independent'\n",
    "\n",
    "    }"
   ]
  },
  {
   "cell_type": "code",
   "execution_count": 92,
   "metadata": {},
   "outputs": [],
   "source": [
    "df = pd.DataFrame()\n",
    "\n",
    "df['genre'] = final_dataset['listed_in'].apply(lambda x :  x.replace(' ,',',').replace(', ',',').split(',')) \n",
    "for index, i in df['genre'].iteritems(): \n",
    "    for n in range(len(i)):\n",
    "        w = i[n]\n",
    "        w = Word(w).singularize().capitalize()\n",
    "        if w in GEN_MAPPING.keys():       \n",
    "            w = GEN_MAPPING[w]\n",
    "        i = i[:n]+[w]+i[n+1:]\n",
    "    final_dataset.loc[index, 'listed_in'] = ', '.join(i)\n"
   ]
  },
  {
   "cell_type": "markdown",
   "metadata": {},
   "source": [
    "### Distributor - normalization  (Giulia)\n",
    "\n",
    "We notce that in iMDb distributor data, Amazon was recoded using different names, refering to the company department responsable for the title distribution. As we wanna keep only cumulative information we convert any of those strings in Amazon Prime."
   ]
  },
  {
   "cell_type": "code",
   "execution_count": 93,
   "metadata": {},
   "outputs": [],
   "source": [
    "final_dataset['distributor'].replace(  np.nan, 'no_data', inplace=True)"
   ]
  },
  {
   "cell_type": "code",
   "execution_count": 94,
   "metadata": {},
   "outputs": [],
   "source": [
    "df = pd.DataFrame()\n",
    "Types = set()\n",
    "df['distr'] = final_dataset['distributor'].apply(lambda x :  x.replace(' ,',',').replace(', ',',').split(',')) \n",
    "for index, i in df['distr'].iteritems(): \n",
    "    for n in range(len(i)):\n",
    "        w = i[n]\n",
    "        if 'Amazon' in w or 'amazon' in w:\n",
    "            w = 'Amazon Prime'\n",
    "        i = i[:n]+[w]+i[n+1:]\n",
    "    final_dataset.loc[index, 'distributor'] = ', '.join(i)"
   ]
  },
  {
   "cell_type": "markdown",
   "metadata": {},
   "source": [
    "### Rotten Tomatoes and iMDb Ratings - normalization  (Camilla)\n",
    "Rotten Tomatoes data was sometimes expressed as a percentage, sometimes in fractional form. They are also of type string and not numeric. We, therefore, decided to convert them into percentages of type float. IMDb Ratings were expressed as float form value 0 to 10. In order to prepare data for analysis, we diced to also convert  IMDb Ratings into percentages."
   ]
  },
  {
   "cell_type": "code",
   "execution_count": 95,
   "metadata": {},
   "outputs": [],
   "source": [
    "for  index, vote in final_dataset['rottenTomatoes'].iteritems():\n",
    "    if not pd.isna(vote) and type(vote) != float:\n",
    "        l = (vote.split())\n",
    "        if len(l) > 1:\n",
    "            l.remove('of')\n",
    "            val = float(l[0])*100//float(l[1])\n",
    "        if '%' in vote:\n",
    "            val = float(vote.replace('%', ''))\n",
    "        elif '/' in vote:\n",
    "            l = vote.split('/')\n",
    "            val = float(l[0]) * 100 // float(l[1])\n",
    "        else:\n",
    "            val = float(l[0])\n",
    "            \n",
    "        final_dataset.loc[index, 'rottenTomatoes'] = val\n",
    "\n",
    "for  index, imbdvote in final['imDbRating'].iteritems():\n",
    "    if pd.notnull(imbdvote):\n",
    "        val = float(imbdvote)*10\n",
    "        final_dataset.loc[index, 'imDbRating'] = val"
   ]
  },
  {
   "cell_type": "markdown",
   "metadata": {},
   "source": [
    "### Awards - normalization  (Giulia)\n",
    "\n",
    "Awards were expressed as strings containing the first half a well-known award name (such as Oscars), information on the status of the award (if the title was nominated or it actually won the award), and the total number of prizes or nominations received. In the second half, there is the recorded total amount of nominations and prizes won by that title from any kind of competition or contest. We split this data into five columns: special_award_name, special_award_tot, special_award_stat, award_win_tot and award_nomination_tot."
   ]
  },
  {
   "cell_type": "code",
   "execution_count": 96,
   "metadata": {},
   "outputs": [],
   "source": [
    "for  index, x in final_dataset['awards'].iteritems():\n",
    "    if not pd.isna(x) and x != '':\n",
    "        list = x.split(\", \")\n",
    "        \n",
    "        k = list[0]\n",
    "\n",
    "        special = k.split('|')\n",
    "\n",
    "        nameA =[]\n",
    "        tot = []\n",
    "        stat= []\n",
    "        for item in special:     \n",
    "            l = item.split()\n",
    "            \n",
    "            if 'for' in l:\n",
    "                l.remove('for')\n",
    "\n",
    "            if 'Top' not in l and len(l) > 1:\n",
    "                stat.append(l[0])\n",
    "                tot.append(l[1])\n",
    "                name = ' '.join(l[2:])\n",
    "                name = name.removesuffix('s')\n",
    "                nameA.append(name)\n",
    "                \n",
    "            elif 'Top' in l and len(l) > 1:\n",
    "                tot.append('1')\n",
    "                name = ' '.join(l[:3])\n",
    "                nameA.append(name)\n",
    "                stat.append('nn')\n",
    "                \n",
    "            else:\n",
    "                if l[0] != 'Nominated' and l[0] != 'Won':\n",
    "                    nameA.append(l[0])\n",
    "                    tot.append('1')\n",
    "                    stat.append('nn')\n",
    "                    \n",
    "        final_dataset.loc[index, 'special_award_name']  = ', '.join(nameA)\n",
    "        final_dataset.loc[index, 'special_award_tot']  = ', '.join(tot)\n",
    "        final_dataset.loc[index, 'special_award_stat']  = ', '.join(stat)\n",
    "\n",
    "        w = list[1].split('&')\n",
    "        win_tot = []\n",
    "        nomination_tot = []\n",
    "        \n",
    "        for n in range(len(w)):\n",
    "            if 'win' in  w[n]  and 'nominations' not in w[n]:\n",
    "                nom = w[n].split()\n",
    "                win_tot.append(int(nom[0]))\n",
    "            if 'nomination' in w[n] and 'win' not in w[n]:\n",
    "                win = w[n].split()\n",
    "                nomination_tot.append(int(win[0]))\n",
    "        \n",
    "        if nomination_tot != []:\n",
    "            final_dataset.loc[index, 'award_nomination_tot']  = nomination_tot[0]\n",
    "        else :\n",
    "            final_dataset.loc[index, 'award_nomination_tot']  = np.nan\n",
    "\n",
    "        if win_tot != []:\n",
    "            final_dataset.loc[index, 'award_win_tot']  = win_tot[0]\n",
    "        else :\n",
    "            final_dataset.loc[index, 'award_win_tot']  = np.nan\n",
    " \n",
    "    else:\n",
    "        final_dataset.loc[index, 'special_award_name']  = np.nan        \n",
    "        final_dataset.loc[index, 'special_award_tot']  = np.nan        \n",
    "        final_dataset.loc[index, 'special_award_stat']  = np.nan        \n",
    "        final_dataset.loc[index, 'award_win_tot']  = np.nan        \n",
    "        final_dataset.loc[index, 'award_nomination_tot']  = np.nan\n",
    "        "
   ]
  },
  {
   "cell_type": "markdown",
   "metadata": {},
   "source": [
    "### Budget and Gross - normalization  (Giulia)\n",
    "\n",
    "Budget data was expressed in different currencies. We decide to normalize them in euro using CurrencyConverter library. Here we had to deal with some issues. Budgets were recorded as strings, so we had first to separate the numbers from the currency symbol. Then using CURRENCY_MAPPING dictionary we convert currency symbols in its ISO code used as a parameter for the conversion that was made using the .convert(tot, currency) method. Not all the ISO currency codes were present on CurrencyConverter so we add the CURRENCY_EXRATE dictionary to perform the conversion manually.\n",
    "\n",
    "To normalize gross data we followed the same procedure, beside the fact that all records were expressed in american dollars because it refere to world wide tiltes' gross. So we are not resorting to dictionaries, but we convert the ammount using .convert(tot, 'USD') method"
   ]
  },
  {
   "cell_type": "code",
   "execution_count": 97,
   "metadata": {},
   "outputs": [],
   "source": [
    "import re\n",
    "from currency_converter import CurrencyConverter\n",
    "c = CurrencyConverter()\n",
    "\n",
    "CURRENCY_MAPPING = {\n",
    "    '$' : 'USD',\n",
    "    'A$': 'AUD',\n",
    "    'CA$': 'CAD',\n",
    "    'CN¥': 'CNY',\n",
    "    'HK$': 'HKD',\n",
    "    'MX$': 'MXN',\n",
    "    'NT$': 'TWD',\n",
    "    'RUR': 'RUB',\n",
    "    '£' : 'GBP',\n",
    "    '₩' : 'KRW',\n",
    "    '₪' : 'ILS',\n",
    "    '€' : 'EUR',\n",
    "    '₹' : 'INR',\n",
    "}\n",
    "\n",
    "CURRENCY_EXRATE = {\n",
    "    'ARS' : 0.0070, \n",
    "    'EGP' : 0.052, \n",
    "    'MVR' : 0.065, \n",
    "    'NGN' : 0.0023, \n",
    "    'PKR' : 0.0043, \n",
    "    'TWD' : 0.032,\n",
    "}"
   ]
  },
  {
   "cell_type": "code",
   "execution_count": 98,
   "metadata": {},
   "outputs": [],
   "source": [
    "# Budget normalization\n",
    "for index, x in final_dataset['budget'].iteritems():\n",
    "    if not pd.isna(x):\n",
    "        x = x.split()\n",
    "        if '(estimated)' in x:\n",
    "            x.remove('(estimated)')\n",
    "        if len(x) == 1:\n",
    "            val = x[0].split(',')\n",
    "            val = ''.join(val)\n",
    "            currency = [s for s in re.findall(r\"[^0-9.]\", val)]\n",
    "            currency = ''.join(currency)\n",
    "            tot = val.strip(currency)\n",
    "        elif len(x) != 0:\n",
    "            tot = x[1].split(',')\n",
    "            tot = ''.join(tot)\n",
    "            currency = x[0]\n",
    "\n",
    "        if currency in CURRENCY_MAPPING.keys():\n",
    "            currency = CURRENCY_MAPPING[currency]\n",
    "\n",
    "        if currency in c.currencies:\n",
    "            ammount = int(c.convert(tot, currency))\n",
    "        else:\n",
    "            ex_Rate = CURRENCY_EXRATE[currency]\n",
    "            ammount = int(int(tot) // ex_Rate)\n",
    "\n",
    "        final_dataset.loc[index, 'budget']  = ammount \n",
    "    else:\n",
    "        final_dataset.loc[index, 'budget']  = np.nan\n",
    "\n",
    "# Gross normalization\n",
    "for index, x in final_dataset['gross'].iteritems():\n",
    "    if not pd.isna(x):\n",
    "        x = x.split(',')\n",
    "        x = ''.join(x)\n",
    "        x = [int(s) for s in re.findall(r'\\b\\d+\\b', x)]\n",
    "        ammount = int(c.convert(x[0], 'USD'))\n",
    "        final_dataset.loc[index, 'gross']  =  ammount\n",
    "    else:\n",
    "        final_dataset.loc[index, 'gross']  = np.nan"
   ]
  },
  {
   "cell_type": "markdown",
   "metadata": {},
   "source": [
    "### Final Dataset\n",
    "\n",
    "Finally, we convert any 'no_data' string, added during the cleaning phases to deal with all the procedures, in nan values and we save the final dataset in CSV format."
   ]
  },
  {
   "cell_type": "code",
   "execution_count": 99,
   "metadata": {},
   "outputs": [],
   "source": [
    "final_dataset.replace( np.nan, 'no_data', inplace=True)\n",
    "final_dataset.to_csv('final_dataset.csv', index= False)"
   ]
  },
  {
   "cell_type": "markdown",
   "metadata": {},
   "source": [
    "# Data analysis and visualization (Giulia)\n",
    "\n",
    "Starting from our data and our research question: how streaming platforms have changed film production; we decided to divide the analysis into 3 steps:\n",
    "\n",
    "1. What kind of content is present on Streaming Platforms? \n",
    "2. How streaming services treats their content? \n",
    "3. How streaming service influence cinema industry?\n",
    "\n",
    "To deal with visualization and analysis we use [matplotlib](https://matplotlib.org), [plotly](https://go.plotly.com/website) and [sklearn](https://scikit-learn.org/stable/) library."
   ]
  },
  {
   "cell_type": "code",
   "execution_count": 4,
   "metadata": {},
   "outputs": [],
   "source": [
    "import tkinter\n",
    "import matplotlib\n",
    "import matplotlib.colors\n",
    "import matplotlib.pyplot as plt\n",
    "import plotly.express as px\n",
    "import plotly.graph_objects as go\n",
    "import seaborn as sns\n",
    "from sklearn.preprocessing import MultiLabelBinarizer \n",
    "\n",
    "data = pd.read_csv('final_dataset.csv')\n",
    "colors = ['#0f79af','#5287c1','#7b95d0','#a0a3de','#c2b2ea','#e2c1f5','#ffd2ff','#ffb5ea','#ff96cc','#ff76a7','#ff547c','#f9314c','#e50914']\n",
    "two_colors =['#ff547c', '#a0a3de']\n",
    "margin={'t':10,'l':10,'b':10,'r':10}\n",
    "margin_title = {'t':50,'l':10,'b':10,'r':10}"
   ]
  },
  {
   "cell_type": "markdown",
   "metadata": {},
   "source": [
    "# What kind of content is present on Streaming Platforms?\n",
    "To represent contents we use data about the type of item (if in Tv Shows or Movies), country of provenance, and spoken languages. Then to have a deeper insight we look to the directors' gender and rating, who has made the content and for whom the content is made.\n",
    "\n",
    "### Tv Series/Movie distribution sunburst\n",
    "We plot with a sunburst chart the distribution of content typology in our dataset (Movie, TV Show) and the consequent subdivision between Amazon and Netflix.\n",
    "\n",
    "**Conclusion:** Netflix is more represented in our dataset than Amazon. Surprisingly there are more films than TV series on both platforms."
   ]
  },
  {
   "cell_type": "code",
   "execution_count": 101,
   "metadata": {},
   "outputs": [
    {
     "name": "stderr",
     "output_type": "stream",
     "text": [
      "/Library/Frameworks/Python.framework/Versions/3.9/lib/python3.9/site-packages/plotly/express/_core.py:1637: FutureWarning:\n",
      "\n",
      "The frame.append method is deprecated and will be removed from pandas in a future version. Use pandas.concat instead.\n",
      "\n",
      "/Library/Frameworks/Python.framework/Versions/3.9/lib/python3.9/site-packages/plotly/express/_core.py:1637: FutureWarning:\n",
      "\n",
      "The frame.append method is deprecated and will be removed from pandas in a future version. Use pandas.concat instead.\n",
      "\n"
     ]
    },
    {
     "data": {
      "application/vnd.plotly.v1+json": {
       "config": {
        "plotlyServerURL": "https://plot.ly"
       },
       "data": [
        {
         "branchvalues": "total",
         "customdata": [
          [
           "Amazon"
          ],
          [
           "Amazon"
          ],
          [
           "Netflix"
          ],
          [
           "Netflix"
          ],
          [
           "Amazon"
          ],
          [
           "Netflix"
          ]
         ],
         "domain": {
          "x": [
           0,
           1
          ],
          "y": [
           0,
           1
          ]
         },
         "hoverlabel": {
          "font": {
           "color": "white",
           "family": "Arial, san serif",
           "size": 14
          }
         },
         "hovertemplate": "<br>%{customdata[0]} presence is: %{value}%<br>",
         "hovertext": [
          "Movie",
          "TV Show",
          "Movie",
          "TV Show",
          "(?)",
          "(?)"
         ],
         "ids": [
          "Amazon/Movie",
          "Amazon/TV Show",
          "Netflix/Movie",
          "Netflix/TV Show",
          "Amazon",
          "Netflix"
         ],
         "labels": [
          "Movie",
          "TV Show",
          "Movie",
          "TV Show",
          "Amazon",
          "Netflix"
         ],
         "marker": {
          "colors": [
           "#a0a3de",
           "#a0a3de",
           "#ff547c",
           "#ff547c",
           "#a0a3de",
           "#ff547c"
          ],
          "line": {
           "color": "#212529",
           "width": 2
          }
         },
         "name": "",
         "parents": [
          "Amazon",
          "Amazon",
          "Netflix",
          "Netflix",
          "",
          ""
         ],
         "textfont": {
          "color": "white",
          "family": "Arial, san serif",
          "size": 16
         },
         "type": "sunburst",
         "values": [
          35.8,
          5.85,
          43.78,
          16.37,
          41.65,
          60.150000000000006
         ]
        }
       ],
       "layout": {
        "font": {
         "color": "white",
         "family": "Arial, san serif",
         "size": 15
        },
        "hoverlabel": {
         "bordercolor": "#212529"
        },
        "legend": {
         "tracegroupgap": 0
        },
        "margin": {
         "b": 10,
         "l": 10,
         "r": 10,
         "t": 10
        },
        "paper_bgcolor": "#212529",
        "plot_bgcolor": "rgba(0, 0, 0, 0)",
        "template": {
         "data": {
          "bar": [
           {
            "error_x": {
             "color": "#2a3f5f"
            },
            "error_y": {
             "color": "#2a3f5f"
            },
            "marker": {
             "line": {
              "color": "#E5ECF6",
              "width": 0.5
             },
             "pattern": {
              "fillmode": "overlay",
              "size": 10,
              "solidity": 0.2
             }
            },
            "type": "bar"
           }
          ],
          "barpolar": [
           {
            "marker": {
             "line": {
              "color": "#E5ECF6",
              "width": 0.5
             },
             "pattern": {
              "fillmode": "overlay",
              "size": 10,
              "solidity": 0.2
             }
            },
            "type": "barpolar"
           }
          ],
          "carpet": [
           {
            "aaxis": {
             "endlinecolor": "#2a3f5f",
             "gridcolor": "white",
             "linecolor": "white",
             "minorgridcolor": "white",
             "startlinecolor": "#2a3f5f"
            },
            "baxis": {
             "endlinecolor": "#2a3f5f",
             "gridcolor": "white",
             "linecolor": "white",
             "minorgridcolor": "white",
             "startlinecolor": "#2a3f5f"
            },
            "type": "carpet"
           }
          ],
          "choropleth": [
           {
            "colorbar": {
             "outlinewidth": 0,
             "ticks": ""
            },
            "type": "choropleth"
           }
          ],
          "contour": [
           {
            "colorbar": {
             "outlinewidth": 0,
             "ticks": ""
            },
            "colorscale": [
             [
              0,
              "#0d0887"
             ],
             [
              0.1111111111111111,
              "#46039f"
             ],
             [
              0.2222222222222222,
              "#7201a8"
             ],
             [
              0.3333333333333333,
              "#9c179e"
             ],
             [
              0.4444444444444444,
              "#bd3786"
             ],
             [
              0.5555555555555556,
              "#d8576b"
             ],
             [
              0.6666666666666666,
              "#ed7953"
             ],
             [
              0.7777777777777778,
              "#fb9f3a"
             ],
             [
              0.8888888888888888,
              "#fdca26"
             ],
             [
              1,
              "#f0f921"
             ]
            ],
            "type": "contour"
           }
          ],
          "contourcarpet": [
           {
            "colorbar": {
             "outlinewidth": 0,
             "ticks": ""
            },
            "type": "contourcarpet"
           }
          ],
          "heatmap": [
           {
            "colorbar": {
             "outlinewidth": 0,
             "ticks": ""
            },
            "colorscale": [
             [
              0,
              "#0d0887"
             ],
             [
              0.1111111111111111,
              "#46039f"
             ],
             [
              0.2222222222222222,
              "#7201a8"
             ],
             [
              0.3333333333333333,
              "#9c179e"
             ],
             [
              0.4444444444444444,
              "#bd3786"
             ],
             [
              0.5555555555555556,
              "#d8576b"
             ],
             [
              0.6666666666666666,
              "#ed7953"
             ],
             [
              0.7777777777777778,
              "#fb9f3a"
             ],
             [
              0.8888888888888888,
              "#fdca26"
             ],
             [
              1,
              "#f0f921"
             ]
            ],
            "type": "heatmap"
           }
          ],
          "heatmapgl": [
           {
            "colorbar": {
             "outlinewidth": 0,
             "ticks": ""
            },
            "colorscale": [
             [
              0,
              "#0d0887"
             ],
             [
              0.1111111111111111,
              "#46039f"
             ],
             [
              0.2222222222222222,
              "#7201a8"
             ],
             [
              0.3333333333333333,
              "#9c179e"
             ],
             [
              0.4444444444444444,
              "#bd3786"
             ],
             [
              0.5555555555555556,
              "#d8576b"
             ],
             [
              0.6666666666666666,
              "#ed7953"
             ],
             [
              0.7777777777777778,
              "#fb9f3a"
             ],
             [
              0.8888888888888888,
              "#fdca26"
             ],
             [
              1,
              "#f0f921"
             ]
            ],
            "type": "heatmapgl"
           }
          ],
          "histogram": [
           {
            "marker": {
             "pattern": {
              "fillmode": "overlay",
              "size": 10,
              "solidity": 0.2
             }
            },
            "type": "histogram"
           }
          ],
          "histogram2d": [
           {
            "colorbar": {
             "outlinewidth": 0,
             "ticks": ""
            },
            "colorscale": [
             [
              0,
              "#0d0887"
             ],
             [
              0.1111111111111111,
              "#46039f"
             ],
             [
              0.2222222222222222,
              "#7201a8"
             ],
             [
              0.3333333333333333,
              "#9c179e"
             ],
             [
              0.4444444444444444,
              "#bd3786"
             ],
             [
              0.5555555555555556,
              "#d8576b"
             ],
             [
              0.6666666666666666,
              "#ed7953"
             ],
             [
              0.7777777777777778,
              "#fb9f3a"
             ],
             [
              0.8888888888888888,
              "#fdca26"
             ],
             [
              1,
              "#f0f921"
             ]
            ],
            "type": "histogram2d"
           }
          ],
          "histogram2dcontour": [
           {
            "colorbar": {
             "outlinewidth": 0,
             "ticks": ""
            },
            "colorscale": [
             [
              0,
              "#0d0887"
             ],
             [
              0.1111111111111111,
              "#46039f"
             ],
             [
              0.2222222222222222,
              "#7201a8"
             ],
             [
              0.3333333333333333,
              "#9c179e"
             ],
             [
              0.4444444444444444,
              "#bd3786"
             ],
             [
              0.5555555555555556,
              "#d8576b"
             ],
             [
              0.6666666666666666,
              "#ed7953"
             ],
             [
              0.7777777777777778,
              "#fb9f3a"
             ],
             [
              0.8888888888888888,
              "#fdca26"
             ],
             [
              1,
              "#f0f921"
             ]
            ],
            "type": "histogram2dcontour"
           }
          ],
          "mesh3d": [
           {
            "colorbar": {
             "outlinewidth": 0,
             "ticks": ""
            },
            "type": "mesh3d"
           }
          ],
          "parcoords": [
           {
            "line": {
             "colorbar": {
              "outlinewidth": 0,
              "ticks": ""
             }
            },
            "type": "parcoords"
           }
          ],
          "pie": [
           {
            "automargin": true,
            "type": "pie"
           }
          ],
          "scatter": [
           {
            "marker": {
             "colorbar": {
              "outlinewidth": 0,
              "ticks": ""
             }
            },
            "type": "scatter"
           }
          ],
          "scatter3d": [
           {
            "line": {
             "colorbar": {
              "outlinewidth": 0,
              "ticks": ""
             }
            },
            "marker": {
             "colorbar": {
              "outlinewidth": 0,
              "ticks": ""
             }
            },
            "type": "scatter3d"
           }
          ],
          "scattercarpet": [
           {
            "marker": {
             "colorbar": {
              "outlinewidth": 0,
              "ticks": ""
             }
            },
            "type": "scattercarpet"
           }
          ],
          "scattergeo": [
           {
            "marker": {
             "colorbar": {
              "outlinewidth": 0,
              "ticks": ""
             }
            },
            "type": "scattergeo"
           }
          ],
          "scattergl": [
           {
            "marker": {
             "colorbar": {
              "outlinewidth": 0,
              "ticks": ""
             }
            },
            "type": "scattergl"
           }
          ],
          "scattermapbox": [
           {
            "marker": {
             "colorbar": {
              "outlinewidth": 0,
              "ticks": ""
             }
            },
            "type": "scattermapbox"
           }
          ],
          "scatterpolar": [
           {
            "marker": {
             "colorbar": {
              "outlinewidth": 0,
              "ticks": ""
             }
            },
            "type": "scatterpolar"
           }
          ],
          "scatterpolargl": [
           {
            "marker": {
             "colorbar": {
              "outlinewidth": 0,
              "ticks": ""
             }
            },
            "type": "scatterpolargl"
           }
          ],
          "scatterternary": [
           {
            "marker": {
             "colorbar": {
              "outlinewidth": 0,
              "ticks": ""
             }
            },
            "type": "scatterternary"
           }
          ],
          "surface": [
           {
            "colorbar": {
             "outlinewidth": 0,
             "ticks": ""
            },
            "colorscale": [
             [
              0,
              "#0d0887"
             ],
             [
              0.1111111111111111,
              "#46039f"
             ],
             [
              0.2222222222222222,
              "#7201a8"
             ],
             [
              0.3333333333333333,
              "#9c179e"
             ],
             [
              0.4444444444444444,
              "#bd3786"
             ],
             [
              0.5555555555555556,
              "#d8576b"
             ],
             [
              0.6666666666666666,
              "#ed7953"
             ],
             [
              0.7777777777777778,
              "#fb9f3a"
             ],
             [
              0.8888888888888888,
              "#fdca26"
             ],
             [
              1,
              "#f0f921"
             ]
            ],
            "type": "surface"
           }
          ],
          "table": [
           {
            "cells": {
             "fill": {
              "color": "#EBF0F8"
             },
             "line": {
              "color": "white"
             }
            },
            "header": {
             "fill": {
              "color": "#C8D4E3"
             },
             "line": {
              "color": "white"
             }
            },
            "type": "table"
           }
          ]
         },
         "layout": {
          "annotationdefaults": {
           "arrowcolor": "#2a3f5f",
           "arrowhead": 0,
           "arrowwidth": 1
          },
          "autotypenumbers": "strict",
          "coloraxis": {
           "colorbar": {
            "outlinewidth": 0,
            "ticks": ""
           }
          },
          "colorscale": {
           "diverging": [
            [
             0,
             "#8e0152"
            ],
            [
             0.1,
             "#c51b7d"
            ],
            [
             0.2,
             "#de77ae"
            ],
            [
             0.3,
             "#f1b6da"
            ],
            [
             0.4,
             "#fde0ef"
            ],
            [
             0.5,
             "#f7f7f7"
            ],
            [
             0.6,
             "#e6f5d0"
            ],
            [
             0.7,
             "#b8e186"
            ],
            [
             0.8,
             "#7fbc41"
            ],
            [
             0.9,
             "#4d9221"
            ],
            [
             1,
             "#276419"
            ]
           ],
           "sequential": [
            [
             0,
             "#0d0887"
            ],
            [
             0.1111111111111111,
             "#46039f"
            ],
            [
             0.2222222222222222,
             "#7201a8"
            ],
            [
             0.3333333333333333,
             "#9c179e"
            ],
            [
             0.4444444444444444,
             "#bd3786"
            ],
            [
             0.5555555555555556,
             "#d8576b"
            ],
            [
             0.6666666666666666,
             "#ed7953"
            ],
            [
             0.7777777777777778,
             "#fb9f3a"
            ],
            [
             0.8888888888888888,
             "#fdca26"
            ],
            [
             1,
             "#f0f921"
            ]
           ],
           "sequentialminus": [
            [
             0,
             "#0d0887"
            ],
            [
             0.1111111111111111,
             "#46039f"
            ],
            [
             0.2222222222222222,
             "#7201a8"
            ],
            [
             0.3333333333333333,
             "#9c179e"
            ],
            [
             0.4444444444444444,
             "#bd3786"
            ],
            [
             0.5555555555555556,
             "#d8576b"
            ],
            [
             0.6666666666666666,
             "#ed7953"
            ],
            [
             0.7777777777777778,
             "#fb9f3a"
            ],
            [
             0.8888888888888888,
             "#fdca26"
            ],
            [
             1,
             "#f0f921"
            ]
           ]
          },
          "colorway": [
           "#636efa",
           "#EF553B",
           "#00cc96",
           "#ab63fa",
           "#FFA15A",
           "#19d3f3",
           "#FF6692",
           "#B6E880",
           "#FF97FF",
           "#FECB52"
          ],
          "font": {
           "color": "#2a3f5f"
          },
          "geo": {
           "bgcolor": "white",
           "lakecolor": "white",
           "landcolor": "#E5ECF6",
           "showlakes": true,
           "showland": true,
           "subunitcolor": "white"
          },
          "hoverlabel": {
           "align": "left"
          },
          "hovermode": "closest",
          "mapbox": {
           "style": "light"
          },
          "paper_bgcolor": "white",
          "plot_bgcolor": "#E5ECF6",
          "polar": {
           "angularaxis": {
            "gridcolor": "white",
            "linecolor": "white",
            "ticks": ""
           },
           "bgcolor": "#E5ECF6",
           "radialaxis": {
            "gridcolor": "white",
            "linecolor": "white",
            "ticks": ""
           }
          },
          "scene": {
           "xaxis": {
            "backgroundcolor": "#E5ECF6",
            "gridcolor": "white",
            "gridwidth": 2,
            "linecolor": "white",
            "showbackground": true,
            "ticks": "",
            "zerolinecolor": "white"
           },
           "yaxis": {
            "backgroundcolor": "#E5ECF6",
            "gridcolor": "white",
            "gridwidth": 2,
            "linecolor": "white",
            "showbackground": true,
            "ticks": "",
            "zerolinecolor": "white"
           },
           "zaxis": {
            "backgroundcolor": "#E5ECF6",
            "gridcolor": "white",
            "gridwidth": 2,
            "linecolor": "white",
            "showbackground": true,
            "ticks": "",
            "zerolinecolor": "white"
           }
          },
          "shapedefaults": {
           "line": {
            "color": "#2a3f5f"
           }
          },
          "ternary": {
           "aaxis": {
            "gridcolor": "white",
            "linecolor": "white",
            "ticks": ""
           },
           "baxis": {
            "gridcolor": "white",
            "linecolor": "white",
            "ticks": ""
           },
           "bgcolor": "#E5ECF6",
           "caxis": {
            "gridcolor": "white",
            "linecolor": "white",
            "ticks": ""
           }
          },
          "title": {
           "x": 0.05
          },
          "xaxis": {
           "automargin": true,
           "gridcolor": "white",
           "linecolor": "white",
           "ticks": "",
           "title": {
            "standoff": 15
           },
           "zerolinecolor": "white",
           "zerolinewidth": 2
          },
          "yaxis": {
           "automargin": true,
           "gridcolor": "white",
           "linecolor": "white",
           "ticks": "",
           "title": {
            "standoff": 15
           },
           "zerolinecolor": "white",
           "zerolinewidth": 2
          }
         }
        },
        "yaxis": {
         "gridcolor": "rgba(225, 225, 225, .5)"
        }
       }
      }
     },
     "metadata": {},
     "output_type": "display_data"
    }
   ],
   "source": [
    "x= data.groupby(['type'])[['amazon', 'netflix']].sum()\n",
    "y=len(data)\n",
    "r=((x*100/y)).round(2)\n",
    "ratio = pd.DataFrame(r)\n",
    "ratio\n",
    "df = ratio.stack().reset_index()\n",
    "df.columns = ['type','distr','val']\n",
    "df['distr'] = df['distr'].apply(lambda x: x.capitalize())\n",
    "fig = px.sunburst(df, path=['distr', 'type'], values='val',color='distr', hover_name=\"type\", color_discrete_map={'Netflix':'#ff547c', 'Amazon':'#a0a3de'})\n",
    "\n",
    "fig.update_traces(marker=dict(line=dict(color='#212529', width=2)), textfont=dict(family=\"Arial, san serif\",size=16,color=\"white\"),hoverlabel=dict(font_size=14,font_family=\"Arial, san serif\",font_color=\"white\"),)\n",
    "fig.update_traces(hovertemplate=('<br>%{customdata[0]} presence is: %{value}%<br>'))\n",
    "fig.update_layout(paper_bgcolor=\"#212529\", plot_bgcolor ='rgba(0, 0, 0, 0)', hoverlabel_bordercolor='#212529',margin=margin, yaxis_gridcolor ='rgba(225, 225, 225, .5)', font_color=\"white\", font_family=\"Arial, san serif\", font_size=15)\n",
    "fig.write_html('visualization/one.html')\n",
    "fig.show()"
   ]
  },
  {
   "cell_type": "markdown",
   "metadata": {},
   "source": [
    "### Country analysis\n",
    "We plot in a bar chart the 10 countries more represented in our dataset.\n",
    "\n",
    "**Conclusion:** here we can notice that half of the content comes from the USA, the second most represented country is India followed by the UK. The huge presence of American content could be related to the fact that both companies are from there."
   ]
  },
  {
   "cell_type": "code",
   "execution_count": 102,
   "metadata": {},
   "outputs": [
    {
     "data": {
      "application/vnd.plotly.v1+json": {
       "config": {
        "plotlyServerURL": "https://plot.ly"
       },
       "data": [
        {
         "hoverlabel": {
          "font": {
           "color": "white",
           "family": "Arial, san serif",
           "size": 14
          }
         },
         "hovertemplate": "<br>%{x} presence is: %{value}%<br><extra></extra>",
         "marker": {
          "color": [
           "#f9314c",
           "#ff547c",
           "#ff76a7",
           "#ff96cc",
           "#ffb5ea",
           "#ffd2ff",
           "#e2c1f5",
           "#c2b2ea",
           "#a0a3de",
           "#7b95d0",
           "#5287c1",
           "#0f79af"
          ],
          "line": {
           "color": "#212529",
           "width": 2
          }
         },
         "type": "bar",
         "x": [
          "USA",
          "India",
          "UK",
          "Canada",
          "France",
          "Germany",
          "Spain",
          "Australia",
          "S. Korea",
          "China"
         ],
         "y": [
          41,
          12.98,
          8.61,
          4.9,
          3.91,
          2.49,
          1.95,
          1.79,
          1.66,
          1.57
         ]
        }
       ],
       "layout": {
        "font": {
         "color": "white",
         "family": "Arial, san serif",
         "size": 15
        },
        "hoverlabel": {
         "bordercolor": "#212529"
        },
        "margin": {
         "b": 10,
         "l": 10,
         "r": 10,
         "t": 10
        },
        "paper_bgcolor": "#212529",
        "plot_bgcolor": "rgba(0, 0, 0, 0)",
        "template": {
         "data": {
          "bar": [
           {
            "error_x": {
             "color": "#2a3f5f"
            },
            "error_y": {
             "color": "#2a3f5f"
            },
            "marker": {
             "line": {
              "color": "#E5ECF6",
              "width": 0.5
             },
             "pattern": {
              "fillmode": "overlay",
              "size": 10,
              "solidity": 0.2
             }
            },
            "type": "bar"
           }
          ],
          "barpolar": [
           {
            "marker": {
             "line": {
              "color": "#E5ECF6",
              "width": 0.5
             },
             "pattern": {
              "fillmode": "overlay",
              "size": 10,
              "solidity": 0.2
             }
            },
            "type": "barpolar"
           }
          ],
          "carpet": [
           {
            "aaxis": {
             "endlinecolor": "#2a3f5f",
             "gridcolor": "white",
             "linecolor": "white",
             "minorgridcolor": "white",
             "startlinecolor": "#2a3f5f"
            },
            "baxis": {
             "endlinecolor": "#2a3f5f",
             "gridcolor": "white",
             "linecolor": "white",
             "minorgridcolor": "white",
             "startlinecolor": "#2a3f5f"
            },
            "type": "carpet"
           }
          ],
          "choropleth": [
           {
            "colorbar": {
             "outlinewidth": 0,
             "ticks": ""
            },
            "type": "choropleth"
           }
          ],
          "contour": [
           {
            "colorbar": {
             "outlinewidth": 0,
             "ticks": ""
            },
            "colorscale": [
             [
              0,
              "#0d0887"
             ],
             [
              0.1111111111111111,
              "#46039f"
             ],
             [
              0.2222222222222222,
              "#7201a8"
             ],
             [
              0.3333333333333333,
              "#9c179e"
             ],
             [
              0.4444444444444444,
              "#bd3786"
             ],
             [
              0.5555555555555556,
              "#d8576b"
             ],
             [
              0.6666666666666666,
              "#ed7953"
             ],
             [
              0.7777777777777778,
              "#fb9f3a"
             ],
             [
              0.8888888888888888,
              "#fdca26"
             ],
             [
              1,
              "#f0f921"
             ]
            ],
            "type": "contour"
           }
          ],
          "contourcarpet": [
           {
            "colorbar": {
             "outlinewidth": 0,
             "ticks": ""
            },
            "type": "contourcarpet"
           }
          ],
          "heatmap": [
           {
            "colorbar": {
             "outlinewidth": 0,
             "ticks": ""
            },
            "colorscale": [
             [
              0,
              "#0d0887"
             ],
             [
              0.1111111111111111,
              "#46039f"
             ],
             [
              0.2222222222222222,
              "#7201a8"
             ],
             [
              0.3333333333333333,
              "#9c179e"
             ],
             [
              0.4444444444444444,
              "#bd3786"
             ],
             [
              0.5555555555555556,
              "#d8576b"
             ],
             [
              0.6666666666666666,
              "#ed7953"
             ],
             [
              0.7777777777777778,
              "#fb9f3a"
             ],
             [
              0.8888888888888888,
              "#fdca26"
             ],
             [
              1,
              "#f0f921"
             ]
            ],
            "type": "heatmap"
           }
          ],
          "heatmapgl": [
           {
            "colorbar": {
             "outlinewidth": 0,
             "ticks": ""
            },
            "colorscale": [
             [
              0,
              "#0d0887"
             ],
             [
              0.1111111111111111,
              "#46039f"
             ],
             [
              0.2222222222222222,
              "#7201a8"
             ],
             [
              0.3333333333333333,
              "#9c179e"
             ],
             [
              0.4444444444444444,
              "#bd3786"
             ],
             [
              0.5555555555555556,
              "#d8576b"
             ],
             [
              0.6666666666666666,
              "#ed7953"
             ],
             [
              0.7777777777777778,
              "#fb9f3a"
             ],
             [
              0.8888888888888888,
              "#fdca26"
             ],
             [
              1,
              "#f0f921"
             ]
            ],
            "type": "heatmapgl"
           }
          ],
          "histogram": [
           {
            "marker": {
             "pattern": {
              "fillmode": "overlay",
              "size": 10,
              "solidity": 0.2
             }
            },
            "type": "histogram"
           }
          ],
          "histogram2d": [
           {
            "colorbar": {
             "outlinewidth": 0,
             "ticks": ""
            },
            "colorscale": [
             [
              0,
              "#0d0887"
             ],
             [
              0.1111111111111111,
              "#46039f"
             ],
             [
              0.2222222222222222,
              "#7201a8"
             ],
             [
              0.3333333333333333,
              "#9c179e"
             ],
             [
              0.4444444444444444,
              "#bd3786"
             ],
             [
              0.5555555555555556,
              "#d8576b"
             ],
             [
              0.6666666666666666,
              "#ed7953"
             ],
             [
              0.7777777777777778,
              "#fb9f3a"
             ],
             [
              0.8888888888888888,
              "#fdca26"
             ],
             [
              1,
              "#f0f921"
             ]
            ],
            "type": "histogram2d"
           }
          ],
          "histogram2dcontour": [
           {
            "colorbar": {
             "outlinewidth": 0,
             "ticks": ""
            },
            "colorscale": [
             [
              0,
              "#0d0887"
             ],
             [
              0.1111111111111111,
              "#46039f"
             ],
             [
              0.2222222222222222,
              "#7201a8"
             ],
             [
              0.3333333333333333,
              "#9c179e"
             ],
             [
              0.4444444444444444,
              "#bd3786"
             ],
             [
              0.5555555555555556,
              "#d8576b"
             ],
             [
              0.6666666666666666,
              "#ed7953"
             ],
             [
              0.7777777777777778,
              "#fb9f3a"
             ],
             [
              0.8888888888888888,
              "#fdca26"
             ],
             [
              1,
              "#f0f921"
             ]
            ],
            "type": "histogram2dcontour"
           }
          ],
          "mesh3d": [
           {
            "colorbar": {
             "outlinewidth": 0,
             "ticks": ""
            },
            "type": "mesh3d"
           }
          ],
          "parcoords": [
           {
            "line": {
             "colorbar": {
              "outlinewidth": 0,
              "ticks": ""
             }
            },
            "type": "parcoords"
           }
          ],
          "pie": [
           {
            "automargin": true,
            "type": "pie"
           }
          ],
          "scatter": [
           {
            "marker": {
             "colorbar": {
              "outlinewidth": 0,
              "ticks": ""
             }
            },
            "type": "scatter"
           }
          ],
          "scatter3d": [
           {
            "line": {
             "colorbar": {
              "outlinewidth": 0,
              "ticks": ""
             }
            },
            "marker": {
             "colorbar": {
              "outlinewidth": 0,
              "ticks": ""
             }
            },
            "type": "scatter3d"
           }
          ],
          "scattercarpet": [
           {
            "marker": {
             "colorbar": {
              "outlinewidth": 0,
              "ticks": ""
             }
            },
            "type": "scattercarpet"
           }
          ],
          "scattergeo": [
           {
            "marker": {
             "colorbar": {
              "outlinewidth": 0,
              "ticks": ""
             }
            },
            "type": "scattergeo"
           }
          ],
          "scattergl": [
           {
            "marker": {
             "colorbar": {
              "outlinewidth": 0,
              "ticks": ""
             }
            },
            "type": "scattergl"
           }
          ],
          "scattermapbox": [
           {
            "marker": {
             "colorbar": {
              "outlinewidth": 0,
              "ticks": ""
             }
            },
            "type": "scattermapbox"
           }
          ],
          "scatterpolar": [
           {
            "marker": {
             "colorbar": {
              "outlinewidth": 0,
              "ticks": ""
             }
            },
            "type": "scatterpolar"
           }
          ],
          "scatterpolargl": [
           {
            "marker": {
             "colorbar": {
              "outlinewidth": 0,
              "ticks": ""
             }
            },
            "type": "scatterpolargl"
           }
          ],
          "scatterternary": [
           {
            "marker": {
             "colorbar": {
              "outlinewidth": 0,
              "ticks": ""
             }
            },
            "type": "scatterternary"
           }
          ],
          "surface": [
           {
            "colorbar": {
             "outlinewidth": 0,
             "ticks": ""
            },
            "colorscale": [
             [
              0,
              "#0d0887"
             ],
             [
              0.1111111111111111,
              "#46039f"
             ],
             [
              0.2222222222222222,
              "#7201a8"
             ],
             [
              0.3333333333333333,
              "#9c179e"
             ],
             [
              0.4444444444444444,
              "#bd3786"
             ],
             [
              0.5555555555555556,
              "#d8576b"
             ],
             [
              0.6666666666666666,
              "#ed7953"
             ],
             [
              0.7777777777777778,
              "#fb9f3a"
             ],
             [
              0.8888888888888888,
              "#fdca26"
             ],
             [
              1,
              "#f0f921"
             ]
            ],
            "type": "surface"
           }
          ],
          "table": [
           {
            "cells": {
             "fill": {
              "color": "#EBF0F8"
             },
             "line": {
              "color": "white"
             }
            },
            "header": {
             "fill": {
              "color": "#C8D4E3"
             },
             "line": {
              "color": "white"
             }
            },
            "type": "table"
           }
          ]
         },
         "layout": {
          "annotationdefaults": {
           "arrowcolor": "#2a3f5f",
           "arrowhead": 0,
           "arrowwidth": 1
          },
          "autotypenumbers": "strict",
          "coloraxis": {
           "colorbar": {
            "outlinewidth": 0,
            "ticks": ""
           }
          },
          "colorscale": {
           "diverging": [
            [
             0,
             "#8e0152"
            ],
            [
             0.1,
             "#c51b7d"
            ],
            [
             0.2,
             "#de77ae"
            ],
            [
             0.3,
             "#f1b6da"
            ],
            [
             0.4,
             "#fde0ef"
            ],
            [
             0.5,
             "#f7f7f7"
            ],
            [
             0.6,
             "#e6f5d0"
            ],
            [
             0.7,
             "#b8e186"
            ],
            [
             0.8,
             "#7fbc41"
            ],
            [
             0.9,
             "#4d9221"
            ],
            [
             1,
             "#276419"
            ]
           ],
           "sequential": [
            [
             0,
             "#0d0887"
            ],
            [
             0.1111111111111111,
             "#46039f"
            ],
            [
             0.2222222222222222,
             "#7201a8"
            ],
            [
             0.3333333333333333,
             "#9c179e"
            ],
            [
             0.4444444444444444,
             "#bd3786"
            ],
            [
             0.5555555555555556,
             "#d8576b"
            ],
            [
             0.6666666666666666,
             "#ed7953"
            ],
            [
             0.7777777777777778,
             "#fb9f3a"
            ],
            [
             0.8888888888888888,
             "#fdca26"
            ],
            [
             1,
             "#f0f921"
            ]
           ],
           "sequentialminus": [
            [
             0,
             "#0d0887"
            ],
            [
             0.1111111111111111,
             "#46039f"
            ],
            [
             0.2222222222222222,
             "#7201a8"
            ],
            [
             0.3333333333333333,
             "#9c179e"
            ],
            [
             0.4444444444444444,
             "#bd3786"
            ],
            [
             0.5555555555555556,
             "#d8576b"
            ],
            [
             0.6666666666666666,
             "#ed7953"
            ],
            [
             0.7777777777777778,
             "#fb9f3a"
            ],
            [
             0.8888888888888888,
             "#fdca26"
            ],
            [
             1,
             "#f0f921"
            ]
           ]
          },
          "colorway": [
           "#636efa",
           "#EF553B",
           "#00cc96",
           "#ab63fa",
           "#FFA15A",
           "#19d3f3",
           "#FF6692",
           "#B6E880",
           "#FF97FF",
           "#FECB52"
          ],
          "font": {
           "color": "#2a3f5f"
          },
          "geo": {
           "bgcolor": "white",
           "lakecolor": "white",
           "landcolor": "#E5ECF6",
           "showlakes": true,
           "showland": true,
           "subunitcolor": "white"
          },
          "hoverlabel": {
           "align": "left"
          },
          "hovermode": "closest",
          "mapbox": {
           "style": "light"
          },
          "paper_bgcolor": "white",
          "plot_bgcolor": "#E5ECF6",
          "polar": {
           "angularaxis": {
            "gridcolor": "white",
            "linecolor": "white",
            "ticks": ""
           },
           "bgcolor": "#E5ECF6",
           "radialaxis": {
            "gridcolor": "white",
            "linecolor": "white",
            "ticks": ""
           }
          },
          "scene": {
           "xaxis": {
            "backgroundcolor": "#E5ECF6",
            "gridcolor": "white",
            "gridwidth": 2,
            "linecolor": "white",
            "showbackground": true,
            "ticks": "",
            "zerolinecolor": "white"
           },
           "yaxis": {
            "backgroundcolor": "#E5ECF6",
            "gridcolor": "white",
            "gridwidth": 2,
            "linecolor": "white",
            "showbackground": true,
            "ticks": "",
            "zerolinecolor": "white"
           },
           "zaxis": {
            "backgroundcolor": "#E5ECF6",
            "gridcolor": "white",
            "gridwidth": 2,
            "linecolor": "white",
            "showbackground": true,
            "ticks": "",
            "zerolinecolor": "white"
           }
          },
          "shapedefaults": {
           "line": {
            "color": "#2a3f5f"
           }
          },
          "ternary": {
           "aaxis": {
            "gridcolor": "white",
            "linecolor": "white",
            "ticks": ""
           },
           "baxis": {
            "gridcolor": "white",
            "linecolor": "white",
            "ticks": ""
           },
           "bgcolor": "#E5ECF6",
           "caxis": {
            "gridcolor": "white",
            "linecolor": "white",
            "ticks": ""
           }
          },
          "title": {
           "x": 0.05
          },
          "xaxis": {
           "automargin": true,
           "gridcolor": "white",
           "linecolor": "white",
           "ticks": "",
           "title": {
            "standoff": 15
           },
           "zerolinecolor": "white",
           "zerolinewidth": 2
          },
          "yaxis": {
           "automargin": true,
           "gridcolor": "white",
           "linecolor": "white",
           "ticks": "",
           "title": {
            "standoff": 15
           },
           "zerolinecolor": "white",
           "zerolinewidth": 2
          }
         }
        },
        "xaxis": {
         "color": "white"
        },
        "yaxis": {
         "color": "white",
         "gridcolor": "rgba(225, 225, 225, .5)"
        }
       }
      }
     },
     "metadata": {},
     "output_type": "display_data"
    }
   ],
   "source": [
    "df = data.copy()\n",
    "df['country'].replace('no_data', np.nan, inplace  = True)\n",
    "df.dropna(inplace=True)\n",
    "country = []\n",
    "for i, x in df['country'].iteritems():\n",
    "    l = x.split(', ')\n",
    "    for c in l:\n",
    "        country.append(c)\n",
    "df = pd.DataFrame()\n",
    "df['country'] = country\n",
    "df['count'] = 1\n",
    "df['country'].replace('United States', 'USA', inplace=True)\n",
    "df['country'].replace('United Kingdom', 'UK',inplace=True)\n",
    "df['country'].replace('South Korea', 'S. Korea',inplace=True)\n",
    "x = df.groupby('country')['count'].sum().sort_values(ascending=False)[0:10]\n",
    "y=len(df)\n",
    "r=((x*100/y)).round(2)\n",
    "df = pd.DataFrame(r)\n",
    "fig = go.Figure(data=[go.Bar(x=df.index, y=df['count'].to_list())])\n",
    "fig.update_traces(marker_color=colors[::-1][1:], marker_line_color='#212529',\n",
    "                  marker_line_width=2)\n",
    "\n",
    "fig.update_traces(marker=dict(line=dict(color='#212529', width=2)), hoverlabel=dict(font_size=14,font_family=\"Arial, san serif\",font_color=\"white\"))\n",
    "fig.update_traces(hovertemplate=('<br>%{x} presence is: %{value}%<br><extra></extra>'))\n",
    "fig.update_layout(paper_bgcolor=\"#212529\", plot_bgcolor ='rgba(0, 0, 0, 0)', hoverlabel_bordercolor='#212529',margin=margin, yaxis_gridcolor ='rgba(225, 225, 225, .5)', font_color=\"white\", font_family=\"Arial, san serif\", font_size=15)\n",
    "\n",
    "fig.update_yaxes(color=\"white\")\n",
    "fig.update_xaxes(color=\"white\")\n",
    "fig.write_html('visualization/two.html')\n",
    "fig.show()"
   ]
  },
  {
   "cell_type": "markdown",
   "metadata": {},
   "source": [
    "### Languages analysis\n",
    "\n",
    "We plot in a bar chart the 10 languages most represented on our streaming services (Amazon and Netflix).\n",
    "\n",
    "**Conclusion:** as we expected, English is the most prominent language in streaming services. Most Asian films are translated into English for international fruition and placed in this kind of worldwide services, even if Hindi is having a good representation with respect to others. European languages too have a good degree of representation."
   ]
  },
  {
   "cell_type": "code",
   "execution_count": 103,
   "metadata": {},
   "outputs": [
    {
     "data": {
      "application/vnd.plotly.v1+json": {
       "config": {
        "plotlyServerURL": "https://plot.ly"
       },
       "data": [
        {
         "hoverlabel": {
          "font": {
           "color": "white",
           "family": "Arial, san serif",
           "size": 14
          }
         },
         "hovertemplate": "<br>%{x} presence is: %{value}%<br><extra></extra>",
         "marker": {
          "color": [
           "#f9314c",
           "#ff547c",
           "#ff76a7",
           "#ff96cc",
           "#ffb5ea",
           "#ffd2ff",
           "#e2c1f5",
           "#c2b2ea",
           "#a0a3de",
           "#7b95d0",
           "#5287c1",
           "#0f79af"
          ],
          "line": {
           "color": "#212529",
           "width": 2
          }
         },
         "type": "bar",
         "x": [
          "English",
          "Hindi",
          "Spanish",
          "French",
          "German",
          "Tamil",
          "Mandarin",
          "Arabic",
          "Italian",
          "Korean"
         ],
         "y": [
          51.48,
          7.81,
          5.61,
          5.08,
          2.66,
          2.14,
          1.68,
          1.67,
          1.61,
          1.59
         ]
        }
       ],
       "layout": {
        "font": {
         "color": "white",
         "family": "Arial, san serif",
         "size": 15
        },
        "hoverlabel": {
         "bordercolor": "#212529"
        },
        "margin": {
         "b": 10,
         "l": 10,
         "r": 10,
         "t": 10
        },
        "paper_bgcolor": "#212529",
        "plot_bgcolor": "rgba(0, 0, 0, 0)",
        "template": {
         "data": {
          "bar": [
           {
            "error_x": {
             "color": "#2a3f5f"
            },
            "error_y": {
             "color": "#2a3f5f"
            },
            "marker": {
             "line": {
              "color": "#E5ECF6",
              "width": 0.5
             },
             "pattern": {
              "fillmode": "overlay",
              "size": 10,
              "solidity": 0.2
             }
            },
            "type": "bar"
           }
          ],
          "barpolar": [
           {
            "marker": {
             "line": {
              "color": "#E5ECF6",
              "width": 0.5
             },
             "pattern": {
              "fillmode": "overlay",
              "size": 10,
              "solidity": 0.2
             }
            },
            "type": "barpolar"
           }
          ],
          "carpet": [
           {
            "aaxis": {
             "endlinecolor": "#2a3f5f",
             "gridcolor": "white",
             "linecolor": "white",
             "minorgridcolor": "white",
             "startlinecolor": "#2a3f5f"
            },
            "baxis": {
             "endlinecolor": "#2a3f5f",
             "gridcolor": "white",
             "linecolor": "white",
             "minorgridcolor": "white",
             "startlinecolor": "#2a3f5f"
            },
            "type": "carpet"
           }
          ],
          "choropleth": [
           {
            "colorbar": {
             "outlinewidth": 0,
             "ticks": ""
            },
            "type": "choropleth"
           }
          ],
          "contour": [
           {
            "colorbar": {
             "outlinewidth": 0,
             "ticks": ""
            },
            "colorscale": [
             [
              0,
              "#0d0887"
             ],
             [
              0.1111111111111111,
              "#46039f"
             ],
             [
              0.2222222222222222,
              "#7201a8"
             ],
             [
              0.3333333333333333,
              "#9c179e"
             ],
             [
              0.4444444444444444,
              "#bd3786"
             ],
             [
              0.5555555555555556,
              "#d8576b"
             ],
             [
              0.6666666666666666,
              "#ed7953"
             ],
             [
              0.7777777777777778,
              "#fb9f3a"
             ],
             [
              0.8888888888888888,
              "#fdca26"
             ],
             [
              1,
              "#f0f921"
             ]
            ],
            "type": "contour"
           }
          ],
          "contourcarpet": [
           {
            "colorbar": {
             "outlinewidth": 0,
             "ticks": ""
            },
            "type": "contourcarpet"
           }
          ],
          "heatmap": [
           {
            "colorbar": {
             "outlinewidth": 0,
             "ticks": ""
            },
            "colorscale": [
             [
              0,
              "#0d0887"
             ],
             [
              0.1111111111111111,
              "#46039f"
             ],
             [
              0.2222222222222222,
              "#7201a8"
             ],
             [
              0.3333333333333333,
              "#9c179e"
             ],
             [
              0.4444444444444444,
              "#bd3786"
             ],
             [
              0.5555555555555556,
              "#d8576b"
             ],
             [
              0.6666666666666666,
              "#ed7953"
             ],
             [
              0.7777777777777778,
              "#fb9f3a"
             ],
             [
              0.8888888888888888,
              "#fdca26"
             ],
             [
              1,
              "#f0f921"
             ]
            ],
            "type": "heatmap"
           }
          ],
          "heatmapgl": [
           {
            "colorbar": {
             "outlinewidth": 0,
             "ticks": ""
            },
            "colorscale": [
             [
              0,
              "#0d0887"
             ],
             [
              0.1111111111111111,
              "#46039f"
             ],
             [
              0.2222222222222222,
              "#7201a8"
             ],
             [
              0.3333333333333333,
              "#9c179e"
             ],
             [
              0.4444444444444444,
              "#bd3786"
             ],
             [
              0.5555555555555556,
              "#d8576b"
             ],
             [
              0.6666666666666666,
              "#ed7953"
             ],
             [
              0.7777777777777778,
              "#fb9f3a"
             ],
             [
              0.8888888888888888,
              "#fdca26"
             ],
             [
              1,
              "#f0f921"
             ]
            ],
            "type": "heatmapgl"
           }
          ],
          "histogram": [
           {
            "marker": {
             "pattern": {
              "fillmode": "overlay",
              "size": 10,
              "solidity": 0.2
             }
            },
            "type": "histogram"
           }
          ],
          "histogram2d": [
           {
            "colorbar": {
             "outlinewidth": 0,
             "ticks": ""
            },
            "colorscale": [
             [
              0,
              "#0d0887"
             ],
             [
              0.1111111111111111,
              "#46039f"
             ],
             [
              0.2222222222222222,
              "#7201a8"
             ],
             [
              0.3333333333333333,
              "#9c179e"
             ],
             [
              0.4444444444444444,
              "#bd3786"
             ],
             [
              0.5555555555555556,
              "#d8576b"
             ],
             [
              0.6666666666666666,
              "#ed7953"
             ],
             [
              0.7777777777777778,
              "#fb9f3a"
             ],
             [
              0.8888888888888888,
              "#fdca26"
             ],
             [
              1,
              "#f0f921"
             ]
            ],
            "type": "histogram2d"
           }
          ],
          "histogram2dcontour": [
           {
            "colorbar": {
             "outlinewidth": 0,
             "ticks": ""
            },
            "colorscale": [
             [
              0,
              "#0d0887"
             ],
             [
              0.1111111111111111,
              "#46039f"
             ],
             [
              0.2222222222222222,
              "#7201a8"
             ],
             [
              0.3333333333333333,
              "#9c179e"
             ],
             [
              0.4444444444444444,
              "#bd3786"
             ],
             [
              0.5555555555555556,
              "#d8576b"
             ],
             [
              0.6666666666666666,
              "#ed7953"
             ],
             [
              0.7777777777777778,
              "#fb9f3a"
             ],
             [
              0.8888888888888888,
              "#fdca26"
             ],
             [
              1,
              "#f0f921"
             ]
            ],
            "type": "histogram2dcontour"
           }
          ],
          "mesh3d": [
           {
            "colorbar": {
             "outlinewidth": 0,
             "ticks": ""
            },
            "type": "mesh3d"
           }
          ],
          "parcoords": [
           {
            "line": {
             "colorbar": {
              "outlinewidth": 0,
              "ticks": ""
             }
            },
            "type": "parcoords"
           }
          ],
          "pie": [
           {
            "automargin": true,
            "type": "pie"
           }
          ],
          "scatter": [
           {
            "marker": {
             "colorbar": {
              "outlinewidth": 0,
              "ticks": ""
             }
            },
            "type": "scatter"
           }
          ],
          "scatter3d": [
           {
            "line": {
             "colorbar": {
              "outlinewidth": 0,
              "ticks": ""
             }
            },
            "marker": {
             "colorbar": {
              "outlinewidth": 0,
              "ticks": ""
             }
            },
            "type": "scatter3d"
           }
          ],
          "scattercarpet": [
           {
            "marker": {
             "colorbar": {
              "outlinewidth": 0,
              "ticks": ""
             }
            },
            "type": "scattercarpet"
           }
          ],
          "scattergeo": [
           {
            "marker": {
             "colorbar": {
              "outlinewidth": 0,
              "ticks": ""
             }
            },
            "type": "scattergeo"
           }
          ],
          "scattergl": [
           {
            "marker": {
             "colorbar": {
              "outlinewidth": 0,
              "ticks": ""
             }
            },
            "type": "scattergl"
           }
          ],
          "scattermapbox": [
           {
            "marker": {
             "colorbar": {
              "outlinewidth": 0,
              "ticks": ""
             }
            },
            "type": "scattermapbox"
           }
          ],
          "scatterpolar": [
           {
            "marker": {
             "colorbar": {
              "outlinewidth": 0,
              "ticks": ""
             }
            },
            "type": "scatterpolar"
           }
          ],
          "scatterpolargl": [
           {
            "marker": {
             "colorbar": {
              "outlinewidth": 0,
              "ticks": ""
             }
            },
            "type": "scatterpolargl"
           }
          ],
          "scatterternary": [
           {
            "marker": {
             "colorbar": {
              "outlinewidth": 0,
              "ticks": ""
             }
            },
            "type": "scatterternary"
           }
          ],
          "surface": [
           {
            "colorbar": {
             "outlinewidth": 0,
             "ticks": ""
            },
            "colorscale": [
             [
              0,
              "#0d0887"
             ],
             [
              0.1111111111111111,
              "#46039f"
             ],
             [
              0.2222222222222222,
              "#7201a8"
             ],
             [
              0.3333333333333333,
              "#9c179e"
             ],
             [
              0.4444444444444444,
              "#bd3786"
             ],
             [
              0.5555555555555556,
              "#d8576b"
             ],
             [
              0.6666666666666666,
              "#ed7953"
             ],
             [
              0.7777777777777778,
              "#fb9f3a"
             ],
             [
              0.8888888888888888,
              "#fdca26"
             ],
             [
              1,
              "#f0f921"
             ]
            ],
            "type": "surface"
           }
          ],
          "table": [
           {
            "cells": {
             "fill": {
              "color": "#EBF0F8"
             },
             "line": {
              "color": "white"
             }
            },
            "header": {
             "fill": {
              "color": "#C8D4E3"
             },
             "line": {
              "color": "white"
             }
            },
            "type": "table"
           }
          ]
         },
         "layout": {
          "annotationdefaults": {
           "arrowcolor": "#2a3f5f",
           "arrowhead": 0,
           "arrowwidth": 1
          },
          "autotypenumbers": "strict",
          "coloraxis": {
           "colorbar": {
            "outlinewidth": 0,
            "ticks": ""
           }
          },
          "colorscale": {
           "diverging": [
            [
             0,
             "#8e0152"
            ],
            [
             0.1,
             "#c51b7d"
            ],
            [
             0.2,
             "#de77ae"
            ],
            [
             0.3,
             "#f1b6da"
            ],
            [
             0.4,
             "#fde0ef"
            ],
            [
             0.5,
             "#f7f7f7"
            ],
            [
             0.6,
             "#e6f5d0"
            ],
            [
             0.7,
             "#b8e186"
            ],
            [
             0.8,
             "#7fbc41"
            ],
            [
             0.9,
             "#4d9221"
            ],
            [
             1,
             "#276419"
            ]
           ],
           "sequential": [
            [
             0,
             "#0d0887"
            ],
            [
             0.1111111111111111,
             "#46039f"
            ],
            [
             0.2222222222222222,
             "#7201a8"
            ],
            [
             0.3333333333333333,
             "#9c179e"
            ],
            [
             0.4444444444444444,
             "#bd3786"
            ],
            [
             0.5555555555555556,
             "#d8576b"
            ],
            [
             0.6666666666666666,
             "#ed7953"
            ],
            [
             0.7777777777777778,
             "#fb9f3a"
            ],
            [
             0.8888888888888888,
             "#fdca26"
            ],
            [
             1,
             "#f0f921"
            ]
           ],
           "sequentialminus": [
            [
             0,
             "#0d0887"
            ],
            [
             0.1111111111111111,
             "#46039f"
            ],
            [
             0.2222222222222222,
             "#7201a8"
            ],
            [
             0.3333333333333333,
             "#9c179e"
            ],
            [
             0.4444444444444444,
             "#bd3786"
            ],
            [
             0.5555555555555556,
             "#d8576b"
            ],
            [
             0.6666666666666666,
             "#ed7953"
            ],
            [
             0.7777777777777778,
             "#fb9f3a"
            ],
            [
             0.8888888888888888,
             "#fdca26"
            ],
            [
             1,
             "#f0f921"
            ]
           ]
          },
          "colorway": [
           "#636efa",
           "#EF553B",
           "#00cc96",
           "#ab63fa",
           "#FFA15A",
           "#19d3f3",
           "#FF6692",
           "#B6E880",
           "#FF97FF",
           "#FECB52"
          ],
          "font": {
           "color": "#2a3f5f"
          },
          "geo": {
           "bgcolor": "white",
           "lakecolor": "white",
           "landcolor": "#E5ECF6",
           "showlakes": true,
           "showland": true,
           "subunitcolor": "white"
          },
          "hoverlabel": {
           "align": "left"
          },
          "hovermode": "closest",
          "mapbox": {
           "style": "light"
          },
          "paper_bgcolor": "white",
          "plot_bgcolor": "#E5ECF6",
          "polar": {
           "angularaxis": {
            "gridcolor": "white",
            "linecolor": "white",
            "ticks": ""
           },
           "bgcolor": "#E5ECF6",
           "radialaxis": {
            "gridcolor": "white",
            "linecolor": "white",
            "ticks": ""
           }
          },
          "scene": {
           "xaxis": {
            "backgroundcolor": "#E5ECF6",
            "gridcolor": "white",
            "gridwidth": 2,
            "linecolor": "white",
            "showbackground": true,
            "ticks": "",
            "zerolinecolor": "white"
           },
           "yaxis": {
            "backgroundcolor": "#E5ECF6",
            "gridcolor": "white",
            "gridwidth": 2,
            "linecolor": "white",
            "showbackground": true,
            "ticks": "",
            "zerolinecolor": "white"
           },
           "zaxis": {
            "backgroundcolor": "#E5ECF6",
            "gridcolor": "white",
            "gridwidth": 2,
            "linecolor": "white",
            "showbackground": true,
            "ticks": "",
            "zerolinecolor": "white"
           }
          },
          "shapedefaults": {
           "line": {
            "color": "#2a3f5f"
           }
          },
          "ternary": {
           "aaxis": {
            "gridcolor": "white",
            "linecolor": "white",
            "ticks": ""
           },
           "baxis": {
            "gridcolor": "white",
            "linecolor": "white",
            "ticks": ""
           },
           "bgcolor": "#E5ECF6",
           "caxis": {
            "gridcolor": "white",
            "linecolor": "white",
            "ticks": ""
           }
          },
          "title": {
           "x": 0.05
          },
          "xaxis": {
           "automargin": true,
           "gridcolor": "white",
           "linecolor": "white",
           "ticks": "",
           "title": {
            "standoff": 15
           },
           "zerolinecolor": "white",
           "zerolinewidth": 2
          },
          "yaxis": {
           "automargin": true,
           "gridcolor": "white",
           "linecolor": "white",
           "ticks": "",
           "title": {
            "standoff": 15
           },
           "zerolinecolor": "white",
           "zerolinewidth": 2
          }
         }
        },
        "xaxis": {
         "color": "white"
        },
        "yaxis": {
         "color": "white",
         "gridcolor": "rgba(225, 225, 225, .5)"
        }
       }
      }
     },
     "metadata": {},
     "output_type": "display_data"
    }
   ],
   "source": [
    "df = data.copy()\n",
    "df['languages'].replace('no_data', np.nan, inplace  = True)\n",
    "df.dropna(inplace=True)\n",
    "languages = []\n",
    "for i, x in df['languages'].iteritems():\n",
    "    l = x.split(', ')\n",
    "    for lang in l:\n",
    "        languages.append(lang)\n",
    "df = pd.DataFrame()\n",
    "df['languages'] = languages\n",
    "df['count'] = 1\n",
    "x = df.groupby('languages')['count'].sum().sort_values(ascending=False)[0:10]\n",
    "y=len(df)\n",
    "r=((x*100/y)).round(2)\n",
    "df = pd.DataFrame(r)\n",
    "fig = go.Figure(data=[go.Bar(x=df.index, y=df['count'].to_list())])\n",
    "fig.update_traces(marker_color=colors[::-1][1:], marker_line_color='#212529',\n",
    "                  marker_line_width=2)\n",
    "\n",
    "fig.update_traces(marker=dict(line=dict(color='#212529', width=2)), hoverlabel=dict(font_size=14,font_family=\"Arial, san serif\",font_color=\"white\"))\n",
    "\n",
    "fig.update_traces(hovertemplate=('<br>%{x} presence is: %{value}%<br><extra></extra>'))\n",
    "\n",
    "fig.update_layout(paper_bgcolor=\"#212529\", plot_bgcolor ='rgba(0, 0, 0, 0)', hoverlabel_bordercolor='#212529',margin=margin, yaxis_gridcolor ='rgba(225, 225, 225, .5)', font_color=\"white\", font_family=\"Arial, san serif\", font_size=15)\n",
    "\n",
    "fig.update_yaxes(color=\"white\")\n",
    "fig.update_xaxes(color=\"white\")\n",
    "fig.write_html('visualization/three.html')\n",
    "fig.show()"
   ]
  },
  {
   "cell_type": "markdown",
   "metadata": {},
   "source": [
    "## Rating analysis\n",
    "\n",
    "We plot in bar chart ratings present on our dataset divided by type (Movie and TV Show).\n",
    "\n",
    "**Conclusion:** Here we can notice that most of the contents are made for Adults. Another interesting insight is the fact that movies present more teenagers than young adults ratings and TV Shows tend to be rated more by young adults than teens."
   ]
  },
  {
   "cell_type": "code",
   "execution_count": 104,
   "metadata": {},
   "outputs": [
    {
     "data": {
      "application/vnd.plotly.v1+json": {
       "config": {
        "plotlyServerURL": "https://plot.ly"
       },
       "data": [
        {
         "base": 0,
         "hoverlabel": {
          "font": {
           "color": "white",
           "family": "Arial, san serif",
           "size": 14
          }
         },
         "hovertemplate": "<br>Total %{x}: %{y}<br><extra></extra>",
         "marker": {
          "color": "#ff547c",
          "line": {
           "color": "#212529",
           "width": 2
          }
         },
         "name": "Movie",
         "type": "bar",
         "x": [
          "Adults 18+",
          "Young Adults 16+",
          "Teens 13+",
          "Older Kids 7+",
          "Kids All",
          "Unrated"
         ],
         "y": [
          2895,
          1230,
          1344,
          645,
          266,
          102
         ]
        },
        {
         "hoverlabel": {
          "font": {
           "color": "white",
           "family": "Arial, san serif",
           "size": 14
          }
         },
         "hovertemplate": "<br>Total %{x}: %{y}<br><extra></extra>",
         "marker": {
          "color": "#a0a3de",
          "line": {
           "color": "#212529",
           "width": 2
          }
         },
         "name": "TV Shows",
         "type": "bar",
         "x": [
          "Adults 18+",
          "Young Adults 16+",
          "Teens 13+",
          "Older Kids 7+",
          "Kids All",
          "Unrated"
         ],
         "y": [
          759,
          494,
          64,
          309,
          184,
          18
         ]
        }
       ],
       "layout": {
        "font": {
         "color": "white",
         "family": "Arial, san serif",
         "size": 15
        },
        "hoverlabel": {
         "bordercolor": "#212529"
        },
        "margin": {
         "b": 10,
         "l": 10,
         "r": 10,
         "t": 10
        },
        "paper_bgcolor": "#212529",
        "plot_bgcolor": "rgba(0, 0, 0, 0)",
        "template": {
         "data": {
          "bar": [
           {
            "error_x": {
             "color": "#2a3f5f"
            },
            "error_y": {
             "color": "#2a3f5f"
            },
            "marker": {
             "line": {
              "color": "#E5ECF6",
              "width": 0.5
             },
             "pattern": {
              "fillmode": "overlay",
              "size": 10,
              "solidity": 0.2
             }
            },
            "type": "bar"
           }
          ],
          "barpolar": [
           {
            "marker": {
             "line": {
              "color": "#E5ECF6",
              "width": 0.5
             },
             "pattern": {
              "fillmode": "overlay",
              "size": 10,
              "solidity": 0.2
             }
            },
            "type": "barpolar"
           }
          ],
          "carpet": [
           {
            "aaxis": {
             "endlinecolor": "#2a3f5f",
             "gridcolor": "white",
             "linecolor": "white",
             "minorgridcolor": "white",
             "startlinecolor": "#2a3f5f"
            },
            "baxis": {
             "endlinecolor": "#2a3f5f",
             "gridcolor": "white",
             "linecolor": "white",
             "minorgridcolor": "white",
             "startlinecolor": "#2a3f5f"
            },
            "type": "carpet"
           }
          ],
          "choropleth": [
           {
            "colorbar": {
             "outlinewidth": 0,
             "ticks": ""
            },
            "type": "choropleth"
           }
          ],
          "contour": [
           {
            "colorbar": {
             "outlinewidth": 0,
             "ticks": ""
            },
            "colorscale": [
             [
              0,
              "#0d0887"
             ],
             [
              0.1111111111111111,
              "#46039f"
             ],
             [
              0.2222222222222222,
              "#7201a8"
             ],
             [
              0.3333333333333333,
              "#9c179e"
             ],
             [
              0.4444444444444444,
              "#bd3786"
             ],
             [
              0.5555555555555556,
              "#d8576b"
             ],
             [
              0.6666666666666666,
              "#ed7953"
             ],
             [
              0.7777777777777778,
              "#fb9f3a"
             ],
             [
              0.8888888888888888,
              "#fdca26"
             ],
             [
              1,
              "#f0f921"
             ]
            ],
            "type": "contour"
           }
          ],
          "contourcarpet": [
           {
            "colorbar": {
             "outlinewidth": 0,
             "ticks": ""
            },
            "type": "contourcarpet"
           }
          ],
          "heatmap": [
           {
            "colorbar": {
             "outlinewidth": 0,
             "ticks": ""
            },
            "colorscale": [
             [
              0,
              "#0d0887"
             ],
             [
              0.1111111111111111,
              "#46039f"
             ],
             [
              0.2222222222222222,
              "#7201a8"
             ],
             [
              0.3333333333333333,
              "#9c179e"
             ],
             [
              0.4444444444444444,
              "#bd3786"
             ],
             [
              0.5555555555555556,
              "#d8576b"
             ],
             [
              0.6666666666666666,
              "#ed7953"
             ],
             [
              0.7777777777777778,
              "#fb9f3a"
             ],
             [
              0.8888888888888888,
              "#fdca26"
             ],
             [
              1,
              "#f0f921"
             ]
            ],
            "type": "heatmap"
           }
          ],
          "heatmapgl": [
           {
            "colorbar": {
             "outlinewidth": 0,
             "ticks": ""
            },
            "colorscale": [
             [
              0,
              "#0d0887"
             ],
             [
              0.1111111111111111,
              "#46039f"
             ],
             [
              0.2222222222222222,
              "#7201a8"
             ],
             [
              0.3333333333333333,
              "#9c179e"
             ],
             [
              0.4444444444444444,
              "#bd3786"
             ],
             [
              0.5555555555555556,
              "#d8576b"
             ],
             [
              0.6666666666666666,
              "#ed7953"
             ],
             [
              0.7777777777777778,
              "#fb9f3a"
             ],
             [
              0.8888888888888888,
              "#fdca26"
             ],
             [
              1,
              "#f0f921"
             ]
            ],
            "type": "heatmapgl"
           }
          ],
          "histogram": [
           {
            "marker": {
             "pattern": {
              "fillmode": "overlay",
              "size": 10,
              "solidity": 0.2
             }
            },
            "type": "histogram"
           }
          ],
          "histogram2d": [
           {
            "colorbar": {
             "outlinewidth": 0,
             "ticks": ""
            },
            "colorscale": [
             [
              0,
              "#0d0887"
             ],
             [
              0.1111111111111111,
              "#46039f"
             ],
             [
              0.2222222222222222,
              "#7201a8"
             ],
             [
              0.3333333333333333,
              "#9c179e"
             ],
             [
              0.4444444444444444,
              "#bd3786"
             ],
             [
              0.5555555555555556,
              "#d8576b"
             ],
             [
              0.6666666666666666,
              "#ed7953"
             ],
             [
              0.7777777777777778,
              "#fb9f3a"
             ],
             [
              0.8888888888888888,
              "#fdca26"
             ],
             [
              1,
              "#f0f921"
             ]
            ],
            "type": "histogram2d"
           }
          ],
          "histogram2dcontour": [
           {
            "colorbar": {
             "outlinewidth": 0,
             "ticks": ""
            },
            "colorscale": [
             [
              0,
              "#0d0887"
             ],
             [
              0.1111111111111111,
              "#46039f"
             ],
             [
              0.2222222222222222,
              "#7201a8"
             ],
             [
              0.3333333333333333,
              "#9c179e"
             ],
             [
              0.4444444444444444,
              "#bd3786"
             ],
             [
              0.5555555555555556,
              "#d8576b"
             ],
             [
              0.6666666666666666,
              "#ed7953"
             ],
             [
              0.7777777777777778,
              "#fb9f3a"
             ],
             [
              0.8888888888888888,
              "#fdca26"
             ],
             [
              1,
              "#f0f921"
             ]
            ],
            "type": "histogram2dcontour"
           }
          ],
          "mesh3d": [
           {
            "colorbar": {
             "outlinewidth": 0,
             "ticks": ""
            },
            "type": "mesh3d"
           }
          ],
          "parcoords": [
           {
            "line": {
             "colorbar": {
              "outlinewidth": 0,
              "ticks": ""
             }
            },
            "type": "parcoords"
           }
          ],
          "pie": [
           {
            "automargin": true,
            "type": "pie"
           }
          ],
          "scatter": [
           {
            "marker": {
             "colorbar": {
              "outlinewidth": 0,
              "ticks": ""
             }
            },
            "type": "scatter"
           }
          ],
          "scatter3d": [
           {
            "line": {
             "colorbar": {
              "outlinewidth": 0,
              "ticks": ""
             }
            },
            "marker": {
             "colorbar": {
              "outlinewidth": 0,
              "ticks": ""
             }
            },
            "type": "scatter3d"
           }
          ],
          "scattercarpet": [
           {
            "marker": {
             "colorbar": {
              "outlinewidth": 0,
              "ticks": ""
             }
            },
            "type": "scattercarpet"
           }
          ],
          "scattergeo": [
           {
            "marker": {
             "colorbar": {
              "outlinewidth": 0,
              "ticks": ""
             }
            },
            "type": "scattergeo"
           }
          ],
          "scattergl": [
           {
            "marker": {
             "colorbar": {
              "outlinewidth": 0,
              "ticks": ""
             }
            },
            "type": "scattergl"
           }
          ],
          "scattermapbox": [
           {
            "marker": {
             "colorbar": {
              "outlinewidth": 0,
              "ticks": ""
             }
            },
            "type": "scattermapbox"
           }
          ],
          "scatterpolar": [
           {
            "marker": {
             "colorbar": {
              "outlinewidth": 0,
              "ticks": ""
             }
            },
            "type": "scatterpolar"
           }
          ],
          "scatterpolargl": [
           {
            "marker": {
             "colorbar": {
              "outlinewidth": 0,
              "ticks": ""
             }
            },
            "type": "scatterpolargl"
           }
          ],
          "scatterternary": [
           {
            "marker": {
             "colorbar": {
              "outlinewidth": 0,
              "ticks": ""
             }
            },
            "type": "scatterternary"
           }
          ],
          "surface": [
           {
            "colorbar": {
             "outlinewidth": 0,
             "ticks": ""
            },
            "colorscale": [
             [
              0,
              "#0d0887"
             ],
             [
              0.1111111111111111,
              "#46039f"
             ],
             [
              0.2222222222222222,
              "#7201a8"
             ],
             [
              0.3333333333333333,
              "#9c179e"
             ],
             [
              0.4444444444444444,
              "#bd3786"
             ],
             [
              0.5555555555555556,
              "#d8576b"
             ],
             [
              0.6666666666666666,
              "#ed7953"
             ],
             [
              0.7777777777777778,
              "#fb9f3a"
             ],
             [
              0.8888888888888888,
              "#fdca26"
             ],
             [
              1,
              "#f0f921"
             ]
            ],
            "type": "surface"
           }
          ],
          "table": [
           {
            "cells": {
             "fill": {
              "color": "#EBF0F8"
             },
             "line": {
              "color": "white"
             }
            },
            "header": {
             "fill": {
              "color": "#C8D4E3"
             },
             "line": {
              "color": "white"
             }
            },
            "type": "table"
           }
          ]
         },
         "layout": {
          "annotationdefaults": {
           "arrowcolor": "#2a3f5f",
           "arrowhead": 0,
           "arrowwidth": 1
          },
          "autotypenumbers": "strict",
          "coloraxis": {
           "colorbar": {
            "outlinewidth": 0,
            "ticks": ""
           }
          },
          "colorscale": {
           "diverging": [
            [
             0,
             "#8e0152"
            ],
            [
             0.1,
             "#c51b7d"
            ],
            [
             0.2,
             "#de77ae"
            ],
            [
             0.3,
             "#f1b6da"
            ],
            [
             0.4,
             "#fde0ef"
            ],
            [
             0.5,
             "#f7f7f7"
            ],
            [
             0.6,
             "#e6f5d0"
            ],
            [
             0.7,
             "#b8e186"
            ],
            [
             0.8,
             "#7fbc41"
            ],
            [
             0.9,
             "#4d9221"
            ],
            [
             1,
             "#276419"
            ]
           ],
           "sequential": [
            [
             0,
             "#0d0887"
            ],
            [
             0.1111111111111111,
             "#46039f"
            ],
            [
             0.2222222222222222,
             "#7201a8"
            ],
            [
             0.3333333333333333,
             "#9c179e"
            ],
            [
             0.4444444444444444,
             "#bd3786"
            ],
            [
             0.5555555555555556,
             "#d8576b"
            ],
            [
             0.6666666666666666,
             "#ed7953"
            ],
            [
             0.7777777777777778,
             "#fb9f3a"
            ],
            [
             0.8888888888888888,
             "#fdca26"
            ],
            [
             1,
             "#f0f921"
            ]
           ],
           "sequentialminus": [
            [
             0,
             "#0d0887"
            ],
            [
             0.1111111111111111,
             "#46039f"
            ],
            [
             0.2222222222222222,
             "#7201a8"
            ],
            [
             0.3333333333333333,
             "#9c179e"
            ],
            [
             0.4444444444444444,
             "#bd3786"
            ],
            [
             0.5555555555555556,
             "#d8576b"
            ],
            [
             0.6666666666666666,
             "#ed7953"
            ],
            [
             0.7777777777777778,
             "#fb9f3a"
            ],
            [
             0.8888888888888888,
             "#fdca26"
            ],
            [
             1,
             "#f0f921"
            ]
           ]
          },
          "colorway": [
           "#636efa",
           "#EF553B",
           "#00cc96",
           "#ab63fa",
           "#FFA15A",
           "#19d3f3",
           "#FF6692",
           "#B6E880",
           "#FF97FF",
           "#FECB52"
          ],
          "font": {
           "color": "#2a3f5f"
          },
          "geo": {
           "bgcolor": "white",
           "lakecolor": "white",
           "landcolor": "#E5ECF6",
           "showlakes": true,
           "showland": true,
           "subunitcolor": "white"
          },
          "hoverlabel": {
           "align": "left"
          },
          "hovermode": "closest",
          "mapbox": {
           "style": "light"
          },
          "paper_bgcolor": "white",
          "plot_bgcolor": "#E5ECF6",
          "polar": {
           "angularaxis": {
            "gridcolor": "white",
            "linecolor": "white",
            "ticks": ""
           },
           "bgcolor": "#E5ECF6",
           "radialaxis": {
            "gridcolor": "white",
            "linecolor": "white",
            "ticks": ""
           }
          },
          "scene": {
           "xaxis": {
            "backgroundcolor": "#E5ECF6",
            "gridcolor": "white",
            "gridwidth": 2,
            "linecolor": "white",
            "showbackground": true,
            "ticks": "",
            "zerolinecolor": "white"
           },
           "yaxis": {
            "backgroundcolor": "#E5ECF6",
            "gridcolor": "white",
            "gridwidth": 2,
            "linecolor": "white",
            "showbackground": true,
            "ticks": "",
            "zerolinecolor": "white"
           },
           "zaxis": {
            "backgroundcolor": "#E5ECF6",
            "gridcolor": "white",
            "gridwidth": 2,
            "linecolor": "white",
            "showbackground": true,
            "ticks": "",
            "zerolinecolor": "white"
           }
          },
          "shapedefaults": {
           "line": {
            "color": "#2a3f5f"
           }
          },
          "ternary": {
           "aaxis": {
            "gridcolor": "white",
            "linecolor": "white",
            "ticks": ""
           },
           "baxis": {
            "gridcolor": "white",
            "linecolor": "white",
            "ticks": ""
           },
           "bgcolor": "#E5ECF6",
           "caxis": {
            "gridcolor": "white",
            "linecolor": "white",
            "ticks": ""
           }
          },
          "title": {
           "x": 0.05
          },
          "xaxis": {
           "automargin": true,
           "gridcolor": "white",
           "linecolor": "white",
           "ticks": "",
           "title": {
            "standoff": 15
           },
           "zerolinecolor": "white",
           "zerolinewidth": 2
          },
          "yaxis": {
           "automargin": true,
           "gridcolor": "white",
           "linecolor": "white",
           "ticks": "",
           "title": {
            "standoff": 15
           },
           "zerolinecolor": "white",
           "zerolinewidth": 2
          }
         }
        },
        "xaxis": {
         "color": "white"
        },
        "yaxis": {
         "color": "white",
         "gridcolor": "rgba(225, 225, 225, .5)"
        }
       }
      }
     },
     "metadata": {},
     "output_type": "display_data"
    }
   ],
   "source": [
    "df = data.copy()\n",
    "df['rating'].replace('no_data', np.nan, inplace  = True)\n",
    "df.dropna(inplace=True)\n",
    "df['count'] = 1\n",
    "order = pd.DataFrame(df.groupby('rating')['count'].sum().sort_values(ascending=False).reset_index())\n",
    "rating_order = order['rating'].to_list()\n",
    "mf = df.groupby('type')['rating'].value_counts().unstack().sort_index().fillna(0).astype(int)[rating_order]\n",
    "fig = go.Figure()\n",
    "fig.add_trace(go.Bar(x=mf.columns, y=mf.loc['Movie'],\n",
    "                base=0,\n",
    "                marker_color='#ff547c',\n",
    "                name='Movie'))\n",
    "fig.add_trace(go.Bar(x=mf.columns,  y= mf.loc['TV Show'],\n",
    "                marker_color='#a0a3de',\n",
    "                name='TV Shows'\n",
    "                ))\n",
    "\n",
    "fig.update_traces(marker=dict(line=dict(color='#212529', width=2)), hoverlabel=dict(font_size=14,font_family=\"Arial, san serif\",font_color=\"white\") )\n",
    "fig.update_traces(hovertemplate=('<br>Total %{x}: %{y}<br><extra></extra>'))\n",
    "fig.update_layout(paper_bgcolor=\"#212529\", plot_bgcolor ='rgba(0, 0, 0, 0)', hoverlabel_bordercolor='#212529',margin=margin, yaxis_gridcolor ='rgba(225, 225, 225, .5)', font_color=\"white\", font_family=\"Arial, san serif\", font_size=15)\n",
    "\n",
    "fig.update_yaxes(color=\"white\")\n",
    "fig.update_xaxes(color=\"white\")\n",
    "fig.write_html('visualization/four.html')\n",
    "fig.show()"
   ]
  },
  {
   "cell_type": "markdown",
   "metadata": {},
   "source": [
    "### Director gender analysis\n",
    "\n",
    "We plot a pie chart to understand gender distribution in our dataset. Then, in order to better get the evolution over time of gender inclusion, we plot a filled area chart.\n",
    "\n",
    "**Conclusion:** FFrom the two plots we notice that male directors are still the majority. Interestingly, after 2014 (the year of the real boom of streaming services), female directors have seen an increase. But, in the same year, male directors also had an exponential growth. Are we really achieving a gender balance in the world of cinema, or are we simply producing more content in less time?"
   ]
  },
  {
   "cell_type": "code",
   "execution_count": 105,
   "metadata": {},
   "outputs": [
    {
     "data": {
      "application/vnd.plotly.v1+json": {
       "config": {
        "plotlyServerURL": "https://plot.ly"
       },
       "data": [
        {
         "domain": {
          "x": [
           0,
           1
          ],
          "y": [
           0,
           1
          ]
         },
         "hoverlabel": {
          "font": {
           "color": "white",
           "family": "Arial, san serif",
           "size": 14
          }
         },
         "hovertemplate": "<br>Total %{label} directors are %{value}<br><extra></extra>",
         "labels": [
          "male",
          "female",
          "unknown",
          "transgender female",
          "non-binary"
         ],
         "legendgroup": "",
         "marker": {
          "colors": [
           "#ff547c",
           "#ff76a7",
           "#ff96cc",
           "#ffb5ea",
           "#ffd2ff",
           "#e2c1f5",
           "#c2b2ea",
           "#a0a3de",
           "#7b95d0",
           "#5287c1",
           "#0f79af"
          ],
          "line": {
           "color": "#212529",
           "width": 2
          }
         },
         "name": "",
         "showlegend": true,
         "textfont": {
          "color": "white",
          "family": "Arial, san serif",
          "size": 15
         },
         "textinfo": "percent+label",
         "textposition": "inside",
         "type": "pie",
         "values": [
          5975,
          886,
          256,
          4,
          2
         ]
        }
       ],
       "layout": {
        "font": {
         "color": "white",
         "family": "Arial, san serif",
         "size": 15
        },
        "hoverlabel": {
         "bordercolor": "#212529"
        },
        "legend": {
         "tracegroupgap": 0
        },
        "margin": {
         "b": 10,
         "l": 10,
         "r": 10,
         "t": 10
        },
        "paper_bgcolor": "#212529",
        "plot_bgcolor": "rgba(0, 0, 0, 0)",
        "template": {
         "data": {
          "bar": [
           {
            "error_x": {
             "color": "#2a3f5f"
            },
            "error_y": {
             "color": "#2a3f5f"
            },
            "marker": {
             "line": {
              "color": "#E5ECF6",
              "width": 0.5
             },
             "pattern": {
              "fillmode": "overlay",
              "size": 10,
              "solidity": 0.2
             }
            },
            "type": "bar"
           }
          ],
          "barpolar": [
           {
            "marker": {
             "line": {
              "color": "#E5ECF6",
              "width": 0.5
             },
             "pattern": {
              "fillmode": "overlay",
              "size": 10,
              "solidity": 0.2
             }
            },
            "type": "barpolar"
           }
          ],
          "carpet": [
           {
            "aaxis": {
             "endlinecolor": "#2a3f5f",
             "gridcolor": "white",
             "linecolor": "white",
             "minorgridcolor": "white",
             "startlinecolor": "#2a3f5f"
            },
            "baxis": {
             "endlinecolor": "#2a3f5f",
             "gridcolor": "white",
             "linecolor": "white",
             "minorgridcolor": "white",
             "startlinecolor": "#2a3f5f"
            },
            "type": "carpet"
           }
          ],
          "choropleth": [
           {
            "colorbar": {
             "outlinewidth": 0,
             "ticks": ""
            },
            "type": "choropleth"
           }
          ],
          "contour": [
           {
            "colorbar": {
             "outlinewidth": 0,
             "ticks": ""
            },
            "colorscale": [
             [
              0,
              "#0d0887"
             ],
             [
              0.1111111111111111,
              "#46039f"
             ],
             [
              0.2222222222222222,
              "#7201a8"
             ],
             [
              0.3333333333333333,
              "#9c179e"
             ],
             [
              0.4444444444444444,
              "#bd3786"
             ],
             [
              0.5555555555555556,
              "#d8576b"
             ],
             [
              0.6666666666666666,
              "#ed7953"
             ],
             [
              0.7777777777777778,
              "#fb9f3a"
             ],
             [
              0.8888888888888888,
              "#fdca26"
             ],
             [
              1,
              "#f0f921"
             ]
            ],
            "type": "contour"
           }
          ],
          "contourcarpet": [
           {
            "colorbar": {
             "outlinewidth": 0,
             "ticks": ""
            },
            "type": "contourcarpet"
           }
          ],
          "heatmap": [
           {
            "colorbar": {
             "outlinewidth": 0,
             "ticks": ""
            },
            "colorscale": [
             [
              0,
              "#0d0887"
             ],
             [
              0.1111111111111111,
              "#46039f"
             ],
             [
              0.2222222222222222,
              "#7201a8"
             ],
             [
              0.3333333333333333,
              "#9c179e"
             ],
             [
              0.4444444444444444,
              "#bd3786"
             ],
             [
              0.5555555555555556,
              "#d8576b"
             ],
             [
              0.6666666666666666,
              "#ed7953"
             ],
             [
              0.7777777777777778,
              "#fb9f3a"
             ],
             [
              0.8888888888888888,
              "#fdca26"
             ],
             [
              1,
              "#f0f921"
             ]
            ],
            "type": "heatmap"
           }
          ],
          "heatmapgl": [
           {
            "colorbar": {
             "outlinewidth": 0,
             "ticks": ""
            },
            "colorscale": [
             [
              0,
              "#0d0887"
             ],
             [
              0.1111111111111111,
              "#46039f"
             ],
             [
              0.2222222222222222,
              "#7201a8"
             ],
             [
              0.3333333333333333,
              "#9c179e"
             ],
             [
              0.4444444444444444,
              "#bd3786"
             ],
             [
              0.5555555555555556,
              "#d8576b"
             ],
             [
              0.6666666666666666,
              "#ed7953"
             ],
             [
              0.7777777777777778,
              "#fb9f3a"
             ],
             [
              0.8888888888888888,
              "#fdca26"
             ],
             [
              1,
              "#f0f921"
             ]
            ],
            "type": "heatmapgl"
           }
          ],
          "histogram": [
           {
            "marker": {
             "pattern": {
              "fillmode": "overlay",
              "size": 10,
              "solidity": 0.2
             }
            },
            "type": "histogram"
           }
          ],
          "histogram2d": [
           {
            "colorbar": {
             "outlinewidth": 0,
             "ticks": ""
            },
            "colorscale": [
             [
              0,
              "#0d0887"
             ],
             [
              0.1111111111111111,
              "#46039f"
             ],
             [
              0.2222222222222222,
              "#7201a8"
             ],
             [
              0.3333333333333333,
              "#9c179e"
             ],
             [
              0.4444444444444444,
              "#bd3786"
             ],
             [
              0.5555555555555556,
              "#d8576b"
             ],
             [
              0.6666666666666666,
              "#ed7953"
             ],
             [
              0.7777777777777778,
              "#fb9f3a"
             ],
             [
              0.8888888888888888,
              "#fdca26"
             ],
             [
              1,
              "#f0f921"
             ]
            ],
            "type": "histogram2d"
           }
          ],
          "histogram2dcontour": [
           {
            "colorbar": {
             "outlinewidth": 0,
             "ticks": ""
            },
            "colorscale": [
             [
              0,
              "#0d0887"
             ],
             [
              0.1111111111111111,
              "#46039f"
             ],
             [
              0.2222222222222222,
              "#7201a8"
             ],
             [
              0.3333333333333333,
              "#9c179e"
             ],
             [
              0.4444444444444444,
              "#bd3786"
             ],
             [
              0.5555555555555556,
              "#d8576b"
             ],
             [
              0.6666666666666666,
              "#ed7953"
             ],
             [
              0.7777777777777778,
              "#fb9f3a"
             ],
             [
              0.8888888888888888,
              "#fdca26"
             ],
             [
              1,
              "#f0f921"
             ]
            ],
            "type": "histogram2dcontour"
           }
          ],
          "mesh3d": [
           {
            "colorbar": {
             "outlinewidth": 0,
             "ticks": ""
            },
            "type": "mesh3d"
           }
          ],
          "parcoords": [
           {
            "line": {
             "colorbar": {
              "outlinewidth": 0,
              "ticks": ""
             }
            },
            "type": "parcoords"
           }
          ],
          "pie": [
           {
            "automargin": true,
            "type": "pie"
           }
          ],
          "scatter": [
           {
            "marker": {
             "colorbar": {
              "outlinewidth": 0,
              "ticks": ""
             }
            },
            "type": "scatter"
           }
          ],
          "scatter3d": [
           {
            "line": {
             "colorbar": {
              "outlinewidth": 0,
              "ticks": ""
             }
            },
            "marker": {
             "colorbar": {
              "outlinewidth": 0,
              "ticks": ""
             }
            },
            "type": "scatter3d"
           }
          ],
          "scattercarpet": [
           {
            "marker": {
             "colorbar": {
              "outlinewidth": 0,
              "ticks": ""
             }
            },
            "type": "scattercarpet"
           }
          ],
          "scattergeo": [
           {
            "marker": {
             "colorbar": {
              "outlinewidth": 0,
              "ticks": ""
             }
            },
            "type": "scattergeo"
           }
          ],
          "scattergl": [
           {
            "marker": {
             "colorbar": {
              "outlinewidth": 0,
              "ticks": ""
             }
            },
            "type": "scattergl"
           }
          ],
          "scattermapbox": [
           {
            "marker": {
             "colorbar": {
              "outlinewidth": 0,
              "ticks": ""
             }
            },
            "type": "scattermapbox"
           }
          ],
          "scatterpolar": [
           {
            "marker": {
             "colorbar": {
              "outlinewidth": 0,
              "ticks": ""
             }
            },
            "type": "scatterpolar"
           }
          ],
          "scatterpolargl": [
           {
            "marker": {
             "colorbar": {
              "outlinewidth": 0,
              "ticks": ""
             }
            },
            "type": "scatterpolargl"
           }
          ],
          "scatterternary": [
           {
            "marker": {
             "colorbar": {
              "outlinewidth": 0,
              "ticks": ""
             }
            },
            "type": "scatterternary"
           }
          ],
          "surface": [
           {
            "colorbar": {
             "outlinewidth": 0,
             "ticks": ""
            },
            "colorscale": [
             [
              0,
              "#0d0887"
             ],
             [
              0.1111111111111111,
              "#46039f"
             ],
             [
              0.2222222222222222,
              "#7201a8"
             ],
             [
              0.3333333333333333,
              "#9c179e"
             ],
             [
              0.4444444444444444,
              "#bd3786"
             ],
             [
              0.5555555555555556,
              "#d8576b"
             ],
             [
              0.6666666666666666,
              "#ed7953"
             ],
             [
              0.7777777777777778,
              "#fb9f3a"
             ],
             [
              0.8888888888888888,
              "#fdca26"
             ],
             [
              1,
              "#f0f921"
             ]
            ],
            "type": "surface"
           }
          ],
          "table": [
           {
            "cells": {
             "fill": {
              "color": "#EBF0F8"
             },
             "line": {
              "color": "white"
             }
            },
            "header": {
             "fill": {
              "color": "#C8D4E3"
             },
             "line": {
              "color": "white"
             }
            },
            "type": "table"
           }
          ]
         },
         "layout": {
          "annotationdefaults": {
           "arrowcolor": "#2a3f5f",
           "arrowhead": 0,
           "arrowwidth": 1
          },
          "autotypenumbers": "strict",
          "coloraxis": {
           "colorbar": {
            "outlinewidth": 0,
            "ticks": ""
           }
          },
          "colorscale": {
           "diverging": [
            [
             0,
             "#8e0152"
            ],
            [
             0.1,
             "#c51b7d"
            ],
            [
             0.2,
             "#de77ae"
            ],
            [
             0.3,
             "#f1b6da"
            ],
            [
             0.4,
             "#fde0ef"
            ],
            [
             0.5,
             "#f7f7f7"
            ],
            [
             0.6,
             "#e6f5d0"
            ],
            [
             0.7,
             "#b8e186"
            ],
            [
             0.8,
             "#7fbc41"
            ],
            [
             0.9,
             "#4d9221"
            ],
            [
             1,
             "#276419"
            ]
           ],
           "sequential": [
            [
             0,
             "#0d0887"
            ],
            [
             0.1111111111111111,
             "#46039f"
            ],
            [
             0.2222222222222222,
             "#7201a8"
            ],
            [
             0.3333333333333333,
             "#9c179e"
            ],
            [
             0.4444444444444444,
             "#bd3786"
            ],
            [
             0.5555555555555556,
             "#d8576b"
            ],
            [
             0.6666666666666666,
             "#ed7953"
            ],
            [
             0.7777777777777778,
             "#fb9f3a"
            ],
            [
             0.8888888888888888,
             "#fdca26"
            ],
            [
             1,
             "#f0f921"
            ]
           ],
           "sequentialminus": [
            [
             0,
             "#0d0887"
            ],
            [
             0.1111111111111111,
             "#46039f"
            ],
            [
             0.2222222222222222,
             "#7201a8"
            ],
            [
             0.3333333333333333,
             "#9c179e"
            ],
            [
             0.4444444444444444,
             "#bd3786"
            ],
            [
             0.5555555555555556,
             "#d8576b"
            ],
            [
             0.6666666666666666,
             "#ed7953"
            ],
            [
             0.7777777777777778,
             "#fb9f3a"
            ],
            [
             0.8888888888888888,
             "#fdca26"
            ],
            [
             1,
             "#f0f921"
            ]
           ]
          },
          "colorway": [
           "#636efa",
           "#EF553B",
           "#00cc96",
           "#ab63fa",
           "#FFA15A",
           "#19d3f3",
           "#FF6692",
           "#B6E880",
           "#FF97FF",
           "#FECB52"
          ],
          "font": {
           "color": "#2a3f5f"
          },
          "geo": {
           "bgcolor": "white",
           "lakecolor": "white",
           "landcolor": "#E5ECF6",
           "showlakes": true,
           "showland": true,
           "subunitcolor": "white"
          },
          "hoverlabel": {
           "align": "left"
          },
          "hovermode": "closest",
          "mapbox": {
           "style": "light"
          },
          "paper_bgcolor": "white",
          "plot_bgcolor": "#E5ECF6",
          "polar": {
           "angularaxis": {
            "gridcolor": "white",
            "linecolor": "white",
            "ticks": ""
           },
           "bgcolor": "#E5ECF6",
           "radialaxis": {
            "gridcolor": "white",
            "linecolor": "white",
            "ticks": ""
           }
          },
          "scene": {
           "xaxis": {
            "backgroundcolor": "#E5ECF6",
            "gridcolor": "white",
            "gridwidth": 2,
            "linecolor": "white",
            "showbackground": true,
            "ticks": "",
            "zerolinecolor": "white"
           },
           "yaxis": {
            "backgroundcolor": "#E5ECF6",
            "gridcolor": "white",
            "gridwidth": 2,
            "linecolor": "white",
            "showbackground": true,
            "ticks": "",
            "zerolinecolor": "white"
           },
           "zaxis": {
            "backgroundcolor": "#E5ECF6",
            "gridcolor": "white",
            "gridwidth": 2,
            "linecolor": "white",
            "showbackground": true,
            "ticks": "",
            "zerolinecolor": "white"
           }
          },
          "shapedefaults": {
           "line": {
            "color": "#2a3f5f"
           }
          },
          "ternary": {
           "aaxis": {
            "gridcolor": "white",
            "linecolor": "white",
            "ticks": ""
           },
           "baxis": {
            "gridcolor": "white",
            "linecolor": "white",
            "ticks": ""
           },
           "bgcolor": "#E5ECF6",
           "caxis": {
            "gridcolor": "white",
            "linecolor": "white",
            "ticks": ""
           }
          },
          "title": {
           "x": 0.05
          },
          "xaxis": {
           "automargin": true,
           "gridcolor": "white",
           "linecolor": "white",
           "ticks": "",
           "title": {
            "standoff": 15
           },
           "zerolinecolor": "white",
           "zerolinewidth": 2
          },
          "yaxis": {
           "automargin": true,
           "gridcolor": "white",
           "linecolor": "white",
           "ticks": "",
           "title": {
            "standoff": 15
           },
           "zerolinecolor": "white",
           "zerolinewidth": 2
          }
         }
        },
        "yaxis": {
         "gridcolor": "rgba(225, 225, 225, .5)"
        }
       }
      }
     },
     "metadata": {},
     "output_type": "display_data"
    },
    {
     "data": {
      "application/vnd.plotly.v1+json": {
       "config": {
        "plotlyServerURL": "https://plot.ly"
       },
       "data": [
        {
         "customdata": [
          [
           "non-binary"
          ],
          [
           "non-binary"
          ]
         ],
         "hoverlabel": {
          "font": {
           "color": "white",
           "family": "Arial, san serif",
           "size": 14
          }
         },
         "hovertemplate": "<br>In %{x}, %{y} films by %{customdata[0]} directors were recorded<br><extra></extra>",
         "legendgroup": "non-binary",
         "line": {
          "color": "#f9314c",
          "shape": "spline"
         },
         "marker": {
          "line": {
           "width": 2
          },
          "symbol": "circle"
         },
         "mode": "lines",
         "name": "non-binary",
         "orientation": "v",
         "showlegend": true,
         "stackgroup": "1",
         "textfont": {
          "color": "#212529",
          "family": "Arial, san serif",
          "size": 16
         },
         "type": "scatter",
         "x": [
          2019,
          2013
         ],
         "xaxis": "x",
         "y": [
          1,
          1
         ],
         "yaxis": "y"
        },
        {
         "customdata": [
          [
           "transgender female"
          ],
          [
           "transgender female"
          ],
          [
           "transgender female"
          ]
         ],
         "hoverlabel": {
          "font": {
           "color": "white",
           "family": "Arial, san serif",
           "size": 14
          }
         },
         "hovertemplate": "<br>In %{x}, %{y} films by %{customdata[0]} directors were recorded<br><extra></extra>",
         "legendgroup": "transgender female",
         "line": {
          "color": "#ff547c",
          "shape": "spline"
         },
         "marker": {
          "line": {
           "width": 2
          },
          "symbol": "circle"
         },
         "mode": "lines",
         "name": "transgender female",
         "orientation": "v",
         "showlegend": true,
         "stackgroup": "1",
         "textfont": {
          "color": "#212529",
          "family": "Arial, san serif",
          "size": 16
         },
         "type": "scatter",
         "x": [
          2019,
          2012,
          2009
         ],
         "xaxis": "x",
         "y": [
          2,
          1,
          1
         ],
         "yaxis": "y"
        },
        {
         "customdata": [
          [
           "unknown"
          ],
          [
           "unknown"
          ],
          [
           "unknown"
          ],
          [
           "unknown"
          ],
          [
           "unknown"
          ],
          [
           "unknown"
          ],
          [
           "unknown"
          ],
          [
           "unknown"
          ],
          [
           "unknown"
          ],
          [
           "unknown"
          ],
          [
           "unknown"
          ],
          [
           "unknown"
          ],
          [
           "unknown"
          ],
          [
           "unknown"
          ]
         ],
         "hoverlabel": {
          "font": {
           "color": "white",
           "family": "Arial, san serif",
           "size": 14
          }
         },
         "hovertemplate": "<br>In %{x}, %{y} films by %{customdata[0]} directors were recorded<br><extra></extra>",
         "legendgroup": "unknown",
         "line": {
          "color": "#ff76a7",
          "shape": "spline"
         },
         "marker": {
          "line": {
           "width": 2
          },
          "symbol": "circle"
         },
         "mode": "lines",
         "name": "unknown",
         "orientation": "v",
         "showlegend": true,
         "stackgroup": "1",
         "textfont": {
          "color": "#212529",
          "family": "Arial, san serif",
          "size": 16
         },
         "type": "scatter",
         "x": [
          2021,
          2020,
          2019,
          2018,
          2017,
          2016,
          2015,
          2014,
          2013,
          2012,
          2011,
          2010,
          2009,
          2008
         ],
         "xaxis": "x",
         "y": [
          28,
          39,
          31,
          30,
          39,
          22,
          13,
          10,
          5,
          4,
          5,
          3,
          1,
          1
         ],
         "yaxis": "y"
        },
        {
         "customdata": [
          [
           "female"
          ],
          [
           "female"
          ],
          [
           "female"
          ],
          [
           "female"
          ],
          [
           "female"
          ],
          [
           "female"
          ],
          [
           "female"
          ],
          [
           "female"
          ],
          [
           "female"
          ],
          [
           "female"
          ],
          [
           "female"
          ],
          [
           "female"
          ],
          [
           "female"
          ],
          [
           "female"
          ]
         ],
         "hoverlabel": {
          "font": {
           "color": "white",
           "family": "Arial, san serif",
           "size": 14
          }
         },
         "hovertemplate": "<br>In %{x}, %{y} films by %{customdata[0]} directors were recorded<br><extra></extra>",
         "legendgroup": "female",
         "line": {
          "color": "#ff96cc",
          "shape": "spline"
         },
         "marker": {
          "line": {
           "width": 2
          },
          "symbol": "circle"
         },
         "mode": "lines",
         "name": "female",
         "orientation": "v",
         "showlegend": true,
         "stackgroup": "1",
         "textfont": {
          "color": "#212529",
          "family": "Arial, san serif",
          "size": 16
         },
         "type": "scatter",
         "x": [
          2021,
          2020,
          2019,
          2018,
          2017,
          2016,
          2015,
          2014,
          2013,
          2012,
          2011,
          2010,
          2009,
          2008
         ],
         "xaxis": "x",
         "y": [
          80,
          96,
          83,
          110,
          102,
          85,
          59,
          31,
          25,
          17,
          17,
          22,
          15,
          13
         ],
         "yaxis": "y"
        },
        {
         "customdata": [
          [
           "male"
          ],
          [
           "male"
          ],
          [
           "male"
          ],
          [
           "male"
          ],
          [
           "male"
          ],
          [
           "male"
          ],
          [
           "male"
          ],
          [
           "male"
          ],
          [
           "male"
          ],
          [
           "male"
          ],
          [
           "male"
          ],
          [
           "male"
          ],
          [
           "male"
          ],
          [
           "male"
          ]
         ],
         "hoverlabel": {
          "font": {
           "color": "white",
           "family": "Arial, san serif",
           "size": 14
          }
         },
         "hovertemplate": "<br>In %{x}, %{y} films by %{customdata[0]} directors were recorded<br><extra></extra>",
         "legendgroup": "male",
         "line": {
          "color": "#ffb5ea",
          "shape": "spline"
         },
         "marker": {
          "line": {
           "width": 2
          },
          "symbol": "circle"
         },
         "mode": "lines",
         "name": "male",
         "orientation": "v",
         "showlegend": true,
         "stackgroup": "1",
         "textfont": {
          "color": "#212529",
          "family": "Arial, san serif",
          "size": 16
         },
         "type": "scatter",
         "x": [
          2021,
          2020,
          2019,
          2018,
          2017,
          2016,
          2015,
          2014,
          2013,
          2012,
          2011,
          2010,
          2009,
          2008
         ],
         "xaxis": "x",
         "y": [
          337,
          444,
          489,
          491,
          508,
          491,
          307,
          260,
          196,
          164,
          141,
          131,
          120,
          131
         ],
         "yaxis": "y"
        }
       ],
       "layout": {
        "font": {
         "color": "white",
         "family": "Arial, san serif",
         "size": 15
        },
        "hoverlabel": {
         "bordercolor": "#212529"
        },
        "legend": {
         "title": {
          "text": "Director gender"
         },
         "tracegroupgap": 0
        },
        "margin": {
         "b": 10,
         "l": 10,
         "r": 10,
         "t": 10
        },
        "paper_bgcolor": "#212529",
        "plot_bgcolor": "rgba(0, 0, 0, 0)",
        "template": {
         "data": {
          "bar": [
           {
            "error_x": {
             "color": "#2a3f5f"
            },
            "error_y": {
             "color": "#2a3f5f"
            },
            "marker": {
             "line": {
              "color": "#E5ECF6",
              "width": 0.5
             },
             "pattern": {
              "fillmode": "overlay",
              "size": 10,
              "solidity": 0.2
             }
            },
            "type": "bar"
           }
          ],
          "barpolar": [
           {
            "marker": {
             "line": {
              "color": "#E5ECF6",
              "width": 0.5
             },
             "pattern": {
              "fillmode": "overlay",
              "size": 10,
              "solidity": 0.2
             }
            },
            "type": "barpolar"
           }
          ],
          "carpet": [
           {
            "aaxis": {
             "endlinecolor": "#2a3f5f",
             "gridcolor": "white",
             "linecolor": "white",
             "minorgridcolor": "white",
             "startlinecolor": "#2a3f5f"
            },
            "baxis": {
             "endlinecolor": "#2a3f5f",
             "gridcolor": "white",
             "linecolor": "white",
             "minorgridcolor": "white",
             "startlinecolor": "#2a3f5f"
            },
            "type": "carpet"
           }
          ],
          "choropleth": [
           {
            "colorbar": {
             "outlinewidth": 0,
             "ticks": ""
            },
            "type": "choropleth"
           }
          ],
          "contour": [
           {
            "colorbar": {
             "outlinewidth": 0,
             "ticks": ""
            },
            "colorscale": [
             [
              0,
              "#0d0887"
             ],
             [
              0.1111111111111111,
              "#46039f"
             ],
             [
              0.2222222222222222,
              "#7201a8"
             ],
             [
              0.3333333333333333,
              "#9c179e"
             ],
             [
              0.4444444444444444,
              "#bd3786"
             ],
             [
              0.5555555555555556,
              "#d8576b"
             ],
             [
              0.6666666666666666,
              "#ed7953"
             ],
             [
              0.7777777777777778,
              "#fb9f3a"
             ],
             [
              0.8888888888888888,
              "#fdca26"
             ],
             [
              1,
              "#f0f921"
             ]
            ],
            "type": "contour"
           }
          ],
          "contourcarpet": [
           {
            "colorbar": {
             "outlinewidth": 0,
             "ticks": ""
            },
            "type": "contourcarpet"
           }
          ],
          "heatmap": [
           {
            "colorbar": {
             "outlinewidth": 0,
             "ticks": ""
            },
            "colorscale": [
             [
              0,
              "#0d0887"
             ],
             [
              0.1111111111111111,
              "#46039f"
             ],
             [
              0.2222222222222222,
              "#7201a8"
             ],
             [
              0.3333333333333333,
              "#9c179e"
             ],
             [
              0.4444444444444444,
              "#bd3786"
             ],
             [
              0.5555555555555556,
              "#d8576b"
             ],
             [
              0.6666666666666666,
              "#ed7953"
             ],
             [
              0.7777777777777778,
              "#fb9f3a"
             ],
             [
              0.8888888888888888,
              "#fdca26"
             ],
             [
              1,
              "#f0f921"
             ]
            ],
            "type": "heatmap"
           }
          ],
          "heatmapgl": [
           {
            "colorbar": {
             "outlinewidth": 0,
             "ticks": ""
            },
            "colorscale": [
             [
              0,
              "#0d0887"
             ],
             [
              0.1111111111111111,
              "#46039f"
             ],
             [
              0.2222222222222222,
              "#7201a8"
             ],
             [
              0.3333333333333333,
              "#9c179e"
             ],
             [
              0.4444444444444444,
              "#bd3786"
             ],
             [
              0.5555555555555556,
              "#d8576b"
             ],
             [
              0.6666666666666666,
              "#ed7953"
             ],
             [
              0.7777777777777778,
              "#fb9f3a"
             ],
             [
              0.8888888888888888,
              "#fdca26"
             ],
             [
              1,
              "#f0f921"
             ]
            ],
            "type": "heatmapgl"
           }
          ],
          "histogram": [
           {
            "marker": {
             "pattern": {
              "fillmode": "overlay",
              "size": 10,
              "solidity": 0.2
             }
            },
            "type": "histogram"
           }
          ],
          "histogram2d": [
           {
            "colorbar": {
             "outlinewidth": 0,
             "ticks": ""
            },
            "colorscale": [
             [
              0,
              "#0d0887"
             ],
             [
              0.1111111111111111,
              "#46039f"
             ],
             [
              0.2222222222222222,
              "#7201a8"
             ],
             [
              0.3333333333333333,
              "#9c179e"
             ],
             [
              0.4444444444444444,
              "#bd3786"
             ],
             [
              0.5555555555555556,
              "#d8576b"
             ],
             [
              0.6666666666666666,
              "#ed7953"
             ],
             [
              0.7777777777777778,
              "#fb9f3a"
             ],
             [
              0.8888888888888888,
              "#fdca26"
             ],
             [
              1,
              "#f0f921"
             ]
            ],
            "type": "histogram2d"
           }
          ],
          "histogram2dcontour": [
           {
            "colorbar": {
             "outlinewidth": 0,
             "ticks": ""
            },
            "colorscale": [
             [
              0,
              "#0d0887"
             ],
             [
              0.1111111111111111,
              "#46039f"
             ],
             [
              0.2222222222222222,
              "#7201a8"
             ],
             [
              0.3333333333333333,
              "#9c179e"
             ],
             [
              0.4444444444444444,
              "#bd3786"
             ],
             [
              0.5555555555555556,
              "#d8576b"
             ],
             [
              0.6666666666666666,
              "#ed7953"
             ],
             [
              0.7777777777777778,
              "#fb9f3a"
             ],
             [
              0.8888888888888888,
              "#fdca26"
             ],
             [
              1,
              "#f0f921"
             ]
            ],
            "type": "histogram2dcontour"
           }
          ],
          "mesh3d": [
           {
            "colorbar": {
             "outlinewidth": 0,
             "ticks": ""
            },
            "type": "mesh3d"
           }
          ],
          "parcoords": [
           {
            "line": {
             "colorbar": {
              "outlinewidth": 0,
              "ticks": ""
             }
            },
            "type": "parcoords"
           }
          ],
          "pie": [
           {
            "automargin": true,
            "type": "pie"
           }
          ],
          "scatter": [
           {
            "marker": {
             "colorbar": {
              "outlinewidth": 0,
              "ticks": ""
             }
            },
            "type": "scatter"
           }
          ],
          "scatter3d": [
           {
            "line": {
             "colorbar": {
              "outlinewidth": 0,
              "ticks": ""
             }
            },
            "marker": {
             "colorbar": {
              "outlinewidth": 0,
              "ticks": ""
             }
            },
            "type": "scatter3d"
           }
          ],
          "scattercarpet": [
           {
            "marker": {
             "colorbar": {
              "outlinewidth": 0,
              "ticks": ""
             }
            },
            "type": "scattercarpet"
           }
          ],
          "scattergeo": [
           {
            "marker": {
             "colorbar": {
              "outlinewidth": 0,
              "ticks": ""
             }
            },
            "type": "scattergeo"
           }
          ],
          "scattergl": [
           {
            "marker": {
             "colorbar": {
              "outlinewidth": 0,
              "ticks": ""
             }
            },
            "type": "scattergl"
           }
          ],
          "scattermapbox": [
           {
            "marker": {
             "colorbar": {
              "outlinewidth": 0,
              "ticks": ""
             }
            },
            "type": "scattermapbox"
           }
          ],
          "scatterpolar": [
           {
            "marker": {
             "colorbar": {
              "outlinewidth": 0,
              "ticks": ""
             }
            },
            "type": "scatterpolar"
           }
          ],
          "scatterpolargl": [
           {
            "marker": {
             "colorbar": {
              "outlinewidth": 0,
              "ticks": ""
             }
            },
            "type": "scatterpolargl"
           }
          ],
          "scatterternary": [
           {
            "marker": {
             "colorbar": {
              "outlinewidth": 0,
              "ticks": ""
             }
            },
            "type": "scatterternary"
           }
          ],
          "surface": [
           {
            "colorbar": {
             "outlinewidth": 0,
             "ticks": ""
            },
            "colorscale": [
             [
              0,
              "#0d0887"
             ],
             [
              0.1111111111111111,
              "#46039f"
             ],
             [
              0.2222222222222222,
              "#7201a8"
             ],
             [
              0.3333333333333333,
              "#9c179e"
             ],
             [
              0.4444444444444444,
              "#bd3786"
             ],
             [
              0.5555555555555556,
              "#d8576b"
             ],
             [
              0.6666666666666666,
              "#ed7953"
             ],
             [
              0.7777777777777778,
              "#fb9f3a"
             ],
             [
              0.8888888888888888,
              "#fdca26"
             ],
             [
              1,
              "#f0f921"
             ]
            ],
            "type": "surface"
           }
          ],
          "table": [
           {
            "cells": {
             "fill": {
              "color": "#EBF0F8"
             },
             "line": {
              "color": "white"
             }
            },
            "header": {
             "fill": {
              "color": "#C8D4E3"
             },
             "line": {
              "color": "white"
             }
            },
            "type": "table"
           }
          ]
         },
         "layout": {
          "annotationdefaults": {
           "arrowcolor": "#2a3f5f",
           "arrowhead": 0,
           "arrowwidth": 1
          },
          "autotypenumbers": "strict",
          "coloraxis": {
           "colorbar": {
            "outlinewidth": 0,
            "ticks": ""
           }
          },
          "colorscale": {
           "diverging": [
            [
             0,
             "#8e0152"
            ],
            [
             0.1,
             "#c51b7d"
            ],
            [
             0.2,
             "#de77ae"
            ],
            [
             0.3,
             "#f1b6da"
            ],
            [
             0.4,
             "#fde0ef"
            ],
            [
             0.5,
             "#f7f7f7"
            ],
            [
             0.6,
             "#e6f5d0"
            ],
            [
             0.7,
             "#b8e186"
            ],
            [
             0.8,
             "#7fbc41"
            ],
            [
             0.9,
             "#4d9221"
            ],
            [
             1,
             "#276419"
            ]
           ],
           "sequential": [
            [
             0,
             "#0d0887"
            ],
            [
             0.1111111111111111,
             "#46039f"
            ],
            [
             0.2222222222222222,
             "#7201a8"
            ],
            [
             0.3333333333333333,
             "#9c179e"
            ],
            [
             0.4444444444444444,
             "#bd3786"
            ],
            [
             0.5555555555555556,
             "#d8576b"
            ],
            [
             0.6666666666666666,
             "#ed7953"
            ],
            [
             0.7777777777777778,
             "#fb9f3a"
            ],
            [
             0.8888888888888888,
             "#fdca26"
            ],
            [
             1,
             "#f0f921"
            ]
           ],
           "sequentialminus": [
            [
             0,
             "#0d0887"
            ],
            [
             0.1111111111111111,
             "#46039f"
            ],
            [
             0.2222222222222222,
             "#7201a8"
            ],
            [
             0.3333333333333333,
             "#9c179e"
            ],
            [
             0.4444444444444444,
             "#bd3786"
            ],
            [
             0.5555555555555556,
             "#d8576b"
            ],
            [
             0.6666666666666666,
             "#ed7953"
            ],
            [
             0.7777777777777778,
             "#fb9f3a"
            ],
            [
             0.8888888888888888,
             "#fdca26"
            ],
            [
             1,
             "#f0f921"
            ]
           ]
          },
          "colorway": [
           "#636efa",
           "#EF553B",
           "#00cc96",
           "#ab63fa",
           "#FFA15A",
           "#19d3f3",
           "#FF6692",
           "#B6E880",
           "#FF97FF",
           "#FECB52"
          ],
          "font": {
           "color": "#2a3f5f"
          },
          "geo": {
           "bgcolor": "white",
           "lakecolor": "white",
           "landcolor": "#E5ECF6",
           "showlakes": true,
           "showland": true,
           "subunitcolor": "white"
          },
          "hoverlabel": {
           "align": "left"
          },
          "hovermode": "closest",
          "mapbox": {
           "style": "light"
          },
          "paper_bgcolor": "white",
          "plot_bgcolor": "#E5ECF6",
          "polar": {
           "angularaxis": {
            "gridcolor": "white",
            "linecolor": "white",
            "ticks": ""
           },
           "bgcolor": "#E5ECF6",
           "radialaxis": {
            "gridcolor": "white",
            "linecolor": "white",
            "ticks": ""
           }
          },
          "scene": {
           "xaxis": {
            "backgroundcolor": "#E5ECF6",
            "gridcolor": "white",
            "gridwidth": 2,
            "linecolor": "white",
            "showbackground": true,
            "ticks": "",
            "zerolinecolor": "white"
           },
           "yaxis": {
            "backgroundcolor": "#E5ECF6",
            "gridcolor": "white",
            "gridwidth": 2,
            "linecolor": "white",
            "showbackground": true,
            "ticks": "",
            "zerolinecolor": "white"
           },
           "zaxis": {
            "backgroundcolor": "#E5ECF6",
            "gridcolor": "white",
            "gridwidth": 2,
            "linecolor": "white",
            "showbackground": true,
            "ticks": "",
            "zerolinecolor": "white"
           }
          },
          "shapedefaults": {
           "line": {
            "color": "#2a3f5f"
           }
          },
          "ternary": {
           "aaxis": {
            "gridcolor": "white",
            "linecolor": "white",
            "ticks": ""
           },
           "baxis": {
            "gridcolor": "white",
            "linecolor": "white",
            "ticks": ""
           },
           "bgcolor": "#E5ECF6",
           "caxis": {
            "gridcolor": "white",
            "linecolor": "white",
            "ticks": ""
           }
          },
          "title": {
           "x": 0.05
          },
          "xaxis": {
           "automargin": true,
           "gridcolor": "white",
           "linecolor": "white",
           "ticks": "",
           "title": {
            "standoff": 15
           },
           "zerolinecolor": "white",
           "zerolinewidth": 2
          },
          "yaxis": {
           "automargin": true,
           "gridcolor": "white",
           "linecolor": "white",
           "ticks": "",
           "title": {
            "standoff": 15
           },
           "zerolinecolor": "white",
           "zerolinewidth": 2
          }
         }
        },
        "xaxis": {
         "anchor": "y",
         "domain": [
          0,
          1
         ],
         "showgrid": false,
         "title": {
          "text": "Movie release year"
         }
        },
        "yaxis": {
         "anchor": "x",
         "domain": [
          0,
          1
         ],
         "gridcolor": "rgba(225, 225, 225, .5)",
         "title": {
          "text": "Director amount"
         }
        }
       }
      }
     },
     "metadata": {},
     "output_type": "display_data"
    }
   ],
   "source": [
    "df = data.copy()\n",
    "df['director_gender'].replace('no_data', np.nan, inplace  = True)\n",
    "df = df.dropna(subset=['director_gender'])\n",
    "gender = []\n",
    "release_year = []\n",
    "for i, x in df['director_gender'].iteritems():\n",
    "    x = x.split(', ')\n",
    "    for gen in x:\n",
    "        gender.append(gen)\n",
    "        year = df._get_value(i, 'release_year')\n",
    "        release_year.append(year)\n",
    "df = pd.DataFrame()\n",
    "df['release_year'] = release_year\n",
    "df['gender'] = gender\n",
    "df['count'] = 1\n",
    "df1 = pd.DataFrame(df.groupby('gender')['count'].sum().sort_values(ascending=False).reset_index())\n",
    "gender_order = df1['gender'].to_list()\n",
    "fig = px.pie(df1, values='count', names='gender')\n",
    "\n",
    "fig.update_traces(textposition='inside', textinfo='percent+label', marker=dict(colors=colors[::-1][2:], line=dict(color='#212529', width=2)), textfont=dict(family=\"Arial, san serif\",size=15,color=\"white\"),hoverlabel=dict(font_size=14,font_family=\"Arial, san serif\", font_color='white'))\n",
    "\n",
    "fig.update_traces(hovertemplate=('<br>Total %{label} directors are %{value}<br><extra></extra>'))\n",
    "fig.update_layout(paper_bgcolor=\"#212529\", plot_bgcolor ='rgba(0, 0, 0, 0)', hoverlabel_bordercolor='#212529',margin=margin, yaxis_gridcolor ='rgba(225, 225, 225, .5)', font_color=\"white\", font_family=\"Arial, san serif\", font_size=15)\n",
    "fig.write_html('visualization/five.html')\n",
    "fig.show()\n",
    "\n",
    "df2 = df[['release_year', 'gender']].groupby('gender')['release_year'].value_counts().unstack().loc[gender_order]\n",
    "df2 = df2.stack().reset_index()\n",
    "df2.columns = ['gender','year','val']\n",
    "df2 = df2[(df2.year >= 2008)&(df2.year < 2022)]\n",
    "df2 = df2[::-1]\n",
    "df2\n",
    "fig = px.area(df2, x=\"year\", y=\"val\", color=\"gender\", line_shape='spline', color_discrete_sequence= colors[::-1][1:], labels={'gender':'Director gender', 'val':'Director amount', 'year': 'Movie release year'}, custom_data=['gender'])\n",
    "\n",
    "fig.update_traces( marker=dict(line=dict(width=2)),textfont=dict(family=\"Arial, san serif\",size=16,color=\"#212529\"),hoverlabel=dict(font_size=14,font_family=\"Arial, san serif\", font_color='white'))\n",
    "\n",
    "fig.update_traces(hovertemplate=('<br>In %{x}, %{y} films by %{customdata[0]} directors were recorded<br><extra></extra>'))\n",
    "fig.update_layout(paper_bgcolor=\"#212529\", plot_bgcolor ='rgba(0, 0, 0, 0)', hoverlabel_bordercolor='#212529',margin=margin, yaxis_gridcolor ='rgba(225, 225, 225, .5)', font_color=\"white\", font_family=\"Arial, san serif\", font_size=15, xaxis_showgrid=False)\n",
    "fig.write_html('visualization/six.html')\n",
    "fig.show()"
   ]
  },
  {
   "cell_type": "markdown",
   "metadata": {},
   "source": [
    "# How streaming services treats their content? \n",
    "o understand how streaming services deal with their content we first analyse how they add content on the platforms. We start from a yearly overview to then get more granular, restituting the monthly addition habits of streaming services. Then we explore which genre they add during the year and if there is some trend for each month. Because the genre is associated with the streaming platform we also analyse how Amazon and Netflix register their content by looking at genre co-occurrence. Finally, we investigate how old movies are and which national film culture is more represented by the two companies.\n",
    "\n",
    "\n",
    "### Year added\n",
    "We plot two line charts one for Netflix and one for Amazon to investigate movement chages by year in content type and quantity addition. \n",
    "\n",
    "**Conclusions:** Netflix and Amazon act in different ways in a matter of content addition. If on one hand Netflix appears to have an increase in content addition after 2014, on the other hand, Amazon seems to be more constant but it shows less offer. Both streaming services have a downward trend after 2020, probably due to the Covid-19 pandemic. Both services' peak in global content amount was in 2019. It appears that Netflix has focused more attention on increasing Movie content rather than TV Shows. Movies have increased much more drastically than TV shows. Amazon, on the contrary, has always had more attention to Movies than Tv Shows but in 2021 there is an inversion of the trend. During this year Amazon increased TV shows more than movies."
   ]
  },
  {
   "cell_type": "code",
   "execution_count": 106,
   "metadata": {},
   "outputs": [
    {
     "data": {
      "application/vnd.plotly.v1+json": {
       "config": {
        "plotlyServerURL": "https://plot.ly"
       },
       "data": [
        {
         "customdata": [
          "TV Show",
          "TV Show",
          "TV Show",
          "TV Show",
          "TV Show",
          "TV Show",
          "TV Show",
          "TV Show",
          "TV Show",
          "TV Show"
         ],
         "hoverinfo": "x+y",
         "hoverlabel": {
          "font": {
           "color": "white",
           "family": "Arial, san serif",
           "size": 14
          }
         },
         "hovertemplate": "<br>In %{x}, %{y} %{customdata} were added on Netflix<br><extra></extra>",
         "line": {
          "color": "#ff547c",
          "width": 2
         },
         "marker": {
          "line": {
           "width": 2
          }
         },
         "mode": "lines",
         "name": "TV Show",
         "stackgroup": "one",
         "textfont": {
          "color": "#212529",
          "family": "Arial, san serif",
          "size": 16
         },
         "type": "scatter",
         "x": [
          2012,
          2013,
          2014,
          2015,
          2016,
          2017,
          2018,
          2019,
          2020,
          2021
         ],
         "y": [
          1,
          7,
          5,
          14,
          90,
          142,
          199,
          290,
          340,
          271
         ]
        },
        {
         "customdata": [
          "Movie",
          "Movie",
          "Movie",
          "Movie",
          "Movie",
          "Movie",
          "Movie",
          "Movie",
          "Movie",
          "Movie",
          "Movie",
          "Movie",
          "Movie",
          "Movie"
         ],
         "hoverinfo": "x+y",
         "hoverlabel": {
          "font": {
           "color": "white",
           "family": "Arial, san serif",
           "size": 14
          }
         },
         "hovertemplate": "<br>In %{x}, %{y} %{customdata} were added on Netflix<br><extra></extra>",
         "line": {
          "color": "#a0a3de",
          "width": 2
         },
         "marker": {
          "line": {
           "width": 2
          }
         },
         "mode": "lines",
         "name": "Movie",
         "stackgroup": "one",
         "textfont": {
          "color": "#212529",
          "family": "Arial, san serif",
          "size": 16
         },
         "type": "scatter",
         "x": [
          2008,
          2009,
          2010,
          2011,
          2012,
          2013,
          2014,
          2015,
          2016,
          2017,
          2018,
          2019,
          2020,
          2021
         ],
         "y": [
          1,
          1,
          1,
          1,
          1,
          3,
          8,
          32,
          124,
          487,
          754,
          840,
          771,
          615
         ]
        }
       ],
       "layout": {
        "font": {
         "color": "white",
         "family": "Arial, san serif",
         "size": 15
        },
        "hoverlabel": {
         "bordercolor": "#212529"
        },
        "margin": {
         "b": 10,
         "l": 10,
         "r": 10,
         "t": 10
        },
        "paper_bgcolor": "#212529",
        "plot_bgcolor": "rgba(0, 0, 0, 0)",
        "template": {
         "data": {
          "bar": [
           {
            "error_x": {
             "color": "#2a3f5f"
            },
            "error_y": {
             "color": "#2a3f5f"
            },
            "marker": {
             "line": {
              "color": "#E5ECF6",
              "width": 0.5
             },
             "pattern": {
              "fillmode": "overlay",
              "size": 10,
              "solidity": 0.2
             }
            },
            "type": "bar"
           }
          ],
          "barpolar": [
           {
            "marker": {
             "line": {
              "color": "#E5ECF6",
              "width": 0.5
             },
             "pattern": {
              "fillmode": "overlay",
              "size": 10,
              "solidity": 0.2
             }
            },
            "type": "barpolar"
           }
          ],
          "carpet": [
           {
            "aaxis": {
             "endlinecolor": "#2a3f5f",
             "gridcolor": "white",
             "linecolor": "white",
             "minorgridcolor": "white",
             "startlinecolor": "#2a3f5f"
            },
            "baxis": {
             "endlinecolor": "#2a3f5f",
             "gridcolor": "white",
             "linecolor": "white",
             "minorgridcolor": "white",
             "startlinecolor": "#2a3f5f"
            },
            "type": "carpet"
           }
          ],
          "choropleth": [
           {
            "colorbar": {
             "outlinewidth": 0,
             "ticks": ""
            },
            "type": "choropleth"
           }
          ],
          "contour": [
           {
            "colorbar": {
             "outlinewidth": 0,
             "ticks": ""
            },
            "colorscale": [
             [
              0,
              "#0d0887"
             ],
             [
              0.1111111111111111,
              "#46039f"
             ],
             [
              0.2222222222222222,
              "#7201a8"
             ],
             [
              0.3333333333333333,
              "#9c179e"
             ],
             [
              0.4444444444444444,
              "#bd3786"
             ],
             [
              0.5555555555555556,
              "#d8576b"
             ],
             [
              0.6666666666666666,
              "#ed7953"
             ],
             [
              0.7777777777777778,
              "#fb9f3a"
             ],
             [
              0.8888888888888888,
              "#fdca26"
             ],
             [
              1,
              "#f0f921"
             ]
            ],
            "type": "contour"
           }
          ],
          "contourcarpet": [
           {
            "colorbar": {
             "outlinewidth": 0,
             "ticks": ""
            },
            "type": "contourcarpet"
           }
          ],
          "heatmap": [
           {
            "colorbar": {
             "outlinewidth": 0,
             "ticks": ""
            },
            "colorscale": [
             [
              0,
              "#0d0887"
             ],
             [
              0.1111111111111111,
              "#46039f"
             ],
             [
              0.2222222222222222,
              "#7201a8"
             ],
             [
              0.3333333333333333,
              "#9c179e"
             ],
             [
              0.4444444444444444,
              "#bd3786"
             ],
             [
              0.5555555555555556,
              "#d8576b"
             ],
             [
              0.6666666666666666,
              "#ed7953"
             ],
             [
              0.7777777777777778,
              "#fb9f3a"
             ],
             [
              0.8888888888888888,
              "#fdca26"
             ],
             [
              1,
              "#f0f921"
             ]
            ],
            "type": "heatmap"
           }
          ],
          "heatmapgl": [
           {
            "colorbar": {
             "outlinewidth": 0,
             "ticks": ""
            },
            "colorscale": [
             [
              0,
              "#0d0887"
             ],
             [
              0.1111111111111111,
              "#46039f"
             ],
             [
              0.2222222222222222,
              "#7201a8"
             ],
             [
              0.3333333333333333,
              "#9c179e"
             ],
             [
              0.4444444444444444,
              "#bd3786"
             ],
             [
              0.5555555555555556,
              "#d8576b"
             ],
             [
              0.6666666666666666,
              "#ed7953"
             ],
             [
              0.7777777777777778,
              "#fb9f3a"
             ],
             [
              0.8888888888888888,
              "#fdca26"
             ],
             [
              1,
              "#f0f921"
             ]
            ],
            "type": "heatmapgl"
           }
          ],
          "histogram": [
           {
            "marker": {
             "pattern": {
              "fillmode": "overlay",
              "size": 10,
              "solidity": 0.2
             }
            },
            "type": "histogram"
           }
          ],
          "histogram2d": [
           {
            "colorbar": {
             "outlinewidth": 0,
             "ticks": ""
            },
            "colorscale": [
             [
              0,
              "#0d0887"
             ],
             [
              0.1111111111111111,
              "#46039f"
             ],
             [
              0.2222222222222222,
              "#7201a8"
             ],
             [
              0.3333333333333333,
              "#9c179e"
             ],
             [
              0.4444444444444444,
              "#bd3786"
             ],
             [
              0.5555555555555556,
              "#d8576b"
             ],
             [
              0.6666666666666666,
              "#ed7953"
             ],
             [
              0.7777777777777778,
              "#fb9f3a"
             ],
             [
              0.8888888888888888,
              "#fdca26"
             ],
             [
              1,
              "#f0f921"
             ]
            ],
            "type": "histogram2d"
           }
          ],
          "histogram2dcontour": [
           {
            "colorbar": {
             "outlinewidth": 0,
             "ticks": ""
            },
            "colorscale": [
             [
              0,
              "#0d0887"
             ],
             [
              0.1111111111111111,
              "#46039f"
             ],
             [
              0.2222222222222222,
              "#7201a8"
             ],
             [
              0.3333333333333333,
              "#9c179e"
             ],
             [
              0.4444444444444444,
              "#bd3786"
             ],
             [
              0.5555555555555556,
              "#d8576b"
             ],
             [
              0.6666666666666666,
              "#ed7953"
             ],
             [
              0.7777777777777778,
              "#fb9f3a"
             ],
             [
              0.8888888888888888,
              "#fdca26"
             ],
             [
              1,
              "#f0f921"
             ]
            ],
            "type": "histogram2dcontour"
           }
          ],
          "mesh3d": [
           {
            "colorbar": {
             "outlinewidth": 0,
             "ticks": ""
            },
            "type": "mesh3d"
           }
          ],
          "parcoords": [
           {
            "line": {
             "colorbar": {
              "outlinewidth": 0,
              "ticks": ""
             }
            },
            "type": "parcoords"
           }
          ],
          "pie": [
           {
            "automargin": true,
            "type": "pie"
           }
          ],
          "scatter": [
           {
            "marker": {
             "colorbar": {
              "outlinewidth": 0,
              "ticks": ""
             }
            },
            "type": "scatter"
           }
          ],
          "scatter3d": [
           {
            "line": {
             "colorbar": {
              "outlinewidth": 0,
              "ticks": ""
             }
            },
            "marker": {
             "colorbar": {
              "outlinewidth": 0,
              "ticks": ""
             }
            },
            "type": "scatter3d"
           }
          ],
          "scattercarpet": [
           {
            "marker": {
             "colorbar": {
              "outlinewidth": 0,
              "ticks": ""
             }
            },
            "type": "scattercarpet"
           }
          ],
          "scattergeo": [
           {
            "marker": {
             "colorbar": {
              "outlinewidth": 0,
              "ticks": ""
             }
            },
            "type": "scattergeo"
           }
          ],
          "scattergl": [
           {
            "marker": {
             "colorbar": {
              "outlinewidth": 0,
              "ticks": ""
             }
            },
            "type": "scattergl"
           }
          ],
          "scattermapbox": [
           {
            "marker": {
             "colorbar": {
              "outlinewidth": 0,
              "ticks": ""
             }
            },
            "type": "scattermapbox"
           }
          ],
          "scatterpolar": [
           {
            "marker": {
             "colorbar": {
              "outlinewidth": 0,
              "ticks": ""
             }
            },
            "type": "scatterpolar"
           }
          ],
          "scatterpolargl": [
           {
            "marker": {
             "colorbar": {
              "outlinewidth": 0,
              "ticks": ""
             }
            },
            "type": "scatterpolargl"
           }
          ],
          "scatterternary": [
           {
            "marker": {
             "colorbar": {
              "outlinewidth": 0,
              "ticks": ""
             }
            },
            "type": "scatterternary"
           }
          ],
          "surface": [
           {
            "colorbar": {
             "outlinewidth": 0,
             "ticks": ""
            },
            "colorscale": [
             [
              0,
              "#0d0887"
             ],
             [
              0.1111111111111111,
              "#46039f"
             ],
             [
              0.2222222222222222,
              "#7201a8"
             ],
             [
              0.3333333333333333,
              "#9c179e"
             ],
             [
              0.4444444444444444,
              "#bd3786"
             ],
             [
              0.5555555555555556,
              "#d8576b"
             ],
             [
              0.6666666666666666,
              "#ed7953"
             ],
             [
              0.7777777777777778,
              "#fb9f3a"
             ],
             [
              0.8888888888888888,
              "#fdca26"
             ],
             [
              1,
              "#f0f921"
             ]
            ],
            "type": "surface"
           }
          ],
          "table": [
           {
            "cells": {
             "fill": {
              "color": "#EBF0F8"
             },
             "line": {
              "color": "white"
             }
            },
            "header": {
             "fill": {
              "color": "#C8D4E3"
             },
             "line": {
              "color": "white"
             }
            },
            "type": "table"
           }
          ]
         },
         "layout": {
          "annotationdefaults": {
           "arrowcolor": "#2a3f5f",
           "arrowhead": 0,
           "arrowwidth": 1
          },
          "autotypenumbers": "strict",
          "coloraxis": {
           "colorbar": {
            "outlinewidth": 0,
            "ticks": ""
           }
          },
          "colorscale": {
           "diverging": [
            [
             0,
             "#8e0152"
            ],
            [
             0.1,
             "#c51b7d"
            ],
            [
             0.2,
             "#de77ae"
            ],
            [
             0.3,
             "#f1b6da"
            ],
            [
             0.4,
             "#fde0ef"
            ],
            [
             0.5,
             "#f7f7f7"
            ],
            [
             0.6,
             "#e6f5d0"
            ],
            [
             0.7,
             "#b8e186"
            ],
            [
             0.8,
             "#7fbc41"
            ],
            [
             0.9,
             "#4d9221"
            ],
            [
             1,
             "#276419"
            ]
           ],
           "sequential": [
            [
             0,
             "#0d0887"
            ],
            [
             0.1111111111111111,
             "#46039f"
            ],
            [
             0.2222222222222222,
             "#7201a8"
            ],
            [
             0.3333333333333333,
             "#9c179e"
            ],
            [
             0.4444444444444444,
             "#bd3786"
            ],
            [
             0.5555555555555556,
             "#d8576b"
            ],
            [
             0.6666666666666666,
             "#ed7953"
            ],
            [
             0.7777777777777778,
             "#fb9f3a"
            ],
            [
             0.8888888888888888,
             "#fdca26"
            ],
            [
             1,
             "#f0f921"
            ]
           ],
           "sequentialminus": [
            [
             0,
             "#0d0887"
            ],
            [
             0.1111111111111111,
             "#46039f"
            ],
            [
             0.2222222222222222,
             "#7201a8"
            ],
            [
             0.3333333333333333,
             "#9c179e"
            ],
            [
             0.4444444444444444,
             "#bd3786"
            ],
            [
             0.5555555555555556,
             "#d8576b"
            ],
            [
             0.6666666666666666,
             "#ed7953"
            ],
            [
             0.7777777777777778,
             "#fb9f3a"
            ],
            [
             0.8888888888888888,
             "#fdca26"
            ],
            [
             1,
             "#f0f921"
            ]
           ]
          },
          "colorway": [
           "#636efa",
           "#EF553B",
           "#00cc96",
           "#ab63fa",
           "#FFA15A",
           "#19d3f3",
           "#FF6692",
           "#B6E880",
           "#FF97FF",
           "#FECB52"
          ],
          "font": {
           "color": "#2a3f5f"
          },
          "geo": {
           "bgcolor": "white",
           "lakecolor": "white",
           "landcolor": "#E5ECF6",
           "showlakes": true,
           "showland": true,
           "subunitcolor": "white"
          },
          "hoverlabel": {
           "align": "left"
          },
          "hovermode": "closest",
          "mapbox": {
           "style": "light"
          },
          "paper_bgcolor": "white",
          "plot_bgcolor": "#E5ECF6",
          "polar": {
           "angularaxis": {
            "gridcolor": "white",
            "linecolor": "white",
            "ticks": ""
           },
           "bgcolor": "#E5ECF6",
           "radialaxis": {
            "gridcolor": "white",
            "linecolor": "white",
            "ticks": ""
           }
          },
          "scene": {
           "xaxis": {
            "backgroundcolor": "#E5ECF6",
            "gridcolor": "white",
            "gridwidth": 2,
            "linecolor": "white",
            "showbackground": true,
            "ticks": "",
            "zerolinecolor": "white"
           },
           "yaxis": {
            "backgroundcolor": "#E5ECF6",
            "gridcolor": "white",
            "gridwidth": 2,
            "linecolor": "white",
            "showbackground": true,
            "ticks": "",
            "zerolinecolor": "white"
           },
           "zaxis": {
            "backgroundcolor": "#E5ECF6",
            "gridcolor": "white",
            "gridwidth": 2,
            "linecolor": "white",
            "showbackground": true,
            "ticks": "",
            "zerolinecolor": "white"
           }
          },
          "shapedefaults": {
           "line": {
            "color": "#2a3f5f"
           }
          },
          "ternary": {
           "aaxis": {
            "gridcolor": "white",
            "linecolor": "white",
            "ticks": ""
           },
           "baxis": {
            "gridcolor": "white",
            "linecolor": "white",
            "ticks": ""
           },
           "bgcolor": "#E5ECF6",
           "caxis": {
            "gridcolor": "white",
            "linecolor": "white",
            "ticks": ""
           }
          },
          "title": {
           "x": 0.05
          },
          "xaxis": {
           "automargin": true,
           "gridcolor": "white",
           "linecolor": "white",
           "ticks": "",
           "title": {
            "standoff": 15
           },
           "zerolinecolor": "white",
           "zerolinewidth": 2
          },
          "yaxis": {
           "automargin": true,
           "gridcolor": "white",
           "linecolor": "white",
           "ticks": "",
           "title": {
            "standoff": 15
           },
           "zerolinecolor": "white",
           "zerolinewidth": 2
          }
         }
        },
        "xaxis": {
         "showgrid": false
        },
        "yaxis": {
         "gridcolor": "rgba(225, 225, 225, .5)",
         "range": [
          0,
          1300
         ]
        }
       }
      }
     },
     "metadata": {},
     "output_type": "display_data"
    },
    {
     "data": {
      "application/vnd.plotly.v1+json": {
       "config": {
        "plotlyServerURL": "https://plot.ly"
       },
       "data": [
        {
         "customdata": [
          "TV Show",
          "TV Show",
          "TV Show",
          "TV Show",
          "TV Show",
          "TV Show",
          "TV Show",
          "TV Show",
          "TV Show",
          "TV Show",
          "TV Show",
          "TV Show",
          "TV Show",
          "TV Show",
          "TV Show",
          "TV Show"
         ],
         "hoverinfo": "x+y",
         "hoverlabel": {
          "font": {
           "color": "white",
           "family": "Arial, san serif",
           "size": 14
          }
         },
         "hovertemplate": "<br>In %{x}, %{y} %{customdata} were added on Amazon<br><extra></extra>",
         "line": {
          "color": "#ff547c",
          "width": 2
         },
         "marker": {
          "line": {
           "width": 2
          }
         },
         "mode": "lines",
         "name": "TV Show",
         "stackgroup": "one",
         "textfont": {
          "color": "#212529",
          "family": "Arial, san serif",
          "size": 16
         },
         "type": "scatter",
         "x": [
          2007,
          2008,
          2009,
          2010,
          2011,
          2012,
          2013,
          2014,
          2015,
          2016,
          2017,
          2018,
          2019,
          2020,
          2021,
          2022
         ],
         "y": [
          8,
          13,
          21,
          15,
          20,
          29,
          21,
          38,
          28,
          24,
          14,
          20,
          16,
          20,
          58,
          2
         ]
        },
        {
         "customdata": [
          "Movie",
          "Movie",
          "Movie",
          "Movie",
          "Movie",
          "Movie",
          "Movie",
          "Movie",
          "Movie",
          "Movie",
          "Movie",
          "Movie",
          "Movie",
          "Movie",
          "Movie",
          "Movie"
         ],
         "hoverinfo": "x+y",
         "hoverlabel": {
          "font": {
           "color": "white",
           "family": "Arial, san serif",
           "size": 14
          }
         },
         "hovertemplate": "<br>In %{x}, %{y} %{customdata} were added on Amazon<br><extra></extra>",
         "line": {
          "color": "#a0a3de",
          "width": 2
         },
         "marker": {
          "line": {
           "width": 2
          }
         },
         "mode": "lines",
         "name": "Movie",
         "stackgroup": "one",
         "textfont": {
          "color": "#212529",
          "family": "Arial, san serif",
          "size": 16
         },
         "type": "scatter",
         "x": [
          2007,
          2008,
          2009,
          2010,
          2011,
          2012,
          2013,
          2014,
          2015,
          2016,
          2017,
          2018,
          2019,
          2020,
          2021,
          2022
         ],
         "y": [
          33,
          55,
          31,
          33,
          42,
          45,
          54,
          81,
          65,
          110,
          90,
          97,
          123,
          68,
          42,
          1
         ]
        }
       ],
       "layout": {
        "font": {
         "color": "white",
         "family": "Arial, san serif",
         "size": 15
        },
        "hoverlabel": {
         "bordercolor": "#212529"
        },
        "margin": {
         "b": 10,
         "l": 10,
         "r": 10,
         "t": 10
        },
        "paper_bgcolor": "#212529",
        "plot_bgcolor": "rgba(0, 0, 0, 0)",
        "template": {
         "data": {
          "bar": [
           {
            "error_x": {
             "color": "#2a3f5f"
            },
            "error_y": {
             "color": "#2a3f5f"
            },
            "marker": {
             "line": {
              "color": "#E5ECF6",
              "width": 0.5
             },
             "pattern": {
              "fillmode": "overlay",
              "size": 10,
              "solidity": 0.2
             }
            },
            "type": "bar"
           }
          ],
          "barpolar": [
           {
            "marker": {
             "line": {
              "color": "#E5ECF6",
              "width": 0.5
             },
             "pattern": {
              "fillmode": "overlay",
              "size": 10,
              "solidity": 0.2
             }
            },
            "type": "barpolar"
           }
          ],
          "carpet": [
           {
            "aaxis": {
             "endlinecolor": "#2a3f5f",
             "gridcolor": "white",
             "linecolor": "white",
             "minorgridcolor": "white",
             "startlinecolor": "#2a3f5f"
            },
            "baxis": {
             "endlinecolor": "#2a3f5f",
             "gridcolor": "white",
             "linecolor": "white",
             "minorgridcolor": "white",
             "startlinecolor": "#2a3f5f"
            },
            "type": "carpet"
           }
          ],
          "choropleth": [
           {
            "colorbar": {
             "outlinewidth": 0,
             "ticks": ""
            },
            "type": "choropleth"
           }
          ],
          "contour": [
           {
            "colorbar": {
             "outlinewidth": 0,
             "ticks": ""
            },
            "colorscale": [
             [
              0,
              "#0d0887"
             ],
             [
              0.1111111111111111,
              "#46039f"
             ],
             [
              0.2222222222222222,
              "#7201a8"
             ],
             [
              0.3333333333333333,
              "#9c179e"
             ],
             [
              0.4444444444444444,
              "#bd3786"
             ],
             [
              0.5555555555555556,
              "#d8576b"
             ],
             [
              0.6666666666666666,
              "#ed7953"
             ],
             [
              0.7777777777777778,
              "#fb9f3a"
             ],
             [
              0.8888888888888888,
              "#fdca26"
             ],
             [
              1,
              "#f0f921"
             ]
            ],
            "type": "contour"
           }
          ],
          "contourcarpet": [
           {
            "colorbar": {
             "outlinewidth": 0,
             "ticks": ""
            },
            "type": "contourcarpet"
           }
          ],
          "heatmap": [
           {
            "colorbar": {
             "outlinewidth": 0,
             "ticks": ""
            },
            "colorscale": [
             [
              0,
              "#0d0887"
             ],
             [
              0.1111111111111111,
              "#46039f"
             ],
             [
              0.2222222222222222,
              "#7201a8"
             ],
             [
              0.3333333333333333,
              "#9c179e"
             ],
             [
              0.4444444444444444,
              "#bd3786"
             ],
             [
              0.5555555555555556,
              "#d8576b"
             ],
             [
              0.6666666666666666,
              "#ed7953"
             ],
             [
              0.7777777777777778,
              "#fb9f3a"
             ],
             [
              0.8888888888888888,
              "#fdca26"
             ],
             [
              1,
              "#f0f921"
             ]
            ],
            "type": "heatmap"
           }
          ],
          "heatmapgl": [
           {
            "colorbar": {
             "outlinewidth": 0,
             "ticks": ""
            },
            "colorscale": [
             [
              0,
              "#0d0887"
             ],
             [
              0.1111111111111111,
              "#46039f"
             ],
             [
              0.2222222222222222,
              "#7201a8"
             ],
             [
              0.3333333333333333,
              "#9c179e"
             ],
             [
              0.4444444444444444,
              "#bd3786"
             ],
             [
              0.5555555555555556,
              "#d8576b"
             ],
             [
              0.6666666666666666,
              "#ed7953"
             ],
             [
              0.7777777777777778,
              "#fb9f3a"
             ],
             [
              0.8888888888888888,
              "#fdca26"
             ],
             [
              1,
              "#f0f921"
             ]
            ],
            "type": "heatmapgl"
           }
          ],
          "histogram": [
           {
            "marker": {
             "pattern": {
              "fillmode": "overlay",
              "size": 10,
              "solidity": 0.2
             }
            },
            "type": "histogram"
           }
          ],
          "histogram2d": [
           {
            "colorbar": {
             "outlinewidth": 0,
             "ticks": ""
            },
            "colorscale": [
             [
              0,
              "#0d0887"
             ],
             [
              0.1111111111111111,
              "#46039f"
             ],
             [
              0.2222222222222222,
              "#7201a8"
             ],
             [
              0.3333333333333333,
              "#9c179e"
             ],
             [
              0.4444444444444444,
              "#bd3786"
             ],
             [
              0.5555555555555556,
              "#d8576b"
             ],
             [
              0.6666666666666666,
              "#ed7953"
             ],
             [
              0.7777777777777778,
              "#fb9f3a"
             ],
             [
              0.8888888888888888,
              "#fdca26"
             ],
             [
              1,
              "#f0f921"
             ]
            ],
            "type": "histogram2d"
           }
          ],
          "histogram2dcontour": [
           {
            "colorbar": {
             "outlinewidth": 0,
             "ticks": ""
            },
            "colorscale": [
             [
              0,
              "#0d0887"
             ],
             [
              0.1111111111111111,
              "#46039f"
             ],
             [
              0.2222222222222222,
              "#7201a8"
             ],
             [
              0.3333333333333333,
              "#9c179e"
             ],
             [
              0.4444444444444444,
              "#bd3786"
             ],
             [
              0.5555555555555556,
              "#d8576b"
             ],
             [
              0.6666666666666666,
              "#ed7953"
             ],
             [
              0.7777777777777778,
              "#fb9f3a"
             ],
             [
              0.8888888888888888,
              "#fdca26"
             ],
             [
              1,
              "#f0f921"
             ]
            ],
            "type": "histogram2dcontour"
           }
          ],
          "mesh3d": [
           {
            "colorbar": {
             "outlinewidth": 0,
             "ticks": ""
            },
            "type": "mesh3d"
           }
          ],
          "parcoords": [
           {
            "line": {
             "colorbar": {
              "outlinewidth": 0,
              "ticks": ""
             }
            },
            "type": "parcoords"
           }
          ],
          "pie": [
           {
            "automargin": true,
            "type": "pie"
           }
          ],
          "scatter": [
           {
            "marker": {
             "colorbar": {
              "outlinewidth": 0,
              "ticks": ""
             }
            },
            "type": "scatter"
           }
          ],
          "scatter3d": [
           {
            "line": {
             "colorbar": {
              "outlinewidth": 0,
              "ticks": ""
             }
            },
            "marker": {
             "colorbar": {
              "outlinewidth": 0,
              "ticks": ""
             }
            },
            "type": "scatter3d"
           }
          ],
          "scattercarpet": [
           {
            "marker": {
             "colorbar": {
              "outlinewidth": 0,
              "ticks": ""
             }
            },
            "type": "scattercarpet"
           }
          ],
          "scattergeo": [
           {
            "marker": {
             "colorbar": {
              "outlinewidth": 0,
              "ticks": ""
             }
            },
            "type": "scattergeo"
           }
          ],
          "scattergl": [
           {
            "marker": {
             "colorbar": {
              "outlinewidth": 0,
              "ticks": ""
             }
            },
            "type": "scattergl"
           }
          ],
          "scattermapbox": [
           {
            "marker": {
             "colorbar": {
              "outlinewidth": 0,
              "ticks": ""
             }
            },
            "type": "scattermapbox"
           }
          ],
          "scatterpolar": [
           {
            "marker": {
             "colorbar": {
              "outlinewidth": 0,
              "ticks": ""
             }
            },
            "type": "scatterpolar"
           }
          ],
          "scatterpolargl": [
           {
            "marker": {
             "colorbar": {
              "outlinewidth": 0,
              "ticks": ""
             }
            },
            "type": "scatterpolargl"
           }
          ],
          "scatterternary": [
           {
            "marker": {
             "colorbar": {
              "outlinewidth": 0,
              "ticks": ""
             }
            },
            "type": "scatterternary"
           }
          ],
          "surface": [
           {
            "colorbar": {
             "outlinewidth": 0,
             "ticks": ""
            },
            "colorscale": [
             [
              0,
              "#0d0887"
             ],
             [
              0.1111111111111111,
              "#46039f"
             ],
             [
              0.2222222222222222,
              "#7201a8"
             ],
             [
              0.3333333333333333,
              "#9c179e"
             ],
             [
              0.4444444444444444,
              "#bd3786"
             ],
             [
              0.5555555555555556,
              "#d8576b"
             ],
             [
              0.6666666666666666,
              "#ed7953"
             ],
             [
              0.7777777777777778,
              "#fb9f3a"
             ],
             [
              0.8888888888888888,
              "#fdca26"
             ],
             [
              1,
              "#f0f921"
             ]
            ],
            "type": "surface"
           }
          ],
          "table": [
           {
            "cells": {
             "fill": {
              "color": "#EBF0F8"
             },
             "line": {
              "color": "white"
             }
            },
            "header": {
             "fill": {
              "color": "#C8D4E3"
             },
             "line": {
              "color": "white"
             }
            },
            "type": "table"
           }
          ]
         },
         "layout": {
          "annotationdefaults": {
           "arrowcolor": "#2a3f5f",
           "arrowhead": 0,
           "arrowwidth": 1
          },
          "autotypenumbers": "strict",
          "coloraxis": {
           "colorbar": {
            "outlinewidth": 0,
            "ticks": ""
           }
          },
          "colorscale": {
           "diverging": [
            [
             0,
             "#8e0152"
            ],
            [
             0.1,
             "#c51b7d"
            ],
            [
             0.2,
             "#de77ae"
            ],
            [
             0.3,
             "#f1b6da"
            ],
            [
             0.4,
             "#fde0ef"
            ],
            [
             0.5,
             "#f7f7f7"
            ],
            [
             0.6,
             "#e6f5d0"
            ],
            [
             0.7,
             "#b8e186"
            ],
            [
             0.8,
             "#7fbc41"
            ],
            [
             0.9,
             "#4d9221"
            ],
            [
             1,
             "#276419"
            ]
           ],
           "sequential": [
            [
             0,
             "#0d0887"
            ],
            [
             0.1111111111111111,
             "#46039f"
            ],
            [
             0.2222222222222222,
             "#7201a8"
            ],
            [
             0.3333333333333333,
             "#9c179e"
            ],
            [
             0.4444444444444444,
             "#bd3786"
            ],
            [
             0.5555555555555556,
             "#d8576b"
            ],
            [
             0.6666666666666666,
             "#ed7953"
            ],
            [
             0.7777777777777778,
             "#fb9f3a"
            ],
            [
             0.8888888888888888,
             "#fdca26"
            ],
            [
             1,
             "#f0f921"
            ]
           ],
           "sequentialminus": [
            [
             0,
             "#0d0887"
            ],
            [
             0.1111111111111111,
             "#46039f"
            ],
            [
             0.2222222222222222,
             "#7201a8"
            ],
            [
             0.3333333333333333,
             "#9c179e"
            ],
            [
             0.4444444444444444,
             "#bd3786"
            ],
            [
             0.5555555555555556,
             "#d8576b"
            ],
            [
             0.6666666666666666,
             "#ed7953"
            ],
            [
             0.7777777777777778,
             "#fb9f3a"
            ],
            [
             0.8888888888888888,
             "#fdca26"
            ],
            [
             1,
             "#f0f921"
            ]
           ]
          },
          "colorway": [
           "#636efa",
           "#EF553B",
           "#00cc96",
           "#ab63fa",
           "#FFA15A",
           "#19d3f3",
           "#FF6692",
           "#B6E880",
           "#FF97FF",
           "#FECB52"
          ],
          "font": {
           "color": "#2a3f5f"
          },
          "geo": {
           "bgcolor": "white",
           "lakecolor": "white",
           "landcolor": "#E5ECF6",
           "showlakes": true,
           "showland": true,
           "subunitcolor": "white"
          },
          "hoverlabel": {
           "align": "left"
          },
          "hovermode": "closest",
          "mapbox": {
           "style": "light"
          },
          "paper_bgcolor": "white",
          "plot_bgcolor": "#E5ECF6",
          "polar": {
           "angularaxis": {
            "gridcolor": "white",
            "linecolor": "white",
            "ticks": ""
           },
           "bgcolor": "#E5ECF6",
           "radialaxis": {
            "gridcolor": "white",
            "linecolor": "white",
            "ticks": ""
           }
          },
          "scene": {
           "xaxis": {
            "backgroundcolor": "#E5ECF6",
            "gridcolor": "white",
            "gridwidth": 2,
            "linecolor": "white",
            "showbackground": true,
            "ticks": "",
            "zerolinecolor": "white"
           },
           "yaxis": {
            "backgroundcolor": "#E5ECF6",
            "gridcolor": "white",
            "gridwidth": 2,
            "linecolor": "white",
            "showbackground": true,
            "ticks": "",
            "zerolinecolor": "white"
           },
           "zaxis": {
            "backgroundcolor": "#E5ECF6",
            "gridcolor": "white",
            "gridwidth": 2,
            "linecolor": "white",
            "showbackground": true,
            "ticks": "",
            "zerolinecolor": "white"
           }
          },
          "shapedefaults": {
           "line": {
            "color": "#2a3f5f"
           }
          },
          "ternary": {
           "aaxis": {
            "gridcolor": "white",
            "linecolor": "white",
            "ticks": ""
           },
           "baxis": {
            "gridcolor": "white",
            "linecolor": "white",
            "ticks": ""
           },
           "bgcolor": "#E5ECF6",
           "caxis": {
            "gridcolor": "white",
            "linecolor": "white",
            "ticks": ""
           }
          },
          "title": {
           "x": 0.05
          },
          "xaxis": {
           "automargin": true,
           "gridcolor": "white",
           "linecolor": "white",
           "ticks": "",
           "title": {
            "standoff": 15
           },
           "zerolinecolor": "white",
           "zerolinewidth": 2
          },
          "yaxis": {
           "automargin": true,
           "gridcolor": "white",
           "linecolor": "white",
           "ticks": "",
           "title": {
            "standoff": 15
           },
           "zerolinecolor": "white",
           "zerolinewidth": 2
          }
         }
        },
        "xaxis": {
         "showgrid": false
        },
        "yaxis": {
         "gridcolor": "rgba(225, 225, 225, .5)",
         "range": [
          0,
          300
         ]
        }
       }
      }
     },
     "metadata": {},
     "output_type": "display_data"
    }
   ],
   "source": [
    "dfn = data.copy()\n",
    "dfn['date_added_netflix'].replace('no_data', np.nan, inplace  = True)\n",
    "dfn = dfn.dropna()\n",
    "dfn['date_added_netflix'] = pd.to_datetime(dfn['date_added_netflix'])\n",
    "dfn['year_added'] = dfn['date_added_netflix'].dt.year\n",
    "dfn['count'] = 1\n",
    "\n",
    "dfa = data.copy()\n",
    "dfa['date_added_amazon'].replace('no_data', np.nan, inplace  = True)\n",
    "dfa = dfa.dropna()\n",
    "dfa['date_added_amazon'] = pd.to_datetime(dfa['date_added_amazon'])\n",
    "dfa['year_added'] = dfa['date_added_amazon'].dt.year\n",
    "dfa['count'] = 1\n",
    "\n",
    "def year_added(df, file, prov, range):\n",
    "    fig = go.Figure(layout_yaxis_range=range)\n",
    "    for i, r in enumerate(df['type'].value_counts().index[::-1]):\n",
    "        mtv_rel = pd.DataFrame(df[df['type']==r]['year_added'].value_counts().sort_index())\n",
    "        fig.add_trace(go.Scatter(\n",
    "            x=mtv_rel.index, y=mtv_rel['year_added'],\n",
    "            hoverinfo='x+y',\n",
    "            mode='lines',\n",
    "            line=dict(width=2, color=two_colors[i]),\n",
    "            # line_shape='spline', \n",
    "            name = r,\n",
    "            stackgroup='one'\n",
    "        ))\n",
    "\n",
    "        for fig_scatter_data in fig.data:\n",
    "            fig_scatter_data['customdata'] = [fig_scatter_data['name']] * len(fig_scatter_data['x'])\n",
    "\n",
    "    fig.update_traces( marker=dict(line=dict(width=2)),textfont=dict(family=\"Arial, san serif\",size=16,color=\"#212529\"),hoverlabel=dict(font_size=14,font_family=\"Arial, san serif\", font_color='white'))\n",
    "\n",
    "    fig.update_traces(hovertemplate=('<br>In %{x}, %{y} %{customdata} were added on ' +prov+'<br><extra></extra>'))\n",
    "\n",
    "    fig.update_layout(paper_bgcolor=\"#212529\", plot_bgcolor ='rgba(0, 0, 0, 0)', hoverlabel_bordercolor='#212529',margin=margin, yaxis_gridcolor ='rgba(225, 225, 225, .5)', font_color=\"white\", font_family=\"Arial, san serif\", font_size=15, xaxis_showgrid=False)\n",
    "    \n",
    "    fig.write_html('visualization/'+ file)\n",
    "    fig.show()\n",
    "\n",
    "year_added(dfn, 'seven.html', 'Netflix', [0,1300])\n",
    "year_added(dfa, 'eight.html', 'Amazon', [0,300])"
   ]
  },
  {
   "cell_type": "markdown",
   "metadata": {},
   "source": [
    "### Month added \n",
    "\n",
    "We plot two line charts one for Netflix and one for Amazon to investigate movement by month in content type and quantity addition.\n",
    "\n",
    "**Conclusions:** It is interesting to notice that Amazon and Netflix seem to be complementary in month addition. If Netflix is publishing mostly at the beginning and at the end of the year, Amazon concentrates more in the middle - in particular on the month of June."
   ]
  },
  {
   "cell_type": "code",
   "execution_count": 107,
   "metadata": {},
   "outputs": [
    {
     "data": {
      "application/vnd.plotly.v1+json": {
       "config": {
        "plotlyServerURL": "https://plot.ly"
       },
       "data": [
        {
         "customdata": [
          "TV Show",
          "TV Show",
          "TV Show",
          "TV Show",
          "TV Show",
          "TV Show",
          "TV Show",
          "TV Show",
          "TV Show",
          "TV Show",
          "TV Show",
          "TV Show"
         ],
         "hoverinfo": "x+y",
         "hoverlabel": {
          "font": {
           "color": "white",
           "family": "Arial, san serif",
           "size": 14
          }
         },
         "hovertemplate": "<br>On %{x}, %{y} %{customdata} were added on Netflix<br><extra></extra>",
         "line": {
          "color": "#ff547c",
          "width": 2
         },
         "marker": {
          "line": {
           "width": 2
          }
         },
         "mode": "lines",
         "name": "TV Show",
         "stackgroup": "one",
         "textfont": {
          "color": "#212529",
          "family": "Arial, san serif",
          "size": 16
         },
         "type": "scatter",
         "x": [
          "January",
          "February",
          "March",
          "April",
          "May",
          "June",
          "July",
          "August",
          "September",
          "October",
          "November",
          "December"
         ],
         "y": [
          104,
          93,
          112,
          101,
          105,
          118,
          132,
          120,
          136,
          104,
          107,
          127
         ]
        },
        {
         "customdata": [
          "Movie",
          "Movie",
          "Movie",
          "Movie",
          "Movie",
          "Movie",
          "Movie",
          "Movie",
          "Movie",
          "Movie",
          "Movie",
          "Movie"
         ],
         "hoverinfo": "x+y",
         "hoverlabel": {
          "font": {
           "color": "white",
           "family": "Arial, san serif",
           "size": 14
          }
         },
         "hovertemplate": "<br>On %{x}, %{y} %{customdata} were added on Netflix<br><extra></extra>",
         "line": {
          "color": "#a0a3de",
          "width": 2
         },
         "marker": {
          "line": {
           "width": 2
          }
         },
         "mode": "lines",
         "name": "Movie",
         "stackgroup": "one",
         "textfont": {
          "color": "#212529",
          "family": "Arial, san serif",
          "size": 16
         },
         "type": "scatter",
         "x": [
          "January",
          "February",
          "March",
          "April",
          "May",
          "June",
          "July",
          "August",
          "September",
          "October",
          "November",
          "December"
         ],
         "y": [
          454,
          314,
          415,
          423,
          347,
          398,
          465,
          440,
          437,
          421,
          423,
          461
         ]
        }
       ],
       "layout": {
        "font": {
         "color": "white",
         "family": "Arial, san serif",
         "size": 15
        },
        "hoverlabel": {
         "bordercolor": "#212529"
        },
        "margin": {
         "b": 10,
         "l": 10,
         "r": 10,
         "t": 10
        },
        "paper_bgcolor": "#212529",
        "plot_bgcolor": "rgba(0, 0, 0, 0)",
        "template": {
         "data": {
          "bar": [
           {
            "error_x": {
             "color": "#2a3f5f"
            },
            "error_y": {
             "color": "#2a3f5f"
            },
            "marker": {
             "line": {
              "color": "#E5ECF6",
              "width": 0.5
             },
             "pattern": {
              "fillmode": "overlay",
              "size": 10,
              "solidity": 0.2
             }
            },
            "type": "bar"
           }
          ],
          "barpolar": [
           {
            "marker": {
             "line": {
              "color": "#E5ECF6",
              "width": 0.5
             },
             "pattern": {
              "fillmode": "overlay",
              "size": 10,
              "solidity": 0.2
             }
            },
            "type": "barpolar"
           }
          ],
          "carpet": [
           {
            "aaxis": {
             "endlinecolor": "#2a3f5f",
             "gridcolor": "white",
             "linecolor": "white",
             "minorgridcolor": "white",
             "startlinecolor": "#2a3f5f"
            },
            "baxis": {
             "endlinecolor": "#2a3f5f",
             "gridcolor": "white",
             "linecolor": "white",
             "minorgridcolor": "white",
             "startlinecolor": "#2a3f5f"
            },
            "type": "carpet"
           }
          ],
          "choropleth": [
           {
            "colorbar": {
             "outlinewidth": 0,
             "ticks": ""
            },
            "type": "choropleth"
           }
          ],
          "contour": [
           {
            "colorbar": {
             "outlinewidth": 0,
             "ticks": ""
            },
            "colorscale": [
             [
              0,
              "#0d0887"
             ],
             [
              0.1111111111111111,
              "#46039f"
             ],
             [
              0.2222222222222222,
              "#7201a8"
             ],
             [
              0.3333333333333333,
              "#9c179e"
             ],
             [
              0.4444444444444444,
              "#bd3786"
             ],
             [
              0.5555555555555556,
              "#d8576b"
             ],
             [
              0.6666666666666666,
              "#ed7953"
             ],
             [
              0.7777777777777778,
              "#fb9f3a"
             ],
             [
              0.8888888888888888,
              "#fdca26"
             ],
             [
              1,
              "#f0f921"
             ]
            ],
            "type": "contour"
           }
          ],
          "contourcarpet": [
           {
            "colorbar": {
             "outlinewidth": 0,
             "ticks": ""
            },
            "type": "contourcarpet"
           }
          ],
          "heatmap": [
           {
            "colorbar": {
             "outlinewidth": 0,
             "ticks": ""
            },
            "colorscale": [
             [
              0,
              "#0d0887"
             ],
             [
              0.1111111111111111,
              "#46039f"
             ],
             [
              0.2222222222222222,
              "#7201a8"
             ],
             [
              0.3333333333333333,
              "#9c179e"
             ],
             [
              0.4444444444444444,
              "#bd3786"
             ],
             [
              0.5555555555555556,
              "#d8576b"
             ],
             [
              0.6666666666666666,
              "#ed7953"
             ],
             [
              0.7777777777777778,
              "#fb9f3a"
             ],
             [
              0.8888888888888888,
              "#fdca26"
             ],
             [
              1,
              "#f0f921"
             ]
            ],
            "type": "heatmap"
           }
          ],
          "heatmapgl": [
           {
            "colorbar": {
             "outlinewidth": 0,
             "ticks": ""
            },
            "colorscale": [
             [
              0,
              "#0d0887"
             ],
             [
              0.1111111111111111,
              "#46039f"
             ],
             [
              0.2222222222222222,
              "#7201a8"
             ],
             [
              0.3333333333333333,
              "#9c179e"
             ],
             [
              0.4444444444444444,
              "#bd3786"
             ],
             [
              0.5555555555555556,
              "#d8576b"
             ],
             [
              0.6666666666666666,
              "#ed7953"
             ],
             [
              0.7777777777777778,
              "#fb9f3a"
             ],
             [
              0.8888888888888888,
              "#fdca26"
             ],
             [
              1,
              "#f0f921"
             ]
            ],
            "type": "heatmapgl"
           }
          ],
          "histogram": [
           {
            "marker": {
             "pattern": {
              "fillmode": "overlay",
              "size": 10,
              "solidity": 0.2
             }
            },
            "type": "histogram"
           }
          ],
          "histogram2d": [
           {
            "colorbar": {
             "outlinewidth": 0,
             "ticks": ""
            },
            "colorscale": [
             [
              0,
              "#0d0887"
             ],
             [
              0.1111111111111111,
              "#46039f"
             ],
             [
              0.2222222222222222,
              "#7201a8"
             ],
             [
              0.3333333333333333,
              "#9c179e"
             ],
             [
              0.4444444444444444,
              "#bd3786"
             ],
             [
              0.5555555555555556,
              "#d8576b"
             ],
             [
              0.6666666666666666,
              "#ed7953"
             ],
             [
              0.7777777777777778,
              "#fb9f3a"
             ],
             [
              0.8888888888888888,
              "#fdca26"
             ],
             [
              1,
              "#f0f921"
             ]
            ],
            "type": "histogram2d"
           }
          ],
          "histogram2dcontour": [
           {
            "colorbar": {
             "outlinewidth": 0,
             "ticks": ""
            },
            "colorscale": [
             [
              0,
              "#0d0887"
             ],
             [
              0.1111111111111111,
              "#46039f"
             ],
             [
              0.2222222222222222,
              "#7201a8"
             ],
             [
              0.3333333333333333,
              "#9c179e"
             ],
             [
              0.4444444444444444,
              "#bd3786"
             ],
             [
              0.5555555555555556,
              "#d8576b"
             ],
             [
              0.6666666666666666,
              "#ed7953"
             ],
             [
              0.7777777777777778,
              "#fb9f3a"
             ],
             [
              0.8888888888888888,
              "#fdca26"
             ],
             [
              1,
              "#f0f921"
             ]
            ],
            "type": "histogram2dcontour"
           }
          ],
          "mesh3d": [
           {
            "colorbar": {
             "outlinewidth": 0,
             "ticks": ""
            },
            "type": "mesh3d"
           }
          ],
          "parcoords": [
           {
            "line": {
             "colorbar": {
              "outlinewidth": 0,
              "ticks": ""
             }
            },
            "type": "parcoords"
           }
          ],
          "pie": [
           {
            "automargin": true,
            "type": "pie"
           }
          ],
          "scatter": [
           {
            "marker": {
             "colorbar": {
              "outlinewidth": 0,
              "ticks": ""
             }
            },
            "type": "scatter"
           }
          ],
          "scatter3d": [
           {
            "line": {
             "colorbar": {
              "outlinewidth": 0,
              "ticks": ""
             }
            },
            "marker": {
             "colorbar": {
              "outlinewidth": 0,
              "ticks": ""
             }
            },
            "type": "scatter3d"
           }
          ],
          "scattercarpet": [
           {
            "marker": {
             "colorbar": {
              "outlinewidth": 0,
              "ticks": ""
             }
            },
            "type": "scattercarpet"
           }
          ],
          "scattergeo": [
           {
            "marker": {
             "colorbar": {
              "outlinewidth": 0,
              "ticks": ""
             }
            },
            "type": "scattergeo"
           }
          ],
          "scattergl": [
           {
            "marker": {
             "colorbar": {
              "outlinewidth": 0,
              "ticks": ""
             }
            },
            "type": "scattergl"
           }
          ],
          "scattermapbox": [
           {
            "marker": {
             "colorbar": {
              "outlinewidth": 0,
              "ticks": ""
             }
            },
            "type": "scattermapbox"
           }
          ],
          "scatterpolar": [
           {
            "marker": {
             "colorbar": {
              "outlinewidth": 0,
              "ticks": ""
             }
            },
            "type": "scatterpolar"
           }
          ],
          "scatterpolargl": [
           {
            "marker": {
             "colorbar": {
              "outlinewidth": 0,
              "ticks": ""
             }
            },
            "type": "scatterpolargl"
           }
          ],
          "scatterternary": [
           {
            "marker": {
             "colorbar": {
              "outlinewidth": 0,
              "ticks": ""
             }
            },
            "type": "scatterternary"
           }
          ],
          "surface": [
           {
            "colorbar": {
             "outlinewidth": 0,
             "ticks": ""
            },
            "colorscale": [
             [
              0,
              "#0d0887"
             ],
             [
              0.1111111111111111,
              "#46039f"
             ],
             [
              0.2222222222222222,
              "#7201a8"
             ],
             [
              0.3333333333333333,
              "#9c179e"
             ],
             [
              0.4444444444444444,
              "#bd3786"
             ],
             [
              0.5555555555555556,
              "#d8576b"
             ],
             [
              0.6666666666666666,
              "#ed7953"
             ],
             [
              0.7777777777777778,
              "#fb9f3a"
             ],
             [
              0.8888888888888888,
              "#fdca26"
             ],
             [
              1,
              "#f0f921"
             ]
            ],
            "type": "surface"
           }
          ],
          "table": [
           {
            "cells": {
             "fill": {
              "color": "#EBF0F8"
             },
             "line": {
              "color": "white"
             }
            },
            "header": {
             "fill": {
              "color": "#C8D4E3"
             },
             "line": {
              "color": "white"
             }
            },
            "type": "table"
           }
          ]
         },
         "layout": {
          "annotationdefaults": {
           "arrowcolor": "#2a3f5f",
           "arrowhead": 0,
           "arrowwidth": 1
          },
          "autotypenumbers": "strict",
          "coloraxis": {
           "colorbar": {
            "outlinewidth": 0,
            "ticks": ""
           }
          },
          "colorscale": {
           "diverging": [
            [
             0,
             "#8e0152"
            ],
            [
             0.1,
             "#c51b7d"
            ],
            [
             0.2,
             "#de77ae"
            ],
            [
             0.3,
             "#f1b6da"
            ],
            [
             0.4,
             "#fde0ef"
            ],
            [
             0.5,
             "#f7f7f7"
            ],
            [
             0.6,
             "#e6f5d0"
            ],
            [
             0.7,
             "#b8e186"
            ],
            [
             0.8,
             "#7fbc41"
            ],
            [
             0.9,
             "#4d9221"
            ],
            [
             1,
             "#276419"
            ]
           ],
           "sequential": [
            [
             0,
             "#0d0887"
            ],
            [
             0.1111111111111111,
             "#46039f"
            ],
            [
             0.2222222222222222,
             "#7201a8"
            ],
            [
             0.3333333333333333,
             "#9c179e"
            ],
            [
             0.4444444444444444,
             "#bd3786"
            ],
            [
             0.5555555555555556,
             "#d8576b"
            ],
            [
             0.6666666666666666,
             "#ed7953"
            ],
            [
             0.7777777777777778,
             "#fb9f3a"
            ],
            [
             0.8888888888888888,
             "#fdca26"
            ],
            [
             1,
             "#f0f921"
            ]
           ],
           "sequentialminus": [
            [
             0,
             "#0d0887"
            ],
            [
             0.1111111111111111,
             "#46039f"
            ],
            [
             0.2222222222222222,
             "#7201a8"
            ],
            [
             0.3333333333333333,
             "#9c179e"
            ],
            [
             0.4444444444444444,
             "#bd3786"
            ],
            [
             0.5555555555555556,
             "#d8576b"
            ],
            [
             0.6666666666666666,
             "#ed7953"
            ],
            [
             0.7777777777777778,
             "#fb9f3a"
            ],
            [
             0.8888888888888888,
             "#fdca26"
            ],
            [
             1,
             "#f0f921"
            ]
           ]
          },
          "colorway": [
           "#636efa",
           "#EF553B",
           "#00cc96",
           "#ab63fa",
           "#FFA15A",
           "#19d3f3",
           "#FF6692",
           "#B6E880",
           "#FF97FF",
           "#FECB52"
          ],
          "font": {
           "color": "#2a3f5f"
          },
          "geo": {
           "bgcolor": "white",
           "lakecolor": "white",
           "landcolor": "#E5ECF6",
           "showlakes": true,
           "showland": true,
           "subunitcolor": "white"
          },
          "hoverlabel": {
           "align": "left"
          },
          "hovermode": "closest",
          "mapbox": {
           "style": "light"
          },
          "paper_bgcolor": "white",
          "plot_bgcolor": "#E5ECF6",
          "polar": {
           "angularaxis": {
            "gridcolor": "white",
            "linecolor": "white",
            "ticks": ""
           },
           "bgcolor": "#E5ECF6",
           "radialaxis": {
            "gridcolor": "white",
            "linecolor": "white",
            "ticks": ""
           }
          },
          "scene": {
           "xaxis": {
            "backgroundcolor": "#E5ECF6",
            "gridcolor": "white",
            "gridwidth": 2,
            "linecolor": "white",
            "showbackground": true,
            "ticks": "",
            "zerolinecolor": "white"
           },
           "yaxis": {
            "backgroundcolor": "#E5ECF6",
            "gridcolor": "white",
            "gridwidth": 2,
            "linecolor": "white",
            "showbackground": true,
            "ticks": "",
            "zerolinecolor": "white"
           },
           "zaxis": {
            "backgroundcolor": "#E5ECF6",
            "gridcolor": "white",
            "gridwidth": 2,
            "linecolor": "white",
            "showbackground": true,
            "ticks": "",
            "zerolinecolor": "white"
           }
          },
          "shapedefaults": {
           "line": {
            "color": "#2a3f5f"
           }
          },
          "ternary": {
           "aaxis": {
            "gridcolor": "white",
            "linecolor": "white",
            "ticks": ""
           },
           "baxis": {
            "gridcolor": "white",
            "linecolor": "white",
            "ticks": ""
           },
           "bgcolor": "#E5ECF6",
           "caxis": {
            "gridcolor": "white",
            "linecolor": "white",
            "ticks": ""
           }
          },
          "title": {
           "x": 0.05
          },
          "xaxis": {
           "automargin": true,
           "gridcolor": "white",
           "linecolor": "white",
           "ticks": "",
           "title": {
            "standoff": 15
           },
           "zerolinecolor": "white",
           "zerolinewidth": 2
          },
          "yaxis": {
           "automargin": true,
           "gridcolor": "white",
           "linecolor": "white",
           "ticks": "",
           "title": {
            "standoff": 15
           },
           "zerolinecolor": "white",
           "zerolinewidth": 2
          }
         }
        },
        "xaxis": {
         "showgrid": false
        },
        "yaxis": {
         "gridcolor": "rgba(225, 225, 225, .5)",
         "range": [
          0,
          700
         ]
        }
       }
      }
     },
     "metadata": {},
     "output_type": "display_data"
    },
    {
     "data": {
      "application/vnd.plotly.v1+json": {
       "config": {
        "plotlyServerURL": "https://plot.ly"
       },
       "data": [
        {
         "customdata": [
          "TV Show",
          "TV Show",
          "TV Show",
          "TV Show",
          "TV Show",
          "TV Show",
          "TV Show",
          "TV Show",
          "TV Show",
          "TV Show",
          "TV Show",
          "TV Show"
         ],
         "hoverinfo": "x+y",
         "hoverlabel": {
          "font": {
           "color": "white",
           "family": "Arial, san serif",
           "size": 14
          }
         },
         "hovertemplate": "<br>On %{x}, %{y} %{customdata} were added on Amazon<br><extra></extra>",
         "line": {
          "color": "#ff547c",
          "width": 2
         },
         "marker": {
          "line": {
           "width": 2
          }
         },
         "mode": "lines",
         "name": "TV Show",
         "stackgroup": "one",
         "textfont": {
          "color": "#212529",
          "family": "Arial, san serif",
          "size": 16
         },
         "type": "scatter",
         "x": [
          "January",
          "February",
          "March",
          "April",
          "May",
          "June",
          "July",
          "August",
          "September",
          "October",
          "November",
          "December"
         ],
         "y": [
          32,
          25,
          32,
          22,
          27,
          47,
          24,
          29,
          27,
          33,
          35,
          14
         ]
        },
        {
         "customdata": [
          "Movie",
          "Movie",
          "Movie",
          "Movie",
          "Movie",
          "Movie",
          "Movie",
          "Movie",
          "Movie",
          "Movie",
          "Movie",
          "Movie"
         ],
         "hoverinfo": "x+y",
         "hoverlabel": {
          "font": {
           "color": "white",
           "family": "Arial, san serif",
           "size": 14
          }
         },
         "hovertemplate": "<br>On %{x}, %{y} %{customdata} were added on Amazon<br><extra></extra>",
         "line": {
          "color": "#a0a3de",
          "width": 2
         },
         "marker": {
          "line": {
           "width": 2
          }
         },
         "mode": "lines",
         "name": "Movie",
         "stackgroup": "one",
         "textfont": {
          "color": "#212529",
          "family": "Arial, san serif",
          "size": 16
         },
         "type": "scatter",
         "x": [
          "January",
          "February",
          "March",
          "April",
          "May",
          "June",
          "July",
          "August",
          "September",
          "October",
          "November",
          "December"
         ],
         "y": [
          104,
          102,
          107,
          86,
          110,
          123,
          110,
          122,
          138,
          125,
          101,
          89
         ]
        }
       ],
       "layout": {
        "font": {
         "color": "white",
         "family": "Arial, san serif",
         "size": 15
        },
        "hoverlabel": {
         "bordercolor": "#212529"
        },
        "margin": {
         "b": 10,
         "l": 10,
         "r": 10,
         "t": 10
        },
        "paper_bgcolor": "#212529",
        "plot_bgcolor": "rgba(0, 0, 0, 0)",
        "template": {
         "data": {
          "bar": [
           {
            "error_x": {
             "color": "#2a3f5f"
            },
            "error_y": {
             "color": "#2a3f5f"
            },
            "marker": {
             "line": {
              "color": "#E5ECF6",
              "width": 0.5
             },
             "pattern": {
              "fillmode": "overlay",
              "size": 10,
              "solidity": 0.2
             }
            },
            "type": "bar"
           }
          ],
          "barpolar": [
           {
            "marker": {
             "line": {
              "color": "#E5ECF6",
              "width": 0.5
             },
             "pattern": {
              "fillmode": "overlay",
              "size": 10,
              "solidity": 0.2
             }
            },
            "type": "barpolar"
           }
          ],
          "carpet": [
           {
            "aaxis": {
             "endlinecolor": "#2a3f5f",
             "gridcolor": "white",
             "linecolor": "white",
             "minorgridcolor": "white",
             "startlinecolor": "#2a3f5f"
            },
            "baxis": {
             "endlinecolor": "#2a3f5f",
             "gridcolor": "white",
             "linecolor": "white",
             "minorgridcolor": "white",
             "startlinecolor": "#2a3f5f"
            },
            "type": "carpet"
           }
          ],
          "choropleth": [
           {
            "colorbar": {
             "outlinewidth": 0,
             "ticks": ""
            },
            "type": "choropleth"
           }
          ],
          "contour": [
           {
            "colorbar": {
             "outlinewidth": 0,
             "ticks": ""
            },
            "colorscale": [
             [
              0,
              "#0d0887"
             ],
             [
              0.1111111111111111,
              "#46039f"
             ],
             [
              0.2222222222222222,
              "#7201a8"
             ],
             [
              0.3333333333333333,
              "#9c179e"
             ],
             [
              0.4444444444444444,
              "#bd3786"
             ],
             [
              0.5555555555555556,
              "#d8576b"
             ],
             [
              0.6666666666666666,
              "#ed7953"
             ],
             [
              0.7777777777777778,
              "#fb9f3a"
             ],
             [
              0.8888888888888888,
              "#fdca26"
             ],
             [
              1,
              "#f0f921"
             ]
            ],
            "type": "contour"
           }
          ],
          "contourcarpet": [
           {
            "colorbar": {
             "outlinewidth": 0,
             "ticks": ""
            },
            "type": "contourcarpet"
           }
          ],
          "heatmap": [
           {
            "colorbar": {
             "outlinewidth": 0,
             "ticks": ""
            },
            "colorscale": [
             [
              0,
              "#0d0887"
             ],
             [
              0.1111111111111111,
              "#46039f"
             ],
             [
              0.2222222222222222,
              "#7201a8"
             ],
             [
              0.3333333333333333,
              "#9c179e"
             ],
             [
              0.4444444444444444,
              "#bd3786"
             ],
             [
              0.5555555555555556,
              "#d8576b"
             ],
             [
              0.6666666666666666,
              "#ed7953"
             ],
             [
              0.7777777777777778,
              "#fb9f3a"
             ],
             [
              0.8888888888888888,
              "#fdca26"
             ],
             [
              1,
              "#f0f921"
             ]
            ],
            "type": "heatmap"
           }
          ],
          "heatmapgl": [
           {
            "colorbar": {
             "outlinewidth": 0,
             "ticks": ""
            },
            "colorscale": [
             [
              0,
              "#0d0887"
             ],
             [
              0.1111111111111111,
              "#46039f"
             ],
             [
              0.2222222222222222,
              "#7201a8"
             ],
             [
              0.3333333333333333,
              "#9c179e"
             ],
             [
              0.4444444444444444,
              "#bd3786"
             ],
             [
              0.5555555555555556,
              "#d8576b"
             ],
             [
              0.6666666666666666,
              "#ed7953"
             ],
             [
              0.7777777777777778,
              "#fb9f3a"
             ],
             [
              0.8888888888888888,
              "#fdca26"
             ],
             [
              1,
              "#f0f921"
             ]
            ],
            "type": "heatmapgl"
           }
          ],
          "histogram": [
           {
            "marker": {
             "pattern": {
              "fillmode": "overlay",
              "size": 10,
              "solidity": 0.2
             }
            },
            "type": "histogram"
           }
          ],
          "histogram2d": [
           {
            "colorbar": {
             "outlinewidth": 0,
             "ticks": ""
            },
            "colorscale": [
             [
              0,
              "#0d0887"
             ],
             [
              0.1111111111111111,
              "#46039f"
             ],
             [
              0.2222222222222222,
              "#7201a8"
             ],
             [
              0.3333333333333333,
              "#9c179e"
             ],
             [
              0.4444444444444444,
              "#bd3786"
             ],
             [
              0.5555555555555556,
              "#d8576b"
             ],
             [
              0.6666666666666666,
              "#ed7953"
             ],
             [
              0.7777777777777778,
              "#fb9f3a"
             ],
             [
              0.8888888888888888,
              "#fdca26"
             ],
             [
              1,
              "#f0f921"
             ]
            ],
            "type": "histogram2d"
           }
          ],
          "histogram2dcontour": [
           {
            "colorbar": {
             "outlinewidth": 0,
             "ticks": ""
            },
            "colorscale": [
             [
              0,
              "#0d0887"
             ],
             [
              0.1111111111111111,
              "#46039f"
             ],
             [
              0.2222222222222222,
              "#7201a8"
             ],
             [
              0.3333333333333333,
              "#9c179e"
             ],
             [
              0.4444444444444444,
              "#bd3786"
             ],
             [
              0.5555555555555556,
              "#d8576b"
             ],
             [
              0.6666666666666666,
              "#ed7953"
             ],
             [
              0.7777777777777778,
              "#fb9f3a"
             ],
             [
              0.8888888888888888,
              "#fdca26"
             ],
             [
              1,
              "#f0f921"
             ]
            ],
            "type": "histogram2dcontour"
           }
          ],
          "mesh3d": [
           {
            "colorbar": {
             "outlinewidth": 0,
             "ticks": ""
            },
            "type": "mesh3d"
           }
          ],
          "parcoords": [
           {
            "line": {
             "colorbar": {
              "outlinewidth": 0,
              "ticks": ""
             }
            },
            "type": "parcoords"
           }
          ],
          "pie": [
           {
            "automargin": true,
            "type": "pie"
           }
          ],
          "scatter": [
           {
            "marker": {
             "colorbar": {
              "outlinewidth": 0,
              "ticks": ""
             }
            },
            "type": "scatter"
           }
          ],
          "scatter3d": [
           {
            "line": {
             "colorbar": {
              "outlinewidth": 0,
              "ticks": ""
             }
            },
            "marker": {
             "colorbar": {
              "outlinewidth": 0,
              "ticks": ""
             }
            },
            "type": "scatter3d"
           }
          ],
          "scattercarpet": [
           {
            "marker": {
             "colorbar": {
              "outlinewidth": 0,
              "ticks": ""
             }
            },
            "type": "scattercarpet"
           }
          ],
          "scattergeo": [
           {
            "marker": {
             "colorbar": {
              "outlinewidth": 0,
              "ticks": ""
             }
            },
            "type": "scattergeo"
           }
          ],
          "scattergl": [
           {
            "marker": {
             "colorbar": {
              "outlinewidth": 0,
              "ticks": ""
             }
            },
            "type": "scattergl"
           }
          ],
          "scattermapbox": [
           {
            "marker": {
             "colorbar": {
              "outlinewidth": 0,
              "ticks": ""
             }
            },
            "type": "scattermapbox"
           }
          ],
          "scatterpolar": [
           {
            "marker": {
             "colorbar": {
              "outlinewidth": 0,
              "ticks": ""
             }
            },
            "type": "scatterpolar"
           }
          ],
          "scatterpolargl": [
           {
            "marker": {
             "colorbar": {
              "outlinewidth": 0,
              "ticks": ""
             }
            },
            "type": "scatterpolargl"
           }
          ],
          "scatterternary": [
           {
            "marker": {
             "colorbar": {
              "outlinewidth": 0,
              "ticks": ""
             }
            },
            "type": "scatterternary"
           }
          ],
          "surface": [
           {
            "colorbar": {
             "outlinewidth": 0,
             "ticks": ""
            },
            "colorscale": [
             [
              0,
              "#0d0887"
             ],
             [
              0.1111111111111111,
              "#46039f"
             ],
             [
              0.2222222222222222,
              "#7201a8"
             ],
             [
              0.3333333333333333,
              "#9c179e"
             ],
             [
              0.4444444444444444,
              "#bd3786"
             ],
             [
              0.5555555555555556,
              "#d8576b"
             ],
             [
              0.6666666666666666,
              "#ed7953"
             ],
             [
              0.7777777777777778,
              "#fb9f3a"
             ],
             [
              0.8888888888888888,
              "#fdca26"
             ],
             [
              1,
              "#f0f921"
             ]
            ],
            "type": "surface"
           }
          ],
          "table": [
           {
            "cells": {
             "fill": {
              "color": "#EBF0F8"
             },
             "line": {
              "color": "white"
             }
            },
            "header": {
             "fill": {
              "color": "#C8D4E3"
             },
             "line": {
              "color": "white"
             }
            },
            "type": "table"
           }
          ]
         },
         "layout": {
          "annotationdefaults": {
           "arrowcolor": "#2a3f5f",
           "arrowhead": 0,
           "arrowwidth": 1
          },
          "autotypenumbers": "strict",
          "coloraxis": {
           "colorbar": {
            "outlinewidth": 0,
            "ticks": ""
           }
          },
          "colorscale": {
           "diverging": [
            [
             0,
             "#8e0152"
            ],
            [
             0.1,
             "#c51b7d"
            ],
            [
             0.2,
             "#de77ae"
            ],
            [
             0.3,
             "#f1b6da"
            ],
            [
             0.4,
             "#fde0ef"
            ],
            [
             0.5,
             "#f7f7f7"
            ],
            [
             0.6,
             "#e6f5d0"
            ],
            [
             0.7,
             "#b8e186"
            ],
            [
             0.8,
             "#7fbc41"
            ],
            [
             0.9,
             "#4d9221"
            ],
            [
             1,
             "#276419"
            ]
           ],
           "sequential": [
            [
             0,
             "#0d0887"
            ],
            [
             0.1111111111111111,
             "#46039f"
            ],
            [
             0.2222222222222222,
             "#7201a8"
            ],
            [
             0.3333333333333333,
             "#9c179e"
            ],
            [
             0.4444444444444444,
             "#bd3786"
            ],
            [
             0.5555555555555556,
             "#d8576b"
            ],
            [
             0.6666666666666666,
             "#ed7953"
            ],
            [
             0.7777777777777778,
             "#fb9f3a"
            ],
            [
             0.8888888888888888,
             "#fdca26"
            ],
            [
             1,
             "#f0f921"
            ]
           ],
           "sequentialminus": [
            [
             0,
             "#0d0887"
            ],
            [
             0.1111111111111111,
             "#46039f"
            ],
            [
             0.2222222222222222,
             "#7201a8"
            ],
            [
             0.3333333333333333,
             "#9c179e"
            ],
            [
             0.4444444444444444,
             "#bd3786"
            ],
            [
             0.5555555555555556,
             "#d8576b"
            ],
            [
             0.6666666666666666,
             "#ed7953"
            ],
            [
             0.7777777777777778,
             "#fb9f3a"
            ],
            [
             0.8888888888888888,
             "#fdca26"
            ],
            [
             1,
             "#f0f921"
            ]
           ]
          },
          "colorway": [
           "#636efa",
           "#EF553B",
           "#00cc96",
           "#ab63fa",
           "#FFA15A",
           "#19d3f3",
           "#FF6692",
           "#B6E880",
           "#FF97FF",
           "#FECB52"
          ],
          "font": {
           "color": "#2a3f5f"
          },
          "geo": {
           "bgcolor": "white",
           "lakecolor": "white",
           "landcolor": "#E5ECF6",
           "showlakes": true,
           "showland": true,
           "subunitcolor": "white"
          },
          "hoverlabel": {
           "align": "left"
          },
          "hovermode": "closest",
          "mapbox": {
           "style": "light"
          },
          "paper_bgcolor": "white",
          "plot_bgcolor": "#E5ECF6",
          "polar": {
           "angularaxis": {
            "gridcolor": "white",
            "linecolor": "white",
            "ticks": ""
           },
           "bgcolor": "#E5ECF6",
           "radialaxis": {
            "gridcolor": "white",
            "linecolor": "white",
            "ticks": ""
           }
          },
          "scene": {
           "xaxis": {
            "backgroundcolor": "#E5ECF6",
            "gridcolor": "white",
            "gridwidth": 2,
            "linecolor": "white",
            "showbackground": true,
            "ticks": "",
            "zerolinecolor": "white"
           },
           "yaxis": {
            "backgroundcolor": "#E5ECF6",
            "gridcolor": "white",
            "gridwidth": 2,
            "linecolor": "white",
            "showbackground": true,
            "ticks": "",
            "zerolinecolor": "white"
           },
           "zaxis": {
            "backgroundcolor": "#E5ECF6",
            "gridcolor": "white",
            "gridwidth": 2,
            "linecolor": "white",
            "showbackground": true,
            "ticks": "",
            "zerolinecolor": "white"
           }
          },
          "shapedefaults": {
           "line": {
            "color": "#2a3f5f"
           }
          },
          "ternary": {
           "aaxis": {
            "gridcolor": "white",
            "linecolor": "white",
            "ticks": ""
           },
           "baxis": {
            "gridcolor": "white",
            "linecolor": "white",
            "ticks": ""
           },
           "bgcolor": "#E5ECF6",
           "caxis": {
            "gridcolor": "white",
            "linecolor": "white",
            "ticks": ""
           }
          },
          "title": {
           "x": 0.05
          },
          "xaxis": {
           "automargin": true,
           "gridcolor": "white",
           "linecolor": "white",
           "ticks": "",
           "title": {
            "standoff": 15
           },
           "zerolinecolor": "white",
           "zerolinewidth": 2
          },
          "yaxis": {
           "automargin": true,
           "gridcolor": "white",
           "linecolor": "white",
           "ticks": "",
           "title": {
            "standoff": 15
           },
           "zerolinecolor": "white",
           "zerolinewidth": 2
          }
         }
        },
        "xaxis": {
         "showgrid": false
        },
        "yaxis": {
         "gridcolor": "rgba(225, 225, 225, .5)",
         "range": [
          0,
          200
         ]
        }
       }
      }
     },
     "metadata": {},
     "output_type": "display_data"
    }
   ],
   "source": [
    "month_order = ['January',\n",
    " 'February',\n",
    " 'March',\n",
    " 'April',\n",
    " 'May',\n",
    " 'June',\n",
    " 'July',\n",
    " 'August',\n",
    " 'September',\n",
    " 'October',\n",
    " 'November',\n",
    " 'December']\n",
    "\n",
    "dfn = data.copy()\n",
    "dfn['date_added_netflix'].replace('no_data', np.nan, inplace  = True)\n",
    "dfn = dfn.dropna()\n",
    "dfn['date_added_netflix'] = pd.to_datetime(dfn['date_added_netflix'])\n",
    "dfn['month_added_netflix']=dfn['date_added_netflix'].dt.month\n",
    "dfn['month_added_netflix']=dfn['date_added_netflix'].dt.month_name()\n",
    "dfn['month_name_added'] = pd.Categorical(dfn['month_added_netflix'], categories=month_order, ordered=True)\n",
    "\n",
    "dfa = data.copy()\n",
    "dfa['date_added_amazon'].replace('no_data', np.nan, inplace  = True)\n",
    "dfa = dfa.dropna()\n",
    "dfa['date_added_amazon'] = pd.to_datetime(dfa['date_added_amazon'])\n",
    "dfa['month_added_amazon']=dfa['date_added_amazon'].dt.month\n",
    "dfa['month_added_amazon']=dfa['date_added_amazon'].dt.month_name()\n",
    "dfa['month_name_added'] = pd.Categorical(dfa['month_added_amazon'], categories=month_order, ordered=True)\n",
    "def month_added(df, file, prov, range):\n",
    "    data_sub = df.groupby('type')['month_name_added'].value_counts().unstack().fillna(0).loc[['TV Show','Movie']].cumsum(axis=0).T\n",
    "    fig = go.Figure(layout_yaxis_range=range)\n",
    "    for i, r in enumerate(df['type'].value_counts().index[::-1]):\n",
    "        mtv_rel = pd.DataFrame(data_sub[r])\n",
    "        fig.add_trace(go.Scatter(\n",
    "            x=mtv_rel.index, y=mtv_rel[r],\n",
    "            hoverinfo='x+y',\n",
    "            mode='lines',\n",
    "            line=dict(width=2, color=two_colors[i]),\n",
    "            # line_shape='spline', \n",
    "            name = r,\n",
    "            stackgroup='one' # define stack group\n",
    "        ))\n",
    "\n",
    "        for fig_scatter_data in fig.data:\n",
    "            fig_scatter_data['customdata'] = [fig_scatter_data['name']] * len(fig_scatter_data['x'])\n",
    "\n",
    "    fig.update_traces( marker=dict(line=dict(width=2)),textfont=dict(family=\"Arial, san serif\",size=16,color=\"#212529\"),hoverlabel=dict(font_size=14,font_family=\"Arial, san serif\", font_color='white'))\n",
    "\n",
    "    fig.update_traces(hovertemplate=('<br>On %{x}, %{y} %{customdata} were added on ' +prov+'<br><extra></extra>'))\n",
    "\n",
    "    fig.update_layout(paper_bgcolor=\"#212529\", plot_bgcolor ='rgba(0, 0, 0, 0)', hoverlabel_bordercolor='#212529',margin=margin, yaxis_gridcolor ='rgba(225, 225, 225, .5)', font_color=\"white\", font_family=\"Arial, san serif\", font_size=15, xaxis_showgrid=False)\n",
    "    fig.write_html('visualization/'+ file)\n",
    "    fig.show()\n",
    "month_added(dfn, 'nine.html', 'Netflix', [0,700])\n",
    "month_added(dfa, 'ten.html', 'Amazon', [0, 200])"
   ]
  },
  {
   "cell_type": "markdown",
   "metadata": {},
   "source": [
    "### Content genre addition over month\n",
    "\n",
    "We plot two histograms to understand if there is a differentiation in terms of content genres month addition between the two streaming services.\n",
    "\n",
    "**Conclusion:** both the services have a dominance of Dramatic and Comedy content. Netflix has a huge amount of international movies, with respect to Amazon, which appears to add less of them but more constantly over the months. "
   ]
  },
  {
   "cell_type": "code",
   "execution_count": null,
   "metadata": {},
   "outputs": [],
   "source": [
    "month_order = ['January',\n",
    " 'February',\n",
    " 'March',\n",
    " 'April',\n",
    " 'May',\n",
    " 'June',\n",
    " 'July',\n",
    " 'August',\n",
    " 'September',\n",
    " 'October',\n",
    " 'November',\n",
    " 'December']\n",
    "\n",
    "dfn = data.copy()\n",
    "dfn['date_added_netflix'].replace('no_data', np.nan, inplace  = True)\n",
    "dfn = dfn.dropna()\n",
    "dfn['date_added_netflix'] = pd.to_datetime(dfn['date_added_netflix'])\n",
    "dfn['month_added_netflix']=dfn['date_added_netflix'].dt.month\n",
    "dfn['month_added_netflix']=dfn['date_added_netflix'].dt.month_name()\n",
    "dfn['month_name_added'] = pd.Categorical(dfn['month_added_netflix'], categories=month_order, ordered=True)\n",
    "dfn['genre'] = dfn['listed_in'].apply(lambda x :  x.replace(' ,',',').replace(', ',',').split(',')) \n",
    "\n",
    "dfa = data.copy()\n",
    "dfa['date_added_amazon'].replace('no_data', np.nan, inplace  = True)\n",
    "dfa = dfa.dropna()\n",
    "dfa['date_added_amazon'] = pd.to_datetime(dfa['date_added_amazon'])\n",
    "dfa['month_added_amazon']=dfa['date_added_amazon'].dt.month\n",
    "dfa['month_added_amazon']=dfa['date_added_amazon'].dt.month_name()\n",
    "dfa['month_name_added'] = pd.Categorical(dfa['month_added_amazon'], categories=month_order, ordered=True)\n",
    "dfa['genre'] = dfa['listed_in'].apply(lambda x :  x.replace(' ,',',').replace(', ',',').split(',')) \n",
    "def genre_month(df, file, prov):\n",
    "    d = pd.DataFrame()\n",
    "    j = 0\n",
    "    for i, x in dfn['genre'].iteritems():\n",
    "        for gen in x:\n",
    "            d.loc[j, 'genre'] = gen\n",
    "            mh = dfn._get_value(i, 'month_name_added')\n",
    "            d.loc[j, 'month'] = mh\n",
    "            d.loc[j, 'count'] = 1\n",
    "            j+=1\n",
    "    d = d[['month', 'genre']].groupby('genre')['month'].value_counts().unstack()\n",
    "    d = d.stack().reset_index()\n",
    "    d.columns = ['genre','month','count']\n",
    "\n",
    "    for x in set(d['month'].values):\n",
    "        f = d[d['month']==x]\n",
    "        f['perc'] = (f['count'] / f['count'].sum()) * 100\n",
    "        for i, x in f['perc'].iteritems():\n",
    "            d.loc[i, 'percent'] = x\n",
    "\n",
    "    customdata = np.stack(d['genre'])\n",
    "\n",
    "    fig = px.histogram(d, x=\"month\", y=\"percent\", color='genre', color_discrete_sequence=colors, category_orders=dict(month=month_order), labels={'genre':'Genre'})\n",
    "\n",
    "    fig.update_traces( textfont=dict(family=\"Arial, san serif\",size=16,color=\"#212529\"),hoverlabel=dict(font_size=14,font_family=\"Arial, san serif\", font_color='white'))\n",
    "\n",
    "    fig.update_traces(customdata=['genre'], selector=dict(type='histogram'))\n",
    "\n",
    "    fig.update_layout(paper_bgcolor=\"#212529\", plot_bgcolor ='rgba(0, 0, 0, 0)', hoverlabel_bordercolor='#212529',margin=margin, yaxis_gridcolor ='rgba(225, 225, 225, .5)', font_color=\"white\", font_family=\"Arial, san serif\", font_size=15, xaxis_showgrid=False)\n",
    "\n",
    "    fig.write_html('visualization/'+ file)\n",
    "    fig.show()\n",
    "\n",
    "genre_month(dfn, 'eleven.html', 'Netflix')\n",
    "genre_month(dfa, 'twelve.html', 'Amazon')"
   ]
  },
  {
   "cell_type": "code",
   "execution_count": null,
   "metadata": {},
   "outputs": [],
   "source": [
    "d = pd.DataFrame()\n",
    "j = 0\n",
    "for i, x in dfn['genre'].iteritems():\n",
    "    for gen in x:\n",
    "        d.loc[j, 'genre'] = gen\n",
    "        mh = dfn._get_value(i, 'month_name_added')\n",
    "        d.loc[j, 'month'] = mh\n",
    "        d.loc[j, 'count'] = 1\n",
    "        j+=1\n",
    "d = d[['month', 'genre']].groupby('genre')['month'].value_counts().unstack()\n",
    "d = d.stack().reset_index()\n",
    "d.columns = ['genre','month','count']\n",
    "\n",
    "for x in set(d['month'].values):\n",
    "    f = d[d['month']==x]\n",
    "    f['perc'] = (f['count'] / f['count'].sum()) * 100\n",
    "    for i, x in f['perc'].iteritems():\n",
    "        d.loc[i, 'percent'] = x\n",
    "d"
   ]
  },
  {
   "cell_type": "markdown",
   "metadata": {},
   "source": [
    "### Genre correlation\n",
    "\n",
    "In order to understand how genres combine together for type and streaming services, we built a heatmap.\n",
    "\n",
    "**Conclusion:** It is interesting to notice that for Netflix Independent Movies tend to be Dramas, while Independent contents tend to be Documentary on Amazon. On Netflix, Documentary is associated with Science and Nature. In Amazon, LGBTQ movies tend to be listed in Arts and rarely Horror are also classified as Drama, same for Thriller and Classic movies. Different when we talk about tv shows in Amazon where Thriller is mostly associated with Horror. Amazon tends to relate the Entertainment and Arts contents of both types together.\n",
    "Another observation is that International Movies are rarely in the Children's genre for Netflix, while Amazon distributes more heterogeneously international content over genres."
   ]
  },
  {
   "cell_type": "code",
   "execution_count": null,
   "metadata": {},
   "outputs": [],
   "source": [
    "df = data.copy()\n",
    "df['listed_in'].replace('no_data', np.nan, inplace  = True)\n",
    "df = df.dropna(subset=['listed_in'])\n",
    "df_tv = df[df[\"type\"] == \"TV Show\"]\n",
    "df_movies = df[df[\"type\"] == \"Movie\"]\n",
    "\n",
    "df_amazon = df.query(\"amazon == 1.0\")\n",
    "df_tv_a = df_amazon[df_amazon[\"type\"] == \"TV Show\"]\n",
    "df_movies_a = df_amazon[df_amazon[\"type\"] == \"Movie\"]\n",
    "\n",
    "df_netflix = df.query(\"netflix == 1.0\")\n",
    "df_tv_n = df_netflix[df_netflix[\"type\"] == \"TV Show\"]\n",
    "df_movies_n = df_netflix[df_netflix[\"type\"] == \"Movie\"]\n",
    "def genre_heatmap(df, file, prov):\n",
    "    df['genre'] = df['listed_in'].apply(lambda x :  x.replace(' ,',',').replace(', ',',').split(',')) \n",
    "    test = df['genre']\n",
    "    mlb = MultiLabelBinarizer()\n",
    "    res = pd.DataFrame(mlb.fit_transform(test), columns=mlb.classes_, index=test.index)\n",
    "    corr = res.corr()\n",
    "    mask = np.zeros_like(corr, dtype = bool) \n",
    "    mask[np.triu_indices_from(mask)] = True\n",
    "    corr1 = corr.mask(mask)\n",
    "    X = corr1.columns.values\n",
    "    corr = corr1.values.tolist()\n",
    "    N = len(corr)\n",
    "    hovertext = [[f'corr({X[i]}, {X[j]})= {corr[i][j]:.2f}' if i>j else '' for j in range(N)] for i in range(N)]\n",
    "    title = prov + ' genres' \n",
    "    heat = go.Heatmap(z=corr,\n",
    "                  x=X,\n",
    "                  y=X,\n",
    "                  xgap=1, ygap=1,\n",
    "                  colorscale=colors,\n",
    "                  colorbar_thickness=20,\n",
    "                  colorbar_ticklen=3,\n",
    "                  hovertext =hovertext,\n",
    "                  hoverinfo='text'\n",
    "                   )  \n",
    "    layout = go.Layout(\n",
    "                title_text=title, title_x=0.5,\n",
    "                   autosize=False,\n",
    "                    width=600,\n",
    "                    height=600,\n",
    "                   xaxis_showgrid=False,\n",
    "                   yaxis_showgrid=False,\n",
    "                   yaxis_autorange='reversed')\n",
    "    fig=go.Figure(data=[heat], layout=layout)\n",
    "\n",
    "    fig.update_traces( textfont=dict(family=\"Arial, san serif\",size=16,color=\"#212529\"),hoverlabel=dict(font_size=14,font_family=\"Arial, san serif\", font_color='white'))\n",
    "\n",
    "    fig.update_layout(paper_bgcolor=\"#212529\", plot_bgcolor = 'rgba(0, 0, 0, 0)', hoverlabel_bordercolor='#212529',xaxis_title=\"Contents divided by genre on \"+ prov, margin=margin_title,\n",
    "    yaxis_title=\"Contents amount\",\n",
    "    font=dict(\n",
    "        family=\"Arial, san serif\",\n",
    "        size=12,\n",
    "        color=\"white\"\n",
    "    ) ) \n",
    "    fig.write_html('visualization/'+ file)     \n",
    "    fig.show() \n",
    "\n",
    "genre_heatmap(df, 'therteen.html', 'Full dataset')\n",
    "genre_heatmap(df_tv, 'fourteen.html', 'Full tv shows')\n",
    "genre_heatmap(df_movies, 'fifteen.html', 'Full movies')\n",
    "\n",
    "genre_heatmap(df_amazon, 'sixteen.html', 'Full Amazon')\n",
    "genre_heatmap(df_tv_a, 'seventeen.html', 'Amazon tv shows')\n",
    "genre_heatmap(df_movies_a, 'eighteen.html', 'Amazon movies')\n",
    "\n",
    "genre_heatmap(df_netflix, 'nineteen.html', 'Full Netflix')\n",
    "genre_heatmap(df_tv_n, 'twenty.html', 'Netflix tv shows')\n",
    "genre_heatmap(df_movies_n, 'twentyone.html', 'Netflix movies')"
   ]
  },
  {
   "cell_type": "markdown",
   "metadata": {},
   "source": [
    "### Cinema culture representation\n",
    "\n",
    "To understand how old are movie present in streaming services and which country's cinema culture is more represented in our dataset, we plot one scatter plot for Amazon and one from Netflix.\n",
    "\n",
    "**Conclusion:** The average gap between when content is released, and when it is then added varies by country. In Spain and Nigeria, Netflix appears to be dominated by newer movies whereas Hong Kong & India have an older average movie. Amazon on the contrary has newer Chinese movies and older French movies. The span between the year of addition and movie release year is very close. The gap for TV shows seems more regular than for movies. This is likely due to subsequent series being released year by year. Spain seems to have the newest content overall on Netflix while Indian TV shows are the newest on Amazon."
   ]
  },
  {
   "cell_type": "code",
   "execution_count": 110,
   "metadata": {},
   "outputs": [
    {
     "name": "stderr",
     "output_type": "stream",
     "text": [
      "/var/folders/3g/t_1rwv_57vz466tvccx4d6gm0000gn/T/ipykernel_32588/3728205125.py:30: FutureWarning:\n",
      "\n",
      "Indexing with multiple keys (implicitly converted to a tuple of keys) will be deprecated, use a list instead.\n",
      "\n"
     ]
    },
    {
     "data": {
      "application/vnd.plotly.v1+json": {
       "config": {
        "plotlyServerURL": "https://plot.ly"
       },
       "data": [
        {
         "hoverlabel": {
          "font": {
           "color": "white",
           "family": "Arial, san serif",
           "size": 14
          }
         },
         "marker": {
          "color": "#ff547c",
          "line": {
           "width": 2
          },
          "size": 12
         },
         "mode": "markers",
         "name": "Release year",
         "textfont": {
          "color": "#212529",
          "family": "Arial, san serif",
          "size": 16
         },
         "type": "scatter",
         "x": [
          2002,
          2010,
          2011,
          2013,
          2014,
          2015,
          2016,
          2016,
          2017,
          2018
         ],
         "y": [
          1,
          2,
          3,
          4,
          5,
          6,
          7,
          8,
          9,
          10
         ]
        },
        {
         "hoverlabel": {
          "font": {
           "color": "white",
           "family": "Arial, san serif",
           "size": 14
          }
         },
         "marker": {
          "color": "#a0a3de",
          "line": {
           "width": 2
          },
          "size": 12
         },
         "mode": "markers",
         "name": "Added year",
         "textfont": {
          "color": "#212529",
          "family": "Arial, san serif",
          "size": 16
         },
         "type": "scatter",
         "x": [
          2018,
          2019,
          2019,
          2019,
          2019,
          2019,
          2019,
          2019,
          2018,
          2020
         ],
         "y": [
          1,
          2,
          3,
          4,
          5,
          6,
          7,
          8,
          9,
          10
         ]
        },
        {
         "hoverinfo": "skip",
         "mode": "text",
         "showlegend": false,
         "text": [
          "Hong Kong",
          "India",
          "USA",
          "UK",
          "Germany",
          "France",
          "Canada",
          "Philippines",
          "Spain",
          "Nigeria"
         ],
         "textfont": {
          "color": "white",
          "family": "Arial, sans serif",
          "size": 12
         },
         "textposition": "top right",
         "type": "scatter",
         "x": [
          2022,
          2022,
          2022,
          2022,
          2022,
          2022,
          2022,
          2022,
          2022,
          2022
         ],
         "y": [
          1,
          2,
          3,
          4,
          5,
          6,
          7,
          8,
          9,
          10
         ]
        }
       ],
       "layout": {
        "font": {
         "color": "white",
         "family": "Arial, san serif",
         "size": 12
        },
        "hoverlabel": {
         "bordercolor": "#212529"
        },
        "margin": {
         "b": 10,
         "l": 10,
         "r": 10,
         "t": 50
        },
        "paper_bgcolor": "#212529",
        "plot_bgcolor": "rgba(0, 0, 0, 0)",
        "shapes": [
         {
          "layer": "below",
          "line": {
           "color": "white"
          },
          "type": "line",
          "x0": 2002,
          "x1": 2018,
          "xref": "x",
          "y0": 1,
          "y1": 1,
          "yref": "y"
         },
         {
          "layer": "below",
          "line": {
           "color": "white"
          },
          "type": "line",
          "x0": 2010,
          "x1": 2019,
          "xref": "x",
          "y0": 2,
          "y1": 2,
          "yref": "y"
         },
         {
          "layer": "below",
          "line": {
           "color": "white"
          },
          "type": "line",
          "x0": 2011,
          "x1": 2019,
          "xref": "x",
          "y0": 3,
          "y1": 3,
          "yref": "y"
         },
         {
          "layer": "below",
          "line": {
           "color": "white"
          },
          "type": "line",
          "x0": 2013,
          "x1": 2019,
          "xref": "x",
          "y0": 4,
          "y1": 4,
          "yref": "y"
         },
         {
          "layer": "below",
          "line": {
           "color": "white"
          },
          "type": "line",
          "x0": 2014,
          "x1": 2019,
          "xref": "x",
          "y0": 5,
          "y1": 5,
          "yref": "y"
         },
         {
          "layer": "below",
          "line": {
           "color": "white"
          },
          "type": "line",
          "x0": 2015,
          "x1": 2019,
          "xref": "x",
          "y0": 6,
          "y1": 6,
          "yref": "y"
         },
         {
          "layer": "below",
          "line": {
           "color": "white"
          },
          "type": "line",
          "x0": 2016,
          "x1": 2019,
          "xref": "x",
          "y0": 7,
          "y1": 7,
          "yref": "y"
         },
         {
          "layer": "below",
          "line": {
           "color": "white"
          },
          "type": "line",
          "x0": 2016,
          "x1": 2019,
          "xref": "x",
          "y0": 8,
          "y1": 8,
          "yref": "y"
         },
         {
          "layer": "below",
          "line": {
           "color": "white"
          },
          "type": "line",
          "x0": 2017,
          "x1": 2018,
          "xref": "x",
          "y0": 9,
          "y1": 9,
          "yref": "y"
         },
         {
          "layer": "below",
          "line": {
           "color": "white"
          },
          "type": "line",
          "x0": 2018,
          "x1": 2020,
          "xref": "x",
          "y0": 10,
          "y1": 10,
          "yref": "y"
         }
        ],
        "template": {
         "data": {
          "bar": [
           {
            "error_x": {
             "color": "#2a3f5f"
            },
            "error_y": {
             "color": "#2a3f5f"
            },
            "marker": {
             "line": {
              "color": "#E5ECF6",
              "width": 0.5
             },
             "pattern": {
              "fillmode": "overlay",
              "size": 10,
              "solidity": 0.2
             }
            },
            "type": "bar"
           }
          ],
          "barpolar": [
           {
            "marker": {
             "line": {
              "color": "#E5ECF6",
              "width": 0.5
             },
             "pattern": {
              "fillmode": "overlay",
              "size": 10,
              "solidity": 0.2
             }
            },
            "type": "barpolar"
           }
          ],
          "carpet": [
           {
            "aaxis": {
             "endlinecolor": "#2a3f5f",
             "gridcolor": "white",
             "linecolor": "white",
             "minorgridcolor": "white",
             "startlinecolor": "#2a3f5f"
            },
            "baxis": {
             "endlinecolor": "#2a3f5f",
             "gridcolor": "white",
             "linecolor": "white",
             "minorgridcolor": "white",
             "startlinecolor": "#2a3f5f"
            },
            "type": "carpet"
           }
          ],
          "choropleth": [
           {
            "colorbar": {
             "outlinewidth": 0,
             "ticks": ""
            },
            "type": "choropleth"
           }
          ],
          "contour": [
           {
            "colorbar": {
             "outlinewidth": 0,
             "ticks": ""
            },
            "colorscale": [
             [
              0,
              "#0d0887"
             ],
             [
              0.1111111111111111,
              "#46039f"
             ],
             [
              0.2222222222222222,
              "#7201a8"
             ],
             [
              0.3333333333333333,
              "#9c179e"
             ],
             [
              0.4444444444444444,
              "#bd3786"
             ],
             [
              0.5555555555555556,
              "#d8576b"
             ],
             [
              0.6666666666666666,
              "#ed7953"
             ],
             [
              0.7777777777777778,
              "#fb9f3a"
             ],
             [
              0.8888888888888888,
              "#fdca26"
             ],
             [
              1,
              "#f0f921"
             ]
            ],
            "type": "contour"
           }
          ],
          "contourcarpet": [
           {
            "colorbar": {
             "outlinewidth": 0,
             "ticks": ""
            },
            "type": "contourcarpet"
           }
          ],
          "heatmap": [
           {
            "colorbar": {
             "outlinewidth": 0,
             "ticks": ""
            },
            "colorscale": [
             [
              0,
              "#0d0887"
             ],
             [
              0.1111111111111111,
              "#46039f"
             ],
             [
              0.2222222222222222,
              "#7201a8"
             ],
             [
              0.3333333333333333,
              "#9c179e"
             ],
             [
              0.4444444444444444,
              "#bd3786"
             ],
             [
              0.5555555555555556,
              "#d8576b"
             ],
             [
              0.6666666666666666,
              "#ed7953"
             ],
             [
              0.7777777777777778,
              "#fb9f3a"
             ],
             [
              0.8888888888888888,
              "#fdca26"
             ],
             [
              1,
              "#f0f921"
             ]
            ],
            "type": "heatmap"
           }
          ],
          "heatmapgl": [
           {
            "colorbar": {
             "outlinewidth": 0,
             "ticks": ""
            },
            "colorscale": [
             [
              0,
              "#0d0887"
             ],
             [
              0.1111111111111111,
              "#46039f"
             ],
             [
              0.2222222222222222,
              "#7201a8"
             ],
             [
              0.3333333333333333,
              "#9c179e"
             ],
             [
              0.4444444444444444,
              "#bd3786"
             ],
             [
              0.5555555555555556,
              "#d8576b"
             ],
             [
              0.6666666666666666,
              "#ed7953"
             ],
             [
              0.7777777777777778,
              "#fb9f3a"
             ],
             [
              0.8888888888888888,
              "#fdca26"
             ],
             [
              1,
              "#f0f921"
             ]
            ],
            "type": "heatmapgl"
           }
          ],
          "histogram": [
           {
            "marker": {
             "pattern": {
              "fillmode": "overlay",
              "size": 10,
              "solidity": 0.2
             }
            },
            "type": "histogram"
           }
          ],
          "histogram2d": [
           {
            "colorbar": {
             "outlinewidth": 0,
             "ticks": ""
            },
            "colorscale": [
             [
              0,
              "#0d0887"
             ],
             [
              0.1111111111111111,
              "#46039f"
             ],
             [
              0.2222222222222222,
              "#7201a8"
             ],
             [
              0.3333333333333333,
              "#9c179e"
             ],
             [
              0.4444444444444444,
              "#bd3786"
             ],
             [
              0.5555555555555556,
              "#d8576b"
             ],
             [
              0.6666666666666666,
              "#ed7953"
             ],
             [
              0.7777777777777778,
              "#fb9f3a"
             ],
             [
              0.8888888888888888,
              "#fdca26"
             ],
             [
              1,
              "#f0f921"
             ]
            ],
            "type": "histogram2d"
           }
          ],
          "histogram2dcontour": [
           {
            "colorbar": {
             "outlinewidth": 0,
             "ticks": ""
            },
            "colorscale": [
             [
              0,
              "#0d0887"
             ],
             [
              0.1111111111111111,
              "#46039f"
             ],
             [
              0.2222222222222222,
              "#7201a8"
             ],
             [
              0.3333333333333333,
              "#9c179e"
             ],
             [
              0.4444444444444444,
              "#bd3786"
             ],
             [
              0.5555555555555556,
              "#d8576b"
             ],
             [
              0.6666666666666666,
              "#ed7953"
             ],
             [
              0.7777777777777778,
              "#fb9f3a"
             ],
             [
              0.8888888888888888,
              "#fdca26"
             ],
             [
              1,
              "#f0f921"
             ]
            ],
            "type": "histogram2dcontour"
           }
          ],
          "mesh3d": [
           {
            "colorbar": {
             "outlinewidth": 0,
             "ticks": ""
            },
            "type": "mesh3d"
           }
          ],
          "parcoords": [
           {
            "line": {
             "colorbar": {
              "outlinewidth": 0,
              "ticks": ""
             }
            },
            "type": "parcoords"
           }
          ],
          "pie": [
           {
            "automargin": true,
            "type": "pie"
           }
          ],
          "scatter": [
           {
            "marker": {
             "colorbar": {
              "outlinewidth": 0,
              "ticks": ""
             }
            },
            "type": "scatter"
           }
          ],
          "scatter3d": [
           {
            "line": {
             "colorbar": {
              "outlinewidth": 0,
              "ticks": ""
             }
            },
            "marker": {
             "colorbar": {
              "outlinewidth": 0,
              "ticks": ""
             }
            },
            "type": "scatter3d"
           }
          ],
          "scattercarpet": [
           {
            "marker": {
             "colorbar": {
              "outlinewidth": 0,
              "ticks": ""
             }
            },
            "type": "scattercarpet"
           }
          ],
          "scattergeo": [
           {
            "marker": {
             "colorbar": {
              "outlinewidth": 0,
              "ticks": ""
             }
            },
            "type": "scattergeo"
           }
          ],
          "scattergl": [
           {
            "marker": {
             "colorbar": {
              "outlinewidth": 0,
              "ticks": ""
             }
            },
            "type": "scattergl"
           }
          ],
          "scattermapbox": [
           {
            "marker": {
             "colorbar": {
              "outlinewidth": 0,
              "ticks": ""
             }
            },
            "type": "scattermapbox"
           }
          ],
          "scatterpolar": [
           {
            "marker": {
             "colorbar": {
              "outlinewidth": 0,
              "ticks": ""
             }
            },
            "type": "scatterpolar"
           }
          ],
          "scatterpolargl": [
           {
            "marker": {
             "colorbar": {
              "outlinewidth": 0,
              "ticks": ""
             }
            },
            "type": "scatterpolargl"
           }
          ],
          "scatterternary": [
           {
            "marker": {
             "colorbar": {
              "outlinewidth": 0,
              "ticks": ""
             }
            },
            "type": "scatterternary"
           }
          ],
          "surface": [
           {
            "colorbar": {
             "outlinewidth": 0,
             "ticks": ""
            },
            "colorscale": [
             [
              0,
              "#0d0887"
             ],
             [
              0.1111111111111111,
              "#46039f"
             ],
             [
              0.2222222222222222,
              "#7201a8"
             ],
             [
              0.3333333333333333,
              "#9c179e"
             ],
             [
              0.4444444444444444,
              "#bd3786"
             ],
             [
              0.5555555555555556,
              "#d8576b"
             ],
             [
              0.6666666666666666,
              "#ed7953"
             ],
             [
              0.7777777777777778,
              "#fb9f3a"
             ],
             [
              0.8888888888888888,
              "#fdca26"
             ],
             [
              1,
              "#f0f921"
             ]
            ],
            "type": "surface"
           }
          ],
          "table": [
           {
            "cells": {
             "fill": {
              "color": "#EBF0F8"
             },
             "line": {
              "color": "white"
             }
            },
            "header": {
             "fill": {
              "color": "#C8D4E3"
             },
             "line": {
              "color": "white"
             }
            },
            "type": "table"
           }
          ]
         },
         "layout": {
          "annotationdefaults": {
           "arrowcolor": "#2a3f5f",
           "arrowhead": 0,
           "arrowwidth": 1
          },
          "autotypenumbers": "strict",
          "coloraxis": {
           "colorbar": {
            "outlinewidth": 0,
            "ticks": ""
           }
          },
          "colorscale": {
           "diverging": [
            [
             0,
             "#8e0152"
            ],
            [
             0.1,
             "#c51b7d"
            ],
            [
             0.2,
             "#de77ae"
            ],
            [
             0.3,
             "#f1b6da"
            ],
            [
             0.4,
             "#fde0ef"
            ],
            [
             0.5,
             "#f7f7f7"
            ],
            [
             0.6,
             "#e6f5d0"
            ],
            [
             0.7,
             "#b8e186"
            ],
            [
             0.8,
             "#7fbc41"
            ],
            [
             0.9,
             "#4d9221"
            ],
            [
             1,
             "#276419"
            ]
           ],
           "sequential": [
            [
             0,
             "#0d0887"
            ],
            [
             0.1111111111111111,
             "#46039f"
            ],
            [
             0.2222222222222222,
             "#7201a8"
            ],
            [
             0.3333333333333333,
             "#9c179e"
            ],
            [
             0.4444444444444444,
             "#bd3786"
            ],
            [
             0.5555555555555556,
             "#d8576b"
            ],
            [
             0.6666666666666666,
             "#ed7953"
            ],
            [
             0.7777777777777778,
             "#fb9f3a"
            ],
            [
             0.8888888888888888,
             "#fdca26"
            ],
            [
             1,
             "#f0f921"
            ]
           ],
           "sequentialminus": [
            [
             0,
             "#0d0887"
            ],
            [
             0.1111111111111111,
             "#46039f"
            ],
            [
             0.2222222222222222,
             "#7201a8"
            ],
            [
             0.3333333333333333,
             "#9c179e"
            ],
            [
             0.4444444444444444,
             "#bd3786"
            ],
            [
             0.5555555555555556,
             "#d8576b"
            ],
            [
             0.6666666666666666,
             "#ed7953"
            ],
            [
             0.7777777777777778,
             "#fb9f3a"
            ],
            [
             0.8888888888888888,
             "#fdca26"
            ],
            [
             1,
             "#f0f921"
            ]
           ]
          },
          "colorway": [
           "#636efa",
           "#EF553B",
           "#00cc96",
           "#ab63fa",
           "#FFA15A",
           "#19d3f3",
           "#FF6692",
           "#B6E880",
           "#FF97FF",
           "#FECB52"
          ],
          "font": {
           "color": "#2a3f5f"
          },
          "geo": {
           "bgcolor": "white",
           "lakecolor": "white",
           "landcolor": "#E5ECF6",
           "showlakes": true,
           "showland": true,
           "subunitcolor": "white"
          },
          "hoverlabel": {
           "align": "left"
          },
          "hovermode": "closest",
          "mapbox": {
           "style": "light"
          },
          "paper_bgcolor": "white",
          "plot_bgcolor": "#E5ECF6",
          "polar": {
           "angularaxis": {
            "gridcolor": "white",
            "linecolor": "white",
            "ticks": ""
           },
           "bgcolor": "#E5ECF6",
           "radialaxis": {
            "gridcolor": "white",
            "linecolor": "white",
            "ticks": ""
           }
          },
          "scene": {
           "xaxis": {
            "backgroundcolor": "#E5ECF6",
            "gridcolor": "white",
            "gridwidth": 2,
            "linecolor": "white",
            "showbackground": true,
            "ticks": "",
            "zerolinecolor": "white"
           },
           "yaxis": {
            "backgroundcolor": "#E5ECF6",
            "gridcolor": "white",
            "gridwidth": 2,
            "linecolor": "white",
            "showbackground": true,
            "ticks": "",
            "zerolinecolor": "white"
           },
           "zaxis": {
            "backgroundcolor": "#E5ECF6",
            "gridcolor": "white",
            "gridwidth": 2,
            "linecolor": "white",
            "showbackground": true,
            "ticks": "",
            "zerolinecolor": "white"
           }
          },
          "shapedefaults": {
           "line": {
            "color": "#2a3f5f"
           }
          },
          "ternary": {
           "aaxis": {
            "gridcolor": "white",
            "linecolor": "white",
            "ticks": ""
           },
           "baxis": {
            "gridcolor": "white",
            "linecolor": "white",
            "ticks": ""
           },
           "bgcolor": "#E5ECF6",
           "caxis": {
            "gridcolor": "white",
            "linecolor": "white",
            "ticks": ""
           }
          },
          "title": {
           "x": 0.05
          },
          "xaxis": {
           "automargin": true,
           "gridcolor": "white",
           "linecolor": "white",
           "ticks": "",
           "title": {
            "standoff": 15
           },
           "zerolinecolor": "white",
           "zerolinewidth": 2
          },
          "yaxis": {
           "automargin": true,
           "gridcolor": "white",
           "linecolor": "white",
           "ticks": "",
           "title": {
            "standoff": 15
           },
           "zerolinecolor": "white",
           "zerolinewidth": 2
          }
         }
        },
        "title": {
         "text": "Average Netflix movies oldness",
         "x": 0.5
        },
        "xaxis": {
         "range": [
          1999,
          2025
         ],
         "showgrid": false
        },
        "yaxis": {
         "range": [
          0,
          11
         ],
         "showgrid": false,
         "showticklabels": false
        }
       }
      }
     },
     "metadata": {},
     "output_type": "display_data"
    },
    {
     "name": "stderr",
     "output_type": "stream",
     "text": [
      "/var/folders/3g/t_1rwv_57vz466tvccx4d6gm0000gn/T/ipykernel_32588/3728205125.py:30: FutureWarning:\n",
      "\n",
      "Indexing with multiple keys (implicitly converted to a tuple of keys) will be deprecated, use a list instead.\n",
      "\n"
     ]
    },
    {
     "data": {
      "application/vnd.plotly.v1+json": {
       "config": {
        "plotlyServerURL": "https://plot.ly"
       },
       "data": [
        {
         "hoverlabel": {
          "font": {
           "color": "white",
           "family": "Arial, san serif",
           "size": 14
          }
         },
         "marker": {
          "color": "#ff547c",
          "line": {
           "width": 2
          },
          "size": 12
         },
         "mode": "markers",
         "name": "Release year",
         "textfont": {
          "color": "#212529",
          "family": "Arial, san serif",
          "size": 16
         },
         "type": "scatter",
         "x": [
          2015,
          2016,
          2016,
          2017,
          2017,
          2017,
          2017,
          2018,
          2018,
          2019
         ],
         "y": [
          1,
          2,
          3,
          4,
          5,
          6,
          7,
          8,
          9,
          10
         ]
        },
        {
         "hoverlabel": {
          "font": {
           "color": "white",
           "family": "Arial, san serif",
           "size": 14
          }
         },
         "marker": {
          "color": "#a0a3de",
          "line": {
           "width": 2
          },
          "size": 12
         },
         "mode": "markers",
         "name": "Added year",
         "textfont": {
          "color": "#212529",
          "family": "Arial, san serif",
          "size": 16
         },
         "type": "scatter",
         "x": [
          2018,
          2018,
          2019,
          2019,
          2019,
          2019,
          2019,
          2019,
          2019,
          2019
         ],
         "y": [
          1,
          2,
          3,
          4,
          5,
          6,
          7,
          8,
          9,
          10
         ]
        },
        {
         "hoverinfo": "skip",
         "mode": "text",
         "showlegend": false,
         "text": [
          "Taiwan",
          "Canada",
          "UK",
          "Australia",
          "France",
          "India",
          "USA",
          "Mexico",
          "S. Korea",
          "Spain"
         ],
         "textfont": {
          "color": "white",
          "family": "Arial, sans serif",
          "size": 12
         },
         "textposition": "top right",
         "type": "scatter",
         "x": [
          2022,
          2022,
          2022,
          2022,
          2022,
          2022,
          2022,
          2022,
          2022,
          2022
         ],
         "y": [
          1,
          2,
          3,
          4,
          5,
          6,
          7,
          8,
          9,
          10
         ]
        }
       ],
       "layout": {
        "font": {
         "color": "white",
         "family": "Arial, san serif",
         "size": 12
        },
        "hoverlabel": {
         "bordercolor": "#212529"
        },
        "margin": {
         "b": 10,
         "l": 10,
         "r": 10,
         "t": 50
        },
        "paper_bgcolor": "#212529",
        "plot_bgcolor": "rgba(0, 0, 0, 0)",
        "shapes": [
         {
          "layer": "below",
          "line": {
           "color": "white"
          },
          "type": "line",
          "x0": 2015,
          "x1": 2018,
          "xref": "x",
          "y0": 1,
          "y1": 1,
          "yref": "y"
         },
         {
          "layer": "below",
          "line": {
           "color": "white"
          },
          "type": "line",
          "x0": 2016,
          "x1": 2018,
          "xref": "x",
          "y0": 2,
          "y1": 2,
          "yref": "y"
         },
         {
          "layer": "below",
          "line": {
           "color": "white"
          },
          "type": "line",
          "x0": 2016,
          "x1": 2019,
          "xref": "x",
          "y0": 3,
          "y1": 3,
          "yref": "y"
         },
         {
          "layer": "below",
          "line": {
           "color": "white"
          },
          "type": "line",
          "x0": 2017,
          "x1": 2019,
          "xref": "x",
          "y0": 4,
          "y1": 4,
          "yref": "y"
         },
         {
          "layer": "below",
          "line": {
           "color": "white"
          },
          "type": "line",
          "x0": 2017,
          "x1": 2019,
          "xref": "x",
          "y0": 5,
          "y1": 5,
          "yref": "y"
         },
         {
          "layer": "below",
          "line": {
           "color": "white"
          },
          "type": "line",
          "x0": 2017,
          "x1": 2019,
          "xref": "x",
          "y0": 6,
          "y1": 6,
          "yref": "y"
         },
         {
          "layer": "below",
          "line": {
           "color": "white"
          },
          "type": "line",
          "x0": 2017,
          "x1": 2019,
          "xref": "x",
          "y0": 7,
          "y1": 7,
          "yref": "y"
         },
         {
          "layer": "below",
          "line": {
           "color": "white"
          },
          "type": "line",
          "x0": 2018,
          "x1": 2019,
          "xref": "x",
          "y0": 8,
          "y1": 8,
          "yref": "y"
         },
         {
          "layer": "below",
          "line": {
           "color": "white"
          },
          "type": "line",
          "x0": 2018,
          "x1": 2019,
          "xref": "x",
          "y0": 9,
          "y1": 9,
          "yref": "y"
         },
         {
          "layer": "below",
          "line": {
           "color": "white"
          },
          "type": "line",
          "x0": 2019,
          "x1": 2019,
          "xref": "x",
          "y0": 10,
          "y1": 10,
          "yref": "y"
         }
        ],
        "template": {
         "data": {
          "bar": [
           {
            "error_x": {
             "color": "#2a3f5f"
            },
            "error_y": {
             "color": "#2a3f5f"
            },
            "marker": {
             "line": {
              "color": "#E5ECF6",
              "width": 0.5
             },
             "pattern": {
              "fillmode": "overlay",
              "size": 10,
              "solidity": 0.2
             }
            },
            "type": "bar"
           }
          ],
          "barpolar": [
           {
            "marker": {
             "line": {
              "color": "#E5ECF6",
              "width": 0.5
             },
             "pattern": {
              "fillmode": "overlay",
              "size": 10,
              "solidity": 0.2
             }
            },
            "type": "barpolar"
           }
          ],
          "carpet": [
           {
            "aaxis": {
             "endlinecolor": "#2a3f5f",
             "gridcolor": "white",
             "linecolor": "white",
             "minorgridcolor": "white",
             "startlinecolor": "#2a3f5f"
            },
            "baxis": {
             "endlinecolor": "#2a3f5f",
             "gridcolor": "white",
             "linecolor": "white",
             "minorgridcolor": "white",
             "startlinecolor": "#2a3f5f"
            },
            "type": "carpet"
           }
          ],
          "choropleth": [
           {
            "colorbar": {
             "outlinewidth": 0,
             "ticks": ""
            },
            "type": "choropleth"
           }
          ],
          "contour": [
           {
            "colorbar": {
             "outlinewidth": 0,
             "ticks": ""
            },
            "colorscale": [
             [
              0,
              "#0d0887"
             ],
             [
              0.1111111111111111,
              "#46039f"
             ],
             [
              0.2222222222222222,
              "#7201a8"
             ],
             [
              0.3333333333333333,
              "#9c179e"
             ],
             [
              0.4444444444444444,
              "#bd3786"
             ],
             [
              0.5555555555555556,
              "#d8576b"
             ],
             [
              0.6666666666666666,
              "#ed7953"
             ],
             [
              0.7777777777777778,
              "#fb9f3a"
             ],
             [
              0.8888888888888888,
              "#fdca26"
             ],
             [
              1,
              "#f0f921"
             ]
            ],
            "type": "contour"
           }
          ],
          "contourcarpet": [
           {
            "colorbar": {
             "outlinewidth": 0,
             "ticks": ""
            },
            "type": "contourcarpet"
           }
          ],
          "heatmap": [
           {
            "colorbar": {
             "outlinewidth": 0,
             "ticks": ""
            },
            "colorscale": [
             [
              0,
              "#0d0887"
             ],
             [
              0.1111111111111111,
              "#46039f"
             ],
             [
              0.2222222222222222,
              "#7201a8"
             ],
             [
              0.3333333333333333,
              "#9c179e"
             ],
             [
              0.4444444444444444,
              "#bd3786"
             ],
             [
              0.5555555555555556,
              "#d8576b"
             ],
             [
              0.6666666666666666,
              "#ed7953"
             ],
             [
              0.7777777777777778,
              "#fb9f3a"
             ],
             [
              0.8888888888888888,
              "#fdca26"
             ],
             [
              1,
              "#f0f921"
             ]
            ],
            "type": "heatmap"
           }
          ],
          "heatmapgl": [
           {
            "colorbar": {
             "outlinewidth": 0,
             "ticks": ""
            },
            "colorscale": [
             [
              0,
              "#0d0887"
             ],
             [
              0.1111111111111111,
              "#46039f"
             ],
             [
              0.2222222222222222,
              "#7201a8"
             ],
             [
              0.3333333333333333,
              "#9c179e"
             ],
             [
              0.4444444444444444,
              "#bd3786"
             ],
             [
              0.5555555555555556,
              "#d8576b"
             ],
             [
              0.6666666666666666,
              "#ed7953"
             ],
             [
              0.7777777777777778,
              "#fb9f3a"
             ],
             [
              0.8888888888888888,
              "#fdca26"
             ],
             [
              1,
              "#f0f921"
             ]
            ],
            "type": "heatmapgl"
           }
          ],
          "histogram": [
           {
            "marker": {
             "pattern": {
              "fillmode": "overlay",
              "size": 10,
              "solidity": 0.2
             }
            },
            "type": "histogram"
           }
          ],
          "histogram2d": [
           {
            "colorbar": {
             "outlinewidth": 0,
             "ticks": ""
            },
            "colorscale": [
             [
              0,
              "#0d0887"
             ],
             [
              0.1111111111111111,
              "#46039f"
             ],
             [
              0.2222222222222222,
              "#7201a8"
             ],
             [
              0.3333333333333333,
              "#9c179e"
             ],
             [
              0.4444444444444444,
              "#bd3786"
             ],
             [
              0.5555555555555556,
              "#d8576b"
             ],
             [
              0.6666666666666666,
              "#ed7953"
             ],
             [
              0.7777777777777778,
              "#fb9f3a"
             ],
             [
              0.8888888888888888,
              "#fdca26"
             ],
             [
              1,
              "#f0f921"
             ]
            ],
            "type": "histogram2d"
           }
          ],
          "histogram2dcontour": [
           {
            "colorbar": {
             "outlinewidth": 0,
             "ticks": ""
            },
            "colorscale": [
             [
              0,
              "#0d0887"
             ],
             [
              0.1111111111111111,
              "#46039f"
             ],
             [
              0.2222222222222222,
              "#7201a8"
             ],
             [
              0.3333333333333333,
              "#9c179e"
             ],
             [
              0.4444444444444444,
              "#bd3786"
             ],
             [
              0.5555555555555556,
              "#d8576b"
             ],
             [
              0.6666666666666666,
              "#ed7953"
             ],
             [
              0.7777777777777778,
              "#fb9f3a"
             ],
             [
              0.8888888888888888,
              "#fdca26"
             ],
             [
              1,
              "#f0f921"
             ]
            ],
            "type": "histogram2dcontour"
           }
          ],
          "mesh3d": [
           {
            "colorbar": {
             "outlinewidth": 0,
             "ticks": ""
            },
            "type": "mesh3d"
           }
          ],
          "parcoords": [
           {
            "line": {
             "colorbar": {
              "outlinewidth": 0,
              "ticks": ""
             }
            },
            "type": "parcoords"
           }
          ],
          "pie": [
           {
            "automargin": true,
            "type": "pie"
           }
          ],
          "scatter": [
           {
            "marker": {
             "colorbar": {
              "outlinewidth": 0,
              "ticks": ""
             }
            },
            "type": "scatter"
           }
          ],
          "scatter3d": [
           {
            "line": {
             "colorbar": {
              "outlinewidth": 0,
              "ticks": ""
             }
            },
            "marker": {
             "colorbar": {
              "outlinewidth": 0,
              "ticks": ""
             }
            },
            "type": "scatter3d"
           }
          ],
          "scattercarpet": [
           {
            "marker": {
             "colorbar": {
              "outlinewidth": 0,
              "ticks": ""
             }
            },
            "type": "scattercarpet"
           }
          ],
          "scattergeo": [
           {
            "marker": {
             "colorbar": {
              "outlinewidth": 0,
              "ticks": ""
             }
            },
            "type": "scattergeo"
           }
          ],
          "scattergl": [
           {
            "marker": {
             "colorbar": {
              "outlinewidth": 0,
              "ticks": ""
             }
            },
            "type": "scattergl"
           }
          ],
          "scattermapbox": [
           {
            "marker": {
             "colorbar": {
              "outlinewidth": 0,
              "ticks": ""
             }
            },
            "type": "scattermapbox"
           }
          ],
          "scatterpolar": [
           {
            "marker": {
             "colorbar": {
              "outlinewidth": 0,
              "ticks": ""
             }
            },
            "type": "scatterpolar"
           }
          ],
          "scatterpolargl": [
           {
            "marker": {
             "colorbar": {
              "outlinewidth": 0,
              "ticks": ""
             }
            },
            "type": "scatterpolargl"
           }
          ],
          "scatterternary": [
           {
            "marker": {
             "colorbar": {
              "outlinewidth": 0,
              "ticks": ""
             }
            },
            "type": "scatterternary"
           }
          ],
          "surface": [
           {
            "colorbar": {
             "outlinewidth": 0,
             "ticks": ""
            },
            "colorscale": [
             [
              0,
              "#0d0887"
             ],
             [
              0.1111111111111111,
              "#46039f"
             ],
             [
              0.2222222222222222,
              "#7201a8"
             ],
             [
              0.3333333333333333,
              "#9c179e"
             ],
             [
              0.4444444444444444,
              "#bd3786"
             ],
             [
              0.5555555555555556,
              "#d8576b"
             ],
             [
              0.6666666666666666,
              "#ed7953"
             ],
             [
              0.7777777777777778,
              "#fb9f3a"
             ],
             [
              0.8888888888888888,
              "#fdca26"
             ],
             [
              1,
              "#f0f921"
             ]
            ],
            "type": "surface"
           }
          ],
          "table": [
           {
            "cells": {
             "fill": {
              "color": "#EBF0F8"
             },
             "line": {
              "color": "white"
             }
            },
            "header": {
             "fill": {
              "color": "#C8D4E3"
             },
             "line": {
              "color": "white"
             }
            },
            "type": "table"
           }
          ]
         },
         "layout": {
          "annotationdefaults": {
           "arrowcolor": "#2a3f5f",
           "arrowhead": 0,
           "arrowwidth": 1
          },
          "autotypenumbers": "strict",
          "coloraxis": {
           "colorbar": {
            "outlinewidth": 0,
            "ticks": ""
           }
          },
          "colorscale": {
           "diverging": [
            [
             0,
             "#8e0152"
            ],
            [
             0.1,
             "#c51b7d"
            ],
            [
             0.2,
             "#de77ae"
            ],
            [
             0.3,
             "#f1b6da"
            ],
            [
             0.4,
             "#fde0ef"
            ],
            [
             0.5,
             "#f7f7f7"
            ],
            [
             0.6,
             "#e6f5d0"
            ],
            [
             0.7,
             "#b8e186"
            ],
            [
             0.8,
             "#7fbc41"
            ],
            [
             0.9,
             "#4d9221"
            ],
            [
             1,
             "#276419"
            ]
           ],
           "sequential": [
            [
             0,
             "#0d0887"
            ],
            [
             0.1111111111111111,
             "#46039f"
            ],
            [
             0.2222222222222222,
             "#7201a8"
            ],
            [
             0.3333333333333333,
             "#9c179e"
            ],
            [
             0.4444444444444444,
             "#bd3786"
            ],
            [
             0.5555555555555556,
             "#d8576b"
            ],
            [
             0.6666666666666666,
             "#ed7953"
            ],
            [
             0.7777777777777778,
             "#fb9f3a"
            ],
            [
             0.8888888888888888,
             "#fdca26"
            ],
            [
             1,
             "#f0f921"
            ]
           ],
           "sequentialminus": [
            [
             0,
             "#0d0887"
            ],
            [
             0.1111111111111111,
             "#46039f"
            ],
            [
             0.2222222222222222,
             "#7201a8"
            ],
            [
             0.3333333333333333,
             "#9c179e"
            ],
            [
             0.4444444444444444,
             "#bd3786"
            ],
            [
             0.5555555555555556,
             "#d8576b"
            ],
            [
             0.6666666666666666,
             "#ed7953"
            ],
            [
             0.7777777777777778,
             "#fb9f3a"
            ],
            [
             0.8888888888888888,
             "#fdca26"
            ],
            [
             1,
             "#f0f921"
            ]
           ]
          },
          "colorway": [
           "#636efa",
           "#EF553B",
           "#00cc96",
           "#ab63fa",
           "#FFA15A",
           "#19d3f3",
           "#FF6692",
           "#B6E880",
           "#FF97FF",
           "#FECB52"
          ],
          "font": {
           "color": "#2a3f5f"
          },
          "geo": {
           "bgcolor": "white",
           "lakecolor": "white",
           "landcolor": "#E5ECF6",
           "showlakes": true,
           "showland": true,
           "subunitcolor": "white"
          },
          "hoverlabel": {
           "align": "left"
          },
          "hovermode": "closest",
          "mapbox": {
           "style": "light"
          },
          "paper_bgcolor": "white",
          "plot_bgcolor": "#E5ECF6",
          "polar": {
           "angularaxis": {
            "gridcolor": "white",
            "linecolor": "white",
            "ticks": ""
           },
           "bgcolor": "#E5ECF6",
           "radialaxis": {
            "gridcolor": "white",
            "linecolor": "white",
            "ticks": ""
           }
          },
          "scene": {
           "xaxis": {
            "backgroundcolor": "#E5ECF6",
            "gridcolor": "white",
            "gridwidth": 2,
            "linecolor": "white",
            "showbackground": true,
            "ticks": "",
            "zerolinecolor": "white"
           },
           "yaxis": {
            "backgroundcolor": "#E5ECF6",
            "gridcolor": "white",
            "gridwidth": 2,
            "linecolor": "white",
            "showbackground": true,
            "ticks": "",
            "zerolinecolor": "white"
           },
           "zaxis": {
            "backgroundcolor": "#E5ECF6",
            "gridcolor": "white",
            "gridwidth": 2,
            "linecolor": "white",
            "showbackground": true,
            "ticks": "",
            "zerolinecolor": "white"
           }
          },
          "shapedefaults": {
           "line": {
            "color": "#2a3f5f"
           }
          },
          "ternary": {
           "aaxis": {
            "gridcolor": "white",
            "linecolor": "white",
            "ticks": ""
           },
           "baxis": {
            "gridcolor": "white",
            "linecolor": "white",
            "ticks": ""
           },
           "bgcolor": "#E5ECF6",
           "caxis": {
            "gridcolor": "white",
            "linecolor": "white",
            "ticks": ""
           }
          },
          "title": {
           "x": 0.05
          },
          "xaxis": {
           "automargin": true,
           "gridcolor": "white",
           "linecolor": "white",
           "ticks": "",
           "title": {
            "standoff": 15
           },
           "zerolinecolor": "white",
           "zerolinewidth": 2
          },
          "yaxis": {
           "automargin": true,
           "gridcolor": "white",
           "linecolor": "white",
           "ticks": "",
           "title": {
            "standoff": 15
           },
           "zerolinecolor": "white",
           "zerolinewidth": 2
          }
         }
        },
        "title": {
         "text": "Average Netflix series oldness",
         "x": 0.5
        },
        "xaxis": {
         "range": [
          2012,
          2025
         ],
         "showgrid": false
        },
        "yaxis": {
         "range": [
          0,
          11
         ],
         "showgrid": false,
         "showticklabels": false
        }
       }
      }
     },
     "metadata": {},
     "output_type": "display_data"
    },
    {
     "name": "stderr",
     "output_type": "stream",
     "text": [
      "/var/folders/3g/t_1rwv_57vz466tvccx4d6gm0000gn/T/ipykernel_32588/3728205125.py:30: FutureWarning:\n",
      "\n",
      "Indexing with multiple keys (implicitly converted to a tuple of keys) will be deprecated, use a list instead.\n",
      "\n"
     ]
    },
    {
     "data": {
      "application/vnd.plotly.v1+json": {
       "config": {
        "plotlyServerURL": "https://plot.ly"
       },
       "data": [
        {
         "hoverlabel": {
          "font": {
           "color": "white",
           "family": "Arial, san serif",
           "size": 14
          }
         },
         "marker": {
          "color": "#ff547c",
          "line": {
           "width": 2
          },
          "size": 12
         },
         "mode": "markers",
         "name": "Release year",
         "textfont": {
          "color": "#212529",
          "family": "Arial, san serif",
          "size": 16
         },
         "type": "scatter",
         "x": [
          2012,
          2014,
          2014,
          2014,
          2014,
          2015,
          2015,
          2016,
          2016,
          2017
         ],
         "y": [
          1,
          2,
          3,
          4,
          5,
          6,
          7,
          8,
          9,
          10
         ]
        },
        {
         "hoverlabel": {
          "font": {
           "color": "white",
           "family": "Arial, san serif",
           "size": 14
          }
         },
         "marker": {
          "color": "#a0a3de",
          "line": {
           "width": 2
          },
          "size": 12
         },
         "mode": "markers",
         "name": "Added year",
         "textfont": {
          "color": "#212529",
          "family": "Arial, san serif",
          "size": 16
         },
         "type": "scatter",
         "x": [
          2013,
          2016,
          2015,
          2014,
          2015,
          2015,
          2015,
          2016,
          2017,
          2018
         ],
         "y": [
          1,
          2,
          3,
          4,
          5,
          6,
          7,
          8,
          9,
          10
         ]
        },
        {
         "hoverinfo": "skip",
         "mode": "text",
         "showlegend": false,
         "text": [
          "France",
          "Australia",
          "Canada",
          "Hong Kong",
          "USA",
          "Germany",
          "UK",
          "India",
          "Italy",
          "China"
         ],
         "textfont": {
          "color": "white",
          "family": "Arial, sans serif",
          "size": 12
         },
         "textposition": "top right",
         "type": "scatter",
         "x": [
          2022,
          2022,
          2022,
          2022,
          2022,
          2022,
          2022,
          2022,
          2022,
          2022
         ],
         "y": [
          1,
          2,
          3,
          4,
          5,
          6,
          7,
          8,
          9,
          10
         ]
        }
       ],
       "layout": {
        "font": {
         "color": "white",
         "family": "Arial, san serif",
         "size": 12
        },
        "hoverlabel": {
         "bordercolor": "#212529"
        },
        "margin": {
         "b": 10,
         "l": 10,
         "r": 10,
         "t": 50
        },
        "paper_bgcolor": "#212529",
        "plot_bgcolor": "rgba(0, 0, 0, 0)",
        "shapes": [
         {
          "layer": "below",
          "line": {
           "color": "white"
          },
          "type": "line",
          "x0": 2012,
          "x1": 2013,
          "xref": "x",
          "y0": 1,
          "y1": 1,
          "yref": "y"
         },
         {
          "layer": "below",
          "line": {
           "color": "white"
          },
          "type": "line",
          "x0": 2014,
          "x1": 2016,
          "xref": "x",
          "y0": 2,
          "y1": 2,
          "yref": "y"
         },
         {
          "layer": "below",
          "line": {
           "color": "white"
          },
          "type": "line",
          "x0": 2014,
          "x1": 2015,
          "xref": "x",
          "y0": 3,
          "y1": 3,
          "yref": "y"
         },
         {
          "layer": "below",
          "line": {
           "color": "white"
          },
          "type": "line",
          "x0": 2014,
          "x1": 2014,
          "xref": "x",
          "y0": 4,
          "y1": 4,
          "yref": "y"
         },
         {
          "layer": "below",
          "line": {
           "color": "white"
          },
          "type": "line",
          "x0": 2014,
          "x1": 2015,
          "xref": "x",
          "y0": 5,
          "y1": 5,
          "yref": "y"
         },
         {
          "layer": "below",
          "line": {
           "color": "white"
          },
          "type": "line",
          "x0": 2015,
          "x1": 2015,
          "xref": "x",
          "y0": 6,
          "y1": 6,
          "yref": "y"
         },
         {
          "layer": "below",
          "line": {
           "color": "white"
          },
          "type": "line",
          "x0": 2015,
          "x1": 2015,
          "xref": "x",
          "y0": 7,
          "y1": 7,
          "yref": "y"
         },
         {
          "layer": "below",
          "line": {
           "color": "white"
          },
          "type": "line",
          "x0": 2016,
          "x1": 2016,
          "xref": "x",
          "y0": 8,
          "y1": 8,
          "yref": "y"
         },
         {
          "layer": "below",
          "line": {
           "color": "white"
          },
          "type": "line",
          "x0": 2016,
          "x1": 2017,
          "xref": "x",
          "y0": 9,
          "y1": 9,
          "yref": "y"
         },
         {
          "layer": "below",
          "line": {
           "color": "white"
          },
          "type": "line",
          "x0": 2017,
          "x1": 2018,
          "xref": "x",
          "y0": 10,
          "y1": 10,
          "yref": "y"
         }
        ],
        "template": {
         "data": {
          "bar": [
           {
            "error_x": {
             "color": "#2a3f5f"
            },
            "error_y": {
             "color": "#2a3f5f"
            },
            "marker": {
             "line": {
              "color": "#E5ECF6",
              "width": 0.5
             },
             "pattern": {
              "fillmode": "overlay",
              "size": 10,
              "solidity": 0.2
             }
            },
            "type": "bar"
           }
          ],
          "barpolar": [
           {
            "marker": {
             "line": {
              "color": "#E5ECF6",
              "width": 0.5
             },
             "pattern": {
              "fillmode": "overlay",
              "size": 10,
              "solidity": 0.2
             }
            },
            "type": "barpolar"
           }
          ],
          "carpet": [
           {
            "aaxis": {
             "endlinecolor": "#2a3f5f",
             "gridcolor": "white",
             "linecolor": "white",
             "minorgridcolor": "white",
             "startlinecolor": "#2a3f5f"
            },
            "baxis": {
             "endlinecolor": "#2a3f5f",
             "gridcolor": "white",
             "linecolor": "white",
             "minorgridcolor": "white",
             "startlinecolor": "#2a3f5f"
            },
            "type": "carpet"
           }
          ],
          "choropleth": [
           {
            "colorbar": {
             "outlinewidth": 0,
             "ticks": ""
            },
            "type": "choropleth"
           }
          ],
          "contour": [
           {
            "colorbar": {
             "outlinewidth": 0,
             "ticks": ""
            },
            "colorscale": [
             [
              0,
              "#0d0887"
             ],
             [
              0.1111111111111111,
              "#46039f"
             ],
             [
              0.2222222222222222,
              "#7201a8"
             ],
             [
              0.3333333333333333,
              "#9c179e"
             ],
             [
              0.4444444444444444,
              "#bd3786"
             ],
             [
              0.5555555555555556,
              "#d8576b"
             ],
             [
              0.6666666666666666,
              "#ed7953"
             ],
             [
              0.7777777777777778,
              "#fb9f3a"
             ],
             [
              0.8888888888888888,
              "#fdca26"
             ],
             [
              1,
              "#f0f921"
             ]
            ],
            "type": "contour"
           }
          ],
          "contourcarpet": [
           {
            "colorbar": {
             "outlinewidth": 0,
             "ticks": ""
            },
            "type": "contourcarpet"
           }
          ],
          "heatmap": [
           {
            "colorbar": {
             "outlinewidth": 0,
             "ticks": ""
            },
            "colorscale": [
             [
              0,
              "#0d0887"
             ],
             [
              0.1111111111111111,
              "#46039f"
             ],
             [
              0.2222222222222222,
              "#7201a8"
             ],
             [
              0.3333333333333333,
              "#9c179e"
             ],
             [
              0.4444444444444444,
              "#bd3786"
             ],
             [
              0.5555555555555556,
              "#d8576b"
             ],
             [
              0.6666666666666666,
              "#ed7953"
             ],
             [
              0.7777777777777778,
              "#fb9f3a"
             ],
             [
              0.8888888888888888,
              "#fdca26"
             ],
             [
              1,
              "#f0f921"
             ]
            ],
            "type": "heatmap"
           }
          ],
          "heatmapgl": [
           {
            "colorbar": {
             "outlinewidth": 0,
             "ticks": ""
            },
            "colorscale": [
             [
              0,
              "#0d0887"
             ],
             [
              0.1111111111111111,
              "#46039f"
             ],
             [
              0.2222222222222222,
              "#7201a8"
             ],
             [
              0.3333333333333333,
              "#9c179e"
             ],
             [
              0.4444444444444444,
              "#bd3786"
             ],
             [
              0.5555555555555556,
              "#d8576b"
             ],
             [
              0.6666666666666666,
              "#ed7953"
             ],
             [
              0.7777777777777778,
              "#fb9f3a"
             ],
             [
              0.8888888888888888,
              "#fdca26"
             ],
             [
              1,
              "#f0f921"
             ]
            ],
            "type": "heatmapgl"
           }
          ],
          "histogram": [
           {
            "marker": {
             "pattern": {
              "fillmode": "overlay",
              "size": 10,
              "solidity": 0.2
             }
            },
            "type": "histogram"
           }
          ],
          "histogram2d": [
           {
            "colorbar": {
             "outlinewidth": 0,
             "ticks": ""
            },
            "colorscale": [
             [
              0,
              "#0d0887"
             ],
             [
              0.1111111111111111,
              "#46039f"
             ],
             [
              0.2222222222222222,
              "#7201a8"
             ],
             [
              0.3333333333333333,
              "#9c179e"
             ],
             [
              0.4444444444444444,
              "#bd3786"
             ],
             [
              0.5555555555555556,
              "#d8576b"
             ],
             [
              0.6666666666666666,
              "#ed7953"
             ],
             [
              0.7777777777777778,
              "#fb9f3a"
             ],
             [
              0.8888888888888888,
              "#fdca26"
             ],
             [
              1,
              "#f0f921"
             ]
            ],
            "type": "histogram2d"
           }
          ],
          "histogram2dcontour": [
           {
            "colorbar": {
             "outlinewidth": 0,
             "ticks": ""
            },
            "colorscale": [
             [
              0,
              "#0d0887"
             ],
             [
              0.1111111111111111,
              "#46039f"
             ],
             [
              0.2222222222222222,
              "#7201a8"
             ],
             [
              0.3333333333333333,
              "#9c179e"
             ],
             [
              0.4444444444444444,
              "#bd3786"
             ],
             [
              0.5555555555555556,
              "#d8576b"
             ],
             [
              0.6666666666666666,
              "#ed7953"
             ],
             [
              0.7777777777777778,
              "#fb9f3a"
             ],
             [
              0.8888888888888888,
              "#fdca26"
             ],
             [
              1,
              "#f0f921"
             ]
            ],
            "type": "histogram2dcontour"
           }
          ],
          "mesh3d": [
           {
            "colorbar": {
             "outlinewidth": 0,
             "ticks": ""
            },
            "type": "mesh3d"
           }
          ],
          "parcoords": [
           {
            "line": {
             "colorbar": {
              "outlinewidth": 0,
              "ticks": ""
             }
            },
            "type": "parcoords"
           }
          ],
          "pie": [
           {
            "automargin": true,
            "type": "pie"
           }
          ],
          "scatter": [
           {
            "marker": {
             "colorbar": {
              "outlinewidth": 0,
              "ticks": ""
             }
            },
            "type": "scatter"
           }
          ],
          "scatter3d": [
           {
            "line": {
             "colorbar": {
              "outlinewidth": 0,
              "ticks": ""
             }
            },
            "marker": {
             "colorbar": {
              "outlinewidth": 0,
              "ticks": ""
             }
            },
            "type": "scatter3d"
           }
          ],
          "scattercarpet": [
           {
            "marker": {
             "colorbar": {
              "outlinewidth": 0,
              "ticks": ""
             }
            },
            "type": "scattercarpet"
           }
          ],
          "scattergeo": [
           {
            "marker": {
             "colorbar": {
              "outlinewidth": 0,
              "ticks": ""
             }
            },
            "type": "scattergeo"
           }
          ],
          "scattergl": [
           {
            "marker": {
             "colorbar": {
              "outlinewidth": 0,
              "ticks": ""
             }
            },
            "type": "scattergl"
           }
          ],
          "scattermapbox": [
           {
            "marker": {
             "colorbar": {
              "outlinewidth": 0,
              "ticks": ""
             }
            },
            "type": "scattermapbox"
           }
          ],
          "scatterpolar": [
           {
            "marker": {
             "colorbar": {
              "outlinewidth": 0,
              "ticks": ""
             }
            },
            "type": "scatterpolar"
           }
          ],
          "scatterpolargl": [
           {
            "marker": {
             "colorbar": {
              "outlinewidth": 0,
              "ticks": ""
             }
            },
            "type": "scatterpolargl"
           }
          ],
          "scatterternary": [
           {
            "marker": {
             "colorbar": {
              "outlinewidth": 0,
              "ticks": ""
             }
            },
            "type": "scatterternary"
           }
          ],
          "surface": [
           {
            "colorbar": {
             "outlinewidth": 0,
             "ticks": ""
            },
            "colorscale": [
             [
              0,
              "#0d0887"
             ],
             [
              0.1111111111111111,
              "#46039f"
             ],
             [
              0.2222222222222222,
              "#7201a8"
             ],
             [
              0.3333333333333333,
              "#9c179e"
             ],
             [
              0.4444444444444444,
              "#bd3786"
             ],
             [
              0.5555555555555556,
              "#d8576b"
             ],
             [
              0.6666666666666666,
              "#ed7953"
             ],
             [
              0.7777777777777778,
              "#fb9f3a"
             ],
             [
              0.8888888888888888,
              "#fdca26"
             ],
             [
              1,
              "#f0f921"
             ]
            ],
            "type": "surface"
           }
          ],
          "table": [
           {
            "cells": {
             "fill": {
              "color": "#EBF0F8"
             },
             "line": {
              "color": "white"
             }
            },
            "header": {
             "fill": {
              "color": "#C8D4E3"
             },
             "line": {
              "color": "white"
             }
            },
            "type": "table"
           }
          ]
         },
         "layout": {
          "annotationdefaults": {
           "arrowcolor": "#2a3f5f",
           "arrowhead": 0,
           "arrowwidth": 1
          },
          "autotypenumbers": "strict",
          "coloraxis": {
           "colorbar": {
            "outlinewidth": 0,
            "ticks": ""
           }
          },
          "colorscale": {
           "diverging": [
            [
             0,
             "#8e0152"
            ],
            [
             0.1,
             "#c51b7d"
            ],
            [
             0.2,
             "#de77ae"
            ],
            [
             0.3,
             "#f1b6da"
            ],
            [
             0.4,
             "#fde0ef"
            ],
            [
             0.5,
             "#f7f7f7"
            ],
            [
             0.6,
             "#e6f5d0"
            ],
            [
             0.7,
             "#b8e186"
            ],
            [
             0.8,
             "#7fbc41"
            ],
            [
             0.9,
             "#4d9221"
            ],
            [
             1,
             "#276419"
            ]
           ],
           "sequential": [
            [
             0,
             "#0d0887"
            ],
            [
             0.1111111111111111,
             "#46039f"
            ],
            [
             0.2222222222222222,
             "#7201a8"
            ],
            [
             0.3333333333333333,
             "#9c179e"
            ],
            [
             0.4444444444444444,
             "#bd3786"
            ],
            [
             0.5555555555555556,
             "#d8576b"
            ],
            [
             0.6666666666666666,
             "#ed7953"
            ],
            [
             0.7777777777777778,
             "#fb9f3a"
            ],
            [
             0.8888888888888888,
             "#fdca26"
            ],
            [
             1,
             "#f0f921"
            ]
           ],
           "sequentialminus": [
            [
             0,
             "#0d0887"
            ],
            [
             0.1111111111111111,
             "#46039f"
            ],
            [
             0.2222222222222222,
             "#7201a8"
            ],
            [
             0.3333333333333333,
             "#9c179e"
            ],
            [
             0.4444444444444444,
             "#bd3786"
            ],
            [
             0.5555555555555556,
             "#d8576b"
            ],
            [
             0.6666666666666666,
             "#ed7953"
            ],
            [
             0.7777777777777778,
             "#fb9f3a"
            ],
            [
             0.8888888888888888,
             "#fdca26"
            ],
            [
             1,
             "#f0f921"
            ]
           ]
          },
          "colorway": [
           "#636efa",
           "#EF553B",
           "#00cc96",
           "#ab63fa",
           "#FFA15A",
           "#19d3f3",
           "#FF6692",
           "#B6E880",
           "#FF97FF",
           "#FECB52"
          ],
          "font": {
           "color": "#2a3f5f"
          },
          "geo": {
           "bgcolor": "white",
           "lakecolor": "white",
           "landcolor": "#E5ECF6",
           "showlakes": true,
           "showland": true,
           "subunitcolor": "white"
          },
          "hoverlabel": {
           "align": "left"
          },
          "hovermode": "closest",
          "mapbox": {
           "style": "light"
          },
          "paper_bgcolor": "white",
          "plot_bgcolor": "#E5ECF6",
          "polar": {
           "angularaxis": {
            "gridcolor": "white",
            "linecolor": "white",
            "ticks": ""
           },
           "bgcolor": "#E5ECF6",
           "radialaxis": {
            "gridcolor": "white",
            "linecolor": "white",
            "ticks": ""
           }
          },
          "scene": {
           "xaxis": {
            "backgroundcolor": "#E5ECF6",
            "gridcolor": "white",
            "gridwidth": 2,
            "linecolor": "white",
            "showbackground": true,
            "ticks": "",
            "zerolinecolor": "white"
           },
           "yaxis": {
            "backgroundcolor": "#E5ECF6",
            "gridcolor": "white",
            "gridwidth": 2,
            "linecolor": "white",
            "showbackground": true,
            "ticks": "",
            "zerolinecolor": "white"
           },
           "zaxis": {
            "backgroundcolor": "#E5ECF6",
            "gridcolor": "white",
            "gridwidth": 2,
            "linecolor": "white",
            "showbackground": true,
            "ticks": "",
            "zerolinecolor": "white"
           }
          },
          "shapedefaults": {
           "line": {
            "color": "#2a3f5f"
           }
          },
          "ternary": {
           "aaxis": {
            "gridcolor": "white",
            "linecolor": "white",
            "ticks": ""
           },
           "baxis": {
            "gridcolor": "white",
            "linecolor": "white",
            "ticks": ""
           },
           "bgcolor": "#E5ECF6",
           "caxis": {
            "gridcolor": "white",
            "linecolor": "white",
            "ticks": ""
           }
          },
          "title": {
           "x": 0.05
          },
          "xaxis": {
           "automargin": true,
           "gridcolor": "white",
           "linecolor": "white",
           "ticks": "",
           "title": {
            "standoff": 15
           },
           "zerolinecolor": "white",
           "zerolinewidth": 2
          },
          "yaxis": {
           "automargin": true,
           "gridcolor": "white",
           "linecolor": "white",
           "ticks": "",
           "title": {
            "standoff": 15
           },
           "zerolinecolor": "white",
           "zerolinewidth": 2
          }
         }
        },
        "title": {
         "text": "Average Amazon movies oldness",
         "x": 0.5
        },
        "xaxis": {
         "range": [
          2009,
          2025
         ],
         "showgrid": false
        },
        "yaxis": {
         "range": [
          0,
          11
         ],
         "showgrid": false,
         "showticklabels": false
        }
       }
      }
     },
     "metadata": {},
     "output_type": "display_data"
    },
    {
     "name": "stderr",
     "output_type": "stream",
     "text": [
      "/var/folders/3g/t_1rwv_57vz466tvccx4d6gm0000gn/T/ipykernel_32588/3728205125.py:30: FutureWarning:\n",
      "\n",
      "Indexing with multiple keys (implicitly converted to a tuple of keys) will be deprecated, use a list instead.\n",
      "\n"
     ]
    },
    {
     "data": {
      "application/vnd.plotly.v1+json": {
       "config": {
        "plotlyServerURL": "https://plot.ly"
       },
       "data": [
        {
         "hoverlabel": {
          "font": {
           "color": "white",
           "family": "Arial, san serif",
           "size": 14
          }
         },
         "marker": {
          "color": "#ff547c",
          "line": {
           "width": 2
          },
          "size": 12
         },
         "mode": "markers",
         "name": "Release year",
         "textfont": {
          "color": "#212529",
          "family": "Arial, san serif",
          "size": 16
         },
         "type": "scatter",
         "x": [
          2012,
          2013,
          2015,
          2015,
          2015,
          2016,
          2018,
          2018,
          2019,
          2020
         ],
         "y": [
          1,
          2,
          3,
          4,
          5,
          6,
          7,
          8,
          9,
          10
         ]
        },
        {
         "hoverlabel": {
          "font": {
           "color": "white",
           "family": "Arial, san serif",
           "size": 14
          }
         },
         "marker": {
          "color": "#a0a3de",
          "line": {
           "width": 2
          },
          "size": 12
         },
         "mode": "markers",
         "name": "Added year",
         "textfont": {
          "color": "#212529",
          "family": "Arial, san serif",
          "size": 16
         },
         "type": "scatter",
         "x": [
          2015,
          2015,
          2017,
          2016,
          2014,
          2015,
          2016,
          2018,
          2019,
          2019
         ],
         "y": [
          1,
          2,
          3,
          4,
          5,
          6,
          7,
          8,
          9,
          10
         ]
        },
        {
         "hoverinfo": "skip",
         "mode": "text",
         "showlegend": false,
         "text": [
          "Australia",
          "Canada",
          "Germany",
          "S. Korea",
          "UK",
          "USA",
          "France",
          "Mexico",
          "China",
          "India"
         ],
         "textfont": {
          "color": "white",
          "family": "Arial, sans serif",
          "size": 12
         },
         "textposition": "top right",
         "type": "scatter",
         "x": [
          2022,
          2022,
          2022,
          2022,
          2022,
          2022,
          2022,
          2022,
          2022,
          2022
         ],
         "y": [
          1,
          2,
          3,
          4,
          5,
          6,
          7,
          8,
          9,
          10
         ]
        }
       ],
       "layout": {
        "font": {
         "color": "white",
         "family": "Arial, san serif",
         "size": 12
        },
        "hoverlabel": {
         "bordercolor": "#212529"
        },
        "margin": {
         "b": 10,
         "l": 10,
         "r": 10,
         "t": 50
        },
        "paper_bgcolor": "#212529",
        "plot_bgcolor": "rgba(0, 0, 0, 0)",
        "shapes": [
         {
          "layer": "below",
          "line": {
           "color": "white"
          },
          "type": "line",
          "x0": 2012,
          "x1": 2015,
          "xref": "x",
          "y0": 1,
          "y1": 1,
          "yref": "y"
         },
         {
          "layer": "below",
          "line": {
           "color": "white"
          },
          "type": "line",
          "x0": 2013,
          "x1": 2015,
          "xref": "x",
          "y0": 2,
          "y1": 2,
          "yref": "y"
         },
         {
          "layer": "below",
          "line": {
           "color": "white"
          },
          "type": "line",
          "x0": 2015,
          "x1": 2017,
          "xref": "x",
          "y0": 3,
          "y1": 3,
          "yref": "y"
         },
         {
          "layer": "below",
          "line": {
           "color": "white"
          },
          "type": "line",
          "x0": 2015,
          "x1": 2016,
          "xref": "x",
          "y0": 4,
          "y1": 4,
          "yref": "y"
         },
         {
          "layer": "below",
          "line": {
           "color": "white"
          },
          "type": "line",
          "x0": 2015,
          "x1": 2014,
          "xref": "x",
          "y0": 5,
          "y1": 5,
          "yref": "y"
         },
         {
          "layer": "below",
          "line": {
           "color": "white"
          },
          "type": "line",
          "x0": 2016,
          "x1": 2015,
          "xref": "x",
          "y0": 6,
          "y1": 6,
          "yref": "y"
         },
         {
          "layer": "below",
          "line": {
           "color": "white"
          },
          "type": "line",
          "x0": 2018,
          "x1": 2016,
          "xref": "x",
          "y0": 7,
          "y1": 7,
          "yref": "y"
         },
         {
          "layer": "below",
          "line": {
           "color": "white"
          },
          "type": "line",
          "x0": 2018,
          "x1": 2018,
          "xref": "x",
          "y0": 8,
          "y1": 8,
          "yref": "y"
         },
         {
          "layer": "below",
          "line": {
           "color": "white"
          },
          "type": "line",
          "x0": 2019,
          "x1": 2019,
          "xref": "x",
          "y0": 9,
          "y1": 9,
          "yref": "y"
         },
         {
          "layer": "below",
          "line": {
           "color": "white"
          },
          "type": "line",
          "x0": 2020,
          "x1": 2019,
          "xref": "x",
          "y0": 10,
          "y1": 10,
          "yref": "y"
         }
        ],
        "template": {
         "data": {
          "bar": [
           {
            "error_x": {
             "color": "#2a3f5f"
            },
            "error_y": {
             "color": "#2a3f5f"
            },
            "marker": {
             "line": {
              "color": "#E5ECF6",
              "width": 0.5
             },
             "pattern": {
              "fillmode": "overlay",
              "size": 10,
              "solidity": 0.2
             }
            },
            "type": "bar"
           }
          ],
          "barpolar": [
           {
            "marker": {
             "line": {
              "color": "#E5ECF6",
              "width": 0.5
             },
             "pattern": {
              "fillmode": "overlay",
              "size": 10,
              "solidity": 0.2
             }
            },
            "type": "barpolar"
           }
          ],
          "carpet": [
           {
            "aaxis": {
             "endlinecolor": "#2a3f5f",
             "gridcolor": "white",
             "linecolor": "white",
             "minorgridcolor": "white",
             "startlinecolor": "#2a3f5f"
            },
            "baxis": {
             "endlinecolor": "#2a3f5f",
             "gridcolor": "white",
             "linecolor": "white",
             "minorgridcolor": "white",
             "startlinecolor": "#2a3f5f"
            },
            "type": "carpet"
           }
          ],
          "choropleth": [
           {
            "colorbar": {
             "outlinewidth": 0,
             "ticks": ""
            },
            "type": "choropleth"
           }
          ],
          "contour": [
           {
            "colorbar": {
             "outlinewidth": 0,
             "ticks": ""
            },
            "colorscale": [
             [
              0,
              "#0d0887"
             ],
             [
              0.1111111111111111,
              "#46039f"
             ],
             [
              0.2222222222222222,
              "#7201a8"
             ],
             [
              0.3333333333333333,
              "#9c179e"
             ],
             [
              0.4444444444444444,
              "#bd3786"
             ],
             [
              0.5555555555555556,
              "#d8576b"
             ],
             [
              0.6666666666666666,
              "#ed7953"
             ],
             [
              0.7777777777777778,
              "#fb9f3a"
             ],
             [
              0.8888888888888888,
              "#fdca26"
             ],
             [
              1,
              "#f0f921"
             ]
            ],
            "type": "contour"
           }
          ],
          "contourcarpet": [
           {
            "colorbar": {
             "outlinewidth": 0,
             "ticks": ""
            },
            "type": "contourcarpet"
           }
          ],
          "heatmap": [
           {
            "colorbar": {
             "outlinewidth": 0,
             "ticks": ""
            },
            "colorscale": [
             [
              0,
              "#0d0887"
             ],
             [
              0.1111111111111111,
              "#46039f"
             ],
             [
              0.2222222222222222,
              "#7201a8"
             ],
             [
              0.3333333333333333,
              "#9c179e"
             ],
             [
              0.4444444444444444,
              "#bd3786"
             ],
             [
              0.5555555555555556,
              "#d8576b"
             ],
             [
              0.6666666666666666,
              "#ed7953"
             ],
             [
              0.7777777777777778,
              "#fb9f3a"
             ],
             [
              0.8888888888888888,
              "#fdca26"
             ],
             [
              1,
              "#f0f921"
             ]
            ],
            "type": "heatmap"
           }
          ],
          "heatmapgl": [
           {
            "colorbar": {
             "outlinewidth": 0,
             "ticks": ""
            },
            "colorscale": [
             [
              0,
              "#0d0887"
             ],
             [
              0.1111111111111111,
              "#46039f"
             ],
             [
              0.2222222222222222,
              "#7201a8"
             ],
             [
              0.3333333333333333,
              "#9c179e"
             ],
             [
              0.4444444444444444,
              "#bd3786"
             ],
             [
              0.5555555555555556,
              "#d8576b"
             ],
             [
              0.6666666666666666,
              "#ed7953"
             ],
             [
              0.7777777777777778,
              "#fb9f3a"
             ],
             [
              0.8888888888888888,
              "#fdca26"
             ],
             [
              1,
              "#f0f921"
             ]
            ],
            "type": "heatmapgl"
           }
          ],
          "histogram": [
           {
            "marker": {
             "pattern": {
              "fillmode": "overlay",
              "size": 10,
              "solidity": 0.2
             }
            },
            "type": "histogram"
           }
          ],
          "histogram2d": [
           {
            "colorbar": {
             "outlinewidth": 0,
             "ticks": ""
            },
            "colorscale": [
             [
              0,
              "#0d0887"
             ],
             [
              0.1111111111111111,
              "#46039f"
             ],
             [
              0.2222222222222222,
              "#7201a8"
             ],
             [
              0.3333333333333333,
              "#9c179e"
             ],
             [
              0.4444444444444444,
              "#bd3786"
             ],
             [
              0.5555555555555556,
              "#d8576b"
             ],
             [
              0.6666666666666666,
              "#ed7953"
             ],
             [
              0.7777777777777778,
              "#fb9f3a"
             ],
             [
              0.8888888888888888,
              "#fdca26"
             ],
             [
              1,
              "#f0f921"
             ]
            ],
            "type": "histogram2d"
           }
          ],
          "histogram2dcontour": [
           {
            "colorbar": {
             "outlinewidth": 0,
             "ticks": ""
            },
            "colorscale": [
             [
              0,
              "#0d0887"
             ],
             [
              0.1111111111111111,
              "#46039f"
             ],
             [
              0.2222222222222222,
              "#7201a8"
             ],
             [
              0.3333333333333333,
              "#9c179e"
             ],
             [
              0.4444444444444444,
              "#bd3786"
             ],
             [
              0.5555555555555556,
              "#d8576b"
             ],
             [
              0.6666666666666666,
              "#ed7953"
             ],
             [
              0.7777777777777778,
              "#fb9f3a"
             ],
             [
              0.8888888888888888,
              "#fdca26"
             ],
             [
              1,
              "#f0f921"
             ]
            ],
            "type": "histogram2dcontour"
           }
          ],
          "mesh3d": [
           {
            "colorbar": {
             "outlinewidth": 0,
             "ticks": ""
            },
            "type": "mesh3d"
           }
          ],
          "parcoords": [
           {
            "line": {
             "colorbar": {
              "outlinewidth": 0,
              "ticks": ""
             }
            },
            "type": "parcoords"
           }
          ],
          "pie": [
           {
            "automargin": true,
            "type": "pie"
           }
          ],
          "scatter": [
           {
            "marker": {
             "colorbar": {
              "outlinewidth": 0,
              "ticks": ""
             }
            },
            "type": "scatter"
           }
          ],
          "scatter3d": [
           {
            "line": {
             "colorbar": {
              "outlinewidth": 0,
              "ticks": ""
             }
            },
            "marker": {
             "colorbar": {
              "outlinewidth": 0,
              "ticks": ""
             }
            },
            "type": "scatter3d"
           }
          ],
          "scattercarpet": [
           {
            "marker": {
             "colorbar": {
              "outlinewidth": 0,
              "ticks": ""
             }
            },
            "type": "scattercarpet"
           }
          ],
          "scattergeo": [
           {
            "marker": {
             "colorbar": {
              "outlinewidth": 0,
              "ticks": ""
             }
            },
            "type": "scattergeo"
           }
          ],
          "scattergl": [
           {
            "marker": {
             "colorbar": {
              "outlinewidth": 0,
              "ticks": ""
             }
            },
            "type": "scattergl"
           }
          ],
          "scattermapbox": [
           {
            "marker": {
             "colorbar": {
              "outlinewidth": 0,
              "ticks": ""
             }
            },
            "type": "scattermapbox"
           }
          ],
          "scatterpolar": [
           {
            "marker": {
             "colorbar": {
              "outlinewidth": 0,
              "ticks": ""
             }
            },
            "type": "scatterpolar"
           }
          ],
          "scatterpolargl": [
           {
            "marker": {
             "colorbar": {
              "outlinewidth": 0,
              "ticks": ""
             }
            },
            "type": "scatterpolargl"
           }
          ],
          "scatterternary": [
           {
            "marker": {
             "colorbar": {
              "outlinewidth": 0,
              "ticks": ""
             }
            },
            "type": "scatterternary"
           }
          ],
          "surface": [
           {
            "colorbar": {
             "outlinewidth": 0,
             "ticks": ""
            },
            "colorscale": [
             [
              0,
              "#0d0887"
             ],
             [
              0.1111111111111111,
              "#46039f"
             ],
             [
              0.2222222222222222,
              "#7201a8"
             ],
             [
              0.3333333333333333,
              "#9c179e"
             ],
             [
              0.4444444444444444,
              "#bd3786"
             ],
             [
              0.5555555555555556,
              "#d8576b"
             ],
             [
              0.6666666666666666,
              "#ed7953"
             ],
             [
              0.7777777777777778,
              "#fb9f3a"
             ],
             [
              0.8888888888888888,
              "#fdca26"
             ],
             [
              1,
              "#f0f921"
             ]
            ],
            "type": "surface"
           }
          ],
          "table": [
           {
            "cells": {
             "fill": {
              "color": "#EBF0F8"
             },
             "line": {
              "color": "white"
             }
            },
            "header": {
             "fill": {
              "color": "#C8D4E3"
             },
             "line": {
              "color": "white"
             }
            },
            "type": "table"
           }
          ]
         },
         "layout": {
          "annotationdefaults": {
           "arrowcolor": "#2a3f5f",
           "arrowhead": 0,
           "arrowwidth": 1
          },
          "autotypenumbers": "strict",
          "coloraxis": {
           "colorbar": {
            "outlinewidth": 0,
            "ticks": ""
           }
          },
          "colorscale": {
           "diverging": [
            [
             0,
             "#8e0152"
            ],
            [
             0.1,
             "#c51b7d"
            ],
            [
             0.2,
             "#de77ae"
            ],
            [
             0.3,
             "#f1b6da"
            ],
            [
             0.4,
             "#fde0ef"
            ],
            [
             0.5,
             "#f7f7f7"
            ],
            [
             0.6,
             "#e6f5d0"
            ],
            [
             0.7,
             "#b8e186"
            ],
            [
             0.8,
             "#7fbc41"
            ],
            [
             0.9,
             "#4d9221"
            ],
            [
             1,
             "#276419"
            ]
           ],
           "sequential": [
            [
             0,
             "#0d0887"
            ],
            [
             0.1111111111111111,
             "#46039f"
            ],
            [
             0.2222222222222222,
             "#7201a8"
            ],
            [
             0.3333333333333333,
             "#9c179e"
            ],
            [
             0.4444444444444444,
             "#bd3786"
            ],
            [
             0.5555555555555556,
             "#d8576b"
            ],
            [
             0.6666666666666666,
             "#ed7953"
            ],
            [
             0.7777777777777778,
             "#fb9f3a"
            ],
            [
             0.8888888888888888,
             "#fdca26"
            ],
            [
             1,
             "#f0f921"
            ]
           ],
           "sequentialminus": [
            [
             0,
             "#0d0887"
            ],
            [
             0.1111111111111111,
             "#46039f"
            ],
            [
             0.2222222222222222,
             "#7201a8"
            ],
            [
             0.3333333333333333,
             "#9c179e"
            ],
            [
             0.4444444444444444,
             "#bd3786"
            ],
            [
             0.5555555555555556,
             "#d8576b"
            ],
            [
             0.6666666666666666,
             "#ed7953"
            ],
            [
             0.7777777777777778,
             "#fb9f3a"
            ],
            [
             0.8888888888888888,
             "#fdca26"
            ],
            [
             1,
             "#f0f921"
            ]
           ]
          },
          "colorway": [
           "#636efa",
           "#EF553B",
           "#00cc96",
           "#ab63fa",
           "#FFA15A",
           "#19d3f3",
           "#FF6692",
           "#B6E880",
           "#FF97FF",
           "#FECB52"
          ],
          "font": {
           "color": "#2a3f5f"
          },
          "geo": {
           "bgcolor": "white",
           "lakecolor": "white",
           "landcolor": "#E5ECF6",
           "showlakes": true,
           "showland": true,
           "subunitcolor": "white"
          },
          "hoverlabel": {
           "align": "left"
          },
          "hovermode": "closest",
          "mapbox": {
           "style": "light"
          },
          "paper_bgcolor": "white",
          "plot_bgcolor": "#E5ECF6",
          "polar": {
           "angularaxis": {
            "gridcolor": "white",
            "linecolor": "white",
            "ticks": ""
           },
           "bgcolor": "#E5ECF6",
           "radialaxis": {
            "gridcolor": "white",
            "linecolor": "white",
            "ticks": ""
           }
          },
          "scene": {
           "xaxis": {
            "backgroundcolor": "#E5ECF6",
            "gridcolor": "white",
            "gridwidth": 2,
            "linecolor": "white",
            "showbackground": true,
            "ticks": "",
            "zerolinecolor": "white"
           },
           "yaxis": {
            "backgroundcolor": "#E5ECF6",
            "gridcolor": "white",
            "gridwidth": 2,
            "linecolor": "white",
            "showbackground": true,
            "ticks": "",
            "zerolinecolor": "white"
           },
           "zaxis": {
            "backgroundcolor": "#E5ECF6",
            "gridcolor": "white",
            "gridwidth": 2,
            "linecolor": "white",
            "showbackground": true,
            "ticks": "",
            "zerolinecolor": "white"
           }
          },
          "shapedefaults": {
           "line": {
            "color": "#2a3f5f"
           }
          },
          "ternary": {
           "aaxis": {
            "gridcolor": "white",
            "linecolor": "white",
            "ticks": ""
           },
           "baxis": {
            "gridcolor": "white",
            "linecolor": "white",
            "ticks": ""
           },
           "bgcolor": "#E5ECF6",
           "caxis": {
            "gridcolor": "white",
            "linecolor": "white",
            "ticks": ""
           }
          },
          "title": {
           "x": 0.05
          },
          "xaxis": {
           "automargin": true,
           "gridcolor": "white",
           "linecolor": "white",
           "ticks": "",
           "title": {
            "standoff": 15
           },
           "zerolinecolor": "white",
           "zerolinewidth": 2
          },
          "yaxis": {
           "automargin": true,
           "gridcolor": "white",
           "linecolor": "white",
           "ticks": "",
           "title": {
            "standoff": 15
           },
           "zerolinecolor": "white",
           "zerolinewidth": 2
          }
         }
        },
        "title": {
         "text": "Average Amazon series oldness",
         "x": 0.5
        },
        "xaxis": {
         "range": [
          2009,
          2025
         ],
         "showgrid": false
        },
        "yaxis": {
         "range": [
          0,
          11
         ],
         "showgrid": false,
         "showticklabels": false
        }
       }
      }
     },
     "metadata": {},
     "output_type": "display_data"
    }
   ],
   "source": [
    "df = data.copy()\n",
    "df['country'].replace('no_data', np.nan, inplace  = True)\n",
    "df = df.dropna()\n",
    "df['first_country'] = df['country'].apply(lambda x: x.split(\",\")[0])\n",
    "df['first_country'].replace('United States', 'USA', inplace=True)\n",
    "df['first_country'].replace('United Kingdom', 'UK',inplace=True)\n",
    "df['first_country'].replace('South Korea', 'S. Korea',inplace=True)\n",
    "df['count'] = 1\n",
    "\n",
    "dfn = df.copy()\n",
    "dfn['date_added_netflix'].replace('no_data', np.nan, inplace  = True)\n",
    "dfn = dfn.dropna()\n",
    "dfn['date_added_netflix'] = pd.to_datetime(dfn['date_added_netflix'])\n",
    "dfn['year_added'] = dfn['date_added_netflix'].dt.year\n",
    "df_movies_n = dfn[dfn[\"type\"] == \"Movie\"]\n",
    "df_series_n = dfn[dfn[\"type\"] == \"TV Show\"]\n",
    "\n",
    "dfa = df.copy()\n",
    "dfa['date_added_amazon'].replace('no_data', np.nan, inplace  = True)\n",
    "dfa = dfa.dropna()\n",
    "dfa['date_added_amazon'] = pd.to_datetime(dfa['date_added_amazon'])\n",
    "dfa['year_added'] = dfa['date_added_amazon'].dt.year\n",
    "df_movies_a = dfa[dfa[\"type\"] == \"Movie\"]\n",
    "df_series_a = dfa[dfa[\"type\"] == \"TV Show\"]\n",
    "\n",
    "def scatter_repr(data, file, prov):\n",
    "    df = data.groupby('first_country')[['first_country','count']].sum().sort_values(by='count',ascending=False).reset_index()[:10]\n",
    "    df = df['first_country']\n",
    "    df_loli = data.loc[data['first_country'].isin(df)]\n",
    "    loli = df_loli.groupby('first_country')['release_year','year_added'].mean().round()\n",
    "    ordered_df = loli.sort_values(by='release_year')\n",
    "    my_range=[0,len(loli.index)+1]\n",
    "    min = ordered_df['release_year'].to_list()[0]-3\n",
    "    label_pos = [2022] * len(ordered_df+1)\n",
    "    title = 'Average '+ prov + ' oldness'\n",
    "    fig = go.Figure()\n",
    "\n",
    "    fig.add_trace(go.Scatter(\n",
    "            x=ordered_df['release_year'].to_list(),\n",
    "            y=[i for i in range(1, 11)],\n",
    "            marker=dict(color=\"#ff547c\", size=12),\n",
    "            mode=\"markers\",\n",
    "            name=\"Release year\",\n",
    "    ))\n",
    "\n",
    "    fig.add_trace(go.Scatter(\n",
    "            x=ordered_df['year_added'].to_list(),\n",
    "            y=[i for i in range(1, 11)],\n",
    "            marker=dict(color=\"#a0a3de\", size=12),\n",
    "            mode=\"markers\",\n",
    "            name=\"Added year\",\n",
    "    ))\n",
    "\n",
    "    fig.update_layout(title_text=title, title_x=0.5,\n",
    "        yaxis_range=my_range, xaxis_range=[min,2025],\n",
    "        xaxis_showgrid=False,\n",
    "        yaxis_showgrid=False,\n",
    "        yaxis_showticklabels=False,\n",
    "        paper_bgcolor=\"#212529\", plot_bgcolor = 'rgba(0, 0, 0, 0)', hoverlabel_bordercolor='#212529',\n",
    "        margin=margin_title,\n",
    "        font=dict(\n",
    "            family=\"Arial, san serif\",\n",
    "            size=12,\n",
    "            color=\"white\"\n",
    "        ) \n",
    "    )\n",
    "\n",
    "    fig.update_traces(marker=dict(line=dict(width=2)),textfont=dict(family=\"Arial, san serif\",size=16,color=\"#212529\"),hoverlabel=dict(font_size=14,font_family=\"Arial, san serif\", font_color='white'))\n",
    "\n",
    "    y_pos = 1\n",
    "    for i, x in ordered_df.iterrows():\n",
    "\n",
    "        fig.add_shape(type='line',\n",
    "                        x0=ordered_df['release_year'][i],\n",
    "                        y0=y_pos,\n",
    "                        x1=ordered_df['year_added'][i],\n",
    "                        y1=y_pos,\n",
    "                        line=dict(color='white'),\n",
    "                        xref='x',\n",
    "                        yref='y',\n",
    "                        layer='below'\n",
    "        )\n",
    "        y_pos += 1\n",
    "    \n",
    "    fig.add_trace(go.Scatter(\n",
    "        x= label_pos,\n",
    "        y= [i for i in range(1, 11)],\n",
    "        text= ordered_df.index.values.tolist(),\n",
    "        mode=\"text\",\n",
    "        hoverinfo='skip',\n",
    "        showlegend=False,\n",
    "        textposition=\"top right\",\n",
    "            textfont=dict(\n",
    "                family=\"Arial, sans serif\",\n",
    "                size=12,\n",
    "                color=\"white\"\n",
    "            )\n",
    "    ))\n",
    "\n",
    "    fig.write_html('visualization/'+ file) \n",
    "    fig.show()\n",
    "    \n",
    "scatter_repr(df_movies_n,'twentytwo.html', 'Netflix movies')\n",
    "scatter_repr(df_series_n, 'twentythree.html', 'Netflix series')\n",
    "scatter_repr(df_movies_a, 'twentyfour.html', 'Amazon movies')\n",
    "scatter_repr(df_series_a, 'twentyfive.html', 'Amazon series')"
   ]
  },
  {
   "cell_type": "markdown",
   "metadata": {},
   "source": [
    "# How streaming service influence the cinema industry?\n",
    "\n",
    "To understand how the streaming services affect the film industry, we need to consider several factors including distribution, whether it is theirs or that they rent content from other distributors; the type of title they distribute and whether it has ever been nominated for or won an award, finally the opinion of critics and the public.\n",
    "\n",
    "### Distributor presence over time on streaming services\n",
    "film industry, let's look at the amount of content owned by distributors from 2008, the year in which many streaming services were born, to 2021. So, let's draw a histogram that has the number of titles on the y-axis and the year of release on the x-axis.\n",
    "\n",
    "**Conclusion:** On streaming platforms, most movies are distributed by the platform itself or by other streaming services such as Hulu. Dominant in the chart is Netflix followed by Amazon. Among the traditional theatrical distributor, only Warner Bros seems to be competitive."
   ]
  },
  {
   "cell_type": "code",
   "execution_count": 111,
   "metadata": {},
   "outputs": [
    {
     "data": {
      "application/vnd.plotly.v1+json": {
       "config": {
        "plotlyServerURL": "https://plot.ly"
       },
       "data": [
        {
         "alignmentgroup": "True",
         "bingroup": "x",
         "histfunc": "sum",
         "hoverlabel": {
          "font": {
           "color": "white",
           "family": "Arial, san serif",
           "size": 14
          }
         },
         "hovertemplate": "distributor=Netflix<br>year=%{x}<br>sum of val=%{y}<extra></extra>",
         "legendgroup": "Netflix",
         "marker": {
          "color": "#0f79af",
          "line": {
           "width": 2
          },
          "pattern": {
           "shape": ""
          }
         },
         "name": "Netflix",
         "offsetgroup": "Netflix",
         "orientation": "v",
         "showlegend": true,
         "textfont": {
          "color": "#212529",
          "family": "Arial, san serif",
          "size": 16
         },
         "type": "histogram",
         "x": [
          2020,
          2018,
          2019,
          2016,
          2017,
          2021,
          2015,
          2014,
          2010,
          2013,
          2008,
          2012,
          2009,
          2011
         ],
         "xaxis": "x",
         "y": [
          309,
          263,
          231,
          229,
          227,
          184,
          131,
          91,
          57,
          55,
          55,
          54,
          50,
          49
         ],
         "yaxis": "y"
        },
        {
         "alignmentgroup": "True",
         "bingroup": "x",
         "histfunc": "sum",
         "hoverlabel": {
          "font": {
           "color": "white",
           "family": "Arial, san serif",
           "size": 14
          }
         },
         "hovertemplate": "distributor=Amazon Prime<br>year=%{x}<br>sum of val=%{y}<extra></extra>",
         "legendgroup": "Amazon Prime",
         "marker": {
          "color": "#5287c1",
          "line": {
           "width": 2
          },
          "pattern": {
           "shape": ""
          }
         },
         "name": "Amazon Prime",
         "offsetgroup": "Amazon Prime",
         "orientation": "v",
         "showlegend": true,
         "textfont": {
          "color": "#212529",
          "family": "Arial, san serif",
          "size": 16
         },
         "type": "histogram",
         "x": [
          2021,
          2020,
          2019,
          2018,
          2017,
          2016
         ],
         "xaxis": "x",
         "y": [
          25,
          24,
          17,
          16,
          13,
          7
         ],
         "yaxis": "y"
        },
        {
         "alignmentgroup": "True",
         "bingroup": "x",
         "histfunc": "sum",
         "hoverlabel": {
          "font": {
           "color": "white",
           "family": "Arial, san serif",
           "size": 14
          }
         },
         "hovertemplate": "distributor=Hulu<br>year=%{x}<br>sum of val=%{y}<extra></extra>",
         "legendgroup": "Hulu",
         "marker": {
          "color": "#7b95d0",
          "line": {
           "width": 2
          },
          "pattern": {
           "shape": ""
          }
         },
         "name": "Hulu",
         "offsetgroup": "Hulu",
         "orientation": "v",
         "showlegend": true,
         "textfont": {
          "color": "#212529",
          "family": "Arial, san serif",
          "size": 16
         },
         "type": "histogram",
         "x": [
          2017,
          2018,
          2015,
          2016,
          2014
         ],
         "xaxis": "x",
         "y": [
          11,
          8,
          6,
          6,
          6
         ],
         "yaxis": "y"
        },
        {
         "alignmentgroup": "True",
         "bingroup": "x",
         "histfunc": "sum",
         "hoverlabel": {
          "font": {
           "color": "white",
           "family": "Arial, san serif",
           "size": 14
          }
         },
         "hovertemplate": "distributor=Warner Bros.<br>year=%{x}<br>sum of val=%{y}<extra></extra>",
         "legendgroup": "Warner Bros.",
         "marker": {
          "color": "#a0a3de",
          "line": {
           "width": 2
          },
          "pattern": {
           "shape": ""
          }
         },
         "name": "Warner Bros.",
         "offsetgroup": "Warner Bros.",
         "orientation": "v",
         "showlegend": true,
         "textfont": {
          "color": "#212529",
          "family": "Arial, san serif",
          "size": 16
         },
         "type": "histogram",
         "x": [
          2021,
          2018
         ],
         "xaxis": "x",
         "y": [
          10,
          9
         ],
         "yaxis": "y"
        },
        {
         "alignmentgroup": "True",
         "bingroup": "x",
         "histfunc": "sum",
         "hoverlabel": {
          "font": {
           "color": "white",
           "family": "Arial, san serif",
           "size": 14
          }
         },
         "hovertemplate": "distributor=A24<br>year=%{x}<br>sum of val=%{y}<extra></extra>",
         "legendgroup": "A24",
         "marker": {
          "color": "#c2b2ea",
          "line": {
           "width": 2
          },
          "pattern": {
           "shape": ""
          }
         },
         "name": "A24",
         "offsetgroup": "A24",
         "orientation": "v",
         "showlegend": true,
         "textfont": {
          "color": "#212529",
          "family": "Arial, san serif",
          "size": 16
         },
         "type": "histogram",
         "x": [
          2015
         ],
         "xaxis": "x",
         "y": [
          9
         ],
         "yaxis": "y"
        },
        {
         "alignmentgroup": "True",
         "bingroup": "x",
         "histfunc": "sum",
         "hoverlabel": {
          "font": {
           "color": "white",
           "family": "Arial, san serif",
           "size": 14
          }
         },
         "hovertemplate": "distributor=BBC One<br>year=%{x}<br>sum of val=%{y}<extra></extra>",
         "legendgroup": "BBC One",
         "marker": {
          "color": "#e2c1f5",
          "line": {
           "width": 2
          },
          "pattern": {
           "shape": ""
          }
         },
         "name": "BBC One",
         "offsetgroup": "BBC One",
         "orientation": "v",
         "showlegend": true,
         "textfont": {
          "color": "#212529",
          "family": "Arial, san serif",
          "size": 16
         },
         "type": "histogram",
         "x": [
          2016
         ],
         "xaxis": "x",
         "y": [
          8
         ],
         "yaxis": "y"
        },
        {
         "alignmentgroup": "True",
         "bingroup": "x",
         "histfunc": "sum",
         "hoverlabel": {
          "font": {
           "color": "white",
           "family": "Arial, san serif",
           "size": 14
          }
         },
         "hovertemplate": "distributor=Star Cinema<br>year=%{x}<br>sum of val=%{y}<extra></extra>",
         "legendgroup": "Star Cinema",
         "marker": {
          "color": "#ffd2ff",
          "line": {
           "width": 2
          },
          "pattern": {
           "shape": ""
          }
         },
         "name": "Star Cinema",
         "offsetgroup": "Star Cinema",
         "orientation": "v",
         "showlegend": true,
         "textfont": {
          "color": "#212529",
          "family": "Arial, san serif",
          "size": 16
         },
         "type": "histogram",
         "x": [
          2015,
          2016
         ],
         "xaxis": "x",
         "y": [
          8,
          7
         ],
         "yaxis": "y"
        },
        {
         "alignmentgroup": "True",
         "bingroup": "x",
         "histfunc": "sum",
         "hoverlabel": {
          "font": {
           "color": "white",
           "family": "Arial, san serif",
           "size": 14
          }
         },
         "hovertemplate": "distributor=UTV Motion Pictures<br>year=%{x}<br>sum of val=%{y}<extra></extra>",
         "legendgroup": "UTV Motion Pictures",
         "marker": {
          "color": "#ffb5ea",
          "line": {
           "width": 2
          },
          "pattern": {
           "shape": ""
          }
         },
         "name": "UTV Motion Pictures",
         "offsetgroup": "UTV Motion Pictures",
         "orientation": "v",
         "showlegend": true,
         "textfont": {
          "color": "#212529",
          "family": "Arial, san serif",
          "size": 16
         },
         "type": "histogram",
         "x": [
          2012,
          2008,
          2014
         ],
         "xaxis": "x",
         "y": [
          8,
          6,
          5
         ],
         "yaxis": "y"
        },
        {
         "alignmentgroup": "True",
         "bingroup": "x",
         "histfunc": "sum",
         "hoverlabel": {
          "font": {
           "color": "white",
           "family": "Arial, san serif",
           "size": 14
          }
         },
         "hovertemplate": "distributor=Vudu<br>year=%{x}<br>sum of val=%{y}<extra></extra>",
         "legendgroup": "Vudu",
         "marker": {
          "color": "#ff96cc",
          "line": {
           "width": 2
          },
          "pattern": {
           "shape": ""
          }
         },
         "name": "Vudu",
         "offsetgroup": "Vudu",
         "orientation": "v",
         "showlegend": true,
         "textfont": {
          "color": "#212529",
          "family": "Arial, san serif",
          "size": 16
         },
         "type": "histogram",
         "x": [
          2016
         ],
         "xaxis": "x",
         "y": [
          8
         ],
         "yaxis": "y"
        },
        {
         "alignmentgroup": "True",
         "bingroup": "x",
         "histfunc": "sum",
         "hoverlabel": {
          "font": {
           "color": "white",
           "family": "Arial, san serif",
           "size": 14
          }
         },
         "hovertemplate": "distributor=Channel 4<br>year=%{x}<br>sum of val=%{y}<extra></extra>",
         "legendgroup": "Channel 4",
         "marker": {
          "color": "#ff76a7",
          "line": {
           "width": 2
          },
          "pattern": {
           "shape": ""
          }
         },
         "name": "Channel 4",
         "offsetgroup": "Channel 4",
         "orientation": "v",
         "showlegend": true,
         "textfont": {
          "color": "#212529",
          "family": "Arial, san serif",
          "size": 16
         },
         "type": "histogram",
         "x": [
          2019
         ],
         "xaxis": "x",
         "y": [
          7
         ],
         "yaxis": "y"
        },
        {
         "alignmentgroup": "True",
         "bingroup": "x",
         "histfunc": "sum",
         "hoverlabel": {
          "font": {
           "color": "white",
           "family": "Arial, san serif",
           "size": 14
          }
         },
         "hovertemplate": "distributor=Paramount Pictures<br>year=%{x}<br>sum of val=%{y}<extra></extra>",
         "legendgroup": "Paramount Pictures",
         "marker": {
          "color": "#ff547c",
          "line": {
           "width": 2
          },
          "pattern": {
           "shape": ""
          }
         },
         "name": "Paramount Pictures",
         "offsetgroup": "Paramount Pictures",
         "orientation": "v",
         "showlegend": true,
         "textfont": {
          "color": "#212529",
          "family": "Arial, san serif",
          "size": 16
         },
         "type": "histogram",
         "x": [
          2021,
          2017,
          2011
         ],
         "xaxis": "x",
         "y": [
          7,
          6,
          6
         ],
         "yaxis": "y"
        },
        {
         "alignmentgroup": "True",
         "bingroup": "x",
         "histfunc": "sum",
         "hoverlabel": {
          "font": {
           "color": "white",
           "family": "Arial, san serif",
           "size": 14
          }
         },
         "hovertemplate": "distributor=Universal Pictures<br>year=%{x}<br>sum of val=%{y}<extra></extra>",
         "legendgroup": "Universal Pictures",
         "marker": {
          "color": "#f9314c",
          "line": {
           "width": 2
          },
          "pattern": {
           "shape": ""
          }
         },
         "name": "Universal Pictures",
         "offsetgroup": "Universal Pictures",
         "orientation": "v",
         "showlegend": true,
         "textfont": {
          "color": "#212529",
          "family": "Arial, san serif",
          "size": 16
         },
         "type": "histogram",
         "x": [
          2018,
          2013,
          2017
         ],
         "xaxis": "x",
         "y": [
          7,
          6,
          6
         ],
         "yaxis": "y"
        },
        {
         "alignmentgroup": "True",
         "bingroup": "x",
         "histfunc": "sum",
         "hoverlabel": {
          "font": {
           "color": "white",
           "family": "Arial, san serif",
           "size": 14
          }
         },
         "hovertemplate": "distributor=InterCom<br>year=%{x}<br>sum of val=%{y}<extra></extra>",
         "legendgroup": "InterCom",
         "marker": {
          "color": "#e50914",
          "line": {
           "width": 2
          },
          "pattern": {
           "shape": ""
          }
         },
         "name": "InterCom",
         "offsetgroup": "InterCom",
         "orientation": "v",
         "showlegend": true,
         "textfont": {
          "color": "#212529",
          "family": "Arial, san serif",
          "size": 16
         },
         "type": "histogram",
         "x": [
          2009,
          2010
         ],
         "xaxis": "x",
         "y": [
          7,
          6
         ],
         "yaxis": "y"
        },
        {
         "alignmentgroup": "True",
         "bingroup": "x",
         "histfunc": "sum",
         "hoverlabel": {
          "font": {
           "color": "white",
           "family": "Arial, san serif",
           "size": 14
          }
         },
         "hovertemplate": "distributor=IFC Films<br>year=%{x}<br>sum of val=%{y}<extra></extra>",
         "legendgroup": "IFC Films",
         "marker": {
          "color": "#0f79af",
          "line": {
           "width": 2
          },
          "pattern": {
           "shape": ""
          }
         },
         "name": "IFC Films",
         "offsetgroup": "IFC Films",
         "orientation": "v",
         "showlegend": true,
         "textfont": {
          "color": "#212529",
          "family": "Arial, san serif",
          "size": 16
         },
         "type": "histogram",
         "x": [
          2018
         ],
         "xaxis": "x",
         "y": [
          6
         ],
         "yaxis": "y"
        },
        {
         "alignmentgroup": "True",
         "bingroup": "x",
         "histfunc": "sum",
         "hoverlabel": {
          "font": {
           "color": "white",
           "family": "Arial, san serif",
           "size": 14
          }
         },
         "hovertemplate": "distributor=American Broadcasting Company<br>year=%{x}<br>sum of val=%{y}<extra></extra>",
         "legendgroup": "American Broadcasting Company",
         "marker": {
          "color": "#5287c1",
          "line": {
           "width": 2
          },
          "pattern": {
           "shape": ""
          }
         },
         "name": "American Broadcasting Company",
         "offsetgroup": "American Broadcasting Company",
         "orientation": "v",
         "showlegend": true,
         "textfont": {
          "color": "#212529",
          "family": "Arial, san serif",
          "size": 16
         },
         "type": "histogram",
         "x": [
          2018
         ],
         "xaxis": "x",
         "y": [
          6
         ],
         "yaxis": "y"
        },
        {
         "alignmentgroup": "True",
         "bingroup": "x",
         "histfunc": "sum",
         "hoverlabel": {
          "font": {
           "color": "white",
           "family": "Arial, san serif",
           "size": 14
          }
         },
         "hovertemplate": "distributor=CBS<br>year=%{x}<br>sum of val=%{y}<extra></extra>",
         "legendgroup": "CBS",
         "marker": {
          "color": "#7b95d0",
          "line": {
           "width": 2
          },
          "pattern": {
           "shape": ""
          }
         },
         "name": "CBS",
         "offsetgroup": "CBS",
         "orientation": "v",
         "showlegend": true,
         "textfont": {
          "color": "#212529",
          "family": "Arial, san serif",
          "size": 16
         },
         "type": "histogram",
         "x": [
          2019
         ],
         "xaxis": "x",
         "y": [
          6
         ],
         "yaxis": "y"
        },
        {
         "alignmentgroup": "True",
         "bingroup": "x",
         "histfunc": "sum",
         "hoverlabel": {
          "font": {
           "color": "white",
           "family": "Arial, san serif",
           "size": 14
          }
         },
         "hovertemplate": "distributor=Lionsgate<br>year=%{x}<br>sum of val=%{y}<extra></extra>",
         "legendgroup": "Lionsgate",
         "marker": {
          "color": "#a0a3de",
          "line": {
           "width": 2
          },
          "pattern": {
           "shape": ""
          }
         },
         "name": "Lionsgate",
         "offsetgroup": "Lionsgate",
         "orientation": "v",
         "showlegend": true,
         "textfont": {
          "color": "#212529",
          "family": "Arial, san serif",
          "size": 16
         },
         "type": "histogram",
         "x": [
          2010
         ],
         "xaxis": "x",
         "y": [
          6
         ],
         "yaxis": "y"
        },
        {
         "alignmentgroup": "True",
         "bingroup": "x",
         "histfunc": "sum",
         "hoverlabel": {
          "font": {
           "color": "white",
           "family": "Arial, san serif",
           "size": 14
          }
         },
         "hovertemplate": "distributor=NBC<br>year=%{x}<br>sum of val=%{y}<extra></extra>",
         "legendgroup": "NBC",
         "marker": {
          "color": "#c2b2ea",
          "line": {
           "width": 2
          },
          "pattern": {
           "shape": ""
          }
         },
         "name": "NBC",
         "offsetgroup": "NBC",
         "orientation": "v",
         "showlegend": true,
         "textfont": {
          "color": "#212529",
          "family": "Arial, san serif",
          "size": 16
         },
         "type": "histogram",
         "x": [
          2018
         ],
         "xaxis": "x",
         "y": [
          6
         ],
         "yaxis": "y"
        },
        {
         "alignmentgroup": "True",
         "bingroup": "x",
         "histfunc": "sum",
         "hoverlabel": {
          "font": {
           "color": "white",
           "family": "Arial, san serif",
           "size": 14
          }
         },
         "hovertemplate": "distributor=ADS Service<br>year=%{x}<br>sum of val=%{y}<extra></extra>",
         "legendgroup": "ADS Service",
         "marker": {
          "color": "#e2c1f5",
          "line": {
           "width": 2
          },
          "pattern": {
           "shape": ""
          }
         },
         "name": "ADS Service",
         "offsetgroup": "ADS Service",
         "orientation": "v",
         "showlegend": true,
         "textfont": {
          "color": "#212529",
          "family": "Arial, san serif",
          "size": 16
         },
         "type": "histogram",
         "x": [
          2019
         ],
         "xaxis": "x",
         "y": [
          6
         ],
         "yaxis": "y"
        }
       ],
       "layout": {
        "barmode": "relative",
        "font": {
         "color": "white",
         "family": "Arial, san serif",
         "size": 15
        },
        "hoverlabel": {
         "bordercolor": "#212529"
        },
        "legend": {
         "title": {
          "text": "Distributors"
         },
         "tracegroupgap": 0
        },
        "margin": {
         "b": 10,
         "l": 10,
         "r": 10,
         "t": 10
        },
        "paper_bgcolor": "#212529",
        "plot_bgcolor": "rgba(0, 0, 0, 0)",
        "template": {
         "data": {
          "bar": [
           {
            "error_x": {
             "color": "#2a3f5f"
            },
            "error_y": {
             "color": "#2a3f5f"
            },
            "marker": {
             "line": {
              "color": "#E5ECF6",
              "width": 0.5
             },
             "pattern": {
              "fillmode": "overlay",
              "size": 10,
              "solidity": 0.2
             }
            },
            "type": "bar"
           }
          ],
          "barpolar": [
           {
            "marker": {
             "line": {
              "color": "#E5ECF6",
              "width": 0.5
             },
             "pattern": {
              "fillmode": "overlay",
              "size": 10,
              "solidity": 0.2
             }
            },
            "type": "barpolar"
           }
          ],
          "carpet": [
           {
            "aaxis": {
             "endlinecolor": "#2a3f5f",
             "gridcolor": "white",
             "linecolor": "white",
             "minorgridcolor": "white",
             "startlinecolor": "#2a3f5f"
            },
            "baxis": {
             "endlinecolor": "#2a3f5f",
             "gridcolor": "white",
             "linecolor": "white",
             "minorgridcolor": "white",
             "startlinecolor": "#2a3f5f"
            },
            "type": "carpet"
           }
          ],
          "choropleth": [
           {
            "colorbar": {
             "outlinewidth": 0,
             "ticks": ""
            },
            "type": "choropleth"
           }
          ],
          "contour": [
           {
            "colorbar": {
             "outlinewidth": 0,
             "ticks": ""
            },
            "colorscale": [
             [
              0,
              "#0d0887"
             ],
             [
              0.1111111111111111,
              "#46039f"
             ],
             [
              0.2222222222222222,
              "#7201a8"
             ],
             [
              0.3333333333333333,
              "#9c179e"
             ],
             [
              0.4444444444444444,
              "#bd3786"
             ],
             [
              0.5555555555555556,
              "#d8576b"
             ],
             [
              0.6666666666666666,
              "#ed7953"
             ],
             [
              0.7777777777777778,
              "#fb9f3a"
             ],
             [
              0.8888888888888888,
              "#fdca26"
             ],
             [
              1,
              "#f0f921"
             ]
            ],
            "type": "contour"
           }
          ],
          "contourcarpet": [
           {
            "colorbar": {
             "outlinewidth": 0,
             "ticks": ""
            },
            "type": "contourcarpet"
           }
          ],
          "heatmap": [
           {
            "colorbar": {
             "outlinewidth": 0,
             "ticks": ""
            },
            "colorscale": [
             [
              0,
              "#0d0887"
             ],
             [
              0.1111111111111111,
              "#46039f"
             ],
             [
              0.2222222222222222,
              "#7201a8"
             ],
             [
              0.3333333333333333,
              "#9c179e"
             ],
             [
              0.4444444444444444,
              "#bd3786"
             ],
             [
              0.5555555555555556,
              "#d8576b"
             ],
             [
              0.6666666666666666,
              "#ed7953"
             ],
             [
              0.7777777777777778,
              "#fb9f3a"
             ],
             [
              0.8888888888888888,
              "#fdca26"
             ],
             [
              1,
              "#f0f921"
             ]
            ],
            "type": "heatmap"
           }
          ],
          "heatmapgl": [
           {
            "colorbar": {
             "outlinewidth": 0,
             "ticks": ""
            },
            "colorscale": [
             [
              0,
              "#0d0887"
             ],
             [
              0.1111111111111111,
              "#46039f"
             ],
             [
              0.2222222222222222,
              "#7201a8"
             ],
             [
              0.3333333333333333,
              "#9c179e"
             ],
             [
              0.4444444444444444,
              "#bd3786"
             ],
             [
              0.5555555555555556,
              "#d8576b"
             ],
             [
              0.6666666666666666,
              "#ed7953"
             ],
             [
              0.7777777777777778,
              "#fb9f3a"
             ],
             [
              0.8888888888888888,
              "#fdca26"
             ],
             [
              1,
              "#f0f921"
             ]
            ],
            "type": "heatmapgl"
           }
          ],
          "histogram": [
           {
            "marker": {
             "pattern": {
              "fillmode": "overlay",
              "size": 10,
              "solidity": 0.2
             }
            },
            "type": "histogram"
           }
          ],
          "histogram2d": [
           {
            "colorbar": {
             "outlinewidth": 0,
             "ticks": ""
            },
            "colorscale": [
             [
              0,
              "#0d0887"
             ],
             [
              0.1111111111111111,
              "#46039f"
             ],
             [
              0.2222222222222222,
              "#7201a8"
             ],
             [
              0.3333333333333333,
              "#9c179e"
             ],
             [
              0.4444444444444444,
              "#bd3786"
             ],
             [
              0.5555555555555556,
              "#d8576b"
             ],
             [
              0.6666666666666666,
              "#ed7953"
             ],
             [
              0.7777777777777778,
              "#fb9f3a"
             ],
             [
              0.8888888888888888,
              "#fdca26"
             ],
             [
              1,
              "#f0f921"
             ]
            ],
            "type": "histogram2d"
           }
          ],
          "histogram2dcontour": [
           {
            "colorbar": {
             "outlinewidth": 0,
             "ticks": ""
            },
            "colorscale": [
             [
              0,
              "#0d0887"
             ],
             [
              0.1111111111111111,
              "#46039f"
             ],
             [
              0.2222222222222222,
              "#7201a8"
             ],
             [
              0.3333333333333333,
              "#9c179e"
             ],
             [
              0.4444444444444444,
              "#bd3786"
             ],
             [
              0.5555555555555556,
              "#d8576b"
             ],
             [
              0.6666666666666666,
              "#ed7953"
             ],
             [
              0.7777777777777778,
              "#fb9f3a"
             ],
             [
              0.8888888888888888,
              "#fdca26"
             ],
             [
              1,
              "#f0f921"
             ]
            ],
            "type": "histogram2dcontour"
           }
          ],
          "mesh3d": [
           {
            "colorbar": {
             "outlinewidth": 0,
             "ticks": ""
            },
            "type": "mesh3d"
           }
          ],
          "parcoords": [
           {
            "line": {
             "colorbar": {
              "outlinewidth": 0,
              "ticks": ""
             }
            },
            "type": "parcoords"
           }
          ],
          "pie": [
           {
            "automargin": true,
            "type": "pie"
           }
          ],
          "scatter": [
           {
            "marker": {
             "colorbar": {
              "outlinewidth": 0,
              "ticks": ""
             }
            },
            "type": "scatter"
           }
          ],
          "scatter3d": [
           {
            "line": {
             "colorbar": {
              "outlinewidth": 0,
              "ticks": ""
             }
            },
            "marker": {
             "colorbar": {
              "outlinewidth": 0,
              "ticks": ""
             }
            },
            "type": "scatter3d"
           }
          ],
          "scattercarpet": [
           {
            "marker": {
             "colorbar": {
              "outlinewidth": 0,
              "ticks": ""
             }
            },
            "type": "scattercarpet"
           }
          ],
          "scattergeo": [
           {
            "marker": {
             "colorbar": {
              "outlinewidth": 0,
              "ticks": ""
             }
            },
            "type": "scattergeo"
           }
          ],
          "scattergl": [
           {
            "marker": {
             "colorbar": {
              "outlinewidth": 0,
              "ticks": ""
             }
            },
            "type": "scattergl"
           }
          ],
          "scattermapbox": [
           {
            "marker": {
             "colorbar": {
              "outlinewidth": 0,
              "ticks": ""
             }
            },
            "type": "scattermapbox"
           }
          ],
          "scatterpolar": [
           {
            "marker": {
             "colorbar": {
              "outlinewidth": 0,
              "ticks": ""
             }
            },
            "type": "scatterpolar"
           }
          ],
          "scatterpolargl": [
           {
            "marker": {
             "colorbar": {
              "outlinewidth": 0,
              "ticks": ""
             }
            },
            "type": "scatterpolargl"
           }
          ],
          "scatterternary": [
           {
            "marker": {
             "colorbar": {
              "outlinewidth": 0,
              "ticks": ""
             }
            },
            "type": "scatterternary"
           }
          ],
          "surface": [
           {
            "colorbar": {
             "outlinewidth": 0,
             "ticks": ""
            },
            "colorscale": [
             [
              0,
              "#0d0887"
             ],
             [
              0.1111111111111111,
              "#46039f"
             ],
             [
              0.2222222222222222,
              "#7201a8"
             ],
             [
              0.3333333333333333,
              "#9c179e"
             ],
             [
              0.4444444444444444,
              "#bd3786"
             ],
             [
              0.5555555555555556,
              "#d8576b"
             ],
             [
              0.6666666666666666,
              "#ed7953"
             ],
             [
              0.7777777777777778,
              "#fb9f3a"
             ],
             [
              0.8888888888888888,
              "#fdca26"
             ],
             [
              1,
              "#f0f921"
             ]
            ],
            "type": "surface"
           }
          ],
          "table": [
           {
            "cells": {
             "fill": {
              "color": "#EBF0F8"
             },
             "line": {
              "color": "white"
             }
            },
            "header": {
             "fill": {
              "color": "#C8D4E3"
             },
             "line": {
              "color": "white"
             }
            },
            "type": "table"
           }
          ]
         },
         "layout": {
          "annotationdefaults": {
           "arrowcolor": "#2a3f5f",
           "arrowhead": 0,
           "arrowwidth": 1
          },
          "autotypenumbers": "strict",
          "coloraxis": {
           "colorbar": {
            "outlinewidth": 0,
            "ticks": ""
           }
          },
          "colorscale": {
           "diverging": [
            [
             0,
             "#8e0152"
            ],
            [
             0.1,
             "#c51b7d"
            ],
            [
             0.2,
             "#de77ae"
            ],
            [
             0.3,
             "#f1b6da"
            ],
            [
             0.4,
             "#fde0ef"
            ],
            [
             0.5,
             "#f7f7f7"
            ],
            [
             0.6,
             "#e6f5d0"
            ],
            [
             0.7,
             "#b8e186"
            ],
            [
             0.8,
             "#7fbc41"
            ],
            [
             0.9,
             "#4d9221"
            ],
            [
             1,
             "#276419"
            ]
           ],
           "sequential": [
            [
             0,
             "#0d0887"
            ],
            [
             0.1111111111111111,
             "#46039f"
            ],
            [
             0.2222222222222222,
             "#7201a8"
            ],
            [
             0.3333333333333333,
             "#9c179e"
            ],
            [
             0.4444444444444444,
             "#bd3786"
            ],
            [
             0.5555555555555556,
             "#d8576b"
            ],
            [
             0.6666666666666666,
             "#ed7953"
            ],
            [
             0.7777777777777778,
             "#fb9f3a"
            ],
            [
             0.8888888888888888,
             "#fdca26"
            ],
            [
             1,
             "#f0f921"
            ]
           ],
           "sequentialminus": [
            [
             0,
             "#0d0887"
            ],
            [
             0.1111111111111111,
             "#46039f"
            ],
            [
             0.2222222222222222,
             "#7201a8"
            ],
            [
             0.3333333333333333,
             "#9c179e"
            ],
            [
             0.4444444444444444,
             "#bd3786"
            ],
            [
             0.5555555555555556,
             "#d8576b"
            ],
            [
             0.6666666666666666,
             "#ed7953"
            ],
            [
             0.7777777777777778,
             "#fb9f3a"
            ],
            [
             0.8888888888888888,
             "#fdca26"
            ],
            [
             1,
             "#f0f921"
            ]
           ]
          },
          "colorway": [
           "#636efa",
           "#EF553B",
           "#00cc96",
           "#ab63fa",
           "#FFA15A",
           "#19d3f3",
           "#FF6692",
           "#B6E880",
           "#FF97FF",
           "#FECB52"
          ],
          "font": {
           "color": "#2a3f5f"
          },
          "geo": {
           "bgcolor": "white",
           "lakecolor": "white",
           "landcolor": "#E5ECF6",
           "showlakes": true,
           "showland": true,
           "subunitcolor": "white"
          },
          "hoverlabel": {
           "align": "left"
          },
          "hovermode": "closest",
          "mapbox": {
           "style": "light"
          },
          "paper_bgcolor": "white",
          "plot_bgcolor": "#E5ECF6",
          "polar": {
           "angularaxis": {
            "gridcolor": "white",
            "linecolor": "white",
            "ticks": ""
           },
           "bgcolor": "#E5ECF6",
           "radialaxis": {
            "gridcolor": "white",
            "linecolor": "white",
            "ticks": ""
           }
          },
          "scene": {
           "xaxis": {
            "backgroundcolor": "#E5ECF6",
            "gridcolor": "white",
            "gridwidth": 2,
            "linecolor": "white",
            "showbackground": true,
            "ticks": "",
            "zerolinecolor": "white"
           },
           "yaxis": {
            "backgroundcolor": "#E5ECF6",
            "gridcolor": "white",
            "gridwidth": 2,
            "linecolor": "white",
            "showbackground": true,
            "ticks": "",
            "zerolinecolor": "white"
           },
           "zaxis": {
            "backgroundcolor": "#E5ECF6",
            "gridcolor": "white",
            "gridwidth": 2,
            "linecolor": "white",
            "showbackground": true,
            "ticks": "",
            "zerolinecolor": "white"
           }
          },
          "shapedefaults": {
           "line": {
            "color": "#2a3f5f"
           }
          },
          "ternary": {
           "aaxis": {
            "gridcolor": "white",
            "linecolor": "white",
            "ticks": ""
           },
           "baxis": {
            "gridcolor": "white",
            "linecolor": "white",
            "ticks": ""
           },
           "bgcolor": "#E5ECF6",
           "caxis": {
            "gridcolor": "white",
            "linecolor": "white",
            "ticks": ""
           }
          },
          "title": {
           "x": 0.05
          },
          "xaxis": {
           "automargin": true,
           "gridcolor": "white",
           "linecolor": "white",
           "ticks": "",
           "title": {
            "standoff": 15
           },
           "zerolinecolor": "white",
           "zerolinewidth": 2
          },
          "yaxis": {
           "automargin": true,
           "gridcolor": "white",
           "linecolor": "white",
           "ticks": "",
           "title": {
            "standoff": 15
           },
           "zerolinecolor": "white",
           "zerolinewidth": 2
          }
         }
        },
        "xaxis": {
         "anchor": "y",
         "domain": [
          0,
          1
         ],
         "showgrid": false,
         "title": {
          "text": "year"
         }
        },
        "yaxis": {
         "anchor": "x",
         "domain": [
          0,
          1
         ],
         "gridcolor": "rgba(225, 225, 225, .5)",
         "title": {
          "text": "Contents amount own by distributor"
         }
        }
       }
      }
     },
     "metadata": {},
     "output_type": "display_data"
    }
   ],
   "source": [
    "df = data.copy()\n",
    "df['distributor'].replace('no_data', np.nan, inplace  = True)\n",
    "df = df.dropna()\n",
    "df['distr'] = df['distributor'].apply(lambda x :  x.replace(' ,',',').replace(', ',',').split(',')) \n",
    "\n",
    "df_new = pd.DataFrame()\n",
    "j = 0\n",
    "for index, i in df['distr'].iteritems(): \n",
    "    for n in range(len(i)):\n",
    "        w = i[n]\n",
    "        df_new.loc[j, 'distributor'] = w\n",
    "        df_new.loc[j, 'release_year'] = df._get_value(index, 'release_year')\n",
    "        j += 1\n",
    "df = df_new[['release_year', 'distributor']].groupby('distributor')['release_year'].value_counts().unstack()\n",
    "df = df.stack().reset_index()\n",
    "df.columns = ['distributor','year','val']\n",
    "df = df[(df.year >= 2008)&(df.year < 2022)]\n",
    "df = df.sort_values(by='val', ascending=False)[:50]\n",
    "fig = px.histogram(df, x=\"year\", y=\"val\", color='distributor', color_discrete_sequence=colors)\n",
    "\n",
    "fig.update_traces( marker=dict(line=dict(width=2)),textfont=dict(family=\"Arial, san serif\",size=16,color=\"#212529\"),hoverlabel=dict(font_size=14,font_family=\"Arial, san serif\", font_color='white'))\n",
    "\n",
    "fig.update_layout(\n",
    "    yaxis_title=\"Contents amount own by distributor\",\n",
    "    legend_title=\"Distributors\",\n",
    "    margin=margin, yaxis_gridcolor ='rgba(225, 225, 225, .5)',  xaxis_showgrid=False,\n",
    "        paper_bgcolor=\"#212529\", plot_bgcolor = 'rgba(0, 0, 0, 0)', hoverlabel_bordercolor='#212529',\n",
    "        font=dict(\n",
    "            family=\"Arial, san serif\",\n",
    "            size=15,\n",
    "            color=\"white\"\n",
    "        ) \n",
    "    )\n",
    "fig.write_html('visualization/twentysix.html') \n",
    "fig.show()"
   ]
  },
  {
   "cell_type": "markdown",
   "metadata": {},
   "source": [
    "### Distributor and genere correlation \n",
    "\n",
    "So let's investigate what genre are the movies that streaming services distribute. To do this we use a heat map.\n",
    "\n",
    "**Conclusion:** Amazon tends to distribute more Drama alongside the United Artists Corporation. Netflix has a lack of content for children and families, but in general, it has a wider gender distribution."
   ]
  },
  {
   "cell_type": "code",
   "execution_count": 112,
   "metadata": {},
   "outputs": [
    {
     "data": {
      "application/vnd.plotly.v1+json": {
       "config": {
        "plotlyServerURL": "https://plot.ly"
       },
       "data": [
        {
         "coloraxis": "coloraxis",
         "hoverlabel": {
          "font": {
           "color": "white",
           "family": "Arial, san serif",
           "size": 14
          }
         },
         "hovertemplate": "genre: %{x}<br>distr: %{y}<br>color: %{z}<extra></extra>",
         "name": "0",
         "textfont": {
          "color": "white",
          "family": "Arial, san serif",
          "size": 16
         },
         "type": "heatmap",
         "x": [
          "Action & adventure",
          "Children & family",
          "Commedy",
          "Documentary",
          "Drama",
          "Horror",
          "Independent",
          "International",
          "Romance",
          "Thriller"
         ],
         "xaxis": "x",
         "y": [
          "Amazon Prime",
          "BBC One",
          "Columbia Pictures",
          "InterCom",
          "Netflix",
          "Paramount Pictures",
          "UTV Motion Pictures",
          "United Artists Corporation",
          "Universal Pictures",
          "Warner Bros."
         ],
         "yaxis": "y",
         "z": [
          [
           0.08,
           0.08,
           0.23,
           0.04,
           0.36,
           0.05,
           0.01,
           0.05,
           0.03,
           0.08
          ],
          [
           0.06,
           0.01,
           0.08,
           0.08,
           0.31,
           0.02,
           0.01,
           0.35,
           0.03,
           0.03
          ],
          [
           0.19,
           0.04,
           0.25,
           0,
           0.25,
           0.03,
           0.02,
           0.03,
           0.1,
           0.08
          ],
          [
           0.26,
           0.06,
           0.18,
           0.01,
           0.22,
           0.09,
           0,
           0.01,
           0.04,
           0.12
          ],
          [
           0.1,
           0.04,
           0.15,
           0.06,
           0.23,
           0.05,
           0.05,
           0.2,
           0.05,
           0.07
          ],
          [
           0.18,
           0.06,
           0.22,
           0.01,
           0.26,
           0.05,
           0.02,
           0.04,
           0.06,
           0.1
          ],
          [
           0.09,
           0,
           0.17,
           0,
           0.25,
           0.01,
           0,
           0.37,
           0.05,
           0.06
          ],
          [
           0.12,
           0.03,
           0.18,
           0,
           0.38,
           0.07,
           0.01,
           0,
           0.11,
           0.11
          ],
          [
           0.13,
           0.05,
           0.18,
           0.02,
           0.28,
           0.07,
           0.03,
           0.08,
           0.05,
           0.12
          ],
          [
           0.18,
           0.03,
           0.16,
           0.01,
           0.26,
           0.06,
           0.03,
           0.1,
           0.05,
           0.11
          ]
         ]
        }
       ],
       "layout": {
        "coloraxis": {
         "colorscale": [
          [
           0,
           "#0f79af"
          ],
          [
           0.08333333333333333,
           "#5287c1"
          ],
          [
           0.16666666666666666,
           "#7b95d0"
          ],
          [
           0.25,
           "#a0a3de"
          ],
          [
           0.3333333333333333,
           "#c2b2ea"
          ],
          [
           0.4166666666666667,
           "#e2c1f5"
          ],
          [
           0.5,
           "#ffd2ff"
          ],
          [
           0.5833333333333334,
           "#ffb5ea"
          ],
          [
           0.6666666666666666,
           "#ff96cc"
          ],
          [
           0.75,
           "#ff76a7"
          ],
          [
           0.8333333333333334,
           "#ff547c"
          ],
          [
           0.9166666666666666,
           "#f9314c"
          ],
          [
           1,
           "#e50914"
          ]
         ]
        },
        "font": {
         "color": "white",
         "family": "Arial, san serif",
         "size": 12
        },
        "hoverlabel": {
         "bordercolor": "#212529"
        },
        "margin": {
         "b": 10,
         "l": 10,
         "r": 10,
         "t": 10
        },
        "paper_bgcolor": "#212529",
        "plot_bgcolor": "rgba(0, 0, 0, 0)",
        "template": {
         "data": {
          "bar": [
           {
            "error_x": {
             "color": "#2a3f5f"
            },
            "error_y": {
             "color": "#2a3f5f"
            },
            "marker": {
             "line": {
              "color": "#E5ECF6",
              "width": 0.5
             },
             "pattern": {
              "fillmode": "overlay",
              "size": 10,
              "solidity": 0.2
             }
            },
            "type": "bar"
           }
          ],
          "barpolar": [
           {
            "marker": {
             "line": {
              "color": "#E5ECF6",
              "width": 0.5
             },
             "pattern": {
              "fillmode": "overlay",
              "size": 10,
              "solidity": 0.2
             }
            },
            "type": "barpolar"
           }
          ],
          "carpet": [
           {
            "aaxis": {
             "endlinecolor": "#2a3f5f",
             "gridcolor": "white",
             "linecolor": "white",
             "minorgridcolor": "white",
             "startlinecolor": "#2a3f5f"
            },
            "baxis": {
             "endlinecolor": "#2a3f5f",
             "gridcolor": "white",
             "linecolor": "white",
             "minorgridcolor": "white",
             "startlinecolor": "#2a3f5f"
            },
            "type": "carpet"
           }
          ],
          "choropleth": [
           {
            "colorbar": {
             "outlinewidth": 0,
             "ticks": ""
            },
            "type": "choropleth"
           }
          ],
          "contour": [
           {
            "colorbar": {
             "outlinewidth": 0,
             "ticks": ""
            },
            "colorscale": [
             [
              0,
              "#0d0887"
             ],
             [
              0.1111111111111111,
              "#46039f"
             ],
             [
              0.2222222222222222,
              "#7201a8"
             ],
             [
              0.3333333333333333,
              "#9c179e"
             ],
             [
              0.4444444444444444,
              "#bd3786"
             ],
             [
              0.5555555555555556,
              "#d8576b"
             ],
             [
              0.6666666666666666,
              "#ed7953"
             ],
             [
              0.7777777777777778,
              "#fb9f3a"
             ],
             [
              0.8888888888888888,
              "#fdca26"
             ],
             [
              1,
              "#f0f921"
             ]
            ],
            "type": "contour"
           }
          ],
          "contourcarpet": [
           {
            "colorbar": {
             "outlinewidth": 0,
             "ticks": ""
            },
            "type": "contourcarpet"
           }
          ],
          "heatmap": [
           {
            "colorbar": {
             "outlinewidth": 0,
             "ticks": ""
            },
            "colorscale": [
             [
              0,
              "#0d0887"
             ],
             [
              0.1111111111111111,
              "#46039f"
             ],
             [
              0.2222222222222222,
              "#7201a8"
             ],
             [
              0.3333333333333333,
              "#9c179e"
             ],
             [
              0.4444444444444444,
              "#bd3786"
             ],
             [
              0.5555555555555556,
              "#d8576b"
             ],
             [
              0.6666666666666666,
              "#ed7953"
             ],
             [
              0.7777777777777778,
              "#fb9f3a"
             ],
             [
              0.8888888888888888,
              "#fdca26"
             ],
             [
              1,
              "#f0f921"
             ]
            ],
            "type": "heatmap"
           }
          ],
          "heatmapgl": [
           {
            "colorbar": {
             "outlinewidth": 0,
             "ticks": ""
            },
            "colorscale": [
             [
              0,
              "#0d0887"
             ],
             [
              0.1111111111111111,
              "#46039f"
             ],
             [
              0.2222222222222222,
              "#7201a8"
             ],
             [
              0.3333333333333333,
              "#9c179e"
             ],
             [
              0.4444444444444444,
              "#bd3786"
             ],
             [
              0.5555555555555556,
              "#d8576b"
             ],
             [
              0.6666666666666666,
              "#ed7953"
             ],
             [
              0.7777777777777778,
              "#fb9f3a"
             ],
             [
              0.8888888888888888,
              "#fdca26"
             ],
             [
              1,
              "#f0f921"
             ]
            ],
            "type": "heatmapgl"
           }
          ],
          "histogram": [
           {
            "marker": {
             "pattern": {
              "fillmode": "overlay",
              "size": 10,
              "solidity": 0.2
             }
            },
            "type": "histogram"
           }
          ],
          "histogram2d": [
           {
            "colorbar": {
             "outlinewidth": 0,
             "ticks": ""
            },
            "colorscale": [
             [
              0,
              "#0d0887"
             ],
             [
              0.1111111111111111,
              "#46039f"
             ],
             [
              0.2222222222222222,
              "#7201a8"
             ],
             [
              0.3333333333333333,
              "#9c179e"
             ],
             [
              0.4444444444444444,
              "#bd3786"
             ],
             [
              0.5555555555555556,
              "#d8576b"
             ],
             [
              0.6666666666666666,
              "#ed7953"
             ],
             [
              0.7777777777777778,
              "#fb9f3a"
             ],
             [
              0.8888888888888888,
              "#fdca26"
             ],
             [
              1,
              "#f0f921"
             ]
            ],
            "type": "histogram2d"
           }
          ],
          "histogram2dcontour": [
           {
            "colorbar": {
             "outlinewidth": 0,
             "ticks": ""
            },
            "colorscale": [
             [
              0,
              "#0d0887"
             ],
             [
              0.1111111111111111,
              "#46039f"
             ],
             [
              0.2222222222222222,
              "#7201a8"
             ],
             [
              0.3333333333333333,
              "#9c179e"
             ],
             [
              0.4444444444444444,
              "#bd3786"
             ],
             [
              0.5555555555555556,
              "#d8576b"
             ],
             [
              0.6666666666666666,
              "#ed7953"
             ],
             [
              0.7777777777777778,
              "#fb9f3a"
             ],
             [
              0.8888888888888888,
              "#fdca26"
             ],
             [
              1,
              "#f0f921"
             ]
            ],
            "type": "histogram2dcontour"
           }
          ],
          "mesh3d": [
           {
            "colorbar": {
             "outlinewidth": 0,
             "ticks": ""
            },
            "type": "mesh3d"
           }
          ],
          "parcoords": [
           {
            "line": {
             "colorbar": {
              "outlinewidth": 0,
              "ticks": ""
             }
            },
            "type": "parcoords"
           }
          ],
          "pie": [
           {
            "automargin": true,
            "type": "pie"
           }
          ],
          "scatter": [
           {
            "marker": {
             "colorbar": {
              "outlinewidth": 0,
              "ticks": ""
             }
            },
            "type": "scatter"
           }
          ],
          "scatter3d": [
           {
            "line": {
             "colorbar": {
              "outlinewidth": 0,
              "ticks": ""
             }
            },
            "marker": {
             "colorbar": {
              "outlinewidth": 0,
              "ticks": ""
             }
            },
            "type": "scatter3d"
           }
          ],
          "scattercarpet": [
           {
            "marker": {
             "colorbar": {
              "outlinewidth": 0,
              "ticks": ""
             }
            },
            "type": "scattercarpet"
           }
          ],
          "scattergeo": [
           {
            "marker": {
             "colorbar": {
              "outlinewidth": 0,
              "ticks": ""
             }
            },
            "type": "scattergeo"
           }
          ],
          "scattergl": [
           {
            "marker": {
             "colorbar": {
              "outlinewidth": 0,
              "ticks": ""
             }
            },
            "type": "scattergl"
           }
          ],
          "scattermapbox": [
           {
            "marker": {
             "colorbar": {
              "outlinewidth": 0,
              "ticks": ""
             }
            },
            "type": "scattermapbox"
           }
          ],
          "scatterpolar": [
           {
            "marker": {
             "colorbar": {
              "outlinewidth": 0,
              "ticks": ""
             }
            },
            "type": "scatterpolar"
           }
          ],
          "scatterpolargl": [
           {
            "marker": {
             "colorbar": {
              "outlinewidth": 0,
              "ticks": ""
             }
            },
            "type": "scatterpolargl"
           }
          ],
          "scatterternary": [
           {
            "marker": {
             "colorbar": {
              "outlinewidth": 0,
              "ticks": ""
             }
            },
            "type": "scatterternary"
           }
          ],
          "surface": [
           {
            "colorbar": {
             "outlinewidth": 0,
             "ticks": ""
            },
            "colorscale": [
             [
              0,
              "#0d0887"
             ],
             [
              0.1111111111111111,
              "#46039f"
             ],
             [
              0.2222222222222222,
              "#7201a8"
             ],
             [
              0.3333333333333333,
              "#9c179e"
             ],
             [
              0.4444444444444444,
              "#bd3786"
             ],
             [
              0.5555555555555556,
              "#d8576b"
             ],
             [
              0.6666666666666666,
              "#ed7953"
             ],
             [
              0.7777777777777778,
              "#fb9f3a"
             ],
             [
              0.8888888888888888,
              "#fdca26"
             ],
             [
              1,
              "#f0f921"
             ]
            ],
            "type": "surface"
           }
          ],
          "table": [
           {
            "cells": {
             "fill": {
              "color": "#EBF0F8"
             },
             "line": {
              "color": "white"
             }
            },
            "header": {
             "fill": {
              "color": "#C8D4E3"
             },
             "line": {
              "color": "white"
             }
            },
            "type": "table"
           }
          ]
         },
         "layout": {
          "annotationdefaults": {
           "arrowcolor": "#2a3f5f",
           "arrowhead": 0,
           "arrowwidth": 1
          },
          "autotypenumbers": "strict",
          "coloraxis": {
           "colorbar": {
            "outlinewidth": 0,
            "ticks": ""
           }
          },
          "colorscale": {
           "diverging": [
            [
             0,
             "#8e0152"
            ],
            [
             0.1,
             "#c51b7d"
            ],
            [
             0.2,
             "#de77ae"
            ],
            [
             0.3,
             "#f1b6da"
            ],
            [
             0.4,
             "#fde0ef"
            ],
            [
             0.5,
             "#f7f7f7"
            ],
            [
             0.6,
             "#e6f5d0"
            ],
            [
             0.7,
             "#b8e186"
            ],
            [
             0.8,
             "#7fbc41"
            ],
            [
             0.9,
             "#4d9221"
            ],
            [
             1,
             "#276419"
            ]
           ],
           "sequential": [
            [
             0,
             "#0d0887"
            ],
            [
             0.1111111111111111,
             "#46039f"
            ],
            [
             0.2222222222222222,
             "#7201a8"
            ],
            [
             0.3333333333333333,
             "#9c179e"
            ],
            [
             0.4444444444444444,
             "#bd3786"
            ],
            [
             0.5555555555555556,
             "#d8576b"
            ],
            [
             0.6666666666666666,
             "#ed7953"
            ],
            [
             0.7777777777777778,
             "#fb9f3a"
            ],
            [
             0.8888888888888888,
             "#fdca26"
            ],
            [
             1,
             "#f0f921"
            ]
           ],
           "sequentialminus": [
            [
             0,
             "#0d0887"
            ],
            [
             0.1111111111111111,
             "#46039f"
            ],
            [
             0.2222222222222222,
             "#7201a8"
            ],
            [
             0.3333333333333333,
             "#9c179e"
            ],
            [
             0.4444444444444444,
             "#bd3786"
            ],
            [
             0.5555555555555556,
             "#d8576b"
            ],
            [
             0.6666666666666666,
             "#ed7953"
            ],
            [
             0.7777777777777778,
             "#fb9f3a"
            ],
            [
             0.8888888888888888,
             "#fdca26"
            ],
            [
             1,
             "#f0f921"
            ]
           ]
          },
          "colorway": [
           "#636efa",
           "#EF553B",
           "#00cc96",
           "#ab63fa",
           "#FFA15A",
           "#19d3f3",
           "#FF6692",
           "#B6E880",
           "#FF97FF",
           "#FECB52"
          ],
          "font": {
           "color": "#2a3f5f"
          },
          "geo": {
           "bgcolor": "white",
           "lakecolor": "white",
           "landcolor": "#E5ECF6",
           "showlakes": true,
           "showland": true,
           "subunitcolor": "white"
          },
          "hoverlabel": {
           "align": "left"
          },
          "hovermode": "closest",
          "mapbox": {
           "style": "light"
          },
          "paper_bgcolor": "white",
          "plot_bgcolor": "#E5ECF6",
          "polar": {
           "angularaxis": {
            "gridcolor": "white",
            "linecolor": "white",
            "ticks": ""
           },
           "bgcolor": "#E5ECF6",
           "radialaxis": {
            "gridcolor": "white",
            "linecolor": "white",
            "ticks": ""
           }
          },
          "scene": {
           "xaxis": {
            "backgroundcolor": "#E5ECF6",
            "gridcolor": "white",
            "gridwidth": 2,
            "linecolor": "white",
            "showbackground": true,
            "ticks": "",
            "zerolinecolor": "white"
           },
           "yaxis": {
            "backgroundcolor": "#E5ECF6",
            "gridcolor": "white",
            "gridwidth": 2,
            "linecolor": "white",
            "showbackground": true,
            "ticks": "",
            "zerolinecolor": "white"
           },
           "zaxis": {
            "backgroundcolor": "#E5ECF6",
            "gridcolor": "white",
            "gridwidth": 2,
            "linecolor": "white",
            "showbackground": true,
            "ticks": "",
            "zerolinecolor": "white"
           }
          },
          "shapedefaults": {
           "line": {
            "color": "#2a3f5f"
           }
          },
          "ternary": {
           "aaxis": {
            "gridcolor": "white",
            "linecolor": "white",
            "ticks": ""
           },
           "baxis": {
            "gridcolor": "white",
            "linecolor": "white",
            "ticks": ""
           },
           "bgcolor": "#E5ECF6",
           "caxis": {
            "gridcolor": "white",
            "linecolor": "white",
            "ticks": ""
           }
          },
          "title": {
           "x": 0.05
          },
          "xaxis": {
           "automargin": true,
           "gridcolor": "white",
           "linecolor": "white",
           "ticks": "",
           "title": {
            "standoff": 15
           },
           "zerolinecolor": "white",
           "zerolinewidth": 2
          },
          "yaxis": {
           "automargin": true,
           "gridcolor": "white",
           "linecolor": "white",
           "ticks": "",
           "title": {
            "standoff": 15
           },
           "zerolinecolor": "white",
           "zerolinewidth": 2
          }
         }
        },
        "xaxis": {
         "anchor": "y",
         "domain": [
          0,
          1
         ],
         "title": {
          "text": "Genre"
         }
        },
        "yaxis": {
         "anchor": "x",
         "autorange": "reversed",
         "domain": [
          0,
          1
         ],
         "title": {
          "text": "Distributors"
         }
        }
       }
      }
     },
     "metadata": {},
     "output_type": "display_data"
    }
   ],
   "source": [
    "df = data.copy()\n",
    "df['listed_in'].replace('no_data', np.nan, inplace  = True)\n",
    "df['distributor'].replace('no_data', np.nan, inplace  = True)\n",
    "df = df.query('listed_in.notnull() & distributor.notnull()')\n",
    "df['distr'] = df['distributor'].apply(lambda x :  x.replace(' ,',',').replace(', ',',').split(',')) \n",
    "df['genre'] = df['listed_in'].apply(lambda x :  x.replace(' ,',',').replace(', ',',').split(',')) \n",
    "genre = []\n",
    "distr = []\n",
    "year = []\n",
    "for i, x in df['genre'].iteritems():\n",
    "    for n in range(len(x)):\n",
    "        k = df._get_value(i, 'distr')\n",
    "        for num in range(len(k)):\n",
    "            genre.append(x[n])\n",
    "            distr.append(k[num])\n",
    "            \n",
    "df = pd.DataFrame()\n",
    "df['distr'] = distr\n",
    "df['genre'] = genre\n",
    "df['count'] = 1\n",
    "\n",
    "g = df.groupby('genre')[['genre','count']].sum().sort_values(by='count',ascending=False).reset_index()[:10]\n",
    "g = g['genre']\n",
    "\n",
    "d = df.groupby('distr')[['distr','count']].sum().sort_values(by='count',ascending=False).reset_index()[:10]\n",
    "d = d['distr']\n",
    "\n",
    "df_heatmap = df.loc[df['genre'].isin(g) & df['distr'].isin(d)]\n",
    "df_heatmap = pd.crosstab(df_heatmap['distr'],df_heatmap['genre'],normalize = \"index\")\n",
    "for x in df_heatmap.columns.to_list():\n",
    "    df_heatmap[x] = pd.Series([round(val, 2) for val in df_heatmap[x]], index = df_heatmap.index)\n",
    "fig = px.imshow(df_heatmap, color_continuous_scale=colors, aspect=\"auto\")\n",
    "\n",
    "fig.update_traces( textfont=dict(family=\"Arial, san serif\",size=16,color=\"white\"),hoverlabel=dict(font_size=14,font_family=\"Arial, san serif\", font_color='white'))\n",
    "\n",
    "fig.update_layout(paper_bgcolor=\"#212529\", plot_bgcolor = 'rgba(0, 0, 0, 0)', hoverlabel_bordercolor='#212529', margin=margin,\n",
    "yaxis_title=\"Distributors\",\n",
    "xaxis_title=\"Genre\",\n",
    "font=dict(\n",
    "    family=\"Arial, san serif\",\n",
    "    size=12,\n",
    "    color=\"white\"\n",
    ") ) \n",
    "fig.write_html('visualization/twentyseven.html') \n",
    "fig.show()"
   ]
  },
  {
   "cell_type": "markdown",
   "metadata": {},
   "source": [
    "### Award analisys\n",
    "\n",
    "Until 2019, content not released in theatres could not participate in many major competitions, including the Oscars. To understand the correlation between distributor and prize we use a heat map. Then, we draw a histogram showing the awards and nominations amount divided by distributors.\n",
    "\n",
    "**Conclusion:** \n",
    "Of the movies on streaming platforms, Netflix and Amazon appear to have won the most generic awards, but they don't score as high in the most popular awards. Content on these platforms is more likely to win a Primetime Emmy among well-known awards. There are a few movies that have won Oscars, most of which have been distributed by Warner Bros and Paramount Pictures. Proportionately, the movies distributed by the platforms do not tend to be nominated for awards, with the most acclaimed awards received coming from TV broadcasters. We will probably have to wait a few years to see any substantial changes.\n"
   ]
  },
  {
   "cell_type": "code",
   "execution_count": 113,
   "metadata": {},
   "outputs": [
    {
     "data": {
      "application/vnd.plotly.v1+json": {
       "config": {
        "plotlyServerURL": "https://plot.ly"
       },
       "data": [
        {
         "coloraxis": "coloraxis",
         "hoverlabel": {
          "font": {
           "color": "white",
           "family": "Arial, san serif",
           "size": 14
          }
         },
         "hovertemplate": "award: %{x}<br>distr: %{y}<br>color: %{z}<extra></extra>",
         "name": "0",
         "textfont": {
          "color": "white",
          "family": "Arial, san serif",
          "size": 16
         },
         "type": "heatmap",
         "x": [
          "Awards",
          "BAFTA Award",
          "Oscar",
          "Primetime Emmy",
          "Top rated TV",
          "Top rated movie"
         ],
         "xaxis": "x",
         "y": [
          "AMC",
          "Amazon Prime",
          "BBC One",
          "CBS",
          "ITV",
          "InterCom",
          "NBC",
          "Netflix",
          "Paramount Pictures",
          "Warner Bros."
         ],
         "yaxis": "y",
         "z": [
          [
           0.02,
           0,
           0,
           0.5,
           0.48,
           0
          ],
          [
           0.44,
           0.04,
           0.03,
           0.31,
           0.17,
           0
          ],
          [
           0.19,
           0.26,
           0,
           0.34,
           0.21,
           0
          ],
          [
           0.12,
           0,
           0,
           0.88,
           0,
           0
          ],
          [
           0.11,
           0.16,
           0,
           0.32,
           0.4,
           0
          ],
          [
           0.36,
           0,
           0.42,
           0,
           0,
           0.22
          ],
          [
           0.05,
           0,
           0,
           0.72,
           0.23,
           0
          ],
          [
           0.66,
           0.02,
           0.09,
           0.16,
           0.04,
           0.02
          ],
          [
           0.49,
           0.02,
           0.38,
           0,
           0,
           0.11
          ],
          [
           0.46,
           0,
           0.37,
           0,
           0,
           0.17
          ]
         ]
        }
       ],
       "layout": {
        "coloraxis": {
         "colorscale": [
          [
           0,
           "#0f79af"
          ],
          [
           0.08333333333333333,
           "#5287c1"
          ],
          [
           0.16666666666666666,
           "#7b95d0"
          ],
          [
           0.25,
           "#a0a3de"
          ],
          [
           0.3333333333333333,
           "#c2b2ea"
          ],
          [
           0.4166666666666667,
           "#e2c1f5"
          ],
          [
           0.5,
           "#ffd2ff"
          ],
          [
           0.5833333333333334,
           "#ffb5ea"
          ],
          [
           0.6666666666666666,
           "#ff96cc"
          ],
          [
           0.75,
           "#ff76a7"
          ],
          [
           0.8333333333333334,
           "#ff547c"
          ],
          [
           0.9166666666666666,
           "#f9314c"
          ],
          [
           1,
           "#e50914"
          ]
         ]
        },
        "font": {
         "color": "white",
         "family": "Arial, san serif",
         "size": 12
        },
        "hoverlabel": {
         "bordercolor": "#212529"
        },
        "margin": {
         "b": 10,
         "l": 10,
         "r": 10,
         "t": 10
        },
        "paper_bgcolor": "#212529",
        "plot_bgcolor": "rgba(0, 0, 0, 0)",
        "template": {
         "data": {
          "bar": [
           {
            "error_x": {
             "color": "#2a3f5f"
            },
            "error_y": {
             "color": "#2a3f5f"
            },
            "marker": {
             "line": {
              "color": "#E5ECF6",
              "width": 0.5
             },
             "pattern": {
              "fillmode": "overlay",
              "size": 10,
              "solidity": 0.2
             }
            },
            "type": "bar"
           }
          ],
          "barpolar": [
           {
            "marker": {
             "line": {
              "color": "#E5ECF6",
              "width": 0.5
             },
             "pattern": {
              "fillmode": "overlay",
              "size": 10,
              "solidity": 0.2
             }
            },
            "type": "barpolar"
           }
          ],
          "carpet": [
           {
            "aaxis": {
             "endlinecolor": "#2a3f5f",
             "gridcolor": "white",
             "linecolor": "white",
             "minorgridcolor": "white",
             "startlinecolor": "#2a3f5f"
            },
            "baxis": {
             "endlinecolor": "#2a3f5f",
             "gridcolor": "white",
             "linecolor": "white",
             "minorgridcolor": "white",
             "startlinecolor": "#2a3f5f"
            },
            "type": "carpet"
           }
          ],
          "choropleth": [
           {
            "colorbar": {
             "outlinewidth": 0,
             "ticks": ""
            },
            "type": "choropleth"
           }
          ],
          "contour": [
           {
            "colorbar": {
             "outlinewidth": 0,
             "ticks": ""
            },
            "colorscale": [
             [
              0,
              "#0d0887"
             ],
             [
              0.1111111111111111,
              "#46039f"
             ],
             [
              0.2222222222222222,
              "#7201a8"
             ],
             [
              0.3333333333333333,
              "#9c179e"
             ],
             [
              0.4444444444444444,
              "#bd3786"
             ],
             [
              0.5555555555555556,
              "#d8576b"
             ],
             [
              0.6666666666666666,
              "#ed7953"
             ],
             [
              0.7777777777777778,
              "#fb9f3a"
             ],
             [
              0.8888888888888888,
              "#fdca26"
             ],
             [
              1,
              "#f0f921"
             ]
            ],
            "type": "contour"
           }
          ],
          "contourcarpet": [
           {
            "colorbar": {
             "outlinewidth": 0,
             "ticks": ""
            },
            "type": "contourcarpet"
           }
          ],
          "heatmap": [
           {
            "colorbar": {
             "outlinewidth": 0,
             "ticks": ""
            },
            "colorscale": [
             [
              0,
              "#0d0887"
             ],
             [
              0.1111111111111111,
              "#46039f"
             ],
             [
              0.2222222222222222,
              "#7201a8"
             ],
             [
              0.3333333333333333,
              "#9c179e"
             ],
             [
              0.4444444444444444,
              "#bd3786"
             ],
             [
              0.5555555555555556,
              "#d8576b"
             ],
             [
              0.6666666666666666,
              "#ed7953"
             ],
             [
              0.7777777777777778,
              "#fb9f3a"
             ],
             [
              0.8888888888888888,
              "#fdca26"
             ],
             [
              1,
              "#f0f921"
             ]
            ],
            "type": "heatmap"
           }
          ],
          "heatmapgl": [
           {
            "colorbar": {
             "outlinewidth": 0,
             "ticks": ""
            },
            "colorscale": [
             [
              0,
              "#0d0887"
             ],
             [
              0.1111111111111111,
              "#46039f"
             ],
             [
              0.2222222222222222,
              "#7201a8"
             ],
             [
              0.3333333333333333,
              "#9c179e"
             ],
             [
              0.4444444444444444,
              "#bd3786"
             ],
             [
              0.5555555555555556,
              "#d8576b"
             ],
             [
              0.6666666666666666,
              "#ed7953"
             ],
             [
              0.7777777777777778,
              "#fb9f3a"
             ],
             [
              0.8888888888888888,
              "#fdca26"
             ],
             [
              1,
              "#f0f921"
             ]
            ],
            "type": "heatmapgl"
           }
          ],
          "histogram": [
           {
            "marker": {
             "pattern": {
              "fillmode": "overlay",
              "size": 10,
              "solidity": 0.2
             }
            },
            "type": "histogram"
           }
          ],
          "histogram2d": [
           {
            "colorbar": {
             "outlinewidth": 0,
             "ticks": ""
            },
            "colorscale": [
             [
              0,
              "#0d0887"
             ],
             [
              0.1111111111111111,
              "#46039f"
             ],
             [
              0.2222222222222222,
              "#7201a8"
             ],
             [
              0.3333333333333333,
              "#9c179e"
             ],
             [
              0.4444444444444444,
              "#bd3786"
             ],
             [
              0.5555555555555556,
              "#d8576b"
             ],
             [
              0.6666666666666666,
              "#ed7953"
             ],
             [
              0.7777777777777778,
              "#fb9f3a"
             ],
             [
              0.8888888888888888,
              "#fdca26"
             ],
             [
              1,
              "#f0f921"
             ]
            ],
            "type": "histogram2d"
           }
          ],
          "histogram2dcontour": [
           {
            "colorbar": {
             "outlinewidth": 0,
             "ticks": ""
            },
            "colorscale": [
             [
              0,
              "#0d0887"
             ],
             [
              0.1111111111111111,
              "#46039f"
             ],
             [
              0.2222222222222222,
              "#7201a8"
             ],
             [
              0.3333333333333333,
              "#9c179e"
             ],
             [
              0.4444444444444444,
              "#bd3786"
             ],
             [
              0.5555555555555556,
              "#d8576b"
             ],
             [
              0.6666666666666666,
              "#ed7953"
             ],
             [
              0.7777777777777778,
              "#fb9f3a"
             ],
             [
              0.8888888888888888,
              "#fdca26"
             ],
             [
              1,
              "#f0f921"
             ]
            ],
            "type": "histogram2dcontour"
           }
          ],
          "mesh3d": [
           {
            "colorbar": {
             "outlinewidth": 0,
             "ticks": ""
            },
            "type": "mesh3d"
           }
          ],
          "parcoords": [
           {
            "line": {
             "colorbar": {
              "outlinewidth": 0,
              "ticks": ""
             }
            },
            "type": "parcoords"
           }
          ],
          "pie": [
           {
            "automargin": true,
            "type": "pie"
           }
          ],
          "scatter": [
           {
            "marker": {
             "colorbar": {
              "outlinewidth": 0,
              "ticks": ""
             }
            },
            "type": "scatter"
           }
          ],
          "scatter3d": [
           {
            "line": {
             "colorbar": {
              "outlinewidth": 0,
              "ticks": ""
             }
            },
            "marker": {
             "colorbar": {
              "outlinewidth": 0,
              "ticks": ""
             }
            },
            "type": "scatter3d"
           }
          ],
          "scattercarpet": [
           {
            "marker": {
             "colorbar": {
              "outlinewidth": 0,
              "ticks": ""
             }
            },
            "type": "scattercarpet"
           }
          ],
          "scattergeo": [
           {
            "marker": {
             "colorbar": {
              "outlinewidth": 0,
              "ticks": ""
             }
            },
            "type": "scattergeo"
           }
          ],
          "scattergl": [
           {
            "marker": {
             "colorbar": {
              "outlinewidth": 0,
              "ticks": ""
             }
            },
            "type": "scattergl"
           }
          ],
          "scattermapbox": [
           {
            "marker": {
             "colorbar": {
              "outlinewidth": 0,
              "ticks": ""
             }
            },
            "type": "scattermapbox"
           }
          ],
          "scatterpolar": [
           {
            "marker": {
             "colorbar": {
              "outlinewidth": 0,
              "ticks": ""
             }
            },
            "type": "scatterpolar"
           }
          ],
          "scatterpolargl": [
           {
            "marker": {
             "colorbar": {
              "outlinewidth": 0,
              "ticks": ""
             }
            },
            "type": "scatterpolargl"
           }
          ],
          "scatterternary": [
           {
            "marker": {
             "colorbar": {
              "outlinewidth": 0,
              "ticks": ""
             }
            },
            "type": "scatterternary"
           }
          ],
          "surface": [
           {
            "colorbar": {
             "outlinewidth": 0,
             "ticks": ""
            },
            "colorscale": [
             [
              0,
              "#0d0887"
             ],
             [
              0.1111111111111111,
              "#46039f"
             ],
             [
              0.2222222222222222,
              "#7201a8"
             ],
             [
              0.3333333333333333,
              "#9c179e"
             ],
             [
              0.4444444444444444,
              "#bd3786"
             ],
             [
              0.5555555555555556,
              "#d8576b"
             ],
             [
              0.6666666666666666,
              "#ed7953"
             ],
             [
              0.7777777777777778,
              "#fb9f3a"
             ],
             [
              0.8888888888888888,
              "#fdca26"
             ],
             [
              1,
              "#f0f921"
             ]
            ],
            "type": "surface"
           }
          ],
          "table": [
           {
            "cells": {
             "fill": {
              "color": "#EBF0F8"
             },
             "line": {
              "color": "white"
             }
            },
            "header": {
             "fill": {
              "color": "#C8D4E3"
             },
             "line": {
              "color": "white"
             }
            },
            "type": "table"
           }
          ]
         },
         "layout": {
          "annotationdefaults": {
           "arrowcolor": "#2a3f5f",
           "arrowhead": 0,
           "arrowwidth": 1
          },
          "autotypenumbers": "strict",
          "coloraxis": {
           "colorbar": {
            "outlinewidth": 0,
            "ticks": ""
           }
          },
          "colorscale": {
           "diverging": [
            [
             0,
             "#8e0152"
            ],
            [
             0.1,
             "#c51b7d"
            ],
            [
             0.2,
             "#de77ae"
            ],
            [
             0.3,
             "#f1b6da"
            ],
            [
             0.4,
             "#fde0ef"
            ],
            [
             0.5,
             "#f7f7f7"
            ],
            [
             0.6,
             "#e6f5d0"
            ],
            [
             0.7,
             "#b8e186"
            ],
            [
             0.8,
             "#7fbc41"
            ],
            [
             0.9,
             "#4d9221"
            ],
            [
             1,
             "#276419"
            ]
           ],
           "sequential": [
            [
             0,
             "#0d0887"
            ],
            [
             0.1111111111111111,
             "#46039f"
            ],
            [
             0.2222222222222222,
             "#7201a8"
            ],
            [
             0.3333333333333333,
             "#9c179e"
            ],
            [
             0.4444444444444444,
             "#bd3786"
            ],
            [
             0.5555555555555556,
             "#d8576b"
            ],
            [
             0.6666666666666666,
             "#ed7953"
            ],
            [
             0.7777777777777778,
             "#fb9f3a"
            ],
            [
             0.8888888888888888,
             "#fdca26"
            ],
            [
             1,
             "#f0f921"
            ]
           ],
           "sequentialminus": [
            [
             0,
             "#0d0887"
            ],
            [
             0.1111111111111111,
             "#46039f"
            ],
            [
             0.2222222222222222,
             "#7201a8"
            ],
            [
             0.3333333333333333,
             "#9c179e"
            ],
            [
             0.4444444444444444,
             "#bd3786"
            ],
            [
             0.5555555555555556,
             "#d8576b"
            ],
            [
             0.6666666666666666,
             "#ed7953"
            ],
            [
             0.7777777777777778,
             "#fb9f3a"
            ],
            [
             0.8888888888888888,
             "#fdca26"
            ],
            [
             1,
             "#f0f921"
            ]
           ]
          },
          "colorway": [
           "#636efa",
           "#EF553B",
           "#00cc96",
           "#ab63fa",
           "#FFA15A",
           "#19d3f3",
           "#FF6692",
           "#B6E880",
           "#FF97FF",
           "#FECB52"
          ],
          "font": {
           "color": "#2a3f5f"
          },
          "geo": {
           "bgcolor": "white",
           "lakecolor": "white",
           "landcolor": "#E5ECF6",
           "showlakes": true,
           "showland": true,
           "subunitcolor": "white"
          },
          "hoverlabel": {
           "align": "left"
          },
          "hovermode": "closest",
          "mapbox": {
           "style": "light"
          },
          "paper_bgcolor": "white",
          "plot_bgcolor": "#E5ECF6",
          "polar": {
           "angularaxis": {
            "gridcolor": "white",
            "linecolor": "white",
            "ticks": ""
           },
           "bgcolor": "#E5ECF6",
           "radialaxis": {
            "gridcolor": "white",
            "linecolor": "white",
            "ticks": ""
           }
          },
          "scene": {
           "xaxis": {
            "backgroundcolor": "#E5ECF6",
            "gridcolor": "white",
            "gridwidth": 2,
            "linecolor": "white",
            "showbackground": true,
            "ticks": "",
            "zerolinecolor": "white"
           },
           "yaxis": {
            "backgroundcolor": "#E5ECF6",
            "gridcolor": "white",
            "gridwidth": 2,
            "linecolor": "white",
            "showbackground": true,
            "ticks": "",
            "zerolinecolor": "white"
           },
           "zaxis": {
            "backgroundcolor": "#E5ECF6",
            "gridcolor": "white",
            "gridwidth": 2,
            "linecolor": "white",
            "showbackground": true,
            "ticks": "",
            "zerolinecolor": "white"
           }
          },
          "shapedefaults": {
           "line": {
            "color": "#2a3f5f"
           }
          },
          "ternary": {
           "aaxis": {
            "gridcolor": "white",
            "linecolor": "white",
            "ticks": ""
           },
           "baxis": {
            "gridcolor": "white",
            "linecolor": "white",
            "ticks": ""
           },
           "bgcolor": "#E5ECF6",
           "caxis": {
            "gridcolor": "white",
            "linecolor": "white",
            "ticks": ""
           }
          },
          "title": {
           "x": 0.05
          },
          "xaxis": {
           "automargin": true,
           "gridcolor": "white",
           "linecolor": "white",
           "ticks": "",
           "title": {
            "standoff": 15
           },
           "zerolinecolor": "white",
           "zerolinewidth": 2
          },
          "yaxis": {
           "automargin": true,
           "gridcolor": "white",
           "linecolor": "white",
           "ticks": "",
           "title": {
            "standoff": 15
           },
           "zerolinecolor": "white",
           "zerolinewidth": 2
          }
         }
        },
        "xaxis": {
         "anchor": "y",
         "domain": [
          0,
          1
         ],
         "title": {
          "text": "Awards"
         }
        },
        "yaxis": {
         "anchor": "x",
         "autorange": "reversed",
         "domain": [
          0,
          1
         ],
         "title": {
          "text": "Distributors"
         }
        }
       }
      }
     },
     "metadata": {},
     "output_type": "display_data"
    }
   ],
   "source": [
    "df = data.copy()\n",
    "df['special_award_tot'].replace('no_data', np.nan, inplace  = True)\n",
    "df['special_award_name'].replace('no_data', np.nan, inplace  = True)\n",
    "df['distributor'].replace('no_data', np.nan, inplace  = True)\n",
    "df = df.query('special_award_name.notnull() & distributor.notnull()')\n",
    "df[['special_award_name', 'special_award_tot', 'distributor']]\n",
    "\n",
    "df['distr'] = df['distributor'].apply(lambda x :  x.replace(' ,',',').replace(', ',',').split(',')) \n",
    "df['special'] = df['special_award_name'].apply(lambda x :  x.replace(' ,',',').replace(', ',',').split(',')) \n",
    "df['tot'] = df['special_award_tot'].apply(lambda x :  x.replace(' ,',',').replace(', ',',').split(',')) \n",
    "spe = []\n",
    "distr = []\n",
    "for i, x in df['distr'].iteritems():\n",
    "    for n in range(len(x)):\n",
    "        k = df._get_value(i, 'special')\n",
    "        for num in range(len(k)):\n",
    "            t = df._get_value(i, 'tot')\n",
    "            for tot in t:\n",
    "                for u in range(int(tot)):\n",
    "                    spe.append(k[num])\n",
    "                    distr.append(x[n])\n",
    "\n",
    "df = pd.DataFrame()\n",
    "df['distr'] = distr\n",
    "df['award'] = spe\n",
    "df['count'] = 1\n",
    "\n",
    "s = df.groupby('award')[['award','count']].sum().sort_values(by='count',ascending=False).reset_index()[:10]\n",
    "s = s['award']\n",
    "\n",
    "d = df.groupby('distr')[['distr','count']].sum().sort_values(by='count',ascending=False).reset_index()[:10]\n",
    "d = d['distr']\n",
    "d\n",
    "\n",
    "df_heatmap = df.loc[df['award'].isin(s) & df['distr'].isin(d)]\n",
    "df_heatmap = pd.crosstab(df_heatmap['distr'],df_heatmap['award'],normalize = \"index\")\n",
    "for x in df_heatmap.columns.to_list():\n",
    "    df_heatmap[x] = pd.Series([round(val, 2) for val in df_heatmap[x]], index = df_heatmap.index)\n",
    "fig = px.imshow(df_heatmap, color_continuous_scale=colors, aspect=\"auto\")\n",
    "\n",
    "fig.update_traces( textfont=dict(family=\"Arial, san serif\",size=16,color=\"white\"),hoverlabel=dict(font_size=14,font_family=\"Arial, san serif\", font_color='white'))\n",
    "\n",
    "fig.update_layout(paper_bgcolor=\"#212529\", plot_bgcolor = 'rgba(0, 0, 0, 0)', hoverlabel_bordercolor='#212529', margin=margin,\n",
    "yaxis_title=\"Distributors\",\n",
    "xaxis_title=\"Awards\",\n",
    "font=dict(\n",
    "    family=\"Arial, san serif\",\n",
    "    size=12,\n",
    "    color=\"white\"\n",
    ") ) \n",
    "fig.write_html('visualization/twentyeight.html') \n",
    "fig.show()"
   ]
  },
  {
   "cell_type": "code",
   "execution_count": 114,
   "metadata": {},
   "outputs": [
    {
     "name": "stderr",
     "output_type": "stream",
     "text": [
      "/var/folders/3g/t_1rwv_57vz466tvccx4d6gm0000gn/T/ipykernel_32588/1898950743.py:19: FutureWarning:\n",
      "\n",
      "Indexing with multiple keys (implicitly converted to a tuple of keys) will be deprecated, use a list instead.\n",
      "\n"
     ]
    },
    {
     "data": {
      "application/vnd.plotly.v1+json": {
       "config": {
        "plotlyServerURL": "https://plot.ly"
       },
       "data": [
        {
         "alignmentgroup": "True",
         "bingroup": "x",
         "histfunc": "sum",
         "hoverlabel": {
          "font": {
           "color": "white",
           "family": "Arial, san serif",
           "size": 14
          }
         },
         "hovertemplate": "val_name=Award nomination<br>distr=%{x}<br>sum of val=%{y}<extra></extra>",
         "legendgroup": "Award nomination",
         "marker": {
          "color": "#ff547c",
          "pattern": {
           "shape": ""
          }
         },
         "name": "Award nomination",
         "offsetgroup": "Award nomination",
         "orientation": "v",
         "showlegend": true,
         "textfont": {
          "color": "#212529",
          "family": "Arial, san serif",
          "size": 16
         },
         "type": "histogram",
         "x": [
          "Netflix",
          "Paramount Pictures",
          "Amazon Prime",
          "Warner Bros.",
          "InterCom",
          "Columbia Pictures",
          "Universal Pictures",
          "UIP-Dunafilm",
          "NBC",
          "BBC One"
         ],
         "xaxis": "x",
         "y": [
          17,
          17,
          24,
          22,
          45,
          9,
          12,
          48,
          81,
          17
         ],
         "yaxis": "y"
        },
        {
         "alignmentgroup": "True",
         "bingroup": "x",
         "histfunc": "sum",
         "hoverlabel": {
          "font": {
           "color": "white",
           "family": "Arial, san serif",
           "size": 14
          }
         },
         "hovertemplate": "val_name=Award win<br>distr=%{x}<br>sum of val=%{y}<extra></extra>",
         "legendgroup": "Award win",
         "marker": {
          "color": "#a0a3de",
          "pattern": {
           "shape": ""
          }
         },
         "name": "Award win",
         "offsetgroup": "Award win",
         "orientation": "v",
         "showlegend": true,
         "textfont": {
          "color": "#212529",
          "family": "Arial, san serif",
          "size": 16
         },
         "type": "histogram",
         "x": [
          "Netflix",
          "Paramount Pictures",
          "Amazon Prime",
          "Warner Bros.",
          "InterCom",
          "Columbia Pictures",
          "Universal Pictures",
          "UIP-Dunafilm",
          "NBC",
          "BBC One"
         ],
         "xaxis": "x",
         "y": [
          8,
          7,
          8,
          11,
          27,
          3,
          5,
          17,
          25,
          9
         ],
         "yaxis": "y"
        }
       ],
       "layout": {
        "barmode": "group",
        "font": {
         "color": "white",
         "family": "Arial, san serif",
         "size": 15
        },
        "hoverlabel": {
         "bordercolor": "#212529"
        },
        "legend": {
         "title": {
          "text": "Awards type"
         },
         "tracegroupgap": 0
        },
        "margin": {
         "b": 10,
         "l": 10,
         "r": 10,
         "t": 10
        },
        "paper_bgcolor": "#212529",
        "plot_bgcolor": "rgba(0, 0, 0, 0)",
        "template": {
         "data": {
          "bar": [
           {
            "error_x": {
             "color": "#2a3f5f"
            },
            "error_y": {
             "color": "#2a3f5f"
            },
            "marker": {
             "line": {
              "color": "#E5ECF6",
              "width": 0.5
             },
             "pattern": {
              "fillmode": "overlay",
              "size": 10,
              "solidity": 0.2
             }
            },
            "type": "bar"
           }
          ],
          "barpolar": [
           {
            "marker": {
             "line": {
              "color": "#E5ECF6",
              "width": 0.5
             },
             "pattern": {
              "fillmode": "overlay",
              "size": 10,
              "solidity": 0.2
             }
            },
            "type": "barpolar"
           }
          ],
          "carpet": [
           {
            "aaxis": {
             "endlinecolor": "#2a3f5f",
             "gridcolor": "white",
             "linecolor": "white",
             "minorgridcolor": "white",
             "startlinecolor": "#2a3f5f"
            },
            "baxis": {
             "endlinecolor": "#2a3f5f",
             "gridcolor": "white",
             "linecolor": "white",
             "minorgridcolor": "white",
             "startlinecolor": "#2a3f5f"
            },
            "type": "carpet"
           }
          ],
          "choropleth": [
           {
            "colorbar": {
             "outlinewidth": 0,
             "ticks": ""
            },
            "type": "choropleth"
           }
          ],
          "contour": [
           {
            "colorbar": {
             "outlinewidth": 0,
             "ticks": ""
            },
            "colorscale": [
             [
              0,
              "#0d0887"
             ],
             [
              0.1111111111111111,
              "#46039f"
             ],
             [
              0.2222222222222222,
              "#7201a8"
             ],
             [
              0.3333333333333333,
              "#9c179e"
             ],
             [
              0.4444444444444444,
              "#bd3786"
             ],
             [
              0.5555555555555556,
              "#d8576b"
             ],
             [
              0.6666666666666666,
              "#ed7953"
             ],
             [
              0.7777777777777778,
              "#fb9f3a"
             ],
             [
              0.8888888888888888,
              "#fdca26"
             ],
             [
              1,
              "#f0f921"
             ]
            ],
            "type": "contour"
           }
          ],
          "contourcarpet": [
           {
            "colorbar": {
             "outlinewidth": 0,
             "ticks": ""
            },
            "type": "contourcarpet"
           }
          ],
          "heatmap": [
           {
            "colorbar": {
             "outlinewidth": 0,
             "ticks": ""
            },
            "colorscale": [
             [
              0,
              "#0d0887"
             ],
             [
              0.1111111111111111,
              "#46039f"
             ],
             [
              0.2222222222222222,
              "#7201a8"
             ],
             [
              0.3333333333333333,
              "#9c179e"
             ],
             [
              0.4444444444444444,
              "#bd3786"
             ],
             [
              0.5555555555555556,
              "#d8576b"
             ],
             [
              0.6666666666666666,
              "#ed7953"
             ],
             [
              0.7777777777777778,
              "#fb9f3a"
             ],
             [
              0.8888888888888888,
              "#fdca26"
             ],
             [
              1,
              "#f0f921"
             ]
            ],
            "type": "heatmap"
           }
          ],
          "heatmapgl": [
           {
            "colorbar": {
             "outlinewidth": 0,
             "ticks": ""
            },
            "colorscale": [
             [
              0,
              "#0d0887"
             ],
             [
              0.1111111111111111,
              "#46039f"
             ],
             [
              0.2222222222222222,
              "#7201a8"
             ],
             [
              0.3333333333333333,
              "#9c179e"
             ],
             [
              0.4444444444444444,
              "#bd3786"
             ],
             [
              0.5555555555555556,
              "#d8576b"
             ],
             [
              0.6666666666666666,
              "#ed7953"
             ],
             [
              0.7777777777777778,
              "#fb9f3a"
             ],
             [
              0.8888888888888888,
              "#fdca26"
             ],
             [
              1,
              "#f0f921"
             ]
            ],
            "type": "heatmapgl"
           }
          ],
          "histogram": [
           {
            "marker": {
             "pattern": {
              "fillmode": "overlay",
              "size": 10,
              "solidity": 0.2
             }
            },
            "type": "histogram"
           }
          ],
          "histogram2d": [
           {
            "colorbar": {
             "outlinewidth": 0,
             "ticks": ""
            },
            "colorscale": [
             [
              0,
              "#0d0887"
             ],
             [
              0.1111111111111111,
              "#46039f"
             ],
             [
              0.2222222222222222,
              "#7201a8"
             ],
             [
              0.3333333333333333,
              "#9c179e"
             ],
             [
              0.4444444444444444,
              "#bd3786"
             ],
             [
              0.5555555555555556,
              "#d8576b"
             ],
             [
              0.6666666666666666,
              "#ed7953"
             ],
             [
              0.7777777777777778,
              "#fb9f3a"
             ],
             [
              0.8888888888888888,
              "#fdca26"
             ],
             [
              1,
              "#f0f921"
             ]
            ],
            "type": "histogram2d"
           }
          ],
          "histogram2dcontour": [
           {
            "colorbar": {
             "outlinewidth": 0,
             "ticks": ""
            },
            "colorscale": [
             [
              0,
              "#0d0887"
             ],
             [
              0.1111111111111111,
              "#46039f"
             ],
             [
              0.2222222222222222,
              "#7201a8"
             ],
             [
              0.3333333333333333,
              "#9c179e"
             ],
             [
              0.4444444444444444,
              "#bd3786"
             ],
             [
              0.5555555555555556,
              "#d8576b"
             ],
             [
              0.6666666666666666,
              "#ed7953"
             ],
             [
              0.7777777777777778,
              "#fb9f3a"
             ],
             [
              0.8888888888888888,
              "#fdca26"
             ],
             [
              1,
              "#f0f921"
             ]
            ],
            "type": "histogram2dcontour"
           }
          ],
          "mesh3d": [
           {
            "colorbar": {
             "outlinewidth": 0,
             "ticks": ""
            },
            "type": "mesh3d"
           }
          ],
          "parcoords": [
           {
            "line": {
             "colorbar": {
              "outlinewidth": 0,
              "ticks": ""
             }
            },
            "type": "parcoords"
           }
          ],
          "pie": [
           {
            "automargin": true,
            "type": "pie"
           }
          ],
          "scatter": [
           {
            "marker": {
             "colorbar": {
              "outlinewidth": 0,
              "ticks": ""
             }
            },
            "type": "scatter"
           }
          ],
          "scatter3d": [
           {
            "line": {
             "colorbar": {
              "outlinewidth": 0,
              "ticks": ""
             }
            },
            "marker": {
             "colorbar": {
              "outlinewidth": 0,
              "ticks": ""
             }
            },
            "type": "scatter3d"
           }
          ],
          "scattercarpet": [
           {
            "marker": {
             "colorbar": {
              "outlinewidth": 0,
              "ticks": ""
             }
            },
            "type": "scattercarpet"
           }
          ],
          "scattergeo": [
           {
            "marker": {
             "colorbar": {
              "outlinewidth": 0,
              "ticks": ""
             }
            },
            "type": "scattergeo"
           }
          ],
          "scattergl": [
           {
            "marker": {
             "colorbar": {
              "outlinewidth": 0,
              "ticks": ""
             }
            },
            "type": "scattergl"
           }
          ],
          "scattermapbox": [
           {
            "marker": {
             "colorbar": {
              "outlinewidth": 0,
              "ticks": ""
             }
            },
            "type": "scattermapbox"
           }
          ],
          "scatterpolar": [
           {
            "marker": {
             "colorbar": {
              "outlinewidth": 0,
              "ticks": ""
             }
            },
            "type": "scatterpolar"
           }
          ],
          "scatterpolargl": [
           {
            "marker": {
             "colorbar": {
              "outlinewidth": 0,
              "ticks": ""
             }
            },
            "type": "scatterpolargl"
           }
          ],
          "scatterternary": [
           {
            "marker": {
             "colorbar": {
              "outlinewidth": 0,
              "ticks": ""
             }
            },
            "type": "scatterternary"
           }
          ],
          "surface": [
           {
            "colorbar": {
             "outlinewidth": 0,
             "ticks": ""
            },
            "colorscale": [
             [
              0,
              "#0d0887"
             ],
             [
              0.1111111111111111,
              "#46039f"
             ],
             [
              0.2222222222222222,
              "#7201a8"
             ],
             [
              0.3333333333333333,
              "#9c179e"
             ],
             [
              0.4444444444444444,
              "#bd3786"
             ],
             [
              0.5555555555555556,
              "#d8576b"
             ],
             [
              0.6666666666666666,
              "#ed7953"
             ],
             [
              0.7777777777777778,
              "#fb9f3a"
             ],
             [
              0.8888888888888888,
              "#fdca26"
             ],
             [
              1,
              "#f0f921"
             ]
            ],
            "type": "surface"
           }
          ],
          "table": [
           {
            "cells": {
             "fill": {
              "color": "#EBF0F8"
             },
             "line": {
              "color": "white"
             }
            },
            "header": {
             "fill": {
              "color": "#C8D4E3"
             },
             "line": {
              "color": "white"
             }
            },
            "type": "table"
           }
          ]
         },
         "layout": {
          "annotationdefaults": {
           "arrowcolor": "#2a3f5f",
           "arrowhead": 0,
           "arrowwidth": 1
          },
          "autotypenumbers": "strict",
          "coloraxis": {
           "colorbar": {
            "outlinewidth": 0,
            "ticks": ""
           }
          },
          "colorscale": {
           "diverging": [
            [
             0,
             "#8e0152"
            ],
            [
             0.1,
             "#c51b7d"
            ],
            [
             0.2,
             "#de77ae"
            ],
            [
             0.3,
             "#f1b6da"
            ],
            [
             0.4,
             "#fde0ef"
            ],
            [
             0.5,
             "#f7f7f7"
            ],
            [
             0.6,
             "#e6f5d0"
            ],
            [
             0.7,
             "#b8e186"
            ],
            [
             0.8,
             "#7fbc41"
            ],
            [
             0.9,
             "#4d9221"
            ],
            [
             1,
             "#276419"
            ]
           ],
           "sequential": [
            [
             0,
             "#0d0887"
            ],
            [
             0.1111111111111111,
             "#46039f"
            ],
            [
             0.2222222222222222,
             "#7201a8"
            ],
            [
             0.3333333333333333,
             "#9c179e"
            ],
            [
             0.4444444444444444,
             "#bd3786"
            ],
            [
             0.5555555555555556,
             "#d8576b"
            ],
            [
             0.6666666666666666,
             "#ed7953"
            ],
            [
             0.7777777777777778,
             "#fb9f3a"
            ],
            [
             0.8888888888888888,
             "#fdca26"
            ],
            [
             1,
             "#f0f921"
            ]
           ],
           "sequentialminus": [
            [
             0,
             "#0d0887"
            ],
            [
             0.1111111111111111,
             "#46039f"
            ],
            [
             0.2222222222222222,
             "#7201a8"
            ],
            [
             0.3333333333333333,
             "#9c179e"
            ],
            [
             0.4444444444444444,
             "#bd3786"
            ],
            [
             0.5555555555555556,
             "#d8576b"
            ],
            [
             0.6666666666666666,
             "#ed7953"
            ],
            [
             0.7777777777777778,
             "#fb9f3a"
            ],
            [
             0.8888888888888888,
             "#fdca26"
            ],
            [
             1,
             "#f0f921"
            ]
           ]
          },
          "colorway": [
           "#636efa",
           "#EF553B",
           "#00cc96",
           "#ab63fa",
           "#FFA15A",
           "#19d3f3",
           "#FF6692",
           "#B6E880",
           "#FF97FF",
           "#FECB52"
          ],
          "font": {
           "color": "#2a3f5f"
          },
          "geo": {
           "bgcolor": "white",
           "lakecolor": "white",
           "landcolor": "#E5ECF6",
           "showlakes": true,
           "showland": true,
           "subunitcolor": "white"
          },
          "hoverlabel": {
           "align": "left"
          },
          "hovermode": "closest",
          "mapbox": {
           "style": "light"
          },
          "paper_bgcolor": "white",
          "plot_bgcolor": "#E5ECF6",
          "polar": {
           "angularaxis": {
            "gridcolor": "white",
            "linecolor": "white",
            "ticks": ""
           },
           "bgcolor": "#E5ECF6",
           "radialaxis": {
            "gridcolor": "white",
            "linecolor": "white",
            "ticks": ""
           }
          },
          "scene": {
           "xaxis": {
            "backgroundcolor": "#E5ECF6",
            "gridcolor": "white",
            "gridwidth": 2,
            "linecolor": "white",
            "showbackground": true,
            "ticks": "",
            "zerolinecolor": "white"
           },
           "yaxis": {
            "backgroundcolor": "#E5ECF6",
            "gridcolor": "white",
            "gridwidth": 2,
            "linecolor": "white",
            "showbackground": true,
            "ticks": "",
            "zerolinecolor": "white"
           },
           "zaxis": {
            "backgroundcolor": "#E5ECF6",
            "gridcolor": "white",
            "gridwidth": 2,
            "linecolor": "white",
            "showbackground": true,
            "ticks": "",
            "zerolinecolor": "white"
           }
          },
          "shapedefaults": {
           "line": {
            "color": "#2a3f5f"
           }
          },
          "ternary": {
           "aaxis": {
            "gridcolor": "white",
            "linecolor": "white",
            "ticks": ""
           },
           "baxis": {
            "gridcolor": "white",
            "linecolor": "white",
            "ticks": ""
           },
           "bgcolor": "#E5ECF6",
           "caxis": {
            "gridcolor": "white",
            "linecolor": "white",
            "ticks": ""
           }
          },
          "title": {
           "x": 0.05
          },
          "xaxis": {
           "automargin": true,
           "gridcolor": "white",
           "linecolor": "white",
           "ticks": "",
           "title": {
            "standoff": 15
           },
           "zerolinecolor": "white",
           "zerolinewidth": 2
          },
          "yaxis": {
           "automargin": true,
           "gridcolor": "white",
           "linecolor": "white",
           "ticks": "",
           "title": {
            "standoff": 15
           },
           "zerolinecolor": "white",
           "zerolinewidth": 2
          }
         }
        },
        "xaxis": {
         "anchor": "y",
         "domain": [
          0,
          1
         ],
         "title": {
          "text": "Distributer"
         }
        },
        "yaxis": {
         "anchor": "x",
         "domain": [
          0,
          1
         ],
         "gridcolor": "rgba(225, 225, 225, .5)",
         "title": {
          "text": "Percentage"
         }
        }
       }
      }
     },
     "metadata": {},
     "output_type": "display_data"
    }
   ],
   "source": [
    "df = data.copy()\n",
    "df = df[['distributor', 'award_nomination_tot', 'award_win_tot' ]]\n",
    "df.replace('no_data', np.nan, inplace  = True)\n",
    "df.dropna(inplace=True)\n",
    "\n",
    "df['distr'] = df['distributor'].apply(lambda x :  x.replace(' ,',',').replace(', ',',').split(',')) \n",
    "\n",
    "df_new = pd.DataFrame()\n",
    "j = 0 \n",
    "for index, i in df['distr'].iteritems(): \n",
    "    for n in range(len(i)):\n",
    "        w = i[n]\n",
    "        df_new.loc[j, 'distributor'] = w\n",
    "        df_new.loc[j, 'count'] = 1\n",
    "        df_new.loc[j, 'award_nomination_tot'] = float(df._get_value(index, 'award_nomination_tot'))\n",
    "        df_new.loc[j, 'award_win_tot'] = float(df._get_value(index, 'award_win_tot'))\n",
    "        j += 1\n",
    "\n",
    "order = pd.DataFrame(df_new.groupby('distributor')['count', 'award_nomination_tot', 'award_win_tot'].sum().sort_values(by='count', ascending=False).reset_index())[:10]\n",
    "\n",
    "distr = []\n",
    "val_name = []\n",
    "val = []\n",
    "for i, x in order.iterrows():\n",
    "    total = x['count']\n",
    "    if x['award_nomination_tot'] > 0:\n",
    "        distr.append(x['distributor'])\n",
    "        val_name.append('Award nomination')\n",
    "        val.append(int(x['award_nomination_tot']/total))\n",
    "    if x['award_win_tot'] > 0:\n",
    "        distr.append(x['distributor'])\n",
    "        val_name.append('Award win')\n",
    "        val.append(int(x['award_win_tot']/total))\n",
    "df = pd.DataFrame()\n",
    "df['distr'] = distr\n",
    "df['val_name'] = val_name\n",
    "df['val'] = val\n",
    "\n",
    "\n",
    "fig = px.histogram(df, x=\"distr\", y=\"val\", color='val_name', barmode='group', color_discrete_sequence=two_colors)\n",
    "\n",
    "fig.update_traces( textfont=dict(family=\"Arial, san serif\",size=16,color=\"#212529\"),hoverlabel=dict(font_size=14,font_family=\"Arial, san serif\", font_color='white'))\n",
    "\n",
    "# fig.update_traces(hovertemplate=('<br>Total %{x}: %{customdata[0]}<br><extra></extra>'))\n",
    "\n",
    "fig.update_layout(\n",
    "    margin=margin,\n",
    "    yaxis_title=\"Percentage\",\n",
    "    xaxis_title=\"Distributer\",\n",
    "    legend_title=\"Awards type\", yaxis_gridcolor ='rgba(225, 225, 225, .5)',\n",
    "        paper_bgcolor=\"#212529\", plot_bgcolor = 'rgba(0, 0, 0, 0)', hoverlabel_bordercolor='#212529',\n",
    "        font=dict(\n",
    "            family=\"Arial, san serif\",\n",
    "            size=15,\n",
    "            color=\"white\"\n",
    "        ) \n",
    "    )\n",
    "fig.write_html('visualization/twentynine.html') \n",
    "fig.show()"
   ]
  },
  {
   "cell_type": "markdown",
   "metadata": {},
   "source": [
    "### Critique v.s Popular opinion\n",
    "Finally we focus on the audience. Streaming services link how people watch movies. Let's compare 1) iMDb audience figures, great for gathering general public opinon, with 2) Rotten Tomatoes, a platform that takes care of simplifying the opinions of critics. In this way we believe can get an idea, if the films on streaming platforms are more appreciated by the public/critics, and we are able to explore the evolution of the trend over time. Finally, to give more context to our data, we build a scatter chart where the points are the titles positioned on the year of release, sorted by public opinion but forgotten by critical opinion.\n",
    "\n",
    "**Conlusion:** Older content has higher Rotten Tomatoes than iMDB Reating. It is interesting that in 1960 there was a dramatic drop in Rotten Tomatoes, but public opinion seems almost unchanged. Exploring the scatterplot we note that the result is caused by an outlier: G.I Blues, one of the worst Rotten Tomatoes scored films (has score 0), but at the same time rated with 68 points by the audienc, that may fancy the Pop icon Elvis Preslei, the protagonist of the film. Similarly, the trend of Rotten Tomatoes decreases compared to iMDb reating in 1995 and 2014, years of the internet explosion; and then it normalizes in 2008, the year in which streaming services appeared."
   ]
  },
  {
   "cell_type": "code",
   "execution_count": 115,
   "metadata": {},
   "outputs": [
    {
     "data": {
      "application/vnd.plotly.v1+json": {
       "config": {
        "plotlyServerURL": "https://plot.ly"
       },
       "data": [
        {
         "hoverlabel": {
          "font": {
           "color": "white",
           "family": "Arial, san serif",
           "size": 14
          }
         },
         "hovertemplate": "value=Rotten Tomatoes<br>year=%{x}<br>score=%{y}<extra></extra>",
         "legendgroup": "Rotten Tomatoes",
         "line": {
          "color": "#ff547c",
          "dash": "solid"
         },
         "marker": {
          "line": {
           "color": "#212529",
           "width": 2
          },
          "symbol": "circle"
         },
         "mode": "lines",
         "name": "Rotten Tomatoes",
         "orientation": "v",
         "showlegend": true,
         "type": "scatter",
         "x": [
          1929,
          1932,
          1936,
          1937,
          1939,
          1940,
          1941,
          1943,
          1944,
          1945,
          1946,
          1947,
          1948,
          1950,
          1951,
          1952,
          1953,
          1954,
          1955,
          1956,
          1957,
          1958,
          1959,
          1960,
          1961,
          1962,
          1963,
          1964,
          1965,
          1966,
          1967,
          1968,
          1969,
          1970,
          1971,
          1972,
          1973,
          1974,
          1975,
          1976,
          1977,
          1978,
          1979,
          1980,
          1981,
          1982,
          1983,
          1984,
          1985,
          1986,
          1987,
          1988,
          1989,
          1990,
          1991,
          1992,
          1993,
          1994,
          1995,
          1996,
          1997,
          1998,
          1999,
          2000,
          2001,
          2002,
          2003,
          2004,
          2005,
          2006,
          2007,
          2008,
          2009,
          2010,
          2011,
          2012,
          2013,
          2014,
          2015,
          2016,
          2017,
          2018,
          2019,
          2020,
          2021
         ],
         "xaxis": "x",
         "y": [
          100,
          73,
          65.83333333333333,
          72,
          83,
          88.5,
          78.2,
          60,
          70,
          100,
          83,
          68,
          84,
          82.33333333333333,
          73,
          87,
          74.33333333333333,
          83.66666666666667,
          83,
          86.75,
          64,
          79.33333333333333,
          56.25,
          29,
          64.66666666666667,
          78,
          62.75,
          92.5,
          81,
          79,
          80.25,
          81.5,
          65.5,
          69.25,
          77.57142857142857,
          75.66666666666667,
          82,
          73.5,
          75,
          72.66666666666667,
          62.75,
          61.75,
          74.25,
          50.55555555555556,
          68,
          69.66666666666667,
          50.166666666666664,
          68.9,
          47,
          63.5,
          59.142857142857146,
          61.611111111111114,
          62.9,
          62.714285714285715,
          58.5,
          61,
          67.54545454545455,
          49.529411764705884,
          57.48275862068966,
          55.54545454545455,
          61.25925925925926,
          54,
          56.666666666666664,
          48.628571428571426,
          56.56666666666667,
          60.875,
          55.81395348837209,
          56.67567567567568,
          57.138888888888886,
          55.906976744186046,
          61.06666666666667,
          56.13157894736842,
          54.985915492957744,
          57.65060240963855,
          60.92,
          64.82716049382717,
          59.295918367346935,
          58.78448275862069,
          63.416666666666664,
          65.67540983606557,
          68.02985074626865,
          66.93333333333334,
          68.74608150470219,
          70.37037037037037,
          72.26506024096386
         ],
         "yaxis": "y"
        },
        {
         "hoverlabel": {
          "font": {
           "color": "white",
           "family": "Arial, san serif",
           "size": 14
          }
         },
         "hovertemplate": "value=iMDb Rating<br>year=%{x}<br>score=%{y}<extra></extra>",
         "legendgroup": "iMDb Rating",
         "line": {
          "color": "#a0a3de",
          "dash": "solid"
         },
         "marker": {
          "line": {
           "color": "#212529",
           "width": 2
          },
          "symbol": "circle"
         },
         "mode": "lines",
         "name": "iMDb Rating",
         "orientation": "v",
         "showlegend": true,
         "type": "scatter",
         "x": [
          1929,
          1932,
          1936,
          1937,
          1939,
          1940,
          1941,
          1943,
          1944,
          1945,
          1946,
          1947,
          1948,
          1950,
          1951,
          1952,
          1953,
          1954,
          1955,
          1956,
          1957,
          1958,
          1959,
          1960,
          1961,
          1962,
          1963,
          1964,
          1965,
          1966,
          1967,
          1968,
          1969,
          1970,
          1971,
          1972,
          1973,
          1974,
          1975,
          1976,
          1977,
          1978,
          1979,
          1980,
          1981,
          1982,
          1983,
          1984,
          1985,
          1986,
          1987,
          1988,
          1989,
          1990,
          1991,
          1992,
          1993,
          1994,
          1995,
          1996,
          1997,
          1998,
          1999,
          2000,
          2001,
          2002,
          2003,
          2004,
          2005,
          2006,
          2007,
          2008,
          2009,
          2010,
          2011,
          2012,
          2013,
          2014,
          2015,
          2016,
          2017,
          2018,
          2019,
          2020,
          2021
         ],
         "xaxis": "x",
         "y": [
          70,
          63,
          62,
          72,
          75,
          71.5,
          72,
          54,
          62,
          68,
          74,
          68,
          75.66666666666667,
          77.66666666666667,
          72,
          76.66666666666667,
          67.33333333333333,
          74.66666666666667,
          73.66666666666667,
          78.25,
          66,
          68.33333333333333,
          60.5,
          59.333333333333336,
          66.66666666666667,
          73.5,
          66.75,
          74,
          75.5,
          70.5,
          72.5,
          77.5,
          69,
          70.75,
          74.71428571428571,
          68.33333333333333,
          69,
          69.25,
          73,
          69.33333333333333,
          70.5,
          62.25,
          66.25,
          61.333333333333336,
          68.33333333333333,
          67.66666666666667,
          62.166666666666664,
          69.7,
          60.333333333333336,
          66.58333333333333,
          63.285714285714285,
          63.388888888888886,
          64,
          65.78571428571429,
          62,
          66.30434782608695,
          66.72727272727273,
          61.705882352941174,
          65.27586206896552,
          63.13636363636363,
          66.77777777777777,
          62.86486486486486,
          63.148148148148145,
          59.51428571428571,
          63.56666666666667,
          66.2,
          64.88372093023256,
          67.29729729729729,
          65.33333333333333,
          65.44186046511628,
          66.26666666666667,
          63.25,
          63.901408450704224,
          65.06024096385542,
          64,
          64.44444444444444,
          65.44897959183673,
          65.21551724137932,
          64.72222222222223,
          64.36065573770492,
          65.29477611940298,
          65.2031746031746,
          67.23824451410658,
          66.5959595959596,
          67.29518072289157
         ],
         "yaxis": "y"
        }
       ],
       "layout": {
        "font": {
         "color": "white",
         "family": "Arial, san serif",
         "size": 15
        },
        "hoverlabel": {
         "bordercolor": "#212529"
        },
        "legend": {
         "title": {
          "text": "Critiques"
         },
         "tracegroupgap": 0
        },
        "margin": {
         "b": 10,
         "l": 10,
         "r": 10,
         "t": 10
        },
        "paper_bgcolor": "#212529",
        "plot_bgcolor": "rgba(0, 0, 0, 0)",
        "template": {
         "data": {
          "bar": [
           {
            "error_x": {
             "color": "#2a3f5f"
            },
            "error_y": {
             "color": "#2a3f5f"
            },
            "marker": {
             "line": {
              "color": "#E5ECF6",
              "width": 0.5
             },
             "pattern": {
              "fillmode": "overlay",
              "size": 10,
              "solidity": 0.2
             }
            },
            "type": "bar"
           }
          ],
          "barpolar": [
           {
            "marker": {
             "line": {
              "color": "#E5ECF6",
              "width": 0.5
             },
             "pattern": {
              "fillmode": "overlay",
              "size": 10,
              "solidity": 0.2
             }
            },
            "type": "barpolar"
           }
          ],
          "carpet": [
           {
            "aaxis": {
             "endlinecolor": "#2a3f5f",
             "gridcolor": "white",
             "linecolor": "white",
             "minorgridcolor": "white",
             "startlinecolor": "#2a3f5f"
            },
            "baxis": {
             "endlinecolor": "#2a3f5f",
             "gridcolor": "white",
             "linecolor": "white",
             "minorgridcolor": "white",
             "startlinecolor": "#2a3f5f"
            },
            "type": "carpet"
           }
          ],
          "choropleth": [
           {
            "colorbar": {
             "outlinewidth": 0,
             "ticks": ""
            },
            "type": "choropleth"
           }
          ],
          "contour": [
           {
            "colorbar": {
             "outlinewidth": 0,
             "ticks": ""
            },
            "colorscale": [
             [
              0,
              "#0d0887"
             ],
             [
              0.1111111111111111,
              "#46039f"
             ],
             [
              0.2222222222222222,
              "#7201a8"
             ],
             [
              0.3333333333333333,
              "#9c179e"
             ],
             [
              0.4444444444444444,
              "#bd3786"
             ],
             [
              0.5555555555555556,
              "#d8576b"
             ],
             [
              0.6666666666666666,
              "#ed7953"
             ],
             [
              0.7777777777777778,
              "#fb9f3a"
             ],
             [
              0.8888888888888888,
              "#fdca26"
             ],
             [
              1,
              "#f0f921"
             ]
            ],
            "type": "contour"
           }
          ],
          "contourcarpet": [
           {
            "colorbar": {
             "outlinewidth": 0,
             "ticks": ""
            },
            "type": "contourcarpet"
           }
          ],
          "heatmap": [
           {
            "colorbar": {
             "outlinewidth": 0,
             "ticks": ""
            },
            "colorscale": [
             [
              0,
              "#0d0887"
             ],
             [
              0.1111111111111111,
              "#46039f"
             ],
             [
              0.2222222222222222,
              "#7201a8"
             ],
             [
              0.3333333333333333,
              "#9c179e"
             ],
             [
              0.4444444444444444,
              "#bd3786"
             ],
             [
              0.5555555555555556,
              "#d8576b"
             ],
             [
              0.6666666666666666,
              "#ed7953"
             ],
             [
              0.7777777777777778,
              "#fb9f3a"
             ],
             [
              0.8888888888888888,
              "#fdca26"
             ],
             [
              1,
              "#f0f921"
             ]
            ],
            "type": "heatmap"
           }
          ],
          "heatmapgl": [
           {
            "colorbar": {
             "outlinewidth": 0,
             "ticks": ""
            },
            "colorscale": [
             [
              0,
              "#0d0887"
             ],
             [
              0.1111111111111111,
              "#46039f"
             ],
             [
              0.2222222222222222,
              "#7201a8"
             ],
             [
              0.3333333333333333,
              "#9c179e"
             ],
             [
              0.4444444444444444,
              "#bd3786"
             ],
             [
              0.5555555555555556,
              "#d8576b"
             ],
             [
              0.6666666666666666,
              "#ed7953"
             ],
             [
              0.7777777777777778,
              "#fb9f3a"
             ],
             [
              0.8888888888888888,
              "#fdca26"
             ],
             [
              1,
              "#f0f921"
             ]
            ],
            "type": "heatmapgl"
           }
          ],
          "histogram": [
           {
            "marker": {
             "pattern": {
              "fillmode": "overlay",
              "size": 10,
              "solidity": 0.2
             }
            },
            "type": "histogram"
           }
          ],
          "histogram2d": [
           {
            "colorbar": {
             "outlinewidth": 0,
             "ticks": ""
            },
            "colorscale": [
             [
              0,
              "#0d0887"
             ],
             [
              0.1111111111111111,
              "#46039f"
             ],
             [
              0.2222222222222222,
              "#7201a8"
             ],
             [
              0.3333333333333333,
              "#9c179e"
             ],
             [
              0.4444444444444444,
              "#bd3786"
             ],
             [
              0.5555555555555556,
              "#d8576b"
             ],
             [
              0.6666666666666666,
              "#ed7953"
             ],
             [
              0.7777777777777778,
              "#fb9f3a"
             ],
             [
              0.8888888888888888,
              "#fdca26"
             ],
             [
              1,
              "#f0f921"
             ]
            ],
            "type": "histogram2d"
           }
          ],
          "histogram2dcontour": [
           {
            "colorbar": {
             "outlinewidth": 0,
             "ticks": ""
            },
            "colorscale": [
             [
              0,
              "#0d0887"
             ],
             [
              0.1111111111111111,
              "#46039f"
             ],
             [
              0.2222222222222222,
              "#7201a8"
             ],
             [
              0.3333333333333333,
              "#9c179e"
             ],
             [
              0.4444444444444444,
              "#bd3786"
             ],
             [
              0.5555555555555556,
              "#d8576b"
             ],
             [
              0.6666666666666666,
              "#ed7953"
             ],
             [
              0.7777777777777778,
              "#fb9f3a"
             ],
             [
              0.8888888888888888,
              "#fdca26"
             ],
             [
              1,
              "#f0f921"
             ]
            ],
            "type": "histogram2dcontour"
           }
          ],
          "mesh3d": [
           {
            "colorbar": {
             "outlinewidth": 0,
             "ticks": ""
            },
            "type": "mesh3d"
           }
          ],
          "parcoords": [
           {
            "line": {
             "colorbar": {
              "outlinewidth": 0,
              "ticks": ""
             }
            },
            "type": "parcoords"
           }
          ],
          "pie": [
           {
            "automargin": true,
            "type": "pie"
           }
          ],
          "scatter": [
           {
            "marker": {
             "colorbar": {
              "outlinewidth": 0,
              "ticks": ""
             }
            },
            "type": "scatter"
           }
          ],
          "scatter3d": [
           {
            "line": {
             "colorbar": {
              "outlinewidth": 0,
              "ticks": ""
             }
            },
            "marker": {
             "colorbar": {
              "outlinewidth": 0,
              "ticks": ""
             }
            },
            "type": "scatter3d"
           }
          ],
          "scattercarpet": [
           {
            "marker": {
             "colorbar": {
              "outlinewidth": 0,
              "ticks": ""
             }
            },
            "type": "scattercarpet"
           }
          ],
          "scattergeo": [
           {
            "marker": {
             "colorbar": {
              "outlinewidth": 0,
              "ticks": ""
             }
            },
            "type": "scattergeo"
           }
          ],
          "scattergl": [
           {
            "marker": {
             "colorbar": {
              "outlinewidth": 0,
              "ticks": ""
             }
            },
            "type": "scattergl"
           }
          ],
          "scattermapbox": [
           {
            "marker": {
             "colorbar": {
              "outlinewidth": 0,
              "ticks": ""
             }
            },
            "type": "scattermapbox"
           }
          ],
          "scatterpolar": [
           {
            "marker": {
             "colorbar": {
              "outlinewidth": 0,
              "ticks": ""
             }
            },
            "type": "scatterpolar"
           }
          ],
          "scatterpolargl": [
           {
            "marker": {
             "colorbar": {
              "outlinewidth": 0,
              "ticks": ""
             }
            },
            "type": "scatterpolargl"
           }
          ],
          "scatterternary": [
           {
            "marker": {
             "colorbar": {
              "outlinewidth": 0,
              "ticks": ""
             }
            },
            "type": "scatterternary"
           }
          ],
          "surface": [
           {
            "colorbar": {
             "outlinewidth": 0,
             "ticks": ""
            },
            "colorscale": [
             [
              0,
              "#0d0887"
             ],
             [
              0.1111111111111111,
              "#46039f"
             ],
             [
              0.2222222222222222,
              "#7201a8"
             ],
             [
              0.3333333333333333,
              "#9c179e"
             ],
             [
              0.4444444444444444,
              "#bd3786"
             ],
             [
              0.5555555555555556,
              "#d8576b"
             ],
             [
              0.6666666666666666,
              "#ed7953"
             ],
             [
              0.7777777777777778,
              "#fb9f3a"
             ],
             [
              0.8888888888888888,
              "#fdca26"
             ],
             [
              1,
              "#f0f921"
             ]
            ],
            "type": "surface"
           }
          ],
          "table": [
           {
            "cells": {
             "fill": {
              "color": "#EBF0F8"
             },
             "line": {
              "color": "white"
             }
            },
            "header": {
             "fill": {
              "color": "#C8D4E3"
             },
             "line": {
              "color": "white"
             }
            },
            "type": "table"
           }
          ]
         },
         "layout": {
          "annotationdefaults": {
           "arrowcolor": "#2a3f5f",
           "arrowhead": 0,
           "arrowwidth": 1
          },
          "autotypenumbers": "strict",
          "coloraxis": {
           "colorbar": {
            "outlinewidth": 0,
            "ticks": ""
           }
          },
          "colorscale": {
           "diverging": [
            [
             0,
             "#8e0152"
            ],
            [
             0.1,
             "#c51b7d"
            ],
            [
             0.2,
             "#de77ae"
            ],
            [
             0.3,
             "#f1b6da"
            ],
            [
             0.4,
             "#fde0ef"
            ],
            [
             0.5,
             "#f7f7f7"
            ],
            [
             0.6,
             "#e6f5d0"
            ],
            [
             0.7,
             "#b8e186"
            ],
            [
             0.8,
             "#7fbc41"
            ],
            [
             0.9,
             "#4d9221"
            ],
            [
             1,
             "#276419"
            ]
           ],
           "sequential": [
            [
             0,
             "#0d0887"
            ],
            [
             0.1111111111111111,
             "#46039f"
            ],
            [
             0.2222222222222222,
             "#7201a8"
            ],
            [
             0.3333333333333333,
             "#9c179e"
            ],
            [
             0.4444444444444444,
             "#bd3786"
            ],
            [
             0.5555555555555556,
             "#d8576b"
            ],
            [
             0.6666666666666666,
             "#ed7953"
            ],
            [
             0.7777777777777778,
             "#fb9f3a"
            ],
            [
             0.8888888888888888,
             "#fdca26"
            ],
            [
             1,
             "#f0f921"
            ]
           ],
           "sequentialminus": [
            [
             0,
             "#0d0887"
            ],
            [
             0.1111111111111111,
             "#46039f"
            ],
            [
             0.2222222222222222,
             "#7201a8"
            ],
            [
             0.3333333333333333,
             "#9c179e"
            ],
            [
             0.4444444444444444,
             "#bd3786"
            ],
            [
             0.5555555555555556,
             "#d8576b"
            ],
            [
             0.6666666666666666,
             "#ed7953"
            ],
            [
             0.7777777777777778,
             "#fb9f3a"
            ],
            [
             0.8888888888888888,
             "#fdca26"
            ],
            [
             1,
             "#f0f921"
            ]
           ]
          },
          "colorway": [
           "#636efa",
           "#EF553B",
           "#00cc96",
           "#ab63fa",
           "#FFA15A",
           "#19d3f3",
           "#FF6692",
           "#B6E880",
           "#FF97FF",
           "#FECB52"
          ],
          "font": {
           "color": "#2a3f5f"
          },
          "geo": {
           "bgcolor": "white",
           "lakecolor": "white",
           "landcolor": "#E5ECF6",
           "showlakes": true,
           "showland": true,
           "subunitcolor": "white"
          },
          "hoverlabel": {
           "align": "left"
          },
          "hovermode": "closest",
          "mapbox": {
           "style": "light"
          },
          "paper_bgcolor": "white",
          "plot_bgcolor": "#E5ECF6",
          "polar": {
           "angularaxis": {
            "gridcolor": "white",
            "linecolor": "white",
            "ticks": ""
           },
           "bgcolor": "#E5ECF6",
           "radialaxis": {
            "gridcolor": "white",
            "linecolor": "white",
            "ticks": ""
           }
          },
          "scene": {
           "xaxis": {
            "backgroundcolor": "#E5ECF6",
            "gridcolor": "white",
            "gridwidth": 2,
            "linecolor": "white",
            "showbackground": true,
            "ticks": "",
            "zerolinecolor": "white"
           },
           "yaxis": {
            "backgroundcolor": "#E5ECF6",
            "gridcolor": "white",
            "gridwidth": 2,
            "linecolor": "white",
            "showbackground": true,
            "ticks": "",
            "zerolinecolor": "white"
           },
           "zaxis": {
            "backgroundcolor": "#E5ECF6",
            "gridcolor": "white",
            "gridwidth": 2,
            "linecolor": "white",
            "showbackground": true,
            "ticks": "",
            "zerolinecolor": "white"
           }
          },
          "shapedefaults": {
           "line": {
            "color": "#2a3f5f"
           }
          },
          "ternary": {
           "aaxis": {
            "gridcolor": "white",
            "linecolor": "white",
            "ticks": ""
           },
           "baxis": {
            "gridcolor": "white",
            "linecolor": "white",
            "ticks": ""
           },
           "bgcolor": "#E5ECF6",
           "caxis": {
            "gridcolor": "white",
            "linecolor": "white",
            "ticks": ""
           }
          },
          "title": {
           "x": 0.05
          },
          "xaxis": {
           "automargin": true,
           "gridcolor": "white",
           "linecolor": "white",
           "ticks": "",
           "title": {
            "standoff": 15
           },
           "zerolinecolor": "white",
           "zerolinewidth": 2
          },
          "yaxis": {
           "automargin": true,
           "gridcolor": "white",
           "linecolor": "white",
           "ticks": "",
           "title": {
            "standoff": 15
           },
           "zerolinecolor": "white",
           "zerolinewidth": 2
          }
         }
        },
        "xaxis": {
         "anchor": "y",
         "domain": [
          0,
          1
         ],
         "showgrid": false,
         "title": {}
        },
        "yaxis": {
         "anchor": "x",
         "domain": [
          0,
          1
         ],
         "gridcolor": "rgba(225, 225, 225, .5)",
         "title": {
          "text": "Average by year"
         }
        }
       }
      }
     },
     "metadata": {},
     "output_type": "display_data"
    }
   ],
   "source": [
    "df = data.copy()\n",
    "df = df[['release_year', 'rottenTomatoes', 'imDbRating']]\n",
    "df.replace('no_data', np.nan, inplace  = True)\n",
    "df.dropna(inplace=True)\n",
    "\n",
    "year = []\n",
    "val_name = []\n",
    "val = []\n",
    "for i, x in df.iterrows():\n",
    "    if x['rottenTomatoes']:\n",
    "        year.append(x['release_year'])\n",
    "        val_name.append('Rotten Tomatoes')\n",
    "        val.append(float(x['rottenTomatoes']))\n",
    "    if x['imDbRating']:\n",
    "        year.append(x['release_year'])\n",
    "        val_name.append('iMDb Rating')\n",
    "        val.append(float(x['imDbRating']))\n",
    "df = pd.DataFrame()\n",
    "df['year'] = year\n",
    "df['val_name'] = val_name\n",
    "df['score'] = val\n",
    "\n",
    "rotten = df.query('val_name == \"Rotten Tomatoes\"')\n",
    "rotten = rotten.groupby('year').mean()\n",
    "rotten['value'] = 'Rotten Tomatoes'\n",
    "\n",
    "rotten.groupby('year')['score'].mean()\n",
    "imdb = df.query('val_name == \"iMDb Rating\"')\n",
    "imdb = imdb.groupby('year').mean()\n",
    "imdb['value'] = 'iMDb Rating'\n",
    "\n",
    "df = pd.concat([rotten, imdb])\n",
    "fig = px.line(df, x=df.index, y='score', color='value', color_discrete_sequence=two_colors)\n",
    "\n",
    "fig.update_traces(marker=dict(line=dict(color='#212529', width=2)), hoverlabel=dict(font_size=14,font_family=\"Arial, san serif\",font_color=\"white\") )\n",
    "\n",
    "fig.update_layout(\n",
    "    margin=margin,\n",
    "    yaxis_title=\"Average by year\",\n",
    "    legend_title=\"Critiques\", yaxis_gridcolor ='rgba(225, 225, 225, .5)',xaxis_showgrid=False, paper_bgcolor=\"#212529\", plot_bgcolor = 'rgba(0, 0, 0, 0)', hoverlabel_bordercolor='#212529', xaxis_title=None,\n",
    "    font=dict(\n",
    "            family=\"Arial, san serif\",\n",
    "            size=15,\n",
    "            color=\"white\"\n",
    "        ) \n",
    "    )\n",
    "fig.write_html('visualization/thirty.html') \n",
    "fig.show()"
   ]
  },
  {
   "cell_type": "code",
   "execution_count": 116,
   "metadata": {},
   "outputs": [
    {
     "data": {
      "application/vnd.plotly.v1+json": {
       "config": {
        "plotlyServerURL": "https://plot.ly"
       },
       "data": [
        {
         "customdata": [
          [
           "Netflix"
          ],
          [
           "Netflix"
          ],
          [
           "Netflix"
          ],
          [
           "Netflix"
          ],
          [
           "Netflix"
          ],
          [
           "Netflix"
          ],
          [
           "Netflix"
          ],
          [
           "Amazon"
          ],
          [
           "Netflix"
          ],
          [
           "Netflix"
          ],
          [
           "Netflix"
          ],
          [
           "Netflix"
          ],
          [
           "Netflix"
          ],
          [
           "Netflix"
          ],
          [
           "Netflix"
          ],
          [
           "Netflix"
          ],
          [
           "Netflix"
          ],
          [
           "Netflix"
          ],
          [
           "Netflix"
          ],
          [
           "Netflix"
          ],
          [
           "Netflix"
          ],
          [
           "Netflix"
          ],
          [
           "Netflix"
          ],
          [
           "Netflix"
          ],
          [
           "Netflix"
          ],
          [
           "Amazon"
          ],
          [
           "Netflix"
          ],
          [
           "Netflix"
          ],
          [
           "Netflix"
          ],
          [
           "Netflix"
          ],
          [
           "Netflix"
          ],
          [
           "Netflix"
          ],
          [
           "Netflix"
          ],
          [
           "Netflix"
          ],
          [
           "Netflix"
          ],
          [
           "Netflix"
          ],
          [
           "Netflix"
          ],
          [
           "Netflix"
          ],
          [
           "Netflix"
          ],
          [
           "Netflix"
          ],
          [
           "Amazon"
          ],
          [
           "Netflix"
          ],
          [
           "Netflix"
          ],
          [
           "Netflix"
          ],
          [
           "Netflix"
          ],
          [
           "Netflix"
          ],
          [
           "Netflix"
          ],
          [
           "Netflix"
          ],
          [
           "Netflix"
          ],
          [
           "Netflix"
          ],
          [
           "Netflix"
          ],
          [
           "Netflix"
          ],
          [
           "Netflix"
          ],
          [
           "Netflix"
          ],
          [
           "Netflix"
          ],
          [
           "Netflix"
          ],
          [
           "Netflix"
          ],
          [
           "Netflix"
          ],
          [
           "Netflix"
          ],
          [
           "Netflix"
          ],
          [
           "Netflix"
          ],
          [
           "Amazon"
          ],
          [
           "Netflix"
          ],
          [
           "Netflix"
          ],
          [
           "Netflix"
          ],
          [
           "Netflix"
          ],
          [
           "Netflix"
          ],
          [
           "Amazon"
          ],
          [
           "Netflix"
          ],
          [
           "Netflix"
          ],
          [
           "Netflix"
          ],
          [
           "Netflix"
          ],
          [
           "Netflix"
          ],
          [
           "Netflix"
          ],
          [
           "Netflix"
          ],
          [
           "Netflix"
          ],
          [
           "Netflix"
          ],
          [
           "Netflix"
          ],
          [
           "Netflix"
          ],
          [
           "Netflix"
          ],
          [
           "Netflix"
          ],
          [
           "Netflix"
          ],
          [
           "Netflix"
          ],
          [
           "Netflix"
          ],
          [
           "Netflix"
          ],
          [
           "Netflix"
          ],
          [
           "Netflix"
          ],
          [
           "Netflix"
          ],
          [
           "Netflix"
          ],
          [
           "Netflix"
          ],
          [
           "Netflix"
          ],
          [
           "Netflix"
          ],
          [
           "Netflix"
          ],
          [
           "Netflix"
          ],
          [
           "Amazon"
          ],
          [
           "Netflix"
          ],
          [
           "Amazon"
          ],
          [
           "Netflix"
          ],
          [
           "Netflix"
          ],
          [
           "Netflix"
          ],
          [
           "Netflix"
          ],
          [
           "Netflix"
          ],
          [
           "Netflix"
          ],
          [
           "Netflix"
          ],
          [
           "Netflix"
          ],
          [
           "Netflix"
          ],
          [
           "Netflix"
          ],
          [
           "Netflix"
          ],
          [
           "Netflix"
          ],
          [
           "Netflix"
          ],
          [
           "Netflix"
          ],
          [
           "Amazon"
          ],
          [
           "Netflix"
          ],
          [
           "Netflix"
          ],
          [
           "Netflix"
          ],
          [
           "Netflix"
          ],
          [
           "Netflix"
          ],
          [
           "Netflix"
          ],
          [
           "Netflix"
          ],
          [
           "Netflix"
          ],
          [
           "Netflix"
          ],
          [
           "Netflix"
          ],
          [
           "Amazon"
          ],
          [
           "Netflix"
          ],
          [
           "Netflix"
          ],
          [
           "Netflix"
          ],
          [
           "Netflix"
          ],
          [
           "Netflix"
          ],
          [
           "Netflix"
          ],
          [
           "Netflix"
          ],
          [
           "Netflix"
          ],
          [
           "Netflix"
          ],
          [
           "Netflix"
          ],
          [
           "Netflix"
          ],
          [
           "Netflix"
          ],
          [
           "Netflix"
          ],
          [
           "Netflix"
          ],
          [
           "Netflix"
          ],
          [
           "Netflix"
          ],
          [
           "Netflix"
          ],
          [
           "Netflix"
          ],
          [
           "Netflix"
          ],
          [
           "Netflix"
          ],
          [
           "Netflix"
          ],
          [
           "Netflix"
          ],
          [
           "Netflix"
          ],
          [
           "Netflix"
          ],
          [
           "Netflix"
          ],
          [
           "Netflix"
          ],
          [
           "Netflix"
          ],
          [
           "Netflix"
          ],
          [
           "Netflix"
          ],
          [
           "Netflix"
          ],
          [
           "Netflix"
          ],
          [
           "Netflix"
          ],
          [
           "Netflix"
          ],
          [
           "Netflix"
          ],
          [
           "Netflix"
          ],
          [
           "Netflix"
          ],
          [
           "Netflix"
          ],
          [
           "Netflix"
          ],
          [
           "Netflix"
          ],
          [
           "Netflix"
          ],
          [
           "Netflix"
          ],
          [
           "Netflix"
          ],
          [
           "Netflix"
          ],
          [
           "Netflix"
          ],
          [
           "Netflix"
          ],
          [
           "Netflix"
          ],
          [
           "Netflix"
          ],
          [
           "Netflix"
          ],
          [
           "Netflix"
          ],
          [
           "Netflix"
          ],
          [
           "Netflix"
          ],
          [
           "Netflix"
          ],
          [
           "Netflix"
          ],
          [
           "Netflix"
          ],
          [
           "Netflix"
          ],
          [
           "Netflix"
          ],
          [
           "Netflix"
          ],
          [
           "Netflix"
          ],
          [
           "Netflix"
          ],
          [
           "Netflix"
          ],
          [
           "Netflix"
          ],
          [
           "Netflix"
          ],
          [
           "Netflix"
          ],
          [
           "Netflix"
          ],
          [
           "Netflix"
          ],
          [
           "Netflix"
          ],
          [
           "Netflix"
          ],
          [
           "Netflix"
          ],
          [
           "Netflix"
          ],
          [
           "Netflix"
          ],
          [
           "Netflix"
          ],
          [
           "Netflix"
          ],
          [
           "Netflix"
          ],
          [
           "Netflix"
          ],
          [
           "Netflix"
          ],
          [
           "Amazon"
          ],
          [
           "Netflix"
          ],
          [
           "Amazon"
          ],
          [
           "Netflix"
          ],
          [
           "Netflix"
          ],
          [
           "Amazon"
          ],
          [
           "Netflix"
          ],
          [
           "Netflix"
          ],
          [
           "Netflix"
          ],
          [
           "Netflix"
          ],
          [
           "Netflix"
          ],
          [
           "Netflix"
          ],
          [
           "Netflix"
          ],
          [
           "Netflix"
          ],
          [
           "Netflix"
          ],
          [
           "Netflix"
          ],
          [
           "Netflix"
          ],
          [
           "Netflix"
          ],
          [
           "Netflix"
          ],
          [
           "Netflix"
          ],
          [
           "Netflix"
          ],
          [
           "Netflix"
          ],
          [
           "Netflix"
          ],
          [
           "Netflix"
          ],
          [
           "Netflix"
          ],
          [
           "Netflix"
          ],
          [
           "Netflix"
          ],
          [
           "Netflix"
          ],
          [
           "Netflix"
          ],
          [
           "Netflix"
          ],
          [
           "Amazon"
          ],
          [
           "Netflix"
          ],
          [
           "Netflix"
          ],
          [
           "Netflix"
          ],
          [
           "Netflix"
          ],
          [
           "Netflix"
          ],
          [
           "Netflix"
          ],
          [
           "Netflix"
          ],
          [
           "Netflix"
          ],
          [
           "Netflix"
          ],
          [
           "Netflix"
          ],
          [
           "Netflix"
          ],
          [
           "Netflix"
          ],
          [
           "Netflix"
          ],
          [
           "Netflix"
          ],
          [
           "Netflix"
          ],
          [
           "Netflix"
          ],
          [
           "Netflix"
          ],
          [
           "Netflix"
          ],
          [
           "Netflix"
          ],
          [
           "Netflix"
          ],
          [
           "Netflix"
          ],
          [
           "Netflix"
          ],
          [
           "Netflix"
          ],
          [
           "Netflix"
          ],
          [
           "Netflix"
          ],
          [
           "Netflix"
          ],
          [
           "Netflix"
          ],
          [
           "Amazon"
          ],
          [
           "Netflix"
          ],
          [
           "Netflix"
          ],
          [
           "Netflix"
          ],
          [
           "Netflix"
          ],
          [
           "Netflix"
          ],
          [
           "Netflix"
          ],
          [
           "Netflix"
          ],
          [
           "Netflix"
          ],
          [
           "Netflix"
          ],
          [
           "Netflix"
          ],
          [
           "Netflix"
          ],
          [
           "Netflix"
          ],
          [
           "Netflix"
          ],
          [
           "Amazon"
          ],
          [
           "Netflix"
          ],
          [
           "Netflix"
          ],
          [
           "Netflix"
          ],
          [
           "Netflix"
          ],
          [
           "Netflix"
          ],
          [
           "Netflix"
          ],
          [
           "Netflix"
          ],
          [
           "Netflix"
          ],
          [
           "Netflix"
          ],
          [
           "Netflix"
          ],
          [
           "Netflix"
          ],
          [
           "Netflix"
          ],
          [
           "Netflix"
          ],
          [
           "Netflix"
          ],
          [
           "Netflix"
          ],
          [
           "Netflix"
          ],
          [
           "Netflix"
          ],
          [
           "Netflix"
          ],
          [
           "Netflix"
          ],
          [
           "Netflix"
          ],
          [
           "Netflix"
          ],
          [
           "Netflix"
          ],
          [
           "Netflix"
          ],
          [
           "Netflix"
          ],
          [
           "Netflix"
          ],
          [
           "Netflix"
          ],
          [
           "Netflix"
          ],
          [
           "Netflix"
          ],
          [
           "Netflix"
          ],
          [
           "Netflix"
          ],
          [
           "Netflix"
          ],
          [
           "Netflix"
          ],
          [
           "Netflix"
          ],
          [
           "Netflix"
          ],
          [
           "Netflix"
          ],
          [
           "Netflix"
          ],
          [
           "Netflix"
          ],
          [
           "Netflix"
          ],
          [
           "Netflix"
          ],
          [
           "Amazon"
          ],
          [
           "Netflix"
          ],
          [
           "Netflix"
          ],
          [
           "Netflix"
          ],
          [
           "Netflix"
          ],
          [
           "Netflix"
          ],
          [
           "Netflix"
          ],
          [
           "Netflix"
          ],
          [
           "Netflix"
          ],
          [
           "Netflix"
          ],
          [
           "Netflix"
          ],
          [
           "Netflix"
          ],
          [
           "Netflix"
          ],
          [
           "Netflix"
          ],
          [
           "Netflix"
          ],
          [
           "Netflix"
          ],
          [
           "Netflix"
          ],
          [
           "Netflix"
          ],
          [
           "Netflix"
          ],
          [
           "Netflix"
          ],
          [
           "Netflix"
          ],
          [
           "Amazon"
          ],
          [
           "Netflix"
          ],
          [
           "Netflix"
          ],
          [
           "Netflix"
          ],
          [
           "Netflix"
          ],
          [
           "Netflix"
          ],
          [
           "Netflix"
          ],
          [
           "Netflix"
          ],
          [
           "Netflix"
          ],
          [
           "Netflix"
          ],
          [
           "Netflix"
          ],
          [
           "Netflix"
          ],
          [
           "Netflix"
          ],
          [
           "Netflix"
          ],
          [
           "Netflix"
          ],
          [
           "Netflix"
          ],
          [
           "Netflix"
          ],
          [
           "Netflix"
          ],
          [
           "Netflix"
          ],
          [
           "Netflix"
          ],
          [
           "Netflix"
          ],
          [
           "Netflix"
          ],
          [
           "Netflix"
          ],
          [
           "Netflix"
          ],
          [
           "Netflix"
          ],
          [
           "Netflix"
          ],
          [
           "Netflix"
          ],
          [
           "Netflix"
          ],
          [
           "Netflix"
          ],
          [
           "Netflix"
          ],
          [
           "Netflix"
          ],
          [
           "Netflix"
          ],
          [
           "Netflix"
          ],
          [
           "Netflix"
          ],
          [
           "Netflix"
          ],
          [
           "Netflix"
          ],
          [
           "Netflix"
          ],
          [
           "Netflix"
          ],
          [
           "Netflix"
          ],
          [
           "Netflix"
          ],
          [
           "Netflix"
          ],
          [
           "Netflix"
          ],
          [
           "Netflix"
          ],
          [
           "Netflix"
          ],
          [
           "Netflix"
          ],
          [
           "Netflix"
          ],
          [
           "Netflix"
          ],
          [
           "Netflix"
          ],
          [
           "Netflix"
          ],
          [
           "Netflix"
          ],
          [
           "Netflix"
          ],
          [
           "Netflix"
          ],
          [
           "Netflix"
          ],
          [
           "Netflix"
          ],
          [
           "Netflix"
          ],
          [
           "Netflix"
          ],
          [
           "Netflix"
          ],
          [
           "Netflix"
          ],
          [
           "Netflix"
          ],
          [
           "Netflix"
          ],
          [
           "Netflix"
          ],
          [
           "Netflix"
          ],
          [
           "Netflix"
          ],
          [
           "Netflix"
          ],
          [
           "Netflix"
          ],
          [
           "Netflix"
          ],
          [
           "Netflix"
          ],
          [
           "Netflix"
          ],
          [
           "Netflix"
          ],
          [
           "Netflix"
          ],
          [
           "Netflix"
          ],
          [
           "Netflix"
          ],
          [
           "Netflix"
          ],
          [
           "Netflix"
          ],
          [
           "Netflix"
          ],
          [
           "Netflix"
          ],
          [
           "Netflix"
          ],
          [
           "Netflix"
          ],
          [
           "Netflix"
          ],
          [
           "Netflix"
          ],
          [
           "Netflix"
          ],
          [
           "Netflix"
          ],
          [
           "Netflix"
          ],
          [
           "Netflix"
          ],
          [
           "Netflix"
          ],
          [
           "Netflix"
          ],
          [
           "Netflix"
          ],
          [
           "Netflix"
          ],
          [
           "Netflix"
          ],
          [
           "Netflix"
          ],
          [
           "Netflix"
          ],
          [
           "Netflix"
          ],
          [
           "Netflix"
          ],
          [
           "Netflix"
          ],
          [
           "Netflix"
          ],
          [
           "Netflix"
          ],
          [
           "Netflix"
          ],
          [
           "Netflix"
          ],
          [
           "Netflix"
          ],
          [
           "Netflix"
          ],
          [
           "Netflix"
          ],
          [
           "Netflix"
          ],
          [
           "Netflix"
          ],
          [
           "Netflix"
          ],
          [
           "Netflix"
          ],
          [
           "Netflix"
          ],
          [
           "Netflix"
          ],
          [
           "Netflix"
          ],
          [
           "Netflix"
          ],
          [
           "Netflix"
          ],
          [
           "Netflix"
          ],
          [
           "Netflix"
          ],
          [
           "Netflix"
          ],
          [
           "Netflix"
          ],
          [
           "Netflix"
          ],
          [
           "Netflix"
          ],
          [
           "Netflix"
          ],
          [
           "Netflix"
          ],
          [
           "Netflix"
          ],
          [
           "Netflix"
          ],
          [
           "Netflix"
          ],
          [
           "Netflix"
          ],
          [
           "Netflix"
          ],
          [
           "Netflix"
          ],
          [
           "Netflix"
          ],
          [
           "Netflix"
          ],
          [
           "Netflix"
          ],
          [
           "Netflix"
          ],
          [
           "Netflix"
          ],
          [
           "Netflix"
          ],
          [
           "Netflix"
          ],
          [
           "Netflix"
          ],
          [
           "Netflix"
          ],
          [
           "Netflix"
          ],
          [
           "Netflix"
          ],
          [
           "Netflix"
          ],
          [
           "Netflix"
          ],
          [
           "Netflix"
          ],
          [
           "Amazon"
          ],
          [
           "Netflix"
          ],
          [
           "Netflix"
          ],
          [
           "Netflix"
          ],
          [
           "Netflix"
          ],
          [
           "Netflix"
          ],
          [
           "Netflix"
          ],
          [
           "Netflix"
          ],
          [
           "Netflix"
          ],
          [
           "Netflix"
          ],
          [
           "Netflix"
          ],
          [
           "Netflix"
          ],
          [
           "Netflix"
          ],
          [
           "Netflix"
          ],
          [
           "Netflix"
          ],
          [
           "Netflix"
          ],
          [
           "Netflix"
          ],
          [
           "Netflix"
          ],
          [
           "Netflix"
          ],
          [
           "Netflix"
          ],
          [
           "Netflix"
          ],
          [
           "Netflix"
          ],
          [
           "Netflix"
          ],
          [
           "Netflix"
          ],
          [
           "Netflix"
          ],
          [
           "Netflix"
          ],
          [
           "Netflix"
          ],
          [
           "Netflix"
          ],
          [
           "Netflix"
          ],
          [
           "Netflix"
          ],
          [
           "Netflix"
          ],
          [
           "Netflix"
          ],
          [
           "Netflix"
          ],
          [
           "Netflix"
          ],
          [
           "Netflix"
          ],
          [
           "Netflix"
          ],
          [
           "Netflix"
          ],
          [
           "Netflix"
          ],
          [
           "Netflix"
          ],
          [
           "Netflix"
          ],
          [
           "Netflix"
          ],
          [
           "Netflix"
          ],
          [
           "Netflix"
          ],
          [
           "Netflix"
          ],
          [
           "Netflix"
          ],
          [
           "Netflix"
          ],
          [
           "Amazon"
          ],
          [
           "Netflix"
          ],
          [
           "Netflix"
          ],
          [
           "Netflix"
          ],
          [
           "Netflix"
          ],
          [
           "Netflix"
          ],
          [
           "Netflix"
          ],
          [
           "Netflix"
          ],
          [
           "Netflix"
          ],
          [
           "Netflix"
          ],
          [
           "Netflix"
          ],
          [
           "Netflix"
          ],
          [
           "Netflix"
          ],
          [
           "Netflix"
          ],
          [
           "Netflix"
          ],
          [
           "Netflix"
          ],
          [
           "Netflix"
          ],
          [
           "Netflix"
          ],
          [
           "Netflix"
          ],
          [
           "Netflix"
          ],
          [
           "Netflix"
          ],
          [
           "Netflix"
          ],
          [
           "Netflix"
          ],
          [
           "Netflix"
          ],
          [
           "Netflix"
          ],
          [
           "Netflix"
          ],
          [
           "Netflix"
          ],
          [
           "Netflix"
          ],
          [
           "Netflix"
          ],
          [
           "Netflix"
          ],
          [
           "Netflix"
          ],
          [
           "Netflix"
          ],
          [
           "Netflix"
          ],
          [
           "Netflix"
          ],
          [
           "Netflix"
          ],
          [
           "Netflix"
          ],
          [
           "Netflix"
          ],
          [
           "Netflix"
          ],
          [
           "Netflix"
          ],
          [
           "Netflix"
          ],
          [
           "Netflix"
          ],
          [
           "Netflix"
          ],
          [
           "Netflix"
          ],
          [
           "Netflix"
          ],
          [
           "Netflix"
          ],
          [
           "Netflix"
          ],
          [
           "Netflix"
          ],
          [
           "Netflix"
          ],
          [
           "Netflix"
          ],
          [
           "Netflix"
          ],
          [
           "Netflix"
          ],
          [
           "Netflix"
          ],
          [
           "Netflix"
          ],
          [
           "Netflix"
          ],
          [
           "Netflix"
          ],
          [
           "Netflix"
          ],
          [
           "Netflix"
          ],
          [
           "Netflix"
          ],
          [
           "Netflix"
          ],
          [
           "Netflix"
          ],
          [
           "Netflix"
          ],
          [
           "Netflix"
          ],
          [
           "Netflix"
          ],
          [
           "Netflix"
          ],
          [
           "Netflix"
          ],
          [
           "Netflix"
          ],
          [
           "Netflix"
          ],
          [
           "Netflix"
          ],
          [
           "Netflix"
          ],
          [
           "Netflix"
          ],
          [
           "Netflix"
          ],
          [
           "Netflix"
          ],
          [
           "Netflix"
          ],
          [
           "Netflix"
          ],
          [
           "Netflix"
          ],
          [
           "Netflix"
          ],
          [
           "Netflix"
          ],
          [
           "Netflix"
          ],
          [
           "Netflix"
          ],
          [
           "Netflix"
          ],
          [
           "Netflix"
          ],
          [
           "Netflix"
          ],
          [
           "Netflix"
          ],
          [
           "Netflix"
          ],
          [
           "Netflix"
          ],
          [
           "Netflix"
          ],
          [
           "Netflix"
          ],
          [
           "Netflix"
          ],
          [
           "Netflix"
          ],
          [
           "Netflix"
          ],
          [
           "Netflix"
          ],
          [
           "Netflix"
          ],
          [
           "Netflix"
          ],
          [
           "Netflix"
          ],
          [
           "Netflix"
          ],
          [
           "Netflix"
          ],
          [
           "Netflix"
          ],
          [
           "Netflix"
          ],
          [
           "Netflix"
          ],
          [
           "Netflix"
          ],
          [
           "Netflix"
          ],
          [
           "Netflix"
          ],
          [
           "Netflix"
          ],
          [
           "Netflix"
          ],
          [
           "Netflix"
          ],
          [
           "Netflix"
          ],
          [
           "Netflix"
          ],
          [
           "Netflix"
          ],
          [
           "Netflix"
          ],
          [
           "Netflix"
          ],
          [
           "Netflix"
          ],
          [
           "Netflix"
          ],
          [
           "Netflix"
          ],
          [
           "Netflix"
          ],
          [
           "Netflix"
          ],
          [
           "Netflix"
          ],
          [
           "Netflix"
          ],
          [
           "Netflix"
          ],
          [
           "Netflix"
          ],
          [
           "Netflix"
          ],
          [
           "Netflix"
          ],
          [
           "Netflix"
          ],
          [
           "Netflix"
          ],
          [
           "Netflix"
          ],
          [
           "Netflix"
          ],
          [
           "Netflix"
          ],
          [
           "Netflix"
          ],
          [
           "Netflix"
          ],
          [
           "Netflix"
          ],
          [
           "Netflix"
          ],
          [
           "Netflix"
          ],
          [
           "Netflix"
          ],
          [
           "Netflix"
          ],
          [
           "Netflix"
          ],
          [
           "Netflix"
          ],
          [
           "Netflix"
          ],
          [
           "Netflix"
          ],
          [
           "Netflix"
          ],
          [
           "Netflix"
          ],
          [
           "Netflix"
          ],
          [
           "Netflix"
          ],
          [
           "Netflix"
          ],
          [
           "Netflix"
          ],
          [
           "Netflix"
          ],
          [
           "Netflix"
          ],
          [
           "Netflix"
          ],
          [
           "Netflix"
          ],
          [
           "Netflix"
          ],
          [
           "Netflix"
          ],
          [
           "Netflix"
          ],
          [
           "Netflix"
          ],
          [
           "Netflix"
          ],
          [
           "Netflix"
          ],
          [
           "Netflix"
          ],
          [
           "Netflix"
          ],
          [
           "Netflix"
          ],
          [
           "Netflix"
          ],
          [
           "Netflix"
          ],
          [
           "Netflix"
          ],
          [
           "Netflix"
          ],
          [
           "Netflix"
          ],
          [
           "Netflix"
          ],
          [
           "Netflix"
          ],
          [
           "Netflix"
          ],
          [
           "Netflix"
          ],
          [
           "Netflix"
          ],
          [
           "Netflix"
          ],
          [
           "Netflix"
          ],
          [
           "Netflix"
          ],
          [
           "Netflix"
          ],
          [
           "Netflix"
          ],
          [
           "Netflix"
          ],
          [
           "Netflix"
          ],
          [
           "Netflix"
          ],
          [
           "Netflix"
          ],
          [
           "Netflix"
          ],
          [
           "Netflix"
          ],
          [
           "Netflix"
          ],
          [
           "Netflix"
          ],
          [
           "Netflix"
          ],
          [
           "Netflix"
          ],
          [
           "Netflix"
          ],
          [
           "Netflix"
          ],
          [
           "Netflix"
          ],
          [
           "Netflix"
          ],
          [
           "Netflix"
          ],
          [
           "Netflix"
          ],
          [
           "Netflix"
          ],
          [
           "Netflix"
          ],
          [
           "Netflix"
          ],
          [
           "Netflix"
          ],
          [
           "Netflix"
          ],
          [
           "Netflix"
          ],
          [
           "Netflix"
          ],
          [
           "Netflix"
          ],
          [
           "Netflix"
          ],
          [
           "Netflix"
          ],
          [
           "Netflix"
          ],
          [
           "Netflix"
          ],
          [
           "Netflix"
          ],
          [
           "Netflix"
          ],
          [
           "Amazon"
          ],
          [
           "Netflix"
          ],
          [
           "Netflix"
          ],
          [
           "Netflix"
          ],
          [
           "Netflix"
          ],
          [
           "Netflix"
          ],
          [
           "Netflix"
          ],
          [
           "Netflix"
          ],
          [
           "Netflix"
          ],
          [
           "Netflix"
          ],
          [
           "Netflix"
          ],
          [
           "Netflix"
          ],
          [
           "Netflix"
          ],
          [
           "Netflix"
          ],
          [
           "Netflix"
          ],
          [
           "Netflix"
          ],
          [
           "Netflix"
          ],
          [
           "Netflix"
          ],
          [
           "Netflix"
          ],
          [
           "Netflix"
          ],
          [
           "Netflix"
          ],
          [
           "Netflix"
          ],
          [
           "Netflix"
          ],
          [
           "Netflix"
          ],
          [
           "Netflix"
          ],
          [
           "Netflix"
          ],
          [
           "Netflix"
          ],
          [
           "Netflix"
          ],
          [
           "Netflix"
          ],
          [
           "Netflix"
          ],
          [
           "Netflix"
          ],
          [
           "Netflix"
          ],
          [
           "Netflix"
          ],
          [
           "Amazon"
          ],
          [
           "Netflix"
          ],
          [
           "Amazon"
          ],
          [
           "Netflix"
          ],
          [
           "Netflix"
          ],
          [
           "Amazon"
          ],
          [
           "Netflix"
          ],
          [
           "Amazon"
          ],
          [
           "Netflix"
          ],
          [
           "Amazon"
          ],
          [
           "Netflix"
          ],
          [
           "Amazon"
          ],
          [
           "Netflix"
          ],
          [
           "Netflix"
          ],
          [
           "Netflix"
          ],
          [
           "Netflix"
          ],
          [
           "Amazon"
          ],
          [
           "Netflix"
          ],
          [
           "Netflix"
          ],
          [
           "Netflix"
          ],
          [
           "Netflix"
          ],
          [
           "Netflix"
          ],
          [
           "Netflix"
          ],
          [
           "Netflix"
          ],
          [
           "Netflix"
          ],
          [
           "Netflix"
          ],
          [
           "Netflix"
          ],
          [
           "Netflix"
          ],
          [
           "Netflix"
          ],
          [
           "Netflix"
          ],
          [
           "Netflix"
          ],
          [
           "Netflix"
          ],
          [
           "Netflix"
          ],
          [
           "Netflix"
          ],
          [
           "Netflix"
          ],
          [
           "Netflix"
          ],
          [
           "Netflix"
          ],
          [
           "Netflix"
          ],
          [
           "Netflix"
          ],
          [
           "Netflix"
          ],
          [
           "Netflix"
          ],
          [
           "Netflix"
          ],
          [
           "Netflix"
          ],
          [
           "Netflix"
          ],
          [
           "Netflix"
          ],
          [
           "Netflix"
          ],
          [
           "Netflix"
          ],
          [
           "Netflix"
          ],
          [
           "Netflix"
          ],
          [
           "Netflix"
          ],
          [
           "Netflix"
          ],
          [
           "Netflix"
          ],
          [
           "Netflix"
          ],
          [
           "Netflix"
          ],
          [
           "Netflix"
          ],
          [
           "Netflix"
          ],
          [
           "Netflix"
          ],
          [
           "Netflix"
          ],
          [
           "Netflix"
          ],
          [
           "Netflix"
          ],
          [
           "Netflix"
          ],
          [
           "Netflix"
          ],
          [
           "Netflix"
          ],
          [
           "Netflix"
          ],
          [
           "Netflix"
          ],
          [
           "Netflix"
          ],
          [
           "Netflix"
          ],
          [
           "Netflix"
          ],
          [
           "Netflix"
          ],
          [
           "Netflix"
          ],
          [
           "Netflix"
          ],
          [
           "Netflix"
          ],
          [
           "Netflix"
          ],
          [
           "Netflix"
          ],
          [
           "Netflix"
          ],
          [
           "Netflix"
          ],
          [
           "Netflix"
          ],
          [
           "Netflix"
          ],
          [
           "Netflix"
          ],
          [
           "Netflix"
          ],
          [
           "Netflix"
          ],
          [
           "Netflix"
          ],
          [
           "Netflix"
          ],
          [
           "Netflix"
          ],
          [
           "Netflix"
          ],
          [
           "Netflix"
          ],
          [
           "Netflix"
          ],
          [
           "Netflix"
          ],
          [
           "Netflix"
          ],
          [
           "Netflix"
          ],
          [
           "Netflix"
          ],
          [
           "Netflix"
          ],
          [
           "Netflix"
          ],
          [
           "Netflix"
          ],
          [
           "Netflix"
          ],
          [
           "Netflix"
          ],
          [
           "Netflix"
          ],
          [
           "Netflix"
          ],
          [
           "Netflix"
          ],
          [
           "Netflix"
          ],
          [
           "Netflix"
          ],
          [
           "Netflix"
          ],
          [
           "Netflix"
          ],
          [
           "Netflix"
          ],
          [
           "Netflix"
          ],
          [
           "Netflix"
          ],
          [
           "Netflix"
          ],
          [
           "Netflix"
          ],
          [
           "Netflix"
          ],
          [
           "Netflix"
          ],
          [
           "Netflix"
          ],
          [
           "Netflix"
          ],
          [
           "Netflix"
          ],
          [
           "Netflix"
          ],
          [
           "Netflix"
          ],
          [
           "Netflix"
          ],
          [
           "Netflix"
          ],
          [
           "Netflix"
          ],
          [
           "Netflix"
          ],
          [
           "Netflix"
          ],
          [
           "Netflix"
          ],
          [
           "Netflix"
          ],
          [
           "Netflix"
          ],
          [
           "Netflix"
          ],
          [
           "Netflix"
          ],
          [
           "Netflix"
          ],
          [
           "Netflix"
          ],
          [
           "Netflix"
          ],
          [
           "Netflix"
          ],
          [
           "Netflix"
          ],
          [
           "Netflix"
          ],
          [
           "Netflix"
          ],
          [
           "Netflix"
          ],
          [
           "Netflix"
          ],
          [
           "Netflix"
          ],
          [
           "Netflix"
          ],
          [
           "Netflix"
          ],
          [
           "Netflix"
          ],
          [
           "Netflix"
          ],
          [
           "Netflix"
          ],
          [
           "Netflix"
          ],
          [
           "Netflix"
          ],
          [
           "Netflix"
          ],
          [
           "Netflix"
          ],
          [
           "Netflix"
          ],
          [
           "Netflix"
          ],
          [
           "Netflix"
          ],
          [
           "Netflix"
          ],
          [
           "Netflix"
          ],
          [
           "Netflix"
          ],
          [
           "Netflix"
          ],
          [
           "Netflix"
          ],
          [
           "Netflix"
          ],
          [
           "Netflix"
          ],
          [
           "Netflix"
          ],
          [
           "Netflix"
          ],
          [
           "Netflix"
          ],
          [
           "Netflix"
          ],
          [
           "Netflix"
          ],
          [
           "Netflix"
          ],
          [
           "Netflix"
          ],
          [
           "Netflix"
          ],
          [
           "Netflix"
          ],
          [
           "Netflix"
          ],
          [
           "Netflix"
          ],
          [
           "Netflix"
          ],
          [
           "Netflix"
          ],
          [
           "Netflix"
          ],
          [
           "Netflix"
          ],
          [
           "Netflix"
          ],
          [
           "Netflix"
          ],
          [
           "Netflix"
          ],
          [
           "Netflix"
          ],
          [
           "Netflix"
          ],
          [
           "Netflix"
          ],
          [
           "Netflix"
          ],
          [
           "Netflix"
          ],
          [
           "Netflix"
          ],
          [
           "Netflix"
          ],
          [
           "Netflix"
          ],
          [
           "Netflix"
          ],
          [
           "Netflix"
          ],
          [
           "Netflix"
          ],
          [
           "Netflix"
          ],
          [
           "Netflix"
          ],
          [
           "Netflix"
          ],
          [
           "Netflix"
          ],
          [
           "Netflix"
          ],
          [
           "Amazon"
          ],
          [
           "Netflix"
          ],
          [
           "Netflix"
          ],
          [
           "Netflix"
          ],
          [
           "Netflix"
          ],
          [
           "Netflix"
          ],
          [
           "Netflix"
          ],
          [
           "Netflix"
          ],
          [
           "Netflix"
          ],
          [
           "Netflix"
          ],
          [
           "Netflix"
          ],
          [
           "Netflix"
          ],
          [
           "Netflix"
          ],
          [
           "Netflix"
          ],
          [
           "Netflix"
          ],
          [
           "Netflix"
          ],
          [
           "Netflix"
          ],
          [
           "Netflix"
          ],
          [
           "Netflix"
          ],
          [
           "Netflix"
          ],
          [
           "Netflix"
          ],
          [
           "Netflix"
          ],
          [
           "Netflix"
          ],
          [
           "Netflix"
          ],
          [
           "Netflix"
          ],
          [
           "Netflix"
          ],
          [
           "Netflix"
          ],
          [
           "Netflix"
          ],
          [
           "Netflix"
          ],
          [
           "Netflix"
          ],
          [
           "Netflix"
          ],
          [
           "Netflix"
          ],
          [
           "Netflix"
          ],
          [
           "Netflix"
          ],
          [
           "Netflix"
          ],
          [
           "Netflix"
          ],
          [
           "Netflix"
          ],
          [
           "Netflix"
          ],
          [
           "Netflix"
          ],
          [
           "Netflix"
          ],
          [
           "Netflix"
          ],
          [
           "Netflix"
          ],
          [
           "Netflix"
          ],
          [
           "Netflix"
          ],
          [
           "Netflix"
          ],
          [
           "Netflix"
          ],
          [
           "Netflix"
          ],
          [
           "Netflix"
          ],
          [
           "Netflix"
          ],
          [
           "Netflix"
          ],
          [
           "Netflix"
          ],
          [
           "Netflix"
          ],
          [
           "Netflix"
          ],
          [
           "Netflix"
          ],
          [
           "Netflix"
          ],
          [
           "Netflix"
          ],
          [
           "Netflix"
          ],
          [
           "Netflix"
          ],
          [
           "Netflix"
          ],
          [
           "Netflix"
          ],
          [
           "Netflix"
          ],
          [
           "Netflix"
          ],
          [
           "Netflix"
          ],
          [
           "Netflix"
          ],
          [
           "Netflix"
          ],
          [
           "Netflix"
          ],
          [
           "Netflix"
          ],
          [
           "Amazon"
          ],
          [
           "Netflix"
          ],
          [
           "Netflix"
          ],
          [
           "Netflix"
          ],
          [
           "Netflix"
          ],
          [
           "Netflix"
          ],
          [
           "Netflix"
          ],
          [
           "Netflix"
          ],
          [
           "Netflix"
          ],
          [
           "Netflix"
          ],
          [
           "Netflix"
          ],
          [
           "Netflix"
          ],
          [
           "Netflix"
          ],
          [
           "Netflix"
          ],
          [
           "Netflix"
          ],
          [
           "Netflix"
          ],
          [
           "Netflix"
          ],
          [
           "Netflix"
          ],
          [
           "Netflix"
          ],
          [
           "Netflix"
          ],
          [
           "Netflix"
          ],
          [
           "Netflix"
          ],
          [
           "Netflix"
          ],
          [
           "Netflix"
          ],
          [
           "Netflix"
          ],
          [
           "Netflix"
          ],
          [
           "Netflix"
          ],
          [
           "Netflix"
          ],
          [
           "Netflix"
          ],
          [
           "Netflix"
          ],
          [
           "Netflix"
          ],
          [
           "Netflix"
          ],
          [
           "Netflix"
          ],
          [
           "Netflix"
          ],
          [
           "Netflix"
          ],
          [
           "Netflix"
          ],
          [
           "Netflix"
          ],
          [
           "Netflix"
          ],
          [
           "Netflix"
          ],
          [
           "Netflix"
          ],
          [
           "Netflix"
          ],
          [
           "Netflix"
          ],
          [
           "Netflix"
          ],
          [
           "Netflix"
          ],
          [
           "Netflix"
          ],
          [
           "Netflix"
          ],
          [
           "Netflix"
          ],
          [
           "Netflix"
          ],
          [
           "Netflix"
          ],
          [
           "Netflix"
          ],
          [
           "Netflix"
          ],
          [
           "Netflix"
          ],
          [
           "Netflix"
          ],
          [
           "Netflix"
          ],
          [
           "Netflix"
          ],
          [
           "Netflix"
          ],
          [
           "Netflix"
          ],
          [
           "Netflix"
          ],
          [
           "Netflix"
          ],
          [
           "Netflix"
          ],
          [
           "Netflix"
          ],
          [
           "Netflix"
          ],
          [
           "Netflix"
          ],
          [
           "Netflix"
          ],
          [
           "Netflix"
          ],
          [
           "Netflix"
          ],
          [
           "Netflix"
          ],
          [
           "Netflix"
          ],
          [
           "Netflix"
          ],
          [
           "Netflix"
          ],
          [
           "Netflix"
          ],
          [
           "Netflix"
          ],
          [
           "Netflix"
          ],
          [
           "Netflix"
          ],
          [
           "Netflix"
          ],
          [
           "Netflix"
          ],
          [
           "Netflix"
          ],
          [
           "Netflix"
          ],
          [
           "Netflix"
          ],
          [
           "Netflix"
          ],
          [
           "Netflix"
          ],
          [
           "Netflix"
          ],
          [
           "Netflix"
          ],
          [
           "Netflix"
          ],
          [
           "Netflix"
          ],
          [
           "Netflix"
          ],
          [
           "Netflix"
          ],
          [
           "Netflix"
          ],
          [
           "Netflix"
          ],
          [
           "Netflix"
          ],
          [
           "Netflix"
          ],
          [
           "Netflix"
          ],
          [
           "Netflix"
          ],
          [
           "Netflix"
          ],
          [
           "Netflix"
          ],
          [
           "Netflix"
          ],
          [
           "Netflix"
          ],
          [
           "Netflix"
          ],
          [
           "Netflix"
          ],
          [
           "Netflix"
          ],
          [
           "Netflix"
          ],
          [
           "Netflix"
          ],
          [
           "Netflix"
          ],
          [
           "Netflix"
          ],
          [
           "Netflix"
          ],
          [
           "Netflix"
          ],
          [
           "Netflix"
          ],
          [
           "Netflix"
          ],
          [
           "Netflix"
          ],
          [
           "Netflix"
          ],
          [
           "Netflix"
          ],
          [
           "Netflix"
          ],
          [
           "Netflix"
          ],
          [
           "Netflix"
          ],
          [
           "Netflix"
          ],
          [
           "Netflix"
          ],
          [
           "Netflix"
          ],
          [
           "Netflix"
          ],
          [
           "Netflix"
          ],
          [
           "Netflix"
          ],
          [
           "Netflix"
          ],
          [
           "Netflix"
          ],
          [
           "Netflix"
          ],
          [
           "Netflix"
          ],
          [
           "Netflix"
          ],
          [
           "Netflix"
          ],
          [
           "Netflix"
          ],
          [
           "Netflix"
          ],
          [
           "Netflix"
          ],
          [
           "Netflix"
          ],
          [
           "Netflix"
          ],
          [
           "Netflix"
          ],
          [
           "Netflix"
          ],
          [
           "Netflix"
          ],
          [
           "Netflix"
          ],
          [
           "Netflix"
          ],
          [
           "Netflix"
          ],
          [
           "Netflix"
          ],
          [
           "Netflix"
          ],
          [
           "Netflix"
          ],
          [
           "Netflix"
          ],
          [
           "Netflix"
          ],
          [
           "Netflix"
          ],
          [
           "Netflix"
          ],
          [
           "Netflix"
          ],
          [
           "Netflix"
          ],
          [
           "Netflix"
          ],
          [
           "Netflix"
          ],
          [
           "Netflix"
          ],
          [
           "Netflix"
          ],
          [
           "Netflix"
          ],
          [
           "Netflix"
          ],
          [
           "Netflix"
          ],
          [
           "Netflix"
          ],
          [
           "Netflix"
          ],
          [
           "Netflix"
          ],
          [
           "Netflix"
          ],
          [
           "Netflix"
          ],
          [
           "Netflix"
          ],
          [
           "Netflix"
          ],
          [
           "Netflix"
          ],
          [
           "Netflix"
          ],
          [
           "Netflix"
          ],
          [
           "Netflix"
          ],
          [
           "Netflix"
          ],
          [
           "Netflix"
          ],
          [
           "Netflix"
          ],
          [
           "Netflix"
          ],
          [
           "Netflix"
          ],
          [
           "Netflix"
          ],
          [
           "Netflix"
          ],
          [
           "Netflix"
          ],
          [
           "Netflix"
          ],
          [
           "Netflix"
          ],
          [
           "Netflix"
          ],
          [
           "Netflix"
          ],
          [
           "Netflix"
          ],
          [
           "Netflix"
          ],
          [
           "Netflix"
          ],
          [
           "Netflix"
          ],
          [
           "Netflix"
          ],
          [
           "Netflix"
          ],
          [
           "Netflix"
          ],
          [
           "Netflix"
          ],
          [
           "Netflix"
          ],
          [
           "Netflix"
          ],
          [
           "Netflix"
          ],
          [
           "Netflix"
          ],
          [
           "Netflix"
          ],
          [
           "Netflix"
          ],
          [
           "Netflix"
          ],
          [
           "Netflix"
          ],
          [
           "Netflix"
          ],
          [
           "Netflix"
          ],
          [
           "Netflix"
          ],
          [
           "Netflix"
          ],
          [
           "Netflix"
          ],
          [
           "Netflix"
          ],
          [
           "Netflix"
          ],
          [
           "Netflix"
          ],
          [
           "Netflix"
          ],
          [
           "Netflix"
          ],
          [
           "Netflix"
          ],
          [
           "Netflix"
          ],
          [
           "Netflix"
          ],
          [
           "Netflix"
          ],
          [
           "Netflix"
          ],
          [
           "Netflix"
          ],
          [
           "Netflix"
          ],
          [
           "Netflix"
          ],
          [
           "Netflix"
          ],
          [
           "Netflix"
          ],
          [
           "Netflix"
          ],
          [
           "Netflix"
          ],
          [
           "Netflix"
          ],
          [
           "Netflix"
          ],
          [
           "Netflix"
          ],
          [
           "Netflix"
          ],
          [
           "Netflix"
          ],
          [
           "Netflix"
          ],
          [
           "Netflix"
          ],
          [
           "Netflix"
          ],
          [
           "Netflix"
          ],
          [
           "Netflix"
          ],
          [
           "Netflix"
          ],
          [
           "Netflix"
          ],
          [
           "Netflix"
          ],
          [
           "Netflix"
          ],
          [
           "Netflix"
          ],
          [
           "Netflix"
          ],
          [
           "Netflix"
          ],
          [
           "Netflix"
          ],
          [
           "Netflix"
          ],
          [
           "Netflix"
          ],
          [
           "Netflix"
          ],
          [
           "Netflix"
          ],
          [
           "Netflix"
          ],
          [
           "Netflix"
          ],
          [
           "Netflix"
          ],
          [
           "Netflix"
          ],
          [
           "Netflix"
          ],
          [
           "Netflix"
          ],
          [
           "Netflix"
          ],
          [
           "Netflix"
          ],
          [
           "Netflix"
          ],
          [
           "Netflix"
          ],
          [
           "Netflix"
          ],
          [
           "Netflix"
          ],
          [
           "Netflix"
          ],
          [
           "Netflix"
          ],
          [
           "Netflix"
          ],
          [
           "Netflix"
          ],
          [
           "Netflix"
          ],
          [
           "Netflix"
          ],
          [
           "Netflix"
          ],
          [
           "Netflix"
          ],
          [
           "Netflix"
          ],
          [
           "Netflix"
          ],
          [
           "Netflix"
          ],
          [
           "Netflix"
          ],
          [
           "Netflix"
          ],
          [
           "Netflix"
          ],
          [
           "Netflix"
          ],
          [
           "Netflix"
          ],
          [
           "Netflix"
          ],
          [
           "Netflix"
          ],
          [
           "Netflix"
          ],
          [
           "Netflix"
          ],
          [
           "Netflix"
          ],
          [
           "Netflix"
          ],
          [
           "Netflix"
          ],
          [
           "Netflix"
          ],
          [
           "Netflix"
          ],
          [
           "Netflix"
          ],
          [
           "Netflix"
          ],
          [
           "Netflix"
          ],
          [
           "Netflix"
          ],
          [
           "Netflix"
          ],
          [
           "Netflix"
          ],
          [
           "Netflix"
          ],
          [
           "Netflix"
          ],
          [
           "Netflix"
          ],
          [
           "Netflix"
          ],
          [
           "Netflix"
          ],
          [
           "Netflix"
          ],
          [
           "Netflix"
          ],
          [
           "Netflix"
          ],
          [
           "Netflix"
          ],
          [
           "Netflix"
          ],
          [
           "Netflix"
          ],
          [
           "Netflix"
          ],
          [
           "Netflix"
          ],
          [
           "Netflix"
          ],
          [
           "Netflix"
          ],
          [
           "Netflix"
          ],
          [
           "Netflix"
          ],
          [
           "Netflix"
          ],
          [
           "Netflix"
          ],
          [
           "Netflix"
          ],
          [
           "Netflix"
          ],
          [
           "Netflix"
          ],
          [
           "Netflix"
          ],
          [
           "Netflix"
          ],
          [
           "Netflix"
          ],
          [
           "Netflix"
          ],
          [
           "Netflix"
          ],
          [
           "Netflix"
          ],
          [
           "Netflix"
          ],
          [
           "Netflix"
          ],
          [
           "Netflix"
          ],
          [
           "Netflix"
          ],
          [
           "Netflix"
          ],
          [
           "Netflix"
          ],
          [
           "Netflix"
          ],
          [
           "Netflix"
          ],
          [
           "Netflix"
          ],
          [
           "Netflix"
          ],
          [
           "Netflix"
          ],
          [
           "Netflix"
          ],
          [
           "Netflix"
          ],
          [
           "Netflix"
          ],
          [
           "Netflix"
          ],
          [
           "Netflix"
          ],
          [
           "Netflix"
          ],
          [
           "Netflix"
          ],
          [
           "Netflix"
          ],
          [
           "Netflix"
          ],
          [
           "Netflix"
          ],
          [
           "Netflix"
          ],
          [
           "Netflix"
          ],
          [
           "Netflix"
          ],
          [
           "Netflix"
          ],
          [
           "Netflix"
          ],
          [
           "Netflix"
          ],
          [
           "Netflix"
          ],
          [
           "Netflix"
          ],
          [
           "Netflix"
          ],
          [
           "Netflix"
          ],
          [
           "Netflix"
          ],
          [
           "Netflix"
          ],
          [
           "Netflix"
          ],
          [
           "Netflix"
          ],
          [
           "Netflix"
          ],
          [
           "Netflix"
          ],
          [
           "Netflix"
          ],
          [
           "Netflix"
          ],
          [
           "Netflix"
          ],
          [
           "Netflix"
          ],
          [
           "Netflix"
          ],
          [
           "Netflix"
          ],
          [
           "Netflix"
          ],
          [
           "Netflix"
          ],
          [
           "Netflix"
          ],
          [
           "Netflix"
          ],
          [
           "Netflix"
          ],
          [
           "Netflix"
          ],
          [
           "Netflix"
          ],
          [
           "Netflix"
          ],
          [
           "Netflix"
          ],
          [
           "Netflix"
          ],
          [
           "Netflix"
          ],
          [
           "Netflix"
          ],
          [
           "Netflix"
          ],
          [
           "Netflix"
          ],
          [
           "Netflix"
          ],
          [
           "Netflix"
          ],
          [
           "Netflix"
          ],
          [
           "Netflix"
          ],
          [
           "Netflix"
          ],
          [
           "Netflix"
          ],
          [
           "Netflix"
          ],
          [
           "Netflix"
          ],
          [
           "Netflix"
          ],
          [
           "Netflix"
          ],
          [
           "Netflix"
          ],
          [
           "Netflix"
          ],
          [
           "Netflix"
          ],
          [
           "Netflix"
          ],
          [
           "Netflix"
          ],
          [
           "Netflix"
          ],
          [
           "Netflix"
          ],
          [
           "Netflix"
          ],
          [
           "Netflix"
          ],
          [
           "Netflix"
          ],
          [
           "Netflix"
          ],
          [
           "Netflix"
          ],
          [
           "Netflix"
          ],
          [
           "Netflix"
          ],
          [
           "Netflix"
          ],
          [
           "Netflix"
          ],
          [
           "Netflix"
          ],
          [
           "Netflix"
          ],
          [
           "Netflix"
          ],
          [
           "Netflix"
          ],
          [
           "Netflix"
          ],
          [
           "Netflix"
          ],
          [
           "Netflix"
          ],
          [
           "Netflix"
          ],
          [
           "Netflix"
          ],
          [
           "Netflix"
          ],
          [
           "Netflix"
          ],
          [
           "Netflix"
          ],
          [
           "Netflix"
          ],
          [
           "Netflix"
          ],
          [
           "Netflix"
          ],
          [
           "Netflix"
          ],
          [
           "Netflix"
          ],
          [
           "Netflix"
          ],
          [
           "Netflix"
          ],
          [
           "Netflix"
          ],
          [
           "Netflix"
          ],
          [
           "Netflix"
          ],
          [
           "Netflix"
          ],
          [
           "Netflix"
          ],
          [
           "Netflix"
          ],
          [
           "Netflix"
          ],
          [
           "Amazon"
          ],
          [
           "Netflix"
          ],
          [
           "Netflix"
          ],
          [
           "Netflix"
          ],
          [
           "Netflix"
          ],
          [
           "Netflix"
          ],
          [
           "Netflix"
          ],
          [
           "Netflix"
          ],
          [
           "Netflix"
          ],
          [
           "Netflix"
          ],
          [
           "Netflix"
          ],
          [
           "Netflix"
          ],
          [
           "Netflix"
          ],
          [
           "Netflix"
          ],
          [
           "Netflix"
          ],
          [
           "Netflix"
          ],
          [
           "Netflix"
          ],
          [
           "Netflix"
          ],
          [
           "Netflix"
          ],
          [
           "Netflix"
          ],
          [
           "Netflix"
          ],
          [
           "Netflix"
          ],
          [
           "Netflix"
          ],
          [
           "Netflix"
          ],
          [
           "Netflix"
          ],
          [
           "Netflix"
          ],
          [
           "Netflix"
          ],
          [
           "Netflix"
          ],
          [
           "Netflix"
          ],
          [
           "Netflix"
          ],
          [
           "Netflix"
          ],
          [
           "Netflix"
          ],
          [
           "Netflix"
          ],
          [
           "Netflix"
          ],
          [
           "Netflix"
          ],
          [
           "Netflix"
          ],
          [
           "Netflix"
          ],
          [
           "Netflix"
          ],
          [
           "Netflix"
          ],
          [
           "Netflix"
          ],
          [
           "Netflix"
          ],
          [
           "Netflix"
          ],
          [
           "Netflix"
          ],
          [
           "Netflix"
          ],
          [
           "Netflix"
          ],
          [
           "Netflix"
          ],
          [
           "Netflix"
          ],
          [
           "Netflix"
          ],
          [
           "Netflix"
          ],
          [
           "Netflix"
          ],
          [
           "Netflix"
          ],
          [
           "Netflix"
          ],
          [
           "Netflix"
          ],
          [
           "Netflix"
          ],
          [
           "Netflix"
          ],
          [
           "Netflix"
          ],
          [
           "Netflix"
          ],
          [
           "Netflix"
          ],
          [
           "Amazon"
          ],
          [
           "Netflix"
          ],
          [
           "Netflix"
          ],
          [
           "Netflix"
          ],
          [
           "Netflix"
          ],
          [
           "Netflix"
          ],
          [
           "Netflix"
          ],
          [
           "Netflix"
          ],
          [
           "Netflix"
          ],
          [
           "Netflix"
          ],
          [
           "Netflix"
          ],
          [
           "Netflix"
          ],
          [
           "Netflix"
          ],
          [
           "Netflix"
          ],
          [
           "Netflix"
          ],
          [
           "Netflix"
          ],
          [
           "Netflix"
          ],
          [
           "Netflix"
          ],
          [
           "Netflix"
          ],
          [
           "Netflix"
          ],
          [
           "Amazon"
          ],
          [
           "Netflix"
          ],
          [
           "Netflix"
          ],
          [
           "Netflix"
          ],
          [
           "Netflix"
          ],
          [
           "Netflix"
          ],
          [
           "Netflix"
          ],
          [
           "Netflix"
          ],
          [
           "Netflix"
          ],
          [
           "Amazon"
          ],
          [
           "Netflix"
          ],
          [
           "Netflix"
          ],
          [
           "Netflix"
          ],
          [
           "Netflix"
          ],
          [
           "Netflix"
          ],
          [
           "Netflix"
          ],
          [
           "Netflix"
          ],
          [
           "Netflix"
          ],
          [
           "Amazon"
          ],
          [
           "Netflix"
          ],
          [
           "Netflix"
          ],
          [
           "Netflix"
          ],
          [
           "Netflix"
          ],
          [
           "Netflix"
          ],
          [
           "Netflix"
          ],
          [
           "Netflix"
          ],
          [
           "Netflix"
          ],
          [
           "Netflix"
          ],
          [
           "Netflix"
          ],
          [
           "Netflix"
          ],
          [
           "Netflix"
          ],
          [
           "Netflix"
          ],
          [
           "Amazon"
          ],
          [
           "Netflix"
          ],
          [
           "Netflix"
          ],
          [
           "Netflix"
          ],
          [
           "Netflix"
          ],
          [
           "Netflix"
          ],
          [
           "Netflix"
          ],
          [
           "Netflix"
          ],
          [
           "Netflix"
          ],
          [
           "Netflix"
          ],
          [
           "Netflix"
          ],
          [
           "Netflix"
          ],
          [
           "Netflix"
          ],
          [
           "Netflix"
          ],
          [
           "Netflix"
          ],
          [
           "Netflix"
          ],
          [
           "Netflix"
          ],
          [
           "Netflix"
          ],
          [
           "Netflix"
          ],
          [
           "Netflix"
          ],
          [
           "Netflix"
          ],
          [
           "Netflix"
          ],
          [
           "Netflix"
          ],
          [
           "Netflix"
          ],
          [
           "Netflix"
          ],
          [
           "Netflix"
          ],
          [
           "Netflix"
          ],
          [
           "Netflix"
          ],
          [
           "Netflix"
          ],
          [
           "Netflix"
          ],
          [
           "Netflix"
          ],
          [
           "Netflix"
          ],
          [
           "Netflix"
          ],
          [
           "Netflix"
          ],
          [
           "Netflix"
          ],
          [
           "Netflix"
          ],
          [
           "Netflix"
          ],
          [
           "Netflix"
          ],
          [
           "Netflix"
          ],
          [
           "Netflix"
          ],
          [
           "Netflix"
          ],
          [
           "Netflix"
          ],
          [
           "Netflix"
          ],
          [
           "Netflix"
          ],
          [
           "Netflix"
          ],
          [
           "Netflix"
          ],
          [
           "Netflix"
          ],
          [
           "Netflix"
          ],
          [
           "Netflix"
          ],
          [
           "Netflix"
          ],
          [
           "Netflix"
          ],
          [
           "Netflix"
          ],
          [
           "Netflix"
          ],
          [
           "Netflix"
          ],
          [
           "Netflix"
          ],
          [
           "Netflix"
          ],
          [
           "Amazon"
          ],
          [
           "Netflix"
          ],
          [
           "Netflix"
          ],
          [
           "Netflix"
          ],
          [
           "Netflix"
          ],
          [
           "Netflix"
          ],
          [
           "Netflix"
          ],
          [
           "Netflix"
          ],
          [
           "Netflix"
          ],
          [
           "Netflix"
          ],
          [
           "Netflix"
          ],
          [
           "Netflix"
          ],
          [
           "Netflix"
          ],
          [
           "Netflix"
          ],
          [
           "Netflix"
          ],
          [
           "Netflix"
          ],
          [
           "Amazon"
          ],
          [
           "Netflix"
          ],
          [
           "Netflix"
          ],
          [
           "Netflix"
          ],
          [
           "Netflix"
          ],
          [
           "Netflix"
          ],
          [
           "Netflix"
          ],
          [
           "Netflix"
          ],
          [
           "Netflix"
          ],
          [
           "Netflix"
          ],
          [
           "Netflix"
          ],
          [
           "Netflix"
          ],
          [
           "Netflix"
          ],
          [
           "Netflix"
          ],
          [
           "Netflix"
          ],
          [
           "Netflix"
          ],
          [
           "Netflix"
          ],
          [
           "Netflix"
          ],
          [
           "Netflix"
          ],
          [
           "Netflix"
          ],
          [
           "Netflix"
          ],
          [
           "Netflix"
          ],
          [
           "Netflix"
          ],
          [
           "Netflix"
          ],
          [
           "Netflix"
          ],
          [
           "Netflix"
          ],
          [
           "Netflix"
          ],
          [
           "Netflix"
          ],
          [
           "Netflix"
          ],
          [
           "Netflix"
          ],
          [
           "Amazon"
          ],
          [
           "Netflix"
          ],
          [
           "Netflix"
          ],
          [
           "Netflix"
          ],
          [
           "Netflix"
          ],
          [
           "Netflix"
          ],
          [
           "Netflix"
          ],
          [
           "Netflix"
          ],
          [
           "Netflix"
          ],
          [
           "Netflix"
          ],
          [
           "Amazon"
          ],
          [
           "Netflix"
          ],
          [
           "Netflix"
          ],
          [
           "Netflix"
          ],
          [
           "Amazon"
          ],
          [
           "Netflix"
          ],
          [
           "Netflix"
          ],
          [
           "Netflix"
          ],
          [
           "Netflix"
          ],
          [
           "Netflix"
          ],
          [
           "Netflix"
          ],
          [
           "Netflix"
          ],
          [
           "Netflix"
          ],
          [
           "Netflix"
          ],
          [
           "Netflix"
          ],
          [
           "Netflix"
          ],
          [
           "Netflix"
          ],
          [
           "Netflix"
          ],
          [
           "Netflix"
          ],
          [
           "Netflix"
          ],
          [
           "Amazon"
          ],
          [
           "Netflix"
          ],
          [
           "Netflix"
          ],
          [
           "Netflix"
          ],
          [
           "Netflix"
          ],
          [
           "Netflix"
          ],
          [
           "Netflix"
          ],
          [
           "Netflix"
          ],
          [
           "Netflix"
          ],
          [
           "Netflix"
          ],
          [
           "Netflix"
          ],
          [
           "Netflix"
          ],
          [
           "Netflix"
          ],
          [
           "Netflix"
          ],
          [
           "Netflix"
          ],
          [
           "Netflix"
          ],
          [
           "Netflix"
          ],
          [
           "Netflix"
          ],
          [
           "Netflix"
          ],
          [
           "Netflix"
          ],
          [
           "Netflix"
          ],
          [
           "Netflix"
          ],
          [
           "Netflix"
          ],
          [
           "Netflix"
          ],
          [
           "Netflix"
          ],
          [
           "Netflix"
          ],
          [
           "Netflix"
          ],
          [
           "Netflix"
          ],
          [
           "Netflix"
          ],
          [
           "Netflix"
          ],
          [
           "Netflix"
          ],
          [
           "Netflix"
          ],
          [
           "Amazon"
          ],
          [
           "Netflix"
          ],
          [
           "Amazon"
          ],
          [
           "Netflix"
          ],
          [
           "Netflix"
          ],
          [
           "Netflix"
          ],
          [
           "Netflix"
          ],
          [
           "Netflix"
          ],
          [
           "Netflix"
          ],
          [
           "Netflix"
          ],
          [
           "Netflix"
          ],
          [
           "Netflix"
          ],
          [
           "Netflix"
          ],
          [
           "Netflix"
          ],
          [
           "Netflix"
          ],
          [
           "Netflix"
          ],
          [
           "Netflix"
          ],
          [
           "Netflix"
          ],
          [
           "Netflix"
          ],
          [
           "Amazon"
          ],
          [
           "Netflix"
          ],
          [
           "Netflix"
          ],
          [
           "Netflix"
          ],
          [
           "Netflix"
          ],
          [
           "Netflix"
          ],
          [
           "Netflix"
          ],
          [
           "Netflix"
          ],
          [
           "Netflix"
          ],
          [
           "Amazon"
          ],
          [
           "Netflix"
          ],
          [
           "Netflix"
          ],
          [
           "Amazon"
          ],
          [
           "Netflix"
          ],
          [
           "Netflix"
          ],
          [
           "Netflix"
          ],
          [
           "Netflix"
          ],
          [
           "Netflix"
          ],
          [
           "Netflix"
          ],
          [
           "Netflix"
          ],
          [
           "Netflix"
          ],
          [
           "Netflix"
          ],
          [
           "Netflix"
          ],
          [
           "Netflix"
          ],
          [
           "Netflix"
          ],
          [
           "Netflix"
          ],
          [
           "Amazon"
          ],
          [
           "Netflix"
          ],
          [
           "Netflix"
          ],
          [
           "Netflix"
          ],
          [
           "Netflix"
          ],
          [
           "Amazon"
          ],
          [
           "Netflix"
          ],
          [
           "Netflix"
          ],
          [
           "Netflix"
          ],
          [
           "Netflix"
          ],
          [
           "Netflix"
          ],
          [
           "Netflix"
          ],
          [
           "Netflix"
          ],
          [
           "Netflix"
          ],
          [
           "Netflix"
          ],
          [
           "Netflix"
          ],
          [
           "Netflix"
          ],
          [
           "Netflix"
          ],
          [
           "Netflix"
          ],
          [
           "Netflix"
          ],
          [
           "Netflix"
          ],
          [
           "Netflix"
          ],
          [
           "Netflix"
          ],
          [
           "Netflix"
          ],
          [
           "Netflix"
          ],
          [
           "Netflix"
          ],
          [
           "Netflix"
          ],
          [
           "Netflix"
          ],
          [
           "Netflix"
          ],
          [
           "Netflix"
          ],
          [
           "Netflix"
          ],
          [
           "Netflix"
          ],
          [
           "Netflix"
          ],
          [
           "Netflix"
          ],
          [
           "Netflix"
          ],
          [
           "Netflix"
          ],
          [
           "Netflix"
          ],
          [
           "Netflix"
          ],
          [
           "Netflix"
          ],
          [
           "Netflix"
          ],
          [
           "Amazon"
          ],
          [
           "Netflix"
          ],
          [
           "Netflix"
          ],
          [
           "Netflix"
          ],
          [
           "Netflix"
          ],
          [
           "Netflix"
          ],
          [
           "Netflix"
          ],
          [
           "Netflix"
          ],
          [
           "Netflix"
          ],
          [
           "Netflix"
          ],
          [
           "Netflix"
          ],
          [
           "Netflix"
          ],
          [
           "Netflix"
          ],
          [
           "Netflix"
          ],
          [
           "Netflix"
          ],
          [
           "Netflix"
          ],
          [
           "Netflix"
          ],
          [
           "Netflix"
          ],
          [
           "Netflix"
          ],
          [
           "Netflix"
          ],
          [
           "Netflix"
          ],
          [
           "Netflix"
          ],
          [
           "Netflix"
          ],
          [
           "Netflix"
          ],
          [
           "Netflix"
          ],
          [
           "Netflix"
          ],
          [
           "Netflix"
          ],
          [
           "Amazon"
          ],
          [
           "Netflix"
          ],
          [
           "Netflix"
          ],
          [
           "Netflix"
          ],
          [
           "Netflix"
          ],
          [
           "Netflix"
          ],
          [
           "Netflix"
          ],
          [
           "Netflix"
          ],
          [
           "Netflix"
          ],
          [
           "Netflix"
          ],
          [
           "Netflix"
          ],
          [
           "Netflix"
          ],
          [
           "Netflix"
          ],
          [
           "Netflix"
          ],
          [
           "Netflix"
          ],
          [
           "Netflix"
          ],
          [
           "Netflix"
          ],
          [
           "Amazon"
          ],
          [
           "Netflix"
          ],
          [
           "Netflix"
          ],
          [
           "Netflix"
          ],
          [
           "Netflix"
          ],
          [
           "Netflix"
          ],
          [
           "Netflix"
          ],
          [
           "Netflix"
          ],
          [
           "Netflix"
          ],
          [
           "Netflix"
          ],
          [
           "Amazon"
          ],
          [
           "Netflix"
          ],
          [
           "Amazon"
          ],
          [
           "Netflix"
          ],
          [
           "Netflix"
          ],
          [
           "Netflix"
          ],
          [
           "Netflix"
          ],
          [
           "Netflix"
          ],
          [
           "Netflix"
          ],
          [
           "Amazon"
          ],
          [
           "Netflix"
          ],
          [
           "Netflix"
          ],
          [
           "Netflix"
          ],
          [
           "Amazon"
          ],
          [
           "Netflix"
          ],
          [
           "Netflix"
          ],
          [
           "Netflix"
          ],
          [
           "Netflix"
          ],
          [
           "Netflix"
          ],
          [
           "Netflix"
          ],
          [
           "Netflix"
          ],
          [
           "Netflix"
          ],
          [
           "Netflix"
          ],
          [
           "Netflix"
          ],
          [
           "Netflix"
          ],
          [
           "Netflix"
          ],
          [
           "Netflix"
          ],
          [
           "Netflix"
          ],
          [
           "Netflix"
          ],
          [
           "Netflix"
          ],
          [
           "Netflix"
          ],
          [
           "Amazon"
          ],
          [
           "Netflix"
          ],
          [
           "Netflix"
          ],
          [
           "Netflix"
          ],
          [
           "Netflix"
          ],
          [
           "Netflix"
          ],
          [
           "Netflix"
          ],
          [
           "Netflix"
          ],
          [
           "Netflix"
          ],
          [
           "Netflix"
          ],
          [
           "Netflix"
          ],
          [
           "Netflix"
          ],
          [
           "Netflix"
          ],
          [
           "Netflix"
          ],
          [
           "Netflix"
          ],
          [
           "Netflix"
          ],
          [
           "Netflix"
          ],
          [
           "Netflix"
          ],
          [
           "Netflix"
          ],
          [
           "Netflix"
          ],
          [
           "Amazon"
          ],
          [
           "Netflix"
          ],
          [
           "Netflix"
          ],
          [
           "Netflix"
          ],
          [
           "Netflix"
          ],
          [
           "Netflix"
          ],
          [
           "Netflix"
          ],
          [
           "Netflix"
          ],
          [
           "Netflix"
          ],
          [
           "Netflix"
          ],
          [
           "Netflix"
          ],
          [
           "Netflix"
          ],
          [
           "Netflix"
          ],
          [
           "Amazon"
          ],
          [
           "Netflix"
          ],
          [
           "Netflix"
          ],
          [
           "Netflix"
          ],
          [
           "Netflix"
          ],
          [
           "Netflix"
          ],
          [
           "Netflix"
          ],
          [
           "Netflix"
          ],
          [
           "Netflix"
          ],
          [
           "Netflix"
          ],
          [
           "Netflix"
          ],
          [
           "Netflix"
          ],
          [
           "Netflix"
          ],
          [
           "Netflix"
          ],
          [
           "Netflix"
          ],
          [
           "Netflix"
          ],
          [
           "Netflix"
          ],
          [
           "Netflix"
          ],
          [
           "Netflix"
          ],
          [
           "Netflix"
          ],
          [
           "Netflix"
          ],
          [
           "Netflix"
          ],
          [
           "Netflix"
          ],
          [
           "Amazon"
          ],
          [
           "Netflix"
          ],
          [
           "Netflix"
          ],
          [
           "Netflix"
          ],
          [
           "Netflix"
          ],
          [
           "Netflix"
          ],
          [
           "Netflix"
          ],
          [
           "Netflix"
          ],
          [
           "Netflix"
          ],
          [
           "Netflix"
          ],
          [
           "Amazon"
          ],
          [
           "Netflix"
          ],
          [
           "Netflix"
          ],
          [
           "Netflix"
          ],
          [
           "Netflix"
          ],
          [
           "Netflix"
          ],
          [
           "Netflix"
          ],
          [
           "Netflix"
          ],
          [
           "Netflix"
          ],
          [
           "Netflix"
          ],
          [
           "Netflix"
          ],
          [
           "Netflix"
          ],
          [
           "Netflix"
          ],
          [
           "Netflix"
          ],
          [
           "Netflix"
          ],
          [
           "Netflix"
          ],
          [
           "Netflix"
          ],
          [
           "Netflix"
          ],
          [
           "Netflix"
          ],
          [
           "Netflix"
          ],
          [
           "Netflix"
          ],
          [
           "Netflix"
          ],
          [
           "Netflix"
          ],
          [
           "Netflix"
          ],
          [
           "Netflix"
          ],
          [
           "Amazon"
          ],
          [
           "Netflix"
          ],
          [
           "Netflix"
          ],
          [
           "Amazon"
          ],
          [
           "Netflix"
          ],
          [
           "Netflix"
          ],
          [
           "Netflix"
          ],
          [
           "Netflix"
          ],
          [
           "Netflix"
          ],
          [
           "Netflix"
          ],
          [
           "Netflix"
          ],
          [
           "Netflix"
          ],
          [
           "Netflix"
          ],
          [
           "Netflix"
          ],
          [
           "Amazon"
          ],
          [
           "Netflix"
          ],
          [
           "Netflix"
          ],
          [
           "Netflix"
          ],
          [
           "Amazon"
          ],
          [
           "Netflix"
          ],
          [
           "Netflix"
          ],
          [
           "Netflix"
          ],
          [
           "Netflix"
          ],
          [
           "Netflix"
          ],
          [
           "Netflix"
          ],
          [
           "Netflix"
          ],
          [
           "Netflix"
          ],
          [
           "Netflix"
          ],
          [
           "Netflix"
          ],
          [
           "Netflix"
          ],
          [
           "Netflix"
          ],
          [
           "Netflix"
          ],
          [
           "Netflix"
          ],
          [
           "Amazon"
          ],
          [
           "Netflix"
          ],
          [
           "Netflix"
          ],
          [
           "Netflix"
          ],
          [
           "Netflix"
          ],
          [
           "Netflix"
          ],
          [
           "Netflix"
          ],
          [
           "Netflix"
          ],
          [
           "Netflix"
          ],
          [
           "Netflix"
          ],
          [
           "Netflix"
          ],
          [
           "Netflix"
          ],
          [
           "Netflix"
          ],
          [
           "Netflix"
          ],
          [
           "Netflix"
          ],
          [
           "Netflix"
          ],
          [
           "Netflix"
          ],
          [
           "Netflix"
          ],
          [
           "Netflix"
          ],
          [
           "Amazon"
          ],
          [
           "Netflix"
          ],
          [
           "Netflix"
          ],
          [
           "Netflix"
          ],
          [
           "Netflix"
          ],
          [
           "Netflix"
          ],
          [
           "Netflix"
          ],
          [
           "Netflix"
          ],
          [
           "Netflix"
          ],
          [
           "Netflix"
          ],
          [
           "Netflix"
          ],
          [
           "Netflix"
          ],
          [
           "Netflix"
          ],
          [
           "Netflix"
          ],
          [
           "Netflix"
          ],
          [
           "Netflix"
          ],
          [
           "Netflix"
          ],
          [
           "Netflix"
          ],
          [
           "Amazon"
          ],
          [
           "Netflix"
          ],
          [
           "Netflix"
          ],
          [
           "Netflix"
          ],
          [
           "Netflix"
          ],
          [
           "Amazon"
          ],
          [
           "Netflix"
          ],
          [
           "Netflix"
          ],
          [
           "Netflix"
          ],
          [
           "Netflix"
          ],
          [
           "Netflix"
          ],
          [
           "Netflix"
          ],
          [
           "Netflix"
          ],
          [
           "Netflix"
          ],
          [
           "Netflix"
          ],
          [
           "Netflix"
          ],
          [
           "Netflix"
          ],
          [
           "Netflix"
          ],
          [
           "Netflix"
          ],
          [
           "Netflix"
          ],
          [
           "Netflix"
          ],
          [
           "Netflix"
          ],
          [
           "Netflix"
          ],
          [
           "Netflix"
          ],
          [
           "Netflix"
          ],
          [
           "Netflix"
          ],
          [
           "Netflix"
          ],
          [
           "Netflix"
          ],
          [
           "Netflix"
          ],
          [
           "Netflix"
          ],
          [
           "Netflix"
          ],
          [
           "Netflix"
          ],
          [
           "Netflix"
          ],
          [
           "Netflix"
          ],
          [
           "Netflix"
          ],
          [
           "Netflix"
          ],
          [
           "Netflix"
          ],
          [
           "Netflix"
          ],
          [
           "Netflix"
          ],
          [
           "Netflix"
          ],
          [
           "Netflix"
          ],
          [
           "Netflix"
          ],
          [
           "Netflix"
          ],
          [
           "Netflix"
          ],
          [
           "Netflix"
          ],
          [
           "Netflix"
          ],
          [
           "Netflix"
          ],
          [
           "Netflix"
          ],
          [
           "Netflix"
          ],
          [
           "Netflix"
          ],
          [
           "Amazon"
          ],
          [
           "Netflix"
          ],
          [
           "Netflix"
          ],
          [
           "Netflix"
          ],
          [
           "Netflix"
          ],
          [
           "Netflix"
          ],
          [
           "Netflix"
          ],
          [
           "Netflix"
          ],
          [
           "Netflix"
          ],
          [
           "Netflix"
          ],
          [
           "Amazon"
          ],
          [
           "Netflix"
          ],
          [
           "Netflix"
          ],
          [
           "Netflix"
          ],
          [
           "Netflix"
          ],
          [
           "Netflix"
          ],
          [
           "Netflix"
          ],
          [
           "Netflix"
          ],
          [
           "Netflix"
          ],
          [
           "Netflix"
          ],
          [
           "Netflix"
          ],
          [
           "Netflix"
          ],
          [
           "Netflix"
          ],
          [
           "Netflix"
          ],
          [
           "Netflix"
          ],
          [
           "Netflix"
          ],
          [
           "Netflix"
          ],
          [
           "Netflix"
          ],
          [
           "Netflix"
          ],
          [
           "Netflix"
          ],
          [
           "Netflix"
          ],
          [
           "Netflix"
          ],
          [
           "Netflix"
          ],
          [
           "Netflix"
          ],
          [
           "Netflix"
          ],
          [
           "Netflix"
          ],
          [
           "Amazon"
          ],
          [
           "Netflix"
          ],
          [
           "Netflix"
          ],
          [
           "Netflix"
          ],
          [
           "Netflix"
          ],
          [
           "Amazon"
          ],
          [
           "Netflix"
          ],
          [
           "Netflix"
          ],
          [
           "Netflix"
          ],
          [
           "Netflix"
          ],
          [
           "Netflix"
          ],
          [
           "Netflix"
          ],
          [
           "Netflix"
          ],
          [
           "Netflix"
          ],
          [
           "Netflix"
          ],
          [
           "Netflix"
          ],
          [
           "Netflix"
          ],
          [
           "Netflix"
          ],
          [
           "Netflix"
          ],
          [
           "Netflix"
          ],
          [
           "Netflix"
          ],
          [
           "Netflix"
          ],
          [
           "Netflix"
          ],
          [
           "Netflix"
          ],
          [
           "Netflix"
          ],
          [
           "Amazon"
          ],
          [
           "Netflix"
          ],
          [
           "Netflix"
          ],
          [
           "Netflix"
          ],
          [
           "Netflix"
          ],
          [
           "Netflix"
          ],
          [
           "Netflix"
          ],
          [
           "Netflix"
          ],
          [
           "Netflix"
          ],
          [
           "Netflix"
          ],
          [
           "Netflix"
          ],
          [
           "Netflix"
          ],
          [
           "Netflix"
          ],
          [
           "Netflix"
          ],
          [
           "Netflix"
          ],
          [
           "Netflix"
          ],
          [
           "Netflix"
          ],
          [
           "Netflix"
          ],
          [
           "Netflix"
          ],
          [
           "Netflix"
          ],
          [
           "Netflix"
          ],
          [
           "Netflix"
          ],
          [
           "Netflix"
          ],
          [
           "Netflix"
          ],
          [
           "Netflix"
          ],
          [
           "Netflix"
          ],
          [
           "Netflix"
          ],
          [
           "Netflix"
          ],
          [
           "Netflix"
          ],
          [
           "Amazon"
          ],
          [
           "Netflix"
          ],
          [
           "Netflix"
          ],
          [
           "Netflix"
          ],
          [
           "Netflix"
          ],
          [
           "Netflix"
          ],
          [
           "Netflix"
          ],
          [
           "Netflix"
          ],
          [
           "Netflix"
          ],
          [
           "Netflix"
          ],
          [
           "Netflix"
          ],
          [
           "Netflix"
          ],
          [
           "Netflix"
          ],
          [
           "Netflix"
          ],
          [
           "Netflix"
          ],
          [
           "Netflix"
          ],
          [
           "Netflix"
          ],
          [
           "Netflix"
          ],
          [
           "Amazon"
          ],
          [
           "Netflix"
          ],
          [
           "Netflix"
          ],
          [
           "Amazon"
          ],
          [
           "Netflix"
          ],
          [
           "Netflix"
          ],
          [
           "Netflix"
          ],
          [
           "Netflix"
          ],
          [
           "Amazon"
          ],
          [
           "Netflix"
          ],
          [
           "Netflix"
          ],
          [
           "Netflix"
          ],
          [
           "Netflix"
          ],
          [
           "Netflix"
          ],
          [
           "Netflix"
          ],
          [
           "Netflix"
          ],
          [
           "Netflix"
          ],
          [
           "Netflix"
          ],
          [
           "Netflix"
          ],
          [
           "Netflix"
          ],
          [
           "Netflix"
          ],
          [
           "Netflix"
          ],
          [
           "Netflix"
          ],
          [
           "Netflix"
          ],
          [
           "Netflix"
          ],
          [
           "Netflix"
          ],
          [
           "Netflix"
          ],
          [
           "Netflix"
          ],
          [
           "Netflix"
          ],
          [
           "Netflix"
          ],
          [
           "Netflix"
          ],
          [
           "Netflix"
          ],
          [
           "Netflix"
          ],
          [
           "Netflix"
          ],
          [
           "Netflix"
          ],
          [
           "Netflix"
          ],
          [
           "Netflix"
          ],
          [
           "Netflix"
          ],
          [
           "Netflix"
          ],
          [
           "Netflix"
          ],
          [
           "Netflix"
          ],
          [
           "Netflix"
          ],
          [
           "Netflix"
          ],
          [
           "Netflix"
          ],
          [
           "Netflix"
          ],
          [
           "Netflix"
          ],
          [
           "Netflix"
          ],
          [
           "Amazon"
          ],
          [
           "Netflix"
          ],
          [
           "Netflix"
          ],
          [
           "Netflix"
          ],
          [
           "Netflix"
          ],
          [
           "Netflix"
          ],
          [
           "Amazon"
          ],
          [
           "Netflix"
          ],
          [
           "Netflix"
          ],
          [
           "Netflix"
          ],
          [
           "Netflix"
          ],
          [
           "Netflix"
          ],
          [
           "Netflix"
          ],
          [
           "Netflix"
          ],
          [
           "Netflix"
          ],
          [
           "Amazon"
          ],
          [
           "Netflix"
          ],
          [
           "Netflix"
          ],
          [
           "Netflix"
          ],
          [
           "Netflix"
          ],
          [
           "Netflix"
          ],
          [
           "Netflix"
          ],
          [
           "Netflix"
          ],
          [
           "Netflix"
          ],
          [
           "Netflix"
          ],
          [
           "Netflix"
          ],
          [
           "Netflix"
          ],
          [
           "Netflix"
          ],
          [
           "Netflix"
          ],
          [
           "Netflix"
          ],
          [
           "Netflix"
          ],
          [
           "Netflix"
          ],
          [
           "Netflix"
          ],
          [
           "Netflix"
          ],
          [
           "Netflix"
          ],
          [
           "Netflix"
          ],
          [
           "Netflix"
          ],
          [
           "Netflix"
          ],
          [
           "Netflix"
          ],
          [
           "Netflix"
          ],
          [
           "Netflix"
          ],
          [
           "Netflix"
          ],
          [
           "Netflix"
          ],
          [
           "Netflix"
          ],
          [
           "Netflix"
          ],
          [
           "Netflix"
          ],
          [
           "Netflix"
          ],
          [
           "Netflix"
          ],
          [
           "Netflix"
          ],
          [
           "Netflix"
          ],
          [
           "Netflix"
          ],
          [
           "Netflix"
          ],
          [
           "Netflix"
          ],
          [
           "Netflix"
          ],
          [
           "Netflix"
          ],
          [
           "Netflix"
          ],
          [
           "Amazon"
          ],
          [
           "Netflix"
          ],
          [
           "Netflix"
          ],
          [
           "Netflix"
          ],
          [
           "Netflix"
          ],
          [
           "Netflix"
          ],
          [
           "Netflix"
          ],
          [
           "Netflix"
          ],
          [
           "Netflix"
          ],
          [
           "Netflix"
          ],
          [
           "Netflix"
          ],
          [
           "Amazon"
          ],
          [
           "Netflix"
          ],
          [
           "Netflix"
          ],
          [
           "Netflix"
          ],
          [
           "Netflix"
          ],
          [
           "Netflix"
          ],
          [
           "Netflix"
          ],
          [
           "Netflix"
          ],
          [
           "Netflix"
          ],
          [
           "Netflix"
          ],
          [
           "Netflix"
          ],
          [
           "Netflix"
          ],
          [
           "Netflix"
          ],
          [
           "Netflix"
          ],
          [
           "Netflix"
          ],
          [
           "Netflix"
          ],
          [
           "Netflix"
          ],
          [
           "Netflix"
          ],
          [
           "Amazon"
          ],
          [
           "Netflix"
          ],
          [
           "Netflix"
          ],
          [
           "Netflix"
          ],
          [
           "Netflix"
          ],
          [
           "Netflix"
          ],
          [
           "Netflix"
          ],
          [
           "Netflix"
          ],
          [
           "Amazon"
          ],
          [
           "Netflix"
          ],
          [
           "Netflix"
          ],
          [
           "Netflix"
          ],
          [
           "Netflix"
          ],
          [
           "Netflix"
          ],
          [
           "Netflix"
          ],
          [
           "Netflix"
          ],
          [
           "Netflix"
          ],
          [
           "Netflix"
          ],
          [
           "Amazon"
          ],
          [
           "Netflix"
          ],
          [
           "Netflix"
          ],
          [
           "Amazon"
          ],
          [
           "Netflix"
          ],
          [
           "Netflix"
          ],
          [
           "Netflix"
          ],
          [
           "Netflix"
          ],
          [
           "Netflix"
          ],
          [
           "Netflix"
          ],
          [
           "Netflix"
          ],
          [
           "Netflix"
          ],
          [
           "Netflix"
          ],
          [
           "Amazon"
          ],
          [
           "Netflix"
          ],
          [
           "Netflix"
          ],
          [
           "Netflix"
          ],
          [
           "Netflix"
          ],
          [
           "Netflix"
          ],
          [
           "Netflix"
          ],
          [
           "Netflix"
          ],
          [
           "Netflix"
          ],
          [
           "Amazon"
          ],
          [
           "Netflix"
          ],
          [
           "Netflix"
          ],
          [
           "Netflix"
          ],
          [
           "Netflix"
          ],
          [
           "Netflix"
          ],
          [
           "Netflix"
          ],
          [
           "Netflix"
          ],
          [
           "Netflix"
          ],
          [
           "Netflix"
          ],
          [
           "Netflix"
          ],
          [
           "Netflix"
          ],
          [
           "Netflix"
          ],
          [
           "Netflix"
          ],
          [
           "Netflix"
          ],
          [
           "Netflix"
          ],
          [
           "Netflix"
          ],
          [
           "Netflix"
          ],
          [
           "Netflix"
          ],
          [
           "Netflix"
          ],
          [
           "Netflix"
          ],
          [
           "Netflix"
          ],
          [
           "Netflix"
          ],
          [
           "Netflix"
          ],
          [
           "Netflix"
          ],
          [
           "Netflix"
          ],
          [
           "Amazon"
          ],
          [
           "Netflix"
          ],
          [
           "Netflix"
          ],
          [
           "Netflix"
          ],
          [
           "Netflix"
          ],
          [
           "Netflix"
          ],
          [
           "Netflix"
          ],
          [
           "Netflix"
          ],
          [
           "Netflix"
          ],
          [
           "Netflix"
          ],
          [
           "Netflix"
          ],
          [
           "Amazon"
          ],
          [
           "Amazon"
          ],
          [
           "Amazon"
          ],
          [
           "Amazon"
          ],
          [
           "Amazon"
          ],
          [
           "Amazon"
          ],
          [
           "Amazon"
          ],
          [
           "Amazon"
          ],
          [
           "Amazon"
          ],
          [
           "Amazon"
          ],
          [
           "Amazon"
          ],
          [
           "Amazon"
          ],
          [
           "Amazon"
          ],
          [
           "Amazon"
          ],
          [
           "Amazon"
          ],
          [
           "Amazon"
          ],
          [
           "Amazon"
          ],
          [
           "Amazon"
          ],
          [
           "Amazon"
          ],
          [
           "Amazon"
          ],
          [
           "Amazon"
          ],
          [
           "Amazon"
          ],
          [
           "Amazon"
          ],
          [
           "Amazon"
          ],
          [
           "Amazon"
          ],
          [
           "Amazon"
          ],
          [
           "Amazon"
          ],
          [
           "Amazon"
          ],
          [
           "Amazon"
          ],
          [
           "Amazon"
          ],
          [
           "Amazon"
          ],
          [
           "Amazon"
          ],
          [
           "Amazon"
          ],
          [
           "Amazon"
          ],
          [
           "Amazon"
          ],
          [
           "Amazon"
          ],
          [
           "Amazon"
          ],
          [
           "Amazon"
          ],
          [
           "Amazon"
          ],
          [
           "Amazon"
          ],
          [
           "Amazon"
          ],
          [
           "Amazon"
          ],
          [
           "Amazon"
          ],
          [
           "Amazon"
          ],
          [
           "Amazon"
          ],
          [
           "Amazon"
          ],
          [
           "Amazon"
          ],
          [
           "Amazon"
          ],
          [
           "Amazon"
          ],
          [
           "Amazon"
          ],
          [
           "Amazon"
          ],
          [
           "Amazon"
          ],
          [
           "Amazon"
          ],
          [
           "Amazon"
          ],
          [
           "Amazon"
          ],
          [
           "Amazon"
          ],
          [
           "Amazon"
          ],
          [
           "Amazon"
          ],
          [
           "Amazon"
          ],
          [
           "Amazon"
          ],
          [
           "Amazon"
          ],
          [
           "Amazon"
          ],
          [
           "Amazon"
          ],
          [
           "Amazon"
          ],
          [
           "Amazon"
          ],
          [
           "Amazon"
          ],
          [
           "Amazon"
          ],
          [
           "Amazon"
          ],
          [
           "Amazon"
          ],
          [
           "Amazon"
          ],
          [
           "Amazon"
          ],
          [
           "Amazon"
          ],
          [
           "Amazon"
          ],
          [
           "Amazon"
          ],
          [
           "Amazon"
          ],
          [
           "Amazon"
          ],
          [
           "Amazon"
          ],
          [
           "Amazon"
          ],
          [
           "Amazon"
          ],
          [
           "Amazon"
          ],
          [
           "Amazon"
          ],
          [
           "Amazon"
          ],
          [
           "Amazon"
          ],
          [
           "Amazon"
          ],
          [
           "Amazon"
          ],
          [
           "Amazon"
          ],
          [
           "Amazon"
          ],
          [
           "Amazon"
          ],
          [
           "Amazon"
          ],
          [
           "Amazon"
          ],
          [
           "Amazon"
          ],
          [
           "Amazon"
          ],
          [
           "Amazon"
          ],
          [
           "Amazon"
          ],
          [
           "Amazon"
          ],
          [
           "Amazon"
          ],
          [
           "Amazon"
          ],
          [
           "Amazon"
          ],
          [
           "Amazon"
          ],
          [
           "Amazon"
          ],
          [
           "Amazon"
          ],
          [
           "Amazon"
          ],
          [
           "Amazon"
          ],
          [
           "Amazon"
          ],
          [
           "Amazon"
          ],
          [
           "Amazon"
          ],
          [
           "Amazon"
          ],
          [
           "Amazon"
          ],
          [
           "Amazon"
          ],
          [
           "Amazon"
          ],
          [
           "Amazon"
          ],
          [
           "Amazon"
          ],
          [
           "Amazon"
          ],
          [
           "Amazon"
          ],
          [
           "Amazon"
          ],
          [
           "Amazon"
          ],
          [
           "Amazon"
          ],
          [
           "Amazon"
          ],
          [
           "Amazon"
          ],
          [
           "Amazon"
          ],
          [
           "Amazon"
          ],
          [
           "Amazon"
          ],
          [
           "Amazon"
          ],
          [
           "Amazon"
          ],
          [
           "Amazon"
          ],
          [
           "Amazon"
          ],
          [
           "Amazon"
          ],
          [
           "Amazon"
          ],
          [
           "Amazon"
          ],
          [
           "Amazon"
          ],
          [
           "Amazon"
          ],
          [
           "Amazon"
          ],
          [
           "Amazon"
          ],
          [
           "Amazon"
          ],
          [
           "Amazon"
          ],
          [
           "Amazon"
          ],
          [
           "Amazon"
          ],
          [
           "Amazon"
          ],
          [
           "Amazon"
          ],
          [
           "Amazon"
          ],
          [
           "Amazon"
          ],
          [
           "Amazon"
          ],
          [
           "Amazon"
          ],
          [
           "Amazon"
          ],
          [
           "Amazon"
          ],
          [
           "Amazon"
          ],
          [
           "Amazon"
          ],
          [
           "Amazon"
          ],
          [
           "Amazon"
          ],
          [
           "Amazon"
          ],
          [
           "Amazon"
          ],
          [
           "Amazon"
          ],
          [
           "Amazon"
          ],
          [
           "Amazon"
          ],
          [
           "Amazon"
          ],
          [
           "Amazon"
          ],
          [
           "Amazon"
          ],
          [
           "Amazon"
          ],
          [
           "Amazon"
          ],
          [
           "Amazon"
          ],
          [
           "Amazon"
          ],
          [
           "Amazon"
          ],
          [
           "Amazon"
          ],
          [
           "Amazon"
          ],
          [
           "Amazon"
          ],
          [
           "Amazon"
          ],
          [
           "Amazon"
          ],
          [
           "Amazon"
          ],
          [
           "Amazon"
          ],
          [
           "Amazon"
          ],
          [
           "Amazon"
          ],
          [
           "Amazon"
          ],
          [
           "Amazon"
          ],
          [
           "Amazon"
          ],
          [
           "Amazon"
          ],
          [
           "Amazon"
          ],
          [
           "Amazon"
          ],
          [
           "Amazon"
          ],
          [
           "Amazon"
          ],
          [
           "Amazon"
          ],
          [
           "Amazon"
          ],
          [
           "Amazon"
          ],
          [
           "Amazon"
          ],
          [
           "Amazon"
          ],
          [
           "Amazon"
          ],
          [
           "Amazon"
          ],
          [
           "Amazon"
          ],
          [
           "Amazon"
          ],
          [
           "Amazon"
          ],
          [
           "Amazon"
          ],
          [
           "Amazon"
          ],
          [
           "Amazon"
          ],
          [
           "Amazon"
          ],
          [
           "Amazon"
          ],
          [
           "Amazon"
          ],
          [
           "Amazon"
          ],
          [
           "Amazon"
          ],
          [
           "Amazon"
          ],
          [
           "Amazon"
          ],
          [
           "Amazon"
          ],
          [
           "Amazon"
          ],
          [
           "Amazon"
          ],
          [
           "Amazon"
          ],
          [
           "Amazon"
          ],
          [
           "Amazon"
          ],
          [
           "Amazon"
          ],
          [
           "Amazon"
          ],
          [
           "Amazon"
          ],
          [
           "Amazon"
          ],
          [
           "Amazon"
          ],
          [
           "Amazon"
          ],
          [
           "Amazon"
          ],
          [
           "Amazon"
          ],
          [
           "Amazon"
          ],
          [
           "Amazon"
          ],
          [
           "Amazon"
          ],
          [
           "Amazon"
          ],
          [
           "Amazon"
          ],
          [
           "Amazon"
          ],
          [
           "Amazon"
          ],
          [
           "Amazon"
          ],
          [
           "Amazon"
          ],
          [
           "Amazon"
          ],
          [
           "Amazon"
          ],
          [
           "Amazon"
          ],
          [
           "Amazon"
          ],
          [
           "Amazon"
          ],
          [
           "Amazon"
          ],
          [
           "Amazon"
          ],
          [
           "Amazon"
          ],
          [
           "Amazon"
          ],
          [
           "Amazon"
          ],
          [
           "Amazon"
          ],
          [
           "Amazon"
          ],
          [
           "Amazon"
          ],
          [
           "Amazon"
          ],
          [
           "Amazon"
          ],
          [
           "Amazon"
          ],
          [
           "Amazon"
          ],
          [
           "Amazon"
          ],
          [
           "Amazon"
          ],
          [
           "Amazon"
          ],
          [
           "Amazon"
          ],
          [
           "Amazon"
          ],
          [
           "Amazon"
          ],
          [
           "Amazon"
          ],
          [
           "Amazon"
          ],
          [
           "Amazon"
          ],
          [
           "Amazon"
          ],
          [
           "Amazon"
          ],
          [
           "Amazon"
          ],
          [
           "Amazon"
          ],
          [
           "Amazon"
          ],
          [
           "Amazon"
          ],
          [
           "Amazon"
          ],
          [
           "Amazon"
          ],
          [
           "Amazon"
          ],
          [
           "Amazon"
          ],
          [
           "Amazon"
          ],
          [
           "Amazon"
          ],
          [
           "Amazon"
          ],
          [
           "Amazon"
          ],
          [
           "Amazon"
          ],
          [
           "Amazon"
          ],
          [
           "Amazon"
          ],
          [
           "Amazon"
          ],
          [
           "Amazon"
          ],
          [
           "Amazon"
          ],
          [
           "Amazon"
          ],
          [
           "Amazon"
          ],
          [
           "Amazon"
          ],
          [
           "Amazon"
          ],
          [
           "Amazon"
          ],
          [
           "Amazon"
          ],
          [
           "Amazon"
          ],
          [
           "Amazon"
          ],
          [
           "Amazon"
          ],
          [
           "Amazon"
          ],
          [
           "Amazon"
          ],
          [
           "Amazon"
          ],
          [
           "Amazon"
          ],
          [
           "Amazon"
          ],
          [
           "Amazon"
          ],
          [
           "Amazon"
          ],
          [
           "Amazon"
          ],
          [
           "Amazon"
          ],
          [
           "Amazon"
          ],
          [
           "Amazon"
          ],
          [
           "Amazon"
          ],
          [
           "Amazon"
          ],
          [
           "Amazon"
          ],
          [
           "Amazon"
          ],
          [
           "Amazon"
          ],
          [
           "Amazon"
          ],
          [
           "Amazon"
          ],
          [
           "Amazon"
          ],
          [
           "Amazon"
          ],
          [
           "Amazon"
          ],
          [
           "Amazon"
          ],
          [
           "Amazon"
          ],
          [
           "Amazon"
          ],
          [
           "Amazon"
          ],
          [
           "Amazon"
          ],
          [
           "Amazon"
          ],
          [
           "Amazon"
          ],
          [
           "Amazon"
          ],
          [
           "Amazon"
          ],
          [
           "Amazon"
          ],
          [
           "Amazon"
          ],
          [
           "Amazon"
          ],
          [
           "Amazon"
          ],
          [
           "Amazon"
          ],
          [
           "Amazon"
          ],
          [
           "Amazon"
          ],
          [
           "Amazon"
          ],
          [
           "Amazon"
          ],
          [
           "Amazon"
          ],
          [
           "Amazon"
          ],
          [
           "Amazon"
          ],
          [
           "Amazon"
          ],
          [
           "Amazon"
          ],
          [
           "Amazon"
          ],
          [
           "Amazon"
          ],
          [
           "Amazon"
          ],
          [
           "Amazon"
          ],
          [
           "Amazon"
          ],
          [
           "Amazon"
          ],
          [
           "Amazon"
          ],
          [
           "Amazon"
          ],
          [
           "Amazon"
          ],
          [
           "Amazon"
          ],
          [
           "Amazon"
          ],
          [
           "Amazon"
          ],
          [
           "Amazon"
          ],
          [
           "Amazon"
          ],
          [
           "Amazon"
          ],
          [
           "Amazon"
          ],
          [
           "Amazon"
          ],
          [
           "Amazon"
          ],
          [
           "Amazon"
          ],
          [
           "Amazon"
          ],
          [
           "Amazon"
          ],
          [
           "Amazon"
          ],
          [
           "Amazon"
          ],
          [
           "Amazon"
          ],
          [
           "Amazon"
          ],
          [
           "Amazon"
          ],
          [
           "Amazon"
          ],
          [
           "Amazon"
          ],
          [
           "Amazon"
          ],
          [
           "Amazon"
          ],
          [
           "Amazon"
          ],
          [
           "Amazon"
          ],
          [
           "Amazon"
          ],
          [
           "Amazon"
          ],
          [
           "Amazon"
          ],
          [
           "Amazon"
          ],
          [
           "Amazon"
          ],
          [
           "Amazon"
          ],
          [
           "Amazon"
          ],
          [
           "Amazon"
          ],
          [
           "Amazon"
          ],
          [
           "Amazon"
          ],
          [
           "Amazon"
          ],
          [
           "Amazon"
          ],
          [
           "Amazon"
          ],
          [
           "Amazon"
          ],
          [
           "Amazon"
          ],
          [
           "Amazon"
          ],
          [
           "Amazon"
          ],
          [
           "Amazon"
          ],
          [
           "Amazon"
          ],
          [
           "Amazon"
          ],
          [
           "Amazon"
          ],
          [
           "Amazon"
          ],
          [
           "Amazon"
          ],
          [
           "Amazon"
          ],
          [
           "Amazon"
          ],
          [
           "Amazon"
          ],
          [
           "Amazon"
          ],
          [
           "Amazon"
          ],
          [
           "Amazon"
          ],
          [
           "Amazon"
          ],
          [
           "Amazon"
          ],
          [
           "Amazon"
          ],
          [
           "Amazon"
          ],
          [
           "Amazon"
          ],
          [
           "Amazon"
          ],
          [
           "Amazon"
          ],
          [
           "Amazon"
          ],
          [
           "Amazon"
          ],
          [
           "Amazon"
          ],
          [
           "Amazon"
          ],
          [
           "Amazon"
          ],
          [
           "Amazon"
          ],
          [
           "Amazon"
          ],
          [
           "Amazon"
          ],
          [
           "Amazon"
          ],
          [
           "Amazon"
          ],
          [
           "Amazon"
          ],
          [
           "Amazon"
          ],
          [
           "Amazon"
          ],
          [
           "Amazon"
          ],
          [
           "Amazon"
          ],
          [
           "Amazon"
          ],
          [
           "Amazon"
          ],
          [
           "Amazon"
          ],
          [
           "Amazon"
          ],
          [
           "Amazon"
          ],
          [
           "Amazon"
          ],
          [
           "Amazon"
          ],
          [
           "Amazon"
          ],
          [
           "Amazon"
          ],
          [
           "Amazon"
          ],
          [
           "Amazon"
          ],
          [
           "Amazon"
          ],
          [
           "Amazon"
          ],
          [
           "Amazon"
          ],
          [
           "Amazon"
          ],
          [
           "Amazon"
          ],
          [
           "Amazon"
          ],
          [
           "Amazon"
          ],
          [
           "Amazon"
          ],
          [
           "Amazon"
          ],
          [
           "Amazon"
          ],
          [
           "Amazon"
          ],
          [
           "Amazon"
          ],
          [
           "Amazon"
          ],
          [
           "Amazon"
          ],
          [
           "Amazon"
          ],
          [
           "Amazon"
          ],
          [
           "Amazon"
          ],
          [
           "Amazon"
          ],
          [
           "Amazon"
          ],
          [
           "Amazon"
          ],
          [
           "Amazon"
          ],
          [
           "Amazon"
          ],
          [
           "Amazon"
          ],
          [
           "Amazon"
          ],
          [
           "Amazon"
          ],
          [
           "Amazon"
          ],
          [
           "Amazon"
          ],
          [
           "Amazon"
          ],
          [
           "Amazon"
          ],
          [
           "Amazon"
          ],
          [
           "Amazon"
          ],
          [
           "Amazon"
          ],
          [
           "Amazon"
          ],
          [
           "Amazon"
          ],
          [
           "Amazon"
          ],
          [
           "Amazon"
          ],
          [
           "Amazon"
          ],
          [
           "Amazon"
          ],
          [
           "Amazon"
          ],
          [
           "Amazon"
          ],
          [
           "Amazon"
          ],
          [
           "Amazon"
          ],
          [
           "Amazon"
          ],
          [
           "Amazon"
          ],
          [
           "Amazon"
          ],
          [
           "Amazon"
          ],
          [
           "Amazon"
          ],
          [
           "Amazon"
          ],
          [
           "Amazon"
          ],
          [
           "Amazon"
          ],
          [
           "Amazon"
          ],
          [
           "Amazon"
          ],
          [
           "Amazon"
          ],
          [
           "Amazon"
          ],
          [
           "Amazon"
          ],
          [
           "Amazon"
          ],
          [
           "Amazon"
          ],
          [
           "Amazon"
          ],
          [
           "Amazon"
          ],
          [
           "Amazon"
          ],
          [
           "Amazon"
          ],
          [
           "Amazon"
          ],
          [
           "Amazon"
          ],
          [
           "Amazon"
          ],
          [
           "Amazon"
          ],
          [
           "Amazon"
          ],
          [
           "Amazon"
          ],
          [
           "Amazon"
          ],
          [
           "Amazon"
          ],
          [
           "Amazon"
          ],
          [
           "Amazon"
          ],
          [
           "Amazon"
          ],
          [
           "Amazon"
          ],
          [
           "Amazon"
          ],
          [
           "Amazon"
          ],
          [
           "Amazon"
          ],
          [
           "Amazon"
          ],
          [
           "Amazon"
          ],
          [
           "Amazon"
          ],
          [
           "Amazon"
          ],
          [
           "Amazon"
          ],
          [
           "Amazon"
          ],
          [
           "Amazon"
          ],
          [
           "Amazon"
          ],
          [
           "Amazon"
          ],
          [
           "Amazon"
          ],
          [
           "Amazon"
          ],
          [
           "Amazon"
          ],
          [
           "Amazon"
          ],
          [
           "Amazon"
          ],
          [
           "Amazon"
          ],
          [
           "Amazon"
          ],
          [
           "Amazon"
          ],
          [
           "Amazon"
          ],
          [
           "Amazon"
          ],
          [
           "Amazon"
          ],
          [
           "Amazon"
          ],
          [
           "Amazon"
          ],
          [
           "Amazon"
          ],
          [
           "Amazon"
          ],
          [
           "Amazon"
          ],
          [
           "Amazon"
          ],
          [
           "Amazon"
          ],
          [
           "Amazon"
          ],
          [
           "Amazon"
          ],
          [
           "Amazon"
          ],
          [
           "Amazon"
          ],
          [
           "Amazon"
          ],
          [
           "Amazon"
          ],
          [
           "Amazon"
          ],
          [
           "Amazon"
          ],
          [
           "Amazon"
          ],
          [
           "Amazon"
          ],
          [
           "Amazon"
          ],
          [
           "Amazon"
          ],
          [
           "Amazon"
          ],
          [
           "Amazon"
          ],
          [
           "Amazon"
          ],
          [
           "Amazon"
          ],
          [
           "Amazon"
          ],
          [
           "Amazon"
          ],
          [
           "Amazon"
          ],
          [
           "Amazon"
          ],
          [
           "Amazon"
          ],
          [
           "Amazon"
          ],
          [
           "Amazon"
          ],
          [
           "Amazon"
          ],
          [
           "Amazon"
          ],
          [
           "Amazon"
          ],
          [
           "Amazon"
          ],
          [
           "Amazon"
          ],
          [
           "Amazon"
          ],
          [
           "Amazon"
          ],
          [
           "Amazon"
          ],
          [
           "Amazon"
          ],
          [
           "Amazon"
          ],
          [
           "Amazon"
          ],
          [
           "Amazon"
          ],
          [
           "Amazon"
          ],
          [
           "Amazon"
          ],
          [
           "Amazon"
          ],
          [
           "Amazon"
          ],
          [
           "Amazon"
          ],
          [
           "Amazon"
          ],
          [
           "Amazon"
          ],
          [
           "Amazon"
          ],
          [
           "Amazon"
          ],
          [
           "Amazon"
          ],
          [
           "Amazon"
          ],
          [
           "Amazon"
          ],
          [
           "Amazon"
          ],
          [
           "Amazon"
          ],
          [
           "Amazon"
          ],
          [
           "Amazon"
          ],
          [
           "Amazon"
          ],
          [
           "Amazon"
          ],
          [
           "Amazon"
          ],
          [
           "Amazon"
          ],
          [
           "Amazon"
          ],
          [
           "Amazon"
          ],
          [
           "Amazon"
          ],
          [
           "Amazon"
          ],
          [
           "Amazon"
          ],
          [
           "Amazon"
          ],
          [
           "Amazon"
          ],
          [
           "Amazon"
          ],
          [
           "Amazon"
          ],
          [
           "Amazon"
          ],
          [
           "Amazon"
          ],
          [
           "Amazon"
          ],
          [
           "Amazon"
          ],
          [
           "Amazon"
          ],
          [
           "Amazon"
          ],
          [
           "Amazon"
          ],
          [
           "Amazon"
          ],
          [
           "Amazon"
          ],
          [
           "Amazon"
          ],
          [
           "Amazon"
          ],
          [
           "Amazon"
          ],
          [
           "Amazon"
          ],
          [
           "Amazon"
          ],
          [
           "Amazon"
          ],
          [
           "Amazon"
          ],
          [
           "Amazon"
          ],
          [
           "Amazon"
          ],
          [
           "Amazon"
          ],
          [
           "Amazon"
          ],
          [
           "Amazon"
          ],
          [
           "Amazon"
          ],
          [
           "Amazon"
          ],
          [
           "Amazon"
          ],
          [
           "Amazon"
          ],
          [
           "Amazon"
          ],
          [
           "Amazon"
          ],
          [
           "Amazon"
          ],
          [
           "Amazon"
          ],
          [
           "Amazon"
          ],
          [
           "Amazon"
          ],
          [
           "Amazon"
          ],
          [
           "Amazon"
          ],
          [
           "Amazon"
          ],
          [
           "Amazon"
          ],
          [
           "Amazon"
          ],
          [
           "Amazon"
          ],
          [
           "Amazon"
          ],
          [
           "Amazon"
          ],
          [
           "Amazon"
          ],
          [
           "Amazon"
          ],
          [
           "Amazon"
          ],
          [
           "Amazon"
          ],
          [
           "Amazon"
          ],
          [
           "Amazon"
          ],
          [
           "Amazon"
          ],
          [
           "Amazon"
          ],
          [
           "Amazon"
          ],
          [
           "Amazon"
          ],
          [
           "Amazon"
          ],
          [
           "Amazon"
          ],
          [
           "Amazon"
          ],
          [
           "Amazon"
          ],
          [
           "Amazon"
          ],
          [
           "Amazon"
          ],
          [
           "Amazon"
          ],
          [
           "Amazon"
          ],
          [
           "Amazon"
          ],
          [
           "Amazon"
          ],
          [
           "Amazon"
          ],
          [
           "Amazon"
          ],
          [
           "Amazon"
          ],
          [
           "Amazon"
          ],
          [
           "Amazon"
          ],
          [
           "Amazon"
          ],
          [
           "Amazon"
          ],
          [
           "Amazon"
          ],
          [
           "Amazon"
          ],
          [
           "Amazon"
          ],
          [
           "Amazon"
          ],
          [
           "Amazon"
          ],
          [
           "Amazon"
          ],
          [
           "Amazon"
          ],
          [
           "Amazon"
          ],
          [
           "Amazon"
          ],
          [
           "Amazon"
          ],
          [
           "Amazon"
          ],
          [
           "Amazon"
          ],
          [
           "Amazon"
          ],
          [
           "Amazon"
          ],
          [
           "Amazon"
          ],
          [
           "Amazon"
          ],
          [
           "Amazon"
          ],
          [
           "Amazon"
          ],
          [
           "Amazon"
          ],
          [
           "Amazon"
          ],
          [
           "Amazon"
          ],
          [
           "Amazon"
          ],
          [
           "Amazon"
          ],
          [
           "Amazon"
          ],
          [
           "Amazon"
          ],
          [
           "Amazon"
          ],
          [
           "Amazon"
          ],
          [
           "Amazon"
          ],
          [
           "Amazon"
          ],
          [
           "Amazon"
          ],
          [
           "Amazon"
          ],
          [
           "Amazon"
          ],
          [
           "Amazon"
          ],
          [
           "Amazon"
          ],
          [
           "Amazon"
          ],
          [
           "Amazon"
          ],
          [
           "Amazon"
          ],
          [
           "Amazon"
          ],
          [
           "Amazon"
          ],
          [
           "Amazon"
          ],
          [
           "Amazon"
          ],
          [
           "Amazon"
          ],
          [
           "Amazon"
          ],
          [
           "Amazon"
          ],
          [
           "Amazon"
          ],
          [
           "Amazon"
          ],
          [
           "Amazon"
          ],
          [
           "Amazon"
          ],
          [
           "Amazon"
          ],
          [
           "Amazon"
          ],
          [
           "Amazon"
          ],
          [
           "Amazon"
          ],
          [
           "Amazon"
          ],
          [
           "Amazon"
          ],
          [
           "Amazon"
          ],
          [
           "Amazon"
          ],
          [
           "Amazon"
          ],
          [
           "Amazon"
          ],
          [
           "Amazon"
          ],
          [
           "Amazon"
          ],
          [
           "Amazon"
          ],
          [
           "Amazon"
          ],
          [
           "Amazon"
          ],
          [
           "Amazon"
          ],
          [
           "Amazon"
          ],
          [
           "Amazon"
          ],
          [
           "Amazon"
          ],
          [
           "Amazon"
          ],
          [
           "Amazon"
          ],
          [
           "Amazon"
          ],
          [
           "Amazon"
          ],
          [
           "Amazon"
          ],
          [
           "Amazon"
          ],
          [
           "Amazon"
          ],
          [
           "Amazon"
          ],
          [
           "Amazon"
          ],
          [
           "Amazon"
          ],
          [
           "Amazon"
          ],
          [
           "Amazon"
          ],
          [
           "Amazon"
          ],
          [
           "Amazon"
          ],
          [
           "Amazon"
          ],
          [
           "Amazon"
          ],
          [
           "Amazon"
          ],
          [
           "Amazon"
          ],
          [
           "Amazon"
          ],
          [
           "Amazon"
          ],
          [
           "Amazon"
          ],
          [
           "Amazon"
          ],
          [
           "Amazon"
          ],
          [
           "Amazon"
          ],
          [
           "Amazon"
          ],
          [
           "Amazon"
          ],
          [
           "Amazon"
          ],
          [
           "Amazon"
          ],
          [
           "Amazon"
          ],
          [
           "Amazon"
          ],
          [
           "Amazon"
          ],
          [
           "Amazon"
          ],
          [
           "Amazon"
          ],
          [
           "Amazon"
          ],
          [
           "Amazon"
          ],
          [
           "Amazon"
          ],
          [
           "Amazon"
          ],
          [
           "Amazon"
          ],
          [
           "Amazon"
          ],
          [
           "Amazon"
          ],
          [
           "Amazon"
          ],
          [
           "Amazon"
          ],
          [
           "Amazon"
          ],
          [
           "Amazon"
          ],
          [
           "Amazon"
          ],
          [
           "Amazon"
          ],
          [
           "Amazon"
          ],
          [
           "Amazon"
          ],
          [
           "Amazon"
          ],
          [
           "Amazon"
          ],
          [
           "Amazon"
          ],
          [
           "Amazon"
          ],
          [
           "Amazon"
          ],
          [
           "Amazon"
          ],
          [
           "Amazon"
          ],
          [
           "Amazon"
          ],
          [
           "Amazon"
          ],
          [
           "Amazon"
          ],
          [
           "Amazon"
          ],
          [
           "Amazon"
          ],
          [
           "Amazon"
          ],
          [
           "Amazon"
          ],
          [
           "Amazon"
          ],
          [
           "Amazon"
          ],
          [
           "Amazon"
          ],
          [
           "Amazon"
          ],
          [
           "Amazon"
          ],
          [
           "Amazon"
          ],
          [
           "Amazon"
          ],
          [
           "Amazon"
          ],
          [
           "Amazon"
          ],
          [
           "Amazon"
          ],
          [
           "Amazon"
          ],
          [
           "Amazon"
          ],
          [
           "Amazon"
          ],
          [
           "Amazon"
          ],
          [
           "Amazon"
          ],
          [
           "Amazon"
          ],
          [
           "Amazon"
          ],
          [
           "Amazon"
          ],
          [
           "Amazon"
          ],
          [
           "Amazon"
          ],
          [
           "Amazon"
          ],
          [
           "Amazon"
          ],
          [
           "Amazon"
          ],
          [
           "Amazon"
          ],
          [
           "Amazon"
          ],
          [
           "Amazon"
          ],
          [
           "Amazon"
          ],
          [
           "Amazon"
          ],
          [
           "Amazon"
          ],
          [
           "Amazon"
          ],
          [
           "Amazon"
          ],
          [
           "Amazon"
          ],
          [
           "Amazon"
          ],
          [
           "Amazon"
          ],
          [
           "Amazon"
          ],
          [
           "Amazon"
          ],
          [
           "Amazon"
          ],
          [
           "Amazon"
          ],
          [
           "Amazon"
          ],
          [
           "Amazon"
          ],
          [
           "Amazon"
          ],
          [
           "Amazon"
          ],
          [
           "Amazon"
          ],
          [
           "Amazon"
          ],
          [
           "Amazon"
          ],
          [
           "Amazon"
          ],
          [
           "Amazon"
          ],
          [
           "Amazon"
          ],
          [
           "Amazon"
          ],
          [
           "Amazon"
          ],
          [
           "Amazon"
          ],
          [
           "Amazon"
          ],
          [
           "Amazon"
          ],
          [
           "Amazon"
          ],
          [
           "Amazon"
          ],
          [
           "Amazon"
          ],
          [
           "Amazon"
          ],
          [
           "Amazon"
          ],
          [
           "Amazon"
          ],
          [
           "Amazon"
          ],
          [
           "Amazon"
          ],
          [
           "Amazon"
          ],
          [
           "Amazon"
          ],
          [
           "Amazon"
          ],
          [
           "Amazon"
          ],
          [
           "Amazon"
          ],
          [
           "Amazon"
          ],
          [
           "Amazon"
          ],
          [
           "Amazon"
          ],
          [
           "Amazon"
          ],
          [
           "Amazon"
          ],
          [
           "Amazon"
          ],
          [
           "Amazon"
          ],
          [
           "Amazon"
          ],
          [
           "Amazon"
          ],
          [
           "Amazon"
          ],
          [
           "Amazon"
          ],
          [
           "Amazon"
          ],
          [
           "Amazon"
          ],
          [
           "Amazon"
          ],
          [
           "Amazon"
          ],
          [
           "Amazon"
          ],
          [
           "Amazon"
          ],
          [
           "Amazon"
          ],
          [
           "Amazon"
          ],
          [
           "Amazon"
          ],
          [
           "Amazon"
          ],
          [
           "Amazon"
          ],
          [
           "Amazon"
          ],
          [
           "Amazon"
          ],
          [
           "Amazon"
          ],
          [
           "Amazon"
          ],
          [
           "Amazon"
          ],
          [
           "Amazon"
          ],
          [
           "Amazon"
          ],
          [
           "Amazon"
          ],
          [
           "Amazon"
          ],
          [
           "Amazon"
          ],
          [
           "Amazon"
          ],
          [
           "Amazon"
          ],
          [
           "Amazon"
          ],
          [
           "Amazon"
          ],
          [
           "Amazon"
          ],
          [
           "Amazon"
          ],
          [
           "Amazon"
          ],
          [
           "Amazon"
          ],
          [
           "Amazon"
          ],
          [
           "Amazon"
          ],
          [
           "Amazon"
          ],
          [
           "Amazon"
          ],
          [
           "Amazon"
          ],
          [
           "Amazon"
          ],
          [
           "Amazon"
          ],
          [
           "Amazon"
          ],
          [
           "Amazon"
          ],
          [
           "Amazon"
          ],
          [
           "Amazon"
          ],
          [
           "Amazon"
          ],
          [
           "Amazon"
          ],
          [
           "Amazon"
          ],
          [
           "Amazon"
          ],
          [
           "Amazon"
          ],
          [
           "Amazon"
          ],
          [
           "Amazon"
          ],
          [
           "Amazon"
          ],
          [
           "Amazon"
          ],
          [
           "Amazon"
          ],
          [
           "Amazon"
          ],
          [
           "Amazon"
          ],
          [
           "Amazon"
          ],
          [
           "Amazon"
          ],
          [
           "Amazon"
          ],
          [
           "Amazon"
          ],
          [
           "Amazon"
          ],
          [
           "Amazon"
          ],
          [
           "Amazon"
          ],
          [
           "Amazon"
          ],
          [
           "Amazon"
          ],
          [
           "Amazon"
          ],
          [
           "Amazon"
          ],
          [
           "Amazon"
          ],
          [
           "Amazon"
          ],
          [
           "Amazon"
          ],
          [
           "Amazon"
          ],
          [
           "Amazon"
          ],
          [
           "Amazon"
          ],
          [
           "Amazon"
          ],
          [
           "Amazon"
          ],
          [
           "Amazon"
          ],
          [
           "Amazon"
          ],
          [
           "Amazon"
          ],
          [
           "Amazon"
          ],
          [
           "Amazon"
          ],
          [
           "Amazon"
          ],
          [
           "Amazon"
          ],
          [
           "Amazon"
          ],
          [
           "Amazon"
          ],
          [
           "Amazon"
          ],
          [
           "Amazon"
          ],
          [
           "Amazon"
          ],
          [
           "Amazon"
          ],
          [
           "Amazon"
          ],
          [
           "Amazon"
          ],
          [
           "Amazon"
          ],
          [
           "Amazon"
          ]
         ],
         "hoverlabel": {
          "font": {
           "color": "white",
           "family": "Arial, san serif",
           "size": 14
          }
         },
         "hovertemplate": "<b>%{hovertext}</b><br><br>release_year=%{x}<br>imDbRating=%{y}<br>distributer=%{customdata[0]}<br>rottenTomatoes=%{marker.color}<extra></extra>",
         "hovertext": [
          "Midnight Mass",
          "Sankofa",
          "The Great British Baking Show",
          "The Starling",
          "Dear White People",
          "Grown Ups",
          "Dark Skies",
          "Paranoia",
          "Paranoia",
          "Sex Education",
          "Squid Game",
          "Birth of the Dragon",
          "He-Man and the Masters of the Universe",
          "Jaws",
          "Jaws 2",
          "Jaws: The Revenge",
          "Safe House",
          "Training Day",
          "Nightbooks",
          "Jack Whitehall: Travels with My Father",
          "Kate",
          "Lucifer",
          "Paradise Hills",
          "Into the Night",
          "Show Dogs",
          "Worth",
          "Worth",
          "Afterlife of the Party",
          "Bright Star",
          "Dhanak",
          "In the Cut",
          "Q-Force",
          "A Cinderella Story",
          "An Unfinished Life",
          "Chappie",
          "Clear and Present Danger",
          "Cliffhanger",
          "Cold Mountain",
          "Crocodile Dundee in Los Angeles",
          "Dear John",
          "Do the Right Thing",
          "Do the Right Thing",
          "Extraction",
          "Freedom Writers",
          "Green Lantern",
          "House Party",
          "House Party 2",
          "House Party 3",
          "I Got the Hook Up",
          "Initial D",
          "Labyrinth",
          "Letters to Juliet",
          "Level 16",
          "Love Don't Cost a Thing",
          "Mars Attacks!",
          "Marshall",
          "My Boss's Daughter",
          "Mystery Men",
          "Once Upon a Time in America",
          "Poseidon",
          "Rhyme & Reason",
          "Same Kind of Different as Me",
          "Same Kind of Different as Me",
          "School of Rock",
          "Snervous Tyler Oakley",
          "Tears of the Sun",
          "The Blue Lagoon",
          "The Golden Child",
          "The Golden Child",
          "The Guns of Navarone",
          "Welcome Home Roscoe Jenkins",
          "In the Line of Fire",
          "D.P.",
          "He's All That",
          "The Dirty Picture",
          "Post Mortem: No One Dies in Skarnes",
          "The Witcher: Nightmare of the Wolf",
          "Manifest",
          "The Chair",
          "Like Crazy",
          "Walk of Shame",
          "The Piano",
          "Beckett",
          "Grace and Frankie",
          "The Kissing Booth 3",
          "The Railway Man",
          "Quartet",
          "Hit & Run",
          "Chennai Express",
          "Cocaine Cowboys: The Kings of Miami",
          "Control Z",
          "Heavy",
          "30 Rock",
          "Beethoven's 2nd",
          "Beowulf",
          "Beowulf",
          "Catch Me If You Can",
          "Catch Me If You Can",
          "Deep Blue Sea",
          "Ferris Bueller's Day Off",
          "Five Feet Apart",
          "Freedomland",
          "Friday Night Lights",
          "Good Luck Chuck",
          "Inception",
          "Magnolia",
          "Major Payne",
          "My Girl",
          "My Girl 2",
          "Pineapple Express",
          "Poms",
          "Seabiscuit",
          "Seabiscuit",
          "Space Cowboys",
          "Team America: World Police",
          "The Edge of Seventeen",
          "The Haunting in Connecticut 2: Ghosts of Georgia",
          "The Last Boy Scout",
          "The Lincoln Lawyer",
          "The Losers",
          "The Machinist",
          "The Net",
          "The Original Kings of Comedy",
          "The Original Kings of Comedy",
          "Valentine's Day",
          "Charmed",
          "Outer Banks",
          "The Flash",
          "All American",
          "How to Sell Drugs Online (Fast)",
          "The Operative",
          "The Walking Dead",
          "Wynonna Earp",
          "Django Unchained",
          "Masters of the Universe: Revelation",
          "Sky Rojo",
          "The Movies That Made Us",
          "Chicago Med",
          "Trollhunters: Rise of the Titans",
          "Explained",
          "Fear Street Part 3: 1666",
          "Johnny Test",
          "Naomi Osaka",
          "The Book of Henry",
          "The Twilight Saga: Eclipse",
          "The Twilight Saga: New Moon",
          "Twilight",
          "Never Have I Ever",
          "The Unknown Saint",
          "A Classic Horror Story",
          "Gunpowder Milkshake",
          "American Woman",
          "American Ultra",
          "Atypical",
          "Biohackers",
          "Fear Street Part 2: 1978",
          "Virgin River",
          "Home Again",
          "Rock the Kasbah",
          "Brick Mansions",
          "Dogs",
          "Between",
          "Colony",
          "Cuckoo",
          "Derry Girls",
          "I Think You Should Leave with Tim Robinson",
          "Kim's Convenience",
          "Marcella",
          "Orange Is the New Black",
          "Richie Rich",
          "Scream",
          "Shtisel",
          "The A List",
          "The New Legends of Monkey",
          "Undercover",
          "Workin' Moms",
          "Grey's Anatomy",
          "Fear Street Part 1: 1994",
          "Snowpiercer",
          "The 8th Night",
          "Winchester",
          "Air Force One",
          "Austin Powers in Goldmember",
          "Austin Powers: International Man of Mystery",
          "Austin Powers: The Spy Who Shagged Me",
          "Boogie Nights",
          "Congo",
          "Dennis the Menace",
          "Generation 56k",
          "Life as We Know It",
          "Memoirs of a Geisha",
          "Midnight Run",
          "Mortal Kombat",
          "Not Another Teen Movie",
          "Ophelia",
          "Red Joan",
          "Sailor Moon Crystal",
          "Seven Pounds",
          "She's Out of My League",
          "She's Out of My League",
          "Snow Day",
          "Snow Day",
          "Star Trek",
          "Stuart Little",
          "Stuart Little",
          "Sword of Trust",
          "Talladega Nights: The Ballad of Ricky Bobby",
          "The American",
          "The Game",
          "The Karate Kid Part II",
          "The Life of David Gale",
          "The Long Riders",
          "The Strangers",
          "Underworld",
          "Underworld: Awakening",
          "Underworld: Rise of the Lycans",
          "What Dreams May Come",
          "Why Do Fools Fall in Love",
          "Young Royals",
          "Lying and Stealing",
          "Somos.",
          "Killing Them Softly",
          "The Ice Road",
          "Sex/Life",
          "The Naked Director",
          "Black Lightning",
          "Call My Agent!",
          "Charité at War",
          "Glee",
          "Glee",
          "Hap and Leonard",
          "Pose",
          "Schitt's Creek",
          "The Last Dance",
          "Elite",
          "Fatherhood",
          "Black Summer",
          "Katla",
          "Silver Linings Playbook",
          "The Gift",
          "Lowriders",
          "Life of Crime",
          "Sir! No Sir!",
          "A Haunted House 2",
          "Copenhagen",
          "Confusion Na Wa",
          "Tragic Jungle",
          "A Private War",
          "Feel Good",
          "Sweet Tooth",
          "Summertime",
          "2 Hearts",
          "American Outlaws",
          "Battlefield Earth",
          "Cloudburst",
          "Cradle 2 the Grave",
          "Domestic Disturbance",
          "Domestic Disturbance",
          "Downton Abbey",
          "Flipped",
          "Happy Endings",
          "Hostel: Part III",
          "I Am Sam",
          "Love Jones",
          "Million Dollar Baby",
          "Mosquita y Mari",
          "Ninja Assassin",
          "Starsky & Hutch",
          "Streets of Fire",
          "Swordfish",
          "The Girl King",
          "The Girl King",
          "The Interpreter",
          "The Meddler",
          "The Mirror Has Two Faces",
          "The Outlaw Josey Wales",
          "The Wedding Guest",
          "Dirty John",
          "Bo Burnham: Inside",
          "Collateral Beauty",
          "The Kominsky Method",
          "Blue Miracle",
          "Ragnarok",
          "Baggio: The Divine Ponytail",
          "Master of None",
          "Army of the Dead",
          "The Neighbor",
          "Special",
          "Spy Kids: All the Time in the World",
          "Small Town Crime",
          "Sleight",
          "Haunted",
          "Love, Death & Robots",
          "Layer Cake",
          "The Upshaws",
          "Money, Explained",
          "Jupiter's Legacy",
          "And Tomorrow the Entire World",
          "Dead Man Down",
          "Framing John DeLorean",
          "The Sons of Sam: A Descent into Darkness",
          "Selena: The Series",
          "StartUp",
          "The Clovehitch Killer",
          "Due Date",
          "Green Zone",
          "Hachi: A Dog's Tale",
          "JT LeRoy",
          "Mystic River",
          "Never Back Down",
          "Stargate",
          "Stargate",
          "State of Play",
          "Swiped",
          "The Darkest Hour",
          "The Lovely Bones",
          "The Sweetest Thing",
          "The Whole Nine Yards",
          "The Whole Truth",
          "Under Siege",
          "Zack and Miri Make a Porno",
          "The Innocent",
          "The Mitchells vs. The Machines",
          "The Strangers: Prey at Night",
          "August: Osage County",
          "Battle: Los Angeles",
          "Between Worlds",
          "Shadow and Bone",
          "Stowaway",
          "Zero",
          "Miss Sloane",
          "American Me",
          "American Me",
          "Delhi Belly",
          "Peepli Live",
          "Taare Zameen Par",
          "Arlo the Alligator Boy",
          "Crimson Peak",
          "Rush",
          "The Zookeeper's Wife",
          "Time Trap",
          "Gilmore Girls",
          "Zoot Suit",
          "Fate: The Winx Saga",
          "House of Cards",
          "Living with Yourself",
          "Slasher",
          "My Love: Six Stories of True Love",
          "The Baker and the Beauty",
          "Thunder Force",
          "What Lies Below",
          "Escape from Planet Earth",
          "Accepted",
          "Wild Child",
          "Woody Woodpecker",
          "2012",
          "3 Idiots",
          "Insidious",
          "Kingsglaive: Final Fantasy XV",
          "Legally Blonde",
          "Maximum Risk",
          "My Fair Lady",
          "Prank Encounters",
          "Takers",
          "The Pianist",
          "Universal Soldier: The Return",
          "Wazir",
          "Yes Man",
          "At Eternity's Gate",
          "Mandela: Long Walk to Freedom",
          "Lawless",
          "A Week Away",
          "Big Time Rush",
          "Croupier",
          "The Irregulars",
          "Philomena",
          "Jiu Jitsu",
          "Formula 1: Drive to Survive",
          "Skylines",
          "The Fluffy Movie",
          "Get on Up",
          "Savages",
          "Waffles + Mochi",
          "The Lost Pirate Kingdom",
          "Zero Chill",
          "Love Alarm",
          "Paradise PD",
          "The One",
          "Marriage or Mortgage",
          "Bombay Begums",
          "City of Ghosts",
          "Parker",
          "Safe Haven",
          "Moxie",
          "Black or White",
          "Biggie: I Got a Story to Tell",
          "Dances with Wolves",
          "Rain Man",
          "Tenacious D in The Pick of Destiny",
          "Captain Fantastic",
          "Our Idiot Brother",
          "Tony Manero",
          "Age of Samurai: Battle for Japan",
          "Canine Intervention",
          "Ginny & Georgia",
          "Two Sentence Horror Stories",
          "The Conjuring",
          "The Conjuring 2",
          "Vincenzo",
          "Operation Finale",
          "Tribes of Europa",
          "Eeb Allay Ooo!",
          "Behind Her Eyes",
          "Good Girls",
          "The Resurrection of Gavin Stone",
          "Monsoon",
          "Buried by the Bernards",
          "Chappelle's Show",
          "Nadiya Bakes",
          "Squared Love",
          "Crime Scene: The Vanishing at the Cecil Hotel",
          "War Dogs",
          "The Sinner",
          "Hache",
          "Invisible City",
          "Malcolm & Marie",
          "Space Sweepers",
          "Firefly Lane",
          "Tiffany Haddish Presents: They Ready",
          "Beverly Hills Ninja",
          "Rocks",
          "Shutter Island",
          "The Bank Job",
          "Fatima",
          "Hell Fest",
          "The Dig",
          "We Are: The Brooklyn Saints",
          "Outlander",
          "Blown Away",
          "The Next Three Days",
          "Friendsgiving",
          "Cut Throat City",
          "Sightless",
          "Homefront",
          "A Monster Calls",
          "Bling Empire",
          "Outside the Wire",
          "Last Tango in Halifax",
          "The Intouchables",
          "Pieces of a Woman",
          "Surviving Death",
          "Case 39",
          "Cobra Kai",
          "Dream Home Makeover",
          "Good Burger",
          "Good Hair",
          "Into the Wild",
          "Mystic Pizza",
          "Unknown",
          "What's Eating Gilbert Grape",
          "Chilling Adventures of Sabrina",
          "Best Leftovers Ever!",
          "Dare Me",
          "Death to 2020",
          "Bridgerton",
          "We Can Be Heroes",
          "The Midnight Sky",
          "Your Name Engraved Herein",
          "After We Collided",
          "Atlas Shrugged: Part II",
          "Atlas Shrugged: Part II",
          "Ma Rainey's Black Bottom",
          "Braven",
          "Incarnate",
          "Nocturnal Animals",
          "The Ripper",
          "Song Exploder",
          "The Professor and the Madman",
          "A California Christmas",
          "Tiny Pretty Things",
          "Giving Voice",
          "Alice in Borderland",
          "Once Upon a Time",
          "Rose Island",
          "The Big Show Show",
          "The Surgeon's Cut",
          "Mr. Iglesias",
          "Triple 9",
          "Ava",
          "3 Days to Kill",
          "Angels & Demons",
          "Chef",
          "Quigley Down Under",
          "Stargate SG-1",
          "The Da Vinci Code",
          "The Happytime Murders",
          "The Uncanny Counter",
          "Mosul",
          "Ghosts of War",
          "Hillbilly Elegy",
          "Notes for My Son",
          "Shawn Mendes: In Wonder",
          "Machete Kills",
          "Alien Xmas",
          "Voices of Fire",
          "Black Friday",
          "Break Ke Baad",
          "Hawaizaada",
          "Raman Raghav 2.0",
          "Singham",
          "The Princess Switch: Switched Again",
          "The Boss Baby: Back in Business",
          "We Are the Champions",
          "The Crown",
          "White Christmas",
          "American Horror Story",
          "American Horror Story",
          "Jingle Jangle: A Christmas Journey",
          "The Life Ahead",
          "Fruitvale Station",
          "Aunty Donna's Big Ol' House of Fun",
          "Trial 4",
          "What We Wanted",
          "Citation",
          "Country Ever After",
          "The Endless Trench",
          "The Late Bloomer",
          "Operation Christmas Drop",
          "Love & Anarchy",
          "Prospect",
          "60 Days In",
          "Dawson's Creek",
          "Elliot the Littlest Reindeer",
          "Mile 22",
          "Piercing",
          "Snowden",
          "The Next Karate Kid",
          "Zumbo's Just Desserts",
          "His House",
          "Kaali Khuhi",
          "Somebody Feed Phil",
          "Holidate",
          "Blood of Zeus",
          "I Am Woman",
          "Barbarians",
          "Cadaver",
          "Fisherman's Friends",
          "The Hummingbird Project",
          "My Next Guest Needs No Introduction With David Letterman",
          "Tremors: Shrieker Island",
          "Under the Bombs",
          "In a Valley of Violence",
          "La Révolution",
          "A Babysitter's Guide to Monster Hunting",
          "Social Distance",
          "Kipo and the Age of Wonderbeasts",
          "Deaf U",
          "The Forty-Year-Old Version",
          "The 100",
          "Hubie Halloween",
          "David Attenborough: A Life on Our Planet",
          "Emily in Paris",
          "Vampires vs. the Bronx",
          "An Ordinary Man",
          "Evil",
          "Free State of Jones",
          "Hunt for the Wilderpeople",
          "Rize",
          "The Unicorn",
          "We Have Always Lived in the Castle",
          "Man with a Plan",
          "Wentworth",
          "Dedh Ishqiya",
          "Golmaal Returns",
          "Van Helsing",
          "The Good Place",
          "Real Steel",
          "Enola Holmes",
          "Kiss the Ground",
          "Ratched",
          "The Blacklist",
          "Criminal: UK",
          "Sing On!",
          "Raising Victor Vargas",
          "The Duchess",
          "Greenleaf",
          "The Babysitter: Killer Queen",
          "Cuties",
          "Get Organized with The Home Edit",
          "The Social Dilemma",
          "#Alive",
          "Cleverman",
          "Away",
          "I'm Thinking of Ending Things",
          "Love, Guaranteed",
          "Young Wallander",
          "Chef's Table: BBQ",
          "Hotel for Dogs",
          "Borgen",
          "Erased",
          "Sex Drive",
          "Soldier",
          "All Together Now",
          "Edge of Seventeen",
          "The Young Messiah",
          "Lingua Franca",
          "Million Dollar Beach House",
          "Emily's Wonder Lab",
          "Trinkets",
          "Hoops",
          "Rust Valley Restorers",
          "The Sleepover",
          "DeMarcus Family Rules",
          "High Score",
          "Drunk Parents",
          "Les Misérables",
          "Rita",
          "3%",
          "Project Power",
          "Teenage Bounty Hunters",
          "An Easy Girl",
          "Christine",
          "Simon Killer",
          "Gunjan Saxena: The Kargil Girl",
          "The Lost Husband",
          "Tiny Creatures",
          "Work It",
          "The Rain",
          "The Ottoman Lieutenant",
          "What Keeps You Alive",
          "Raat Akeli Hai",
          "Seriously Single",
          "The Umbrella Academy",
          "Retablo",
          "Shine Your Eyes",
          "Last Chance U",
          "Offering to the Storm",
          "The Kissing Booth 2",
          "Ip Man 4: The Finale",
          "Fatal Affair",
          "Down to Earth with Zac Efron",
          "The Protector",
          "Mucho Mucho Amor: The Legend of Walter Mercado",
          "The Long Dumb Road",
          "Dharam Sankat Mein",
          "Drishyam",
          "Gabbar Is Back",
          "Michael",
          "Only",
          "Players",
          "Pyaar Ka Punchnama 2",
          "Special 26",
          "Cable Girls",
          "Desperados",
          "I Am Not Your Negro",
          "JU-ON: Origins",
          "Warrior Nun",
          "David Foster: Off the Record",
          "Double Jeopardy",
          "Stardust",
          "Total Recall",
          "Dark",
          "Eurovision Song Contest: The Story of Fire Saga",
          "Home Game",
          "Prem Ratan Dhan Payo",
          "Crazy Delicious",
          "Roswell, New Mexico",
          "Babies",
          "Feel the Beat",
          "Floor Is Lava",
          "The Politician",
          "Wasp Network",
          "An Egyptian Story",
          "Cairo Station",
          "The Order",
          "An Evening with Beverly Luff Linn",
          "The Darkness",
          "Alexa & Katie",
          "How to Get Away with Murder",
          "Da 5 Bloods",
          "Dating Around",
          "Curon",
          "Lenox Hill",
          "Middle Men",
          "Before I Fall",
          "Queen of the South",
          "13 Reasons Why",
          "Big Stone Gap",
          "Supernatural",
          "The Last Days of American Crime",
          "Lady Bird",
          "The Disaster Artist",
          "Space Force",
          "I'm No Longer Here",
          "Supergirl",
          "Uncut Gems",
          "The Lovebirds",
          "Trailer Park Boys: The Animated Series",
          "I Will Follow",
          "Sweet Magnolias",
          "Wadjda",
          "The Big Flower Fight",
          "Patriot Act with Hasan Minhaj",
          "Avatar: The Last Airbender",
          "Madam Secretary",
          "Magic for Humans",
          "White Lines",
          "The Wrong Missy",
          "Have a Good Trip: Adventures in Psychedelics",
          "18 Presents",
          "Dead to Me",
          "The Eddy",
          "The Hollow",
          "Becoming",
          "One Day: Justice Delivered",
          "Bennett's War",
          "Mike Birbiglia: My Girlfriend's Boyfriend",
          "Mike Birbiglia: My Girlfriend's Boyfriend",
          "Mrs. Serial Killer",
          "Reckoning",
          "What a Girl Wants",
          "Dangerous Lies",
          "Good Witch",
          "Extracurricular",
          "The Last Kingdom",
          "The Artist",
          "After Life",
          "Time to Hunt",
          "The Willoughbys",
          "Cooked with Cannabis",
          "Rising High",
          "Fauda",
          "Hail, Caesar!",
          "Jem and the Holograms",
          "Puerto Ricans in Paris",
          "The Innocence Files",
          "Code 8",
          "Brews Brothers",
          "School Life",
          "The Trial",
          "Tigertail",
          "Hi Score Girl",
          "The Last Airbender",
          "The Florida Project",
          "The Killing of a Sacred Deer",
          "Angel Has Fallen",
          "Coffee & Kareem",
          "Legacies",
          "The Death of Stalin",
          "Community",
          "Community",
          "Dostana",
          "Dostana",
          "Gori Tere Pyaar Mein",
          "Hasee Toh Phasee",
          "Hasee Toh Phasee",
          "Kabhi Alvida Naa Kehna",
          "Kabhi Alvida Naa Kehna",
          "Kal Ho Naa Ho",
          "Kal Ho Naa Ho",
          "Kapoor & Sons",
          "Kapoor & Sons",
          "Man Like Mobeen",
          "The Iliza Shlesinger Sketch Show",
          "The Windsors",
          "Ungli",
          "Ungli",
          "Wildling",
          "Greater",
          "Indian Horse",
          "Happy!",
          "Maska",
          "Ozark",
          "The Decline",
          "There's Something in the Water",
          "Uncorked",
          "The Occupant",
          "Freud",
          "Greenhouse Academy",
          "The English Game",
          "The Letter for the King",
          "Tiger King: Murder, Mayhem and Madness",
          "Ultras",
          "Vampires",
          "Search Party",
          "Bloodride",
          "Go Karts",
          "Kingdom",
          "Lost Girls",
          "The Valhalla Murders",
          "Dirty Money",
          "On My Block",
          "Miles Davis: Birth of the Cool",
          "Spenser Confidential",
          "Ugly Delicious",
          "Aurora",
          "The Death of Mr. Lazarescu",
          "Velvet",
          "Freaks",
          "W.E.",
          "Babylon Berlin",
          "Frank & Lola",
          "Hugo",
          "Ordinary World",
          "There Will Be Blood",
          "Always a Witch",
          "Toy Boy",
          "Altered Carbon",
          "I Am Not Okay With This",
          "Girl on the Third Floor",
          "Gentefied",
          "System Crasher",
          "The Last Thing He Wanted",
          "The Forest",
          "Love Is Blind",
          "Narcos: Mexico",
          "Good Time",
          "Better Call Saul",
          "Polaroid",
          "The Coldest Game",
          "Horse Girl",
          "Locke & Key",
          "My Holo Love",
          "The Ballad of Lefty Brown",
          "Arrow",
          "The Pharmacist",
          "Faith, Hope & Love",
          "Chronically Metropolitan",
          "Itaewon Class",
          "Diablero",
          "Miss Americana",
          "Unauthorized Living",
          "Close Enemies",
          "Omniscient",
          "Menashe",
          "A Sun",
          "The Ranch",
          "October Faction",
          "The Ghost Bride",
          "Pandemic: How to Prevent an Outbreak",
          "Whisky",
          "The Bling Ring",
          "A Fall from Grace",
          "Ares",
          "Hop",
          "Steve Jobs",
          "Bulbul Can Sing",
          "Killer Inside: The Mind of Aaron Hernandez",
          "The Healing Powers of Dude",
          "AJ and the Queen",
          "Jamtara - Sabka Number Ayega",
          "Medical Police",
          "Monsters: Dark Continent",
          "The InBESTigators",
          "Cheer",
          "A Ghost Story",
          "Anne with an E",
          "Sex, Explained",
          "Jimmy Neutron: Boy Genius",
          "Pan's Labyrinth",
          "Save Me",
          "Spinning Out",
          "Occupied",
          "The Degenerates",
          "You",
          "Lost in Space",
          "Jacob's Ladder",
          "Private Practice",
          "Back of the Net",
          "The Two Popes",
          "The Witcher",
          "Ultraviolet",
          "Don't F**k with Cats: Hunting an Internet Killer",
          "The Danish Girl",
          "Bangistan",
          "Crash Landing on You",
          "Dil Dhadakne Do",
          "Don 2",
          "Karthik Calling Karthik",
          "Zindagi Na Milegi Dobara",
          "The Sky Is Pink",
          "It Comes at Night",
          "Saaho",
          "Fuller House",
          "Marriage Story",
          "A Christmas Prince: The Royal Baby",
          "The Last O.G.",
          "Nightflyers",
          "Cut Bank",
          "The Zoya Factor",
          "La Reina del Sur",
          "Merry Happy Whatever",
          "Mythomaniac",
          "Defiance",
          "The Body Remembers When the World Broke Open",
          "The Irishman",
          "Shot Caller",
          "Nailed It! Holiday!",
          "Nobody's Looking",
          "Singapore Social",
          "The Knight Before Christmas",
          "Bikram: Yogi, Guru, Predator",
          "Suffragette",
          "The Green Inferno",
          "Earthquake Bird",
          "House Arrest",
          "I'm with the Band: Nasty Cherry",
          "Llama Llama",
          "The Stranded",
          "The Toys That Made Us",
          "A Single Man",
          "Let It Snow",
          "Burning Cane",
          "The End of the F***ing World",
          "The Devil Next Door",
          "Victorious",
          "Queer Eye: We're in Japan!",
          "Dolemite Is My Name",
          "Breakfast, Lunch & Dinner",
          "Master Z: The Ip Man Legacy",
          "Free Fire",
          "Interior Design Masters",
          "Sinister 2",
          "The Game Changers",
          "El Camino: A Breaking Bad Movie",
          "Insatiable",
          "The Forest of Love",
          "The Influence",
          "Rhythm + Flow",
          "Creeped Out",
          "In the Tall Grass",
          "Peaky Blinders",
          "Raising Dion",
          "Rotten",
          "Seis Manos",
          "Living Undocumented",
          "Ready to Mingle",
          "The Squid and the Whale",
          "The Squid and the Whale",
          "Gotham",
          "Bard of Blood",
          "Malaal",
          "The Grandmaster",
          "Glitch",
          "Vagabond",
          "Between Two Ferns: The Movie",
          "Criminal: France",
          "Criminal: Germany",
          "Criminal: Spain",
          "Fastest Car",
          "Kabir Singh",
          "Avengement",
          "Tall Girl",
          "Top Boy",
          "The I-Land",
          "The Mind, Explained",
          "Bill Burr: Paper Tiger",
          "Article 15",
          "The Spy",
          "Serial Killer with Piers Morgan",
          "The Dark Crystal: Age of Resistance",
          "Falling Inn Love",
          "Million Pound Menu",
          "Diagnosis",
          "Sextuplets",
          "Sacred Games",
          "Knightfall",
          "GLOW",
          "Sintonia",
          "The Family",
          "Wu Assassins",
          "Badla",
          "Enter the Anime",
          "No Good Nick",
          "The Letdown",
          "The Red Sea Diving Resort",
          "Another Life",
          "Typewriter",
          "Secret Obsession",
          "Cities of Last Things",
          "Free Rein",
          "Stranger Things",
          "The Last Czars",
          "Designated Survivor: 60 Days",
          "Romeo Akbar Walter",
          "Instant Hotel",
          "Paquita Salas",
          "Kahaani",
          "Shooter",
          "The Wolf's Call",
          "Beats",
          "Cop Car",
          "Unit 42",
          "Awake: The Million Dollar Game",
          "Black Spot",
          "Girlfriends' Guide to Divorce",
          "Leila",
          "Marlon",
          "Murder Mystery",
          "Jinn",
          "Designated Survivor",
          "Elisa & Marcela",
          "I Am Mother",
          "Luka Chuppi",
          "Stree",
          "Stree",
          "Tales of the City",
          "The Black Godfather",
          "Black Mirror",
          "Documentary Now!",
          "Bad Blood",
          "Killer Ratings",
          "Joy",
          "Rim of the World",
          "She's Gotta Have It",
          "The Lonely Island Presents: The Unauthorized Bash Brothers Experience",
          "It's Bruno!",
          "See You Yesterday",
          "White Gold",
          "Backdraft 2",
          "Dry Martina",
          "Easy",
          "The Mechanism",
          "The Society",
          "Wine Country",
          "Abyss",
          "Despite Everything",
          "Extremely Wicked, Shockingly Evil and Vile",
          "Flinch",
          "Olympus Has Fallen",
          "The Outsiders",
          "Street Food",
          "Lunatics",
          "Someone Great",
          "A Little Chaos",
          "About Time",
          "Crazy Ex-Girlfriend",
          "Huge in France",
          "New Girl",
          "Derek",
          "Imposters",
          "Our Planet",
          "Petta",
          "Quicksand",
          "Ek Ladki Ko Dekha Toh Aisa Laga",
          "Mercy Black",
          "The Burial of Kojo",
          "Osmosis",
          "Santa Clarita Diet",
          "The Highwaymen",
          "Traitors",
          "Versailles",
          "The Dirt",
          "The OA",
          "5 Flights Up",
          "Girl",
          "If I Hadn't Met You",
          "The Disappearance of Madeleine McCann",
          "Turn Up Charlie",
          "Triple Frontier",
          "Into the Badlands",
          "Nappily Ever After",
          "Secret City",
          "Larva Island",
          "Northern Rescue",
          "The Boy Who Harnessed the Wind",
          "The Spiderwick Chronicles",
          "Quién te cantará",
          "A Second Chance",
          "Paddleton",
          "Paris Is Us",
          "The Drug King",
          "Black Sea",
          "Larry Charles' Dangerous World of Comedy",
          "The Breaker Upperers",
          "Yucatán",
          "The Break",
          "High Flying Bird",
          "ReMastered: The Two Killings of Sam Cooke",
          "The Tree of Blood",
          "Safe",
          "Dear Ex",
          "Russian Doll",
          "Velvet Buzzsaw",
          "Z Nation",
          "Black Earth Rising",
          "Conversations with a Killer: The Ted Bundy Tapes",
          "Soni",
          "Trigger Warning with Killer Mike",
          "Revenger",
          "Baazaar",
          "Friends from College",
          "Solo",
          "When Heroes Fly",
          "And Breathe Normally",
          "A Series of Unfortunate Events",
          "Tidying Up with Marie Kondo",
          "Murder Mountain",
          "Selection Day",
          "7 Days Out",
          "Bird Box",
          "Perfume",
          "Andhadhun",
          "Kill the Messenger",
          "Maps to the Stars",
          "Springsteen on Broadway",
          "The Theory of Everything",
          "Flowers",
          "The Fix",
          "Tidelands",
          "Travelers",
          "Dogs of Berlin",
          "Dumplin'",
          "The American Meme",
          "Blind Detective",
          "Don't Go Breaking My Heart",
          "A Christmas Prince: The Royal Wedding",
          "Death by Magic",
          "Happy as Lazzaro",
          "Manto",
          "The World Is Yours",
          "Time Share",
          "Bumping Mics with Jeff Ross & Dave Attell",
          "Sick Note",
          "The Christmas Chronicles",
          "The Tribe",
          "The Final Table",
          "The Pixar Story",
          "Cam",
          "The Ballad of Buster Scruggs",
          "May the Devil Take You",
          "The Giant",
          "BuyBust",
          "Warrior",
          "Outlaw King",
          "Damnation",
          "The Holiday Calendar",
          "The Other Side of the Wind",
          "Barfi!",
          "Follow This",
          "Kai Po Che!",
          "No One Killed Jessica",
          "The Untold Tales of Armistead Maupin",
          "Heneral Luna",
          "Been So Long",
          "Dovlatov",
          "Great News",
          "Illang: The Wolf Brigade",
          "Making a Murderer",
          "The Night Comes for Us",
          "Rake",
          "Sanju",
          "Soorma",
          "Apostle",
          "The Curious Creations of Christine McConnell",
          "The Haunting of Hill House",
          "The Kindergarten Teacher",
          "Salt Fat Acid Heat",
          "22 July",
          "Malevolent",
          "The Black Prince",
          "Monty Python's Flying Circus",
          "Ek Main Aur Ekk Tu",
          "Hot Date",
          "Jodhaa Akbar",
          "Phantom",
          "Race 2",
          "Big Miracle",
          "Hold the Dark",
          "Skylanders Academy",
          "Maniac",
          "American Vandal",
          "Ingobernable",
          "The Angel",
          "The Land of Steady Habits",
          "Life",
          "On My Skin",
          "The Resistance Banker",
          "First and Last",
          "Next Gen",
          "The Most Assassinated Woman in the World",
          "PK",
          "Quantico",
          "Cathedral of the Sea",
          "The Comedy Lineup",
          "The Laws of Thermodynamics",
          "Naam Shabana",
          "Qarib Qarib Singlle",
          "The After Party",
          "The Innocents",
          "Bareilly Ki Barfi",
          "Mom",
          "Pad Man",
          "The Motive",
          "Bhavesh Joshi Superhero",
          "The Guernsey Literary and Potato Peel Pie Society",
          "The Originals",
          "2 States",
          "Fitoor",
          "Guzaarish",
          "Haider",
          "Highway",
          "Mohenjo Daro",
          "Raajneeti",
          "Rang De Basanti",
          "Rowdy Rathore",
          "Tamasha",
          "Invisible",
          "Kath & Kimderella",
          "El Chapo",
          "Welcome to the Family",
          "Iliza Shlesinger: Elder Millennial",
          "Dark Tourist",
          "The Joel McHale Show with Joel McHale",
          "How It Ends",
          "Drug Lords",
          "Mr. Sunshine",
          "The Legacy of a Whitetail Deer Hunter",
          "The Skin of the Wolf",
          "Duck Butter",
          "I Am Kalam",
          "NCIS",
          "Somewhere Between",
          "Calibre",
          "Kiss Me First",
          "Life Sentence",
          "Brain on Fire",
          "Us and Them",
          "Lust Stories",
          "Set It Up",
          "Alex Strangelove",
          "The Night Shift",
          "Bad Genius",
          "Unbreakable Kimmy Schmidt",
          "Arrested Development",
          "Catching Feelings",
          "Aiyaary",
          "The Kissing Booth",
          "Anon",
          "The Clapper",
          "Candy Jar",
          "The Week Of",
          "Bill Nye: Science Guy",
          "Psychokinesis",
          "The Chalet",
          "Beyond Skyline",
          "Come Sunday",
          "I Am not an Easy Man",
          "The Magic School Bus Rides Again",
          "6 Balloons",
          "Orbiter 9",
          "Day of the Dead: Bloodline",
          "Ittefaq",
          "Star Trek: The Next Generation",
          "Billu",
          "Fallet",
          "Loaded",
          "Om Shanti Om",
          "Doctor Foster",
          "Revolt",
          "First Match",
          "Rapture",
          "The Titan",
          "Trailer Park Boys",
          "Trailer Park Boys: The Movie",
          "Game Over, Man!",
          "Layla M.",
          "Requiem",
          "Secret Superstar",
          "The Standups",
          "Wild Wild Country",
          "Tabula Rasa",
          "Collateral",
          "Bullet Head",
          "Flint Town",
          "Ravenous",
          "21 Thunder",
          "Guru",
          "Judwaa 2",
          "Swades",
          "Veronica",
          "Marseille",
          "Seven Seconds",
          "The Frankenstein Chronicles",
          "Everything Sucks!",
          "Irreplaceable You",
          "Chris Rock: Tamborine",
          "Seeing Allred",
          "When We First Met",
          "Valor",
          "The Cloverfield Paradox",
          "Newness",
          "A Futile and Stupid Gesture",
          "Acts of Vengeance",
          "The Shannara Chronicles",
          "The Open House",
          "Bad Day for the Cut",
          "Disjointed",
          "Before I Wake",
          "Lovesick",
          "The Frozen Dead",
          "Fun Mom Dinner",
          "Goon: Last of the Enforcers",
          "Mr. Roosevelt",
          "Creep 2",
          "Bright",
          "Jeremiah Tower: The Last Magnificent",
          "The Indian Detective",
          "Pottersville",
          "Seoul Searching",
          "Wormwood",
          "Halt and Catch Fire",
          "El Camino Christmas",
          "Jab Harry Met Sejal",
          "Temple",
          "Kantaro: The Sweet Tooth Salaryman",
          "My Happy Family",
          "Man Down",
          "Broadchurch",
          "Godless",
          "Saving Capitalism",
          "A Christmas Prince",
          "Longmire",
          "Mudbound",
          "Lady Dynamite",
          "The B-Side: Elsa Dorfman's Portrait Photography",
          "Joan Didion: The Center Will Not Hold",
          "Strange Weather",
          "The Hateful Eight",
          "The Mist",
          "W1A",
          "Haters Back Off",
          "Wheelman",
          "Star Trek: Enterprise",
          "Star Trek: Voyager",
          "Gerald's Game",
          "Our Souls at Night",
          "Real Rob",
          "Dark Matter",
          "Swearnet: The Movie",
          "The Bar",
          "Gaga: Five Foot Two",
          "The Bad Batch",
          "Jerry Before Seinfeld",
          "First They Killed My Father",
          "#realityhigh",
          "Carrie Pilby",
          "No Tomorrow",
          "Reign",
          "Frequency",
          "The Vampire Diaries",
          "Little Evil",
          "Narcos",
          "The Last Shaman",
          "Buster's Mal Heart",
          "Berlin Syndrome",
          "Undefeated",
          "What Happened to Monday",
          "Handsome Devil",
          "Opening Night",
          "The IT Crowd",
          "The Incredible Jessica James",
          "To the Bone",
          "Degrassi: Next Class",
          "Take Me",
          "Liar's Dice",
          "The Invisible Guest",
          "Gypsy",
          "Okja",
          "I Am Michael",
          "Dangal",
          "Young & Hungry",
          "Shimmer Lake",
          "Headshot",
          "Crashing",
          "Flaked",
          "Catfight",
          "Little Boxes",
          "Smoke & Mirrors",
          "Bloodline",
          "Raees",
          "War Machine",
          "The Keepers",
          "Lovesong",
          "Wild Oats",
          "Get Me Roger Stone",
          "Mindhorn",
          "Loev",
          "Mostly Sunny",
          "Rodney King",
          "Small Crimes",
          "Dear Zindagi",
          "Shepherds and Butchers",
          "Girlboss",
          "Hot Girls Wanted: Turned On",
          "Sandy Wexler",
          "Kevin Hart: What Now?",
          "The Get Down",
          "Win It All",
          "Five Nights in Maine",
          "The Discovery",
          "The C Word",
          "The Most Hated Woman in America",
          "Best Worst Thing That Ever Could Have Happened",
          "Deidra & Laney Rob a Train",
          "Samurai Gourmet",
          "Howards End",
          "Notes on Blindness",
          "Buddy Thunderstruck",
          "Force 2",
          "I Don't Feel at Home in This World Anymore",
          "Rocky Handsome",
          "The Fury of a Patient Man",
          "Girlfriend's Day",
          "Imperial Dreams",
          "Dilwale",
          "Happy New Year",
          "Haraamkhor",
          "Semana Santa",
          "Under the Shadow",
          "Star Trek: Deep Space Nine",
          "Star Trek: Deep Space Nine",
          "Udta Punjab",
          "Mr. Pig",
          "Chasing Cameron",
          "7:19",
          "Sense8",
          "Barry",
          "Crazyhead",
          "Sand Storm",
          "Asperger's Are Us",
          "Captive",
          "Spectral",
          "Other People",
          "Blue Jay",
          "For the Love of Spock",
          "White Girl",
          "Rainbow Time",
          "Richard Pryor: Live in Concert",
          "Beauties of the Night",
          "Divines",
          "Paranoid",
          "Case",
          "Norman Lear: Just Another Version of You",
          "I Am the Pretty Thing That Lives in the House",
          "Into the Inferno",
          "Containment",
          "Spotless",
          "Sky Ladder: The Art of Cai Guo-Qiang",
          "Mascots",
          "Justin Timberlake + the Tennessee Kids",
          "The Siege of Jadotville",
          "ARQ",
          "Sample This",
          "Dead Set",
          "XOXO",
          "Tallulah",
          "Rebirth",
          "Tony Robbins: I Am Not Your Guru",
          "Gridlocked",
          "Brahman Naman",
          "Marco Polo",
          "The Fundamentals of Caring",
          "Ip Man 3",
          "The Do-Over",
          "Special Correspondents",
          "Belgica",
          "He Never Died",
          "Pee-wee's Big Holiday",
          "Netflix Presents: The Characters",
          "Crouching Tiger, Hidden Dragon: Sword of Destiny",
          "Cooked",
          "Chelsea Does",
          "Ip Man",
          "Ip Man 2",
          "The Ridiculous 6",
          "Manson Family Vacation",
          "Hemlock Grove",
          "Results",
          "Results",
          "Anthony Jeselnik: Thoughts and Prayers",
          "Beasts of No Nation",
          "Circle",
          "Keith Richards: Under the Influence",
          "6 Years",
          "Tig",
          "Advantageous",
          "Lilyhammer",
          "Goosebumps",
          "The Battered Bastards of Baseball",
          "The Borgias",
          "Mitt",
          "The Short Game",
          "Aziz Ansari: Buried Alive",
          "The 4400",
          "Breaking Bad",
          "Being Elmo: A Puppeteer's Journey",
          "Even the Rain",
          "21",
          "21",
          "Æon Flux",
          "13 Sins",
          "16 Blocks",
          "17 Again",
          "1BR",
          "20th Century Women",
          "21 & Over",
          "24 Hours to Live",
          "24 Hours to Live",
          "28 Days",
          "3 Generations",
          "30 Minutes or Less",
          "4th Man Out",
          "5 to 7",
          "50 First Dates",
          "50/50",
          "6 Days",
          "6 Days",
          "68 Kill",
          "A Bad Moms Christmas",
          "A Bridge Too Far",
          "A Clockwork Orange",
          "A Dangerous Woman",
          "A Family Affair",
          "A Family Man",
          "A Flying Jatt",
          "A Glimpse Inside the Mind of Charles Swan III",
          "A Haunted House",
          "A Kind of Murder",
          "A Most Violent Year",
          "A Night at the Roxbury",
          "A Night at the Roxbury",
          "A Patch of Fog",
          "A Perfect Man",
          "A Separation",
          "A Serious Man",
          "A Tale of Love and Darkness",
          "A Thousand Words",
          "A Walk to Remember",
          "A.X.L.",
          "Aarakshan",
          "About a Boy",
          "Across the Universe",
          "Act of Valor",
          "Acts of Violence",
          "Adam Ruins Everything",
          "Africa",
          "Afterschool",
          "Ai Weiwei: Never Sorry",
          "Alice Doesn't Live Here Anymore",
          "All About Nina",
          "All the Boys Love Mandy Lane",
          "All the Devil's Men",
          "Alone in Berlin",
          "Along Came a Spider",
          "American Anarchist",
          "American Assassin",
          "American Crime",
          "American Hangman",
          "American Heist",
          "American History X",
          "American Honey",
          "American Odyssey",
          "American Psycho",
          "An Interview with God",
          "Anchor and Hope",
          "Anesthesia",
          "Angel Eyes",
          "Anger Management",
          "Angry Indian Goddesses",
          "Ant-Man and the Wasp",
          "Anthony Bourdain: Parts Unknown",
          "Apollo 18",
          "As Above, So Below",
          "As Good as It Gets",
          "Asura: The City of Madness",
          "ATM",
          "Attacking the Devil: Harold Evans and the Last Nazi War Crime",
          "Avengers: Infinity War",
          "Avicii: True Stories",
          "Azhar",
          "Babel",
          "Backcountry",
          "Backtrack",
          "Bad Boys",
          "Bad Boys II",
          "Bad Match",
          "Bad Match",
          "Bad Rap",
          "Band Aid",
          "Band of Robbers",
          "Barely Lethal",
          "BASEketball",
          "Basic Instinct",
          "Bates Motel",
          "Bathtubs Over Broadway",
          "Battle Creek",
          "Beavis and Butt-head Do America",
          "Becoming Jane",
          "Before the Flood",
          "Being AP",
          "Below Her Mouth",
          "Beneath the Leaves",
          "Beneath the Leaves",
          "Bhool Bhulaiyaa",
          "Big Daddy",
          "Big Fat Liar",
          "Biggie & Tupac",
          "Billy Elliot",
          "Birthmarked",
          "Bitch",
          "Bitten",
          "Black Hawk Down",
          "Black Snake Moan",
          "Black Snow",
          "Blackway",
          "Bleed for This",
          "Blood Father",
          "Blow",
          "Blue Jasmine",
          "Blue Ruin",
          "Blue Streak",
          "Blue Valentine",
          "Bobbi Jene",
          "Bobby Robson: More Than a Manager",
          "Bokeh",
          "Bombshell: The Hedy Lamarr Story",
          "Bonnie and Clyde",
          "Brick",
          "Brooklyn's Finest",
          "Bullitt County",
          "Burlesque",
          "Burning",
          "Burning",
          "Bushwick",
          "Butterfield 8",
          "Cabin Fever",
          "Calendar Girls",
          "Camp X-Ray",
          "Can't Hardly Wait",
          "Candyman",
          "Carol",
          "Carriers",
          "Carriers",
          "Cats & Dogs: The Revenge of Kitty Galore",
          "Center Stage",
          "Change in the Air",
          "Change in the Air",
          "Chappaquiddick",
          "Charlie and the Chocolate Factory",
          "Charlie's Angels: Full Throttle",
          "Chasing Amy",
          "Chasing the Dragon",
          "Cheers",
          "Chernobyl Diaries",
          "Chewing Gum",
          "Child's Play",
          "China Salesman",
          "Chitty Chitty Bang Bang",
          "Chloe",
          "Christiane Amanpour: Sex & Love Around the World",
          "Christmas with the Kranks",
          "Cirque du Freak: The Vampire's Assistant",
          "Cirque du Freak: The Vampire's Assistant",
          "City of Tiny Lights",
          "Clash of the Titans",
          "Cleopatra Jones",
          "Click",
          "Clive Davis: The Soundtrack of Our Lives",
          "Closed Circuit",
          "Cloud Atlas",
          "Clouds of Sils Maria",
          "Cloverfield",
          "Coach Carter",
          "Code Name: The Cleaner",
          "Colonia",
          "Come and Find Me",
          "Concussion",
          "Cool Hand Luke",
          "Crouching Tiger, Hidden Dragon",
          "Cult of Chucky",
          "Cutie and the Boxer",
          "Dad",
          "Daddy Day Care",
          "Dallas Buyers Club",
          "Dante's Peak",
          "Dark Crimes",
          "Daughters of the Dust",
          "Dayveon",
          "De Palma",
          "Dear Dad",
          "Death House",
          "Defying the Nazis: The Sharps' War",
          "Den of Thieves",
          "Dexter",
          "Dexter",
          "Die Another Day",
          "Die Another Day",
          "Dinner for Schmucks",
          "District 9",
          "Doctor Zhivago",
          "Dog Eat Dog",
          "Dolphin Tale 2",
          "Don Verdean",
          "Don't Knock Twice",
          "Don't Think Twice",
          "Donnie Brasco",
          "Doom",
          "Doubt",
          "Dragonheart: A New Beginning",
          "Dukhtar",
          "Dumb and Dumberer: When Harry Met Lloyd",
          "Earth to Echo",
          "East Side Sushi",
          "East Side Sushi",
          "Easy A",
          "Eat Pray Love",
          "Elstree 1976",
          "End of Watch",
          "Enter the Dragon",
          "Equals",
          "Equilibrium",
          "Evan Almighty",
          "Evan Almighty",
          "Event Horizon",
          "Every Time I Die",
          "Every Time I Die",
          "Ex Machina",
          "Executive Decision",
          "Exit Wounds",
          "Extras",
          "Fallen",
          "Fear and Loathing in Las Vegas",
          "Filmworker",
          "Final Destination",
          "Final Destination 2",
          "Final Destination 3",
          "Fire at Sea",
          "First Kill",
          "Flash of Genius",
          "Flash of Genius",
          "For Colored Girls",
          "Forbidden Planet",
          "Four Christmases",
          "Four Weddings and a Funeral",
          "Four Weddings and a Funeral",
          "Fracture",
          "Frances Ha",
          "Frasier",
          "Freak Show",
          "Fred Claus",
          "Free Willy",
          "Friend Request",
          "Friends",
          "From Paris with Love",
          "Frozen Planet",
          "Frozen River",
          "Furie",
          "Gabriel and the Mountain",
          "Galavant",
          "Gangs of New York",
          "Gehenna: Where Death Lives",
          "George of the Jungle 2",
          "Get Him to the Greek",
          "Get Santa",
          "Get Shorty",
          "Get Smart",
          "Ghost Rider",
          "Ginger & Rosa",
          "God Bless the Broken Road",
          "God Knows Where I Am",
          "God's Not Dead",
          "God's Not Dead: A Light in Darkness",
          "GoldenEye",
          "Goldstone",
          "Gomorrah",
          "Good Kids",
          "Good Kill",
          "Good People",
          "Gook",
          "Gook",
          "Goon",
          "Goosebumps 2: Haunted Halloween",
          "Gosford Park",
          "Gossip Girl",
          "Gothika",
          "Gran Torino",
          "Grand Hotel",
          "Grease",
          "Green Room",
          "Hairspray",
          "Hamburger Hill",
          "Hank: Five Years from the Brink",
          "Hannibal",
          "Happy Valley",
          "Happyish",
          "Hardcore Henry",
          "Harold & Kumar Escape from Guantanamo Bay",
          "Harold & Kumar Go to White Castle",
          "Harold and Lillian: A Hollywood Love Story",
          "Harry Benson: Shoot First",
          "Hart of Dixie",
          "Haven",
          "Haywire",
          "He Named Me Malala",
          "Head On",
          "Heartbreakers",
          "Heartbreakers",
          "Helix",
          "Hell and Back",
          "Hell on Wheels",
          "Hell or High Water",
          "Hellboy",
          "Her",
          "Here Alone",
          "Hickok",
          "Hinterland",
          "Hitch",
          "Holding the Man",
          "Holidays",
          "Honey 2",
          "Horns",
          "Hostiles",
          "Hot Rod",
          "Hot Rod",
          "Hotel Transylvania 3: Summer Vacation",
          "House at the End of the Street",
          "House of Z",
          "Houston, We Have a Problem!",
          "How to Be a Latin Lover",
          "How to Make an American Quilt",
          "Hurricane Bianca",
          "Hustle & Flow",
          "I Am Bolt",
          "I Am Bolt",
          "I Am Not Madame Bovary",
          "I Am Not Madame Bovary",
          "I Am Wrath",
          "I Don't Know How She Does It",
          "I, Daniel Blake",
          "I'm in Love with a Church Girl",
          "I'm Sorry",
          "Ice Guardians",
          "Ice Guardians",
          "Imagine That",
          "Immoral Tales",
          "In Search of Fellini",
          "In Search of Fellini",
          "Indiana Jones and the Kingdom of the Crystal Skull",
          "Indiana Jones and the Last Crusade",
          "Indiana Jones and the Temple of Doom",
          "Inequality for All",
          "Inglourious Basterds",
          "Inkheart",
          "Instructions Not Included",
          "Intelligence",
          "Into the Forest",
          "Invictus",
          "It Takes Two",
          "Jack Taylor",
          "Jackie Brown",
          "Jay and Silent Bob Strike Back",
          "Jericho",
          "Jersey Boys",
          "Jiro Dreams of Sushi",
          "Jiro Dreams of Sushi",
          "Jonathan Strange & Mr Norrell",
          "Judy Moody and the Not Bummer Summer",
          "Julie & Julia",
          "Jumping the Broom",
          "Junebug",
          "Jupiter Ascending",
          "Just Friends",
          "Justin Bieber: Never Say Never",
          "K-19: The Widowmaker",
          "Kaabil",
          "Kate & Leopold",
          "Kevin Hart: Laugh at My Pain",
          "Kevin Hart: Let Me Explain",
          "Kicking and Screaming",
          "Kill Command",
          "Kill Ratio",
          "Kill the Irishman",
          "Killer Klowns from Outer Space",
          "Killers",
          "Killers",
          "Kills on Wheels",
          "Kilo Two Bravo",
          "King Jack",
          "King's Ransom",
          "Kingpin",
          "Knock Knock",
          "Knowing",
          "Krisha",
          "Krystal",
          "Kung Fu Hustle",
          "Kung Fu Yoga",
          "La Bamba",
          "La Bamba",
          "Laal Rang",
          "Lady in the Water",
          "Leap Year",
          "Legion",
          "Let There Be Light",
          "Lez Bomb",
          "Life After Beth",
          "Like Water for Chocolate",
          "Lila & Eve",
          "Lincoln",
          "Little Nicky",
          "Lock, Stock and Two Smoking Barrels",
          "Locke",
          "Lockout",
          "Logan's Run",
          "Lolita",
          "London Spy",
          "Long Time Running",
          "Lost Girl",
          "Love, Rosie",
          "Mad Men",
          "Mad Money",
          "Mad Money",
          "Madaari",
          "Man of Tai Chi",
          "Man Up",
          "Manglehorn",
          "Manolo: The Boy Who Made Shoes for Lizards",
          "Mansfield Park",
          "Mara",
          "Maron",
          "Martin Lawrence Live: Runteldat",
          "Martin Lawrence Live: Runteldat",
          "Max Rose",
          "Mean Dreams",
          "Mean Streets",
          "Meditation Park",
          "Melvin Goes to Dinner",
          "Men in Black",
          "Men in Black II",
          "Merlí",
          "Middle School: The Worst Years of My Life",
          "Midnight Special",
          "Milk",
          "Mirror Mirror",
          "Mirzya",
          "Miss Julie",
          "Miss Sharon Jones!",
          "Miss Stevens",
          "Mississippi Grind",
          "Mohawk",
          "Molly's Game",
          "Mona Lisa Smile",
          "Money Talks",
          "Monster-in-Law",
          "Moon",
          "Moonwalkers",
          "Moonwalkers",
          "Morris from America",
          "Mr. Church",
          "Mr. Church",
          "Mr. Deeds",
          "Mr. Woodcock",
          "Mud",
          "Mutiny on the Bounty",
          "My Entire High School Sinking Into the Sea",
          "My Scientology Movie",
          "My Sister's Keeper",
          "My Week with Marilyn",
          "Mystery Science Theater 3000",
          "Nacho Libre",
          "Nacho Libre",
          "Neruda",
          "New York Minute",
          "Next",
          "Next",
          "Night Comes On",
          "Night Moves",
          "Nightcrawler",
          "Nights in Rodanthe",
          "No Reservations",
          "Now and Then",
          "Nowhere Boy",
          "Nurse Jackie",
          "Obvious Child",
          "Occupation",
          "Ocean's Thirteen",
          "Ocean's Twelve",
          "Officer Downe",
          "Once Upon a Time in London",
          "Once Upon a Time in London",
          "Once Upon a Time in the West",
          "One Direction: This Is Us",
          "One Strange Rock",
          "Only God Forgives",
          "Only the Dead",
          "Operation Chromite",
          "Operation Mekong",
          "Operation Red Sea",
          "Our House",
          "P.S. I Love You",
          "Pacific Heat",
          "Palm Trees in the Snow",
          "Panic Room",
          "Paper Year",
          "Paranormal Activity",
          "Parks and Recreation",
          "Passenger 57",
          "Patriot Games",
          "Patriot Games",
          "Paul Blart: Mall Cop",
          "Penelope",
          "Penny Dreadful",
          "Perfect Bid: The Contestant Who Knew Too Much",
          "Perfect Stranger",
          "Person of Interest",
          "Personal Shopper",
          "Peter and the Farm",
          "Peter Rabbit",
          "Philadelphia",
          "Planet Earth II",
          "Planetarium",
          "Platoon",
          "Pope Francis: A Man of His Word",
          "Portlandia",
          "Porto",
          "Prescription Thugs",
          "Prescription Thugs",
          "Primal Fear",
          "Princess Cyd",
          "Pulp Fiction",
          "Quantum of Solace",
          "Quantum of Solace",
          "Queen of the Desert",
          "Rachel Getting Married",
          "Raging Bull",
          "Railroad Tigers",
          "Rampant",
          "Rebel Without a Cause",
          "Rectify",
          "Red Christmas",
          "Red Dawn",
          "Red Trees",
          "Reincarnated",
          "Remember",
          "Remember Me",
          "Rememory",
          "Republic of Doyle",
          "Resident Evil: Afterlife",
          "Restless Creature: Wendy Whelan",
          "Revenge",
          "Revenge of the Green Dragons",
          "Revolutionary Road",
          "Rezeta",
          "Righteous Kill",
          "Ripper Street",
          "Rocky",
          "Rocky II",
          "Rocky III",
          "Rocky IV",
          "Rocky V",
          "Room",
          "Rosemary's Baby",
          "Rounders",
          "Royal Pains",
          "Rumble in the Bronx",
          "Runaway Bride",
          "Rustom",
          "S.W.A.T.",
          "Sadie's Last Days on Earth",
          "Safety Not Guaranteed",
          "Sairat",
          "Samson",
          "Sarah's Key",
          "Saturday Church",
          "Savage Dog",
          "Saving Zoë",
          "Saving Zoë",
          "Scandal",
          "Scary Movie",
          "Scary Movie 5",
          "Schindler's List",
          "School Daze",
          "Scott Pilgrim vs. the World",
          "Scream 2",
          "Scream 3",
          "Searching for Bobby Fischer",
          "Searching for Bobby Fischer",
          "Searching for Sugar Man",
          "Season of the Witch",
          "Senna",
          "Sex and the City 2",
          "Sex Doll",
          "Shark Night",
          "Shelter",
          "Sherlock",
          "Sherlock Holmes",
          "Shorgul",
          "Short Term 12",
          "Shorts",
          "SHOT! The Psycho-Spiritual Mantra of Rock",
          "Sicilian Ghost Story",
          "Silent Hill: Revelation",
          "Skin Wars",
          "Skiptrace",
          "Sky on Fire",
          "Skyline",
          "Sleeping with Other People",
          "Sleepover",
          "Sling Blade",
          "Sliver",
          "Slow West",
          "Small Soldiers",
          "Small Soldiers",
          "Smart People",
          "Solo: A Star Wars Story",
          "Solomon Kane",
          "Some Freaks",
          "Some Freaks",
          "Something's Gotta Give",
          "Son of a Gun",
          "Soul Surfer",
          "Sparkle",
          "Spartacus",
          "Spider-Man 3",
          "Spotlight",
          "Spy Kids",
          "Spy Kids 2: The Island of Lost Dreams",
          "St. Agatha",
          "Star-Crossed",
          "Starred Up",
          "Step Brothers",
          "Stephanie",
          "Stonehearst Asylum",
          "Stranger than Fiction",
          "Stripes",
          "Striptease",
          "Stuart Little 2",
          "Stuart Little 2",
          "Suburra",
          "Super Dark Times",
          "Superbad",
          "Superstar",
          "Survivors Guide to Prison",
          "Sweeney Todd: The Demon Barber of Fleet Street",
          "Sweet Virginia",
          "Swiss Army Man",
          "Take Me Home Tonight",
          "Taken",
          "Teenage Cocktail",
          "Tees Maar Khan",
          "Ten Years",
          "Terminator 3: Rise of the Machines",
          "Terminator Salvation",
          "That '70s Show",
          "The 4th Company",
          "The Adderall Diaries",
          "The Age of Shadows",
          "The American President",
          "The Amityville Horror",
          "The Angry Birds Movie 2",
          "The Apostate",
          "The Art of the Steal",
          "The Art of War",
          "The Assignment",
          "The Autopsy of Jane Doe",
          "The Bachelors",
          "The Bachelors",
          "The Bad Education Movie",
          "The Beat",
          "The Blackcoat's Daughter",
          "The Book of Eli",
          "The Bounty Hunter",
          "The Box",
          "The Boy",
          "The Brave One",
          "The Break-Up",
          "The Brothers Grimm",
          "The Bucket List",
          "The Bye Bye Man",
          "The Cakemaker",
          "The Captive",
          "The Car",
          "The Case for Christ",
          "The Charnel House",
          "The Charnel House",
          "The Chosen Ones",
          "The Christmas Candle",
          "The Christmas Candle",
          "The Cincinnati Kid",
          "The Code",
          "The Company Men",
          "The Confirmation",
          "The Confirmation",
          "The Craft",
          "The Crow",
          "The Crying Game",
          "The Curse of Oak Island",
          "The D Train",
          "The Dark Crystal",
          "The Departed",
          "The Devil Inside",
          "The Diabolical",
          "The Drowning",
          "The Dukes of Hazzard",
          "The End of the Tour",
          "The Endless",
          "The Evil Dead",
          "The Exception",
          "The Eyes of My Mother",
          "The Fighter",
          "The Final Destination",
          "The First Wives Club",
          "The Flintstones in Viva Rock Vegas",
          "The Forbidden Kingdom",
          "The Fosters",
          "The Frozen Ground",
          "The Gathering",
          "The Golem",
          "The Good Catholic",
          "The Good Neighbor",
          "The Goods: Live Hard, Sell Hard",
          "The Great Raid",
          "The Green Hornet",
          "The Haunting of Molly Hartley",
          "The Help",
          "The Hollow Point",
          "The Humanity Bureau",
          "The Hundred-Foot Journey",
          "The Hurricane Heist",
          "The Imaginarium of Doctor Parnassus",
          "The Inbetweeners",
          "The Inbetweeners",
          "The Indian in the Cupboard",
          "The Informant!",
          "The Invention of Lying",
          "The Investigator: A British Crime Story",
          "The Iron Lady",
          "The Iron Lady",
          "The Jane Austen Book Club",
          "The Keeping Hours",
          "The King's Speech",
          "The L Word",
          "The Lake House",
          "The Land of the Enlightened",
          "The Last Days of Chez Nous",
          "The Last Exorcism",
          "The Last Exorcism",
          "The Last Man on the Moon",
          "The Little Hours",
          "The Lives of Others",
          "The Lizzie Borden Chronicles",
          "The Lobster",
          "The Longshots",
          "The Lord of the Rings: The Return of the King",
          "The Lord of the Rings: The Two Towers",
          "The Love Guru",
          "The Mask of Zorro",
          "The Matrix",
          "The Matrix Reloaded",
          "The Matrix Revolutions",
          "The Men Who Stare at Goats",
          "The Messengers",
          "The Model",
          "The Monster",
          "The Music of Silence",
          "The Naked Gun: From the Files of Police Squad!",
          "The Natural",
          "The New Romantic",
          "The One I Love",
          "The Other Guys",
          "The Parole Officer",
          "The Pass",
          "The Peacemaker",
          "The Pelican Brief",
          "The Perks of Being a Wallflower",
          "The Phantom of the Opera",
          "The Place Beyond the Pines",
          "The Polar Express",
          "The Prince",
          "The Prison",
          "The Pursuit of Happyness",
          "The Rehearsal",
          "The Returned",
          "The Ring",
          "The Riot Club",
          "The River Wild",
          "The Roommate",
          "The Roommate",
          "The Rover",
          "The Runner",
          "The Salvation",
          "The Sapphires",
          "The Score",
          "The Sea of Trees",
          "The Secret Life of Pets 2",
          "The Shaukeens",
          "The Similars",
          "The Social Network",
          "The Social Network",
          "The Spectacular Now",
          "The Spy Next Door",
          "The Stanford Prison Experiment",
          "The Student",
          "The Taking of Pelham 123",
          "The Talented Mr. Ripley",
          "The Tiger Hunter",
          "The Time Machine",
          "The Time Traveler's Wife",
          "The Tribes of Palos Verdes",
          "The Trigger Effect",
          "The Tudors",
          "The Tuxedo",
          "The Ugly Truth",
          "The Unknown Girl",
          "The Unknown Known",
          "The Vatican Tapes",
          "The Vatican Tapes",
          "The Water Diviner",
          "The Waterboy",
          "The West Wing",
          "The Witch",
          "The Women's Balcony",
          "The Workshop",
          "The World Is Not Enough",
          "The World Is Not Enough",
          "The Young Offenders",
          "Theater of Life",
          "Thelonious Monk: Straight, No Chaser",
          "This Is Not What I Expected",
          "Thor: Ragnarok",
          "Thumper",
          "To Wong Foo, Thanks for Everything! Julie Newmar",
          "Toast of London",
          "Tomorrow Never Dies",
          "Tomorrow Never Dies",
          "Tortilla Soup",
          "Tracers",
          "Tracers",
          "Train to Busan",
          "Trainspotting",
          "Traitor",
          "Transcendence",
          "Trash Fire",
          "Tremors",
          "Tremors 3: Back to Perfection",
          "Trixie Mattel: Moving Parts",
          "Trumbo",
          "Trumbo",
          "Twin Peaks",
          "Two Lovers and a Bear",
          "Tyson",
          "Ugly",
          "Una",
          "Unaccompanied Minors",
          "Up in the Air",
          "USS Indianapolis: Men of Courage",
          "USS Indianapolis: Men of Courage",
          "V for Vendetta",
          "Vantage Point",
          "Viceroy's House",
          "Waiting...",
          "Wakefield",
          "Walking Out",
          "War",
          "War Horse",
          "War on Everyone",
          "Warehoused",
          "We Are Your Friends",
          "We the Animals",
          "Weeds",
          "Welcome to New York",
          "What Lies Beneath",
          "What Still Remains",
          "While We're Young",
          "White Chamber",
          "Wild Wild West",
          "Wildlife",
          "Willy Wonka & the Chocolate Factory",
          "Winter's Bone",
          "Wish I Was Here",
          "Wolves",
          "World Trade Center",
          "World Trade Center",
          "Wyatt Earp",
          "XX",
          "XXX: State of the Union",
          "Yoga Hosers",
          "You Don't Mess with the Zohan",
          "Young Adult",
          "Yours, Mine and Ours",
          "Zodiac",
          "Zombieland",
          "Zoe",
          "ZeroZeroZero",
          "Zandalee",
          "Z: The Beginning of Everything",
          "You're Not You",
          "Wind",
          "Wilder Napalm",
          "Whitechapel",
          "We Need to Talk About Kevin",
          "Watermelon Man",
          "Walkaway Joe",
          "Waiting for Anya",
          "Violets Are Blue",
          "Upload",
          "Up in Arms",
          "Twenty Bucks",
          "Tuff Turf",
          "Truth Seekers",
          "True Colors",
          "Tropic Thunder",
          "Transpecos",
          "Transparent",
          "Trading Paint",
          "Tortilla Soup",
          "Too Old to Die Young",
          "To Catch a Thief",
          "Tin Star",
          "Tiger Zinda Hai",
          "Three Wishes",
          "Think Like a Dog",
          "These Three",
          "The Work and the Glory",
          "The Winslow Boy",
          "The Wilds",
          "The Tunnel",
          "The Tick",
          "The Terror",
          "The Tall Man",
          "The Souvenir",
          "The Secret of Roan Inish",
          "The Ruins",
          "The Royals",
          "The Romantics",
          "The Romanoffs",
          "The Program",
          "The Parallax View",
          "The Office",
          "The Odd Couple",
          "The New Yorker Presents",
          "The Myth of Fingerprints",
          "The Musketeers",
          "The Monster Squad",
          "The Missing",
          "The Marvelous Mrs. Maisel",
          "The Mandela Effect",
          "The Long Walk Home",
          "The Little Foxes",
          "The Last Witness",
          "The Last Tycoon",
          "The Last Sharknado: It's About Time",
          "The Last Post",
          "The Lady from Shanghai",
          "The Kindness of Strangers",
          "The Jazz Singer",
          "The Iron Mask",
          "The Informer",
          "The In Crowd",
          "The Hottie and the Nottie",
          "The Hitchhiker's Guide to the Galaxy",
          "The Hero",
          "The Haunting of Sharon Tate",
          "The Great Escapists",
          "The Grand Tour",
          "The Giant",
          "The Front",
          "The Fosters",
          "The Forbidden Dance",
          "The Feed",
          "The Fall",
          "The Fades",
          "The Expanse",
          "The Endless Summer",
          "The Elephant Man",
          "The Dangerous Book for Boys",
          "The Creeping Flesh",
          "The Court Jester",
          "The Collector",
          "The Bishop's Wife",
          "The Beastmaster",
          "The Band's Visit",
          "The Americans",
          "The Affair",
          "The A Word",
          "That Uncertain Feeling",
          "That Sugar Film",
          "Thappad",
          "Tales from the Loop",
          "Swedish Dicks",
          "Survivors Guide to Prison",
          "Super Size Me 2: Holy Chicken!",
          "Super Size Me",
          "Sunshine State",
          "Student of the Year 2",
          "Strange Wilderness",
          "Storm Boy",
          "Stop Making Sense",
          "Stitches",
          "Steep",
          "Star Trek: Voyager",
          "Star Trek: The Next Generation",
          "Star Trek: Enterprise",
          "Stalker",
          "Sonu Ke Titu Ki Sweety",
          "Something from Nothing: The Art of Rap",
          "Soapdish",
          "So Undercover",
          "Snowden",
          "Sneaky Pete",
          "Small Axe",
          "Slappy and the Stinkers",
          "Sinful Davey",
          "Shottas",
          "Sex Ed",
          "Section 375",
          "Secret Diary of a Call Girl",
          "Scrubs",
          "Room 6",
          "Roman Holiday",
          "Redwood Highway",
          "Rangasthalam",
          "Raising Victor Vargas",
          "Radioactive",
          "Race 3",
          "Raazi",
          "Queer as Folk",
          "Psych",
          "Pramface",
          "Porky's II: The Next Day",
          "Piranha",
          "Photograph",
          "Patriot",
          "Paterson",
          "Pass Over",
          "Paper Planes",
          "Pantani: The Accidental Death of a Cyclist",
          "Pandora",
          "Padmaavat",
          "Our Town",
          "Orphan Black",
          "Only When I Laugh",
          "One Mississippi",
          "One Child",
          "Old Gringo",
          "Ninja III: The Domination",
          "Night Falls on Manhattan",
          "Narc",
          "My Mother and Other Strangers",
          "My Man Godfrey",
          "My Kid Could Paint That",
          "My Dog Stupid",
          "Mr. Robot",
          "Mr. Bean",
          "Mozart in the Jungle",
          "McLintock!",
          "Mario",
          "Mandingo",
          "Mambo Italiano",
          "Love Liza",
          "Lore",
          "Little Big Man",
          "Linsanity",
          "Light of My Life",
          "Life in Pieces",
          "Last Rampage",
          "Ladybugs",
          "Ladies in Lavender",
          "Laal Kaptaan",
          "Knock Off",
          "Knights of Badassdom",
          "Kesari",
          "Kalank",
          "Just Friends",
          "Just Add Magic",
          "Joshy",
          "Johnny Guitar",
          "Jeffrey",
          "James May: Oh Cook",
          "Jack Goes Home",
          "Itzhak",
          "Iron Sky",
          "Invasion of the Body Snatchers",
          "Inside Llewyn Davis",
          "Informer",
          "In Dreams",
          "In a Lonely Place",
          "I Love Dick",
          "I Bury the Living",
          "Hyena Road",
          "Hunters",
          "Hunted",
          "Humans",
          "How I Met Your Mother",
          "Honest Thief",
          "Homecoming",
          "High Strung",
          "Hiding Out",
          "Hesburgh",
          "Hector and the Search for Happiness",
          "Hate Story 4",
          "Harold and Maude",
          "Hard Eight",
          "Hard Candy",
          "Hanover Street",
          "Hanna",
          "Guilt",
          "Grimm",
          "Grantchester",
          "Gracepoint",
          "Gortimer Gibbon's Life on Normal Street",
          "Good Girls Revolt",
          "Goin' South",
          "Gleason",
          "Gimme Danger",
          "Ghost Team One",
          "Gascoigne",
          "G.I. Blues",
          "Friday Night Dinner",
          "Fresh Meat",
          "Four More Shots Please!",
          "Forever",
          "Flowers in the Attic",
          "Flesh and Bone",
          "Fleabag",
          "Fearless",
          "Fat City",
          "Farscape",
          "Falling Water",
          "Falcon Rising",
          "Faith Based",
          "Fairhaven",
          "Fahrenheit 11/9",
          "Explorers",
          "Eureka",
          "Equal Means Equal",
          "Endeavour",
          "Edie",
          "Easy Come, Easy Go",
          "Duck Dynasty",
          "Dragonslayer",
          "Downton Abbey",
          "Donovan's Reef",
          "Dodsworth",
          "Disco Godfather",
          "Digging to China",
          "Diabolique",
          "Dhadak",
          "Death Ship",
          "Dead Man Running",
          "Dead Lucky",
          "Dead & Buried",
          "Crisis in Six Scenes",
          "Crips and Bloods: Made in America",
          "Creative Control",
          "Cowboy",
          "Counterpart",
          "Cougar Town",
          "Comrade Detective",
          "Come and Get It",
          "Coherence",
          "Cloudburst",
          "Chuck",
          "Chocolate City",
          "Chicken People",
          "Chhalaang",
          "Chasers",
          "Catch-22",
          "Catch Hell",
          "Casey's Shadow",
          "Carnival Row",
          "Burn Notice",
          "Britt-Marie Was Here",
          "Brigham City",
          "Breathe",
          "Breaking & Exiting",
          "Bravetown",
          "Brad's Status",
          "Born This Way",
          "Bones",
          "Blue Thunder",
          "Blue Mountain State",
          "Blue Hawaii",
          "Blood into Wine",
          "Blood & Treasure",
          "Black Robe",
          "Birdy",
          "Billionaire Boys Club",
          "Big Sur",
          "Bharat",
          "Betas",
          "Beat",
          "Batla House",
          "Bad Kids of Crestview Academy",
          "Bad Ass",
          "Backtrack",
          "Avatar: The Last Airbender",
          "Atlantis",
          "Any Day Now",
          "Animal Kingdom",
          "Anger Management",
          "Angela's Ashes",
          "Angel and the Badman",
          "And So It Goes",
          "An American Carol",
          "American Animals",
          "Almost Royal",
          "Alias",
          "Absentia",
          "About Alex",
          "A Very English Scandal",
          "A Second Chance",
          "A Place in the Sun",
          "A Mighty Heart",
          "60 Days In",
          "306 Hollywood",
          "'Allo 'Allo!",
          "Wonder Wheel",
          "Wolf Creek 2",
          "The Prince and Me",
          "The Limey",
          "The Lighthouse",
          "The Goldfinch",
          "The Dressmaker",
          "The Cheap Detective",
          "The Big Sick",
          "The Adventurer: The Curse of the Midas Box",
          "Survivor's Remorse",
          "Spun",
          "Smiley Face Killers",
          "She's in Portland",
          "More Than a Game",
          "Milton's Secret",
          "Midnight Crossing",
          "Jay and Silent Bob Reboot",
          "Guns Akimbo",
          "Gett: The Trial of Viviane Amsalem",
          "Don't Worry, He Won't Get Far on Foot",
          "Clockwatchers",
          "The Wailing",
          "Necessary Roughness",
          "Meeting Evil",
          "In the Electric Mist",
          "Gringo",
          "Blood Fest",
          "Wuthering Heights",
          "Wiener-Dog",
          "Until September",
          "Transylvania 6-5000",
          "The Man Who Fell to Earth",
          "The Last Black Man in San Francisco",
          "The Intervention",
          "The Identical",
          "Thank God It's Friday",
          "Submergence",
          "Stay Tuned",
          "Sophie and the Rising Sun",
          "Silent Trigger",
          "Shubh Mangal Zyada Saavdhan",
          "See You Soon",
          "Max Reload and the Nether Blasters",
          "Marjaavaan",
          "Low Tide",
          "Love Stinks",
          "Lost in the Sun",
          "Jacknife",
          "Highway",
          "Hichki",
          "Gully Boy",
          "Girls Just Want to Have Fun",
          "Gallipoli",
          "Elvis & Nixon",
          "Dead End",
          "Dabangg 3",
          "Cromwell",
          "Children of a Lesser God",
          "Bottle Shock",
          "Assault on Wall Street",
          "10 Rillington Place",
          "10 Minutes Gone",
          "Tumbbad",
          "The Bang Bang Club",
          "The Aeronauts",
          "Peterloo",
          "Last Summer in the Hamptons",
          "Fist of Fury",
          "We Are Still Here",
          "The Glorias",
          "Seberg",
          "Rudderless",
          "Les Misérables",
          "Hide Away",
          "Dear God",
          "Archive",
          "The Wall",
          "The Ultimate Life",
          "Suspiria",
          "New Life",
          "Goldstone",
          "Dark River",
          "Rambo: Last Blood",
          "Windows",
          "The Resident",
          "The Dark Valley",
          "Milk Money",
          "Kickin' It Old Skool",
          "Grateful Dawg",
          "Frances",
          "Atlas Shrugged: Part I",
          "All In: The Fight for Democracy",
          "Yardie",
          "The Music of Silence",
          "Status Update",
          "Wild Horses",
          "The Blue Gardenia",
          "Rio Grande",
          "Home Sweet Hell",
          "Heathers",
          "Double Dragon",
          "Dirty",
          "Demon House",
          "The Evening Star",
          "Caught Up",
          "Wonderstruck",
          "The Fanatic",
          "Never Grow Old",
          "Gotti",
          "Fortitude",
          "Sultan",
          "Nick of Time",
          "Monsieur Lazhar",
          "Jeff, Who Lives at Home",
          "Jade",
          "Ashby",
          "22 Bullets",
          "Uncle Frank",
          "Left Behind: The Movie",
          "Honey Boy",
          "Chemical Hearts",
          "7500",
          "High Noon",
          "Raabta",
          "The Klansman",
          "The Statement",
          "Spread",
          "Late Night",
          "Hell House LLC",
          "Crown Heights",
          "Trafficked",
          "Junooniyat",
          "Hindi Medium",
          "Chef",
          "Loudermilk",
          "A Most Beautiful Thing",
          "The Phantom",
          "Survive the Night",
          "Mortal",
          "Last Flag Flying",
          "Intersection",
          "Bad Samaritan",
          "Manchester by the Sea",
          "Prince of Central Park",
          "Big Eden",
          "The Shootist",
          "Stander",
          "Salmonberries",
          "Rosalie Goes Shopping",
          "Child's Play",
          "Angel Heart",
          "An American Rhapsody",
          "The White Knights",
          "DeepStar Six",
          "Brother Nature",
          "The Way Back",
          "The Double",
          "Hunting and Gathering",
          "Guava Island",
          "Creepshow 2",
          "Afternoon Delight",
          "Beautiful",
          "The Game",
          "Tenderness",
          "Pal Joey",
          "Fiddler: A Miracle of Miracles",
          "Ta Ra Rum Pum",
          "Breach",
          "Aparajito",
          "My Blind Brother",
          "Love, Rosie",
          "The Neon Demon",
          "The Quiet Man",
          "Penelope",
          "Jiang Ziya",
          "Guys and Dolls",
          "Complete Unknown",
          "The Rest of Us",
          "House Arrest",
          "100 Streets",
          "The Farewell",
          "The Curse of Sleeping Beauty",
          "Mikey",
          "Midsommar",
          "M.F.A.",
          "Permission",
          "Paper Moon",
          "Leave No Trace",
          "An Inconvenient Truth",
          "Tubelight",
          "Tashan",
          "Newton",
          "Meri Pyaari Bindu",
          "Mere Brother Ki Dulhan",
          "Mardaani",
          "Kill Dil",
          "Kabali",
          "Jab Tak Hai Jaan",
          "Begum Jaan",
          "Befikre",
          "Badrinath Ki Dulhania",
          "Ae Dil Hai Mushkil",
          "Aaja Nachle",
          "Vivarium",
          "The Perfect Score",
          "The Lost City of Z",
          "Teachers",
          "Sunset Boulevard",
          "Who's Your Caddy?",
          "Wonder Man",
          "Sidekick",
          "The Tracker",
          "Changeland",
          "Dickie Roberts: Former Child Star",
          "Safe House",
          "Twilight",
          "The Only Living Boy in New York",
          "Manhattan Night",
          "Heartburn",
          "Flack",
          "Bosch",
          "You Were Never Really Here",
          "Sylvie's Love",
          "My Spy",
          "Knives Out",
          "Eagle Eye",
          "Borat Subsequent Moviefilm",
          "Beautiful Boy",
          "47 Meters Down: Uncaged",
          "The Secret: Dare to Dream",
          "Son of the South",
          "Making the Cut",
          "Billions",
          "The Map of Tiny Perfect Things",
          "The Handmaiden",
          "The Booksellers",
          "Sound of Metal",
          "Highlander",
          "Ruben Guthrie",
          "New York",
          "Jean of the Joneses",
          "Sucker Punch",
          "Shaandaar",
          "September Mornings",
          "LOL",
          "The C Word",
          "Life Itself",
          "Sidekicks",
          "Drowning Mona",
          "The Bridge",
          "Salt of the Earth",
          "Doors",
          "Charade",
          "Royal Wedding",
          "Kansas City Confidential",
          "Factory Girl",
          "Dorian Gray",
          "Penny Serenade",
          "Force of Nature",
          "The Believers",
          "The Babysitters",
          "Suck",
          "Starbuck",
          "Sorority Row",
          "No Clue",
          "Madeline",
          "Female Agents",
          "Eye of the Beholder",
          "Critical Care",
          "Britannia",
          "Big Sky",
          "Bats",
          "All Stars",
          "The Tomorrow War",
          "Vanishing on 7th Street",
          "Ramona and Beezus",
          "Playback",
          "Minority Report",
          "House on Haunted Hill",
          "Take This Waltz",
          "Person to Person",
          "Before I Go to Sleep",
          "White Bird in a Blizzard",
          "Syrup",
          "Force Majeure",
          "A.C.O.D.",
          "Army of One",
          "Slackers",
          "White Zombie",
          "Night Tide",
          "Music",
          "Modern Love",
          "Meet John Doe",
          "Europa Report",
          "Topper Returns",
          "The Girl in the Book",
          "The Bat",
          "His Girl Friday",
          "For the Love of Money",
          "The Box",
          "White God",
          "Jolt",
          "How I Live Now",
          "Fallen",
          "Daniel Isn't Real",
          "Ghost Walk",
          "The Opposite of Sex",
          "The German Doctor",
          "Coming 2 America",
          "Jamesy Boy",
          "At the Fork",
          "Adventures of Power",
          "Calvin Marshall",
          "Band of Robbers",
          "White Sands",
          "Reefer Madness",
          "Nerdland",
          "Juice",
          "Before Dawn",
          "Whitey: United States of America v. James J. Bulger",
          "The Masked Saint",
          "The Little Death",
          "The Last Photograph",
          "Shock and Awe",
          "Lemon",
          "Dangerous Moves",
          "Black and White in Color",
          "The Russia House",
          "The Lair of the White Worm",
          "Sideways",
          "Secret Window",
          "Orlando",
          "Mud",
          "Machete",
          "In Her Shoes",
          "Elektra",
          "Deadbeat",
          "Ascension",
          "Annie Hall",
          "All About Steve",
          "Twilight's Last Gleaming",
          "Tumbledown",
          "Bad Boys",
          "While She Was Out",
          "Trees Lounge",
          "Meet Wally Sparks",
          "Graves",
          "Esther and the King",
          "Cassandra's Dream",
          "Carnal Knowledge",
          "Severed Ways",
          "Outrage",
          "McMafia",
          "Henry's Crime",
          "Best of Enemies",
          "A Pigeon Sat on a Branch Reflecting on Existence",
          "Val",
          "Romper Stomper",
          "The Outlaw",
          "The Dangerous Lives of Altar Boys",
          "Zombie Strippers",
          "The Wasp Woman",
          "Jack Goes Boating",
          "Nancy",
          "The Bedroom Window",
          "Tangerine",
          "The Object of Beauty",
          "Red Hill",
          "Pawn Shop Chronicles",
          "Irudhi Suttru",
          "Answers to Nothing",
          "Accident Man",
          "Sweet Country",
          "Saturday Church",
          "In Bruges",
          "Standing in the Shadows of Motown",
          "Permanent Midnight",
          "Musical Chairs",
          "The New Daughter",
          "School Life",
          "Quarantine 2: Terminal",
          "Not Forgotten",
          "Back Roads",
          "The Secret of Crickley Hall",
          "Annette",
          "Vibes",
          "The Groomsmen",
          "The Big Town",
          "Rogue",
          "I Could Never Be Your Woman",
          "Fear and Desire",
          "Center Stage: Turn It Up",
          "Black and White",
          "Bel Ami",
          "Copenhagen",
          "The Whistleblower",
          "Crimes of the Heart",
          "Kansas City",
          "Black Butterfly",
          "Sinbad",
          "The Million Dollar Hotel",
          "Megiddo: The Omega Code 2",
          "Goliath",
          "Dead Ringers",
          "Funny Face",
          "Circle",
          "Ghost Town",
          "Cruel Intentions 2",
          "The Good Night",
          "Crooked Arrows",
          "The American",
          "The Aggression Scale",
          "I Love You Phillip Morris",
          "The Last Time",
          "For Pete's Sake",
          "Young Frankenstein",
          "The Legend of Bagger Vance",
          "The Boy",
          "Silver City",
          "Sicko",
          "Revolt of the Zombies",
          "Physical Evidence",
          "And God Created Woman",
          "The Survivors",
          "The King of Marvin Gardens",
          "The Deaths of Ian Stone",
          "The Alamo",
          "Roger Dodger",
          "Retreat",
          "Operation Avalanche",
          "Once Upon a Time in China III",
          "Nightlight",
          "Mara",
          "Light Sleeper",
          "I Still Know What You Did Last Summer",
          "Heist",
          "Excision",
          "Daredevil",
          "Clockwise",
          "Chinese Box",
          "Armageddon",
          "21 Grams",
          "The Skeleton Twins",
          "The Possession of Michael King",
          "The First Time",
          "The Discreet Charm of the Bourgeoisie",
          "The Blood of Heroes",
          "The Assignment",
          "Star Kid",
          "Salome's Last Dance",
          "Ringmaster",
          "Replicant",
          "Pet",
          "Incognito",
          "Daydream Nation",
          "Dance of the Dead",
          "Cross Creek",
          "A Good Old Fashioned Orgy",
          "The Wheel of Time",
          "The Unborn",
          "The Kids Are All Right",
          "Rebirth",
          "Parents",
          "Papanasam",
          "Murder on the Orient Express",
          "Money for Nothing",
          "Magic Magic",
          "I'll Always Know What You Did Last Summer",
          "Frailty",
          "Copperhead",
          "Changing the Game",
          "Entertainment",
          "Aashiqui 2",
          "Max Payne",
          "Exposed",
          "The Love Punch",
          "The Darkness",
          "Life Partners",
          "A War",
          "Thirst Street",
          "The Voyeurs",
          "Arachnophobia",
          "Yakuza Apocalypse",
          "The Perfect Sleep",
          "Desperado",
          "The Report",
          "The Collection",
          "The City of Lost Children",
          "Outlander",
          "I'm Not There",
          "A Royal Night Out",
          "A Boy Called Sailboat",
          "The Devil's Backbone",
          "Lonely Hearts",
          "I Like It Like That",
          "All About My Mother",
          "The Tribe",
          "Everybody's Talking About Jamie",
          "American Traitor: The Trial of Axis Sally",
          "The Last Days on Mars",
          "The Disappointments Room",
          "Supercon",
          "Soul Food",
          "Attack the Block",
          "Preacher",
          "I'll Follow You Down",
          "Underworld",
          "The Celestine Prophecy",
          "Nicholas and Alexandra",
          "Liberty Stands Still",
          "The Omega Code",
          "A Thousand Years of Good Prayers",
          "Touch of Pink",
          "Ong Bak 2",
          "Beautiful Joe",
          "You Are Wanted",
          "The Trouble with Maggie Cole",
          "Hightown",
          "Uptown Girls",
          "Untamed Heart",
          "Universal Soldier",
          "Troll",
          "Topkapi",
          "The Village",
          "The Rage: Carrie 2",
          "The Life Aquatic with Steve Zissou",
          "The Grudge 2",
          "The Graduate",
          "The Crocodile Hunter: Collision Course",
          "The Boat",
          "The Best Exotic Marigold Hotel",
          "Taken",
          "Still of the Night",
          "Squirm",
          "Sleepaway Camp II: Unhappy Campers",
          "Scorpio",
          "Scarecrows",
          "Saving Mr. Wu",
          "Salvador",
          "Raising Arizona",
          "Pumpkin",
          "New Year's Evil",
          "My Name is Pauli Murray",
          "Motel Hell",
          "Madison",
          "Love Field",
          "Lost in Hong Kong",
          "Little Man Tate",
          "Hamlet",
          "Hackers",
          "Garden State",
          "Exorcist: The Beginning",
          "Eternal",
          "Duplicity",
          "Die Hard with a Vengeance",
          "Die Hard",
          "Death Wish V: The Face of Death",
          "Caveman",
          "Carrington",
          "Capricorn One",
          "Butch Cassidy and the Sundance Kid",
          "Burn Country",
          "Bulworth",
          "Blue Crush 2",
          "Blacula",
          "Black Coal, Thin Ice",
          "Bad Influence",
          "Atonement",
          "All's Faire in Love",
          "A Good Year",
          "A Chorus Line",
          "A Bucket of Blood",
          "10 to Midnight",
          "Youth in Oregon",
          "Twelve",
          "Red Dog",
          "Let There Be Light",
          "Hawaii",
          "Get Shorty",
          "Cold Turkey",
          "Bandslam",
          "Top Five",
          "The Exorcist",
          "Prometheus",
          "Two and a Half Men",
          "Tell It to the Bees",
          "Almost Famous",
          "Wolves",
          "Wishmaster",
          "Luxor",
          "CBGB",
          "Black Book",
          "All Good Things",
          "What Lies Beneath",
          "The Lazarus Effect",
          "Malevolent",
          "Lansky",
          "Hero and the Terror",
          "A Family Man",
          "The Starving Games",
          "The A-Team",
          "Red Oaks",
          "Meet the Spartans",
          "Knight and Day",
          "John Tucker Must Die",
          "Date Night",
          "What Happens in Vegas",
          "The Rocky Horror Picture Show",
          "The Rocker",
          "The Princess Bride",
          "Shanghai Knights",
          "Marley & Me",
          "Little Miss Sunshine",
          "Judge Dredd",
          "10 Things I Hate About You",
          "Maradona: Blessed Dream"
         ],
         "legendgroup": "",
         "marker": {
          "color": [
           86,
           81,
           89,
           42,
           86,
           35,
           41,
           7,
           7,
           95,
           93,
           43,
           100,
           91,
           54,
           27,
           57,
           65,
           86,
           82,
           50,
           88,
           63,
           88,
           16,
           70,
           70,
           50,
           73,
           75,
           49,
           29,
           12,
           58,
           49,
           69,
           67,
           67,
           36,
           44,
           91,
           91,
           35,
           63,
           26,
           70,
           45,
           0,
           33,
           40,
           75,
           52,
           83,
           37,
           60,
           67,
           8,
           57,
           87,
           50,
           60,
           58,
           58,
           77,
           60,
           49,
           33,
           42,
           42,
           79,
           45,
           78,
           94,
           40,
           100,
           83,
           100,
           70,
           86,
           66,
           15,
           90,
           53,
           90,
           36,
           64,
           66,
           83,
           53,
           100,
           65,
           86,
           78,
           45,
           65,
           65,
           79,
           79,
           57,
           77,
           57,
           45,
           97,
           31,
           87,
           83,
           33,
           57,
           49,
           63,
           49,
           71,
           71,
           68,
           70,
           79,
           36,
           53,
           83,
           53,
           67,
           52,
           83,
           83,
           40,
           91,
           78,
           89,
           66,
           89,
           41,
           80,
           92,
           87,
           92,
           92,
           77,
           71,
           88,
           89,
           73,
           35,
           92,
           28,
           47,
           28,
           61,
           94,
           93,
           57,
           58,
           72,
           54,
           87,
           73,
           88,
           84,
           32,
           7,
           45,
           92,
           22,
           92,
           68,
           99,
           98,
           85,
           70,
           90,
           44,
           61,
           100,
           52,
           100,
           75,
           71,
           84,
           83,
           81,
           63,
           39,
           71,
           58,
           65,
           60,
           93,
           40,
           43,
           93,
           29,
           54,
           80,
           48,
           29,
           59,
           50,
           81,
           47,
           56,
           56,
           29,
           29,
           79,
           67,
           67,
           93,
           66,
           65,
           74,
           49,
           44,
           84,
           50,
           47,
           44,
           29,
           57,
           59,
           99,
           60,
           67,
           74,
           49,
           21,
           75,
           92,
           96,
           100,
           70,
           70,
           94,
           98,
           93,
           97,
           97,
           67,
           89,
           100,
           81,
           84,
           59,
           59,
           72,
           24,
           72,
           4,
           65,
           71,
           100,
           97,
           89,
           44,
           37,
           28,
           100,
           26,
           40,
           40,
           91,
           60,
           76,
           63,
           48,
           65,
           90,
           74,
           44,
           60,
           69,
           44,
           48,
           48,
           60,
           85,
           58,
           90,
           56,
           78,
           93,
           14,
           93,
           59,
           70,
           49,
           93,
           67,
           61,
           98,
           39,
           73,
           78,
           31,
           85,
           70,
           63,
           67,
           42,
           69,
           50,
           90,
           56,
           24,
           89,
           69,
           52,
           60,
           59,
           61,
           88,
           44,
           54,
           54,
           70,
           31,
           33,
           50,
           26,
           52,
           49,
           63,
           61,
           100,
           81,
           50,
           67,
           49,
           32,
           88,
           65,
           53,
           66,
           67,
           67,
           65,
           86,
           70,
           74,
           66,
           75,
           62,
           60,
           86,
           60,
           75,
           77,
           80,
           70,
           100,
           89,
           40,
           53,
           48,
           38,
           41,
           27,
           52,
           100,
           60,
           12,
           62,
           44,
           95,
           40,
           45,
           81,
           5,
           55,
           53,
           78,
           62,
           65,
           50,
           69,
           76,
           80,
           77,
           28,
           63,
           54,
           53,
           69,
           58,
           95,
           100,
           68,
           46,
           48,
           41,
           60,
           80,
           100,
           40,
           40,
           69,
           38,
           67,
           76,
           79,
           56,
           71,
           63,
           84,
           100,
           68,
           68,
           42,
           86,
           67,
           93,
           60,
           92,
           100,
           62,
           86,
           53,
           71,
           95,
           96,
           100,
           20,
           84,
           60,
           89,
           89,
           94,
           63,
           69,
           47,
           57,
           37,
           97,
           67,
           68,
           60,
           50,
           72,
           91,
           89,
           26,
           58,
           44,
           69,
           45,
           50,
           76,
           90,
           49,
           94,
           68,
           68,
           80,
           40,
           95,
           25,
           43,
           73,
           83,
           75,
           58,
           90,
           81,
           43,
           85,
           40,
           82,
           74,
           58,
           74,
           39,
           32,
           32,
           81,
           59,
           35,
           70,
           82,
           80,
           41,
           53,
           53,
           100,
           71,
           78,
           78,
           88,
           100,
           73,
           57,
           16,
           45,
           50,
           68,
           56,
           88,
           26,
           40,
           96,
           73,
           40,
           45,
           63,
           64,
           29,
           100,
           40,
           90,
           30,
           33,
           86,
           57,
           60,
           73,
           80,
           90,
           66,
           77,
           77,
           70,
           71,
           81,
           100,
           100,
           100,
           67,
           80,
           92,
           45,
           47,
           100,
           70,
           71,
           80,
           29,
           42,
           63,
           62,
           7,
           44,
           100,
           45,
           78,
           50,
           100,
           67,
           86,
           57,
           61,
           61,
           77,
           50,
           83,
           68,
           69,
           63,
           55,
           100,
           88,
           80,
           93,
           50,
           83,
           61,
           90,
           41,
           95,
           55,
           79,
           70,
           85,
           87,
           83,
           96,
           65,
           37,
           50,
           97,
           59,
           71,
           65,
           61,
           91,
           92,
           75,
           80,
           65,
           78,
           49,
           70,
           86,
           85,
           88,
           86,
           59,
           75,
           50,
           64,
           80,
           53,
           100,
           100,
           52,
           38,
           65,
           66,
           56,
           73,
           57,
           100,
           60,
           14,
           75,
           64,
           38,
           77,
           0,
           69,
           93,
           78,
           57,
           94,
           71,
           73,
           69,
           100,
           58,
           35,
           85,
           48,
           19,
           67,
           100,
           57,
           86,
           100,
           100,
           94,
           50,
           43,
           85,
           37,
           71,
           54,
           100,
           75,
           29,
           65,
           40,
           69,
           40,
           57,
           20,
           70,
           69,
           15,
           89,
           85,
           68,
           71,
           44,
           68,
           74,
           95,
           63,
           100,
           54,
           50,
           77,
           75,
           53,
           54,
           49,
           53,
           100,
           100,
           100,
           54,
           33,
           94,
           88,
           80,
           93,
           71,
           100,
           40,
           58,
           88,
           35,
           50,
           93,
           0,
           88,
           91,
           57,
           78,
           88,
           91,
           60,
           89,
           75,
           78,
           80,
           53,
           85,
           93,
           79,
           86,
           64,
           33,
           58,
           60,
           90,
           68,
           100,
           70,
           0,
           50,
           100,
           100,
           43,
           58,
           48,
           42,
           81,
           91,
           91,
           95,
           70,
           67,
           68,
           86,
           50,
           100,
           71,
           39,
           33,
           100,
           80,
           40,
           63,
           88,
           70,
           74,
           30,
           88,
           77,
           50,
           38,
           78,
           80,
           88,
           88,
           68,
           68,
           57,
           60,
           60,
           64,
           64,
           73,
           73,
           100,
           100,
           79,
           55,
           92,
           36,
           36,
           61,
           69,
           80,
           84,
           40,
           82,
           90,
           73,
           65,
           59,
           50,
           72,
           53,
           55,
           40,
           58,
           92,
           10,
           62,
           60,
           97,
           61,
           75,
           100,
           93,
           75,
           45,
           100,
           69,
           80,
           67,
           72,
           42,
           95,
           60,
           93,
           53,
           85,
           62,
           40,
           75,
           86,
           84,
           96,
           95,
           31,
           40,
           76,
           90,
           76,
           98,
           24,
           35,
           63,
           62,
           77,
           63,
           86,
           89,
           69,
           40,
           80,
           88,
           74,
           90,
           63,
           78,
           75,
           76,
           72,
           29,
           57,
           100,
           100,
           63,
           35,
           69,
           43,
           85,
           100,
           70,
           90,
           52,
           60,
           92,
           40,
           93,
           95,
           80,
           56,
           100,
           74,
           95,
           100,
           59,
           90,
           56,
           91,
           81,
           38,
           80,
           58,
           73,
           81,
           98,
           69,
           67,
           50,
           98,
           63,
           67,
           58,
           72,
           61,
           87,
           8,
           75,
           88,
           38,
           83,
           56,
           47,
           57,
           81,
           33,
           71,
           59,
           83,
           95,
           69,
           67,
           79,
           89,
           61,
           68,
           67,
           38,
           50,
           10,
           50,
           55,
           73,
           100,
           86,
           57,
           74,
           94,
           91,
           76,
           100,
           79,
           80,
           89,
           65,
           40,
           15,
           67,
           73,
           11,
           100,
           0,
           95,
           66,
           52,
           94,
           83,
           86,
           100,
           100,
           57,
           79,
           79,
           77,
           50,
           45,
           78,
           80,
           90,
           75,
           73,
           79,
           77,
           84,
           44,
           65,
           38,
           95,
           8,
           97,
           86,
           76,
           86,
           0,
           88,
           57,
           57,
           100,
           28,
           76,
           57,
           92,
           90,
           61,
           83,
           60,
           20,
           60,
           91,
           29,
           6,
           67,
           28,
           65,
           89,
           91,
           56,
           97,
           15,
           64,
           86,
           100,
           76,
           85,
           89,
           71,
           91,
           67,
           94,
           46,
           80,
           50,
           47,
           71,
           71,
           58,
           70,
           45,
           63,
           63,
           100,
           100,
           84,
           94,
           78,
           80,
           67,
           40,
           78,
           100,
           100,
           73,
           88,
           20,
           67,
           90,
           80,
           86,
           59,
           80,
           20,
           57,
           40,
           50,
           20,
           82,
           10,
           83,
           54,
           69,
           98,
           57,
           95,
           60,
           93,
           93,
           60,
           74,
           69,
           45,
           100,
           100,
           89,
           60,
           67,
           57,
           45,
           84,
           54,
           83,
           73,
           40,
           52,
           63,
           84,
           58,
           71,
           40,
           92,
           73,
           67,
           85,
           56,
           72,
           68,
           83,
           65,
           76,
           71,
           63,
           89,
           73,
           100,
           55,
           71,
           65,
           97,
           61,
           67,
           79,
           56,
           88,
           88,
           45,
           39,
           26,
           75,
           89,
           93,
           96,
           81,
           80,
           43,
           90,
           63,
           72,
           100,
           66,
           64,
           91,
           73,
           100,
           56,
           77,
           97,
           82,
           86,
           68,
           55,
           83,
           50,
           50,
           91,
           74,
           72,
           76,
           100,
           50,
           60,
           53,
           38,
           86,
           93,
           89,
           77,
           86,
           83,
           89,
           62,
           64,
           33,
           74,
           86,
           57,
           78,
           65,
           80,
           75,
           68,
           80,
           84,
           45,
           80,
           76,
           100,
           63,
           53,
           67,
           100,
           93,
           90,
           100,
           69,
           55,
           40,
           100,
           67,
           94,
           68,
           25,
           0,
           75,
           65,
           92,
           84,
           98,
           87,
           70,
           68,
           70,
           68,
           100,
           71,
           83,
           86,
           77,
           70,
           89,
           100,
           43,
           40,
           70,
           39,
           86,
           63,
           60,
           78,
           68,
           50,
           64,
           84,
           40,
           15,
           60,
           87,
           76,
           53,
           44,
           88,
           50,
           63,
           75,
           39,
           78,
           42,
           65,
           70,
           83,
           30,
           33,
           52,
           50,
           67,
           61,
           60,
           82,
           53,
           74,
           50,
           37,
           45,
           57,
           100,
           70,
           81,
           77,
           100,
           96,
           74,
           100,
           40,
           15,
           53,
           43,
           58,
           40,
           100,
           63,
           83,
           67,
           57,
           71,
           74,
           86,
           67,
           30,
           90,
           92,
           63,
           94,
           60,
           72,
           86,
           56,
           73,
           83,
           20,
           89,
           57,
           36,
           100,
           59,
           70,
           78,
           98,
           95,
           79,
           61,
           95,
           88,
           69,
           71,
           40,
           83,
           78,
           33,
           78,
           82,
           72,
           52,
           100,
           100,
           50,
           21,
           45,
           63,
           63,
           61,
           79,
           33,
           71,
           19,
           65,
           98,
           70,
           42,
           50,
           100,
           100,
           40,
           84,
           50,
           0,
           75,
           90,
           90,
           40,
           40,
           38,
           100,
           100,
           77,
           92,
           83,
           100,
           60,
           88,
           81,
           97,
           74,
           75,
           59,
           73,
           60,
           96,
           50,
           88,
           55,
           76,
           76,
           75,
           0,
           89,
           20,
           88,
           64,
           58,
           74,
           88,
           40,
           63,
           88,
           86,
           77,
           86,
           65,
           89,
           40,
           62,
           65,
           79,
           58,
           83,
           83,
           85,
           71,
           66,
           44,
           67,
           59,
           70,
           40,
           86,
           61,
           88,
           78,
           53,
           74,
           90,
           35,
           74,
           67,
           83,
           62,
           67,
           56,
           97,
           83,
           44,
           88,
           69,
           86,
           38,
           100,
           53,
           69,
           58,
           35,
           100,
           40,
           63,
           81,
           85,
           26,
           56,
           100,
           45,
           95,
           68,
           98,
           83,
           79,
           100,
           50,
           74,
           35,
           100,
           56,
           74,
           40,
           50,
           65,
           100,
           80,
           91,
           91,
           80,
           58,
           62,
           100,
           86,
           69,
           100,
           93,
           100,
           75,
           78,
           85,
           75,
           100,
           63,
           67,
           90,
           100,
           76,
           57,
           60,
           86,
           58,
           75,
           50,
           100,
           100,
           57,
           100,
           62,
           49,
           71,
           92,
           58,
           85,
           43,
           53,
           60,
           75,
           100,
           63,
           63,
           32,
           39,
           63,
           68,
           69,
           100,
           20,
           86,
           79,
           86,
           69,
           24,
           68,
           38,
           85,
           85,
           100,
           79,
           42,
           100,
           69,
           64,
           86,
           65,
           79,
           100,
           85,
           83,
           84,
           100,
           95,
           96,
           72,
           87,
           52,
           52,
           35,
           58,
           59,
           54,
           88,
           88,
           43,
           49,
           49,
           49,
           50,
           55,
           57,
           58,
           54,
           93,
           63,
           63,
           66,
           45,
           61,
           87,
           59,
           67,
           40,
           48,
           35,
           9,
           49,
           90,
           34,
           34,
           67,
           20,
           89,
           79,
           61,
           33,
           40,
           39,
           58,
           93,
           59,
           40,
           0,
           65,
           94,
           65,
           80,
           75,
           85,
           50,
           47,
           57,
           45,
           58,
           47,
           96,
           66,
           36,
           73,
           74,
           54,
           63,
           64,
           66,
           25,
           33,
           50,
           59,
           87,
           98,
           39,
           26,
           73,
           83,
           40,
           100,
           76,
           83,
           45,
           68,
           69,
           45,
           50,
           44,
           100,
           100,
           66,
           72,
           65,
           26,
           53,
           61,
           93,
           100,
           96,
           64,
           60,
           75,
           100,
           45,
           20,
           20,
           40,
           50,
           50,
           66,
           73,
           48,
           67,
           69,
           70,
           64,
           63,
           20,
           62,
           89,
           58,
           91,
           80,
           48,
           86,
           59,
           100,
           50,
           74,
           89,
           70,
           55,
           50,
           49,
           95,
           95,
           55,
           47,
           0,
           35,
           75,
           41,
           66,
           94,
           58,
           58,
           38,
           50,
           34,
           34,
           70,
           83,
           50,
           73,
           60,
           87,
           40,
           100,
           65,
           22,
           67,
           57,
           73,
           5,
           38,
           38,
           55,
           43,
           61,
           48,
           64,
           54,
           100,
           76,
           68,
           60,
           32,
           29,
           57,
           75,
           100,
           97,
           61,
           77,
           57,
           45,
           92,
           54,
           28,
           78,
           68,
           80,
           29,
           40,
           100,
           50,
           71,
           71,
           60,
           60,
           54,
           90,
           76,
           50,
           59,
           42,
           45,
           79,
           88,
           40,
           70,
           40,
           73,
           30,
           53,
           67,
           67,
           71,
           52,
           64,
           85,
           95,
           50,
           41,
           45,
           45,
           50,
           100,
           100,
           92,
           63,
           33,
           88,
           40,
           59,
           76,
           48,
           50,
           44,
           95,
           15,
           60,
           60,
           52,
           81,
           43,
           76,
           76,
           65,
           92,
           95,
           57,
           43,
           56,
           36,
           79,
           38,
           100,
           73,
           64,
           65,
           89,
           71,
           53,
           48,
           63,
           79,
           95,
           56,
           42,
           78,
           40,
           71,
           12,
           36,
           71,
           71,
           85,
           33,
           75,
           44,
           70,
           70,
           66,
           47,
           86,
           84,
           15,
           71,
           74,
           70,
           90,
           91,
           100,
           50,
           92,
           98,
           32,
           56,
           56,
           74,
           80,
           86,
           81,
           63,
           68,
           66,
           63,
           53,
           53,
           81,
           25,
           73,
           85,
           68,
           85,
           61,
           57,
           83,
           63,
           70,
           59,
           37,
           54,
           68,
           50,
           50,
           55,
           37,
           50,
           70,
           39,
           63,
           40,
           73,
           86,
           86,
           83,
           83,
           30,
           40,
           80,
           31,
           75,
           100,
           100,
           41,
           50,
           89,
           89,
           70,
           79,
           83,
           90,
           89,
           50,
           60,
           38,
           68,
           66,
           39,
           77,
           87,
           56,
           54,
           59,
           78,
           78,
           92,
           43,
           67,
           61,
           86,
           45,
           52,
           58,
           61,
           52,
           53,
           58,
           60,
           57,
           75,
           0,
           56,
           76,
           33,
           33,
           72,
           100,
           71,
           26,
           57,
           38,
           48,
           83,
           37,
           77,
           48,
           69,
           69,
           52,
           43,
           43,
           19,
           83,
           75,
           54,
           76,
           40,
           80,
           39,
           68,
           77,
           50,
           63,
           91,
           86,
           90,
           66,
           32,
           94,
           45,
           45,
           78,
           61,
           63,
           54,
           67,
           69,
           28,
           75,
           50,
           50,
           50,
           78,
           95,
           76,
           100,
           75,
           53,
           83,
           57,
           73,
           80,
           50,
           59,
           56,
           76,
           74,
           74,
           84,
           71,
           49,
           40,
           43,
           90,
           50,
           50,
           71,
           48,
           48,
           42,
           40,
           79,
           65,
           68,
           89,
           55,
           71,
           87,
           40,
           40,
           93,
           38,
           45,
           45,
           76,
           86,
           83,
           30,
           52,
           50,
           69,
           81,
           73,
           50,
           64,
           59,
           49,
           45,
           45,
           91,
           63,
           83,
           53,
           89,
           50,
           65,
           80,
           63,
           45,
           17,
           86,
           75,
           77,
           83,
           93,
           43,
           63,
           63,
           45,
           57,
           91,
           100,
           35,
           92,
           71,
           100,
           57,
           68,
           100,
           16,
           87,
           68,
           94,
           61,
           69,
           69,
           67,
           95,
           92,
           61,
           61,
           43,
           75,
           88,
           38,
           60,
           92,
           95,
           53,
           50,
           74,
           28,
           64,
           45,
           25,
           95,
           40,
           100,
           69,
           15,
           67,
           86,
           40,
           94,
           85,
           67,
           63,
           40,
           40,
           85,
           88,
           65,
           94,
           65,
           54,
           50,
           48,
           40,
           74,
           100,
           50,
           65,
           93,
           45,
           50,
           50,
           93,
           55,
           22,
           91,
           57,
           75,
           69,
           40,
           100,
           100,
           80,
           38,
           79,
           15,
           0,
           37,
           39,
           78,
           69,
           30,
           84,
           53,
           73,
           71,
           31,
           71,
           45,
           40,
           15,
           63,
           15,
           84,
           38,
           75,
           48,
           48,
           57,
           69,
           59,
           70,
           70,
           66,
           57,
           54,
           44,
           64,
           63,
           88,
           93,
           75,
           56,
           57,
           79,
           56,
           33,
           55,
           69,
           88,
           39,
           69,
           69,
           74,
           73,
           74,
           44,
           100,
           86,
           68,
           68,
           45,
           64,
           100,
           38,
           100,
           65,
           50,
           79,
           100,
           45,
           100,
           70,
           42,
           57,
           74,
           54,
           39,
           58,
           87,
           79,
           79,
           63,
           92,
           74,
           55,
           36,
           52,
           29,
           56,
           50,
           38,
           41,
           37,
           75,
           29,
           39,
           57,
           49,
           49,
           85,
           42,
           42,
           86,
           36,
           67,
           67,
           67,
           57,
           71,
           81,
           68,
           57,
           65,
           90,
           31,
           40,
           50,
           37,
           80,
           75,
           80,
           74,
           78,
           91,
           42,
           57,
           40,
           63,
           97,
           52,
           40,
           86,
           59,
           53,
           42,
           38,
           44,
           31,
           70,
           40,
           33,
           62,
           47,
           60,
           83,
           83,
           64,
           68,
           59,
           16,
           57,
           57,
           61,
           88,
           94,
           57,
           50,
           65,
           86,
           62,
           62,
           76,
           65,
           83,
           50,
           87,
           41,
           93,
           85,
           35,
           71,
           88,
           68,
           53,
           58,
           47,
           59,
           68,
           45,
           75,
           71,
           59,
           70,
           78,
           60,
           70,
           59,
           55,
           85,
           50,
           78,
           64,
           25,
           40,
           67,
           61,
           97,
           66,
           67,
           59,
           28,
           28,
           64,
           48,
           64,
           69,
           65,
           40,
           58,
           20,
           75,
           90,
           90,
           91,
           37,
           70,
           73,
           55,
           73,
           65,
           28,
           38,
           55,
           75,
           69,
           44,
           39,
           63,
           68,
           40,
           40,
           61,
           45,
           75,
           90,
           73,
           71,
           57,
           57,
           100,
           100,
           83,
           73,
           76,
           72,
           53,
           84,
           61,
           61,
           74,
           44,
           44,
           76,
           91,
           65,
           45,
           69,
           71,
           58,
           90,
           75,
           75,
           82,
           84,
           85,
           63,
           67,
           29,
           90,
           34,
           34,
           69,
           49,
           60,
           44,
           66,
           90,
           39,
           74,
           56,
           100,
           50,
           77,
           70,
           65,
           47,
           90,
           73,
           58,
           40,
           77,
           91,
           83,
           53,
           48,
           67,
           67,
           54,
           60,
           39,
           37,
           48,
           70,
           6,
           76,
           74,
           43,
           94,
           40,
           69,
           56,
           60,
           49,
           75,
           75,
           71,
           40,
           50,
           57,
           94,
           70,
           75,
           40,
           74,
           47,
           71,
           76,
           91,
           0,
           74,
           70,
           80,
           60,
           69,
           44,
           61,
           100,
           50,
           79,
           88,
           91,
           95,
           50,
           53,
           89,
           78,
           54,
           79,
           44,
           49,
           60,
           89,
           81,
           80,
           86,
           59,
           67,
           58,
           93,
           89,
           40,
           88,
           100,
           50,
           45,
           50,
           64,
           83,
           43,
           39,
           100,
           58,
           29,
           6,
           67,
           67,
           37,
           59,
           69,
           86,
           63,
           97,
           31,
           57,
           84,
           82,
           94,
           100,
           85,
           71,
           83,
           80,
           28,
           84,
           53,
           79,
           96,
           86,
           89,
           71,
           58,
           79,
           86,
           100,
           100,
           74,
           77,
           70,
           39,
           27,
           62,
           100,
           54,
           58,
           76,
           92,
           55,
           20,
           40,
           86,
           59,
           40,
           62,
           96,
           97,
           33,
           42,
           19,
           52,
           70,
           61,
           83,
           33,
           97,
           64,
           100,
           80,
           63,
           7,
           100,
           84,
           89,
           76,
           36,
           69,
           65,
           91,
           85,
           75,
           85,
           63,
           14,
           60,
           86,
           93,
           57,
           96,
           67,
           52,
           40,
           69,
           71,
           67,
           85,
           78,
           65,
           94,
           100,
           94,
           57,
           68,
           56,
           32,
           59,
           44,
           79,
           56,
           68,
           86,
           63,
           37,
           61,
           44,
           35,
           63,
           50,
           45,
           52,
           95,
           64,
           85,
           62,
           100,
           45,
           71,
           40,
           91,
           85,
           80,
           48,
           86,
           87,
           63,
           57,
           0,
           67,
           94,
           84,
           50,
           79,
           75,
           49,
           71,
           38,
           50,
           84,
           69,
           67,
           57,
           80,
           67,
           89,
           95,
           64,
           100,
           71,
           66,
           79,
           70,
           42,
           75,
           0,
           84,
           89,
           83,
           57,
           32,
           60,
           100,
           93,
           100,
           90,
           26,
           55,
           69,
           59,
           71,
           74,
           82,
           75,
           88,
           61,
           45,
           67,
           85,
           91,
           50,
           90,
           83,
           44,
           40,
           49,
           33,
           40,
           40,
           63,
           18,
           67,
           62,
           75,
           100,
           89,
           85,
           75,
           73,
           100,
           90,
           44,
           100,
           58,
           40,
           72,
           0,
           78,
           57,
           88,
           64,
           71,
           17,
           0,
           43,
           68,
           69,
           90,
           78,
           83,
           29,
           71,
           77,
           68,
           83,
           35,
           45,
           53,
           85,
           82,
           38,
           40,
           20,
           45,
           93,
           62,
           67,
           86,
           23,
           57,
           68,
           42,
           33,
           76,
           75,
           86,
           76,
           55,
           97,
           56,
           75,
           70,
           71,
           65,
           87,
           50,
           50,
           28,
           74,
           90,
           45,
           59,
           50,
           83,
           50,
           97,
           50,
           44,
           67,
           64,
           38,
           45,
           67,
           59,
           100,
           66,
           84,
           80,
           33,
           40,
           59,
           40,
           59,
           83,
           74,
           33,
           40,
           77,
           83,
           78,
           35,
           45,
           43,
           47,
           63,
           20,
           93,
           49,
           85,
           28,
           58,
           19,
           20,
           59,
           76,
           50,
           73,
           38,
           80,
           65,
           72,
           37,
           55,
           71,
           56,
           31,
           68,
           20,
           85,
           58,
           65,
           65,
           58,
           83,
           72,
           67,
           55,
           63,
           69,
           49,
           37,
           72,
           60,
           18,
           69,
           29,
           71,
           65,
           40,
           0,
           45,
           33,
           33,
           26,
           62,
           74,
           12,
           100,
           58,
           45,
           45,
           42,
           68,
           68,
           31,
           93,
           35,
           44,
           43,
           48,
           40,
           67,
           16,
           90,
           0,
           84,
           85,
           32,
           81,
           68,
           42,
           55,
           52,
           69,
           16,
           77,
           57,
           65,
           95,
           44,
           37,
           47,
           42,
           68,
           68,
           65,
           29,
           37,
           63,
           68,
           85,
           100,
           50,
           14,
           57,
           71,
           36,
           54,
           88,
           20,
           59,
           87,
           65,
           71,
           59,
           65,
           72,
           56,
           86,
           39,
           57,
           74,
           40,
           100,
           74,
           29,
           66,
           16,
           74,
           40,
           64,
           75,
           57,
           20,
           95,
           63,
           32,
           60,
           80,
           57,
           83,
           77,
           57,
           73,
           10,
           41,
           85,
           15,
           20,
           76,
           68,
           67,
           93,
           100,
           93,
           50,
           73,
           78,
           54,
           50,
           57,
           50,
           57,
           89,
           45,
           53,
           64,
           50,
           75,
           66,
           16,
           73,
           25,
           93,
           27,
           100,
           100,
           71,
           65,
           45,
           57,
           61,
           33,
           48,
           55,
           86,
           97,
           81,
           73,
           54,
           83,
           26,
           85,
           65,
           47,
           45,
           57,
           49,
           91,
           66,
           83,
           90,
           81,
           63,
           55,
           64,
           75,
           42,
           39,
           89,
           37,
           100,
           84,
           40,
           29,
           93,
           100,
           53,
           94,
           71,
           86,
           20,
           50,
           75,
           8,
           50,
           33,
           50,
           60,
           42,
           53,
           64,
           78,
           9,
           64,
           92,
           43,
           38,
           53,
           58,
           50,
           62,
           28,
           81,
           71,
           70,
           49,
           50,
           56,
           40,
           80,
           55,
           43,
           33,
           73,
           86,
           8,
           68,
           75,
           67,
           70,
           93,
           40,
           91,
           35,
           52,
           76,
           49,
           65,
           40,
           72,
           83,
           70,
           75,
           54,
           50,
           100,
           37,
           57,
           65,
           50,
           45,
           40,
           64,
           70,
           70,
           40,
           61,
           67,
           30,
           53,
           73,
           100,
           67,
           58,
           97,
           55,
           83,
           79,
           64,
           68,
           38,
           75,
           67,
           91,
           31,
           60,
           63,
           50,
           45,
           69,
           32,
           55,
           40,
           56,
           87,
           38,
           68,
           71,
           50,
           76,
           79,
           93,
           64,
           60,
           65,
           38,
           47,
           63,
           70,
           62,
           79,
           77,
           65,
           37,
           50,
           33,
           83,
           81,
           93,
           73,
           75,
           58,
           55,
           33,
           63,
           75,
           15,
           56,
           73,
           67,
           14,
           56,
           50,
           83,
           57,
           58,
           49,
           38,
           47,
           72,
           75,
           69,
           63,
           40,
           68,
           42,
           33,
           86,
           76,
           66,
           42,
           85,
           36,
           49,
           41,
           65,
           100,
           66,
           49,
           53,
           94,
           53,
           29,
           55,
           77,
           0,
           39,
           38,
           43,
           68,
           63,
           50,
           74,
           55,
           65,
           60,
           14,
           28,
           73,
           7,
           66,
           68,
           52,
           60,
           65,
           38,
           75,
           86,
           32,
           47,
           85,
           45,
           58,
           54,
           58,
           38,
           47,
           52,
           50,
           60,
           72,
           54,
           45,
           82,
           33,
           92,
           43,
           61,
           100,
           90,
           50,
           60,
           0,
           74,
           47,
           83,
           67,
           42,
           39,
           8,
           29,
           33,
           61,
           89,
           75,
           58,
           70,
           58,
           42,
           65,
           72,
           42,
           72,
           38,
           71,
           74,
           64,
           76,
           47,
           75,
           81,
           53,
           67,
           37,
           18,
           0,
           39,
           63,
           90,
           87,
           50,
           47,
           4,
           67,
           20,
           8,
           68,
           50,
           54,
           56,
           82,
           67,
           80,
           40,
           56,
           45,
           37,
           90,
           88,
           40,
           61,
           36,
           87,
           54,
           78,
           78,
           58,
           63,
           45,
           50,
           65,
           50,
           100,
           89,
           77,
           50,
           35,
           76,
           58,
           45,
           40,
           60,
           74,
           85,
           32,
           86,
           36,
           39,
           64,
           61,
           94,
           0,
           32,
           52,
           62,
           89,
           60,
           71,
           40,
           53,
           78,
           63,
           83,
           35,
           25,
           50,
           67,
           40,
           56,
           39,
           83,
           83,
           58,
           88,
           59,
           64,
           86,
           89,
           70,
           65,
           54,
           80,
           48,
           25,
           68,
           7,
           71,
           55,
           47,
           40,
           55,
           59,
           36,
           40,
           16,
           54,
           93,
           24,
           56,
           45,
           61,
           45,
           78,
           41,
           84,
           61,
           63,
           77,
           40,
           69,
           70
          ],
          "coloraxis": "coloraxis",
          "line": {
           "width": 2
          },
          "size": 12,
          "symbol": "circle"
         },
         "mode": "markers",
         "name": "",
         "showlegend": false,
         "textfont": {
          "color": "#212529",
          "family": "Arial, san serif",
          "size": 16
         },
         "type": "scattergl",
         "x": [
          2021,
          1993,
          2021,
          2021,
          2021,
          2010,
          2013,
          2013,
          2013,
          2020,
          2021,
          2017,
          2021,
          1975,
          1978,
          1987,
          2012,
          2001,
          2021,
          2021,
          2021,
          2021,
          2019,
          2021,
          2018,
          2021,
          2021,
          2021,
          2009,
          2015,
          2003,
          2021,
          2004,
          2005,
          2015,
          1994,
          1993,
          2003,
          2001,
          2010,
          1989,
          1989,
          2015,
          2007,
          2011,
          1990,
          1991,
          1994,
          1998,
          2005,
          1986,
          2010,
          2018,
          2003,
          1996,
          2017,
          2003,
          1999,
          1984,
          2006,
          1997,
          2017,
          2017,
          2003,
          2015,
          2003,
          1980,
          1986,
          1986,
          1961,
          2008,
          1993,
          2021,
          2021,
          2011,
          2021,
          2021,
          2021,
          2021,
          2011,
          2014,
          1993,
          2021,
          2021,
          2021,
          2013,
          2012,
          2021,
          2013,
          2021,
          2021,
          1995,
          2012,
          1993,
          2007,
          2007,
          2002,
          2002,
          1999,
          1986,
          2019,
          2006,
          2010,
          2007,
          2010,
          1999,
          1995,
          1991,
          1994,
          2008,
          2019,
          2003,
          2003,
          2000,
          2004,
          2016,
          2013,
          1991,
          2011,
          2010,
          2004,
          1995,
          2000,
          2000,
          2010,
          2021,
          2021,
          2021,
          2021,
          2021,
          2019,
          2019,
          2020,
          2012,
          2021,
          2021,
          2021,
          2019,
          2021,
          2021,
          2021,
          2021,
          2021,
          2017,
          2010,
          2009,
          2008,
          2021,
          2019,
          2021,
          2021,
          2019,
          2015,
          2021,
          2021,
          2021,
          2021,
          2017,
          2015,
          2014,
          2021,
          2016,
          2018,
          2019,
          2019,
          2021,
          2021,
          2019,
          2019,
          2015,
          2019,
          2021,
          2021,
          2020,
          2020,
          2021,
          2020,
          2021,
          2013,
          2021,
          2018,
          1997,
          2002,
          1997,
          1999,
          1997,
          1995,
          1993,
          2021,
          2010,
          2005,
          1988,
          1995,
          2001,
          2018,
          2019,
          2016,
          2008,
          2010,
          2010,
          2000,
          2000,
          2009,
          1999,
          1999,
          2019,
          2006,
          2010,
          1997,
          1986,
          2003,
          1980,
          2008,
          2003,
          2012,
          2009,
          1998,
          1998,
          2021,
          2019,
          2021,
          2012,
          2021,
          2021,
          2021,
          2021,
          2018,
          2019,
          2015,
          2015,
          2018,
          2019,
          2020,
          2020,
          2021,
          2021,
          2021,
          2021,
          2012,
          2021,
          2016,
          2013,
          2005,
          2014,
          2014,
          2013,
          2021,
          2018,
          2021,
          2021,
          2021,
          2020,
          2001,
          2000,
          2011,
          2003,
          2001,
          2001,
          2015,
          2010,
          2012,
          2011,
          2001,
          1997,
          2004,
          2012,
          2009,
          2004,
          1984,
          2001,
          2015,
          2015,
          2005,
          2015,
          1996,
          1976,
          2018,
          2020,
          2021,
          2016,
          2021,
          2021,
          2021,
          2021,
          2021,
          2021,
          2021,
          2021,
          2011,
          2017,
          2016,
          2021,
          2021,
          2004,
          2021,
          2021,
          2021,
          2020,
          2013,
          2019,
          2021,
          2020,
          2018,
          2018,
          2010,
          2010,
          2009,
          2018,
          2003,
          2008,
          1994,
          1994,
          2009,
          2018,
          2011,
          2009,
          2002,
          2000,
          2016,
          1992,
          2008,
          2021,
          2021,
          2018,
          2014,
          2011,
          2018,
          2021,
          2021,
          2021,
          2016,
          1992,
          1992,
          2011,
          2010,
          2007,
          2021,
          2015,
          2013,
          2017,
          2017,
          2006,
          1981,
          2021,
          2018,
          2019,
          2019,
          2021,
          2020,
          2021,
          2020,
          2013,
          2006,
          2008,
          2017,
          2009,
          2009,
          2010,
          2016,
          2001,
          1996,
          1964,
          2021,
          2010,
          2002,
          1999,
          2016,
          2008,
          2018,
          2013,
          2012,
          2021,
          2013,
          1998,
          2021,
          2013,
          2020,
          2021,
          2020,
          2014,
          2014,
          2012,
          2021,
          2021,
          2021,
          2021,
          2021,
          2021,
          2021,
          2021,
          2021,
          2013,
          2013,
          2021,
          2014,
          2021,
          1990,
          1988,
          2006,
          2016,
          2011,
          2008,
          2021,
          2021,
          2021,
          2021,
          2013,
          2016,
          2021,
          2018,
          2021,
          2019,
          2021,
          2020,
          2017,
          2020,
          2021,
          2005,
          2021,
          2021,
          2021,
          2016,
          2020,
          2021,
          2021,
          2021,
          2021,
          2021,
          2021,
          1997,
          2019,
          2010,
          2008,
          2020,
          2018,
          2021,
          2021,
          2018,
          2021,
          2010,
          2020,
          2020,
          2020,
          2013,
          2016,
          2021,
          2021,
          2020,
          2011,
          2020,
          2021,
          2009,
          2021,
          2021,
          1997,
          2009,
          2007,
          1988,
          2011,
          1993,
          2020,
          2020,
          2019,
          2020,
          2020,
          2020,
          2020,
          2020,
          2020,
          2012,
          2012,
          2020,
          2018,
          2016,
          2016,
          2020,
          2020,
          2019,
          2020,
          2020,
          2020,
          2020,
          2019,
          2020,
          2020,
          2020,
          2020,
          2016,
          2020,
          2014,
          2009,
          2014,
          1990,
          2006,
          2006,
          2018,
          2020,
          2020,
          2020,
          2020,
          2020,
          2020,
          2013,
          2020,
          2020,
          2004,
          2010,
          2015,
          2016,
          2011,
          2020,
          2020,
          2020,
          2020,
          1954,
          2019,
          2019,
          2020,
          2020,
          2013,
          2020,
          2020,
          2020,
          2020,
          2020,
          2019,
          2016,
          2020,
          2020,
          2018,
          2019,
          2002,
          2018,
          2018,
          2018,
          2016,
          1994,
          2019,
          2020,
          2020,
          2020,
          2020,
          2020,
          2019,
          2020,
          2020,
          2019,
          2018,
          2020,
          2020,
          2007,
          2016,
          2020,
          2020,
          2020,
          2020,
          2020,
          2020,
          2020,
          2020,
          2020,
          2020,
          2020,
          2017,
          2019,
          2016,
          2016,
          2005,
          2019,
          2018,
          2020,
          2020,
          2014,
          2008,
          2019,
          2020,
          2011,
          2020,
          2020,
          2020,
          2019,
          2020,
          2020,
          2002,
          2020,
          2020,
          2020,
          2020,
          2020,
          2020,
          2020,
          2017,
          2020,
          2020,
          2020,
          2020,
          2020,
          2009,
          2012,
          2016,
          2008,
          1998,
          2020,
          1998,
          2016,
          2019,
          2020,
          2020,
          2020,
          2020,
          2020,
          2020,
          2020,
          2020,
          2019,
          2012,
          2020,
          2020,
          2020,
          2020,
          2019,
          2016,
          2012,
          2020,
          2020,
          2020,
          2020,
          2020,
          2017,
          2018,
          2020,
          2020,
          2020,
          2017,
          2020,
          2020,
          2020,
          2020,
          2019,
          2020,
          2020,
          2020,
          2020,
          2018,
          2015,
          2015,
          2015,
          2011,
          2019,
          2012,
          2015,
          2013,
          2019,
          2020,
          2017,
          2020,
          2020,
          2019,
          1999,
          2007,
          1990,
          2020,
          2020,
          2020,
          2015,
          2020,
          2020,
          2020,
          2020,
          2020,
          2020,
          2020,
          1982,
          1958,
          2020,
          2018,
          2016,
          2020,
          2020,
          2020,
          2020,
          2020,
          2020,
          2009,
          2017,
          2018,
          2020,
          2014,
          2019,
          2020,
          2017,
          2017,
          2020,
          2019,
          2019,
          2019,
          2020,
          2020,
          2010,
          2020,
          2012,
          2020,
          2020,
          2007,
          2019,
          2020,
          2020,
          2020,
          2020,
          2020,
          2020,
          2020,
          2020,
          2020,
          2019,
          2019,
          2013,
          2013,
          2020,
          2019,
          2003,
          2020,
          2019,
          2020,
          2020,
          2011,
          2020,
          2020,
          2020,
          2020,
          2020,
          2020,
          2016,
          2015,
          2015,
          2020,
          2019,
          2020,
          2019,
          2019,
          2020,
          2019,
          2010,
          2017,
          2017,
          2019,
          2020,
          2019,
          2017,
          2015,
          2015,
          2008,
          2008,
          2013,
          2014,
          2014,
          2006,
          2006,
          2003,
          2003,
          2016,
          2016,
          2020,
          2020,
          2020,
          2014,
          2014,
          2018,
          2016,
          2017,
          2019,
          2020,
          2020,
          2020,
          2019,
          2020,
          2020,
          2020,
          2020,
          2020,
          2020,
          2020,
          2020,
          2020,
          2014,
          2020,
          2020,
          2020,
          2020,
          2020,
          2020,
          2020,
          2019,
          2020,
          2020,
          2010,
          2005,
          2016,
          2018,
          2011,
          2020,
          2016,
          2011,
          2016,
          2007,
          2019,
          2019,
          2020,
          2020,
          2019,
          2020,
          2020,
          2020,
          2016,
          2021,
          2020,
          2017,
          2018,
          2019,
          2019,
          2020,
          2020,
          2020,
          2017,
          2019,
          2020,
          2019,
          2016,
          2020,
          2020,
          2020,
          2020,
          2018,
          2020,
          2017,
          2019,
          2020,
          2020,
          2020,
          2020,
          2004,
          2013,
          2020,
          2020,
          2011,
          2015,
          2018,
          2020,
          2020,
          2020,
          2020,
          2020,
          2014,
          2020,
          2020,
          2017,
          2019,
          2020,
          2001,
          2006,
          2017,
          2020,
          2019,
          2019,
          2019,
          2019,
          2019,
          2012,
          2019,
          2019,
          2019,
          2019,
          2019,
          2015,
          2015,
          2019,
          2015,
          2011,
          2010,
          2011,
          2019,
          2017,
          2019,
          2020,
          2019,
          2019,
          2019,
          2018,
          2014,
          2019,
          2019,
          2019,
          2019,
          2008,
          2019,
          2019,
          2017,
          2019,
          2019,
          2019,
          2019,
          2019,
          2015,
          2013,
          2019,
          2019,
          2019,
          2019,
          2019,
          2019,
          2009,
          2019,
          2019,
          2019,
          2019,
          2013,
          2019,
          2019,
          2019,
          2018,
          2016,
          2019,
          2015,
          2018,
          2019,
          2019,
          2019,
          2019,
          2019,
          2019,
          2019,
          2019,
          2019,
          2019,
          2019,
          2019,
          2019,
          2005,
          2005,
          2019,
          2019,
          2019,
          2013,
          2019,
          2019,
          2019,
          2019,
          2019,
          2019,
          2019,
          2019,
          2019,
          2019,
          2019,
          2019,
          2019,
          2019,
          2019,
          2019,
          2018,
          2019,
          2019,
          2019,
          2019,
          2019,
          2019,
          2019,
          2019,
          2019,
          2019,
          2019,
          2019,
          2019,
          2019,
          2019,
          2019,
          2019,
          2019,
          2019,
          2018,
          2019,
          2019,
          2019,
          2019,
          2019,
          2019,
          2018,
          2012,
          2018,
          2019,
          2019,
          2015,
          2017,
          2019,
          2019,
          2019,
          2019,
          2018,
          2019,
          2019,
          2019,
          2019,
          2019,
          2019,
          2018,
          2018,
          2019,
          2019,
          2019,
          2019,
          2019,
          2019,
          2019,
          2019,
          2018,
          2019,
          2019,
          2019,
          2019,
          2019,
          2018,
          2019,
          2019,
          2019,
          2019,
          2019,
          2019,
          2019,
          2019,
          2013,
          2004,
          2019,
          2019,
          2019,
          2014,
          2013,
          2019,
          2019,
          2018,
          2015,
          2017,
          2019,
          2019,
          2019,
          2019,
          2019,
          2018,
          2019,
          2019,
          2019,
          2019,
          2018,
          2019,
          2019,
          2014,
          2018,
          2018,
          2019,
          2019,
          2019,
          2018,
          2018,
          2016,
          2019,
          2019,
          2019,
          2008,
          2018,
          2015,
          2019,
          2019,
          2018,
          2015,
          2019,
          2018,
          2018,
          2018,
          2019,
          2019,
          2018,
          2018,
          2018,
          2019,
          2019,
          2018,
          2018,
          2019,
          2018,
          2019,
          2018,
          2018,
          2019,
          2018,
          2018,
          2018,
          2019,
          2019,
          2018,
          2018,
          2018,
          2018,
          2018,
          2018,
          2014,
          2014,
          2018,
          2014,
          2018,
          2018,
          2018,
          2018,
          2018,
          2018,
          2018,
          2013,
          2011,
          2018,
          2018,
          2018,
          2018,
          2018,
          2018,
          2018,
          2018,
          2018,
          2018,
          2018,
          2007,
          2018,
          2018,
          2018,
          2017,
          2018,
          2018,
          2018,
          2017,
          2018,
          2018,
          2012,
          2018,
          2013,
          2011,
          2017,
          2015,
          2018,
          2018,
          2017,
          2018,
          2018,
          2018,
          2018,
          2018,
          2018,
          2018,
          2018,
          2018,
          2018,
          2018,
          2018,
          2018,
          2017,
          1974,
          2012,
          2018,
          2008,
          2015,
          2013,
          2012,
          2018,
          2018,
          2018,
          2018,
          2018,
          2018,
          2018,
          2018,
          2018,
          2018,
          2018,
          2018,
          2018,
          2014,
          2018,
          2017,
          2018,
          2018,
          2017,
          2017,
          2018,
          2018,
          2017,
          2017,
          2018,
          2017,
          2018,
          2018,
          2018,
          2014,
          2016,
          2010,
          2014,
          2014,
          2016,
          2010,
          2006,
          2012,
          2015,
          2017,
          2012,
          2018,
          2018,
          2018,
          2018,
          2018,
          2018,
          2018,
          2018,
          2018,
          2018,
          2018,
          2010,
          2017,
          2017,
          2018,
          2018,
          2018,
          2016,
          2018,
          2018,
          2018,
          2018,
          2017,
          2017,
          2019,
          2019,
          2018,
          2018,
          2018,
          2018,
          2017,
          2018,
          2018,
          2017,
          2018,
          2018,
          2017,
          2018,
          2018,
          2018,
          2018,
          2017,
          2018,
          2017,
          1993,
          2009,
          2017,
          2017,
          2007,
          2017,
          2017,
          2018,
          2018,
          2018,
          2018,
          2006,
          2018,
          2016,
          2018,
          2017,
          2018,
          2018,
          2017,
          2018,
          2017,
          2018,
          2017,
          2017,
          2007,
          2017,
          2004,
          2017,
          2018,
          2018,
          2017,
          2018,
          2018,
          2018,
          2018,
          2018,
          2017,
          2018,
          2017,
          2018,
          2017,
          2018,
          2018,
          2017,
          2018,
          2016,
          2018,
          2017,
          2017,
          2016,
          2017,
          2017,
          2017,
          2016,
          2017,
          2017,
          2015,
          2017,
          2017,
          2017,
          2017,
          2017,
          2017,
          2017,
          2017,
          2017,
          2017,
          2017,
          2017,
          2017,
          2017,
          2017,
          2016,
          2017,
          2016,
          2015,
          2017,
          2017,
          2017,
          2017,
          2004,
          2000,
          2017,
          2017,
          2017,
          2017,
          2014,
          2017,
          2017,
          2016,
          2017,
          2017,
          2017,
          2016,
          2016,
          2017,
          2016,
          2016,
          2017,
          2017,
          2016,
          2016,
          2017,
          2011,
          2017,
          2016,
          2016,
          2013,
          2017,
          2017,
          2017,
          2017,
          2013,
          2016,
          2017,
          2017,
          2015,
          2016,
          2017,
          2017,
          2016,
          2016,
          2017,
          2016,
          2016,
          2016,
          2017,
          2017,
          2017,
          2017,
          2016,
          2016,
          2017,
          2017,
          2015,
          2016,
          2017,
          2017,
          2016,
          2016,
          2017,
          2017,
          2017,
          2016,
          2017,
          2017,
          2015,
          2017,
          2016,
          2017,
          2016,
          2017,
          2017,
          1992,
          2016,
          2017,
          2016,
          2017,
          2016,
          2016,
          2017,
          2014,
          2015,
          2014,
          2015,
          2015,
          2016,
          1999,
          1999,
          2016,
          2016,
          2016,
          2016,
          2018,
          2016,
          2016,
          2016,
          2016,
          2016,
          2016,
          2016,
          2016,
          2016,
          2016,
          2016,
          1979,
          2016,
          2016,
          2016,
          2015,
          2016,
          2016,
          2016,
          2016,
          2015,
          2016,
          2016,
          2016,
          2016,
          2016,
          2012,
          2008,
          2016,
          2016,
          2016,
          2016,
          2015,
          2016,
          2016,
          2016,
          2015,
          2016,
          2016,
          2016,
          2015,
          2016,
          2016,
          2016,
          2016,
          2016,
          2008,
          2010,
          2015,
          2015,
          2015,
          2015,
          2015,
          2015,
          2015,
          2015,
          2015,
          2015,
          2015,
          2015,
          2014,
          1998,
          2014,
          2013,
          2014,
          2013,
          2013,
          2007,
          2013,
          2011,
          2010,
          2008,
          2008,
          2005,
          2014,
          2006,
          2009,
          2019,
          2016,
          2013,
          2017,
          2017,
          2000,
          2015,
          2011,
          2015,
          2014,
          2004,
          2011,
          2017,
          2017,
          2017,
          2017,
          1977,
          1971,
          1993,
          2015,
          2016,
          2016,
          2012,
          2013,
          2016,
          2014,
          1998,
          1998,
          2015,
          2013,
          2011,
          2009,
          2015,
          2012,
          2002,
          2018,
          2011,
          2002,
          2007,
          2012,
          2018,
          2018,
          2013,
          2008,
          2012,
          1974,
          2018,
          2006,
          2018,
          2016,
          2001,
          2016,
          2017,
          2017,
          2019,
          2014,
          1998,
          2016,
          2015,
          2000,
          2018,
          2017,
          2015,
          2001,
          2003,
          2015,
          2018,
          2018,
          2011,
          2014,
          1997,
          2016,
          2012,
          2014,
          2018,
          2017,
          2016,
          2006,
          2014,
          2015,
          1995,
          2003,
          2017,
          2017,
          2016,
          2017,
          2015,
          2015,
          1998,
          1992,
          2017,
          2018,
          2015,
          1996,
          2007,
          2016,
          2015,
          2016,
          2019,
          2019,
          2007,
          1999,
          2002,
          2002,
          2000,
          2018,
          2017,
          2016,
          2001,
          2007,
          2017,
          2015,
          2016,
          2016,
          2001,
          2013,
          2013,
          1999,
          2010,
          2017,
          2018,
          2017,
          2017,
          1967,
          2005,
          2009,
          2018,
          2010,
          2018,
          2018,
          2017,
          1960,
          2016,
          2015,
          2014,
          1998,
          1992,
          2015,
          2009,
          2009,
          2010,
          2000,
          2018,
          2018,
          2017,
          2005,
          2003,
          1997,
          2017,
          1992,
          2012,
          2017,
          1988,
          2017,
          1968,
          2009,
          2018,
          2004,
          2009,
          2009,
          2016,
          2010,
          1973,
          2006,
          2017,
          2013,
          2012,
          2014,
          2008,
          2005,
          2007,
          2015,
          2016,
          2013,
          1967,
          2000,
          2017,
          2013,
          1989,
          2003,
          2013,
          1997,
          2016,
          1991,
          2017,
          2015,
          2016,
          2017,
          2016,
          2018,
          2013,
          2013,
          2002,
          2002,
          2010,
          2009,
          1965,
          2016,
          2014,
          2015,
          2016,
          2016,
          1997,
          2005,
          2008,
          2000,
          2014,
          2003,
          2014,
          2015,
          2015,
          2010,
          2010,
          2015,
          2012,
          1973,
          2015,
          2002,
          2007,
          2007,
          1997,
          2019,
          2019,
          2015,
          1996,
          2001,
          2006,
          1998,
          1998,
          2017,
          2000,
          2003,
          2006,
          2016,
          2017,
          2008,
          2008,
          2010,
          1956,
          2008,
          1994,
          1994,
          2007,
          2012,
          2003,
          2018,
          2007,
          1993,
          2016,
          2003,
          2010,
          2011,
          2008,
          2019,
          2017,
          2016,
          2002,
          2016,
          2003,
          2010,
          2014,
          2017,
          2008,
          2007,
          2012,
          2018,
          2016,
          2014,
          2018,
          1995,
          2016,
          2016,
          2016,
          2014,
          2014,
          2017,
          2017,
          2011,
          2018,
          2001,
          2012,
          2003,
          2008,
          2013,
          1978,
          2015,
          2007,
          1987,
          2013,
          2015,
          2016,
          2015,
          2015,
          2008,
          2004,
          2015,
          2016,
          2014,
          2015,
          2011,
          2015,
          1998,
          2001,
          2001,
          2015,
          2015,
          2016,
          2016,
          2004,
          2013,
          2016,
          2017,
          2016,
          2005,
          2015,
          2016,
          2011,
          2013,
          2017,
          2007,
          2007,
          2018,
          2012,
          2016,
          2016,
          2017,
          1995,
          2016,
          2005,
          2016,
          2016,
          2016,
          2016,
          2016,
          2011,
          2016,
          2013,
          2019,
          2016,
          2016,
          2009,
          1974,
          2017,
          2017,
          2008,
          1989,
          1984,
          2013,
          2009,
          2008,
          2013,
          2007,
          2015,
          2009,
          1995,
          2016,
          1997,
          2001,
          2008,
          2014,
          2011,
          2011,
          2015,
          2011,
          2009,
          2011,
          2005,
          2015,
          2005,
          2011,
          2002,
          2017,
          2001,
          2011,
          2013,
          1995,
          2016,
          2016,
          2011,
          1988,
          2010,
          2010,
          2016,
          2014,
          2015,
          2005,
          1996,
          2015,
          2009,
          2015,
          2017,
          2004,
          2017,
          1987,
          1987,
          2016,
          2006,
          2010,
          2010,
          1946,
          2018,
          2014,
          1992,
          2015,
          2012,
          2000,
          1998,
          2013,
          2012,
          1976,
          1962,
          2015,
          2017,
          2015,
          2014,
          2014,
          2008,
          2008,
          2016,
          2013,
          2015,
          2014,
          2017,
          1999,
          2017,
          2016,
          2002,
          2002,
          2013,
          2016,
          1973,
          2017,
          2003,
          1997,
          2002,
          2015,
          2016,
          2016,
          2008,
          2012,
          2016,
          2014,
          2015,
          2016,
          2015,
          2017,
          2017,
          2003,
          1997,
          2005,
          2009,
          2015,
          2015,
          2016,
          2016,
          2016,
          2002,
          2007,
          2012,
          1962,
          2016,
          2015,
          2009,
          2011,
          1999,
          2006,
          2006,
          2016,
          2004,
          2007,
          2007,
          2018,
          2013,
          2014,
          2008,
          2007,
          1995,
          2009,
          2015,
          2014,
          2018,
          2007,
          2004,
          2016,
          2019,
          2019,
          1968,
          2013,
          2018,
          2013,
          2015,
          2016,
          2016,
          2018,
          2018,
          2007,
          2016,
          2015,
          2002,
          2018,
          2007,
          2015,
          1992,
          1992,
          1992,
          2009,
          2006,
          2016,
          2017,
          2007,
          2016,
          2016,
          2016,
          2018,
          1993,
          2016,
          2016,
          1986,
          2018,
          2018,
          2016,
          2015,
          2015,
          1996,
          2017,
          1994,
          2008,
          2008,
          2015,
          2008,
          1980,
          2016,
          2018,
          1955,
          2016,
          2016,
          1984,
          2017,
          2012,
          2015,
          2010,
          2017,
          2014,
          2010,
          2016,
          2017,
          2014,
          2008,
          2012,
          2008,
          2017,
          1976,
          1979,
          1982,
          1985,
          1990,
          2015,
          1968,
          1998,
          2016,
          1995,
          1999,
          2016,
          2003,
          2016,
          2012,
          2016,
          2018,
          2010,
          2017,
          2017,
          2019,
          2019,
          2018,
          2000,
          2013,
          1993,
          1988,
          2010,
          1997,
          2000,
          1993,
          1993,
          2012,
          2011,
          2010,
          2010,
          2016,
          2011,
          2010,
          2017,
          2009,
          2016,
          2013,
          2009,
          2016,
          2017,
          2012,
          2016,
          2016,
          2016,
          2010,
          2015,
          2004,
          1996,
          1993,
          2015,
          1998,
          1998,
          2008,
          2018,
          2009,
          2017,
          2017,
          2003,
          2014,
          2011,
          1976,
          2013,
          2007,
          2015,
          2001,
          2002,
          2018,
          2014,
          2013,
          2008,
          2017,
          2014,
          2006,
          1981,
          1996,
          2002,
          2002,
          2015,
          2017,
          2007,
          1999,
          2017,
          2007,
          2017,
          2016,
          2011,
          2018,
          2016,
          2010,
          2015,
          2003,
          2009,
          2005,
          2016,
          2015,
          2016,
          1995,
          2005,
          2019,
          2015,
          2013,
          2000,
          2016,
          2016,
          2017,
          2017,
          2015,
          2012,
          2015,
          2010,
          2010,
          2009,
          2016,
          2007,
          2006,
          2005,
          2007,
          2017,
          2017,
          2014,
          1977,
          2017,
          2016,
          2016,
          2015,
          2013,
          2013,
          1965,
          2011,
          2010,
          2016,
          2016,
          1996,
          1994,
          1992,
          2016,
          2015,
          1982,
          2006,
          2012,
          2015,
          2016,
          2005,
          2015,
          2017,
          1981,
          2016,
          2016,
          2010,
          2009,
          1996,
          2000,
          2008,
          2017,
          2013,
          2003,
          2018,
          2017,
          2016,
          2009,
          2005,
          2011,
          2008,
          2011,
          2016,
          2017,
          2014,
          2018,
          2009,
          2010,
          2010,
          1995,
          2009,
          2009,
          2018,
          2011,
          2011,
          2007,
          2017,
          2010,
          2009,
          2006,
          2016,
          1992,
          2010,
          2010,
          2014,
          2017,
          2006,
          2015,
          2015,
          2008,
          2003,
          2002,
          2008,
          1998,
          1999,
          2003,
          2003,
          2009,
          2015,
          2016,
          2016,
          2017,
          1988,
          1984,
          2018,
          2014,
          2010,
          2001,
          2016,
          1997,
          1993,
          2012,
          2004,
          2012,
          2004,
          2014,
          2017,
          2006,
          2016,
          2015,
          2002,
          2014,
          1994,
          2011,
          2011,
          2014,
          2015,
          2014,
          2012,
          2001,
          2015,
          2019,
          2014,
          2015,
          2010,
          2010,
          2013,
          2010,
          2015,
          2017,
          2009,
          1999,
          2016,
          2002,
          2009,
          2017,
          1996,
          2010,
          2002,
          2009,
          2016,
          2013,
          2015,
          2015,
          2014,
          1998,
          2005,
          2015,
          2016,
          2017,
          1999,
          1999,
          2016,
          2016,
          1988,
          2017,
          2017,
          2017,
          1995,
          2015,
          1997,
          1997,
          2001,
          2015,
          2015,
          2016,
          1996,
          2008,
          2014,
          2016,
          1990,
          2001,
          2019,
          2015,
          2015,
          1990,
          2016,
          2008,
          2013,
          2016,
          2006,
          2009,
          2016,
          2016,
          2005,
          2008,
          2017,
          2005,
          2016,
          2017,
          2007,
          2011,
          2016,
          2015,
          2015,
          2018,
          2012,
          2014,
          2000,
          2018,
          2015,
          2018,
          1999,
          2018,
          1971,
          2010,
          2014,
          2016,
          2006,
          2006,
          1994,
          2017,
          2005,
          2016,
          2008,
          2011,
          2005,
          2007,
          2009,
          2018,
          2020,
          1991,
          2017,
          2015,
          1992,
          1993,
          2013,
          2012,
          1970,
          2020,
          2020,
          1986,
          2020,
          1944,
          1993,
          1985,
          2020,
          1991,
          2008,
          2016,
          2019,
          2019,
          2002,
          2019,
          1955,
          2019,
          2017,
          1995,
          2020,
          1936,
          2004,
          1999,
          2020,
          2018,
          2019,
          1963,
          2012,
          2019,
          1995,
          2008,
          2018,
          2010,
          2018,
          2016,
          1974,
          2003,
          1968,
          2016,
          1997,
          2016,
          1987,
          2017,
          2019,
          2019,
          1990,
          1941,
          2018,
          2017,
          2018,
          2017,
          1948,
          2020,
          1980,
          1929,
          2020,
          2000,
          2008,
          1981,
          2017,
          2019,
          2021,
          2020,
          2016,
          1976,
          2018,
          1990,
          2019,
          2016,
          2011,
          2021,
          1966,
          1980,
          2018,
          1973,
          1956,
          2009,
          1948,
          1982,
          2008,
          2018,
          2019,
          2016,
          1941,
          2015,
          2020,
          2020,
          2018,
          2018,
          2019,
          2004,
          2002,
          2019,
          2008,
          2019,
          1984,
          2012,
          2007,
          2001,
          1994,
          2005,
          2008,
          2018,
          2012,
          1991,
          2012,
          2007,
          2019,
          2020,
          1998,
          1969,
          2002,
          2014,
          2019,
          2011,
          2010,
          2006,
          1953,
          2013,
          2018,
          2003,
          2020,
          2018,
          2018,
          2000,
          2014,
          2014,
          1983,
          1978,
          2019,
          2018,
          2016,
          2018,
          2015,
          2014,
          2020,
          2018,
          1940,
          2017,
          1981,
          2017,
          2014,
          1989,
          1984,
          1997,
          2002,
          2017,
          1936,
          2007,
          2019,
          2019,
          1995,
          2018,
          1963,
          2018,
          1975,
          2003,
          2002,
          2018,
          1970,
          2013,
          2019,
          2019,
          2017,
          1992,
          2004,
          2019,
          1998,
          2014,
          2019,
          2019,
          2019,
          2019,
          2016,
          1954,
          1995,
          2020,
          2016,
          2018,
          2012,
          1956,
          2013,
          2019,
          1999,
          1950,
          2017,
          1958,
          2016,
          2020,
          2019,
          2018,
          2014,
          2020,
          2020,
          2016,
          1987,
          2019,
          2014,
          2018,
          1971,
          1996,
          2006,
          1979,
          2020,
          2018,
          2017,
          2020,
          2014,
          2016,
          2016,
          1978,
          2016,
          2016,
          2013,
          2015,
          1960,
          2016,
          2016,
          2020,
          2018,
          1987,
          1993,
          2019,
          2017,
          1972,
          2004,
          2018,
          2014,
          2020,
          2012,
          2018,
          1985,
          2012,
          2016,
          2020,
          2019,
          1967,
          2016,
          1981,
          2016,
          1963,
          1936,
          1979,
          1998,
          1996,
          2018,
          1980,
          2009,
          2018,
          1981,
          2016,
          2008,
          2016,
          1958,
          2019,
          2015,
          2017,
          1936,
          2014,
          2013,
          2012,
          2015,
          2016,
          2020,
          1994,
          1970,
          2014,
          1978,
          2019,
          2011,
          2019,
          2001,
          2018,
          2018,
          2015,
          2017,
          2018,
          2017,
          1983,
          2011,
          1961,
          2010,
          2019,
          1991,
          1984,
          2018,
          2013,
          2019,
          2014,
          2018,
          2019,
          2017,
          2012,
          1990,
          2008,
          2015,
          2012,
          2019,
          2014,
          2000,
          1947,
          2014,
          2008,
          2018,
          2016,
          2006,
          2020,
          2014,
          2018,
          2019,
          1951,
          2007,
          2016,
          2018,
          1992,
          2018,
          2014,
          2004,
          1999,
          2019,
          2019,
          2016,
          1978,
          2017,
          2014,
          2017,
          2003,
          2020,
          2020,
          2009,
          2016,
          1988,
          2019,
          2020,
          2015,
          2018,
          1998,
          2016,
          1991,
          2012,
          2009,
          2018,
          2018,
          1939,
          2016,
          1984,
          1985,
          1976,
          2019,
          2016,
          2014,
          1978,
          2018,
          1992,
          2016,
          1996,
          2020,
          2019,
          2020,
          2019,
          2019,
          1999,
          2015,
          1989,
          2013,
          2018,
          2019,
          1985,
          1981,
          2016,
          1937,
          2019,
          1970,
          1986,
          2008,
          2013,
          1971,
          2019,
          2018,
          2010,
          2019,
          2019,
          1995,
          1972,
          2015,
          2020,
          2020,
          2014,
          2020,
          2011,
          1996,
          2020,
          2017,
          2013,
          2018,
          2016,
          2018,
          2018,
          2019,
          1980,
          2011,
          2014,
          1994,
          2007,
          2000,
          1982,
          2011,
          2020,
          2018,
          2018,
          2018,
          2015,
          1953,
          1950,
          2015,
          1989,
          1994,
          2005,
          2018,
          1996,
          1998,
          2017,
          2019,
          2019,
          2018,
          2017,
          2016,
          1995,
          2012,
          2012,
          1995,
          2015,
          2010,
          2020,
          2000,
          2019,
          2020,
          2020,
          1952,
          2017,
          1974,
          2003,
          2009,
          2019,
          2016,
          2017,
          2017,
          2016,
          2017,
          2017,
          2021,
          2020,
          1996,
          2020,
          2020,
          2017,
          1994,
          2018,
          2016,
          2000,
          2000,
          1976,
          2003,
          1991,
          1989,
          1972,
          1987,
          2001,
          2016,
          1989,
          2016,
          2011,
          2011,
          2007,
          2019,
          1987,
          2013,
          2000,
          2021,
          2009,
          1957,
          2019,
          2007,
          2020,
          1956,
          2016,
          2015,
          2016,
          1952,
          2018,
          2020,
          1955,
          2016,
          2019,
          1996,
          2017,
          2019,
          2016,
          1992,
          2019,
          2017,
          2018,
          1973,
          2018,
          2006,
          2017,
          2008,
          2017,
          2017,
          2011,
          2014,
          2014,
          2016,
          2012,
          2017,
          2016,
          2017,
          2016,
          2007,
          2020,
          2004,
          2017,
          2004,
          1950,
          2007,
          1945,
          2005,
          2002,
          2019,
          2003,
          2021,
          1998,
          2017,
          2016,
          1986,
          2021,
          2021,
          2018,
          2020,
          2020,
          2019,
          2008,
          2020,
          2018,
          2019,
          2020,
          2021,
          2021,
          2019,
          2021,
          2016,
          2020,
          2020,
          1986,
          2015,
          2009,
          2016,
          2011,
          2015,
          2021,
          2012,
          2015,
          2014,
          1992,
          2000,
          2014,
          1954,
          2021,
          1963,
          1951,
          1952,
          2006,
          2009,
          1941,
          2020,
          1987,
          2007,
          2009,
          2011,
          2009,
          2013,
          1998,
          2008,
          2000,
          1997,
          2019,
          2015,
          1999,
          2013,
          2021,
          2010,
          2010,
          2012,
          2002,
          1959,
          2012,
          2017,
          2014,
          2014,
          2013,
          2014,
          2013,
          2016,
          2002,
          1932,
          1961,
          2021,
          2021,
          1941,
          2013,
          1941,
          2015,
          1959,
          1940,
          2012,
          2006,
          2015,
          2021,
          2013,
          2021,
          2019,
          2019,
          1998,
          2014,
          2021,
          2014,
          2016,
          2008,
          2009,
          2016,
          1992,
          1936,
          2016,
          1992,
          2016,
          2014,
          2016,
          2015,
          2017,
          2018,
          2017,
          1984,
          1976,
          1990,
          1988,
          2004,
          2004,
          1993,
          2013,
          2010,
          2005,
          2005,
          2015,
          2015,
          1977,
          2009,
          1977,
          2016,
          1983,
          2008,
          1996,
          1997,
          2016,
          1960,
          2008,
          1971,
          2007,
          2010,
          2018,
          2010,
          2015,
          2015,
          2021,
          1992,
          1943,
          2002,
          2008,
          1959,
          2010,
          2018,
          1987,
          2015,
          1991,
          2010,
          2013,
          2016,
          2011,
          2018,
          2018,
          2018,
          2008,
          2002,
          1998,
          2011,
          2009,
          2017,
          2011,
          2009,
          2018,
          2012,
          2021,
          1988,
          2006,
          1987,
          2017,
          2007,
          1953,
          2008,
          2000,
          2012,
          2002,
          2011,
          1987,
          1996,
          2017,
          2012,
          2000,
          2001,
          2021,
          1988,
          2021,
          2020,
          2008,
          2000,
          2007,
          2012,
          1998,
          2012,
          2010,
          2006,
          1974,
          1974,
          2000,
          2015,
          2004,
          2007,
          1936,
          1989,
          1988,
          1983,
          1972,
          2007,
          2004,
          2002,
          2011,
          2016,
          1993,
          2015,
          2018,
          1992,
          1998,
          2001,
          2012,
          2003,
          1986,
          1998,
          1998,
          2003,
          2014,
          2014,
          2012,
          1972,
          1990,
          1997,
          1998,
          1988,
          1998,
          2001,
          2016,
          1998,
          2010,
          2008,
          1983,
          2011,
          2021,
          2009,
          2010,
          2021,
          1989,
          2015,
          1974,
          1993,
          2013,
          2006,
          2002,
          2013,
          2012,
          2015,
          2013,
          2008,
          2016,
          2014,
          2021,
          2014,
          2016,
          2017,
          2021,
          1990,
          2015,
          2009,
          1995,
          2019,
          2017,
          1995,
          2009,
          2007,
          2015,
          2018,
          2001,
          2007,
          1994,
          1999,
          1998,
          2021,
          2021,
          2013,
          2016,
          2018,
          1997,
          2011,
          2019,
          2014,
          1997,
          2006,
          1971,
          2002,
          1999,
          2007,
          2004,
          2008,
          2000,
          2018,
          2020,
          2020,
          2003,
          1993,
          1992,
          1986,
          1964,
          2014,
          1999,
          2004,
          2006,
          1967,
          2002,
          2019,
          2012,
          2009,
          1982,
          1976,
          1988,
          1973,
          1988,
          2015,
          1986,
          1987,
          2002,
          1980,
          2021,
          1980,
          2005,
          1992,
          2015,
          1991,
          1948,
          1995,
          2004,
          2004,
          2004,
          2009,
          1995,
          1988,
          1994,
          1981,
          1995,
          1978,
          1969,
          2016,
          1998,
          2011,
          1972,
          2014,
          1990,
          2007,
          2009,
          2006,
          1985,
          1959,
          1983,
          2017,
          2010,
          2011,
          2017,
          1966,
          1995,
          1971,
          2009,
          2014,
          2017,
          2012,
          2015,
          2018,
          2000,
          2014,
          1997,
          2020,
          2013,
          2007,
          2010,
          2016,
          2015,
          2017,
          2021,
          1988,
          2017,
          2013,
          2010,
          2017,
          2008,
          2010,
          2006,
          2010,
          2008,
          1975,
          2008,
          1987,
          2003,
          2008,
          2006,
          1995,
          1999,
          2021
         ],
         "xaxis": "x",
         "y": [
          77,
          70,
          86,
          63,
          61,
          59,
          63,
          56,
          56,
          84,
          80,
          56,
          75,
          81,
          58,
          30,
          67,
          77,
          57,
          76,
          62,
          81,
          53,
          71,
          38,
          68,
          68,
          58,
          69,
          78,
          54,
          63,
          59,
          70,
          68,
          69,
          65,
          72,
          48,
          63,
          79,
          79,
          41,
          76,
          55,
          64,
          52,
          46,
          40,
          63,
          73,
          65,
          60,
          52,
          64,
          72,
          47,
          61,
          83,
          57,
          74,
          66,
          66,
          72,
          54,
          66,
          58,
          59,
          59,
          75,
          55,
          72,
          82,
          43,
          66,
          71,
          72,
          71,
          72,
          66,
          60,
          75,
          56,
          82,
          47,
          71,
          68,
          70,
          60,
          71,
          69,
          68,
          83,
          49,
          63,
          63,
          81,
          81,
          59,
          78,
          72,
          51,
          87,
          56,
          88,
          80,
          62,
          69,
          53,
          69,
          60,
          73,
          73,
          65,
          72,
          73,
          52,
          70,
          73,
          63,
          77,
          59,
          67,
          67,
          57,
          71,
          76,
          76,
          76,
          78,
          57,
          81,
          73,
          84,
          53,
          65,
          76,
          76,
          66,
          80,
          66,
          51,
          62,
          65,
          50,
          47,
          62,
          79,
          65,
          57,
          60,
          68,
          61,
          83,
          68,
          67,
          74,
          58,
          55,
          56,
          79,
          59,
          73,
          72,
          85,
          79,
          82,
          74,
          81,
          31,
          71,
          86,
          54,
          65,
          68,
          77,
          76,
          62,
          71,
          53,
          54,
          65,
          62,
          70,
          66,
          79,
          52,
          56,
          74,
          65,
          73,
          75,
          58,
          57,
          65,
          64,
          78,
          76,
          64,
          64,
          51,
          51,
          79,
          60,
          60,
          63,
          66,
          63,
          77,
          61,
          75,
          69,
          61,
          70,
          63,
          65,
          69,
          63,
          83,
          54,
          71,
          62,
          56,
          54,
          77,
          60,
          83,
          78,
          68,
          68,
          76,
          86,
          85,
          91,
          74,
          66,
          65,
          70,
          77,
          70,
          56,
          58,
          76,
          46,
          70,
          70,
          56,
          67,
          75,
          78,
          60,
          62,
          59,
          25,
          72,
          58,
          56,
          56,
          87,
          77,
          78,
          46,
          76,
          73,
          81,
          63,
          63,
          61,
          67,
          65,
          58,
          58,
          64,
          63,
          66,
          78,
          58,
          72,
          86,
          67,
          82,
          66,
          75,
          61,
          82,
          57,
          65,
          76,
          35,
          66,
          59,
          46,
          84,
          73,
          68,
          69,
          67,
          60,
          64,
          65,
          70,
          69,
          78,
          65,
          65,
          68,
          81,
          54,
          79,
          65,
          70,
          70,
          71,
          31,
          49,
          66,
          51,
          67,
          62,
          65,
          65,
          78,
          76,
          52,
          72,
          57,
          40,
          76,
          56,
          57,
          75,
          71,
          71,
          75,
          74,
          83,
          64,
          65,
          81,
          70,
          62,
          82,
          66,
          69,
          87,
          72,
          67,
          75,
          73,
          45,
          43,
          58,
          64,
          61,
          41,
          58,
          84,
          68,
          67,
          64,
          55,
          78,
          52,
          62,
          85,
          42,
          71,
          68,
          69,
          71,
          72,
          57,
          63,
          70,
          59,
          76,
          29,
          86,
          47,
          72,
          69,
          64,
          73,
          66,
          56,
          68,
          68,
          66,
          52,
          53,
          75,
          62,
          66,
          67,
          66,
          68,
          80,
          80,
          68,
          78,
          64,
          68,
          74,
          66,
          74,
          55,
          75,
          73,
          84,
          66,
          67,
          72,
          72,
          77,
          62,
          60,
          72,
          88,
          71,
          51,
          59,
          71,
          79,
          65,
          72,
          66,
          65,
          74,
          66,
          55,
          74,
          82,
          72,
          65,
          55,
          71,
          65,
          84,
          71,
          73,
          44,
          48,
          55,
          65,
          74,
          58,
          54,
          84,
          85,
          70,
          62,
          62,
          85,
          56,
          57,
          68,
          81,
          63,
          68,
          77,
          74,
          56,
          66,
          68,
          73,
          47,
          56,
          72,
          50,
          53,
          53,
          69,
          59,
          52,
          75,
          71,
          74,
          72,
          58,
          59,
          68,
          76,
          77,
          70,
          63,
          85,
          71,
          63,
          54,
          62,
          67,
          73,
          69,
          84,
          66,
          54,
          81,
          71,
          55,
          67,
          64,
          65,
          56,
          62,
          68,
          84,
          51,
          55,
          73,
          68,
          54,
          64,
          71,
          87,
          75,
          80,
          80,
          64,
          68,
          75,
          79,
          74,
          59,
          61,
          64,
          72,
          52,
          58,
          74,
          63,
          76,
          68,
          49,
          61,
          55,
          73,
          45,
          69,
          65,
          35,
          82,
          61,
          75,
          65,
          72,
          52,
          70,
          62,
          78,
          54,
          70,
          61,
          65,
          54,
          57,
          83,
          64,
          72,
          76,
          52,
          89,
          69,
          56,
          55,
          77,
          69,
          78,
          70,
          72,
          56,
          70,
          86,
          70,
          51,
          62,
          82,
          70,
          66,
          82,
          72,
          80,
          76,
          64,
          72,
          67,
          73,
          58,
          34,
          54,
          76,
          63,
          63,
          66,
          66,
          56,
          69,
          78,
          54,
          85,
          78,
          65,
          60,
          65,
          68,
          57,
          65,
          42,
          87,
          70,
          60,
          77,
          56,
          64,
          74,
          40,
          75,
          81,
          73,
          60,
          76,
          56,
          69,
          63,
          56,
          61,
          50,
          61,
          63,
          64,
          57,
          72,
          44,
          79,
          75,
          65,
          84,
          62,
          57,
          70,
          45,
          80,
          65,
          72,
          61,
          63,
          82,
          71,
          69,
          50,
          42,
          73,
          80,
          75,
          52,
          79,
          61,
          69,
          70,
          65,
          76,
          75,
          87,
          65,
          70,
          44,
          67,
          62,
          69,
          63,
          53,
          75,
          59,
          73,
          75,
          67,
          58,
          45,
          74,
          81,
          65,
          63,
          59,
          86,
          68,
          64,
          79,
          75,
          57,
          84,
          37,
          74,
          73,
          67,
          73,
          62,
          74,
          61,
          75,
          60,
          73,
          75,
          74,
          82,
          93,
          76,
          72,
          66,
          57,
          68,
          69,
          80,
          71,
          71,
          68,
          50,
          60,
          80,
          80,
          42,
          65,
          58,
          53,
          72,
          76,
          85,
          79,
          84,
          63,
          63,
          65,
          59,
          82,
          63,
          41,
          53,
          79,
          61,
          51,
          65,
          72,
          66,
          80,
          40,
          76,
          70,
          64,
          51,
          73,
          72,
          85,
          85,
          65,
          65,
          49,
          68,
          68,
          60,
          60,
          79,
          79,
          77,
          77,
          80,
          50,
          71,
          58,
          58,
          55,
          73,
          72,
          81,
          58,
          85,
          60,
          65,
          64,
          64,
          65,
          66,
          76,
          59,
          75,
          62,
          57,
          56,
          64,
          59,
          85,
          61,
          71,
          81,
          79,
          74,
          62,
          78,
          66,
          78,
          81,
          67,
          61,
          84,
          59,
          75,
          55,
          82,
          62,
          65,
          79,
          75,
          47,
          74,
          78,
          43,
          48,
          61,
          84,
          73,
          89,
          51,
          62,
          59,
          73,
          76,
          63,
          75,
          77,
          62,
          49,
          82,
          67,
          74,
          74,
          64,
          65,
          65,
          76,
          74,
          61,
          63,
          63,
          71,
          56,
          58,
          57,
          54,
          72,
          69,
          74,
          64,
          74,
          73,
          59,
          43,
          82,
          81,
          68,
          87,
          69,
          60,
          82,
          77,
          76,
          76,
          62,
          77,
          72,
          35,
          67,
          51,
          76,
          82,
          69,
          80,
          71,
          45,
          87,
          70,
          70,
          71,
          82,
          75,
          62,
          50,
          67,
          79,
          54,
          69,
          58,
          61,
          43,
          78,
          63,
          68,
          71,
          69,
          78,
          73,
          77,
          77,
          48,
          55,
          67,
          69,
          53,
          59,
          57,
          65,
          62,
          62,
          80,
          75,
          58,
          55,
          81,
          76,
          69,
          82,
          72,
          67,
          65,
          63,
          65,
          53,
          78,
          73,
          65,
          63,
          46,
          76,
          66,
          54,
          88,
          71,
          72,
          71,
          67,
          59,
          73,
          73,
          78,
          68,
          58,
          65,
          72,
          81,
          61,
          72,
          76,
          69,
          71,
          70,
          65,
          52,
          84,
          46,
          80,
          81,
          81,
          79,
          39,
          84,
          56,
          66,
          77,
          44,
          85,
          68,
          80,
          66,
          74,
          64,
          78,
          26,
          59,
          74,
          66,
          52,
          65,
          44,
          62,
          70,
          87,
          73,
          81,
          66,
          73,
          80,
          81,
          75,
          69,
          63,
          63,
          69,
          59,
          74,
          69,
          49,
          69,
          60,
          34,
          75,
          66,
          67,
          63,
          75,
          75,
          83,
          74,
          88,
          81,
          75,
          76,
          66,
          52,
          67,
          69,
          74,
          52,
          74,
          49,
          58,
          69,
          80,
          70,
          54,
          71,
          53,
          67,
          43,
          65,
          73,
          79,
          65,
          61,
          65,
          78,
          78,
          68,
          77,
          81,
          78,
          93,
          72,
          74,
          56,
          49,
          64,
          58,
          78,
          69,
          66,
          79,
          69,
          78,
          62,
          71,
          75,
          66,
          70,
          64,
          79,
          64,
          74,
          65,
          69,
          76,
          65,
          69,
          68,
          71,
          46,
          62,
          64,
          73,
          59,
          55,
          76,
          62,
          72,
          63,
          72,
          73,
          78,
          57,
          66,
          74,
          77,
          71,
          69,
          57,
          65,
          69,
          50,
          72,
          69,
          78,
          66,
          68,
          73,
          68,
          66,
          70,
          82,
          69,
          62,
          85,
          77,
          80,
          65,
          68,
          80,
          75,
          65,
          67,
          64,
          65,
          53,
          61,
          75,
          73,
          63,
          59,
          77,
          67,
          70,
          58,
          76,
          77,
          59,
          73,
          59,
          65,
          57,
          84,
          69,
          76,
          57,
          67,
          81,
          49,
          77,
          72,
          76,
          73,
          54,
          64,
          70,
          59,
          86,
          69,
          85,
          76,
          73,
          63,
          77,
          86,
          67,
          77,
          68,
          48,
          58,
          88,
          57,
          71,
          75,
          59,
          53,
          65,
          56,
          66,
          77,
          81,
          70,
          66,
          62,
          83,
          73,
          69,
          67,
          66,
          53,
          81,
          66,
          74,
          60,
          60,
          62,
          71,
          57,
          62,
          75,
          72,
          79,
          65,
          76,
          73,
          83,
          69,
          54,
          74,
          80,
          76,
          56,
          71,
          81,
          57,
          73,
          60,
          53,
          78,
          56,
          72,
          75,
          71,
          50,
          68,
          67,
          55,
          58,
          52,
          79,
          78,
          62,
          68,
          62,
          64,
          66,
          73,
          64,
          65,
          63,
          74,
          76,
          76,
          87,
          56,
          53,
          59,
          61,
          51,
          58,
          52,
          65,
          59,
          70,
          53,
          60,
          63,
          62,
          59,
          59,
          34,
          72,
          87,
          63,
          68,
          65,
          67,
          76,
          53,
          64,
          70,
          48,
          86,
          71,
          54,
          66,
          64,
          78,
          66,
          81,
          80,
          67,
          54,
          78,
          58,
          60,
          77,
          36,
          81,
          58,
          68,
          77,
          72,
          75,
          64,
          66,
          72,
          64,
          58,
          55,
          63,
          67,
          57,
          71,
          33,
          65,
          67,
          62,
          80,
          63,
          52,
          58,
          62,
          64,
          63,
          66,
          65,
          54,
          70,
          70,
          84,
          57,
          50,
          36,
          76,
          74,
          76,
          84,
          83,
          68,
          57,
          83,
          74,
          73,
          67,
          74,
          60,
          78,
          54,
          77,
          59,
          64,
          75,
          78,
          65,
          69,
          63,
          75,
          60,
          63,
          70,
          52,
          70,
          71,
          51,
          66,
          71,
          74,
          74,
          77,
          56,
          88,
          66,
          61,
          62,
          77,
          68,
          70,
          60,
          85,
          65,
          68,
          68,
          61,
          67,
          80,
          68,
          73,
          56,
          83,
          73,
          63,
          63,
          77,
          72,
          59,
          59,
          68,
          79,
          66,
          60,
          81,
          63,
          56,
          73,
          63,
          59,
          54,
          58,
          58,
          74,
          68,
          69,
          66,
          52,
          59,
          82,
          62,
          48,
          62,
          75,
          61,
          75,
          60,
          81,
          74,
          70,
          77,
          62,
          69,
          68,
          67,
          52,
          67,
          50,
          49,
          63,
          60,
          68,
          81,
          81,
          77,
          58,
          35,
          58,
          82,
          59,
          72,
          68,
          66,
          68,
          63,
          68,
          72,
          76,
          57,
          59,
          80,
          72,
          74,
          66,
          70,
          73,
          46,
          72,
          71,
          77,
          73,
          58,
          76,
          72,
          63,
          64,
          76,
          53,
          67,
          49,
          66,
          58,
          55,
          80,
          73,
          70,
          57,
          59,
          67,
          63,
          61,
          53,
          61,
          81,
          73,
          80,
          75,
          48,
          58,
          70,
          54,
          54,
          77,
          77,
          60,
          71,
          55,
          74,
          61,
          79,
          76,
          80,
          79,
          69,
          73,
          72,
          73,
          95,
          76,
          74,
          68,
          68,
          54,
          63,
          66,
          64,
          58,
          73,
          58,
          57,
          57,
          61,
          59,
          61,
          67,
          71,
          68,
          76,
          62,
          62,
          60,
          55,
          74,
          83,
          58,
          71,
          65,
          31,
          46,
          50,
          53,
          70,
          62,
          62,
          64,
          52,
          83,
          70,
          60,
          58,
          73,
          53,
          62,
          71,
          73,
          64,
          53,
          80,
          90,
          60,
          75,
          73,
          62,
          55,
          51,
          65,
          64,
          59,
          62,
          77,
          59,
          50,
          85,
          70,
          72,
          76,
          58,
          63,
          61,
          56,
          62,
          69,
          70,
          88,
          52,
          62,
          77,
          66,
          47,
          80,
          84,
          76,
          57,
          75,
          60,
          59,
          68,
          66,
          56,
          56,
          65,
          66,
          60,
          54,
          65,
          70,
          81,
          76,
          72,
          68,
          70,
          82,
          65,
          55,
          45,
          45,
          74,
          64,
          55,
          67,
          77,
          57,
          51,
          69,
          77,
          69,
          62,
          53,
          68,
          64,
          75,
          73,
          71,
          63,
          74,
          62,
          81,
          50,
          73,
          77,
          72,
          67,
          47,
          64,
          75,
          75,
          52,
          63,
          37,
          42,
          69,
          65,
          67,
          72,
          60,
          60,
          43,
          66,
          57,
          57,
          64,
          67,
          49,
          72,
          67,
          79,
          50,
          77,
          66,
          27,
          69,
          63,
          73,
          54,
          58,
          58,
          55,
          58,
          59,
          64,
          74,
          62,
          74,
          67,
          70,
          73,
          46,
          70,
          57,
          56,
          81,
          79,
          52,
          72,
          63,
          56,
          79,
          60,
          47,
          66,
          62,
          74,
          62,
          29,
          71,
          70,
          87,
          87,
          61,
          61,
          59,
          79,
          79,
          47,
          63,
          54,
          51,
          67,
          77,
          52,
          75,
          44,
          69,
          34,
          57,
          71,
          71,
          70,
          58,
          59,
          76,
          76,
          60,
          73,
          54,
          54,
          66,
          52,
          52,
          77,
          65,
          56,
          83,
          70,
          75,
          74,
          67,
          62,
          58,
          67,
          50,
          70,
          70,
          61,
          75,
          57,
          71,
          71,
          72,
          74,
          82,
          66,
          56,
          60,
          52,
          89,
          64,
          90,
          71,
          63,
          70,
          81,
          75,
          49,
          33,
          63,
          63,
          82,
          65,
          52,
          62,
          56,
          73,
          46,
          44,
          72,
          65,
          87,
          60,
          64,
          55,
          70,
          70,
          68,
          56,
          72,
          74,
          58,
          81,
          70,
          72,
          70,
          67,
          67,
          66,
          85,
          85,
          71,
          67,
          65,
          70,
          79,
          73,
          77,
          75,
          58,
          70,
          65,
          62,
          62,
          67,
          54,
          83,
          76,
          68,
          80,
          56,
          47,
          76,
          66,
          74,
          51,
          51,
          64,
          72,
          67,
          67,
          63,
          55,
          68,
          78,
          60,
          63,
          58,
          73,
          71,
          71,
          69,
          69,
          54,
          49,
          78,
          41,
          79,
          74,
          74,
          56,
          56,
          62,
          62,
          61,
          82,
          75,
          80,
          83,
          61,
          75,
          68,
          58,
          73,
          58,
          74,
          75,
          68,
          79,
          68,
          78,
          78,
          81,
          43,
          70,
          56,
          69,
          53,
          62,
          16,
          67,
          71,
          64,
          73,
          66,
          67,
          57,
          40,
          70,
          61,
          54,
          54,
          71,
          71,
          69,
          43,
          69,
          49,
          62,
          71,
          54,
          77,
          51,
          69,
          69,
          78,
          55,
          64,
          52,
          74,
          51,
          56,
          71,
          58,
          73,
          53,
          82,
          71,
          60,
          67,
          75,
          74,
          81,
          76,
          71,
          87,
          58,
          58,
          76,
          60,
          68,
          55,
          63,
          70,
          51,
          77,
          53,
          53,
          62,
          63,
          72,
          71,
          67,
          73,
          61,
          86,
          60,
          66,
          75,
          56,
          46,
          55,
          72,
          65,
          64,
          47,
          74,
          65,
          62,
          55,
          78,
          61,
          61,
          63,
          76,
          76,
          58,
          52,
          74,
          72,
          61,
          66,
          73,
          69,
          87,
          58,
          58,
          68,
          49,
          62,
          62,
          67,
          60,
          78,
          60,
          63,
          67,
          71,
          78,
          67,
          47,
          69,
          65,
          42,
          54,
          54,
          85,
          41,
          87,
          57,
          76,
          61,
          65,
          66,
          53,
          70,
          57,
          73,
          68,
          52,
          63,
          86,
          59,
          68,
          68,
          52,
          67,
          82,
          65,
          57,
          85,
          61,
          71,
          65,
          77,
          95,
          46,
          81,
          64,
          78,
          60,
          69,
          69,
          77,
          67,
          89,
          66,
          66,
          57,
          67,
          82,
          57,
          63,
          76,
          83,
          44,
          63,
          64,
          62,
          74,
          71,
          61,
          76,
          58,
          71,
          78,
          53,
          73,
          57,
          60,
          81,
          81,
          73,
          68,
          68,
          53,
          81,
          80,
          73,
          71,
          67,
          56,
          70,
          60,
          53,
          69,
          83,
          44,
          75,
          63,
          49,
          53,
          53,
          77,
          62,
          35,
          90,
          60,
          75,
          63,
          56,
          74,
          74,
          82,
          54,
          85,
          45,
          45,
          40,
          60,
          91,
          76,
          56,
          79,
          47,
          68,
          65,
          49,
          70,
          56,
          46,
          45,
          65,
          53,
          80,
          50,
          69,
          62,
          62,
          61,
          69,
          61,
          63,
          63,
          67,
          64,
          70,
          67,
          85,
          62,
          81,
          56,
          52,
          49,
          71,
          73,
          69,
          58,
          68,
          76,
          68,
          45,
          55,
          55,
          74,
          66,
          76,
          51,
          71,
          73,
          62,
          69,
          63,
          65,
          58,
          26,
          68,
          63,
          65,
          81,
          62,
          51,
          71,
          68,
          59,
          64,
          58,
          63,
          57,
          68,
          68,
          68,
          68,
          57,
          63,
          59,
          68,
          55,
          56,
          60,
          67,
          58,
          59,
          74,
          43,
          72,
          59,
          61,
          62,
          43,
          43,
          67,
          61,
          61,
          72,
          62,
          67,
          64,
          64,
          64,
          75,
          72,
          69,
          51,
          71,
          85,
          42,
          47,
          44,
          51,
          72,
          65,
          74,
          68,
          62,
          78,
          51,
          64,
          37,
          65,
          79,
          64,
          56,
          55,
          52,
          63,
          57,
          66,
          58,
          39,
          81,
          54,
          46,
          73,
          51,
          68,
          84,
          84,
          60,
          65,
          63,
          56,
          64,
          64,
          67,
          63,
          80,
          76,
          68,
          70,
          66,
          57,
          57,
          74,
          58,
          84,
          69,
          71,
          55,
          90,
          88,
          38,
          68,
          87,
          72,
          67,
          62,
          63,
          58,
          54,
          65,
          76,
          74,
          57,
          70,
          66,
          63,
          65,
          60,
          66,
          80,
          72,
          73,
          66,
          46,
          65,
          80,
          57,
          81,
          71,
          60,
          64,
          48,
          48,
          64,
          47,
          67,
          70,
          68,
          61,
          64,
          49,
          58,
          78,
          78,
          71,
          54,
          68,
          69,
          64,
          74,
          60,
          59,
          71,
          58,
          57,
          81,
          54,
          64,
          65,
          70,
          48,
          48,
          70,
          61,
          89,
          69,
          65,
          65,
          64,
          64,
          70,
          68,
          76,
          67,
          79,
          58,
          66,
          82,
          65,
          65,
          67,
          56,
          56,
          76,
          81,
          69,
          62,
          58,
          71,
          53,
          72,
          74,
          74,
          88,
          60,
          74,
          79,
          62,
          53,
          74,
          52,
          52,
          82,
          66,
          67,
          67,
          63,
          58,
          62,
          72,
          58,
          74,
          61,
          69,
          79,
          55,
          66,
          47,
          63,
          44,
          49,
          68,
          78,
          71,
          66,
          57,
          60,
          60,
          67,
          46,
          44,
          42,
          56,
          63,
          54,
          77,
          76,
          60,
          82,
          43,
          70,
          73,
          64,
          54,
          78,
          75,
          67,
          56,
          60,
          58,
          79,
          62,
          63,
          60,
          70,
          63,
          70,
          58,
          77,
          44,
          67,
          73,
          74,
          72,
          59,
          61,
          51,
          74,
          65,
          73,
          72,
          78,
          74,
          50,
          59,
          64,
          74,
          59,
          74,
          50,
          69,
          65,
          71,
          90,
          76,
          66,
          60,
          78,
          69,
          82,
          87,
          58,
          73,
          79,
          56,
          76,
          35,
          72,
          75,
          64,
          58,
          70,
          66,
          46,
          19,
          80,
          65,
          29,
          55,
          87,
          65,
          73,
          79,
          38,
          62,
          81,
          76,
          85,
          76,
          82,
          58,
          62,
          78,
          63,
          76,
          62,
          75,
          84,
          79,
          78,
          66,
          74,
          70,
          74,
          67,
          71,
          71,
          72,
          68,
          21,
          52,
          68,
          86,
          57,
          72,
          78,
          87,
          75,
          75,
          71,
          71,
          66,
          49,
          73,
          81,
          78,
          50,
          58,
          60,
          55,
          81,
          73,
          84,
          41,
          80,
          63,
          82,
          72,
          62,
          19,
          77,
          57,
          84,
          75,
          50,
          59,
          68,
          82,
          73,
          58,
          62,
          70,
          41,
          70,
          65,
          83,
          64,
          74,
          67,
          58,
          53,
          66,
          71,
          74,
          80,
          71,
          62,
          86,
          86,
          81,
          71,
          74,
          64,
          67,
          69,
          66,
          76,
          73,
          66,
          80,
          57,
          54,
          70,
          72,
          48,
          55,
          74,
          35,
          62,
          83,
          59,
          76,
          68,
          75,
          50,
          74,
          59,
          77,
          74,
          78,
          54,
          79,
          62,
          63,
          65,
          54,
          64,
          79,
          83,
          60,
          74,
          63,
          63,
          79,
          69,
          33,
          79,
          72,
          70,
          60,
          76,
          59,
          78,
          79,
          70,
          82,
          81,
          62,
          83,
          72,
          43,
          70,
          61,
          81,
          78,
          70,
          82,
          57,
          62,
          87,
          71,
          72,
          83,
          64,
          57,
          53,
          51,
          70,
          64,
          79,
          55,
          86,
          66,
          52,
          61,
          66,
          87,
          67,
          78,
          52,
          67,
          54,
          45,
          48,
          59,
          67,
          65,
          66,
          68,
          53,
          67,
          80,
          70,
          71,
          69,
          72,
          72,
          82,
          38,
          70,
          68,
          51,
          71,
          54,
          61,
          78,
          80,
          54,
          67,
          83,
          56,
          61,
          65,
          83,
          78,
          64,
          83,
          61,
          71,
          66,
          71,
          72,
          56,
          57,
          47,
          69,
          73,
          72,
          53,
          54,
          59,
          93,
          65,
          74,
          82,
          65,
          73,
          68,
          58,
          41,
          70,
          72,
          76,
          72,
          63,
          77,
          68,
          77,
          66,
          76,
          67,
          84,
          62,
          61,
          58,
          69,
          74,
          63,
          70,
          64,
          75,
          54,
          69,
          67,
          36,
          57,
          76,
          59,
          46,
          56,
          63,
          77,
          68,
          66,
          74,
          61,
          53,
          61,
          61,
          54,
          75,
          59,
          57,
          49,
          66,
          73,
          60,
          51,
          54,
          54,
          62,
          66,
          54,
          58,
          54,
          49,
          35,
          63,
          57,
          60,
          63,
          76,
          75,
          79,
          59,
          74,
          64,
          72,
          30,
          69,
          72,
          68,
          60,
          75,
          36,
          82,
          69,
          66,
          65,
          57,
          72,
          57,
          57,
          59,
          74,
          75,
          57,
          54,
          63,
          62,
          59,
          67,
          60,
          65,
          58,
          61,
          47,
          53,
          71,
          56,
          46,
          73,
          72,
          56,
          66,
          58,
          65,
          57,
          48,
          68,
          70,
          55,
          72,
          38,
          55,
          48,
          59,
          54,
          62,
          42,
          59,
          47,
          73,
          70,
          63,
          75,
          65,
          53,
          64,
          66,
          73,
          43,
          72,
          62,
          63,
          80,
          47,
          51,
          62,
          58,
          65,
          64,
          66,
          56,
          41,
          78,
          73,
          77,
          74,
          50,
          41,
          59,
          69,
          53,
          64,
          78,
          51,
          73,
          76,
          71,
          61,
          58,
          66,
          72,
          68,
          61,
          53,
          48,
          73,
          59,
          67,
          66,
          60,
          57,
          55,
          77,
          54,
          66,
          75,
          56,
          29,
          83,
          60,
          71,
          61,
          77,
          67,
          65,
          71,
          53,
          62,
          57,
          57,
          75,
          43,
          56,
          71,
          59,
          53,
          81,
          71,
          74,
          39,
          38,
          76,
          60,
          59,
          73,
          45,
          61,
          67,
          56,
          40,
          61,
          58,
          62,
          58,
          56,
          66,
          68,
          84,
          22,
          68,
          54,
          73,
          57,
          55,
          67,
          62,
          63,
          62,
          61,
          72,
          85,
          67,
          68,
          63,
          79,
          66,
          66,
          73,
          50,
          65,
          61,
          66,
          84,
          68,
          81,
          69,
          77,
          71,
          58,
          68,
          64,
          60,
          36,
          71,
          43,
          75,
          78,
          51,
          57,
          86,
          73,
          35,
          79,
          67,
          73,
          63,
          62,
          71,
          45,
          60,
          56,
          60,
          72,
          51,
          57,
          59,
          67,
          50,
          59,
          68,
          43,
          40,
          49,
          65,
          48,
          65,
          42,
          77,
          68,
          65,
          57,
          63,
          64,
          56,
          72,
          56,
          51,
          53,
          63,
          64,
          32,
          79,
          76,
          64,
          68,
          61,
          60,
          78,
          44,
          56,
          69,
          56,
          64,
          70,
          60,
          53,
          64,
          67,
          53,
          62,
          74,
          58,
          59,
          60,
          60,
          37,
          53,
          70,
          67,
          67,
          46,
          70,
          56,
          63,
          47,
          67,
          68,
          61,
          59,
          75,
          65,
          71,
          74,
          66,
          65,
          47,
          73,
          71,
          80,
          48,
          67,
          62,
          68,
          47,
          71,
          52,
          65,
          54,
          66,
          70,
          43,
          68,
          76,
          59,
          76,
          69,
          76,
          68,
          54,
          69,
          41,
          47,
          63,
          62,
          64,
          71,
          56,
          63,
          59,
          76,
          50,
          62,
          69,
          63,
          79,
          78,
          62,
          56,
          53,
          65,
          52,
          47,
          65,
          68,
          63,
          57,
          61,
          59,
          68,
          60,
          54,
          60,
          49,
          54,
          70,
          71,
          63,
          63,
          61,
          63,
          57,
          39,
          81,
          72,
          51,
          60,
          67,
          43,
          57,
          58,
          63,
          59,
          66,
          60,
          62,
          80,
          67,
          60,
          60,
          80,
          34,
          51,
          43,
          58,
          65,
          55,
          60,
          69,
          58,
          60,
          67,
          44,
          51,
          68,
          47,
          65,
          61,
          53,
          66,
          63,
          67,
          77,
          68,
          57,
          68,
          78,
          63,
          68,
          53,
          64,
          32,
          53,
          57,
          64,
          63,
          58,
          70,
          61,
          71,
          47,
          70,
          49,
          61,
          84,
          73,
          57,
          50,
          34,
          72,
          55,
          40,
          57,
          70,
          53,
          43,
          57,
          45,
          62,
          70,
          59,
          60,
          65,
          55,
          44,
          71,
          72,
          70,
          75,
          62,
          68,
          65,
          67,
          74,
          64,
          67,
          78,
          58,
          63,
          56,
          55,
          39,
          36,
          70,
          66,
          79,
          61,
          70,
          48,
          72,
          57,
          35,
          67,
          64,
          62,
          56,
          60,
          65,
          67,
          61,
          68,
          61,
          45,
          70,
          73,
          47,
          72,
          50,
          80,
          54,
          57,
          72,
          78,
          60,
          48,
          55,
          64,
          54,
          66,
          74,
          73,
          61,
          48,
          68,
          60,
          63,
          65,
          54,
          66,
          76,
          62,
          74,
          51,
          48,
          61,
          76,
          82,
          48,
          58,
          68,
          68,
          80,
          47,
          68,
          53,
          57,
          67,
          62,
          78,
          48,
          69,
          62,
          67,
          63,
          57,
          56,
          73,
          74,
          65,
          69,
          66,
          63,
          64,
          79,
          70,
          71,
          63,
          79,
          57,
          58,
          52,
          65,
          77,
          63,
          66,
          52,
          48,
          62,
          52,
          65,
          32,
          67,
          79,
          28,
          63,
          57,
          63,
          61,
          74,
          62,
          80,
          62,
          70,
          78,
          55,
          73,
          71
         ],
         "yaxis": "y"
        }
       ],
       "layout": {
        "coloraxis": {
         "colorbar": {
          "title": {
           "text": "Rotten Tomatoes"
          }
         },
         "colorscale": [
          [
           0,
           "#0f79af"
          ],
          [
           0.08333333333333333,
           "#5287c1"
          ],
          [
           0.16666666666666666,
           "#7b95d0"
          ],
          [
           0.25,
           "#a0a3de"
          ],
          [
           0.3333333333333333,
           "#c2b2ea"
          ],
          [
           0.4166666666666667,
           "#e2c1f5"
          ],
          [
           0.5,
           "#ffd2ff"
          ],
          [
           0.5833333333333334,
           "#ffb5ea"
          ],
          [
           0.6666666666666666,
           "#ff96cc"
          ],
          [
           0.75,
           "#ff76a7"
          ],
          [
           0.8333333333333334,
           "#ff547c"
          ],
          [
           0.9166666666666666,
           "#f9314c"
          ],
          [
           1,
           "#e50914"
          ]
         ]
        },
        "font": {
         "color": "white",
         "family": "Arial, san serif",
         "size": 15
        },
        "hoverlabel": {
         "bordercolor": "#212529"
        },
        "legend": {
         "tracegroupgap": 0
        },
        "margin": {
         "b": 10,
         "l": 10,
         "r": 10,
         "t": 10
        },
        "paper_bgcolor": "#212529",
        "plot_bgcolor": "rgba(0, 0, 0, 0)",
        "template": {
         "data": {
          "bar": [
           {
            "error_x": {
             "color": "#2a3f5f"
            },
            "error_y": {
             "color": "#2a3f5f"
            },
            "marker": {
             "line": {
              "color": "#E5ECF6",
              "width": 0.5
             },
             "pattern": {
              "fillmode": "overlay",
              "size": 10,
              "solidity": 0.2
             }
            },
            "type": "bar"
           }
          ],
          "barpolar": [
           {
            "marker": {
             "line": {
              "color": "#E5ECF6",
              "width": 0.5
             },
             "pattern": {
              "fillmode": "overlay",
              "size": 10,
              "solidity": 0.2
             }
            },
            "type": "barpolar"
           }
          ],
          "carpet": [
           {
            "aaxis": {
             "endlinecolor": "#2a3f5f",
             "gridcolor": "white",
             "linecolor": "white",
             "minorgridcolor": "white",
             "startlinecolor": "#2a3f5f"
            },
            "baxis": {
             "endlinecolor": "#2a3f5f",
             "gridcolor": "white",
             "linecolor": "white",
             "minorgridcolor": "white",
             "startlinecolor": "#2a3f5f"
            },
            "type": "carpet"
           }
          ],
          "choropleth": [
           {
            "colorbar": {
             "outlinewidth": 0,
             "ticks": ""
            },
            "type": "choropleth"
           }
          ],
          "contour": [
           {
            "colorbar": {
             "outlinewidth": 0,
             "ticks": ""
            },
            "colorscale": [
             [
              0,
              "#0d0887"
             ],
             [
              0.1111111111111111,
              "#46039f"
             ],
             [
              0.2222222222222222,
              "#7201a8"
             ],
             [
              0.3333333333333333,
              "#9c179e"
             ],
             [
              0.4444444444444444,
              "#bd3786"
             ],
             [
              0.5555555555555556,
              "#d8576b"
             ],
             [
              0.6666666666666666,
              "#ed7953"
             ],
             [
              0.7777777777777778,
              "#fb9f3a"
             ],
             [
              0.8888888888888888,
              "#fdca26"
             ],
             [
              1,
              "#f0f921"
             ]
            ],
            "type": "contour"
           }
          ],
          "contourcarpet": [
           {
            "colorbar": {
             "outlinewidth": 0,
             "ticks": ""
            },
            "type": "contourcarpet"
           }
          ],
          "heatmap": [
           {
            "colorbar": {
             "outlinewidth": 0,
             "ticks": ""
            },
            "colorscale": [
             [
              0,
              "#0d0887"
             ],
             [
              0.1111111111111111,
              "#46039f"
             ],
             [
              0.2222222222222222,
              "#7201a8"
             ],
             [
              0.3333333333333333,
              "#9c179e"
             ],
             [
              0.4444444444444444,
              "#bd3786"
             ],
             [
              0.5555555555555556,
              "#d8576b"
             ],
             [
              0.6666666666666666,
              "#ed7953"
             ],
             [
              0.7777777777777778,
              "#fb9f3a"
             ],
             [
              0.8888888888888888,
              "#fdca26"
             ],
             [
              1,
              "#f0f921"
             ]
            ],
            "type": "heatmap"
           }
          ],
          "heatmapgl": [
           {
            "colorbar": {
             "outlinewidth": 0,
             "ticks": ""
            },
            "colorscale": [
             [
              0,
              "#0d0887"
             ],
             [
              0.1111111111111111,
              "#46039f"
             ],
             [
              0.2222222222222222,
              "#7201a8"
             ],
             [
              0.3333333333333333,
              "#9c179e"
             ],
             [
              0.4444444444444444,
              "#bd3786"
             ],
             [
              0.5555555555555556,
              "#d8576b"
             ],
             [
              0.6666666666666666,
              "#ed7953"
             ],
             [
              0.7777777777777778,
              "#fb9f3a"
             ],
             [
              0.8888888888888888,
              "#fdca26"
             ],
             [
              1,
              "#f0f921"
             ]
            ],
            "type": "heatmapgl"
           }
          ],
          "histogram": [
           {
            "marker": {
             "pattern": {
              "fillmode": "overlay",
              "size": 10,
              "solidity": 0.2
             }
            },
            "type": "histogram"
           }
          ],
          "histogram2d": [
           {
            "colorbar": {
             "outlinewidth": 0,
             "ticks": ""
            },
            "colorscale": [
             [
              0,
              "#0d0887"
             ],
             [
              0.1111111111111111,
              "#46039f"
             ],
             [
              0.2222222222222222,
              "#7201a8"
             ],
             [
              0.3333333333333333,
              "#9c179e"
             ],
             [
              0.4444444444444444,
              "#bd3786"
             ],
             [
              0.5555555555555556,
              "#d8576b"
             ],
             [
              0.6666666666666666,
              "#ed7953"
             ],
             [
              0.7777777777777778,
              "#fb9f3a"
             ],
             [
              0.8888888888888888,
              "#fdca26"
             ],
             [
              1,
              "#f0f921"
             ]
            ],
            "type": "histogram2d"
           }
          ],
          "histogram2dcontour": [
           {
            "colorbar": {
             "outlinewidth": 0,
             "ticks": ""
            },
            "colorscale": [
             [
              0,
              "#0d0887"
             ],
             [
              0.1111111111111111,
              "#46039f"
             ],
             [
              0.2222222222222222,
              "#7201a8"
             ],
             [
              0.3333333333333333,
              "#9c179e"
             ],
             [
              0.4444444444444444,
              "#bd3786"
             ],
             [
              0.5555555555555556,
              "#d8576b"
             ],
             [
              0.6666666666666666,
              "#ed7953"
             ],
             [
              0.7777777777777778,
              "#fb9f3a"
             ],
             [
              0.8888888888888888,
              "#fdca26"
             ],
             [
              1,
              "#f0f921"
             ]
            ],
            "type": "histogram2dcontour"
           }
          ],
          "mesh3d": [
           {
            "colorbar": {
             "outlinewidth": 0,
             "ticks": ""
            },
            "type": "mesh3d"
           }
          ],
          "parcoords": [
           {
            "line": {
             "colorbar": {
              "outlinewidth": 0,
              "ticks": ""
             }
            },
            "type": "parcoords"
           }
          ],
          "pie": [
           {
            "automargin": true,
            "type": "pie"
           }
          ],
          "scatter": [
           {
            "marker": {
             "colorbar": {
              "outlinewidth": 0,
              "ticks": ""
             }
            },
            "type": "scatter"
           }
          ],
          "scatter3d": [
           {
            "line": {
             "colorbar": {
              "outlinewidth": 0,
              "ticks": ""
             }
            },
            "marker": {
             "colorbar": {
              "outlinewidth": 0,
              "ticks": ""
             }
            },
            "type": "scatter3d"
           }
          ],
          "scattercarpet": [
           {
            "marker": {
             "colorbar": {
              "outlinewidth": 0,
              "ticks": ""
             }
            },
            "type": "scattercarpet"
           }
          ],
          "scattergeo": [
           {
            "marker": {
             "colorbar": {
              "outlinewidth": 0,
              "ticks": ""
             }
            },
            "type": "scattergeo"
           }
          ],
          "scattergl": [
           {
            "marker": {
             "colorbar": {
              "outlinewidth": 0,
              "ticks": ""
             }
            },
            "type": "scattergl"
           }
          ],
          "scattermapbox": [
           {
            "marker": {
             "colorbar": {
              "outlinewidth": 0,
              "ticks": ""
             }
            },
            "type": "scattermapbox"
           }
          ],
          "scatterpolar": [
           {
            "marker": {
             "colorbar": {
              "outlinewidth": 0,
              "ticks": ""
             }
            },
            "type": "scatterpolar"
           }
          ],
          "scatterpolargl": [
           {
            "marker": {
             "colorbar": {
              "outlinewidth": 0,
              "ticks": ""
             }
            },
            "type": "scatterpolargl"
           }
          ],
          "scatterternary": [
           {
            "marker": {
             "colorbar": {
              "outlinewidth": 0,
              "ticks": ""
             }
            },
            "type": "scatterternary"
           }
          ],
          "surface": [
           {
            "colorbar": {
             "outlinewidth": 0,
             "ticks": ""
            },
            "colorscale": [
             [
              0,
              "#0d0887"
             ],
             [
              0.1111111111111111,
              "#46039f"
             ],
             [
              0.2222222222222222,
              "#7201a8"
             ],
             [
              0.3333333333333333,
              "#9c179e"
             ],
             [
              0.4444444444444444,
              "#bd3786"
             ],
             [
              0.5555555555555556,
              "#d8576b"
             ],
             [
              0.6666666666666666,
              "#ed7953"
             ],
             [
              0.7777777777777778,
              "#fb9f3a"
             ],
             [
              0.8888888888888888,
              "#fdca26"
             ],
             [
              1,
              "#f0f921"
             ]
            ],
            "type": "surface"
           }
          ],
          "table": [
           {
            "cells": {
             "fill": {
              "color": "#EBF0F8"
             },
             "line": {
              "color": "white"
             }
            },
            "header": {
             "fill": {
              "color": "#C8D4E3"
             },
             "line": {
              "color": "white"
             }
            },
            "type": "table"
           }
          ]
         },
         "layout": {
          "annotationdefaults": {
           "arrowcolor": "#2a3f5f",
           "arrowhead": 0,
           "arrowwidth": 1
          },
          "autotypenumbers": "strict",
          "coloraxis": {
           "colorbar": {
            "outlinewidth": 0,
            "ticks": ""
           }
          },
          "colorscale": {
           "diverging": [
            [
             0,
             "#8e0152"
            ],
            [
             0.1,
             "#c51b7d"
            ],
            [
             0.2,
             "#de77ae"
            ],
            [
             0.3,
             "#f1b6da"
            ],
            [
             0.4,
             "#fde0ef"
            ],
            [
             0.5,
             "#f7f7f7"
            ],
            [
             0.6,
             "#e6f5d0"
            ],
            [
             0.7,
             "#b8e186"
            ],
            [
             0.8,
             "#7fbc41"
            ],
            [
             0.9,
             "#4d9221"
            ],
            [
             1,
             "#276419"
            ]
           ],
           "sequential": [
            [
             0,
             "#0d0887"
            ],
            [
             0.1111111111111111,
             "#46039f"
            ],
            [
             0.2222222222222222,
             "#7201a8"
            ],
            [
             0.3333333333333333,
             "#9c179e"
            ],
            [
             0.4444444444444444,
             "#bd3786"
            ],
            [
             0.5555555555555556,
             "#d8576b"
            ],
            [
             0.6666666666666666,
             "#ed7953"
            ],
            [
             0.7777777777777778,
             "#fb9f3a"
            ],
            [
             0.8888888888888888,
             "#fdca26"
            ],
            [
             1,
             "#f0f921"
            ]
           ],
           "sequentialminus": [
            [
             0,
             "#0d0887"
            ],
            [
             0.1111111111111111,
             "#46039f"
            ],
            [
             0.2222222222222222,
             "#7201a8"
            ],
            [
             0.3333333333333333,
             "#9c179e"
            ],
            [
             0.4444444444444444,
             "#bd3786"
            ],
            [
             0.5555555555555556,
             "#d8576b"
            ],
            [
             0.6666666666666666,
             "#ed7953"
            ],
            [
             0.7777777777777778,
             "#fb9f3a"
            ],
            [
             0.8888888888888888,
             "#fdca26"
            ],
            [
             1,
             "#f0f921"
            ]
           ]
          },
          "colorway": [
           "#636efa",
           "#EF553B",
           "#00cc96",
           "#ab63fa",
           "#FFA15A",
           "#19d3f3",
           "#FF6692",
           "#B6E880",
           "#FF97FF",
           "#FECB52"
          ],
          "font": {
           "color": "#2a3f5f"
          },
          "geo": {
           "bgcolor": "white",
           "lakecolor": "white",
           "landcolor": "#E5ECF6",
           "showlakes": true,
           "showland": true,
           "subunitcolor": "white"
          },
          "hoverlabel": {
           "align": "left"
          },
          "hovermode": "closest",
          "mapbox": {
           "style": "light"
          },
          "paper_bgcolor": "white",
          "plot_bgcolor": "#E5ECF6",
          "polar": {
           "angularaxis": {
            "gridcolor": "white",
            "linecolor": "white",
            "ticks": ""
           },
           "bgcolor": "#E5ECF6",
           "radialaxis": {
            "gridcolor": "white",
            "linecolor": "white",
            "ticks": ""
           }
          },
          "scene": {
           "xaxis": {
            "backgroundcolor": "#E5ECF6",
            "gridcolor": "white",
            "gridwidth": 2,
            "linecolor": "white",
            "showbackground": true,
            "ticks": "",
            "zerolinecolor": "white"
           },
           "yaxis": {
            "backgroundcolor": "#E5ECF6",
            "gridcolor": "white",
            "gridwidth": 2,
            "linecolor": "white",
            "showbackground": true,
            "ticks": "",
            "zerolinecolor": "white"
           },
           "zaxis": {
            "backgroundcolor": "#E5ECF6",
            "gridcolor": "white",
            "gridwidth": 2,
            "linecolor": "white",
            "showbackground": true,
            "ticks": "",
            "zerolinecolor": "white"
           }
          },
          "shapedefaults": {
           "line": {
            "color": "#2a3f5f"
           }
          },
          "ternary": {
           "aaxis": {
            "gridcolor": "white",
            "linecolor": "white",
            "ticks": ""
           },
           "baxis": {
            "gridcolor": "white",
            "linecolor": "white",
            "ticks": ""
           },
           "bgcolor": "#E5ECF6",
           "caxis": {
            "gridcolor": "white",
            "linecolor": "white",
            "ticks": ""
           }
          },
          "title": {
           "x": 0.05
          },
          "xaxis": {
           "automargin": true,
           "gridcolor": "white",
           "linecolor": "white",
           "ticks": "",
           "title": {
            "standoff": 15
           },
           "zerolinecolor": "white",
           "zerolinewidth": 2
          },
          "yaxis": {
           "automargin": true,
           "gridcolor": "white",
           "linecolor": "white",
           "ticks": "",
           "title": {
            "standoff": 15
           },
           "zerolinecolor": "white",
           "zerolinewidth": 2
          }
         }
        },
        "xaxis": {
         "anchor": "y",
         "domain": [
          0,
          1
         ],
         "showgrid": false,
         "title": {}
        },
        "yaxis": {
         "anchor": "x",
         "domain": [
          0,
          1
         ],
         "gridcolor": "rgba(225, 225, 225, .5)",
         "title": {
          "text": "iMDb Reating"
         }
        }
       }
      }
     },
     "metadata": {},
     "output_type": "display_data"
    }
   ],
   "source": [
    "df = data.copy()\n",
    "df = df[['title','release_year', 'rottenTomatoes', 'imDbRating', 'amazon', 'netflix']]\n",
    "df.replace('no_data', np.nan, inplace  = True)\n",
    "df.dropna(inplace=True)\n",
    "df = df.astype({'rottenTomatoes':'float','imDbRating':'float'})\n",
    "title = []\n",
    "release_year = []\n",
    "rottenTomatoe = []\n",
    "imdb = []\n",
    "distr = []\n",
    "for i, x in df.iterrows():\n",
    "    if x['amazon'] == 1.0:\n",
    "        title.append(x['title'])\n",
    "        release_year.append(x['release_year'])\n",
    "        rottenTomatoe.append(x['rottenTomatoes'])\n",
    "        imdb.append(x['imDbRating'])\n",
    "        distr.append('Amazon')\n",
    "    if x['netflix'] == 1.0:\n",
    "        title.append(x['title'])\n",
    "        release_year.append(x['release_year'])\n",
    "        rottenTomatoe.append(x['rottenTomatoes'])\n",
    "        imdb.append(x['imDbRating'])\n",
    "        distr.append('Netflix')\n",
    "\n",
    "df = pd.DataFrame()\n",
    "df['title'] = title\n",
    "df['release_year'] = release_year\n",
    "df['rottenTomatoes'] = rottenTomatoe\n",
    "df['imDbRating'] = imdb\n",
    "df['distributer'] = distr\n",
    "fig = px.scatter(df, x='release_year', y='imDbRating', color='rottenTomatoes', hover_name=\"title\", hover_data=['distributer'], color_continuous_scale=colors)\n",
    "fig.update_traces( marker=dict(line=dict(width=2), size=12),textfont=dict(family=\"Arial, san serif\",size=16,color=\"#212529\"),hoverlabel=dict(font_size=14,font_family=\"Arial, san serif\", font_color='white'))\n",
    "\n",
    "fig.update_layout(\n",
    "    margin=margin, xaxis_showgrid=False,\n",
    "    yaxis_title=\"iMDb Reating\", yaxis_gridcolor ='rgba(225, 225, 225, .5)',hoverlabel_bordercolor='#212529',\n",
    "        paper_bgcolor=\"#212529\", plot_bgcolor = 'rgba(0, 0, 0, 0)',\n",
    "        xaxis_title=None,\n",
    "        font=dict(\n",
    "            family=\"Arial, san serif\",\n",
    "            size=15,\n",
    "            color=\"white\"\n",
    "        ) \n",
    "    )\n",
    "fig.layout.coloraxis.colorbar.title = \"Rotten Tomatoes\"\n",
    "fig.write_html('visualization/thirtyone.html') \n",
    "fig.show()"
   ]
  }
 ],
 "metadata": {
  "kernelspec": {
   "display_name": "Python 3.9.4 64-bit",
   "language": "python",
   "name": "python3"
  },
  "language_info": {
   "codemirror_mode": {
    "name": "ipython",
    "version": 3
   },
   "file_extension": ".py",
   "mimetype": "text/x-python",
   "name": "python",
   "nbconvert_exporter": "python",
   "pygments_lexer": "ipython3",
   "version": "3.9.4"
  },
  "orig_nbformat": 4,
  "vscode": {
   "interpreter": {
    "hash": "aee8b7b246df8f9039afb4144a1f6fd8d2ca17a180786b69acc140d282b71a49"
   }
  }
 },
 "nbformat": 4,
 "nbformat_minor": 2
}
